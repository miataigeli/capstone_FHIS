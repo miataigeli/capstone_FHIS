{
 "cells": [
  {
   "cell_type": "markdown",
   "id": "industrial-battle",
   "metadata": {},
   "source": [
    "- Google doc for Spanish resources: \n",
    "https://docs.google.com/document/d/1DyHY8xE64xzEcLdQPd1EAW1Dml42mclyHhjgUg0fyQU/edit?usp=sharing\n",
    "\n",
    "- week 1 checklist & brainstorming: \n",
    "https://docs.google.com/document/d/1hq8l1sdJwwrGKK8m07a2kdxs1ZXDPXTYMVuo_MCEdAw/edit?usp=sharing "
   ]
  },
  {
   "cell_type": "code",
   "execution_count": null,
   "id": "eleven-drawing",
   "metadata": {},
   "outputs": [],
   "source": []
  }
 ],
 "metadata": {
  "kernelspec": {
   "display_name": "Python 3",
   "language": "python",
   "name": "python3"
  },
  "language_info": {
   "codemirror_mode": {
    "name": "ipython",
    "version": 3
   },
   "file_extension": ".py",
   "mimetype": "text/x-python",
   "name": "python",
   "nbconvert_exporter": "python",
   "pygments_lexer": "ipython3",
   "version": "3.8.3"
  }
 },
 "nbformat": 4,
 "nbformat_minor": 5
}
