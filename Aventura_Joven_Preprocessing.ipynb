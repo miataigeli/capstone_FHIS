{
  "nbformat": 4,
  "nbformat_minor": 0,
  "metadata": {
    "colab": {
      "name": "Aventura Joven Preprocessing.ipynb",
      "provenance": [],
      "collapsed_sections": []
    },
    "kernelspec": {
      "name": "python3",
      "display_name": "Python 3"
    },
    "language_info": {
      "name": "python"
    }
  },
  "cells": [
    {
      "cell_type": "markdown",
      "metadata": {
        "id": "OotNOM4KF5QT"
      },
      "source": [
        "Pipeline for Extracting Text from Aventura Joven Books"
      ]
    },
    {
      "cell_type": "code",
      "metadata": {
        "colab": {
          "base_uri": "https://localhost:8080/"
        },
        "id": "zBSWME1K9R17",
        "outputId": "b8d92698-cad2-4d4f-db94-1137a07f9454"
      },
      "source": [
        "from google.colab import drive\n",
        "drive.mount('/content/drive')"
      ],
      "execution_count": 1,
      "outputs": [
        {
          "output_type": "stream",
          "text": [
            "Mounted at /content/drive\n"
          ],
          "name": "stdout"
        }
      ]
    },
    {
      "cell_type": "code",
      "metadata": {
        "id": "gAjmp5XmRYTB",
        "colab": {
          "base_uri": "https://localhost:8080/"
        },
        "outputId": "1c8860c2-a593-4281-e0ba-208b7ea9724b"
      },
      "source": [
        "!pip install tika"
      ],
      "execution_count": 2,
      "outputs": [
        {
          "output_type": "stream",
          "text": [
            "Collecting tika\n",
            "  Downloading https://files.pythonhosted.org/packages/96/07/244fbb9c74c0de8a3745cc9f3f496077a29f6418c7cbd90d68fd799574cb/tika-1.24.tar.gz\n",
            "Requirement already satisfied: setuptools in /usr/local/lib/python3.7/dist-packages (from tika) (56.1.0)\n",
            "Requirement already satisfied: requests in /usr/local/lib/python3.7/dist-packages (from tika) (2.23.0)\n",
            "Requirement already satisfied: certifi>=2017.4.17 in /usr/local/lib/python3.7/dist-packages (from requests->tika) (2020.12.5)\n",
            "Requirement already satisfied: chardet<4,>=3.0.2 in /usr/local/lib/python3.7/dist-packages (from requests->tika) (3.0.4)\n",
            "Requirement already satisfied: idna<3,>=2.5 in /usr/local/lib/python3.7/dist-packages (from requests->tika) (2.10)\n",
            "Requirement already satisfied: urllib3!=1.25.0,!=1.25.1,<1.26,>=1.21.1 in /usr/local/lib/python3.7/dist-packages (from requests->tika) (1.24.3)\n",
            "Building wheels for collected packages: tika\n",
            "  Building wheel for tika (setup.py) ... \u001b[?25l\u001b[?25hdone\n",
            "  Created wheel for tika: filename=tika-1.24-cp37-none-any.whl size=32885 sha256=da1f07d9bf0dc80df2a9e94106ff13519ac5af6cd7942f26247dee29291af2dc\n",
            "  Stored in directory: /root/.cache/pip/wheels/73/9c/f5/0b1b738442fc2a2862bef95b908b374f8e80215550fb2a8975\n",
            "Successfully built tika\n",
            "Installing collected packages: tika\n",
            "Successfully installed tika-1.24\n"
          ],
          "name": "stdout"
        }
      ]
    },
    {
      "cell_type": "code",
      "metadata": {
        "id": "qdhA9xqkGd6j"
      },
      "source": [
        "#file_path = \"/content/drive/MyDrive/capstone/Aventura Joven 03 - Perdidos en - Elvira Sancho, Jordi Suris.pdf\"\n",
        "file_path = \"/content/drive/MyDrive/capstone/Aventura Joven 01 - Persecucion - Elvira Sancho, Jordi Suris.pdf\""
      ],
      "execution_count": 36,
      "outputs": []
    },
    {
      "cell_type": "code",
      "metadata": {
        "id": "tEZYkcy19Jft"
      },
      "source": [
        "# import parser object from tike\n",
        "from tika import parser  \n",
        "import unicodedata\n",
        "  \n",
        "# opening pdf file\n",
        "parsed_pdf = parser.from_file(file_path)\n",
        "  \n",
        "# parsed_pdf['content'] returns string \n",
        "data = parsed_pdf['content'] "
      ],
      "execution_count": 37,
      "outputs": []
    },
    {
      "cell_type": "code",
      "metadata": {
        "id": "h7y28S-_mvDE"
      },
      "source": [
        "print(data[46000:47000].lower())"
      ],
      "execution_count": null,
      "outputs": []
    },
    {
      "cell_type": "code",
      "metadata": {
        "colab": {
          "base_uri": "https://localhost:8080/"
        },
        "id": "3Gnm-x5SVeu-",
        "outputId": "e77865e5-47ef-41cb-a027-1006a9e5fb49"
      },
      "source": [
        "# Find beginning of text\n",
        "beg_idx = data.lower().index('capítulo')\n",
        "# Find end of text\n",
        "end_idx = data.lower().index('después de la lectura\\n')\n",
        "\n",
        "print(beg_idx)\n",
        "print(end_idx)"
      ],
      "execution_count": 58,
      "outputs": [
        {
          "output_type": "stream",
          "text": [
            "1771\n",
            "46833\n"
          ],
          "name": "stdout"
        }
      ]
    },
    {
      "cell_type": "code",
      "metadata": {
        "id": "TE1p33UoVpWy"
      },
      "source": [
        "# Check that this is indeed only the story text\n",
        "text = data[beg_idx:end_idx]\n",
        "print(data[beg_idx:end_idx])"
      ],
      "execution_count": null,
      "outputs": []
    },
    {
      "cell_type": "code",
      "metadata": {
        "id": "3gvzjA-5mueD"
      },
      "source": [
        ""
      ],
      "execution_count": null,
      "outputs": []
    },
    {
      "cell_type": "code",
      "metadata": {
        "id": "IMpUzzl6FftK"
      },
      "source": [
        "# write the initial text to a file (no preprocessing done here)\n",
        "with open('/content/drive/MyDrive/capstone/Aventura Joven 01 Text No Preproc.txt', 'w') as f:\n",
        "  f.write(text)"
      ],
      "execution_count": 61,
      "outputs": []
    },
    {
      "cell_type": "code",
      "metadata": {
        "colab": {
          "base_uri": "https://localhost:8080/"
        },
        "id": "-_zeL7KmpafV",
        "outputId": "cb368fa9-283c-4766-a11f-f499236e6133"
      },
      "source": [
        "print(text[:2000])"
      ],
      "execution_count": 62,
      "outputs": [
        {
          "output_type": "stream",
          "text": [
            "caPítulo 1\n",
            "\n",
            "—¡Eh, Lucas!, ¡mira, allí!\n",
            "—¿Dónde?\n",
            "—Allí. ¿Ves a ese chico?\n",
            "—¿Quién?\n",
            "—Aquél, el de los vaqueros y las gafas. Allá, delante del super-\n",
            "\n",
            "mercado.\n",
            "Lucas mira con atención al chico. Después dice:\n",
            "—No, ese chico no es. Es demasiado alto y no tiene el pelo \n",
            "\n",
            "negro.\n",
            "—¡Ah!\n",
            "—Además, tiene que entrar o salir de esta casa de ventanas \n",
            "\n",
            "verdes —Lucas señala una portería.\n",
            "—El número veintitrés.\n",
            "—Sí, el veintitrés.\n",
            "Lucas y Rony están en la terraza de un bar de una placita1 en el \n",
            "\n",
            "barrio de La Latina2 de Madrid. Están bebiendo una cerveza y miran \n",
            "con atención a la gente que pasa. Lucas es alto, de nariz grande y \n",
            "ojos pequeños. Rony es bajo, un poco gordo y lleva una chaqueta \n",
            "vaquera azul.\n",
            "\n",
            "�\n",
            "\n",
            "1 placita: diminutivo de plaza, «pequeña plaza».\n",
            "2  barrio de La Latina: barrio monumental de Madrid (cerca de la Plaza del Sol) \n",
            "\n",
            "que comprende parte del Madrid antiguo. Es un barrio muy acogedor en el que \n",
            "se encuentran muchos bares para ir de tapas.\n",
            "\n",
            "\n",
            "\n",
            "—Voy a tomar otra cerveza —dice—. ¿Sabes, Lucas? Con este...\n",
            "—¡Mira, Rony! ¡Allí! —le interrumpe su compañero.\n",
            "Un chico de unos dieciséis años sale de la portería del número \n",
            "\n",
            "veintitrés, con un casco de moto en la mano y una mochila en la \n",
            "espalda. Lleva una chaqueta negra de cuero.\n",
            "\n",
            "—¡Es este! —dice Rony.\n",
            "—Sí, es este: pelo negro, ni alto ni bajo, unos 16 años...\n",
            "—...con el pelo largo.\n",
            "—Y con su chaqueta negra de cuero...\n",
            "—... y con gafas.\n",
            "—Sí, es él.\n",
            "—¿Y qué hace ahora? —pregunta Lucas.\n",
            "—Va al quiosco.\n",
            "—No, va hacia aquella moto, el «scooter».3\n",
            "—Sí, es verdad —reconoce Rony.\n",
            "—Mira, se ha parado al lado de la moto.\n",
            "En aquel momento el camarero se acerca a la mesa.\n",
            "—¿Van a tomar algo más? —pregunta.\n",
            "—No, nada más. ¿Cuánto es? —Lucas saca un billete de cinco \n",
            "\n",
            "euros de la cartera.\n",
            "Lucas y Rony se levantan y pagan. Van hasta una moto grande, \n",
            "\n",
            "de color negro, aparcada junto a un árbol. Es una Norton.4 Lucas se \n",
            "pone el casco y sube a la moto. Rony sube detrás. El chico está al \n",
            "otro lado de la plaza, delante de su moto. Está \n"
          ],
          "name": "stdout"
        }
      ]
    },
    {
      "cell_type": "markdown",
      "metadata": {
        "id": "2_nWTbF2HUHH"
      },
      "source": [
        "Preprocessing the text"
      ]
    },
    {
      "cell_type": "code",
      "metadata": {
        "colab": {
          "base_uri": "https://localhost:8080/"
        },
        "id": "NCkNfiTPHJAY",
        "outputId": "fbde4dce-3a68-4636-ff02-7f10f9861705"
      },
      "source": [
        "# remove words with numbers in them, ex altura1 or hostal2 (footnote indicator)\n",
        "\n",
        "import re\n",
        "\n",
        "# remove special characters for regex\n",
        "norm_text = unicodedata.normalize('NFD', text).encode('ascii', 'ignore').decode('utf-8')\n",
        "\n",
        "text_wo_ft_words = norm_text\n",
        "for word in re.findall('[A-z]+[1234567890]{1,2}', text_wo_ft_words):\n",
        "  word_idx = text_wo_ft_words.index(word)\n",
        "  m = re.search('[A-z]+', word)\n",
        "  stripped_word = m.group(0)\n",
        "  text_wo_ft_words = text_wo_ft_words[:word_idx] + stripped_word + text_wo_ft_words[word_idx+len(word):]\n",
        "            \n",
        "print(text_wo_ft_words[:2000])"
      ],
      "execution_count": 63,
      "outputs": [
        {
          "output_type": "stream",
          "text": [
            "caPitulo 1\n",
            "\n",
            "Eh, Lucas!, mira, alli!\n",
            "Donde?\n",
            "Alli. Ves a ese chico?\n",
            "Quien?\n",
            "Aquel, el de los vaqueros y las gafas. Alla, delante del super-\n",
            "\n",
            "mercado.\n",
            "Lucas mira con atencion al chico. Despues dice:\n",
            "No, ese chico no es. Es demasiado alto y no tiene el pelo \n",
            "\n",
            "negro.\n",
            "Ah!\n",
            "Ademas, tiene que entrar o salir de esta casa de ventanas \n",
            "\n",
            "verdes Lucas senala una porteria.\n",
            "El numero veintitres.\n",
            "Si, el veintitres.\n",
            "Lucas y Rony estan en la terraza de un bar de una placita en el \n",
            "\n",
            "barrio de La Latina de Madrid. Estan bebiendo una cerveza y miran \n",
            "con atencion a la gente que pasa. Lucas es alto, de nariz grande y \n",
            "ojos pequenos. Rony es bajo, un poco gordo y lleva una chaqueta \n",
            "vaquera azul.\n",
            "\n",
            "\n",
            "\n",
            "1 placita: diminutivo de plaza, pequena plaza.\n",
            "2  barrio de La Latina: barrio monumental de Madrid (cerca de la Plaza del Sol) \n",
            "\n",
            "que comprende parte del Madrid antiguo. Es un barrio muy acogedor en el que \n",
            "se encuentran muchos bares para ir de tapas.\n",
            "\n",
            "\n",
            "\n",
            "Voy a tomar otra cerveza dice. Sabes, Lucas? Con este...\n",
            "Mira, Rony! Alli! le interrumpe su companero.\n",
            "Un chico de unos dieciseis anos sale de la porteria del numero \n",
            "\n",
            "veintitres, con un casco de moto en la mano y una mochila en la \n",
            "espalda. Lleva una chaqueta negra de cuero.\n",
            "\n",
            "Es este! dice Rony.\n",
            "Si, es este: pelo negro, ni alto ni bajo, unos 16 anos...\n",
            "...con el pelo largo.\n",
            "Y con su chaqueta negra de cuero...\n",
            "... y con gafas.\n",
            "Si, es el.\n",
            "Y que hace ahora? pregunta Lucas.\n",
            "Va al quiosco.\n",
            "No, va hacia aquella moto, el scooter.3\n",
            "Si, es verdad reconoce Rony.\n",
            "Mira, se ha parado al lado de la moto.\n",
            "En aquel momento el camarero se acerca a la mesa.\n",
            "Van a tomar algo mas? pregunta.\n",
            "No, nada mas. Cuanto es? Lucas saca un billete de cinco \n",
            "\n",
            "euros de la cartera.\n",
            "Lucas y Rony se levantan y pagan. Van hasta una moto grande, \n",
            "\n",
            "de color negro, aparcada junto a un arbol. Es una Norton.4 Lucas se \n",
            "pone el casco y sube a la moto. Rony sube detras. El chico esta al \n",
            "otro lado de la plaza, delante de su moto. Esta buscando algo en la \n",
            "mochila. Despues cierra la mochil\n"
          ],
          "name": "stdout"
        }
      ]
    },
    {
      "cell_type": "code",
      "metadata": {
        "id": "wZGs45PxLakg"
      },
      "source": [
        "#with open('/content/drive/MyDrive/capstone/Aventura Joven 03 Text No Footnoted Words.txt', 'w') as f:\n",
        " # f.write(text_wo_ft_words)"
      ],
      "execution_count": 17,
      "outputs": []
    },
    {
      "cell_type": "code",
      "metadata": {
        "id": "P0gNlqbzHO3K"
      },
      "source": [
        "# remove footnote numbers on their own in the text"
      ],
      "execution_count": null,
      "outputs": []
    },
    {
      "cell_type": "code",
      "metadata": {
        "colab": {
          "base_uri": "https://localhost:8080/",
          "height": 273
        },
        "id": "PHo9hfepMht8",
        "outputId": "9091a1f9-8c42-4657-90aa-9be069fabef3"
      },
      "source": [
        "print(text_wo_ft_words[:200])\n",
        "text_wo_ft_words[:200]"
      ],
      "execution_count": 65,
      "outputs": [
        {
          "output_type": "stream",
          "text": [
            "caPitulo 1\n",
            "\n",
            "Eh, Lucas!, mira, alli!\n",
            "Donde?\n",
            "Alli. Ves a ese chico?\n",
            "Quien?\n",
            "Aquel, el de los vaqueros y las gafas. Alla, delante del super-\n",
            "\n",
            "mercado.\n",
            "Lucas mira con atencion al chico. Despues dice:\n",
            "No, e\n"
          ],
          "name": "stdout"
        },
        {
          "output_type": "execute_result",
          "data": {
            "application/vnd.google.colaboratory.intrinsic+json": {
              "type": "string"
            },
            "text/plain": [
              "'caPitulo 1\\n\\nEh, Lucas!, mira, alli!\\nDonde?\\nAlli. Ves a ese chico?\\nQuien?\\nAquel, el de los vaqueros y las gafas. Alla, delante del super-\\n\\nmercado.\\nLucas mira con atencion al chico. Despues dice:\\nNo, e'"
            ]
          },
          "metadata": {
            "tags": []
          },
          "execution_count": 65
        }
      ]
    },
    {
      "cell_type": "code",
      "metadata": {
        "id": "MvCM5gUsNf6v"
      },
      "source": [
        "def modify_words(regex_find, regex_modify, text, modify):\n",
        "  ''' Modifies all words in text that match the regex_find regex to match the regex_modify regex. '''\n",
        "  text_removed = text\n",
        "  for word in re.findall(regex_find, text_removed):\n",
        "    word_idx = text_removed.index(word)\n",
        "    \n",
        "    if modify == 'regex':\n",
        "      m = re.search(regex_modify, word)\n",
        "      modified_word = m.group(0)\n",
        "    elif modify == 'remove':\n",
        "      rm_char_idx = word.index(regex_modify)\n",
        "      modified_word = word[:rm_char_idx] + word[rm_char_idx+len(regex_modify):]\n",
        "    \n",
        "    text_removed = text_removed[:word_idx] + modified_word + text_removed[word_idx+len(word):]\n",
        "\n",
        "  return text_removed"
      ],
      "execution_count": null,
      "outputs": []
    },
    {
      "cell_type": "code",
      "metadata": {
        "id": "bVWlXlLvLbwj"
      },
      "source": [
        "# remove words that contain '-\\n' because they didn't fit on one line\n",
        "text_wo_broken_words = text_wo_ft_words\n",
        "for word in re.findall('[A-z]+\\-\\n{1,2}[a-z]+', text_wo_broken_words):\n",
        "  print(word)\n",
        "  print('######')\n",
        "  word_idx = text_wo_broken_words.index(word)\n",
        "  hyphen_idx = word.index('-')\n",
        "  if '-\\n\\n' in word:\n",
        "    len_sep = 3\n",
        "  else:\n",
        "    len_sep = 2\n",
        "  modified_word = word[:hyphen_idx] + word[hyphen_idx+len_sep:]\n",
        "  print(modified_word)\n",
        "  print('-------------------------------')\n",
        "  print(text_wo_broken_words[word_idx-50:word_idx] + modified_word + text_wo_broken_words[word_idx+len(word):word_idx+len(word)+50])\n",
        "  text_wo_broken_words = text_wo_broken_words[:word_idx] + modified_word + text_wo_broken_words[word_idx+len(word):]\n",
        "\n",
        "print(text_wo_broken_words[:1000])"
      ],
      "execution_count": null,
      "outputs": []
    },
    {
      "cell_type": "code",
      "metadata": {
        "id": "pRkvig2ko7n-"
      },
      "source": [
        "with open('/content/drive/MyDrive/capstone/Aventura Joven 01 Text No Ft Broken Words.txt', 'w') as f:\n",
        "  f.write(text_wo_broken_words)"
      ],
      "execution_count": 68,
      "outputs": []
    },
    {
      "cell_type": "code",
      "metadata": {
        "id": "STSN5IHiQOD8"
      },
      "source": [
        "text_wo_broken_words = modify_words('[A-z]+\\-\\n[a-z]+', '-\\n', text_wo_ft_words, 'remove')\n",
        "print(text_wo_broken_words[:1000])"
      ],
      "execution_count": null,
      "outputs": []
    },
    {
      "cell_type": "code",
      "metadata": {
        "id": "hy2wBMBIHRtD"
      },
      "source": [
        "# remove the footnotes"
      ],
      "execution_count": null,
      "outputs": []
    },
    {
      "cell_type": "code",
      "metadata": {
        "id": "ASOHuL-vEhak"
      },
      "source": [
        "# Attempt at removing the footnotes\n",
        "import re\n",
        "\n",
        "# normalize the data to ignore special characters in Spanish\n",
        "norm_data = unicodedata.normalize('NFD', data).encode('ascii', 'ignore').decode('utf-8')\n",
        "norm_text = unicodedata.normalize('NFD', text).encode('ascii', 'ignore').decode('utf-8')\n",
        "\n",
        "m = re.search('[A-z]+[1234567890]{1,2}', norm_data[1880:])\n",
        "\n",
        "m.group(0)\n",
        "footnoted_words = [word.strip() for word in re.findall('[A-z]+[1234567890]', norm_data[1880:])]\n",
        "footnote_defs = [word.strip() for word in re.findall('[0-9]{1,2}  [A-z]+[\\s\\w]*:[\\w \\n]*\\.', norm_data[1880:])]\n",
        "\n",
        "#print(footnoted_words)\n",
        "#print(footnote_defs)\n",
        "print(re.findall('([0-9]{1,2}  [A-z]+[\\s\\w]*:([\\w ,\\.:\\-]+\\n)*\\n)', '''1  altura: Cusco esta a unos 3500 metros de altura, lo que en algunas personas \n",
        "provoca el llamado mal de altura o soroche. Los sintomas del mal de altura \n",
        "son: dolor de cabeza, mareos, trastornos estomacales y cansancio. Puede com-\n",
        "batirse con pastillas, ejercicios de respiracion o mate.\n",
        "\n",
        "2  hostal: alojamiento normalmente mas barato y personal que un hotel, aunque \n",
        "sin sus comodidades. La palabra se utiliza principalmente en medios rurales. \n",
        "'''))"
      ],
      "execution_count": null,
      "outputs": []
    },
    {
      "cell_type": "markdown",
      "metadata": {
        "id": "PDZxXbjyF33T"
      },
      "source": [
        ""
      ]
    }
  ]
}