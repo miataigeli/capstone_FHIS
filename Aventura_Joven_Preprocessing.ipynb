{
  "nbformat": 4,
  "nbformat_minor": 0,
  "metadata": {
    "colab": {
      "name": "Aventura Joven Preprocessing.ipynb",
      "provenance": [],
      "collapsed_sections": []
    },
    "kernelspec": {
      "name": "python3",
      "display_name": "Python 3"
    },
    "language_info": {
      "name": "python"
    }
  },
  "cells": [
    {
      "cell_type": "markdown",
      "metadata": {
        "id": "OotNOM4KF5QT"
      },
      "source": [
        "Pipeline for Extracting Text from Aventura Joven Books"
      ]
    },
    {
      "cell_type": "code",
      "metadata": {
        "colab": {
          "base_uri": "https://localhost:8080/"
        },
        "id": "zBSWME1K9R17",
        "outputId": "b8d92698-cad2-4d4f-db94-1137a07f9454"
      },
      "source": [
        "from google.colab import drive\n",
        "drive.mount('/content/drive')"
      ],
      "execution_count": 1,
      "outputs": [
        {
          "output_type": "stream",
          "text": [
            "Mounted at /content/drive\n"
          ],
          "name": "stdout"
        }
      ]
    },
    {
      "cell_type": "code",
      "metadata": {
        "id": "gAjmp5XmRYTB",
        "colab": {
          "base_uri": "https://localhost:8080/"
        },
        "outputId": "1c8860c2-a593-4281-e0ba-208b7ea9724b"
      },
      "source": [
        "!pip install tika"
      ],
      "execution_count": 2,
      "outputs": [
        {
          "output_type": "stream",
          "text": [
            "Collecting tika\n",
            "  Downloading https://files.pythonhosted.org/packages/96/07/244fbb9c74c0de8a3745cc9f3f496077a29f6418c7cbd90d68fd799574cb/tika-1.24.tar.gz\n",
            "Requirement already satisfied: setuptools in /usr/local/lib/python3.7/dist-packages (from tika) (56.1.0)\n",
            "Requirement already satisfied: requests in /usr/local/lib/python3.7/dist-packages (from tika) (2.23.0)\n",
            "Requirement already satisfied: certifi>=2017.4.17 in /usr/local/lib/python3.7/dist-packages (from requests->tika) (2020.12.5)\n",
            "Requirement already satisfied: chardet<4,>=3.0.2 in /usr/local/lib/python3.7/dist-packages (from requests->tika) (3.0.4)\n",
            "Requirement already satisfied: idna<3,>=2.5 in /usr/local/lib/python3.7/dist-packages (from requests->tika) (2.10)\n",
            "Requirement already satisfied: urllib3!=1.25.0,!=1.25.1,<1.26,>=1.21.1 in /usr/local/lib/python3.7/dist-packages (from requests->tika) (1.24.3)\n",
            "Building wheels for collected packages: tika\n",
            "  Building wheel for tika (setup.py) ... \u001b[?25l\u001b[?25hdone\n",
            "  Created wheel for tika: filename=tika-1.24-cp37-none-any.whl size=32885 sha256=da1f07d9bf0dc80df2a9e94106ff13519ac5af6cd7942f26247dee29291af2dc\n",
            "  Stored in directory: /root/.cache/pip/wheels/73/9c/f5/0b1b738442fc2a2862bef95b908b374f8e80215550fb2a8975\n",
            "Successfully built tika\n",
            "Installing collected packages: tika\n",
            "Successfully installed tika-1.24\n"
          ],
          "name": "stdout"
        }
      ]
    },
    {
      "cell_type": "code",
      "metadata": {
        "id": "qdhA9xqkGd6j"
      },
      "source": [
        "#file_path = \"/content/drive/MyDrive/capstone/Aventura Joven 03 - Perdidos en - Elvira Sancho, Jordi Suris.pdf\"\n",
        "file"
      ],
      "execution_count": null,
      "outputs": []
    },
    {
      "cell_type": "code",
      "metadata": {
        "colab": {
          "base_uri": "https://localhost:8080/"
        },
        "id": "tEZYkcy19Jft",
        "outputId": "62866614-3d49-4d8f-d921-5eca5da123c7"
      },
      "source": [
        "# import parser object from tike\n",
        "from tika import parser  \n",
        "import unicodedata\n",
        "  \n",
        "# opening pdf file\n",
        "parsed_pdf = parser.from_file(file_path)\n",
        "  \n",
        "# parsed_pdf['content'] returns string \n",
        "data = parsed_pdf['content'] "
      ],
      "execution_count": 3,
      "outputs": [
        {
          "output_type": "stream",
          "text": [
            "2021-05-12 14:54:19,052 [MainThread  ] [INFO ]  Retrieving http://search.maven.org/remotecontent?filepath=org/apache/tika/tika-server/1.24/tika-server-1.24.jar to /tmp/tika-server.jar.\n",
            "2021-05-12 14:54:27,972 [MainThread  ] [INFO ]  Retrieving http://search.maven.org/remotecontent?filepath=org/apache/tika/tika-server/1.24/tika-server-1.24.jar.md5 to /tmp/tika-server.jar.md5.\n",
            "2021-05-12 14:54:29,749 [MainThread  ] [WARNI]  Failed to see startup log message; retrying...\n",
            "2021-05-12 14:54:34,761 [MainThread  ] [WARNI]  Failed to see startup log message; retrying...\n"
          ],
          "name": "stderr"
        }
      ]
    },
    {
      "cell_type": "code",
      "metadata": {
        "colab": {
          "base_uri": "https://localhost:8080/"
        },
        "id": "3Gnm-x5SVeu-",
        "outputId": "8f83b032-5ec7-418c-858b-cf9891a6f0a5"
      },
      "source": [
        "# Find beginning of text\n",
        "beg_idx = data.index('CAPÍtULO 1')\n",
        "# Find end of text\n",
        "end_idx = data.index('DESPUÉS')\n",
        "\n",
        "print(beg_idx)\n",
        "print(end_idx)"
      ],
      "execution_count": 8,
      "outputs": [
        {
          "output_type": "stream",
          "text": [
            "1886\n",
            "56387\n"
          ],
          "name": "stdout"
        }
      ]
    },
    {
      "cell_type": "code",
      "metadata": {
        "id": "TE1p33UoVpWy"
      },
      "source": [
        "# Check that this is indeed only the story text\n",
        "text = data[beg_idx:end_idx]\n",
        "print(data[beg_idx:end_idx])"
      ],
      "execution_count": null,
      "outputs": []
    },
    {
      "cell_type": "code",
      "metadata": {
        "id": "IMpUzzl6FftK"
      },
      "source": [
        "# write the initial text to a file (no preprocessing done here)\n",
        "with open('/content/drive/MyDrive/capstone/Aventura Joven 03 Text No Preproc.txt', 'w') as f:\n",
        "  f.write(text)"
      ],
      "execution_count": 10,
      "outputs": []
    },
    {
      "cell_type": "markdown",
      "metadata": {
        "id": "2_nWTbF2HUHH"
      },
      "source": [
        "Preprocessing the text"
      ]
    },
    {
      "cell_type": "code",
      "metadata": {
        "id": "NCkNfiTPHJAY"
      },
      "source": [
        "# remove words with numbers in them, ex altura1 or hostal2 (footnote indicator)\n",
        "\n",
        "import re\n",
        "\n",
        "# remove special characters for regex\n",
        "norm_text = unicodedata.normalize('NFD', text).encode('ascii', 'ignore').decode('utf-8')\n",
        "\n",
        "text_wo_ft_words = norm_text\n",
        "for word in re.findall('[A-z]+[1234567890]{1,2}', text_wo_ft_words):\n",
        "  word_idx = text_wo_ft_words.index(word)\n",
        "  m = re.search('[A-z]+', word)\n",
        "  stripped_word = m.group(0)\n",
        "  text_wo_ft_words = text_wo_ft_words[:word_idx] + stripped_word + text_wo_ft_words[word_idx+len(word):]\n",
        "            \n",
        "# print(text_wo_ft_words[:2000])"
      ],
      "execution_count": null,
      "outputs": []
    },
    {
      "cell_type": "code",
      "metadata": {
        "id": "wZGs45PxLakg"
      },
      "source": [
        "with open('/content/drive/MyDrive/capstone/Aventura Joven 03 Text No Footnoted Words.txt', 'w') as f:\n",
        "  f.write(text_wo_ft_words)"
      ],
      "execution_count": 17,
      "outputs": []
    },
    {
      "cell_type": "code",
      "metadata": {
        "id": "P0gNlqbzHO3K"
      },
      "source": [
        "# remove footnote numbers on their own in the text"
      ],
      "execution_count": null,
      "outputs": []
    },
    {
      "cell_type": "code",
      "metadata": {
        "colab": {
          "base_uri": "https://localhost:8080/",
          "height": 291
        },
        "id": "PHo9hfepMht8",
        "outputId": "ef0ced67-d021-40ff-89a0-5d2f73b93e10"
      },
      "source": [
        "print(text_wo_ft_words[200:600])\n",
        "text_wo_ft_words[200:600]"
      ],
      "execution_count": 22,
      "outputs": [
        {
          "output_type": "stream",
          "text": [
            "i. Mis padres me han hablado mucho del Camino del Inca... \n",
            "Y tambien quiero visitar Cusco, a la vuelta. Guille, te encuentras \n",
            "bien? Estas un poco blanco...\n",
            "\n",
            "Si, estoy un poco mareado, es por la altura.\n",
            "Guille y Monica son amigos. El chico es un poco gordo y pelirro-\n",
            "\n",
            "jo. Tiene dieciseis anos pero parece mas joven. \n",
            "Hola! Laura, una chica alta y rubia, entra en la habita-\n",
            "\n",
            "cion. Estais listos?\n",
            "Si \n"
          ],
          "name": "stdout"
        },
        {
          "output_type": "execute_result",
          "data": {
            "application/vnd.google.colaboratory.intrinsic+json": {
              "type": "string"
            },
            "text/plain": [
              "'i. Mis padres me han hablado mucho del Camino del Inca... \\nY tambien quiero visitar Cusco, a la vuelta. Guille, te encuentras \\nbien? Estas un poco blanco...\\n\\nSi, estoy un poco mareado, es por la altura.\\nGuille y Monica son amigos. El chico es un poco gordo y pelirro-\\n\\njo. Tiene dieciseis anos pero parece mas joven. \\nHola! Laura, una chica alta y rubia, entra en la habita-\\n\\ncion. Estais listos?\\nSi '"
            ]
          },
          "metadata": {
            "tags": []
          },
          "execution_count": 22
        }
      ]
    },
    {
      "cell_type": "code",
      "metadata": {
        "id": "MvCM5gUsNf6v"
      },
      "source": [
        "def modify_words(regex_find, regex_modify, text, modify):\n",
        "  ''' Modifies all words in text that match the regex_find regex to match the regex_modify regex. '''\n",
        "  text_removed = text\n",
        "  for word in re.findall(regex_find, text_removed):\n",
        "    word_idx = text_removed.index(word)\n",
        "    \n",
        "    if modify == 'regex':\n",
        "      m = re.search(regex_modify, word)\n",
        "      modified_word = m.group(0)\n",
        "    elif modify == 'remove':\n",
        "      rm_char_idx = word.index(regex_modify)\n",
        "      modified_word = word[:rm_char_idx] + word[rm_char_idx+len(regex_modify):]\n",
        "    \n",
        "    text_removed = text_removed[:word_idx] + modified_word + text_removed[word_idx+len(word):]\n",
        "\n",
        "  return text_removed"
      ],
      "execution_count": null,
      "outputs": []
    },
    {
      "cell_type": "code",
      "metadata": {
        "colab": {
          "base_uri": "https://localhost:8080/"
        },
        "id": "bVWlXlLvLbwj",
        "outputId": "589be26a-470c-4776-c591-1e6ec836bf2c"
      },
      "source": [
        "# remove words that contain '-\\n' because they didn't fit on one line\n",
        "text_wo_broken_words = text_wo_ft_words\n",
        "for word in re.findall('[A-z]+\\-\\n{1,2}[a-z]+', text_wo_broken_words):\n",
        "  print(word)\n",
        "  print('######')\n",
        "  word_idx = text_wo_broken_words.index(word)\n",
        "  hyphen_idx = word.index('-')\n",
        "  if '-\\n\\n' in word:\n",
        "    len_sep = 3\n",
        "  else:\n",
        "    len_sep = 2\n",
        "  modified_word = word[:hyphen_idx] + word[hyphen_idx+len_sep:]\n",
        "  print(modified_word)\n",
        "  print('-------------------------------')\n",
        "  print(text_wo_broken_words[word_idx-50:word_idx] + modified_word + text_wo_broken_words[word_idx+len(word):word_idx+len(word)+50])\n",
        "  text_wo_broken_words = text_wo_broken_words[:word_idx] + modified_word + text_wo_broken_words[word_idx+len(word):]\n",
        "\n",
        "print(text_wo_broken_words[:1000])"
      ],
      "execution_count": 35,
      "outputs": [
        {
          "output_type": "stream",
          "text": [
            "entran-\n",
            "do\n",
            "######\n",
            "entrando\n",
            "-------------------------------\n",
            "uille, tu llevas camara de fotos? pregunta Monica entrando en la habitacion de los chicos.\n",
            "\n",
            "No, pero Sergio \n",
            "pelirro-\n",
            "\n",
            "jo\n",
            "######\n",
            "pelirrojo\n",
            "-------------------------------\n",
            " y Monica son amigos. El chico es un poco gordo y pelirrojo. Tiene dieciseis anos pero parece mas joven. \n",
            "Hol\n",
            "habita-\n",
            "\n",
            "cion\n",
            "######\n",
            "habitacion\n",
            "-------------------------------\n",
            "\n",
            "Hola! Laura, una chica alta y rubia, entra en la habitacion. Estais listos?\n",
            "Si Guille se pone en la espalda s\n",
            "com-\n",
            "batirse\n",
            "######\n",
            "combatirse\n",
            "-------------------------------\n",
            "mareos, trastornos estomacales y cansancio. Puede combatirse con pastillas, ejercicios de respiracion o mate.\n",
            "\n",
            "can-\n",
            "\n",
            "timplora\n",
            "######\n",
            "cantimplora\n",
            "-------------------------------\n",
            "eneis todo?, camaras?, linternas?, crema de sol?, cantimplora? pregunta Nuria.\n",
            "Los alumnos de la clase de cuart\n",
            "profe-\n",
            "sores\n",
            "######\n",
            "profesores\n",
            "-------------------------------\n",
            "lona, estan en Peru de viaje de fin de curso. Dos profesores acompanan a los diecisiete alumnos: Nuria, la pro\n",
            "can-\n",
            "tidad\n",
            "######\n",
            "cantidad\n",
            "-------------------------------\n",
            " en el camino del Machu Picchu se encuentran gran cantidad de ruinas de esta indole. Bruthalva es un nombre \n",
            "sena-\n",
            "\n",
            "lando\n",
            "######\n",
            "senalando\n",
            "-------------------------------\n",
            "rad, esta es la parroquia de San Blas dice Monica senalando una iglesia blanca con las escaleras y una torre \n",
            "directa-\n",
            "\n",
            "mente\n",
            "######\n",
            "directamente\n",
            "-------------------------------\n",
            "o Guille, solo la veremos desde el omnibus. Vamos directamente hasta Piscacucho.\n",
            "Esto es el kilometro 82 de la v\n",
            "sonrien-\n",
            "\n",
            "do\n",
            "######\n",
            "sonriendo\n",
            "-------------------------------\n",
            "te?\n",
            "Pero paramos en Miskay para comer dice Martin sonriendo. A Guille no le gusta mucho caminar.\n",
            "Ademas nos l\n",
            "cantim-\n",
            "plora\n",
            "######\n",
            "cantimplora\n",
            "-------------------------------\n",
            "ue llevar una pequena mochila con las camaras, la cantimplora y una chaqueta o poncho.\n",
            "\n",
            "El autobus sale de Cusc\n",
            "vivie-\n",
            "\n",
            "ron\n",
            "######\n",
            "vivieron\n",
            "-------------------------------\n",
            "na cultura, de una lengua y de los habitantes que vivieron en los Andes centrales de Sudamerica. Mas de 8 mi\n",
            "rectangu-\n",
            "lar\n",
            "######\n",
            "rectangular\n",
            "-------------------------------\n",
            "a de abrigo que consiste en una manta, cuadrada o rectangular, de lana, que tiene en el centro una abertura par\n",
            "verguen-\n",
            "za\n",
            "######\n",
            "verguenza\n",
            "-------------------------------\n",
            ": cuando la cara se tine de color rojo a causa de verguenza o timidez.\n",
            "\n",
            "4 cuesta: terreno en desnivel.\n",
            "\n",
            "\n",
            "\n",
            "Sol\n",
            "expli-\n",
            "\n",
            "cando\n",
            "######\n",
            "explicando\n",
            "-------------------------------\n",
            "erfecto, asi puede ayudarme. David rie y continua explicando la historia de Choquesuysuy.\n",
            "Un momento! Voy a to\n",
            "gran-\n",
            "\n",
            "des\n",
            "######\n",
            "grandes\n",
            "-------------------------------\n",
            "onde estan se ven grupos de casas de piedra entre grandes terrazas en circulo.\n",
            "Que increible! exclama Nuria\n",
            "horro-\n",
            "\n",
            "rizada\n",
            "######\n",
            "horrorizada\n",
            "-------------------------------\n",
            " las ruinas? exclama Ana, la chica de la ocarina, horrorizada.\n",
            "No David rie. Dormiremos en el albergue.\n",
            "Ah, val\n",
            "normal-\n",
            "\n",
            "mente\n",
            "######\n",
            "normalmente\n",
            "-------------------------------\n",
            "calones construidos sobre las laderas o montanas, normalmente con el objetivo de cultivar en ellos.\n",
            "8  albergue\n",
            "pro-\n",
            "\n",
            "mover\n",
            "######\n",
            "promover\n",
            "-------------------------------\n",
            "ticularmente pensado para estancias cortas y para promover el intercambio cultural entre jovenes de distinto\n",
            "preparan-\n",
            "\n",
            "do\n",
            "######\n",
            "preparando\n",
            "-------------------------------\n",
            ".\n",
            "David esta en la cocina dice el chico. Nos esta preparando te, cafe y galletas.\n",
            "Que bien!\n",
            "Desde la cocina se\n",
            "pre-\n",
            "\n",
            "gunta\n",
            "######\n",
            "pregunta\n",
            "-------------------------------\n",
            "ramente nosotros llegaremos antes, verdad, David? pregunta Ana, que tambien va a la excursion.\n",
            "Si. Creo que \n",
            "estre-\n",
            "\n",
            "cho\n",
            "######\n",
            "estrecho\n",
            "-------------------------------\n",
            " continua caminando entre la niebla. El camino es estrecho, pero esta bien marcado y es facil de seguir.\n",
            "Des\n",
            "hua-\n",
            "\n",
            "queros\n",
            "######\n",
            "huaqueros\n",
            "-------------------------------\n",
            " todavia hay material valioso dentro. A veces los huaqueros se lo llevan para venderlo.\n",
            "Hua-que ?? pregunta M\n",
            "talla-\n",
            "\n",
            "da\n",
            "######\n",
            "tallada\n",
            "-------------------------------\n",
            "Que es? pregunta Ana mirando una cabeza de piedra tallada de una forma muy tosca en la misma roca.\n",
            "Es la ca\n",
            "represen-\n",
            "tada\n",
            "######\n",
            "representada\n",
            "-------------------------------\n",
            "la hermana y la esposa del dios Inti. Esta diosa, representada por la Luna, acompanaba a Inti...\n",
            "\n",
            "Y como sabes q\n",
            "cami-\n",
            "\n",
            "nando\n",
            "######\n",
            "caminando\n",
            "-------------------------------\n",
            "orre hacia las ruinas. Los otros chicos continuan caminando.\n",
            "\n",
            "Despues de un rato, David se para. Sergio todav\n",
            "tam-\n",
            "\n",
            "bien\n",
            "######\n",
            "tambien\n",
            "-------------------------------\n",
            "o importa, le interrumpe un hombre bajo y moreno, tambien de pelo negro. Dame esa camara.\n",
            "Mi camara? No Ser\n",
            "quie-\n",
            "\n",
            "ren\n",
            "######\n",
            "quieren\n",
            "-------------------------------\n",
            " esta asustado. Son realmente los huaqueros?, Que quieren?, Donde lo van a llevar?, Por que no le han quita\n",
            "oscu-\n",
            "\n",
            "ridad\n",
            "######\n",
            "oscuridad\n",
            "-------------------------------\n",
            "los hombres se alejan. Sergio se queda solo en la oscuridad. Lentamente sus ojos empiezan a ver algunas cosas\n",
            "pre-\n",
            "\n",
            "ocupado\n",
            "######\n",
            "preocupado\n",
            "-------------------------------\n",
            "pido de vuelta a las ruinas. El guia esta serio y preocupado. Cuando llegan a la excavacion, David se para.\n",
            "Un\n",
            "dien-\n",
            "\n",
            "te\n",
            "######\n",
            "diente\n",
            "-------------------------------\n",
            "quilo, amigo responde el hombre de la trenza y el diente de oro. Estamos trabajando mucho. Y estas piedras\n",
            "hom-\n",
            "\n",
            "bres\n",
            "######\n",
            "hombres\n",
            "-------------------------------\n",
            " mueve entre los arboles y empieza a seguir a los hombres. Los chicos lo miran en silencio. Laura esta muy \n",
            "tam-\n",
            "bien\n",
            "######\n",
            "tambien\n",
            "-------------------------------\n",
            "da quieto, en silencio. Sabe que si va lo cogeran tambien a el. Los hombres son cuatro. Uno de ellos ha sal\n",
            "hom-\n",
            "bre\n",
            "######\n",
            "hombre\n",
            "-------------------------------\n",
            "ejado un vigilante! David se para. Lo ha visto el hombre?. Lleva el rifle en una mano y fuma una pipa con \n",
            "excava-\n",
            "\n",
            "cion\n",
            "######\n",
            "excavacion\n",
            "-------------------------------\n",
            "Esta encerrado en una choza de piedra cerca de la excavacion explica.\n",
            "Pero...\n",
            "Sergio esta bien, esta bien. Lo \n",
            "bas-\n",
            "tante\n",
            "######\n",
            "bastante\n",
            "-------------------------------\n",
            "a a su lado. No puede distinguir la forma pero es bastante grande. Es una escultura. Todas las piedras son e\n",
            "hua-\n",
            "queros\n",
            "######\n",
            "huaqueros\n",
            "-------------------------------\n",
            "ejos... Hay mas hombres? Esta en un campamento de huaqueros...? Ahora lo ve todo muy negro... \n",
            "\n",
            "Quien anda ac\n",
            "quie-\n",
            "ren\n",
            "######\n",
            "quieren\n",
            "-------------------------------\n",
            "aben que sus companeros avisaran a la policia. No quieren una investigacion...\n",
            "\n",
            "Pero David esta preocupado.\n",
            "pues-\n",
            "to\n",
            "######\n",
            "puesto\n",
            "-------------------------------\n",
            "nte, despues de unas horas de camino, llegan a un puesto de la policia en Aguas Calientes. \n",
            "\n",
            "Quiero hablar\n",
            "magni-\n",
            "\n",
            "fica\n",
            "######\n",
            "magnifica\n",
            "-------------------------------\n",
            "de las montanas de piedra, la ciudad inca se alza magnifica e impresionante. Primero, el grupo va a la Casa d\n",
            "diver-\n",
            "\n",
            "tidos\n",
            "######\n",
            "divertidos\n",
            "-------------------------------\n",
            "al hombre alto hay otros dos huaqueros, que miran divertidos la escena.\n",
            "Que paso...? pregunta el hombre alto.\n",
            "\n",
            "mon-\n",
            "\n",
            "ton\n",
            "######\n",
            "monton\n",
            "-------------------------------\n",
            "a, estas paranoica! Estamos en el bosque y hay un monton de animales por aqui que hacen ruido dice Martin.\n",
            "espe-\n",
            "\n",
            "ran\n",
            "######\n",
            "esperan\n",
            "-------------------------------\n",
            " despues llegan de nuevo al camino. Se esconden y esperan a los chicos.\n",
            "Hey, compadre. Por alla llegan ahor\n",
            "sanda-\n",
            "lias\n",
            "######\n",
            "sandalias\n",
            "-------------------------------\n",
            " se acerca a ellos. Visten con pantalones cortos, sandalias y llevan camaras de fotos.\n",
            "\n",
            "De donde han salido e\n",
            "toman-\n",
            "\n",
            "do\n",
            "######\n",
            "tomando\n",
            "-------------------------------\n",
            "en una explanada. Hay algunos turistas paseando y tomando fotos. De repente, Laura ve a un chico un poco go\n",
            "acer-\n",
            "\n",
            "can\n",
            "######\n",
            "acercan\n",
            "-------------------------------\n",
            "os se vuelven y ven a Monica, Raul y David que se acercan, seguidos de dos policias.\n",
            "Monica! los chicos se \n",
            "expli-\n",
            "\n",
            "car\n",
            "######\n",
            "explicar\n",
            "-------------------------------\n",
            ", no dice David. Es una historia un poco larga de explicar. Les presento al capitan Vargas y a un colega de \n",
            "llega-\n",
            "bais\n",
            "######\n",
            "llegabais\n",
            "-------------------------------\n",
            "\n",
            "\n",
            "\n",
            "Que ha pasado? pregunta Guille Ya decia yo que llegabais muy tarde...!\n",
            "\n",
            "Ahora tengo que llevarme a Sergio \n",
            "ate-\n",
            "rrorizada\n",
            "######\n",
            "aterrorizada\n",
            "-------------------------------\n",
            "nos ahora sin visitar Machu Picchu? Monica parece aterrorizada Sin visitar la ciudad sagrada? Ni hablar!\n",
            "\n",
            "Yo los\n",
            "CAPItULO 1\n",
            "\n",
            "Guille, tu llevas camara de fotos? pregunta Monica entrando en la habitacion de los chicos.\n",
            "\n",
            "No, pero Sergio lleva la suya contesta Guille. Y tu, estas \n",
            "contenta de ir a Machu Picchu?\n",
            "\n",
            "Si. Mis padres me han hablado mucho del Camino del Inca... \n",
            "Y tambien quiero visitar Cusco, a la vuelta. Guille, te encuentras \n",
            "bien? Estas un poco blanco...\n",
            "\n",
            "Si, estoy un poco mareado, es por la altura.\n",
            "Guille y Monica son amigos. El chico es un poco gordo y pelirrojo. Tiene dieciseis anos pero parece mas joven. \n",
            "Hola! Laura, una chica alta y rubia, entra en la habitacion. Estais listos?\n",
            "Si Guille se pone en la espalda su mochila grande. Luego, \n",
            "\n",
            "coge otra mas pequena. Los chicos salen al pasillo.\n",
            "Desde la ventana del pasillo se ve Cusco. Laura se para a mirar. \n",
            "\n",
            "Estan en un hostal en el barrio de San Blas, uno de los mas antiguos \n",
            "de la ciudad. Es un barrio de artesanos y artistas. Hay muchos talleres \n",
            "y tiendas pequenas.\n",
            "\n",
            "Al volver de Machu Picchu quiero ir a todas esas tiendecitas \n",
            "dice M\n"
          ],
          "name": "stdout"
        }
      ]
    },
    {
      "cell_type": "code",
      "metadata": {
        "id": "STSN5IHiQOD8"
      },
      "source": [
        "text_wo_broken_words = modify_words('[A-z]+\\-\\n[a-z]+', '-\\n', text_wo_ft_words, 'remove')\n",
        "print(text_wo_broken_words[:1000])"
      ],
      "execution_count": null,
      "outputs": []
    },
    {
      "cell_type": "code",
      "metadata": {
        "id": "hy2wBMBIHRtD"
      },
      "source": [
        "# remove the footnotes"
      ],
      "execution_count": null,
      "outputs": []
    },
    {
      "cell_type": "code",
      "metadata": {
        "id": "ASOHuL-vEhak"
      },
      "source": [
        "# Attempt at removing the footnotes\n",
        "import re\n",
        "\n",
        "# normalize the data to ignore special characters in Spanish\n",
        "norm_data = unicodedata.normalize('NFD', data).encode('ascii', 'ignore').decode('utf-8')\n",
        "norm_text = unicodedata.normalize('NFD', text).encode('ascii', 'ignore').decode('utf-8')\n",
        "\n",
        "m = re.search('[A-z]+[1234567890]{1,2}', norm_data[1880:])\n",
        "\n",
        "m.group(0)\n",
        "footnoted_words = [word.strip() for word in re.findall('[A-z]+[1234567890]', norm_data[1880:])]\n",
        "footnote_defs = [word.strip() for word in re.findall('[0-9]{1,2}  [A-z]+[\\s\\w]*:[\\w \\n]*\\.', norm_data[1880:])]\n",
        "\n",
        "#print(footnoted_words)\n",
        "#print(footnote_defs)\n",
        "print(re.findall('([0-9]{1,2}  [A-z]+[\\s\\w]*:([\\w ,\\.:\\-]+\\n)*\\n)', '''1  altura: Cusco esta a unos 3500 metros de altura, lo que en algunas personas \n",
        "provoca el llamado mal de altura o soroche. Los sintomas del mal de altura \n",
        "son: dolor de cabeza, mareos, trastornos estomacales y cansancio. Puede com-\n",
        "batirse con pastillas, ejercicios de respiracion o mate.\n",
        "\n",
        "2  hostal: alojamiento normalmente mas barato y personal que un hotel, aunque \n",
        "sin sus comodidades. La palabra se utiliza principalmente en medios rurales. \n",
        "'''))"
      ],
      "execution_count": null,
      "outputs": []
    },
    {
      "cell_type": "markdown",
      "metadata": {
        "id": "PDZxXbjyF33T"
      },
      "source": [
        ""
      ]
    }
  ]
}