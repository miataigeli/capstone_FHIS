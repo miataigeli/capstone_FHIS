{
 "cells": [
  {
   "cell_type": "markdown",
   "id": "7518b2e8",
   "metadata": {},
   "source": [
    "## nltk: cess_esp"
   ]
  },
  {
   "cell_type": "code",
   "execution_count": 2,
   "id": "2bbfd77e",
   "metadata": {},
   "outputs": [
    {
     "name": "stderr",
     "output_type": "stream",
     "text": [
      "[nltk_data] Downloading package cess_esp to /Users/miali/nltk_data...\n",
      "[nltk_data]   Package cess_esp is already up-to-date!\n"
     ]
    },
    {
     "data": {
      "text/plain": [
       "True"
      ]
     },
     "execution_count": 2,
     "metadata": {},
     "output_type": "execute_result"
    }
   ],
   "source": [
    "import nltk\n",
    "nltk.download('cess_esp') # http://www.lsi.upc.edu/~mbertran/cess-ece2/ no longer accessible"
   ]
  },
  {
   "cell_type": "code",
   "execution_count": 3,
   "id": "3112814d",
   "metadata": {},
   "outputs": [],
   "source": [
    "from nltk.corpus import cess_esp"
   ]
  },
  {
   "cell_type": "code",
   "execution_count": 4,
   "id": "d46a50ed",
   "metadata": {},
   "outputs": [
    {
     "name": "stdout",
     "output_type": "stream",
     "text": [
      "6030\n"
     ]
    },
    {
     "data": {
      "text/plain": [
       "[['El', 'grupo', 'estatal', 'Electricité_de_France', '-Fpa-', 'EDF', '-Fpt-', 'anunció', 'hoy', ',', 'jueves', ',', 'la', 'compra', 'del', '51_por_ciento', 'de', 'la', 'empresa', 'mexicana', 'Electricidad_Águila_de_Altamira', '-Fpa-', 'EAA', '-Fpt-', ',', 'creada', 'por', 'el', 'japonés', 'Mitsubishi_Corporation', 'para', 'poner_en_marcha', 'una', 'central', 'de', 'gas', 'de', '495', 'megavatios', '.'], ['Una', 'portavoz', 'de', 'EDF', 'explicó', 'a', 'EFE', 'que', 'el', 'proyecto', 'para', 'la', 'construcción', 'de', 'Altamira_2', ',', 'al', 'norte', 'de', 'Tampico', ',', 'prevé', 'la', 'utilización', 'de', 'gas', 'natural', 'como', 'combustible', 'principal', 'en', 'una', 'central', 'de', 'ciclo', 'combinado', 'que', 'debe', 'empezar', 'a', 'funcionar', 'en', 'mayo_del_2002', '.'], ...]"
      ]
     },
     "execution_count": 4,
     "metadata": {},
     "output_type": "execute_result"
    }
   ],
   "source": [
    "print(len(cess_esp.sents()))\n",
    "cess_esp.sents()"
   ]
  },
  {
   "cell_type": "markdown",
   "id": "48bea3f2",
   "metadata": {},
   "source": [
    "## TEDx spanish"
   ]
  },
  {
   "cell_type": "code",
   "execution_count": 6,
   "id": "bb335c44",
   "metadata": {},
   "outputs": [
    {
     "data": {
      "text/plain": [
       "['y eso se para mí se se puede reducir en qué en un des pertar de la conciencia humana gracias TEDX_F_001_SPA_0001\\n',\n",
       " 'bueno e les voy a platicar una una historia y ella es yamila TEDX_F_001_SPA_0002\\n',\n",
       " 'si les ponen a una mujer así enfrente y les dicen enséñale a leer y a escribir TEDX_F_001_SPA_0003\\n',\n",
       " 'chin para empezar digo pus no le veo ni más que las manos y los ojos no y después TEDX_F_001_SPA_0004\\n',\n",
       " 'digo pus no tengo nada en común ni cultura ni e idioma este TEDX_F_001_SPA_0005\\n',\n",
       " 'absolutmente nada excepto que somos mujeres no somos seres humanos y entonces TEDX_F_001_SPA_0006\\n',\n",
       " 'me ponen enfrente de ella en un en ese entonces estaba yo trabajando en una organización internacional TEDX_F_001_SPA_0007\\n',\n",
       " 'e donde había muchos refugiados y ella es una de las refugiadas que estaba en el campo y es de afganistan TEDX_F_001_SPA_0008\\n',\n",
       " 'y entonces me ponen en un grupo de afganas y yo como la maestra no TEDX_F_001_SPA_0009\\n',\n",
       " 'cuando me doy cuenta y me enfrento que pues no sabia absolutamente nada y todo lo que había aprendido TEDX_F_001_SPA_0010\\n']"
      ]
     },
     "execution_count": 6,
     "metadata": {},
     "output_type": "execute_result"
    }
   ],
   "source": [
    "# TEDx spanish corpus https://www.openslr.org/67/\n",
    "with open('TEDx_Spanish.transcription', 'r') as f:\n",
    "    tedx = f.readlines()\n",
    "tedx[:10]"
   ]
  },
  {
   "cell_type": "code",
   "execution_count": 33,
   "id": "d2dae7ad",
   "metadata": {},
   "outputs": [],
   "source": [
    "def split_by_doc(tedx):\n",
    "    '''\n",
    "    Given a list of strings read from the file TEDx_Spanish.transcription, return a list transcripts grouped by document\n",
    "    \n",
    "    tedx: (list) list of transcripts on the sentence level\n",
    "    \n",
    "    return: (list) list of lists, where each list is a list of transcripts within a document\n",
    "    '''\n",
    "    curr_list = []\n",
    "    doc_list = []\n",
    "    \n",
    "    for i, sent in enumerate(tedx):\n",
    "        curr_id = sent.split(' ')[-1].split('_')[2]\n",
    "        curr_list.append(sent)\n",
    "#         print(curr_list)\n",
    "        \n",
    "        if i+1 < len(tedx)-1:\n",
    "            next_id = tedx[i+1].split(' ')[-1].split('_')[2]\n",
    "#             print(next_id)\n",
    "            if next_id != curr_id:\n",
    "                doc_list.append(curr_list)\n",
    "                curr_list = []\n",
    "        elif i+1 == len(tedx)-1:\n",
    "            doc_list.append(curr_list)\n",
    "            \n",
    "            \n",
    "    return doc_list"
   ]
  },
  {
   "cell_type": "code",
   "execution_count": 35,
   "id": "e0a7717b",
   "metadata": {},
   "outputs": [],
   "source": [
    "tedx_split = split_by_doc(tedx)"
   ]
  },
  {
   "cell_type": "code",
   "execution_count": null,
   "id": "2e6e0dff",
   "metadata": {},
   "outputs": [],
   "source": []
  }
 ],
 "metadata": {
  "kernelspec": {
   "display_name": "nlp",
   "language": "python",
   "name": "nlp"
  },
  "language_info": {
   "codemirror_mode": {
    "name": "ipython",
    "version": 3
   },
   "file_extension": ".py",
   "mimetype": "text/x-python",
   "name": "python",
   "nbconvert_exporter": "python",
   "pygments_lexer": "ipython3",
   "version": "3.9.2"
  }
 },
 "nbformat": 4,
 "nbformat_minor": 5
}
