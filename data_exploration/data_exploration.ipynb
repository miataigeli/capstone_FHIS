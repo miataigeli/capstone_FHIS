{
 "cells": [
  {
   "cell_type": "markdown",
   "id": "convertible-glance",
   "metadata": {},
   "source": [
    "**Spanish vocab websites**:\n",
    "\n",
    "- Wiki pages on 1000 most common Spanish words: https://en.wiktionary.org/wiki/Wiktionary:Frequency_lists/Spanish1000\n",
    "- top 2000 Spanish words: https://app.memrise.com/course/132342/top-2000-words-in-spanish/ \n",
    "- 5000 words categorized thematically:  https://app.memrise.com/course/203799/5000-most-frequent-spanish-words/\n",
    "- 5000 Spanish words (Flash cards): https://www.brainscape.com/packs/top-5000-spanish-words-8804899"
   ]
  },
  {
   "cell_type": "markdown",
   "id": "modern-idaho",
   "metadata": {},
   "source": [
    "**PDF reader**:\n",
    "    \n",
    "   ```\n",
    "   \n",
    "   from tika import parser # pip install tika\n",
    "\n",
    "    raw = parser.from_file('sample.pdf')\n",
    "    print(raw['content'])\n",
    "\n",
    "```\n",
    "\n",
    "Need to have Java runtime installed.\n",
    "There are other resources available but they do not have good reputation amongst users: https://towardsdatascience.com/pdf-preprocessing-with-python-19829752af9f"
   ]
  },
  {
   "cell_type": "markdown",
   "id": "mysterious-parliament",
   "metadata": {},
   "source": [
    "**Spacy Support for Spanish**: \n",
    "\n",
    "- lemmatizer, sentence segmentation (sentence recognizer), parser, NER, morphologizer available.\n",
    "- based on newswire texts\n",
    "\n"
   ]
  }
 ],
 "metadata": {
  "kernelspec": {
   "display_name": "Python 3",
   "language": "python",
   "name": "python3"
  },
  "language_info": {
   "codemirror_mode": {
    "name": "ipython",
    "version": 3
   },
   "file_extension": ".py",
   "mimetype": "text/x-python",
   "name": "python",
   "nbconvert_exporter": "python",
   "pygments_lexer": "ipython3",
   "version": "3.8.3"
  }
 },
 "nbformat": 4,
 "nbformat_minor": 5
}
