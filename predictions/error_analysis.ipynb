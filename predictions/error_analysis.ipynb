{
 "cells": [
  {
   "cell_type": "markdown",
   "metadata": {},
   "source": [
    "## Error Analysis"
   ]
  },
  {
   "cell_type": "code",
   "execution_count": 70,
   "metadata": {},
   "outputs": [],
   "source": [
    "import pandas as pd\n",
    "import numpy as np"
   ]
  },
  {
   "cell_type": "code",
   "execution_count": 80,
   "metadata": {},
   "outputs": [],
   "source": [
    "# Read in all the files\n",
    "rule_based_preds = pd.read_json('rule_test_pred.json')\n",
    "tree_based_preds = pd.read_json('lightgbm_test_pred.json')\n",
    "svm_preds = pd.read_json('svm_test_pred.json')\n",
    "bert_prelim_preds = pd.read_json('BERT_test_pred_prelim.json')\n",
    "bert_final_preds = pd.read_json('BERT_test_pred_final.json')"
   ]
  },
  {
   "cell_type": "code",
   "execution_count": 99,
   "metadata": {},
   "outputs": [],
   "source": [
    "# How many errors are adjacent classes\n",
    "lab2ind = {'A1': 0, 'A2': 1, 'B': 2}\n",
    "\n",
    "def get_class_errors(df, mode='adjacent'):\n",
    "    ''' Returns a dataframe with the off-by-one errors. '''\n",
    "\n",
    "    pred_a1 = df['prediction'].map(lambda x: lab2ind[x] == 0)\n",
    "    pred_a2 = df['prediction'].map(lambda x: lab2ind[x] == 1)\n",
    "    pred_b = df['prediction'].map(lambda x: lab2ind[x] == 2)\n",
    "\n",
    "    gold_a1 = df['gold'].map(lambda x: lab2ind[x] == 0)\n",
    "    gold_a2 = df['gold'].map(lambda x: lab2ind[x] == 1)\n",
    "    gold_b = df['gold'].map(lambda x: lab2ind[x] == 2)\n",
    "\n",
    "    adjacent_class_error_df = df[(pred_a1 & gold_a2) | (pred_a2 & gold_a1) | (pred_a2 & gold_b) | (pred_b & gold_a2)]\n",
    "    two_class_error_df = df[(pred_a1 & gold_b) | (pred_b & gold_a1)]\n",
    "    \n",
    "    if mode=='adjacent':\n",
    "        return adjacent_class_error_df\n",
    "    elif mode == 'two_class':\n",
    "        return two_class_error_df\n",
    "    \n",
    "def get_pred_over_under(df, mode):\n",
    "    ''' Returns a dataframe with predictions over or under the correct label, depending on the mode string given. '''\n",
    "    pred_a1 = df['prediction'].map(lambda x: lab2ind[x] == 0)\n",
    "    pred_a2 = df['prediction'].map(lambda x: lab2ind[x] == 1)\n",
    "    pred_b = df['prediction'].map(lambda x: lab2ind[x] == 2)\n",
    "\n",
    "    gold_a1 = df['gold'].map(lambda x: lab2ind[x] == 0)\n",
    "    gold_a2 = df['gold'].map(lambda x: lab2ind[x] == 1)\n",
    "    gold_b = df['gold'].map(lambda x: lab2ind[x] == 2)\n",
    "    \n",
    "    if mode=='under':\n",
    "        return df[(pred_a1 & gold_a2) | (pred_a1 & gold_b) | (pred_a2 & gold_b)]\n",
    "    elif mode=='over':\n",
    "        return df[(pred_a2 & gold_a1) | (pred_b & gold_a2) | (pred_b & gold_a1)]\n",
    "    \n",
    "    \n",
    "def print_table(df):\n",
    "    ''' Prints a table of texts, predictions and correct labels in markdown format\n",
    "        for easy copying into the report. Only the first 1000 characters in the text are printed,\n",
    "        for readability. '''\n",
    "    print('| Text     |      Predicted Label       |  Correct Label |\\n|----------|:-------------:|------:|')\n",
    "    for index, row in df.iterrows():\n",
    "        print(f\"| {row['test_text'][:1000]}... | {row['prediction']} | {row['gold']} |\")"
   ]
  },
  {
   "cell_type": "markdown",
   "metadata": {},
   "source": [
    "### Rule-based predictions"
   ]
  },
  {
   "cell_type": "code",
   "execution_count": 72,
   "metadata": {},
   "outputs": [
    {
     "name": "stdout",
     "output_type": "stream",
     "text": [
      "(32, 3)\n"
     ]
    },
    {
     "data": {
      "text/html": [
       "<div>\n",
       "<style scoped>\n",
       "    .dataframe tbody tr th:only-of-type {\n",
       "        vertical-align: middle;\n",
       "    }\n",
       "\n",
       "    .dataframe tbody tr th {\n",
       "        vertical-align: top;\n",
       "    }\n",
       "\n",
       "    .dataframe thead th {\n",
       "        text-align: right;\n",
       "    }\n",
       "</style>\n",
       "<table border=\"1\" class=\"dataframe\">\n",
       "  <thead>\n",
       "    <tr style=\"text-align: right;\">\n",
       "      <th></th>\n",
       "      <th>test_text</th>\n",
       "      <th>prediction</th>\n",
       "      <th>gold</th>\n",
       "    </tr>\n",
       "  </thead>\n",
       "  <tbody>\n",
       "    <tr>\n",
       "      <th>0</th>\n",
       "      <td>capítulo —¡paren ya de pelearse! —el hombre al...</td>\n",
       "      <td>A1</td>\n",
       "      <td>A1</td>\n",
       "    </tr>\n",
       "    <tr>\n",
       "      <th>1</th>\n",
       "      <td>¡es con voz de la biblia, o verso de walt whit...</td>\n",
       "      <td>B</td>\n",
       "      <td>B</td>\n",
       "    </tr>\n",
       "    <tr>\n",
       "      <th>2</th>\n",
       "      <td>los cuatro hermanos un zapatero tenía cuatro h...</td>\n",
       "      <td>A2</td>\n",
       "      <td>A2</td>\n",
       "    </tr>\n",
       "    <tr>\n",
       "      <th>3</th>\n",
       "      <td>una mañana entró un caballero en la tienda de ...</td>\n",
       "      <td>A1</td>\n",
       "      <td>A1</td>\n",
       "    </tr>\n",
       "    <tr>\n",
       "      <th>4</th>\n",
       "      <td>había un viejo que tenía una hija muy hermosa....</td>\n",
       "      <td>A1</td>\n",
       "      <td>A1</td>\n",
       "    </tr>\n",
       "  </tbody>\n",
       "</table>\n",
       "</div>"
      ],
      "text/plain": [
       "                                           test_text prediction gold\n",
       "0  capítulo —¡paren ya de pelearse! —el hombre al...         A1   A1\n",
       "1  ¡es con voz de la biblia, o verso de walt whit...          B    B\n",
       "2  los cuatro hermanos un zapatero tenía cuatro h...         A2   A2\n",
       "3  una mañana entró un caballero en la tienda de ...         A1   A1\n",
       "4  había un viejo que tenía una hija muy hermosa....         A1   A1"
      ]
     },
     "execution_count": 72,
     "metadata": {},
     "output_type": "execute_result"
    }
   ],
   "source": [
    "print(rule_based_preds.shape)\n",
    "rule_based_preds.head()"
   ]
  },
  {
   "cell_type": "code",
   "execution_count": 73,
   "metadata": {},
   "outputs": [
    {
     "name": "stdout",
     "output_type": "stream",
     "text": [
      "(15, 3)\n"
     ]
    }
   ],
   "source": [
    "rule_based_errors = rule_based_preds[rule_based_preds['prediction'] != rule_based_preds['gold']]\n",
    "print(rule_based_errors.shape)"
   ]
  },
  {
   "cell_type": "markdown",
   "metadata": {},
   "source": [
    "Out of 32 texts, the rule-based model gets 15 predictions wrong."
   ]
  },
  {
   "cell_type": "code",
   "execution_count": 86,
   "metadata": {},
   "outputs": [],
   "source": [
    "adjacent_class_error_df = get_class_errors(rule_based_errors, mode='adjacent')\n",
    "two_class_error_df = get_class_errors(rule_based_errors, mode='two_class')"
   ]
  },
  {
   "cell_type": "code",
   "execution_count": 87,
   "metadata": {},
   "outputs": [
    {
     "data": {
      "text/plain": [
       "(13, 3)"
      ]
     },
     "execution_count": 87,
     "metadata": {},
     "output_type": "execute_result"
    }
   ],
   "source": [
    "adjacent_class_error.shape"
   ]
  },
  {
   "cell_type": "code",
   "execution_count": 88,
   "metadata": {},
   "outputs": [
    {
     "data": {
      "text/html": [
       "<div>\n",
       "<style scoped>\n",
       "    .dataframe tbody tr th:only-of-type {\n",
       "        vertical-align: middle;\n",
       "    }\n",
       "\n",
       "    .dataframe tbody tr th {\n",
       "        vertical-align: top;\n",
       "    }\n",
       "\n",
       "    .dataframe thead th {\n",
       "        text-align: right;\n",
       "    }\n",
       "</style>\n",
       "<table border=\"1\" class=\"dataframe\">\n",
       "  <thead>\n",
       "    <tr style=\"text-align: right;\">\n",
       "      <th></th>\n",
       "      <th>test_text</th>\n",
       "      <th>prediction</th>\n",
       "      <th>gold</th>\n",
       "    </tr>\n",
       "  </thead>\n",
       "  <tbody>\n",
       "    <tr>\n",
       "      <th>25</th>\n",
       "      <td>¿en qué mes hablan menos las mujeres?—en el de...</td>\n",
       "      <td>B</td>\n",
       "      <td>A1</td>\n",
       "    </tr>\n",
       "    <tr>\n",
       "      <th>29</th>\n",
       "      <td>¡hola! mi nombre es javier. cuando era niño, m...</td>\n",
       "      <td>A1</td>\n",
       "      <td>B</td>\n",
       "    </tr>\n",
       "  </tbody>\n",
       "</table>\n",
       "</div>"
      ],
      "text/plain": [
       "                                            test_text prediction gold\n",
       "25  ¿en qué mes hablan menos las mujeres?—en el de...          B   A1\n",
       "29  ¡hola! mi nombre es javier. cuando era niño, m...         A1    B"
      ]
     },
     "execution_count": 88,
     "metadata": {},
     "output_type": "execute_result"
    }
   ],
   "source": [
    "two_class_error"
   ]
  },
  {
   "cell_type": "code",
   "execution_count": 90,
   "metadata": {},
   "outputs": [
    {
     "data": {
      "text/html": [
       "<div>\n",
       "<style scoped>\n",
       "    .dataframe tbody tr th:only-of-type {\n",
       "        vertical-align: middle;\n",
       "    }\n",
       "\n",
       "    .dataframe tbody tr th {\n",
       "        vertical-align: top;\n",
       "    }\n",
       "\n",
       "    .dataframe thead th {\n",
       "        text-align: right;\n",
       "    }\n",
       "</style>\n",
       "<table border=\"1\" class=\"dataframe\">\n",
       "  <thead>\n",
       "    <tr style=\"text-align: right;\">\n",
       "      <th></th>\n",
       "      <th>test_text</th>\n",
       "      <th>prediction</th>\n",
       "      <th>gold</th>\n",
       "    </tr>\n",
       "  </thead>\n",
       "  <tbody>\n",
       "    <tr>\n",
       "      <th>5</th>\n",
       "      <td>ésta es la historia de lola y ana quienes comp...</td>\n",
       "      <td>A2</td>\n",
       "      <td>A1</td>\n",
       "    </tr>\n",
       "    <tr>\n",
       "      <th>8</th>\n",
       "      <td>los dos conejos por entre unas matas seguido d...</td>\n",
       "      <td>A2</td>\n",
       "      <td>A1</td>\n",
       "    </tr>\n",
       "    <tr>\n",
       "      <th>13</th>\n",
       "      <td>capítulo ii que trata de la primera salida que...</td>\n",
       "      <td>B</td>\n",
       "      <td>A2</td>\n",
       "    </tr>\n",
       "    <tr>\n",
       "      <th>14</th>\n",
       "      <td>un día un pollo entra en un bosque. una bellot...</td>\n",
       "      <td>A2</td>\n",
       "      <td>A1</td>\n",
       "    </tr>\n",
       "    <tr>\n",
       "      <th>15</th>\n",
       "      <td>ésta es la historia de lola y ana que comparte...</td>\n",
       "      <td>A2</td>\n",
       "      <td>A1</td>\n",
       "    </tr>\n",
       "    <tr>\n",
       "      <th>21</th>\n",
       "      <td>cuba la república de cuba, llamada la \"perla d...</td>\n",
       "      <td>B</td>\n",
       "      <td>A2</td>\n",
       "    </tr>\n",
       "    <tr>\n",
       "      <th>22</th>\n",
       "      <td>capítulo —¿por qué no venís a mi casa? —propon...</td>\n",
       "      <td>A2</td>\n",
       "      <td>A1</td>\n",
       "    </tr>\n",
       "    <tr>\n",
       "      <th>23</th>\n",
       "      <td>capítulo los siguientes días los amigos hablan...</td>\n",
       "      <td>A2</td>\n",
       "      <td>A1</td>\n",
       "    </tr>\n",
       "  </tbody>\n",
       "</table>\n",
       "</div>"
      ],
      "text/plain": [
       "                                            test_text prediction gold\n",
       "5   ésta es la historia de lola y ana quienes comp...         A2   A1\n",
       "8   los dos conejos por entre unas matas seguido d...         A2   A1\n",
       "13  capítulo ii que trata de la primera salida que...          B   A2\n",
       "14  un día un pollo entra en un bosque. una bellot...         A2   A1\n",
       "15  ésta es la historia de lola y ana que comparte...         A2   A1\n",
       "21  cuba la república de cuba, llamada la \"perla d...          B   A2\n",
       "22  capítulo —¿por qué no venís a mi casa? —propon...         A2   A1\n",
       "23  capítulo los siguientes días los amigos hablan...         A2   A1"
      ]
     },
     "execution_count": 90,
     "metadata": {},
     "output_type": "execute_result"
    }
   ],
   "source": [
    "get_pred_over_under(adjacent_class_error, 'over')"
   ]
  },
  {
   "cell_type": "code",
   "execution_count": 91,
   "metadata": {},
   "outputs": [
    {
     "data": {
      "text/html": [
       "<div>\n",
       "<style scoped>\n",
       "    .dataframe tbody tr th:only-of-type {\n",
       "        vertical-align: middle;\n",
       "    }\n",
       "\n",
       "    .dataframe tbody tr th {\n",
       "        vertical-align: top;\n",
       "    }\n",
       "\n",
       "    .dataframe thead th {\n",
       "        text-align: right;\n",
       "    }\n",
       "</style>\n",
       "<table border=\"1\" class=\"dataframe\">\n",
       "  <thead>\n",
       "    <tr style=\"text-align: right;\">\n",
       "      <th></th>\n",
       "      <th>test_text</th>\n",
       "      <th>prediction</th>\n",
       "      <th>gold</th>\n",
       "    </tr>\n",
       "  </thead>\n",
       "  <tbody>\n",
       "    <tr>\n",
       "      <th>9</th>\n",
       "      <td>hay personas que cifran todo su orgullo en com...</td>\n",
       "      <td>A2</td>\n",
       "      <td>B</td>\n",
       "    </tr>\n",
       "    <tr>\n",
       "      <th>11</th>\n",
       "      <td>en vacaciones, el fin de semana o después del ...</td>\n",
       "      <td>A1</td>\n",
       "      <td>A2</td>\n",
       "    </tr>\n",
       "    <tr>\n",
       "      <th>18</th>\n",
       "      <td>es un poderoso día de verano en misiones, con ...</td>\n",
       "      <td>A2</td>\n",
       "      <td>B</td>\n",
       "    </tr>\n",
       "    <tr>\n",
       "      <th>24</th>\n",
       "      <td>proverbios. (iii) dos amigos de una bolsa, el ...</td>\n",
       "      <td>A1</td>\n",
       "      <td>A2</td>\n",
       "    </tr>\n",
       "    <tr>\n",
       "      <th>30</th>\n",
       "      <td>adivinanzas. (i) ¿en qué se parece un esquelet...</td>\n",
       "      <td>A1</td>\n",
       "      <td>A2</td>\n",
       "    </tr>\n",
       "  </tbody>\n",
       "</table>\n",
       "</div>"
      ],
      "text/plain": [
       "                                            test_text prediction gold\n",
       "9   hay personas que cifran todo su orgullo en com...         A2    B\n",
       "11  en vacaciones, el fin de semana o después del ...         A1   A2\n",
       "18  es un poderoso día de verano en misiones, con ...         A2    B\n",
       "24  proverbios. (iii) dos amigos de una bolsa, el ...         A1   A2\n",
       "30  adivinanzas. (i) ¿en qué se parece un esquelet...         A1   A2"
      ]
     },
     "execution_count": 91,
     "metadata": {},
     "output_type": "execute_result"
    }
   ],
   "source": [
    "get_pred_over_under(adjacent_class_error, 'under')"
   ]
  },
  {
   "cell_type": "markdown",
   "metadata": {},
   "source": [
    "13 errors are predictions that have a different of 1."
   ]
  },
  {
   "cell_type": "code",
   "execution_count": 94,
   "metadata": {
    "scrolled": true
   },
   "outputs": [
    {
     "name": "stdout",
     "output_type": "stream",
     "text": [
      "| ésta es la historia de lola y ana quienes comparten un piso en barcelona. y sus vecinos, pablo y sam, de norteamérica. a sam le gusta ana. a lola le gusta toby. y a pablo le gustan las nenas, las motocicletas ¡y la pizza! ¡no se mueva! ¡extra! ya empieza … pablo: ¡ya casi está! así, muy bien. ¡perfecto! y ahora, ¡al salón! ahí, ¡perfecto! ¡qué guay, tío! y ahora, algo de beber. coca-cola. y … ¡patatas fritas! ah. y finalmente, ¡radio pizza! ¡sólo quedan dos horas! lola: ¡pablo! ¡¿qué hace tu tele en mi cuarto de baño?! pablo: ah, hola, lola, es que … es que no quería perderme nada. lola: ¿perderte qué? pablo: sí, ya sabes, tengo que … cuando empiece el partido. lola: ¡el partido! pablo: es muy importante. ¡es la copa del mundo! lola: ¡la copa del mundo! ¡estoy harta de la copa del mundo! ¡siempre hablando de la copa del mundo! ¿quién juega hoy? pablo: es la semifinal. ¡españa! lola: ¿contra? sam: ¡américa! pablo: ¡eh, sam! bonito traje. ¡¡pero equipo equivocado!! yo me he puesto mis ca... | A2 | A1 |\n",
      "| los dos conejos por entre unas matas seguido de perros (no diré corría) volaba un conejo. de su madriguera salió un compañero, y le dijo: \"tente, amigo, ¿qué es esto?\" \"¿qué ha de ser?\" responde: \"sin aliento llego... dos pícaros galgos me vienen siguiendo.\" \"sí (replica el otro), por allí los veo... pero no son galgos.\" \"pues ¿qué son?\"—\"podencos.\" \"¡qué! ¿podencos dices? sí, como mi abuelo. galgos y muy galgos: bien visto los tengo.\" \"son podencos: vaya, que no entiendes de eso.' \"son galgos, te digo.\" \"digo que podencos.\" en esta disputa llegando los perros, pillan descuidados a mis dos conejos. los que por cuestiones de poco momento dejan lo que importa, llévense este ejemplo. no debemos detenernos en cuestiones frívolas, olvidando el asunto principal.... | A2 | A1 |\n",
      "| hay personas que cifran todo su orgullo en comprar barato, como le sucede á un tío mío, hombre muy nervioso y algo irascible, que se va á un establecimiento de paños y empieza por pedir una silla y sentarse cómodamente. —sáqueme usted tela para un gabán—dice con aire de hombre superior.—quiero que sea buena, ¿sabe usted? el dependiente coloca sobre el mostrador seis ó siete piezas de paño. mi tío desde su asiento examina el género, lo frota, lo mira al trasluz, lo estira, lo encoge, lo acerca á la nariz, se lo pasa por los párpados para ver si es suave, y, por último, pregunta: —¿á cómo? —á tres duros. mi tío se levanta, hace un gesto de desdén y se finge que va á tomar la puerta, no sin decir antes: —vaya, vaya; veo que no quiere usted vender. —pero venga usted acá y nos arreglaremos.... mi tío se acerca al mostrador, coge al dependiente por la muñeca, le aproxima los labios al oído y le dice á media voz: —¿quiere usted treinta reales?... —¿está usted loco? ¡treinta reales por un géne... | A2 | B |\n",
      "| en vacaciones, el fin de semana o después del trabajo tienes tiempo libre para hacer ejercicio, llevar un pasatiempo o salir a divertirte. si eres deportista y te gusta el agua puedes nadar, si te gusta la nieve puedes esquiar. si no dispones de mucho tiempo puedes correr o ir en bicicleta. hay quien prefiere quedarse en casa a ver la televisión, jugar videojuegos o navegar en internet. otras actividades para hacer dentro de casa cuando llueve o hace mucho frío son escuchar tu música favorita, leer un buen libro o aprender a tocar un instrumento. puedes aprovechar tu tiempo libre para estudiar. si el tiempo es bueno, tal vez quieras ir de compras, salir con amigos a divertirse o pasar tiempo con la familia en algún lugar divertido para todos, como un parque de diversiones, el teatro o el cine. aprovechar el tiempo libre es importante para tener una vida feliz.... | A1 | A2 |\n",
      "| capítulo ii que trata de la primera salida que de su tierra hizo el ingenioso don quijote hechas, pues, estas prevenciones, no quiso aguardar más tiempo a poner en efeto su pensamiento, apretándole a ello la falta que él pensaba que hacía en el mundo su tardanza, según eran los agravios que pensaba deshacer, tuertos que enderezar, sinrazones que enmendar, y abusos que mejorar y deudas que satisfacer. y así, sin dar parte a persona alguna de su intención, y sin que nadie le viese, una mañana, antes del día, que era uno de los calurosos del mes de julio, se armó de todas sus armas, subió sobre rocinante, puesta su mal compuesta celada, embrazó su adarga, tomó su lanza y, por la puerta falsa de un corral, salió al campo con grandísimo contento y alborozo de ver con cuánta facilidad había dado principio a su buen deseo. mas, apenas se vio en el campo, cuando le asaltó un pensamiento terrible, y tal, que por poco le hiciera dejar la comenzada empresa; y fue que le vino a la memoria que no e... | B | A2 |\n",
      "| un día un pollo entra en un bosque. una bellota cae en su cabeza. el pobre pollo cree que el cielo ha caído sobre él. corre para informar al rey. en el camino encuentra una gallina. —¿a dónde vas?—pregunta la gallina. —¡oh!—dice el pollo,—el cielo ha caído en mi cabeza y voy a informar al rey. —yo voy también, si quieres,—responde la gallina y se marchan juntos el pollo y la gallina al palacio del rey. en el camino encuentran un gallo. —¿a dónde vas?—pregunta el gallo a la gallina. —¡oh!—dice la gallina—el cielo ha caído sobre la cabeza del pobre pollo y vamos a informar al rey. —yo voy también, si quieres,—responde el gallo y se marchan juntos el pollo, la gallina y el gallo al palacio del rey. en el camino encuentran un pato. —¿a dónde vas?—pregunta el pato al gallo. —¡oh!—dice el gallo,—el cielo ha caído en la cabeza del pobre pollo y vamos a informar al rey. —yo voy también, si quieres—responde el pato y se marchan juntos el pollo, la gallina, el gallo y el pato al palacio del rey.... | A2 | A1 |\n",
      "| ésta es la historia de lola y ana que comparten un piso en españa tienen una visita, sam, de américa… que…no habla bien el español… que…no tiene estilo… a las chicas le gusta sam porque es… ¡y pablo descubre que sam es muy rico! ¡prepárate para el próximo episodio de extra! ana: me llamo ana. tengo diecinueve años y adoro todos los animales. comparto el piso con mi amiga lola. ¡oh! ya sé. me gusta el chocolate. hmmm … lola: ¿qué haces ana? ana: nada. lola: ¡mm! ¿qué es esto? ¿querido mío, donde estás? ana: ¡ooh! ¿de dónde vino eso? lola: ¡oh qué bonito! ines: ¡hola! aquí estamos, ahí inés, y vamos a divertirnos todos. ¡sí, venga! ¡derecha la cabeza! ¡izquierda! ¡derecha! ¡izquierda, y derecha! ¡y izquierda! lola: ¿sam? ines: ¡venga más, y más! lola: ¿sam? sam: oh! hola lola! ines: y arriba … y abajo. arriba … lola: y arriba … lola: ¡no te pares sam! ines: arriba, abajo. vamos.doble sus rodillas. arriba, abajo. uno, dos, y tres, y cuatro … ana: así que sam encontró el video de inés. lol... | A2 | A1 |\n",
      "| es un poderoso día de verano en misiones, con todo el sol, el calor y la calma que puede deparar la estación. la naturaleza, plenamente abierta, se siente satisfecha de sí. como el sol, el calor y la calma ambiente, el padre abre también su corazón a la naturaleza. —ten cuidado, chiquito — dice a su hijo abreviando en esa frase todas las observaciones del caso y que su hijo comprende perfectamente. —si, papá — responde la criatura, mientras coge la escopeta y carga de cartuchos los bolsillos de su camisa, que cierra con cuidado. —vuelve a la hora de almorzar — observa aún el padre. —sí, papá—repite el chico. equilibra la escopeta en la mano, sonríe a su padre, lo besa en la cabeza y parte. su padre lo sigue un rato con los ojos y vuelve a su quehacer de ese día, feliz con la alegría de su pequeño. sabe que su hijo, educado desde su más tierna infancia en el hábito y la precaución del peligro, puede manejar un fusil y cazar no importa qué. aunque es muy alto para su edad, no tiene sino ... | A2 | B |\n",
      "| cuba la república de cuba, llamada la \"perla de las antillas\" es la más fértil y la más hermosa de las antillas. esta isla es más grande de lo que generalmente se cree, pues tiene casi tantos kilómetros cuadrados como el estado de pensilvania. el suelo de cuba es fecundísimo. abundan en sus hermosos bosques maderas ricas y en su suelo se encuentran el hierro, el platino y el asfalto. la gran riqueza de la isla, sin embargo, consiste en las vegas de tabaco, de caña de azúcar, de café y de algodón. grandes ingenios de caña de azúcar cubren sus ricos valles donde se encuentran las mejores y más modernas maquinarias para la preparación del azúcar. los campos de tabaco, situados principalmente en la parte occidental de la isla en la provincia pinar del río, producen abundante y rico tabaco del cual se hacen los famosos cigarros de la habana. cuba exporta enormes cantidades de tabaco y de azúcar. sus exportaciones a los estados unidos en 1913 fueron más de $,,; as importaciones de los estado... | B | A2 |\n",
      "| capítulo —¿por qué no venís a mi casa? —propone guille. —¡vale! los chicos no quieren volver al instituto. tampoco quieren estar solos. —vamos a pasar la cinta del vídeo —propone sergio en la habitación de guillermo. —pero ahora ya sabemos quién ha sido… —bueno, solo por curiosidad. el vídeo durante un rato, enfoca las taquillas. —pásalo rápido… después de unos minutos, se ve a los chicos de cuarto de eso que salen de clase, se acercan a las taquillas y las abren para poner o sacar sus cosas. después se ven solo las taquillas otra vez. —¡mira, es francisco! —exclama laura de repente—. ponlo a velocidad normal. guillermo vuelve al principio de la escena. los chicos ven a francisco que se acerca a la pantalla, su cara se hace grande hasta ocupar toda la imagen. después, la cámara enfoca las taquillas, moviéndose desordenadamente, llega hasta las escaleras y recorre el pasillo hasta llegar a su aula. de repente, la cámara enfoca al gato. ahora la cámara se mueve violentamente y las imágen... | A2 | A1 |\n",
      "| capítulo los siguientes días los amigos hablan con frecuencia de la chica de la playa. —¡qué chica más rara! ¿no? —sí, y su abuela... —martín, tú tienes la camisa de mita, ¿verdad? —sí, es verdad. tengo que devolvérsela. el campeonato de fútbol sala continúa. gómez, el entrenador, reúne a los jugadores. ha terminado la primera fase y los mejores equipos se preparan para las semifinales. —tenemos que jugar contra el equipo de un instituto de méxico, de acapulco. —los he visto jugar —dice raúl que ha ido a ver todos los partidos. —son muy buenos —dice sergio. —sí, son muy buenos —dice gómez—. defienden bien y tienen buenos delanteros... —entonces... —pregunta martín—. ¿los otros semifinalistas son los de aquí? —sí. los del peralta. a estos ya los conocemos —contesta gómez. —... y el instituto de chile, ¿verdad? —los de chile son buenos, pero irregulares... —antes de empezar las semifinales... —continúa el entrenador— jugaremos dos partidos amistosos, para preparar el partido contra el eq... | A2 | A1 |\n",
      "| proverbios. (iii) dos amigos de una bolsa, el uno canta y el otro llora. dicen los niños en el solejar, lo que oyen a sus padres en el hogar. de tal palo tal astilla. de quien pone los ojos en el suelo, no le fíes tu dinero. del dicho al hecho hay mucho trecho. de la mano a la boca se pierde la sopa. de hombres es errar, de bestias perseverar en el error. de dineros y bondad, siempre quita la mitad. dame donde me siente, que yo haré donde me acueste. niño criado de abuelo, nunca bueno. costumbres y dineros hacen los hijos caballeros. con lo que sana sancha, marta cae mala. compañía de tres, no vale res. cien sastres y cien molineros y cien tejedores son tres cien ladrones. cada uno extiende la pierna como tiene la cubierta.... | A1 | A2 |\n",
      "| ¿en qué mes hablan menos las mujeres?—en el de febrero. ¿cuál es el mayor castigo para un bígamo?—tener dos suegras. ¿quién es el que lleva sin escrúpulo su sombrero en la cabeza, lo mismo delante de un príncipe, que de un rey, o de un emperador?—el cochero. ¿qué es lo que llevaba alejandro en la mano izquierda, cuando tomó la ciudad de lamsaco?—los cinco dedos. ¿qué es lo que pasa el río sin hacer sombra?—el sonido de las campanas. ¿qué es lo que se deja quemar por guardar un secreto?—el lacre. ¿qué es lo que va de madrid a zaragoza sin moverse y sin dar un paso?—la carretera. ¿cuándo entran los perros en las iglesias?—cuando están abiertas las puertas. ¿porqué es una mujer deforme cuando está remendando sus medias?—porque sus manos están donde debían estar sus pies. ¿porqué los molineros llevan sombrero gris y los carboneros negro?—por cubrirse la cabeza. ¿en qué se parecen las mujeres a los montes?—en que tienen faldas. ¿qué fue lo último que consiguió isabel la católica?—morirse. ¿... | B | A1 |\n",
      "| ¡hola! mi nombre es javier. cuando era niño, mi mamá pensaba que los jóvenes debían practicar un deporte y tocar un instrumento. esto me incentivó a jugar futbol y me enseñó a trabajar en equipo, generar confianza y buscar una meta común. también me animó a tocar el piano para mejorar la coordinación entre mi cerebro y mi cuerpo, mi capacidad cognitiva, perseverancia y disciplina. luego, me interesé más en los pasatiempos y empecé a emplear más tiempo en ellos. así que comencé a probar otros deportes como el basquetbol y el tenis. también, luego de desarrollar un muy buen gusto por la música, aprendí a tocar otros instrumentos como la guitarra y el violín. todas estas herramientas fueron construyendo nuevas habilidades que podía utilizar en otras actividades. mis miedos más grandes cuando era pequeño eran bailar, nadar y cocinar. hace poco tiempo decidí afrontarlos, por lo que me inscribí en clases de flamenco, clases de natación y clases de cocina. haber practicado me ayudó con el fla... | A1 | B |\n",
      "| adivinanzas. (i) ¿en qué se parece un esqueleto a una comida de viernes? en que le falta la carne. ¿qué es lo que va de madrid a toledo sin moverse? el camino. ¿en qué se parece un gallo a un monte? en la cresta. ¿por qué en invierno sale tarde el sol? porque, como hace frío, no le da la gana de madrugar. ¿por qué es más frío el aire en el invierno que en el verano? porque en el invierno le cierran las puertas de las casas, y tiene que estarse en la calle. ¿qué es lo que se nos aparece una vez en un minuto, dos veces en un momento, y nunca en un siglo? la letra m. ¿en qué estado se coge un cordero para matarlo? vivo.... | A1 | A2 |\n"
     ]
    }
   ],
   "source": [
    "# Print Table\n",
    "print_table(rule_based_errors)"
   ]
  },
  {
   "cell_type": "markdown",
   "metadata": {},
   "source": [
    "Observations: most of the errors are of a difference of 1 class, meaning that the model still does really well considering that the difference might be ambiguous."
   ]
  },
  {
   "cell_type": "markdown",
   "metadata": {},
   "source": [
    "### Tree-Based Predictions"
   ]
  },
  {
   "cell_type": "code",
   "execution_count": 81,
   "metadata": {},
   "outputs": [
    {
     "name": "stdout",
     "output_type": "stream",
     "text": [
      "(32, 3)\n"
     ]
    },
    {
     "data": {
      "text/html": [
       "<div>\n",
       "<style scoped>\n",
       "    .dataframe tbody tr th:only-of-type {\n",
       "        vertical-align: middle;\n",
       "    }\n",
       "\n",
       "    .dataframe tbody tr th {\n",
       "        vertical-align: top;\n",
       "    }\n",
       "\n",
       "    .dataframe thead th {\n",
       "        text-align: right;\n",
       "    }\n",
       "</style>\n",
       "<table border=\"1\" class=\"dataframe\">\n",
       "  <thead>\n",
       "    <tr style=\"text-align: right;\">\n",
       "      <th></th>\n",
       "      <th>test_text</th>\n",
       "      <th>prediction</th>\n",
       "      <th>gold</th>\n",
       "    </tr>\n",
       "  </thead>\n",
       "  <tbody>\n",
       "    <tr>\n",
       "      <th>0</th>\n",
       "      <td>capítulo —¡paren ya de pelearse! —el hombre al...</td>\n",
       "      <td>A1</td>\n",
       "      <td>A1</td>\n",
       "    </tr>\n",
       "    <tr>\n",
       "      <th>1</th>\n",
       "      <td>¡es con voz de la biblia, o verso de walt whit...</td>\n",
       "      <td>B</td>\n",
       "      <td>B</td>\n",
       "    </tr>\n",
       "    <tr>\n",
       "      <th>2</th>\n",
       "      <td>los cuatro hermanos un zapatero tenía cuatro h...</td>\n",
       "      <td>A2</td>\n",
       "      <td>A2</td>\n",
       "    </tr>\n",
       "    <tr>\n",
       "      <th>3</th>\n",
       "      <td>una mañana entró un caballero en la tienda de ...</td>\n",
       "      <td>A1</td>\n",
       "      <td>A1</td>\n",
       "    </tr>\n",
       "    <tr>\n",
       "      <th>4</th>\n",
       "      <td>había un viejo que tenía una hija muy hermosa....</td>\n",
       "      <td>A2</td>\n",
       "      <td>A1</td>\n",
       "    </tr>\n",
       "  </tbody>\n",
       "</table>\n",
       "</div>"
      ],
      "text/plain": [
       "                                           test_text prediction gold\n",
       "0  capítulo —¡paren ya de pelearse! —el hombre al...         A1   A1\n",
       "1  ¡es con voz de la biblia, o verso de walt whit...          B    B\n",
       "2  los cuatro hermanos un zapatero tenía cuatro h...         A2   A2\n",
       "3  una mañana entró un caballero en la tienda de ...         A1   A1\n",
       "4  había un viejo que tenía una hija muy hermosa....         A2   A1"
      ]
     },
     "execution_count": 81,
     "metadata": {},
     "output_type": "execute_result"
    }
   ],
   "source": [
    "print(tree_based_preds.shape)\n",
    "tree_based_preds.head()"
   ]
  },
  {
   "cell_type": "code",
   "execution_count": 82,
   "metadata": {},
   "outputs": [
    {
     "name": "stdout",
     "output_type": "stream",
     "text": [
      "(12, 3)\n"
     ]
    }
   ],
   "source": [
    "tree_based_errors = tree_based_preds[tree_based_preds['prediction'] != tree_based_preds['gold']]\n",
    "print(tree_based_errors.shape)"
   ]
  },
  {
   "cell_type": "code",
   "execution_count": 95,
   "metadata": {},
   "outputs": [],
   "source": [
    "# How many errors are adjacent classes\n",
    "adjacent_class_errors = get_class_errors(tree_based_errors, 'adjacent')\n",
    "two_class_errors = get_class_errors(tree_based_errors, 'two_class')"
   ]
  },
  {
   "cell_type": "code",
   "execution_count": 96,
   "metadata": {},
   "outputs": [
    {
     "data": {
      "text/html": [
       "<div>\n",
       "<style scoped>\n",
       "    .dataframe tbody tr th:only-of-type {\n",
       "        vertical-align: middle;\n",
       "    }\n",
       "\n",
       "    .dataframe tbody tr th {\n",
       "        vertical-align: top;\n",
       "    }\n",
       "\n",
       "    .dataframe thead th {\n",
       "        text-align: right;\n",
       "    }\n",
       "</style>\n",
       "<table border=\"1\" class=\"dataframe\">\n",
       "  <thead>\n",
       "    <tr style=\"text-align: right;\">\n",
       "      <th></th>\n",
       "      <th>test_text</th>\n",
       "      <th>prediction</th>\n",
       "      <th>gold</th>\n",
       "    </tr>\n",
       "  </thead>\n",
       "  <tbody>\n",
       "    <tr>\n",
       "      <th>4</th>\n",
       "      <td>había un viejo que tenía una hija muy hermosa....</td>\n",
       "      <td>A2</td>\n",
       "      <td>A1</td>\n",
       "    </tr>\n",
       "    <tr>\n",
       "      <th>10</th>\n",
       "      <td>en extremadura vivía un hombre. el hombre era ...</td>\n",
       "      <td>A2</td>\n",
       "      <td>A1</td>\n",
       "    </tr>\n",
       "    <tr>\n",
       "      <th>11</th>\n",
       "      <td>en vacaciones, el fin de semana o después del ...</td>\n",
       "      <td>A1</td>\n",
       "      <td>A2</td>\n",
       "    </tr>\n",
       "    <tr>\n",
       "      <th>21</th>\n",
       "      <td>cuba la república de cuba, llamada la \"perla d...</td>\n",
       "      <td>B</td>\n",
       "      <td>A2</td>\n",
       "    </tr>\n",
       "    <tr>\n",
       "      <th>22</th>\n",
       "      <td>capítulo —¿por qué no venís a mi casa? —propon...</td>\n",
       "      <td>A2</td>\n",
       "      <td>A1</td>\n",
       "    </tr>\n",
       "    <tr>\n",
       "      <th>23</th>\n",
       "      <td>capítulo los siguientes días los amigos hablan...</td>\n",
       "      <td>A2</td>\n",
       "      <td>A1</td>\n",
       "    </tr>\n",
       "    <tr>\n",
       "      <th>24</th>\n",
       "      <td>proverbios. (iii) dos amigos de una bolsa, el ...</td>\n",
       "      <td>A1</td>\n",
       "      <td>A2</td>\n",
       "    </tr>\n",
       "    <tr>\n",
       "      <th>29</th>\n",
       "      <td>¡hola! mi nombre es javier. cuando era niño, m...</td>\n",
       "      <td>A2</td>\n",
       "      <td>B</td>\n",
       "    </tr>\n",
       "    <tr>\n",
       "      <th>30</th>\n",
       "      <td>adivinanzas. (i) ¿en qué se parece un esquelet...</td>\n",
       "      <td>B</td>\n",
       "      <td>A2</td>\n",
       "    </tr>\n",
       "  </tbody>\n",
       "</table>\n",
       "</div>"
      ],
      "text/plain": [
       "                                            test_text prediction gold\n",
       "4   había un viejo que tenía una hija muy hermosa....         A2   A1\n",
       "10  en extremadura vivía un hombre. el hombre era ...         A2   A1\n",
       "11  en vacaciones, el fin de semana o después del ...         A1   A2\n",
       "21  cuba la república de cuba, llamada la \"perla d...          B   A2\n",
       "22  capítulo —¿por qué no venís a mi casa? —propon...         A2   A1\n",
       "23  capítulo los siguientes días los amigos hablan...         A2   A1\n",
       "24  proverbios. (iii) dos amigos de una bolsa, el ...         A1   A2\n",
       "29  ¡hola! mi nombre es javier. cuando era niño, m...         A2    B\n",
       "30  adivinanzas. (i) ¿en qué se parece un esquelet...          B   A2"
      ]
     },
     "execution_count": 96,
     "metadata": {},
     "output_type": "execute_result"
    }
   ],
   "source": [
    "adjacent_class_errors"
   ]
  },
  {
   "cell_type": "code",
   "execution_count": 97,
   "metadata": {},
   "outputs": [
    {
     "data": {
      "text/html": [
       "<div>\n",
       "<style scoped>\n",
       "    .dataframe tbody tr th:only-of-type {\n",
       "        vertical-align: middle;\n",
       "    }\n",
       "\n",
       "    .dataframe tbody tr th {\n",
       "        vertical-align: top;\n",
       "    }\n",
       "\n",
       "    .dataframe thead th {\n",
       "        text-align: right;\n",
       "    }\n",
       "</style>\n",
       "<table border=\"1\" class=\"dataframe\">\n",
       "  <thead>\n",
       "    <tr style=\"text-align: right;\">\n",
       "      <th></th>\n",
       "      <th>test_text</th>\n",
       "      <th>prediction</th>\n",
       "      <th>gold</th>\n",
       "    </tr>\n",
       "  </thead>\n",
       "  <tbody>\n",
       "    <tr>\n",
       "      <th>8</th>\n",
       "      <td>los dos conejos por entre unas matas seguido d...</td>\n",
       "      <td>B</td>\n",
       "      <td>A1</td>\n",
       "    </tr>\n",
       "    <tr>\n",
       "      <th>19</th>\n",
       "      <td>al partir ¡perla del mar! ¡estrella de occiden...</td>\n",
       "      <td>A1</td>\n",
       "      <td>B</td>\n",
       "    </tr>\n",
       "    <tr>\n",
       "      <th>25</th>\n",
       "      <td>¿en qué mes hablan menos las mujeres?—en el de...</td>\n",
       "      <td>B</td>\n",
       "      <td>A1</td>\n",
       "    </tr>\n",
       "  </tbody>\n",
       "</table>\n",
       "</div>"
      ],
      "text/plain": [
       "                                            test_text prediction gold\n",
       "8   los dos conejos por entre unas matas seguido d...          B   A1\n",
       "19  al partir ¡perla del mar! ¡estrella de occiden...         A1    B\n",
       "25  ¿en qué mes hablan menos las mujeres?—en el de...          B   A1"
      ]
     },
     "execution_count": 97,
     "metadata": {},
     "output_type": "execute_result"
    }
   ],
   "source": [
    "two_class_errors"
   ]
  },
  {
   "cell_type": "code",
   "execution_count": 100,
   "metadata": {
    "scrolled": true
   },
   "outputs": [
    {
     "name": "stdout",
     "output_type": "stream",
     "text": [
      "| Text     |      Predicted Label       |  Correct Label |\n",
      "|----------|:-------------:|------:|\n",
      "| había un viejo que tenía una hija muy hermosa. él era muy ignorante y no sabía lo que era ni oro ni plata. todos los días iba el viejo al bosque a cortar leña. llevaba la leña a la ciudad y la cambiaba por comida para su mujer y su hija. un día estaba cortando el tronco de un árbol grande y oyó lamentos adentro. luego salió un negro muy feo y le dijo: —me has herido y morirás por esto. el viejo se excusó, diciendo: —señor, perdóneme vd. soy muy pobre y vengo a buscar leña para mantener a mi mujer y a mi hija. —¿y es hermosa tu hija?—dijo el negro. —¡oh! sí, señor—dijo el viejo;—y mucho. —pues bien—le dijo el negro,—yo te perdono la vida si me das tu hija por esposa; y si no, morirás. dentro de ocho días te presentarás aquí con la contestación. si la niña quiere o no quiere, debes venir para decírmelo. y ahora abre el tronco de este árbol y hallarás mucho oro. puedes llevarlo a tu mujer y a tu hija. el viejo cortó el árbol y adentro halló mucho oro. cargó su burro con el oro y se fue a ... | A2 | A1 |\n",
      "| los dos conejos por entre unas matas seguido de perros (no diré corría) volaba un conejo. de su madriguera salió un compañero, y le dijo: \"tente, amigo, ¿qué es esto?\" \"¿qué ha de ser?\" responde: \"sin aliento llego... dos pícaros galgos me vienen siguiendo.\" \"sí (replica el otro), por allí los veo... pero no son galgos.\" \"pues ¿qué son?\"—\"podencos.\" \"¡qué! ¿podencos dices? sí, como mi abuelo. galgos y muy galgos: bien visto los tengo.\" \"son podencos: vaya, que no entiendes de eso.' \"son galgos, te digo.\" \"digo que podencos.\" en esta disputa llegando los perros, pillan descuidados a mis dos conejos. los que por cuestiones de poco momento dejan lo que importa, llévense este ejemplo. no debemos detenernos en cuestiones frívolas, olvidando el asunto principal.... | B | A1 |\n",
      "| en extremadura vivía un hombre. el hombre era rico. era muy rico. tenía casas y viñas, vacas y ovejas, caballos y cerdos. las casas eran grandes y nuevas. las viñas tenían muchas uvas. las vacas, las ovejas y los cerdos estaban muy gordos. los caballos eran los más hermosos de extremadura. el hombre tenía todavía más. tenía una buena mujer y buenos hijos. tenía todo lo que podía desear; pero el hombre no estaba satisfecho. no estaba satisfecho con dios ni con su mujer ni con sus hijos. tampoco estaba satisfecho del tiempo. cuando hacía frío decía:—hace frío; este tiempo no es bueno para mis viñas. cuando llovía, exclamaba:—llueve demasiado; el tiempo está muy húmedo. debemos tener sol. cuando hacía sol, tampoco estaba satisfecho. hoy hacía mucho frío, mañana mucho calor; ora el tiempo era muy húmedo, ora muy seco. un día entró en su viña. allí estaban las hermosas uvas. tenía más uvas que todas las otras personas de extremadura; pero no estaba satisfecho.—estas uvas son muy pequeñas—di... | A2 | A1 |\n",
      "| en vacaciones, el fin de semana o después del trabajo tienes tiempo libre para hacer ejercicio, llevar un pasatiempo o salir a divertirte. si eres deportista y te gusta el agua puedes nadar, si te gusta la nieve puedes esquiar. si no dispones de mucho tiempo puedes correr o ir en bicicleta. hay quien prefiere quedarse en casa a ver la televisión, jugar videojuegos o navegar en internet. otras actividades para hacer dentro de casa cuando llueve o hace mucho frío son escuchar tu música favorita, leer un buen libro o aprender a tocar un instrumento. puedes aprovechar tu tiempo libre para estudiar. si el tiempo es bueno, tal vez quieras ir de compras, salir con amigos a divertirse o pasar tiempo con la familia en algún lugar divertido para todos, como un parque de diversiones, el teatro o el cine. aprovechar el tiempo libre es importante para tener una vida feliz.... | A1 | A2 |\n",
      "| al partir ¡perla del mar! ¡estrella de occidente! ¡hermosa cuba! tu brillante cielo la noche cubre con su opaco velo, como cubre el dolor mi triste frente. ¡voy á partir!... la chusma diligente para arrancarme del nativo suelo las velas iza, y pronta á su desvelo la brisa acude de tu zona ardiente. ¡adiós, patria feliz, edén querido! doquier que el hado en su furor me impela, tu dulce nombre halagará mi oído. ¡adiós!... ¡ya cruje la turgente vela... el ancla se alza... el buque estremecido las olas corta y silencioso vuela!... | A1 | B |\n",
      "| cuba la república de cuba, llamada la \"perla de las antillas\" es la más fértil y la más hermosa de las antillas. esta isla es más grande de lo que generalmente se cree, pues tiene casi tantos kilómetros cuadrados como el estado de pensilvania. el suelo de cuba es fecundísimo. abundan en sus hermosos bosques maderas ricas y en su suelo se encuentran el hierro, el platino y el asfalto. la gran riqueza de la isla, sin embargo, consiste en las vegas de tabaco, de caña de azúcar, de café y de algodón. grandes ingenios de caña de azúcar cubren sus ricos valles donde se encuentran las mejores y más modernas maquinarias para la preparación del azúcar. los campos de tabaco, situados principalmente en la parte occidental de la isla en la provincia pinar del río, producen abundante y rico tabaco del cual se hacen los famosos cigarros de la habana. cuba exporta enormes cantidades de tabaco y de azúcar. sus exportaciones a los estados unidos en 1913 fueron más de $,,; as importaciones de los estado... | B | A2 |\n",
      "| capítulo —¿por qué no venís a mi casa? —propone guille. —¡vale! los chicos no quieren volver al instituto. tampoco quieren estar solos. —vamos a pasar la cinta del vídeo —propone sergio en la habitación de guillermo. —pero ahora ya sabemos quién ha sido… —bueno, solo por curiosidad. el vídeo durante un rato, enfoca las taquillas. —pásalo rápido… después de unos minutos, se ve a los chicos de cuarto de eso que salen de clase, se acercan a las taquillas y las abren para poner o sacar sus cosas. después se ven solo las taquillas otra vez. —¡mira, es francisco! —exclama laura de repente—. ponlo a velocidad normal. guillermo vuelve al principio de la escena. los chicos ven a francisco que se acerca a la pantalla, su cara se hace grande hasta ocupar toda la imagen. después, la cámara enfoca las taquillas, moviéndose desordenadamente, llega hasta las escaleras y recorre el pasillo hasta llegar a su aula. de repente, la cámara enfoca al gato. ahora la cámara se mueve violentamente y las imágen... | A2 | A1 |\n",
      "| capítulo los siguientes días los amigos hablan con frecuencia de la chica de la playa. —¡qué chica más rara! ¿no? —sí, y su abuela... —martín, tú tienes la camisa de mita, ¿verdad? —sí, es verdad. tengo que devolvérsela. el campeonato de fútbol sala continúa. gómez, el entrenador, reúne a los jugadores. ha terminado la primera fase y los mejores equipos se preparan para las semifinales. —tenemos que jugar contra el equipo de un instituto de méxico, de acapulco. —los he visto jugar —dice raúl que ha ido a ver todos los partidos. —son muy buenos —dice sergio. —sí, son muy buenos —dice gómez—. defienden bien y tienen buenos delanteros... —entonces... —pregunta martín—. ¿los otros semifinalistas son los de aquí? —sí. los del peralta. a estos ya los conocemos —contesta gómez. —... y el instituto de chile, ¿verdad? —los de chile son buenos, pero irregulares... —antes de empezar las semifinales... —continúa el entrenador— jugaremos dos partidos amistosos, para preparar el partido contra el eq... | A2 | A1 |\n",
      "| proverbios. (iii) dos amigos de una bolsa, el uno canta y el otro llora. dicen los niños en el solejar, lo que oyen a sus padres en el hogar. de tal palo tal astilla. de quien pone los ojos en el suelo, no le fíes tu dinero. del dicho al hecho hay mucho trecho. de la mano a la boca se pierde la sopa. de hombres es errar, de bestias perseverar en el error. de dineros y bondad, siempre quita la mitad. dame donde me siente, que yo haré donde me acueste. niño criado de abuelo, nunca bueno. costumbres y dineros hacen los hijos caballeros. con lo que sana sancha, marta cae mala. compañía de tres, no vale res. cien sastres y cien molineros y cien tejedores son tres cien ladrones. cada uno extiende la pierna como tiene la cubierta.... | A1 | A2 |\n",
      "| ¿en qué mes hablan menos las mujeres?—en el de febrero. ¿cuál es el mayor castigo para un bígamo?—tener dos suegras. ¿quién es el que lleva sin escrúpulo su sombrero en la cabeza, lo mismo delante de un príncipe, que de un rey, o de un emperador?—el cochero. ¿qué es lo que llevaba alejandro en la mano izquierda, cuando tomó la ciudad de lamsaco?—los cinco dedos. ¿qué es lo que pasa el río sin hacer sombra?—el sonido de las campanas. ¿qué es lo que se deja quemar por guardar un secreto?—el lacre. ¿qué es lo que va de madrid a zaragoza sin moverse y sin dar un paso?—la carretera. ¿cuándo entran los perros en las iglesias?—cuando están abiertas las puertas. ¿porqué es una mujer deforme cuando está remendando sus medias?—porque sus manos están donde debían estar sus pies. ¿porqué los molineros llevan sombrero gris y los carboneros negro?—por cubrirse la cabeza. ¿en qué se parecen las mujeres a los montes?—en que tienen faldas. ¿qué fue lo último que consiguió isabel la católica?—morirse. ¿... | B | A1 |\n",
      "| ¡hola! mi nombre es javier. cuando era niño, mi mamá pensaba que los jóvenes debían practicar un deporte y tocar un instrumento. esto me incentivó a jugar futbol y me enseñó a trabajar en equipo, generar confianza y buscar una meta común. también me animó a tocar el piano para mejorar la coordinación entre mi cerebro y mi cuerpo, mi capacidad cognitiva, perseverancia y disciplina. luego, me interesé más en los pasatiempos y empecé a emplear más tiempo en ellos. así que comencé a probar otros deportes como el basquetbol y el tenis. también, luego de desarrollar un muy buen gusto por la música, aprendí a tocar otros instrumentos como la guitarra y el violín. todas estas herramientas fueron construyendo nuevas habilidades que podía utilizar en otras actividades. mis miedos más grandes cuando era pequeño eran bailar, nadar y cocinar. hace poco tiempo decidí afrontarlos, por lo que me inscribí en clases de flamenco, clases de natación y clases de cocina. haber practicado me ayudó con el fla... | A2 | B |\n",
      "| adivinanzas. (i) ¿en qué se parece un esqueleto a una comida de viernes? en que le falta la carne. ¿qué es lo que va de madrid a toledo sin moverse? el camino. ¿en qué se parece un gallo a un monte? en la cresta. ¿por qué en invierno sale tarde el sol? porque, como hace frío, no le da la gana de madrugar. ¿por qué es más frío el aire en el invierno que en el verano? porque en el invierno le cierran las puertas de las casas, y tiene que estarse en la calle. ¿qué es lo que se nos aparece una vez en un minuto, dos veces en un momento, y nunca en un siglo? la letra m. ¿en qué estado se coge un cordero para matarlo? vivo.... | B | A2 |\n"
     ]
    }
   ],
   "source": [
    "print_table(tree_based_errors)"
   ]
  },
  {
   "cell_type": "markdown",
   "metadata": {},
   "source": [
    "### SVM"
   ]
  },
  {
   "cell_type": "code",
   "execution_count": 103,
   "metadata": {},
   "outputs": [
    {
     "name": "stdout",
     "output_type": "stream",
     "text": [
      "(32, 3)\n"
     ]
    },
    {
     "data": {
      "text/html": [
       "<div>\n",
       "<style scoped>\n",
       "    .dataframe tbody tr th:only-of-type {\n",
       "        vertical-align: middle;\n",
       "    }\n",
       "\n",
       "    .dataframe tbody tr th {\n",
       "        vertical-align: top;\n",
       "    }\n",
       "\n",
       "    .dataframe thead th {\n",
       "        text-align: right;\n",
       "    }\n",
       "</style>\n",
       "<table border=\"1\" class=\"dataframe\">\n",
       "  <thead>\n",
       "    <tr style=\"text-align: right;\">\n",
       "      <th></th>\n",
       "      <th>test_text</th>\n",
       "      <th>prediction</th>\n",
       "      <th>gold</th>\n",
       "    </tr>\n",
       "  </thead>\n",
       "  <tbody>\n",
       "    <tr>\n",
       "      <th>0</th>\n",
       "      <td>capítulo —¡paren ya de pelearse! —el hombre al...</td>\n",
       "      <td>A1</td>\n",
       "      <td>A1</td>\n",
       "    </tr>\n",
       "    <tr>\n",
       "      <th>1</th>\n",
       "      <td>¡es con voz de la biblia, o verso de walt whit...</td>\n",
       "      <td>B</td>\n",
       "      <td>B</td>\n",
       "    </tr>\n",
       "    <tr>\n",
       "      <th>2</th>\n",
       "      <td>los cuatro hermanos un zapatero tenía cuatro h...</td>\n",
       "      <td>A2</td>\n",
       "      <td>A2</td>\n",
       "    </tr>\n",
       "    <tr>\n",
       "      <th>3</th>\n",
       "      <td>una mañana entró un caballero en la tienda de ...</td>\n",
       "      <td>A1</td>\n",
       "      <td>A1</td>\n",
       "    </tr>\n",
       "    <tr>\n",
       "      <th>4</th>\n",
       "      <td>había un viejo que tenía una hija muy hermosa....</td>\n",
       "      <td>A1</td>\n",
       "      <td>A1</td>\n",
       "    </tr>\n",
       "  </tbody>\n",
       "</table>\n",
       "</div>"
      ],
      "text/plain": [
       "                                           test_text prediction gold\n",
       "0  capítulo —¡paren ya de pelearse! —el hombre al...         A1   A1\n",
       "1  ¡es con voz de la biblia, o verso de walt whit...          B    B\n",
       "2  los cuatro hermanos un zapatero tenía cuatro h...         A2   A2\n",
       "3  una mañana entró un caballero en la tienda de ...         A1   A1\n",
       "4  había un viejo que tenía una hija muy hermosa....         A1   A1"
      ]
     },
     "execution_count": 103,
     "metadata": {},
     "output_type": "execute_result"
    }
   ],
   "source": [
    "print(svm_preds.shape)\n",
    "svm_preds.head()"
   ]
  },
  {
   "cell_type": "code",
   "execution_count": 104,
   "metadata": {},
   "outputs": [
    {
     "name": "stdout",
     "output_type": "stream",
     "text": [
      "(7, 3)\n"
     ]
    }
   ],
   "source": [
    "svm_errors = svm_preds[svm_preds['prediction'] != svm_preds['gold']]\n",
    "print(svm_errors.shape)"
   ]
  },
  {
   "cell_type": "code",
   "execution_count": 106,
   "metadata": {},
   "outputs": [],
   "source": [
    "# How many errors are adjacent classes\n",
    "adjacent_class_errors = get_class_errors(svm_errors, 'adjacent')\n",
    "two_class_errors = get_class_errors(svm_errors, 'two_class')"
   ]
  },
  {
   "cell_type": "code",
   "execution_count": 107,
   "metadata": {},
   "outputs": [
    {
     "data": {
      "text/html": [
       "<div>\n",
       "<style scoped>\n",
       "    .dataframe tbody tr th:only-of-type {\n",
       "        vertical-align: middle;\n",
       "    }\n",
       "\n",
       "    .dataframe tbody tr th {\n",
       "        vertical-align: top;\n",
       "    }\n",
       "\n",
       "    .dataframe thead th {\n",
       "        text-align: right;\n",
       "    }\n",
       "</style>\n",
       "<table border=\"1\" class=\"dataframe\">\n",
       "  <thead>\n",
       "    <tr style=\"text-align: right;\">\n",
       "      <th></th>\n",
       "      <th>test_text</th>\n",
       "      <th>prediction</th>\n",
       "      <th>gold</th>\n",
       "    </tr>\n",
       "  </thead>\n",
       "  <tbody>\n",
       "    <tr>\n",
       "      <th>10</th>\n",
       "      <td>en extremadura vivía un hombre. el hombre era ...</td>\n",
       "      <td>A2</td>\n",
       "      <td>A1</td>\n",
       "    </tr>\n",
       "    <tr>\n",
       "      <th>11</th>\n",
       "      <td>en vacaciones, el fin de semana o después del ...</td>\n",
       "      <td>B</td>\n",
       "      <td>A2</td>\n",
       "    </tr>\n",
       "    <tr>\n",
       "      <th>24</th>\n",
       "      <td>proverbios. (iii) dos amigos de una bolsa, el ...</td>\n",
       "      <td>B</td>\n",
       "      <td>A2</td>\n",
       "    </tr>\n",
       "    <tr>\n",
       "      <th>29</th>\n",
       "      <td>¡hola! mi nombre es javier. cuando era niño, m...</td>\n",
       "      <td>A2</td>\n",
       "      <td>B</td>\n",
       "    </tr>\n",
       "  </tbody>\n",
       "</table>\n",
       "</div>"
      ],
      "text/plain": [
       "                                            test_text prediction gold\n",
       "10  en extremadura vivía un hombre. el hombre era ...         A2   A1\n",
       "11  en vacaciones, el fin de semana o después del ...          B   A2\n",
       "24  proverbios. (iii) dos amigos de una bolsa, el ...          B   A2\n",
       "29  ¡hola! mi nombre es javier. cuando era niño, m...         A2    B"
      ]
     },
     "execution_count": 107,
     "metadata": {},
     "output_type": "execute_result"
    }
   ],
   "source": [
    "adjacent_class_errors"
   ]
  },
  {
   "cell_type": "code",
   "execution_count": 108,
   "metadata": {},
   "outputs": [
    {
     "data": {
      "text/html": [
       "<div>\n",
       "<style scoped>\n",
       "    .dataframe tbody tr th:only-of-type {\n",
       "        vertical-align: middle;\n",
       "    }\n",
       "\n",
       "    .dataframe tbody tr th {\n",
       "        vertical-align: top;\n",
       "    }\n",
       "\n",
       "    .dataframe thead th {\n",
       "        text-align: right;\n",
       "    }\n",
       "</style>\n",
       "<table border=\"1\" class=\"dataframe\">\n",
       "  <thead>\n",
       "    <tr style=\"text-align: right;\">\n",
       "      <th></th>\n",
       "      <th>test_text</th>\n",
       "      <th>prediction</th>\n",
       "      <th>gold</th>\n",
       "    </tr>\n",
       "  </thead>\n",
       "  <tbody>\n",
       "    <tr>\n",
       "      <th>8</th>\n",
       "      <td>los dos conejos por entre unas matas seguido d...</td>\n",
       "      <td>B</td>\n",
       "      <td>A1</td>\n",
       "    </tr>\n",
       "    <tr>\n",
       "      <th>14</th>\n",
       "      <td>un día un pollo entra en un bosque. una bellot...</td>\n",
       "      <td>B</td>\n",
       "      <td>A1</td>\n",
       "    </tr>\n",
       "    <tr>\n",
       "      <th>25</th>\n",
       "      <td>¿en qué mes hablan menos las mujeres?—en el de...</td>\n",
       "      <td>B</td>\n",
       "      <td>A1</td>\n",
       "    </tr>\n",
       "  </tbody>\n",
       "</table>\n",
       "</div>"
      ],
      "text/plain": [
       "                                            test_text prediction gold\n",
       "8   los dos conejos por entre unas matas seguido d...          B   A1\n",
       "14  un día un pollo entra en un bosque. una bellot...          B   A1\n",
       "25  ¿en qué mes hablan menos las mujeres?—en el de...          B   A1"
      ]
     },
     "execution_count": 108,
     "metadata": {},
     "output_type": "execute_result"
    }
   ],
   "source": [
    "two_class_errors"
   ]
  },
  {
   "cell_type": "code",
   "execution_count": 109,
   "metadata": {},
   "outputs": [
    {
     "name": "stdout",
     "output_type": "stream",
     "text": [
      "| Text     |      Predicted Label       |  Correct Label |\n",
      "|----------|:-------------:|------:|\n",
      "| los dos conejos por entre unas matas seguido de perros (no diré corría) volaba un conejo. de su madriguera salió un compañero, y le dijo: \"tente, amigo, ¿qué es esto?\" \"¿qué ha de ser?\" responde: \"sin aliento llego... dos pícaros galgos me vienen siguiendo.\" \"sí (replica el otro), por allí los veo... pero no son galgos.\" \"pues ¿qué son?\"—\"podencos.\" \"¡qué! ¿podencos dices? sí, como mi abuelo. galgos y muy galgos: bien visto los tengo.\" \"son podencos: vaya, que no entiendes de eso.' \"son galgos, te digo.\" \"digo que podencos.\" en esta disputa llegando los perros, pillan descuidados a mis dos conejos. los que por cuestiones de poco momento dejan lo que importa, llévense este ejemplo. no debemos detenernos en cuestiones frívolas, olvidando el asunto principal.... | B | A1 |\n",
      "| en extremadura vivía un hombre. el hombre era rico. era muy rico. tenía casas y viñas, vacas y ovejas, caballos y cerdos. las casas eran grandes y nuevas. las viñas tenían muchas uvas. las vacas, las ovejas y los cerdos estaban muy gordos. los caballos eran los más hermosos de extremadura. el hombre tenía todavía más. tenía una buena mujer y buenos hijos. tenía todo lo que podía desear; pero el hombre no estaba satisfecho. no estaba satisfecho con dios ni con su mujer ni con sus hijos. tampoco estaba satisfecho del tiempo. cuando hacía frío decía:—hace frío; este tiempo no es bueno para mis viñas. cuando llovía, exclamaba:—llueve demasiado; el tiempo está muy húmedo. debemos tener sol. cuando hacía sol, tampoco estaba satisfecho. hoy hacía mucho frío, mañana mucho calor; ora el tiempo era muy húmedo, ora muy seco. un día entró en su viña. allí estaban las hermosas uvas. tenía más uvas que todas las otras personas de extremadura; pero no estaba satisfecho.—estas uvas son muy pequeñas—di... | A2 | A1 |\n",
      "| en vacaciones, el fin de semana o después del trabajo tienes tiempo libre para hacer ejercicio, llevar un pasatiempo o salir a divertirte. si eres deportista y te gusta el agua puedes nadar, si te gusta la nieve puedes esquiar. si no dispones de mucho tiempo puedes correr o ir en bicicleta. hay quien prefiere quedarse en casa a ver la televisión, jugar videojuegos o navegar en internet. otras actividades para hacer dentro de casa cuando llueve o hace mucho frío son escuchar tu música favorita, leer un buen libro o aprender a tocar un instrumento. puedes aprovechar tu tiempo libre para estudiar. si el tiempo es bueno, tal vez quieras ir de compras, salir con amigos a divertirse o pasar tiempo con la familia en algún lugar divertido para todos, como un parque de diversiones, el teatro o el cine. aprovechar el tiempo libre es importante para tener una vida feliz.... | B | A2 |\n",
      "| un día un pollo entra en un bosque. una bellota cae en su cabeza. el pobre pollo cree que el cielo ha caído sobre él. corre para informar al rey. en el camino encuentra una gallina. —¿a dónde vas?—pregunta la gallina. —¡oh!—dice el pollo,—el cielo ha caído en mi cabeza y voy a informar al rey. —yo voy también, si quieres,—responde la gallina y se marchan juntos el pollo y la gallina al palacio del rey. en el camino encuentran un gallo. —¿a dónde vas?—pregunta el gallo a la gallina. —¡oh!—dice la gallina—el cielo ha caído sobre la cabeza del pobre pollo y vamos a informar al rey. —yo voy también, si quieres,—responde el gallo y se marchan juntos el pollo, la gallina y el gallo al palacio del rey. en el camino encuentran un pato. —¿a dónde vas?—pregunta el pato al gallo. —¡oh!—dice el gallo,—el cielo ha caído en la cabeza del pobre pollo y vamos a informar al rey. —yo voy también, si quieres—responde el pato y se marchan juntos el pollo, la gallina, el gallo y el pato al palacio del rey.... | B | A1 |\n",
      "| proverbios. (iii) dos amigos de una bolsa, el uno canta y el otro llora. dicen los niños en el solejar, lo que oyen a sus padres en el hogar. de tal palo tal astilla. de quien pone los ojos en el suelo, no le fíes tu dinero. del dicho al hecho hay mucho trecho. de la mano a la boca se pierde la sopa. de hombres es errar, de bestias perseverar en el error. de dineros y bondad, siempre quita la mitad. dame donde me siente, que yo haré donde me acueste. niño criado de abuelo, nunca bueno. costumbres y dineros hacen los hijos caballeros. con lo que sana sancha, marta cae mala. compañía de tres, no vale res. cien sastres y cien molineros y cien tejedores son tres cien ladrones. cada uno extiende la pierna como tiene la cubierta.... | B | A2 |\n",
      "| ¿en qué mes hablan menos las mujeres?—en el de febrero. ¿cuál es el mayor castigo para un bígamo?—tener dos suegras. ¿quién es el que lleva sin escrúpulo su sombrero en la cabeza, lo mismo delante de un príncipe, que de un rey, o de un emperador?—el cochero. ¿qué es lo que llevaba alejandro en la mano izquierda, cuando tomó la ciudad de lamsaco?—los cinco dedos. ¿qué es lo que pasa el río sin hacer sombra?—el sonido de las campanas. ¿qué es lo que se deja quemar por guardar un secreto?—el lacre. ¿qué es lo que va de madrid a zaragoza sin moverse y sin dar un paso?—la carretera. ¿cuándo entran los perros en las iglesias?—cuando están abiertas las puertas. ¿porqué es una mujer deforme cuando está remendando sus medias?—porque sus manos están donde debían estar sus pies. ¿porqué los molineros llevan sombrero gris y los carboneros negro?—por cubrirse la cabeza. ¿en qué se parecen las mujeres a los montes?—en que tienen faldas. ¿qué fue lo último que consiguió isabel la católica?—morirse. ¿... | B | A1 |\n",
      "| ¡hola! mi nombre es javier. cuando era niño, mi mamá pensaba que los jóvenes debían practicar un deporte y tocar un instrumento. esto me incentivó a jugar futbol y me enseñó a trabajar en equipo, generar confianza y buscar una meta común. también me animó a tocar el piano para mejorar la coordinación entre mi cerebro y mi cuerpo, mi capacidad cognitiva, perseverancia y disciplina. luego, me interesé más en los pasatiempos y empecé a emplear más tiempo en ellos. así que comencé a probar otros deportes como el basquetbol y el tenis. también, luego de desarrollar un muy buen gusto por la música, aprendí a tocar otros instrumentos como la guitarra y el violín. todas estas herramientas fueron construyendo nuevas habilidades que podía utilizar en otras actividades. mis miedos más grandes cuando era pequeño eran bailar, nadar y cocinar. hace poco tiempo decidí afrontarlos, por lo que me inscribí en clases de flamenco, clases de natación y clases de cocina. haber practicado me ayudó con el fla... | A2 | B |\n"
     ]
    }
   ],
   "source": [
    "print_table(svm_errors)"
   ]
  },
  {
   "cell_type": "markdown",
   "metadata": {},
   "source": [
    "### Neural Models"
   ]
  },
  {
   "cell_type": "markdown",
   "metadata": {},
   "source": [
    "#### Preliminary BERT model"
   ]
  },
  {
   "cell_type": "code",
   "execution_count": 113,
   "metadata": {},
   "outputs": [
    {
     "name": "stdout",
     "output_type": "stream",
     "text": [
      "(32, 3)\n"
     ]
    },
    {
     "data": {
      "text/html": [
       "<div>\n",
       "<style scoped>\n",
       "    .dataframe tbody tr th:only-of-type {\n",
       "        vertical-align: middle;\n",
       "    }\n",
       "\n",
       "    .dataframe tbody tr th {\n",
       "        vertical-align: top;\n",
       "    }\n",
       "\n",
       "    .dataframe thead th {\n",
       "        text-align: right;\n",
       "    }\n",
       "</style>\n",
       "<table border=\"1\" class=\"dataframe\">\n",
       "  <thead>\n",
       "    <tr style=\"text-align: right;\">\n",
       "      <th></th>\n",
       "      <th>test_text</th>\n",
       "      <th>prediction</th>\n",
       "      <th>gold</th>\n",
       "    </tr>\n",
       "  </thead>\n",
       "  <tbody>\n",
       "    <tr>\n",
       "      <th>0</th>\n",
       "      <td>CAPÍtULO 7\\n\\n—¡Paren ya de pelearse! —el homb...</td>\n",
       "      <td>A1</td>\n",
       "      <td>A1</td>\n",
       "    </tr>\n",
       "    <tr>\n",
       "      <th>1</th>\n",
       "      <td>¡Es con voz de la Biblia, o verso de Walt Whit...</td>\n",
       "      <td>B</td>\n",
       "      <td>B</td>\n",
       "    </tr>\n",
       "    <tr>\n",
       "      <th>2</th>\n",
       "      <td>39. LOS CUATRO HERMANOS\\nUn zapatero tenía cua...</td>\n",
       "      <td>A2</td>\n",
       "      <td>A2</td>\n",
       "    </tr>\n",
       "    <tr>\n",
       "      <th>3</th>\n",
       "      <td>Una mañana entró un caballero en la tienda de ...</td>\n",
       "      <td>A1</td>\n",
       "      <td>A1</td>\n",
       "    </tr>\n",
       "    <tr>\n",
       "      <th>4</th>\n",
       "      <td>Había un viejo que tenía una hija muy hermosa....</td>\n",
       "      <td>A1</td>\n",
       "      <td>A1</td>\n",
       "    </tr>\n",
       "  </tbody>\n",
       "</table>\n",
       "</div>"
      ],
      "text/plain": [
       "                                           test_text prediction gold\n",
       "0  CAPÍtULO 7\\n\\n—¡Paren ya de pelearse! —el homb...         A1   A1\n",
       "1  ¡Es con voz de la Biblia, o verso de Walt Whit...          B    B\n",
       "2  39. LOS CUATRO HERMANOS\\nUn zapatero tenía cua...         A2   A2\n",
       "3  Una mañana entró un caballero en la tienda de ...         A1   A1\n",
       "4  Había un viejo que tenía una hija muy hermosa....         A1   A1"
      ]
     },
     "execution_count": 113,
     "metadata": {},
     "output_type": "execute_result"
    }
   ],
   "source": [
    "print(bert_prelim_preds.shape)\n",
    "bert_prelim_preds.columns = ['test_text', 'prediction', 'gold']\n",
    "bert_prelim_preds.head()"
   ]
  },
  {
   "cell_type": "code",
   "execution_count": 114,
   "metadata": {},
   "outputs": [
    {
     "name": "stdout",
     "output_type": "stream",
     "text": [
      "(2, 3)\n"
     ]
    }
   ],
   "source": [
    "bert_prelim_errors = bert_prelim_preds[bert_prelim_preds['prediction'] != bert_prelim_preds['gold']]\n",
    "print(bert_prelim_errors.shape)"
   ]
  },
  {
   "cell_type": "code",
   "execution_count": 117,
   "metadata": {},
   "outputs": [],
   "source": [
    "adjacent_class_errors = get_class_errors(bert_prelim_errors, 'adjacent')\n",
    "two_class_errors = get_class_errors(bert_prelim_errors, 'two_class')"
   ]
  },
  {
   "cell_type": "code",
   "execution_count": 118,
   "metadata": {},
   "outputs": [
    {
     "data": {
      "text/html": [
       "<div>\n",
       "<style scoped>\n",
       "    .dataframe tbody tr th:only-of-type {\n",
       "        vertical-align: middle;\n",
       "    }\n",
       "\n",
       "    .dataframe tbody tr th {\n",
       "        vertical-align: top;\n",
       "    }\n",
       "\n",
       "    .dataframe thead th {\n",
       "        text-align: right;\n",
       "    }\n",
       "</style>\n",
       "<table border=\"1\" class=\"dataframe\">\n",
       "  <thead>\n",
       "    <tr style=\"text-align: right;\">\n",
       "      <th></th>\n",
       "      <th>test_text</th>\n",
       "      <th>prediction</th>\n",
       "      <th>gold</th>\n",
       "    </tr>\n",
       "  </thead>\n",
       "  <tbody>\n",
       "    <tr>\n",
       "      <th>11</th>\n",
       "      <td>En vacaciones, el fin de semana o después del ...</td>\n",
       "      <td>A1</td>\n",
       "      <td>A2</td>\n",
       "    </tr>\n",
       "    <tr>\n",
       "      <th>18</th>\n",
       "      <td>Es un poderoso día de verano en Misiones, con ...</td>\n",
       "      <td>A2</td>\n",
       "      <td>B</td>\n",
       "    </tr>\n",
       "  </tbody>\n",
       "</table>\n",
       "</div>"
      ],
      "text/plain": [
       "                                            test_text prediction gold\n",
       "11  En vacaciones, el fin de semana o después del ...         A1   A2\n",
       "18  Es un poderoso día de verano en Misiones, con ...         A2    B"
      ]
     },
     "execution_count": 118,
     "metadata": {},
     "output_type": "execute_result"
    }
   ],
   "source": [
    "adjacent_class_errors"
   ]
  },
  {
   "cell_type": "code",
   "execution_count": 119,
   "metadata": {},
   "outputs": [
    {
     "data": {
      "text/html": [
       "<div>\n",
       "<style scoped>\n",
       "    .dataframe tbody tr th:only-of-type {\n",
       "        vertical-align: middle;\n",
       "    }\n",
       "\n",
       "    .dataframe tbody tr th {\n",
       "        vertical-align: top;\n",
       "    }\n",
       "\n",
       "    .dataframe thead th {\n",
       "        text-align: right;\n",
       "    }\n",
       "</style>\n",
       "<table border=\"1\" class=\"dataframe\">\n",
       "  <thead>\n",
       "    <tr style=\"text-align: right;\">\n",
       "      <th></th>\n",
       "      <th>test_text</th>\n",
       "      <th>prediction</th>\n",
       "      <th>gold</th>\n",
       "    </tr>\n",
       "  </thead>\n",
       "  <tbody>\n",
       "  </tbody>\n",
       "</table>\n",
       "</div>"
      ],
      "text/plain": [
       "Empty DataFrame\n",
       "Columns: [test_text, prediction, gold]\n",
       "Index: []"
      ]
     },
     "execution_count": 119,
     "metadata": {},
     "output_type": "execute_result"
    }
   ],
   "source": [
    "two_class_errors"
   ]
  },
  {
   "cell_type": "code",
   "execution_count": 120,
   "metadata": {},
   "outputs": [
    {
     "name": "stdout",
     "output_type": "stream",
     "text": [
      "| Text     |      Predicted Label       |  Correct Label |\n",
      "|----------|:-------------:|------:|\n",
      "| En vacaciones, el fin de semana o después del trabajo tienes tiempo libre para hacer ejercicio, llevar un pasatiempo o salir a divertirte. Si eres deportista y te gusta el agua puedes nadar, si te gusta la nieve puedes esquiar. Si no dispones de mucho tiempo puedes correr o ir en bicicleta. Hay quien prefiere quedarse en casa a ver la televisión, jugar videojuegos o navegar en Internet. Otras actividades para hacer dentro de casa cuando llueve o hace mucho frío son escuchar tu música favorita, leer un buen libro o aprender a tocar un instrumento. Puedes aprovechar tu tiempo libre para estudiar. Si el tiempo es bueno, tal vez quieras ir de compras, salir con amigos a divertirse o pasar tiempo con la familia en algún lugar divertido para todos, como un parque de diversiones, el teatro o el cine. Aprovechar el tiempo libre es importante para tener una vida feliz.... | A1 | A2 |\n",
      "| Es un poderoso día de verano en Misiones, con todo el sol, el calor y la calma que puede deparar la estación. La naturaleza, plenamente abierta, se siente satisfecha de sí.\n",
      "\n",
      "Como el sol, el calor y la calma ambiente, el padre abre también su corazón a la n... | A2 | B |\n"
     ]
    }
   ],
   "source": [
    "print_table(bert_prelim_errors)"
   ]
  },
  {
   "cell_type": "markdown",
   "metadata": {},
   "source": [
    "#### Final neural model"
   ]
  },
  {
   "cell_type": "code",
   "execution_count": 121,
   "metadata": {},
   "outputs": [
    {
     "name": "stdout",
     "output_type": "stream",
     "text": [
      "(139, 3)\n"
     ]
    },
    {
     "data": {
      "text/html": [
       "<div>\n",
       "<style scoped>\n",
       "    .dataframe tbody tr th:only-of-type {\n",
       "        vertical-align: middle;\n",
       "    }\n",
       "\n",
       "    .dataframe tbody tr th {\n",
       "        vertical-align: top;\n",
       "    }\n",
       "\n",
       "    .dataframe thead th {\n",
       "        text-align: right;\n",
       "    }\n",
       "</style>\n",
       "<table border=\"1\" class=\"dataframe\">\n",
       "  <thead>\n",
       "    <tr style=\"text-align: right;\">\n",
       "      <th></th>\n",
       "      <th>test_text</th>\n",
       "      <th>prediction</th>\n",
       "      <th>gold</th>\n",
       "    </tr>\n",
       "  </thead>\n",
       "  <tbody>\n",
       "    <tr>\n",
       "      <th>0</th>\n",
       "      <td>CAPÍtULO 7\\n\\n—¡Paren ya de pelearse! —el homb...</td>\n",
       "      <td>A1</td>\n",
       "      <td>A1</td>\n",
       "    </tr>\n",
       "    <tr>\n",
       "      <th>1</th>\n",
       "      <td>.? —pregunta el hombre alto.\\n—Es que... —empi...</td>\n",
       "      <td>A1</td>\n",
       "      <td>A1</td>\n",
       "    </tr>\n",
       "    <tr>\n",
       "      <th>2</th>\n",
       "      <td>uerta abierta de la choza...\\n\\n—¿Estás bien? ...</td>\n",
       "      <td>A1</td>\n",
       "      <td>A1</td>\n",
       "    </tr>\n",
       "    <tr>\n",
       "      <th>3</th>\n",
       "      <td>¡Es con voz de la Biblia, o verso de Walt Whit...</td>\n",
       "      <td>A2</td>\n",
       "      <td>B</td>\n",
       "    </tr>\n",
       "    <tr>\n",
       "      <th>4</th>\n",
       "      <td>tiene sangre indígena,\\nque aún reza a Jesucri...</td>\n",
       "      <td>B</td>\n",
       "      <td>B</td>\n",
       "    </tr>\n",
       "  </tbody>\n",
       "</table>\n",
       "</div>"
      ],
      "text/plain": [
       "                                           test_text prediction gold\n",
       "0  CAPÍtULO 7\\n\\n—¡Paren ya de pelearse! —el homb...         A1   A1\n",
       "1  .? —pregunta el hombre alto.\\n—Es que... —empi...         A1   A1\n",
       "2  uerta abierta de la choza...\\n\\n—¿Estás bien? ...         A1   A1\n",
       "3  ¡Es con voz de la Biblia, o verso de Walt Whit...         A2    B\n",
       "4  tiene sangre indígena,\\nque aún reza a Jesucri...          B    B"
      ]
     },
     "execution_count": 121,
     "metadata": {},
     "output_type": "execute_result"
    }
   ],
   "source": [
    "print(bert_final_preds.shape)\n",
    "bert_final_preds.columns = ['test_text', 'prediction', 'gold']\n",
    "bert_final_preds.head()"
   ]
  },
  {
   "cell_type": "code",
   "execution_count": 122,
   "metadata": {},
   "outputs": [
    {
     "name": "stdout",
     "output_type": "stream",
     "text": [
      "(8, 3)\n"
     ]
    }
   ],
   "source": [
    "bert_final_errors = bert_final_preds[bert_final_preds['prediction'] != bert_final_preds['gold']]\n",
    "print(bert_final_errors.shape)"
   ]
  },
  {
   "cell_type": "code",
   "execution_count": 126,
   "metadata": {},
   "outputs": [],
   "source": [
    "adjacent_class_errors = get_class_errors(bert_final_errors, 'adjacent')\n",
    "two_class_errors = get_class_errors(bert_final_errors, 'two_class')"
   ]
  },
  {
   "cell_type": "code",
   "execution_count": 127,
   "metadata": {},
   "outputs": [
    {
     "data": {
      "text/html": [
       "<div>\n",
       "<style scoped>\n",
       "    .dataframe tbody tr th:only-of-type {\n",
       "        vertical-align: middle;\n",
       "    }\n",
       "\n",
       "    .dataframe tbody tr th {\n",
       "        vertical-align: top;\n",
       "    }\n",
       "\n",
       "    .dataframe thead th {\n",
       "        text-align: right;\n",
       "    }\n",
       "</style>\n",
       "<table border=\"1\" class=\"dataframe\">\n",
       "  <thead>\n",
       "    <tr style=\"text-align: right;\">\n",
       "      <th></th>\n",
       "      <th>test_text</th>\n",
       "      <th>prediction</th>\n",
       "      <th>gold</th>\n",
       "    </tr>\n",
       "  </thead>\n",
       "  <tbody>\n",
       "    <tr>\n",
       "      <th>3</th>\n",
       "      <td>¡Es con voz de la Biblia, o verso de Walt Whit...</td>\n",
       "      <td>A2</td>\n",
       "      <td>B</td>\n",
       "    </tr>\n",
       "    <tr>\n",
       "      <th>10</th>\n",
       "      <td>Una mañana entró un caballero en la tienda de ...</td>\n",
       "      <td>A2</td>\n",
       "      <td>A1</td>\n",
       "    </tr>\n",
       "    <tr>\n",
       "      <th>44</th>\n",
       "      <td>En vacaciones, el fin de semana o después del ...</td>\n",
       "      <td>A1</td>\n",
       "      <td>A2</td>\n",
       "    </tr>\n",
       "    <tr>\n",
       "      <th>59</th>\n",
       "      <td>l ser coronista desta peregrina historia, ruég...</td>\n",
       "      <td>B</td>\n",
       "      <td>A2</td>\n",
       "    </tr>\n",
       "    <tr>\n",
       "      <th>99</th>\n",
       "      <td>Es un poderoso día de verano en Misiones, con ...</td>\n",
       "      <td>A2</td>\n",
       "      <td>B</td>\n",
       "    </tr>\n",
       "    <tr>\n",
       "      <th>101</th>\n",
       "      <td>, que cierra con cuidado.\\n\\n—Vuelve a la hora...</td>\n",
       "      <td>A2</td>\n",
       "      <td>B</td>\n",
       "    </tr>\n",
       "    <tr>\n",
       "      <th>115</th>\n",
       "      <td>…\\n—Bueno, solo por curiosidad.\\nEl vídeo dura...</td>\n",
       "      <td>A2</td>\n",
       "      <td>A1</td>\n",
       "    </tr>\n",
       "    <tr>\n",
       "      <th>135</th>\n",
       "      <td>¡Hola! Mi nombre es Javier. Cuando era niño, m...</td>\n",
       "      <td>A2</td>\n",
       "      <td>B</td>\n",
       "    </tr>\n",
       "  </tbody>\n",
       "</table>\n",
       "</div>"
      ],
      "text/plain": [
       "                                             test_text prediction gold\n",
       "3    ¡Es con voz de la Biblia, o verso de Walt Whit...         A2    B\n",
       "10   Una mañana entró un caballero en la tienda de ...         A2   A1\n",
       "44   En vacaciones, el fin de semana o después del ...         A1   A2\n",
       "59   l ser coronista desta peregrina historia, ruég...          B   A2\n",
       "99   Es un poderoso día de verano en Misiones, con ...         A2    B\n",
       "101  , que cierra con cuidado.\\n\\n—Vuelve a la hora...         A2    B\n",
       "115  …\\n—Bueno, solo por curiosidad.\\nEl vídeo dura...         A2   A1\n",
       "135  ¡Hola! Mi nombre es Javier. Cuando era niño, m...         A2    B"
      ]
     },
     "execution_count": 127,
     "metadata": {},
     "output_type": "execute_result"
    }
   ],
   "source": [
    "adjacent_class_errors"
   ]
  },
  {
   "cell_type": "code",
   "execution_count": 128,
   "metadata": {},
   "outputs": [
    {
     "data": {
      "text/html": [
       "<div>\n",
       "<style scoped>\n",
       "    .dataframe tbody tr th:only-of-type {\n",
       "        vertical-align: middle;\n",
       "    }\n",
       "\n",
       "    .dataframe tbody tr th {\n",
       "        vertical-align: top;\n",
       "    }\n",
       "\n",
       "    .dataframe thead th {\n",
       "        text-align: right;\n",
       "    }\n",
       "</style>\n",
       "<table border=\"1\" class=\"dataframe\">\n",
       "  <thead>\n",
       "    <tr style=\"text-align: right;\">\n",
       "      <th></th>\n",
       "      <th>test_text</th>\n",
       "      <th>prediction</th>\n",
       "      <th>gold</th>\n",
       "    </tr>\n",
       "  </thead>\n",
       "  <tbody>\n",
       "  </tbody>\n",
       "</table>\n",
       "</div>"
      ],
      "text/plain": [
       "Empty DataFrame\n",
       "Columns: [test_text, prediction, gold]\n",
       "Index: []"
      ]
     },
     "execution_count": 128,
     "metadata": {},
     "output_type": "execute_result"
    }
   ],
   "source": [
    "two_class_errors"
   ]
  },
  {
   "cell_type": "markdown",
   "metadata": {},
   "source": [
    "Some of the same errors as in the preliminary model since they are using the same 256-token chunk. Also, cool that the errors are not on the entire text but on a 256-token chunk. Percentage error: only 8/139 = 5.75%, compared to 2/32 = 6.25% on the preliminary model. "
   ]
  },
  {
   "cell_type": "code",
   "execution_count": 129,
   "metadata": {},
   "outputs": [
    {
     "name": "stdout",
     "output_type": "stream",
     "text": [
      "| Text     |      Predicted Label       |  Correct Label |\n",
      "|----------|:-------------:|------:|\n",
      "| ¡Es con voz de la Biblia, o verso de Walt Whitman,\n",
      "que habría de llegar hasta ti, Cazador!\n",
      "Primitivo y moderno, sencillo y complicado,\n",
      "con un algo de Washington y cuatro de Nemrod.\n",
      " Eres los Estados Unidos, eres el futuro invasor\n",
      "de la América ingenua que ... | A2 | B |\n",
      "| Una mañana entró un caballero en la tienda de un prendero.\n",
      "Él sacó un cuadro y dijo con cortesía:\n",
      "—Voy ahora a la oficina. ¿Hará Vd. el favor de guardarme\n",
      "este cuadro? Lo recogeré por la tarde cuando vuelva a\n",
      "casa.                                       ... | A2 | A1 |\n",
      "| En vacaciones, el fin de semana o después del trabajo tienes tiempo libre para hacer ejercicio, llevar un pasatiempo o salir a divertirte. Si eres deportista y te gusta el agua puedes nadar, si te gusta la nieve puedes esquiar. Si no dispones de mucho tiempo puedes correr o ir en bicicleta. Hay quien prefiere quedarse en casa a ver la televisión, jugar videojuegos o navegar en Internet. Otras actividades para hacer dentro de casa cuando llueve o hace mucho frío son escuchar tu música favorita, leer un buen libro o aprender a tocar un instrumento. Puedes aprovechar tu tiempo libre para estudiar. Si el tiempo es bueno, tal vez quieras ir de compras, salir con amigos a divertirse o pasar tiempo con la familia en algún lugar divertido para todos, como un parque de diversiones, el teatro o el cine. Aprovechar el tiempo libre es importante para tener una vida feliz.... | A1 | A2 |\n",
      "| l ser coronista desta peregrina historia, ruégote que no \n",
      "te olvides de mi buen Rocinante, compañero eterno mío en todos \n",
      "mis caminos y carreras! \n",
      " Luego volvía diciendo, como si verdaderamente fuera \n",
      "enamorado: \n",
      " —¡Oh princesa Dulcinea, señora deste cauti... | B | A2 |\n",
      "| Es un poderoso día de verano en Misiones, con todo el sol, el calor y la calma que puede deparar la estación. La naturaleza, plenamente abierta, se siente satisfecha de sí.\n",
      "\n",
      "Como el sol, el calor y la calma ambiente, el padre abre también su corazón a la n... | A2 | B |\n",
      "| , que cierra con cuidado.\n",
      "\n",
      "—Vuelve a la hora de almorzar — observa aún el padre.\n",
      "\n",
      "—Sí, papá—repite el chico.\n",
      "\n",
      "Equilibra la escopeta en la mano, sonríe a su padre, lo besa en la cabeza y parte.\n",
      "\n",
      "Su padre lo sigue un rato con los ojos y vuelve a su quehacer ... | A2 | B |\n",
      "| …\n",
      "—Bueno, solo por curiosidad.\n",
      "El vídeo durante un rato, enfoca las taquillas.\n",
      "—Pásalo rápido…\n",
      "Después de unos minutos, se ve a los chicos de cuarto de ESO que salen de clase, se acercan a las taquillas y las abren para poner \n",
      "o sacar sus cosas.\n",
      "\n",
      "Después s... | A2 | A1 |\n",
      "| ¡Hola! Mi nombre es Javier. Cuando era niño, mi mamá pensaba que los jóvenes debían practicar un deporte y tocar un instrumento. Esto me incentivó a jugar futbol y me enseñó a trabajar en equipo, generar confianza y buscar una meta común. También me animó ... | A2 | B |\n"
     ]
    }
   ],
   "source": [
    "print_table(bert_final_errors)"
   ]
  },
  {
   "cell_type": "code",
   "execution_count": null,
   "metadata": {},
   "outputs": [],
   "source": []
  }
 ],
 "metadata": {
  "kernelspec": {
   "display_name": "Python 3",
   "language": "python",
   "name": "python3"
  },
  "language_info": {
   "codemirror_mode": {
    "name": "ipython",
    "version": 3
   },
   "file_extension": ".py",
   "mimetype": "text/x-python",
   "name": "python",
   "nbconvert_exporter": "python",
   "pygments_lexer": "ipython3",
   "version": "3.8.3"
  }
 },
 "nbformat": 4,
 "nbformat_minor": 4
}
