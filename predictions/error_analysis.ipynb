{
 "cells": [
  {
   "cell_type": "markdown",
   "metadata": {},
   "source": [
    "## Error Analysis"
   ]
  },
  {
   "cell_type": "code",
   "execution_count": 1,
   "metadata": {},
   "outputs": [],
   "source": [
    "import pandas as pd\n",
    "import numpy as np"
   ]
  },
  {
   "cell_type": "code",
   "execution_count": 3,
   "metadata": {},
   "outputs": [],
   "source": [
    "# Read in all the files\n",
    "rule_based_preds = pd.read_json('rule_test_pred.json')\n",
    "# tree_based_preds = pd.read_json('tree_based_pred.json')\n",
    "svm_preds = pd.read_json('svm_test_pred.json')\n",
    "# bert_preds = pd.read_json('')"
   ]
  },
  {
   "cell_type": "markdown",
   "metadata": {},
   "source": [
    "### Rule-based predictions"
   ]
  },
  {
   "cell_type": "code",
   "execution_count": 7,
   "metadata": {},
   "outputs": [
    {
     "name": "stdout",
     "output_type": "stream",
     "text": [
      "(32, 3)\n"
     ]
    },
    {
     "data": {
      "text/html": [
       "<div>\n",
       "<style scoped>\n",
       "    .dataframe tbody tr th:only-of-type {\n",
       "        vertical-align: middle;\n",
       "    }\n",
       "\n",
       "    .dataframe tbody tr th {\n",
       "        vertical-align: top;\n",
       "    }\n",
       "\n",
       "    .dataframe thead th {\n",
       "        text-align: right;\n",
       "    }\n",
       "</style>\n",
       "<table border=\"1\" class=\"dataframe\">\n",
       "  <thead>\n",
       "    <tr style=\"text-align: right;\">\n",
       "      <th></th>\n",
       "      <th>test_text</th>\n",
       "      <th>prediction</th>\n",
       "      <th>gold</th>\n",
       "    </tr>\n",
       "  </thead>\n",
       "  <tbody>\n",
       "    <tr>\n",
       "      <th>0</th>\n",
       "      <td>capítulo —¡paren ya de pelearse! —el hombre al...</td>\n",
       "      <td>A1</td>\n",
       "      <td>A1</td>\n",
       "    </tr>\n",
       "    <tr>\n",
       "      <th>1</th>\n",
       "      <td>¡es con voz de la biblia, o verso de walt whit...</td>\n",
       "      <td>B</td>\n",
       "      <td>B</td>\n",
       "    </tr>\n",
       "    <tr>\n",
       "      <th>2</th>\n",
       "      <td>los cuatro hermanos un zapatero tenía cuatro h...</td>\n",
       "      <td>A2</td>\n",
       "      <td>A2</td>\n",
       "    </tr>\n",
       "    <tr>\n",
       "      <th>3</th>\n",
       "      <td>una mañana entró un caballero en la tienda de ...</td>\n",
       "      <td>A1</td>\n",
       "      <td>A1</td>\n",
       "    </tr>\n",
       "    <tr>\n",
       "      <th>4</th>\n",
       "      <td>había un viejo que tenía una hija muy hermosa....</td>\n",
       "      <td>A1</td>\n",
       "      <td>A1</td>\n",
       "    </tr>\n",
       "  </tbody>\n",
       "</table>\n",
       "</div>"
      ],
      "text/plain": [
       "                                           test_text prediction gold\n",
       "0  capítulo —¡paren ya de pelearse! —el hombre al...         A1   A1\n",
       "1  ¡es con voz de la biblia, o verso de walt whit...          B    B\n",
       "2  los cuatro hermanos un zapatero tenía cuatro h...         A2   A2\n",
       "3  una mañana entró un caballero en la tienda de ...         A1   A1\n",
       "4  había un viejo que tenía una hija muy hermosa....         A1   A1"
      ]
     },
     "execution_count": 7,
     "metadata": {},
     "output_type": "execute_result"
    }
   ],
   "source": [
    "print(rule_based_preds.shape)\n",
    "rule_based_preds.head()"
   ]
  },
  {
   "cell_type": "code",
   "execution_count": 6,
   "metadata": {},
   "outputs": [
    {
     "name": "stdout",
     "output_type": "stream",
     "text": [
      "(15, 3)\n"
     ]
    }
   ],
   "source": [
    "rule_based_errors = rule_based_preds[rule_based_preds['prediction'] != rule_based_preds['gold']]\n",
    "print(rule_based_errors.shape)"
   ]
  },
  {
   "cell_type": "markdown",
   "metadata": {},
   "source": [
    "Out of 32 texts, the rule-based model gets 15 predictions wrong."
   ]
  },
  {
   "cell_type": "code",
   "execution_count": 8,
   "metadata": {},
   "outputs": [
    {
     "data": {
      "text/html": [
       "<div>\n",
       "<style scoped>\n",
       "    .dataframe tbody tr th:only-of-type {\n",
       "        vertical-align: middle;\n",
       "    }\n",
       "\n",
       "    .dataframe tbody tr th {\n",
       "        vertical-align: top;\n",
       "    }\n",
       "\n",
       "    .dataframe thead th {\n",
       "        text-align: right;\n",
       "    }\n",
       "</style>\n",
       "<table border=\"1\" class=\"dataframe\">\n",
       "  <thead>\n",
       "    <tr style=\"text-align: right;\">\n",
       "      <th></th>\n",
       "      <th>test_text</th>\n",
       "      <th>prediction</th>\n",
       "      <th>gold</th>\n",
       "    </tr>\n",
       "  </thead>\n",
       "  <tbody>\n",
       "    <tr>\n",
       "      <th>5</th>\n",
       "      <td>ésta es la historia de lola y ana quienes comp...</td>\n",
       "      <td>A2</td>\n",
       "      <td>A1</td>\n",
       "    </tr>\n",
       "    <tr>\n",
       "      <th>8</th>\n",
       "      <td>los dos conejos por entre unas matas seguido d...</td>\n",
       "      <td>A2</td>\n",
       "      <td>A1</td>\n",
       "    </tr>\n",
       "    <tr>\n",
       "      <th>9</th>\n",
       "      <td>hay personas que cifran todo su orgullo en com...</td>\n",
       "      <td>A2</td>\n",
       "      <td>B</td>\n",
       "    </tr>\n",
       "    <tr>\n",
       "      <th>11</th>\n",
       "      <td>en vacaciones, el fin de semana o después del ...</td>\n",
       "      <td>A1</td>\n",
       "      <td>A2</td>\n",
       "    </tr>\n",
       "    <tr>\n",
       "      <th>13</th>\n",
       "      <td>capítulo ii que trata de la primera salida que...</td>\n",
       "      <td>B</td>\n",
       "      <td>A2</td>\n",
       "    </tr>\n",
       "    <tr>\n",
       "      <th>14</th>\n",
       "      <td>un día un pollo entra en un bosque. una bellot...</td>\n",
       "      <td>A2</td>\n",
       "      <td>A1</td>\n",
       "    </tr>\n",
       "    <tr>\n",
       "      <th>15</th>\n",
       "      <td>ésta es la historia de lola y ana que comparte...</td>\n",
       "      <td>A2</td>\n",
       "      <td>A1</td>\n",
       "    </tr>\n",
       "    <tr>\n",
       "      <th>18</th>\n",
       "      <td>es un poderoso día de verano en misiones, con ...</td>\n",
       "      <td>A2</td>\n",
       "      <td>B</td>\n",
       "    </tr>\n",
       "    <tr>\n",
       "      <th>21</th>\n",
       "      <td>cuba la república de cuba, llamada la \"perla d...</td>\n",
       "      <td>B</td>\n",
       "      <td>A2</td>\n",
       "    </tr>\n",
       "    <tr>\n",
       "      <th>22</th>\n",
       "      <td>capítulo —¿por qué no venís a mi casa? —propon...</td>\n",
       "      <td>A2</td>\n",
       "      <td>A1</td>\n",
       "    </tr>\n",
       "    <tr>\n",
       "      <th>23</th>\n",
       "      <td>capítulo los siguientes días los amigos hablan...</td>\n",
       "      <td>A2</td>\n",
       "      <td>A1</td>\n",
       "    </tr>\n",
       "    <tr>\n",
       "      <th>24</th>\n",
       "      <td>proverbios. (iii) dos amigos de una bolsa, el ...</td>\n",
       "      <td>A1</td>\n",
       "      <td>A2</td>\n",
       "    </tr>\n",
       "    <tr>\n",
       "      <th>25</th>\n",
       "      <td>¿en qué mes hablan menos las mujeres?—en el de...</td>\n",
       "      <td>B</td>\n",
       "      <td>A1</td>\n",
       "    </tr>\n",
       "    <tr>\n",
       "      <th>29</th>\n",
       "      <td>¡hola! mi nombre es javier. cuando era niño, m...</td>\n",
       "      <td>A1</td>\n",
       "      <td>B</td>\n",
       "    </tr>\n",
       "    <tr>\n",
       "      <th>30</th>\n",
       "      <td>adivinanzas. (i) ¿en qué se parece un esquelet...</td>\n",
       "      <td>A1</td>\n",
       "      <td>A2</td>\n",
       "    </tr>\n",
       "  </tbody>\n",
       "</table>\n",
       "</div>"
      ],
      "text/plain": [
       "                                            test_text prediction gold\n",
       "5   ésta es la historia de lola y ana quienes comp...         A2   A1\n",
       "8   los dos conejos por entre unas matas seguido d...         A2   A1\n",
       "9   hay personas que cifran todo su orgullo en com...         A2    B\n",
       "11  en vacaciones, el fin de semana o después del ...         A1   A2\n",
       "13  capítulo ii que trata de la primera salida que...          B   A2\n",
       "14  un día un pollo entra en un bosque. una bellot...         A2   A1\n",
       "15  ésta es la historia de lola y ana que comparte...         A2   A1\n",
       "18  es un poderoso día de verano en misiones, con ...         A2    B\n",
       "21  cuba la república de cuba, llamada la \"perla d...          B   A2\n",
       "22  capítulo —¿por qué no venís a mi casa? —propon...         A2   A1\n",
       "23  capítulo los siguientes días los amigos hablan...         A2   A1\n",
       "24  proverbios. (iii) dos amigos de una bolsa, el ...         A1   A2\n",
       "25  ¿en qué mes hablan menos las mujeres?—en el de...          B   A1\n",
       "29  ¡hola! mi nombre es javier. cuando era niño, m...         A1    B\n",
       "30  adivinanzas. (i) ¿en qué se parece un esquelet...         A1   A2"
      ]
     },
     "execution_count": 8,
     "metadata": {},
     "output_type": "execute_result"
    }
   ],
   "source": [
    "rule_based_errors"
   ]
  },
  {
   "cell_type": "code",
   "execution_count": null,
   "metadata": {},
   "outputs": [],
   "source": [
    "svm_reds.head()"
   ]
  },
  {
   "cell_type": "code",
   "execution_count": null,
   "metadata": {},
   "outputs": [],
   "source": []
  }
 ],
 "metadata": {
  "kernelspec": {
   "display_name": "Python 3",
   "language": "python",
   "name": "python3"
  },
  "language_info": {
   "codemirror_mode": {
    "name": "ipython",
    "version": 3
   },
   "file_extension": ".py",
   "mimetype": "text/x-python",
   "name": "python",
   "nbconvert_exporter": "python",
   "pygments_lexer": "ipython3",
   "version": "3.8.3"
  }
 },
 "nbformat": 4,
 "nbformat_minor": 4
}
