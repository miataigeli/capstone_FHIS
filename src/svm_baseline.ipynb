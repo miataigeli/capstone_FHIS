{
 "cells": [
  {
   "cell_type": "markdown",
   "id": "bfb3a93e",
   "metadata": {},
   "source": [
    "## Set up"
   ]
  },
  {
   "cell_type": "code",
   "execution_count": 1,
   "id": "9c81f723",
   "metadata": {},
   "outputs": [
    {
     "name": "stdout",
     "output_type": "stream",
     "text": [
      "/opt/miniconda3/bin/python: No module named spacy\n"
     ]
    }
   ],
   "source": [
    "# !python -m spacy download es_core_news_md"
   ]
  },
  {
   "cell_type": "code",
   "execution_count": 42,
   "id": "da2dafaa",
   "metadata": {},
   "outputs": [],
   "source": [
    "# import\n",
    "from datasets import load_dataset\n",
    "import pandas as pd\n",
    "import numpy as np\n",
    "import scipy\n",
    "from collections import defaultdict, Counter\n",
    "import os\n",
    "\n",
    "from sklearn.model_selection import train_test_split, cross_validate, RandomizedSearchCV\n",
    "from sklearn.compose import make_column_transformer\n",
    "from sklearn.pipeline import make_pipeline, Pipeline\n",
    "from sklearn.svm import SVC\n",
    "from sklearn.preprocessing import OneHotEncoder\n",
    "from sklearn.feature_extraction.text import CountVectorizer\n",
    "from sklearn.metrics import f1_score, recall_score, precision_score, classification_report\n",
    "\n",
    "\n",
    "import spacy\n",
    "from spacy.lang.es.stop_words import STOP_WORDS"
   ]
  },
  {
   "cell_type": "code",
   "execution_count": 26,
   "id": "e0d4b413",
   "metadata": {},
   "outputs": [],
   "source": [
    "nlp = spacy.load(\"es_core_news_md\")"
   ]
  },
  {
   "cell_type": "markdown",
   "id": "8dc2d323",
   "metadata": {},
   "source": [
    "## Prepare data"
   ]
  },
  {
   "cell_type": "code",
   "execution_count": 25,
   "id": "9f261a59",
   "metadata": {},
   "outputs": [],
   "source": [
    "# read train and val data\n",
    "with open(os.path.abspath('../data/X_train.txt'), 'r') as f:\n",
    "    X_train = f.read().strip().split('#'*20)\n",
    "with open(os.path.abspath('../data/X_val.txt'), 'r') as f:\n",
    "    X_val = f.read().strip().split('#'*20)\n",
    "with open(os.path.abspath('../data/y_train.txt'), 'r') as f:\n",
    "    y_train = f.read().strip().split('\\n')\n",
    "with open(os.path.abspath('../data/y_val.txt'), 'r') as f:\n",
    "    y_val = f.read().strip().split('\\n')"
   ]
  },
  {
   "cell_type": "markdown",
   "id": "5ac58cef",
   "metadata": {},
   "source": [
    "## Model set up"
   ]
  },
  {
   "cell_type": "code",
   "execution_count": 32,
   "id": "b5c52153",
   "metadata": {},
   "outputs": [],
   "source": [
    "scoring = ['accuracy']\n",
    "\n",
    "# results dictionary\n",
    "results_df = {}\n",
    "\n",
    "# tokenizer\n",
    "def tokenizer(text):\n",
    "    return [tok.text for tok in nlp(text)]"
   ]
  },
  {
   "cell_type": "code",
   "execution_count": 33,
   "id": "2f257607",
   "metadata": {},
   "outputs": [],
   "source": [
    "def cv_and_display(pipeline, name, train_set):\n",
    "    '''\n",
    "    train model and display cross validation results\n",
    "    \n",
    "    pipeline: (Pipeline) sklearn pipeline object\n",
    "    name: (str) a name that is shown when the result is displayed\n",
    "    train_set: (DataFrame) the input train set encoding features\n",
    "    '''\n",
    "    scores = cross_validate(pipeline, train_set, y_train, scoring = scoring, return_train_score=True)\n",
    "    \n",
    "    results_df[name] = pd.DataFrame(scores).mean()\n",
    "    display(pd.DataFrame(results_df))"
   ]
  },
  {
   "cell_type": "markdown",
   "id": "45c02d19",
   "metadata": {},
   "source": [
    "## Baseline"
   ]
  },
  {
   "cell_type": "code",
   "execution_count": 34,
   "id": "a885faad",
   "metadata": {},
   "outputs": [],
   "source": [
    "baseline_pipeline = Pipeline(\n",
    "    steps=[\n",
    "        (\"vectorizer\", CountVectorizer(max_features=30_000, ngram_range=(1,2), tokenizer=tokenizer)),\n",
    "        (\"model\", SVC(random_state=123))\n",
    "    ]\n",
    ")"
   ]
  },
  {
   "cell_type": "code",
   "execution_count": 38,
   "id": "5fae0120",
   "metadata": {},
   "outputs": [
    {
     "data": {
      "text/html": [
       "<div>\n",
       "<style scoped>\n",
       "    .dataframe tbody tr th:only-of-type {\n",
       "        vertical-align: middle;\n",
       "    }\n",
       "\n",
       "    .dataframe tbody tr th {\n",
       "        vertical-align: top;\n",
       "    }\n",
       "\n",
       "    .dataframe thead th {\n",
       "        text-align: right;\n",
       "    }\n",
       "</style>\n",
       "<table border=\"1\" class=\"dataframe\">\n",
       "  <thead>\n",
       "    <tr style=\"text-align: right;\">\n",
       "      <th></th>\n",
       "      <th>SVM baseline</th>\n",
       "    </tr>\n",
       "  </thead>\n",
       "  <tbody>\n",
       "    <tr>\n",
       "      <th>fit_time</th>\n",
       "      <td>26.199509</td>\n",
       "    </tr>\n",
       "    <tr>\n",
       "      <th>score_time</th>\n",
       "      <td>6.226296</td>\n",
       "    </tr>\n",
       "    <tr>\n",
       "      <th>test_accuracy</th>\n",
       "      <td>0.804805</td>\n",
       "    </tr>\n",
       "    <tr>\n",
       "      <th>train_accuracy</th>\n",
       "      <td>0.827651</td>\n",
       "    </tr>\n",
       "  </tbody>\n",
       "</table>\n",
       "</div>"
      ],
      "text/plain": [
       "                SVM baseline\n",
       "fit_time           26.199509\n",
       "score_time          6.226296\n",
       "test_accuracy       0.804805\n",
       "train_accuracy      0.827651"
      ]
     },
     "metadata": {},
     "output_type": "display_data"
    }
   ],
   "source": [
    "cv_and_display(baseline_pipeline, 'SVM baseline', X_train)"
   ]
  },
  {
   "cell_type": "markdown",
   "id": "0b6780ce",
   "metadata": {},
   "source": [
    "## Classification analysis"
   ]
  },
  {
   "cell_type": "code",
   "execution_count": 41,
   "id": "5e430b65",
   "metadata": {},
   "outputs": [
    {
     "data": {
      "text/plain": [
       "Pipeline(steps=[('vectorizer',\n",
       "                 CountVectorizer(max_features=30000, ngram_range=(1, 2),\n",
       "                                 tokenizer=<function tokenizer at 0x141a43160>)),\n",
       "                ('model', SVC(random_state=123))])"
      ]
     },
     "execution_count": 41,
     "metadata": {},
     "output_type": "execute_result"
    }
   ],
   "source": [
    "baseline_pipeline.fit(X_train, y_train)"
   ]
  },
  {
   "cell_type": "code",
   "execution_count": 43,
   "id": "1cce8d00",
   "metadata": {},
   "outputs": [
    {
     "data": {
      "text/plain": [
       "array(['A', 'B'], dtype='<U1')"
      ]
     },
     "execution_count": 43,
     "metadata": {},
     "output_type": "execute_result"
    }
   ],
   "source": [
    "baseline_pipeline.classes_"
   ]
  },
  {
   "cell_type": "code",
   "execution_count": 46,
   "id": "fe9a317d",
   "metadata": {},
   "outputs": [
    {
     "name": "stdout",
     "output_type": "stream",
     "text": [
      "              precision    recall  f1-score   support\n",
      "\n",
      "           A       0.71      0.99      0.83       101\n",
      "           B       0.99      0.77      0.87       176\n",
      "\n",
      "    accuracy                           0.85       277\n",
      "   macro avg       0.85      0.88      0.85       277\n",
      "weighted avg       0.89      0.85      0.85       277\n",
      "\n"
     ]
    }
   ],
   "source": [
    "y_pred = baseline_pipeline.predict(X_train)\n",
    "print(classification_report(y_pred, y_train))\n",
    "\n",
    "## the model seems to be predicting some B level texts as A level\n",
    "## precision: 71% of texts that are predicted as A level are actually A level\n",
    "## recall: 99% of texts that are actually A level are predicted as A level"
   ]
  },
  {
   "cell_type": "code",
   "execution_count": 47,
   "id": "b3de6546",
   "metadata": {},
   "outputs": [
    {
     "name": "stdout",
     "output_type": "stream",
     "text": [
      "              precision    recall  f1-score   support\n",
      "\n",
      "           A       0.75      0.92      0.83        13\n",
      "           B       0.93      0.78      0.85        18\n",
      "\n",
      "    accuracy                           0.84        31\n",
      "   macro avg       0.84      0.85      0.84        31\n",
      "weighted avg       0.86      0.84      0.84        31\n",
      "\n"
     ]
    }
   ],
   "source": [
    "y_val_pred = baseline_pipeline.predict(X_val)\n",
    "print(classification_report(y_val_pred, y_val))"
   ]
  },
  {
   "cell_type": "code",
   "execution_count": null,
   "id": "22d3d7fe",
   "metadata": {},
   "outputs": [],
   "source": []
  }
 ],
 "metadata": {
  "kernelspec": {
   "display_name": "nlp",
   "language": "python",
   "name": "nlp"
  },
  "language_info": {
   "codemirror_mode": {
    "name": "ipython",
    "version": 3
   },
   "file_extension": ".py",
   "mimetype": "text/x-python",
   "name": "python",
   "nbconvert_exporter": "python",
   "pygments_lexer": "ipython3",
   "version": "3.9.2"
  }
 },
 "nbformat": 4,
 "nbformat_minor": 5
}
