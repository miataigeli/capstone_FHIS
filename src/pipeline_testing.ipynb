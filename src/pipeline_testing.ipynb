{
 "cells": [
  {
   "cell_type": "markdown",
   "id": "related-negative",
   "metadata": {},
   "source": [
    "## Rule-based pipeline using SpaCy"
   ]
  },
  {
   "cell_type": "code",
   "execution_count": 1,
   "id": "transsexual-thong",
   "metadata": {
    "tags": []
   },
   "outputs": [],
   "source": [
    "# !python -m spacy download es_core_news_md"
   ]
  },
  {
   "cell_type": "code",
   "execution_count": 2,
   "id": "studied-music",
   "metadata": {},
   "outputs": [],
   "source": [
    "from utils import read_corpus, text_processor"
   ]
  },
  {
   "cell_type": "code",
   "execution_count": 3,
   "id": "sized-machine",
   "metadata": {},
   "outputs": [],
   "source": [
    "corpus = read_corpus()"
   ]
  },
  {
   "cell_type": "code",
   "execution_count": 4,
   "id": "systematic-doctor",
   "metadata": {},
   "outputs": [
    {
     "name": "stdout",
     "output_type": "stream",
     "text": [
      "A1: 94\n",
      "A2: 62\n",
      "B: 110\n",
      "A2/B1: 31\n",
      "B1: 11\n"
     ]
    }
   ],
   "source": [
    "for k, v in corpus.items():\n",
    "    print(f\"{k}: {len(v)}\")"
   ]
  },
  {
   "cell_type": "code",
   "execution_count": 6,
   "id": "indonesian-jones",
   "metadata": {},
   "outputs": [],
   "source": [
    "# TODO: preprocessor does not work on Aventura text for some reason"
   ]
  },
  {
   "cell_type": "code",
   "execution_count": 5,
   "id": "demonstrated-playback",
   "metadata": {},
   "outputs": [
    {
     "name": "stdout",
     "output_type": "stream",
     "text": [
      "Mi mejor amigo se llama Pedro, y tiene la misma edad que yo. Nos conocemos desde que somos niños, ya que fuimos a la misma escuela. Pedro es de mediana estatura, tiene el pelo negro y los ojos verdes. Trabaja de contable en una empresa de publicidad, y siempre está muy ocupado. Cuando llega el fin de semana, nos gusta quedar para charlar y pasear por la ciudad. A veces, en vacaciones, nos vamos de viaje. El año pasado fuimos a Copenhague, e hicimos turismo juntos. A Pedro le gusta mucho jugar al fútbol, pero a mí no, ya que nunca se me ha dado bien. El hobby que sí compartimos es el cine, y casi todas las semanas vamos a ver una película. Aunque Pedro tiene novia, todavía no ha decidido casarse ni ser padre, ya que se considera muy joven para eso.  Otra de las aficiones de Pedro es coleccionar todo tipo de objetos. Toda su casa está llena de cosas de coleccionista. Le apasiona especialmente encontrar objetos antiguos: libros, maquinaria, sellos, monedas, y muchas otras cosas. Cuando quedamos, le gusta enseñarme sus últimas adquisiciones.Mi amistad con Pedro es muy importante para mí, y espero no perderla nunca.\n",
      "\n",
      "\n",
      "\n",
      "Mi mejor amigo se llama Pedro, y tiene la misma edad que yo. Nos conocemos desde que somos niños, ya que fuimos a la misma escuela. Pedro es de mediana estatura, tiene el pelo negro y los ojos verdes. Trabaja de contable en una empresa de publicidad, y siempre está muy ocupado. Cuando llega el fin de semana, nos gusta quedar para charlar y pasear por la ciudad. A veces, en vacaciones, nos vamos de viaje. El año pasado fuimos a Copenhague, e hicimos turismo juntos. A Pedro le gusta mucho jugar al fútbol, pero a mí no, ya que nunca se me ha dado bien. El hobby que sí compartimos es el cine, y casi todas las semanas vamos a ver una película. Aunque Pedro tiene novia, todavía no ha decidido casarse ni ser padre, ya que se considera muy joven para eso.  Otra de las aficiones de Pedro es coleccionar todo tipo de objetos. Toda su casa está llena de cosas de coleccionista. Le apasiona especialmente encontrar objetos antiguos: libros, maquinaria, sellos, monedas, y muchas otras cosas. Cuando quedamos, le gusta enseñarme sus últimas adquisiciones.Mi amistad con Pedro es muy importante para mí, y espero no perderla nunca.\n",
      "\n",
      "\n",
      "\n",
      "[['Mi', 'mejor', 'amigo', 'se', 'llama', 'Pedro', ',', 'y', 'tiene', 'la', 'misma', 'edad', 'que', 'yo', '.'], ['Nos', 'conocemos', 'desde', 'que', 'somos', 'niños', ',', 'ya', 'que', 'fuimos', 'a', 'la', 'misma', 'escuela', '.'], ['Pedro', 'es', 'de', 'mediana', 'estatura', ',', 'tiene', 'el', 'pelo', 'negro', 'y', 'los', 'ojos', 'verdes', '.'], ['Trabaja', 'de', 'contable', 'en', 'una', 'empresa', 'de', 'publicidad', ',', 'y', 'siempre', 'está', 'muy', 'ocupado', '.'], ['Cuando', 'llega', 'el', 'fin', 'de', 'semana', ',', 'nos', 'gusta', 'quedar', 'para', 'charlar', 'y', 'pasear', 'por', 'la', 'ciudad', '.'], ['A', 'veces', ',', 'en', 'vacaciones', ',', 'nos', 'vamos', 'de', 'viaje', '.'], ['El', 'año', 'pasado', 'fuimos', 'a', 'Copenhague', ',', 'e', 'hicimos', 'turismo', 'juntos', '.'], ['A', 'Pedro', 'le', 'gusta', 'mucho', 'jugar', 'al', 'fútbol', ',', 'pero', 'a', 'mí', 'no', ',', 'ya', 'que', 'nunca', 'se', 'me', 'ha', 'dado', 'bien', '.'], ['El', 'hobby', 'que', 'sí', 'compartimos', 'es', 'el', 'cine', ',', 'y', 'casi', 'todas', 'las', 'semanas', 'vamos', 'a', 'ver', 'una', 'película', '.'], ['Aunque', 'Pedro', 'tiene', 'novia', ',', 'todavía', 'no', 'ha', 'decidido', 'casarse', 'ni', 'ser', 'padre', ',', 'ya', 'que', 'se', 'considera', 'muy', 'joven', 'para', 'eso', '.', ' '], ['Otra', 'de', 'las', 'aficiones', 'de', 'Pedro', 'es', 'coleccionar', 'todo', 'tipo', 'de', 'objetos', '.'], ['Toda', 'su', 'casa', 'está', 'llena', 'de', 'cosas', 'de', 'coleccionista', '.'], ['Le', 'apasiona', 'especialmente', 'encontrar', 'objetos', 'antiguos', ':', 'libros', ',', 'maquinaria', ',', 'sellos', ',', 'monedas', ',', 'y', 'muchas', 'otras', 'cosas', '.'], ['Cuando', 'quedamos', ',', 'le', 'gusta', 'enseñarme', 'sus', 'últimas', 'adquisiciones', '.'], ['Mi', 'amistad', 'con', 'Pedro', 'es', 'muy', 'importante', 'para', 'mí', ',', 'y', 'espero', 'no', 'perderla', 'nunca', '.']]\n",
      "\n",
      "\n",
      "\n",
      "[['Mi', 'mejor', 'amigar', 'se', 'llamar', 'Pedro', ',', 'y', 'tener', 'lo', 'mismo', 'edad', 'que', 'yo', '.'], ['Nos', 'conocer', 'desde', 'que', 'ser', 'niño', ',', 'ya', 'que', 'ser', 'a', 'lo', 'mismo', 'escuela', '.'], ['Pedro', 'ser', 'de', 'mediano', 'estatura', ',', 'tener', 'el', 'pelar', 'negro', 'y', 'lo', 'ojo', 'verde', '.'], ['Trabaja', 'de', 'contable', 'en', 'uno', 'empresa', 'de', 'publicidad', ',', 'y', 'siempre', 'estar', 'muy', 'ocupar', '.'], ['Cuando', 'llegar', 'el', 'fin', 'de', 'semana', ',', 'no', 'gustar', 'quedar', 'parir', 'charlar', 'y', 'pasear', 'por', 'lo', 'ciudad', '.'], ['A', 'vez', ',', 'en', 'vacación', ',', 'no', 'ir', 'de', 'viajar', '.'], ['El', 'año', 'pasar', 'ser', 'a', 'Copenhague', ',', 'e', 'hacer', 'turismo', 'junto', '.'], ['A', 'Pedro', 'le', 'gustar', 'mucho', 'jugar', 'al', 'fútbol', ',', 'pero', 'a', 'mí', 'no', ',', 'ya', 'que', 'nunca', 'se', 'me', 'haber', 'dar', 'bien', '.'], ['El', 'hobby', 'que', 'sí', 'compartir', 'ser', 'el', 'cine', ',', 'y', 'casi', 'todo', 'los', 'semana', 'ir', 'a', 'ver', 'uno', 'película', '.'], ['Aunque', 'Pedro', 'tener', 'novio', ',', 'todavía', 'no', 'haber', 'decidir', 'casarse', 'ni', 'ser', 'padre', ',', 'ya', 'que', 'se', 'considerar', 'muy', 'joven', 'parir', 'ese', '.', ' '], ['Otra', 'de', 'los', 'aficionar', 'de', 'Pedro', 'ser', 'coleccionar', 'todo', 'tipo', 'de', 'objeto', '.'], ['Toda', 'su', 'casar', 'estar', 'lleno', 'de', 'coser', 'de', 'coleccionista', '.'], ['Le', 'apasionar', 'especialmente', 'encontrar', 'objeto', 'antiguo', ':', 'libro', ',', 'maquinaria', ',', 'sello', ',', 'monedar', ',', 'y', 'mucho', 'otro', 'coser', '.'], ['Cuando', 'quedar', ',', 'le', 'gustar', 'enseñarme', 'su', 'último', 'adquisición', '.'], ['Mi', 'amistar', 'con', 'Pedro', 'ser', 'muy', 'importante', 'parir', 'mí', ',', 'y', 'esperar', 'no', 'perderla', 'nunca', '.']]\n",
      "\n",
      "\n",
      "\n",
      "[['DET__Number=Sing|Number[psor]=Sing|Person=1|Poss=Yes|PronType=Prs', 'ADJ__Degree=Cmp|Number=Sing', 'NOUN__Gender=Masc|Number=Sing', 'PRON__Case=Acc,Dat|Person=3|PrepCase=Npr|PronType=Prs|Reflex=Yes', 'VERB__Mood=Ind|Number=Sing|Person=3|Tense=Pres|VerbForm=Fin', 'PROPN', 'PUNCT__PunctType=Comm', 'CCONJ', 'VERB__Mood=Ind|Number=Sing|Person=3|Tense=Pres|VerbForm=Fin', 'DET__Definite=Def|Gender=Fem|Number=Sing|PronType=Art', 'DET__Gender=Fem|Number=Sing|PronType=Dem', 'NOUN__Gender=Fem|Number=Sing', 'PRON__PronType=Int,Rel', 'PRON__Case=Nom|Number=Sing|Person=1|PronType=Prs', 'PUNCT__PunctType=Peri'], ['PRON__Case=Acc,Dat|Number=Plur|Person=1|PrepCase=Npr|PronType=Prs|Reflex=Yes', 'VERB__Mood=Ind|Number=Plur|Person=1|Tense=Pres|VerbForm=Fin', 'ADP__AdpType=Prep', 'SCONJ', 'AUX__Mood=Ind|Number=Plur|Person=1|Tense=Pres|VerbForm=Fin', 'NOUN__Gender=Masc|Number=Plur', 'PUNCT__PunctType=Comm', 'ADV', 'SCONJ', 'VERB__Mood=Ind|Number=Plur|Person=1|Tense=Past|VerbForm=Fin', 'ADP__AdpType=Prep', 'DET__Definite=Def|Gender=Fem|Number=Sing|PronType=Art', 'DET__Gender=Fem|Number=Sing|PronType=Dem', 'NOUN__Gender=Fem|Number=Sing', 'PUNCT__PunctType=Peri'], ['PROPN', 'AUX__Mood=Ind|Number=Sing|Person=3|Tense=Pres|VerbForm=Fin', 'ADP__AdpType=Prep', 'ADJ__Gender=Fem|Number=Sing', 'NOUN__Gender=Fem|Number=Sing', 'PUNCT__PunctType=Comm', 'VERB__Mood=Ind|Number=Sing|Person=3|Tense=Pres|VerbForm=Fin', 'DET__Definite=Def|Gender=Masc|Number=Sing|PronType=Art', 'NOUN__Gender=Masc|Number=Sing', 'ADJ__Gender=Masc|Number=Sing', 'CCONJ', 'DET__Definite=Def|Gender=Masc|Number=Plur|PronType=Art', 'NOUN__Gender=Masc|Number=Plur', 'ADJ__Number=Plur', 'PUNCT__PunctType=Peri'], ['VERB__Mood=Ind|Number=Sing|Person=3|Tense=Pres|VerbForm=Fin', 'ADP__AdpType=Prep', 'ADJ__Number=Sing', 'ADP__AdpType=Prep', 'DET__Definite=Ind|Gender=Fem|Number=Sing|PronType=Art', 'NOUN__Gender=Fem|Number=Sing', 'ADP__AdpType=Prep', 'NOUN__Gender=Fem|Number=Sing', 'PUNCT__PunctType=Comm', 'CCONJ', 'ADV', 'AUX__Mood=Ind|Number=Sing|Person=3|Tense=Pres|VerbForm=Fin', 'ADV', 'ADJ__Gender=Masc|Number=Sing|VerbForm=Part', 'PUNCT__PunctType=Peri'], ['SCONJ', 'VERB__Mood=Ind|Number=Sing|Person=3|Tense=Pres|VerbForm=Fin', 'DET__Definite=Def|Gender=Masc|Number=Sing|PronType=Art', 'NOUN__Gender=Masc|Number=Sing', 'ADP__AdpType=Prep', 'NOUN__Gender=Fem|Number=Sing', 'PUNCT__PunctType=Comm', 'PRON__Case=Acc,Dat|Number=Plur|Person=1|PrepCase=Npr|PronType=Prs', 'VERB__Mood=Ind|Number=Sing|Person=3|Tense=Pres|VerbForm=Fin', 'VERB__VerbForm=Inf', 'ADP__AdpType=Prep', 'VERB__VerbForm=Inf', 'CCONJ', 'VERB__VerbForm=Inf', 'ADP__AdpType=Prep', 'DET__Definite=Def|Gender=Fem|Number=Sing|PronType=Art', 'NOUN__Gender=Fem|Number=Sing', 'PUNCT__PunctType=Peri'], ['ADP__AdpType=Prep', 'NOUN', 'PUNCT__PunctType=Comm', 'ADP__AdpType=Prep', 'NOUN__Gender=Fem|Number=Plur', 'PUNCT__PunctType=Comm', 'PRON__Case=Acc,Dat|Number=Plur|Person=1|PrepCase=Npr|PronType=Prs', 'VERB__Mood=Ind|Number=Plur|Person=1|Tense=Pres|VerbForm=Fin', 'ADP__AdpType=Prep', 'NOUN__Gender=Masc|Number=Sing', 'PUNCT__PunctType=Peri'], ['DET__Definite=Def|Gender=Masc|Number=Sing|PronType=Art', 'NOUN__AdvType=Tim', 'ADJ__Gender=Masc|Number=Sing|VerbForm=Part', 'VERB__Mood=Ind|Number=Plur|Person=1|Tense=Past|VerbForm=Fin', 'ADP__AdpType=Prep', 'PROPN', 'PUNCT__PunctType=Comm', 'CCONJ', 'VERB__Mood=Ind|Number=Plur|Person=1|Tense=Past|VerbForm=Fin', 'NOUN__Gender=Masc|Number=Sing', 'ADJ__Gender=Masc|Number=Plur', 'PUNCT__PunctType=Peri'], ['ADP__AdpType=Prep', 'PROPN', 'PRON__Case=Dat|Number=Sing|Person=3|PronType=Prs', 'VERB__Mood=Ind|Number=Sing|Person=3|Tense=Pres|VerbForm=Fin', 'ADV', 'VERB__VerbForm=Inf', 'ADP__AdpType=Preppron', 'NOUN__Gender=Masc|Number=Sing', 'PUNCT__PunctType=Comm', 'CCONJ', 'ADP__AdpType=Prep', 'PRON__Case=Acc|Number=Sing|Person=1|PrepCase=Pre|PronType=Prs', 'ADV__Polarity=Neg', 'PUNCT__PunctType=Comm', 'ADV', 'SCONJ', 'ADV', 'PRON__Case=Acc,Dat|Person=3|PrepCase=Npr|PronType=Prs|Reflex=Yes', 'PRON__Case=Acc,Dat|Number=Sing|Person=1|PrepCase=Npr|PronType=Prs', 'AUX__Mood=Ind|Number=Sing|Person=3|Tense=Pres|VerbForm=Fin', 'VERB__Gender=Masc|Number=Sing|Tense=Past|VerbForm=Part', 'ADV', 'PUNCT__PunctType=Peri'], ['DET__Definite=Def|Gender=Masc|Number=Sing|PronType=Art', 'PROPN', 'SCONJ', 'ADV', 'VERB__Mood=Ind|Number=Plur|Person=1|Tense=Pres|VerbForm=Fin', 'AUX__Mood=Ind|Number=Sing|Person=3|Tense=Pres|VerbForm=Fin', 'DET__Definite=Def|Gender=Masc|Number=Sing|PronType=Art', 'NOUN__Gender=Masc|Number=Sing', 'PUNCT__PunctType=Comm', 'CCONJ', 'ADV', 'DET__Gender=Fem|Number=Plur|PronType=Tot', 'DET__Definite=Def|Gender=Fem|Number=Plur|PronType=Art', 'NOUN__Gender=Fem|Number=Plur', 'AUX__Mood=Ind|Number=Plur|Person=1|Tense=Pres|VerbForm=Fin', 'ADP__AdpType=Prep', 'VERB__VerbForm=Inf', 'DET__Definite=Ind|Gender=Fem|Number=Sing|PronType=Art', 'NOUN__Gender=Fem|Number=Sing', 'PUNCT__PunctType=Peri'], ['SCONJ', 'PROPN', 'VERB__Mood=Ind|Number=Sing|Person=3|Tense=Pres|VerbForm=Fin', 'NOUN__Gender=Fem|Number=Sing', 'PUNCT__PunctType=Comm', 'ADV', 'ADV__Polarity=Neg', 'AUX__Mood=Ind|Number=Sing|Person=3|Tense=Pres|VerbForm=Fin', 'VERB__Gender=Masc|Number=Sing|Tense=Past|VerbForm=Part', 'VERB_PRON__Case=Acc,Dat|Person=3|PrepCase=Npr|PronType=Prs|Reflex=Yes|VerbForm=Inf', 'CCONJ', 'AUX__VerbForm=Inf', 'NOUN__Gender=Masc|Number=Sing', 'PUNCT__PunctType=Comm', 'ADV', 'SCONJ', 'PRON__Case=Acc,Dat|Person=3|PrepCase=Npr|PronType=Prs|Reflex=Yes', 'VERB__Mood=Ind|Number=Sing|Person=3|Tense=Pres|VerbForm=Fin', 'ADV', 'ADJ__Number=Sing', 'ADP__AdpType=Prep', 'PRON__Number=Sing|PronType=Dem', 'PUNCT__PunctType=Peri', '_SP'], ['PRON__Gender=Fem|Number=Sing|PronType=Ind', 'ADP__AdpType=Prep', 'DET__Definite=Def|Gender=Fem|Number=Plur|PronType=Art', 'NOUN__Gender=Fem|Number=Plur', 'ADP__AdpType=Prep', 'PROPN', 'AUX__Mood=Ind|Number=Sing|Person=3|Tense=Pres|VerbForm=Fin', 'VERB__VerbForm=Inf', 'DET__Gender=Masc|Number=Sing|PronType=Tot', 'NOUN__Gender=Masc|Number=Sing', 'ADP__AdpType=Prep', 'NOUN__Gender=Masc|Number=Plur', 'PUNCT__PunctType=Peri'], ['DET__Gender=Fem|Number=Sing|PronType=Tot', 'DET__Number=Sing|Person=3|Poss=Yes|PronType=Prs', 'NOUN__Gender=Fem|Number=Sing', 'AUX__Mood=Ind|Number=Sing|Person=3|Tense=Pres|VerbForm=Fin', 'ADJ__Gender=Fem|Number=Sing', 'ADP__AdpType=Prep', 'NOUN__Gender=Fem|Number=Plur', 'ADP__AdpType=Prep', 'NOUN__Number=Sing', 'PUNCT__PunctType=Peri'], ['PRON__Case=Dat|Number=Sing|Person=3|PronType=Prs', 'VERB__Mood=Ind|Number=Sing|Person=3|Tense=Pres|VerbForm=Fin', 'ADV', 'VERB__VerbForm=Inf', 'NOUN__Gender=Masc|Number=Plur', 'ADJ__Gender=Masc|Number=Plur', 'PUNCT__PunctType=Colo', 'NOUN__Gender=Masc|Number=Plur', 'PUNCT__PunctType=Comm', 'NOUN__Gender=Fem|Number=Sing', 'PUNCT__PunctType=Comm', 'NOUN__Gender=Masc|Number=Plur', 'PUNCT__PunctType=Comm', 'NOUN__Gender=Fem|Number=Plur', 'PUNCT__PunctType=Comm', 'CCONJ', 'PRON__Gender=Fem|Number=Plur|NumType=Card|PronType=Ind', 'DET__Gender=Fem|Number=Plur|PronType=Ind', 'NOUN__Gender=Fem|Number=Plur', 'PUNCT__PunctType=Peri'], ['SCONJ', 'VERB__Mood=Ind|Number=Plur|Person=1|Tense=Pres|VerbForm=Fin', 'PUNCT__PunctType=Comm', 'PRON__Case=Dat|Number=Sing|Person=3|PronType=Prs', 'VERB__Mood=Ind|Number=Sing|Person=3|Tense=Pres|VerbForm=Fin', 'VERB_PRON__Case=Acc,Dat|Number=Sing|Person=1|PrepCase=Npr|PronType=Prs|VerbForm=Inf', 'DET__Number=Plur|Person=3|Poss=Yes|PronType=Prs', 'ADJ__Gender=Fem|Number=Plur|NumType=Ord', 'NOUN__Gender=Fem|Number=Plur', 'PUNCT__PunctType=Peri'], ['DET__Number=Sing|Number[psor]=Sing|Person=1|Poss=Yes|PronType=Prs', 'NOUN__Gender=Fem|Number=Sing', 'ADP__AdpType=Prep', 'PROPN', 'AUX__Mood=Ind|Number=Sing|Person=3|Tense=Pres|VerbForm=Fin', 'ADV', 'ADJ__Number=Sing', 'ADP__AdpType=Prep', 'PRON__Case=Acc|Number=Sing|Person=1|PrepCase=Pre|PronType=Prs', 'PUNCT__PunctType=Comm', 'CCONJ', 'VERB__Mood=Ind|Number=Sing|Person=1|Tense=Pres|VerbForm=Fin', 'ADV__Polarity=Neg', 'VERB_PRON__Case=Acc|Gender=Fem|Number=Sing|Person=3|PrepCase=Npr|PronType=Prs|VerbForm=Inf', 'ADV', 'PUNCT__PunctType=Peri']]\n",
      "\n",
      "\n",
      "\n",
      "[['det', 'amod', 'nsubj', 'obj', 'ROOT', 'nsubj', 'punct', 'cc', 'conj', 'det', 'det', 'obj', 'mark', 'nmod', 'punct'], ['obj', 'ROOT', 'mark', 'mark', 'cop', 'advcl', 'punct', 'mark', 'fixed', 'advcl', 'case', 'det', 'det', 'obl', 'punct'], ['nsubj', 'cop', 'case', 'amod', 'obl', 'punct', 'ROOT', 'det', 'obj', 'amod', 'cc', 'det', 'conj', 'amod', 'punct'], ['ROOT', 'case', 'obl', 'case', 'det', 'obl', 'case', 'nmod', 'punct', 'cc', 'advmod', 'cop', 'advmod', 'conj', 'punct'], ['mark', 'advcl', 'det', 'nsubj', 'case', 'nmod', 'punct', 'obj', 'ROOT', 'csubj', 'mark', 'advcl', 'cc', 'conj', 'case', 'det', 'obl', 'punct'], ['advmod', 'fixed', 'punct', 'case', 'obl', 'punct', 'obj', 'ROOT', 'case', 'obj', 'punct'], ['det', 'obl', 'amod', 'ROOT', 'case', 'obl', 'punct', 'cc', 'conj', 'obj', 'amod', 'punct'], ['case', 'obj', 'obj', 'ROOT', 'advmod', 'csubj', 'case', 'obj', 'punct', 'cc', 'case', 'obj', 'advmod', 'punct', 'mark', 'fixed', 'advmod', 'obj', 'obj', 'aux', 'advcl', 'advmod', 'punct'], ['det', 'csubj', 'mark', 'advcl', 'ccomp', 'cop', 'det', 'ROOT', 'punct', 'cc', 'advmod', 'det', 'det', 'obl', 'aux', 'mark', 'conj', 'det', 'obj', 'punct'], ['mark', 'nsubj', 'advcl', 'obj', 'punct', 'advmod', 'advmod', 'aux', 'ROOT', 'xcomp', 'cc', 'cop', 'conj', 'punct', 'mark', 'fixed', 'obj', 'advcl', 'advmod', 'obj', 'case', 'obl', 'punct', ''], ['nsubj', 'case', 'det', 'nmod', 'case', 'nmod', 'ROOT', 'ccomp', 'det', 'obj', 'case', 'nmod', 'punct'], ['det', 'det', 'nsubj', 'cop', 'ROOT', 'case', 'nmod', 'case', 'nmod', 'punct'], ['obj', 'ROOT', 'advmod', 'xcomp', 'obj', 'amod', 'punct', 'appos', 'punct', 'conj', 'punct', 'conj', 'punct', 'conj', 'punct', 'cc', 'det', 'det', 'conj', 'punct'], ['mark', 'advcl', 'punct', 'obj', 'ROOT', 'csubj', 'det', 'amod', 'obj', 'punct'], ['det', 'nsubj', 'case', 'nmod', 'cop', 'advmod', 'ROOT', 'case', 'nmod', 'punct', 'cc', 'conj', 'advmod', 'xcomp', 'advmod', 'punct']]\n"
     ]
    }
   ],
   "source": [
    "ex = corpus[\"B1\"][4][\"content\"]\n",
    "print(ex)\n",
    "print(\"\\n\\n\")\n",
    "processed_ex = text_processor(ex)\n",
    "print(processed_ex.text)\n",
    "print(\"\\n\\n\")\n",
    "print(processed_ex.tokens)\n",
    "print(\"\\n\\n\")\n",
    "print(processed_ex.lemmas)\n",
    "print(\"\\n\\n\")\n",
    "print(processed_ex.tags)\n",
    "print(\"\\n\\n\")\n",
    "print(processed_ex.parses)"
   ]
  }
 ],
 "metadata": {
  "kernelspec": {
   "display_name": "Python 3",
   "language": "python",
   "name": "python3"
  },
  "language_info": {
   "codemirror_mode": {
    "name": "ipython",
    "version": 3
   },
   "file_extension": ".py",
   "mimetype": "text/x-python",
   "name": "python",
   "nbconvert_exporter": "python",
   "pygments_lexer": "ipython3",
   "version": "3.8.3"
  }
 },
 "nbformat": 4,
 "nbformat_minor": 5
}
