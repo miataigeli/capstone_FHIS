{
 "cells": [
  {
   "cell_type": "markdown",
   "id": "interested-triangle",
   "metadata": {},
   "source": [
    "## Rule-based pipeline using SpaCy"
   ]
  },
  {
   "cell_type": "code",
   "execution_count": 1,
   "id": "asian-bidding",
   "metadata": {
    "tags": []
   },
   "outputs": [],
   "source": [
    "# !python -m spacy download es_core_news_md"
   ]
  },
  {
   "cell_type": "code",
   "execution_count": 2,
   "id": "pressing-wellington",
   "metadata": {},
   "outputs": [],
   "source": [
    "from utils import read_corpus, text_processor"
   ]
  },
  {
   "cell_type": "code",
   "execution_count": 3,
   "id": "deadly-jungle",
   "metadata": {},
   "outputs": [],
   "source": [
    "corpus = read_corpus()"
   ]
  },
  {
   "cell_type": "code",
   "execution_count": 4,
   "id": "miniature-genre",
   "metadata": {},
   "outputs": [
    {
     "name": "stdout",
     "output_type": "stream",
     "text": [
      "A1: 94\n",
      "A2: 62\n",
      "B: 110\n",
      "B1: 42\n"
     ]
    }
   ],
   "source": [
    "for k, v in corpus.items():\n",
    "    print(f\"{k}: {len(v)}\")"
   ]
  },
  {
   "cell_type": "code",
   "execution_count": 7,
   "id": "reduced-hartford",
   "metadata": {},
   "outputs": [],
   "source": [
    "from urllib.request import urlopen\n",
    "from bs4 import BeautifulSoup\n",
    "import pandas as pd"
   ]
  },
  {
   "cell_type": "code",
   "execution_count": 8,
   "id": "contained-extreme",
   "metadata": {},
   "outputs": [],
   "source": [
    "urls = [\n",
    "    \"https://en.wiktionary.org/wiki/Wiktionary:Frequency_lists/Spanish1000\",\n",
    "    \"https://en.wiktionary.org/wiki/Wiktionary:Frequency_lists/Spanish1001-2000\",\n",
    "    \"https://en.wiktionary.org/wiki/Wiktionary:Frequency_lists/Spanish2001-3000\",\n",
    "    \"https://en.wiktionary.org/wiki/Wiktionary:Frequency_lists/Spanish3001-4000\",\n",
    "    \"https://en.wiktionary.org/wiki/Wiktionary:Frequency_lists/Spanish4001-5000\",\n",
    "    \"https://en.wiktionary.org/wiki/Wiktionary:Frequency_lists/Spanish5001-6000\",\n",
    "    \"https://en.wiktionary.org/wiki/Wiktionary:Frequency_lists/Spanish6001-7000\",\n",
    "    \"https://en.wiktionary.org/wiki/Wiktionary:Frequency_lists/Spanish7001-8000\",\n",
    "    \"https://en.wiktionary.org/wiki/Wiktionary:Frequency_lists/Spanish8001-9000\",\n",
    "    \"https://en.wiktionary.org/wiki/Wiktionary:Frequency_lists/Spanish9001-10000\",\n",
    "]"
   ]
  },
  {
   "cell_type": "code",
   "execution_count": 9,
   "id": "bound-montana",
   "metadata": {},
   "outputs": [
    {
     "name": "stdout",
     "output_type": "stream",
     "text": [
      "              word occurrences         lemma\n",
      "0              que       32894           que\n",
      "1               de       32116            de\n",
      "2               no       29897            no\n",
      "3                a       22313             a\n",
      "4               la       21127            la\n",
      "...            ...         ...           ...\n",
      "9995         enoja           5        enojar\n",
      "9996        empujó           5       empujar\n",
      "9997        dilema           5        dilema\n",
      "9998  desconectado           5  desconectado\n",
      "9999     deprimida           5     deprimido\n",
      "\n",
      "[10000 rows x 3 columns]\n"
     ]
    }
   ],
   "source": [
    "df_list = []\n",
    "for url in urls:\n",
    "    soup = BeautifulSoup(urlopen(url), \"lxml\")\n",
    "    table = soup.find(\"tbody\")\n",
    "    for row in table.find_all(\"tr\")[1:]:\n",
    "        row = row.text.lower().strip().split(\"\\n\")\n",
    "        df_list.append(list(filter(lambda e: e != \"\", row))[1:])\n",
    "df = pd.DataFrame(df_list, columns = [\"word\", \"occurrences\", \"lemma\"])\n",
    "print(df)"
   ]
  },
  {
   "cell_type": "code",
   "execution_count": 10,
   "id": "sealed-volleyball",
   "metadata": {},
   "outputs": [],
   "source": [
    "def flatten(list_of_sents):\n",
    "    return [tok for sent in list_of_sents for tok in sent]"
   ]
  },
  {
   "cell_type": "code",
   "execution_count": 5,
   "id": "worldwide-stylus",
   "metadata": {},
   "outputs": [],
   "source": [
    "# TODO: preprocessor does not work on Aventura text for some reason"
   ]
  },
  {
   "cell_type": "code",
   "execution_count": 162,
   "id": "dietary-demographic",
   "metadata": {},
   "outputs": [
    {
     "name": "stdout",
     "output_type": "stream",
     "text": [
      "Viendo, pues, que, en efeto, no podía menearse, acordó de acogerse a su ordinario remedio, que era pensar en algún paso de sus libros; y trújole su locura a la memoria aquel de Valdovinos y del marqués de Mantua, cuando Carloto le dejó herido en la montiña, historia sabida de los niños, no ignorada de los mozos, celebrada y aun creída de los viejos; y, con todo esto, no más verdadera que los milagros de Mahoma. Ésta, pues, le pareció a él que le venía de molde para el paso en que se hallaba; y así, con muestras de grande sentimiento, se comenzó a volcar por la tierra y a decir con debilitado aliento lo mesmo que dicen decía el herido caballero del bosque: —¿Dónde estás, señora mía, que no te duele mi mal? oh no lo sabes, señora, oh eres falsa y desleal. Y, desta manera, fue prosiguiendo el romance hasta aquellos versos que dicen: —¡Oh noble marqués de Mantua, mi tío y señor carnal! Y quiso la suerte que, cuando llegó a este verso, acertó a pasar por allí un labrador de su mesmo lugar y vecino suyo, que venía de llevar una carga de trigo al molino; el cual, viendo aquel hombre allí tendido, se llegó a él y le preguntó que quién era y qué mal sentía que tan tristemente se quejaba. Don Quijote creyó, sin duda, que aquél era el marqués de Mantua, su tío; y así, no le respondió otra cosa si no fue proseguir en su romance, donde le daba cuenta de su desgracia y de los amores del hijo del Emperante con su esposa, todo de la mesma manera que el romance lo canta. El labrador estaba admirado oyendo aquellos disparates; y, quitándole la visera, que ya estaba hecha pedazos de los palos, le limpió el rostro, que le tenía cubierto de polvo; y apenas le hubo limpiado, cuando le conoció y le dijo: —Señor Quijana —que así se debía de llamar cuando él tenía juicio y no había pasado de hidalgo sosegado a caballero andante—, Capítulo V Donde se prosigue la narración de la desgracia de nuestro caballero   Pero él seguía con su romance a cuanto le preguntaba. Viendo esto el buen hombre, lo mejor que pudo le quitó el peto y espaldar, para ver si tenía alguna herida; pero no vio sangre ni señal alguna. Procuró levantarle del suelo, y no con poco trabajo le subió sobre su jumento, por parecer caballería más sosegada. Recogió las armas, hasta las astillas de la lanza, y liólas sobre Rocinante, al cual tomó de la rienda, y del cabestro al asno, y se encaminó hacia su pueblo, bien pensativo de oír los disparates que don Quijote decía; y no menos iba don Quijote, que, de puro molido y quebrantado, no se podía tener sobre el borrico, y de cuando en cuando daba unos suspiros que los ponía en el cielo; de modo que de nuevo obligó a que el labrador le preguntase le dijese qué mal sentía; y no parece sino que el diablo le traía a la memoria los cuentos acomodados a sus sucesos, porque, en aquel punto, olvidándose de Valdovinos, se acordó del moro Abindarráez, cuando el alcaide de Antequera, Rodrigo de Narváez, le prendió y llevó cautivo a su alcaidía. De suerte que, cuando el labrador le volvió a preguntar que cómo  estaba y qué sentía, le respondió las mesmas palabras y razones que el cautivo Abencerraje respondía a Rodrigo de Narváez, del mesmo modo que él había leído la historia en La Diana, de Jorge de Montemayor, donde se escribe; aprovechándose della tan a propósito, que el labrador se iba dando al diablo de oír tanta máquina de necedades; por donde conoció que su vecino estaba loco, y dábale priesa a llegar al pueblo, por escusar el enfado que don Quijote le causaba con su larga arenga. Al cabo de lo cual, dijo: —Sepa vuestra merced, señor don Rodrigo de Narváez, que esta hermosa Jarifa que he dicho es ahora la linda Dulcinea del Toboso, por quien yo he hecho, hago y haré los más famosos hechos de caballerías que se han visto, vean ni verán en el mundo. A esto respondió el labrador: —Mire vuestra merced, señor, pecador de mí, que yo no soy don Rodrigo de Narváez, ni el marqués de Mantua, sino Pedro Alonso, su vecino; ni vuestra merced es Valdovinos, ni Abindarráez, sino el honrado hidalgo del señor Quijano. —Yo sé quien soy —respondió don Quijote—; y sé que puedo ser no sólo los que he dicho, sino todos los Doce Pares de Francia, y aun todos los Nueve de la Fama, pues a todas las hazañas que ellos todos juntos y cada uno por sí hicieron, se aventajarán las mías.  En estas pláticas y en otras semejantes, llegaron al lugar a la hora que anochecía, pero el labrador aguardó a que fuese algo más noche, porque no viesen al molido hidalgo tan mal caballero. Llegada, pues, la hora que le pareció, entró en el pueblo, y en la casa de don Quijote, la cual halló toda alborotada; y estaban en ella el cura y el barbero del lugar, que eran grandes amigos de don Quijote, que estaba diciéndoles su ama a voces: —¿Qué le parece a vuestra merced, señor licenciado Pero Pérez —que así se llamaba el cura—, de la desgracia de mi señor? Tres días ha que no parecen él, ni el rocín, ni la adarga, ni la lanza ni las armas. ¡Desventurada de mí!, que me doy a entender, y así es ello la verdad como nací para morir, que estos malditos libros de caballerías que él tiene y suele leer tan de ordinario le han vuelto el juicio; que ahora me acuerdo haberle oído decir muchas veces, hablando entre sí, que quería hacerse caballero andante e irse a buscar las aventuras por esos mundos. Encomendados sean a Satanás y a Barrabás tales libros, que así han echado a perder el más delicado entendimiento que había en toda la Mancha. La sobrina decía lo mesmo, y aun decía más: —Sepa, señor maese Nicolás —que éste era el nombre del barbero—, que muchas veces le aconteció a mi señor tío estarse leyendo en estos desalmados libros de desventuras dos días con sus noches, al cabo de los cuales, arrojaba el libro de las manos, y ponía mano a la espada y andaba a cuchilladas con las paredes; y cuando estaba muy cansado, decía que había muerto a cuatro gigantes como cuatro torres, y el sudor que sudaba del cansancio decía que era sangre de las feridas que había recebido en la batalla; y bebíase luego un gran jarro de agua fría, y quedaba sano y sosegado, diciendo que aquella agua era una preciosísima bebida que le había traído el sabio Esquife, un grande encantador y amigo suyo. Mas yo me tengo la culpa de todo, que no avisé a vuestras mercedes de los disparates de mi señor tío, para que lo remediaran antes de llegar a lo que ha llegado, y quemaran todos estos descomulgados libros, que tiene muchos, que bien merecen ser abrasados, como si fuesen de herejes. —Esto digo yo también —dijo el cura—, y a fee que no se pase el día de mañana sin que dellos no se haga acto público y sean condenados al fuego, porque no den ocasión a quien los leyere de hacer lo que mi buen amigo debe de haber hecho. Todo esto estaban oyendo el labrador y don Quijote, con que acabó de entender el labrador la enfermedad de su vecino; y así, comenzó a decir a voces: —Abran vuestras mercedes al señor Valdovinos y al señor marqués de Mantua, que viene malferido, y al señor moro Abindarráez, que trae cautivo el valeroso Rodrigo de Narváez, alcaide de Antequera. A estas voces salieron todos y, como conocieron los unos a su amigo, las otras a su amo y tío, que aún no se había apeado del jumento, porque no podía, corrieron a abrazarle. Él dijo: —Ténganse todos, que vengo malferido por la culpa de mi caballo. Llévenme a mi lecho y llámese, si fuere posible, a la sabia Urganda, que cure y cate de mis feridas. —¡Mirá, en hora maza —dijo a este punto el ama—, si me decía a mí bien mi corazón del pie que cojeaba mi señor! Suba vuestra merced en buen hora, que, sin que venga esa Hurgada, le sabremos aquí curar. ¡Malditos, digo, sean otra vez y otras ciento estos libros de caballerías, que tal han parado a vuestra merced! Lleváronle luego a la cama y, catándole las feridas, no le hallaron ninguna; y él dijo que todo era molimiento, por haber dado una gran caída con Rocinante, su caballo, combatiéndose con diez jayanes, los más desaforados y atrevidos que se  pudieran fallar en gran parte de la tierra. —¡Ta, ta! —dijo el cura—. ¿Jayanes hay en la danza? Para mi santiguada, que yo los queme mañana antes que llegue la noche.     Hiciéronle a don Quijote mil preguntas, y a ninguna quiso responder otra cosa sino que le diesen de comer y le dejasen dormir, que era lo que más le importaba. Hízose así, y el cura se informó muy a la larga del labrador del modo que había hallado a don Quijote. Él se lo contó todo, con los disparates que al hallarle y al traerle había dicho; que fue poner más deseo en el licenciado de hacer lo que otro día hizo, que fue llamar a su amigo el barbero maese Nicolás, con el cual se vino a casa de don Quijote. RESUMEN Por quince días don Quijote estuvo en casa muy tranquilo, contándoles cuentos a sus dos compadres, el cura y el barbero. Les decía que la mayor necesidad del mundo era de caballeros andantes. “ …pues soy más mentecato que él, pues le sigo y le sirvo, si es verdadero el refrán que dice: Dime con quien andas, y decirte he quién eres…” (El Quijote, capítulo X)\n"
     ]
    }
   ],
   "source": [
    "ex = corpus[\"A2\"][4][\"content\"]\n",
    "# print(ex)\n",
    "# print(\"\\n\\n\")\n",
    "processed_ex = text_processor(ex)\n",
    "print(processed_ex.text)\n",
    "# print(\"\\n\\n\")\n",
    "# print(processed_ex.tokens)\n",
    "# print(\"\\n\\n\")\n",
    "# print(processed_ex.lemmas)\n",
    "# print(\"\\n\\n\")\n",
    "# print(processed_ex.tags)\n",
    "# print(\"\\n\\n\")\n",
    "# print(processed_ex.parses)"
   ]
  },
  {
   "cell_type": "code",
   "execution_count": 163,
   "id": "accepted-oakland",
   "metadata": {},
   "outputs": [
    {
     "name": "stdout",
     "output_type": "stream",
     "text": [
      "507.37\n"
     ]
    }
   ],
   "source": [
    "index = df.index\n",
    "ranked_tokens = []\n",
    "for sent in processed_ex.tokens:\n",
    "    ranked_sent = []\n",
    "    for tok in sent:\n",
    "        condition = df[\"word\"] == tok\n",
    "        rank = index[condition].tolist()\n",
    "        rank = rank[0] + 1 if rank else 0\n",
    "        ranked_sent.append(rank)\n",
    "    ranked_tokens.append(ranked_sent)\n",
    "flattened = flatten(ranked_tokens)\n",
    "print(f\"{sum(flattened)/len(flattened):.2f}\")"
   ]
  },
  {
   "cell_type": "code",
   "execution_count": 164,
   "id": "romance-parent",
   "metadata": {},
   "outputs": [
    {
     "name": "stdout",
     "output_type": "stream",
     "text": [
      "435.76\n"
     ]
    }
   ],
   "source": [
    "index = df.index\n",
    "ranked_lemmas = []\n",
    "for sent in processed_ex.lemmas:\n",
    "    ranked_sent = []\n",
    "    for lem in sent:\n",
    "        condition = df[\"lemma\"] == lem\n",
    "        rank = index[condition].tolist()\n",
    "        rank = rank[0] + 1 if rank else 0\n",
    "        ranked_sent.append(rank)\n",
    "    ranked_lemmas.append(ranked_sent)\n",
    "flattened = flatten(ranked_lemmas)\n",
    "print(f\"{sum(flattened)/len(flattened):.2f}\")"
   ]
  },
  {
   "cell_type": "code",
   "execution_count": null,
   "id": "supreme-command",
   "metadata": {},
   "outputs": [],
   "source": []
  }
 ],
 "metadata": {
  "kernelspec": {
   "display_name": "Python 3",
   "language": "python",
   "name": "python3"
  },
  "language_info": {
   "codemirror_mode": {
    "name": "ipython",
    "version": 3
   },
   "file_extension": ".py",
   "mimetype": "text/x-python",
   "name": "python",
   "nbconvert_exporter": "python",
   "pygments_lexer": "ipython3",
   "version": "3.8.3"
  }
 },
 "nbformat": 4,
 "nbformat_minor": 5
}
