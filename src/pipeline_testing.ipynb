{
 "cells": [
  {
   "cell_type": "markdown",
   "id": "gross-tampa",
   "metadata": {},
   "source": [
    "## Rule-based pipeline using SpaCy"
   ]
  },
  {
   "cell_type": "code",
   "execution_count": 1,
   "id": "inner-intervention",
   "metadata": {
    "tags": []
   },
   "outputs": [],
   "source": [
    "# !python -m spacy download es_core_news_md"
   ]
  },
  {
   "cell_type": "code",
   "execution_count": 2,
   "id": "macro-niagara",
   "metadata": {},
   "outputs": [],
   "source": [
    "import spacy"
   ]
  },
  {
   "cell_type": "code",
   "execution_count": 3,
   "id": "irish-excerpt",
   "metadata": {},
   "outputs": [],
   "source": [
    "nlp = spacy.load(\"es_core_news_md\")"
   ]
  },
  {
   "cell_type": "code",
   "execution_count": 4,
   "id": "formed-stanford",
   "metadata": {},
   "outputs": [],
   "source": [
    "from utils import read_corpus"
   ]
  },
  {
   "cell_type": "code",
   "execution_count": 5,
   "id": "individual-reader",
   "metadata": {},
   "outputs": [],
   "source": [
    "corpus = read_corpus(\"../corpus/\")"
   ]
  },
  {
   "cell_type": "code",
   "execution_count": 8,
   "id": "pediatric-journey",
   "metadata": {},
   "outputs": [
    {
     "name": "stdout",
     "output_type": "stream",
     "text": [
      "A1: 52\n",
      "A2: 51\n",
      "B: 110\n",
      "A2/B1: 31\n",
      "B1: 11\n"
     ]
    }
   ],
   "source": [
    "for k, v in corpus.items():\n",
    "    print(f\"{k}: {len(v)}\")"
   ]
  },
  {
   "cell_type": "code",
   "execution_count": 36,
   "id": "harmful-explosion",
   "metadata": {},
   "outputs": [],
   "source": [
    "def text_preprocessor(text):\n",
    "    text_processed = []\n",
    "    for s in text.strip().split(\"\\n\"):\n",
    "        if s.strip()[-1].isdigit():\n",
    "            s = s[:-4]\n",
    "        text_processed.append(s.strip())\n",
    "    text_processed = list(filter(lambda s: not s.isspace(), text_processed))\n",
    "    text_processed = \" \".join(text_processed)\n",
    "    return text_processed"
   ]
  },
  {
   "cell_type": "code",
   "execution_count": 37,
   "id": "stone-stress",
   "metadata": {},
   "outputs": [
    {
     "name": "stdout",
     "output_type": "stream",
     "text": [
      "Un día un pollo entra en un bosque. Una bellota cae en su cabeza. El pobre pollo cree que el cielo ha caído sobre él. Corre para informar al rey. En el camino encuentra una gallina. —¿A dónde vas?—pregunta la gallina. —¡Oh!—dice el pollo,—el cielo ha caído en mi cabeza y voy a informar al rey. —Yo voy también, si quieres,—responde la gallina y se marchan juntos el pollo y la gallina al palacio del rey. En el camino encuentran un gallo. —¿A dónde vas?—pregunta el gallo a la gallina. —¡Oh!—dice la gallina—el cielo ha caído sobre la cabeza del pobre pollo y vamos a informar al rey. —Yo voy también, si quieres,—responde el gallo y se marchan juntos el pollo, la gallina y el gallo al palacio del rey. En el camino encuentran un pato. —¿A dónde vas?—pregunta el pato al gallo. —¡Oh!—dice el gallo,—el cielo ha caído en la cabeza del pobre pollo y vamos a informar al rey. —Yo voy también, si quieres—responde el pato y se marchan juntos el pollo, la gallina, el gallo y el pato al palacio del rey. En el camino encuentran un ganso. —¿A dónde vas?—pregunta el ganso al pato. —¡Oh!—dice el pato,—el cielo ha caído en la cabeza del pobre pollo y vamos a informar al rey. —Yo voy también, si quieres,—responde el ganso y se marchan juntos el pollo, la gallina, el gallo, el pato y el ganso al palacio del rey. En el camino encuentran un pavo. El pavo quiere ir con ellos a informar al rey que el cielo ha caído. Ninguno de los pobres animales sabe el camino. En este momento encuentran una zorra. La zorra dice que quiere enseñarles el camino al palacio del rey. Todos van con ella; pero ella los conduce a su cubil. Aquí la zorra y sus cachorros se comen el pobre pollo y la gallina y el gallo y el pato y el ganso y el pavo. Los pobres no van al palacio y no pueden informar al rey que el cielo ha caído sobre la cabeza del pobre pollo.\n",
      "\n",
      "\n",
      "\n",
      "\n",
      "\n",
      "\n",
      "[['Un', 'día', 'un', 'pollo', 'entra', 'en', 'un', 'bosque', '.'], ['Una', 'bellota', 'cae', 'en', 'su', 'cabeza', '.'], ['El', 'pobre', 'pollo', 'cree', 'que', 'el', 'cielo', 'ha', 'caído', 'sobre', 'él', '.'], ['Corre', 'para', 'informar', 'al', 'rey', '.'], ['En', 'el', 'camino', 'encuentra', 'una', 'gallina', '.'], ['—', '¿', 'A', 'dónde', 'vas?—pregunta', 'la', 'gallina', '.'], ['—', '¡', 'Oh!—dice', 'el', 'pollo,—el', 'cielo', 'ha', 'caído', 'en', 'mi', 'cabeza', 'y', 'voy', 'a', 'informar', 'al', 'rey', '.'], ['—', 'Yo', 'voy', 'también', ',', 'si', 'quieres,—responde', 'la', 'gallina', 'y', 'se', 'marchan', 'juntos', 'el', 'pollo', 'y', 'la', 'gallina', 'al', 'palacio', 'del', 'rey', '.'], ['En', 'el', 'camino', 'encuentran', 'un', 'gallo', '.'], ['—', '¿', 'A', 'dónde', 'vas?—pregunta', 'el', 'gallo', 'a', 'la', 'gallina', '.'], ['—', '¡', 'Oh!—dice', 'la', 'gallina—el', 'cielo', 'ha', 'caído', 'sobre', 'la', 'cabeza', 'del', 'pobre', 'pollo', 'y', 'vamos', 'a', 'informar', 'al', 'rey', '.'], ['—', 'Yo', 'voy', 'también', ',', 'si', 'quieres,—responde', 'el', 'gallo', 'y', 'se', 'marchan', 'juntos', 'el', 'pollo', ',', 'la', 'gallina', 'y', 'el', 'gallo', 'al', 'palacio', 'del', 'rey', '.'], ['En', 'el', 'camino', 'encuentran', 'un', 'pato', '.'], ['—', '¿', 'A', 'dónde', 'vas?—pregunta', 'el', 'pato', 'al', 'gallo', '.'], ['—', '¡', 'Oh!—dice', 'el', 'gallo,—el', 'cielo', 'ha', 'caído', 'en', 'la', 'cabeza', 'del', 'pobre', 'pollo', 'y', 'vamos', 'a', 'informar', 'al', 'rey', '.'], ['—', 'Yo', 'voy', 'también', ',', 'si', 'quieres—responde', 'el', 'pato', 'y', 'se', 'marchan', 'juntos', 'el', 'pollo', ',', 'la', 'gallina', ',', 'el', 'gallo', 'y', 'el', 'pato', 'al', 'palacio', 'del', 'rey', '.'], ['En', 'el', 'camino', 'encuentran', 'un', 'ganso', '.'], ['—', '¿', 'A', 'dónde', 'vas?—pregunta', 'el', 'ganso', 'al', 'pato', '.'], ['—', '¡', 'Oh!—dice', 'el', 'pato,—el', 'cielo', 'ha', 'caído', 'en', 'la', 'cabeza', 'del', 'pobre', 'pollo', 'y', 'vamos', 'a', 'informar', 'al', 'rey', '.'], ['—', 'Yo', 'voy', 'también', ',', 'si', 'quieres,—responde', 'el', 'ganso', 'y', 'se', 'marchan', 'juntos', 'el', 'pollo', ',', 'la', 'gallina', ',', 'el', 'gallo', ',', 'el', 'pato', 'y', 'el', 'ganso', 'al', 'palacio', 'del', 'rey', '.'], ['En', 'el', 'camino', 'encuentran', 'un', 'pavo', '.'], ['El', 'pavo', 'quiere', 'ir', 'con', 'ellos', 'a', 'informar', 'al', 'rey', 'que', 'el', 'cielo', 'ha', 'caído', '.'], ['Ninguno', 'de', 'los', 'pobres', 'animales', 'sabe', 'el', 'camino', '.'], ['En', 'este', 'momento', 'encuentran', 'una', 'zorra', '.'], ['La', 'zorra', 'dice', 'que', 'quiere', 'enseñarles', 'el', 'camino', 'al', 'palacio', 'del', 'rey', '.'], ['Todos', 'van', 'con', 'ella', ';', 'pero', 'ella', 'los', 'conduce', 'a', 'su', 'cubil', '.'], ['Aquí', 'la', 'zorra', 'y', 'sus', 'cachorros', 'se', 'comen', 'el', 'pobre', 'pollo', 'y', 'la', 'gallina', 'y', 'el', 'gallo', 'y', 'el', 'pato', 'y', 'el', 'ganso', 'y', 'el', 'pavo', '.'], ['Los', 'pobres', 'no', 'van', 'al', 'palacio', 'y', 'no', 'pueden', 'informar', 'al', 'rey', 'que', 'el', 'cielo', 'ha', 'caído', 'sobre', 'la', 'cabeza', 'del', 'pobre', 'pollo', '.']]\n",
      "\n",
      "\n",
      "\n",
      "[['Un', 'día', 'uno', 'pollo', 'entrar', 'en', 'uno', 'bosque', '.'], ['Una', 'bellota', 'caer', 'en', 'su', 'cabeza', '.'], ['El', 'pobre', 'pollo', 'creer', 'que', 'el', 'cielo', 'haber', 'caer', 'sobrar', 'él', '.'], ['Corre', 'parir', 'informar', 'al', 'rey', '.'], ['En', 'el', 'caminar', 'encontrar', 'uno', 'gallina', '.'], ['—', '¿', 'A', 'dónde', 'vas?—pregunta', 'lo', 'gallina', '.'], ['—', '¡', 'Oh!—dice', 'el', 'pollo,—el', 'cielo', 'haber', 'caer', 'en', 'mi', 'cabeza', 'y', 'ir', 'a', 'informar', 'al', 'rey', '.'], ['—', 'Yo', 'ir', 'también', ',', 'si', 'quieres,—responde', 'lo', 'gallina', 'y', 'se', 'marchar', 'junto', 'el', 'pollo', 'y', 'lo', 'gallina', 'al', 'palacio', 'del', 'rey', '.'], ['En', 'el', 'caminar', 'encontrar', 'uno', 'gallar', '.'], ['—', '¿', 'A', 'dónde', 'vas?—pregunta', 'el', 'gallar', 'a', 'lo', 'gallina', '.'], ['—', '¡', 'Oh!—dice', 'lo', 'gallina—el', 'cielo', 'haber', 'caer', 'sobrar', 'lo', 'cabeza', 'del', 'pobre', 'pollo', 'y', 'ir', 'a', 'informar', 'al', 'rey', '.'], ['—', 'Yo', 'ir', 'también', ',', 'si', 'quieres,—responde', 'el', 'gallar', 'y', 'se', 'marchar', 'junto', 'el', 'pollo', ',', 'lo', 'gallina', 'y', 'el', 'gallar', 'al', 'palacio', 'del', 'rey', '.'], ['En', 'el', 'caminar', 'encontrar', 'uno', 'pato', '.'], ['—', '¿', 'A', 'dónde', 'vas?—pregunta', 'el', 'pato', 'al', 'gallar', '.'], ['—', '¡', 'Oh!—dice', 'el', 'gallo,—el', 'cielo', 'haber', 'caer', 'en', 'lo', 'cabeza', 'del', 'pobre', 'pollo', 'y', 'ir', 'a', 'informar', 'al', 'rey', '.'], ['—', 'Yo', 'ir', 'también', ',', 'si', 'quieres—responde', 'el', 'pato', 'y', 'se', 'marchar', 'junto', 'el', 'pollo', ',', 'lo', 'gallina', ',', 'el', 'gallar', 'y', 'el', 'pato', 'al', 'palacio', 'del', 'rey', '.'], ['En', 'el', 'caminar', 'encontrar', 'uno', 'ganso', '.'], ['—', '¿', 'A', 'dónde', 'vas?—pregunta', 'el', 'ganso', 'al', 'pato', '.'], ['—', '¡', 'Oh!—dice', 'el', 'pato,—el', 'cielo', 'haber', 'caer', 'en', 'lo', 'cabeza', 'del', 'pobre', 'pollo', 'y', 'ir', 'a', 'informar', 'al', 'rey', '.'], ['—', 'Yo', 'ir', 'también', ',', 'si', 'quieres,—responde', 'el', 'ganso', 'y', 'se', 'marchar', 'junto', 'el', 'pollo', ',', 'lo', 'gallina', ',', 'el', 'gallar', ',', 'el', 'pato', 'y', 'el', 'ganso', 'al', 'palacio', 'del', 'rey', '.'], ['En', 'el', 'caminar', 'encontrar', 'uno', 'pavo', '.'], ['El', 'pavo', 'querer', 'ir', 'con', 'ellos', 'a', 'informar', 'al', 'rey', 'que', 'el', 'cielo', 'haber', 'caer', '.'], ['Ninguno', 'de', 'lo', 'pobre', 'animal', 'saber', 'el', 'caminar', '.'], ['En', 'este', 'momento', 'encontrar', 'uno', 'zorro', '.'], ['La', 'zorro', 'decir', 'que', 'querer', 'enseñarles', 'el', 'caminar', 'al', 'palacio', 'del', 'rey', '.'], ['Todos', 'ir', 'con', 'él', ';', 'pero', 'él', 'lo', 'conducir', 'a', 'su', 'cubil', '.'], ['Aquí', 'lo', 'zorro', 'y', 'su', 'cachorro', 'se', 'comer', 'el', 'pobre', 'pollo', 'y', 'lo', 'gallina', 'y', 'el', 'gallar', 'y', 'el', 'pato', 'y', 'el', 'ganso', 'y', 'el', 'pavo', '.'], ['Los', 'pobre', 'no', 'ir', 'al', 'palacio', 'y', 'no', 'poder', 'informar', 'al', 'rey', 'que', 'el', 'cielo', 'haber', 'caer', 'sobrar', 'lo', 'cabeza', 'del', 'pobre', 'pollo', '.']]\n",
      "\n",
      "\n",
      "\n",
      "[['DET__Definite=Ind|Gender=Masc|Number=Sing|PronType=Art', 'NOUN__Gender=Masc|Number=Sing', 'DET__Definite=Ind|Gender=Masc|Number=Sing|PronType=Art', 'NOUN__Gender=Masc|Number=Sing', 'VERB__Mood=Ind|Number=Sing|Person=3|Tense=Pres|VerbForm=Fin', 'ADP__AdpType=Prep', 'DET__Definite=Ind|Gender=Masc|Number=Sing|PronType=Art', 'NOUN__Gender=Masc|Number=Sing', 'PUNCT__PunctType=Peri'], ['DET__Definite=Ind|Gender=Fem|Number=Sing|PronType=Art', 'NOUN__Gender=Fem|Number=Sing', 'VERB__Mood=Ind|Number=Sing|Person=3|Tense=Pres|VerbForm=Fin', 'ADP__AdpType=Prep', 'DET__Number=Sing|Person=3|Poss=Yes|PronType=Prs', 'NOUN__Gender=Fem|Number=Sing', 'PUNCT__PunctType=Peri'], ['DET__Definite=Def|Gender=Masc|Number=Sing|PronType=Art', 'ADJ__Number=Sing', 'NOUN__Gender=Masc|Number=Sing', 'VERB__Mood=Ind|Number=Sing|Person=3|Tense=Pres|VerbForm=Fin', 'SCONJ', 'DET__Definite=Def|Gender=Masc|Number=Sing|PronType=Art', 'NOUN__Gender=Masc|Number=Sing', 'AUX__Mood=Ind|Number=Sing|Person=3|Tense=Pres|VerbForm=Fin', 'VERB__Gender=Masc|Number=Sing|Tense=Past|VerbForm=Part', 'ADP__AdpType=Prep', 'PRON__Case=Acc,Nom|Gender=Masc|Number=Sing|Person=3|PronType=Prs', 'PUNCT__PunctType=Peri'], ['VERB__Mood=Ind|Number=Sing|Person=3|Tense=Pres|VerbForm=Fin', 'ADP__AdpType=Prep', 'VERB__VerbForm=Inf', 'ADP__AdpType=Preppron', 'NOUN__Gender=Masc|Number=Sing', 'PUNCT__PunctType=Peri'], ['ADP__AdpType=Prep', 'DET__Definite=Def|Gender=Masc|Number=Sing|PronType=Art', 'NOUN__Gender=Masc|Number=Sing', 'VERB__Mood=Ind|Number=Sing|Person=3|Tense=Pres|VerbForm=Fin', 'DET__Definite=Ind|Gender=Fem|Number=Sing|PronType=Art', 'NOUN__Gender=Fem|Number=Sing', 'PUNCT__PunctType=Peri'], ['PUNCT__PunctType=Peri', 'PUNCT__PunctSide=Ini|PunctType=Qest', 'ADP__AdpType=Prep', 'PRON__PronType=Ind', 'VERB__Mood=Ind|Number=Sing|Person=3|Tense=Pres|VerbForm=Fin', 'DET__Definite=Def|Gender=Fem|Number=Sing|PronType=Art', 'NOUN__Gender=Fem|Number=Sing', 'PUNCT__PunctType=Peri'], ['SYM', 'PUNCT__PunctSide=Ini|PunctType=Excl', 'VERB__Mood=Sub|Number=Sing|Person=3|Tense=Pres|VerbForm=Fin', 'DET__Definite=Def|Gender=Masc|Number=Sing|PronType=Art', 'PROPN', 'NOUN__Gender=Masc|Number=Sing', 'AUX__Mood=Ind|Number=Sing|Person=3|Tense=Pres|VerbForm=Fin', 'VERB__Gender=Masc|Number=Sing|Tense=Past|VerbForm=Part', 'ADP__AdpType=Prep', 'DET__Number=Sing|Number[psor]=Sing|Person=1|Poss=Yes|PronType=Prs', 'NOUN__Gender=Fem|Number=Sing', 'CCONJ', 'AUX__Mood=Ind|Number=Sing|Person=1|Tense=Pres|VerbForm=Fin', 'ADP__AdpType=Prep', 'VERB__VerbForm=Inf', 'ADP__AdpType=Preppron', 'NOUN__Gender=Masc|Number=Sing', 'PUNCT__PunctType=Peri'], ['SYM', 'PRON__Case=Nom|Number=Sing|Person=1|PronType=Prs', 'VERB__Mood=Ind|Number=Sing|Person=1|Tense=Pres|VerbForm=Fin', 'ADV', 'PUNCT__PunctType=Comm', 'SCONJ', 'PROPN', 'DET__Definite=Def|Gender=Fem|Number=Sing|PronType=Art', 'NOUN__Gender=Fem|Number=Sing', 'CCONJ', 'PRON__Case=Acc,Dat|Person=3|PrepCase=Npr|PronType=Prs|Reflex=Yes', 'VERB__Mood=Ind|Number=Plur|Person=3|Tense=Pres|VerbForm=Fin', 'ADJ__Gender=Masc|Number=Plur', 'DET__Definite=Def|Gender=Masc|Number=Sing|PronType=Art', 'NOUN__Gender=Masc|Number=Sing', 'CCONJ', 'DET__Definite=Def|Gender=Fem|Number=Sing|PronType=Art', 'NOUN__Gender=Fem|Number=Sing', 'ADP__AdpType=Preppron', 'NOUN__Gender=Masc|Number=Sing', 'ADP__AdpType=Preppron', 'NOUN__Gender=Masc|Number=Sing', 'PUNCT__PunctType=Peri'], ['ADP__AdpType=Prep', 'DET__Definite=Def|Gender=Masc|Number=Sing|PronType=Art', 'NOUN__Gender=Masc|Number=Sing', 'VERB__Mood=Ind|Number=Plur|Person=3|Tense=Pres|VerbForm=Fin', 'DET__Definite=Ind|Gender=Masc|Number=Sing|PronType=Art', 'NOUN__Gender=Masc|Number=Sing', 'PUNCT__PunctType=Peri'], ['SYM', 'PUNCT__PunctSide=Ini|PunctType=Qest', 'ADP__AdpType=Prep', 'PRON__PronType=Ind', 'VERB__Mood=Ind|Number=Sing|Person=3|Tense=Pres|VerbForm=Fin', 'DET__Definite=Def|Gender=Masc|Number=Sing|PronType=Art', 'NOUN__Gender=Masc|Number=Sing', 'ADP__AdpType=Prep', 'DET__Definite=Def|Gender=Fem|Number=Sing|PronType=Art', 'NOUN__Gender=Fem|Number=Sing', 'PUNCT__PunctType=Peri'], ['SYM', 'PUNCT__PunctSide=Ini|PunctType=Excl', 'NOUN', 'DET__Definite=Def|Gender=Fem|Number=Sing|PronType=Art', 'NOUN', 'NOUN__Gender=Masc|Number=Sing', 'AUX__Mood=Ind|Number=Sing|Person=3|Tense=Pres|VerbForm=Fin', 'VERB__Gender=Masc|Number=Sing|Tense=Past|VerbForm=Part', 'ADP__AdpType=Prep', 'DET__Definite=Def|Gender=Fem|Number=Sing|PronType=Art', 'NOUN__Gender=Fem|Number=Sing', 'ADP__AdpType=Preppron', 'ADJ__Number=Sing', 'NOUN__Gender=Masc|Number=Sing', 'CCONJ', 'AUX__Mood=Ind|Number=Plur|Person=1|Tense=Pres|VerbForm=Fin', 'ADP__AdpType=Prep', 'VERB__VerbForm=Inf', 'ADP__AdpType=Preppron', 'NOUN__Gender=Masc|Number=Sing', 'PUNCT__PunctType=Peri'], ['SYM', 'PRON__Case=Nom|Number=Sing|Person=1|PronType=Prs', 'VERB__Mood=Ind|Number=Sing|Person=1|Tense=Pres|VerbForm=Fin', 'ADV', 'PUNCT__PunctType=Comm', 'SCONJ', 'VERB__Mood=Sub|Number=Sing|Person=3|Tense=Pres|VerbForm=Fin', 'DET__Definite=Def|Gender=Masc|Number=Sing|PronType=Art', 'NOUN__Gender=Masc|Number=Sing', 'CCONJ', 'PRON__Case=Acc,Dat|Person=3|PrepCase=Npr|PronType=Prs|Reflex=Yes', 'VERB__Mood=Ind|Number=Plur|Person=3|Tense=Pres|VerbForm=Fin', 'ADJ__Gender=Masc|Number=Plur', 'DET__Definite=Def|Gender=Masc|Number=Sing|PronType=Art', 'NOUN__Gender=Masc|Number=Sing', 'PUNCT__PunctType=Comm', 'DET__Definite=Def|Gender=Fem|Number=Sing|PronType=Art', 'NOUN__Gender=Fem|Number=Sing', 'CCONJ', 'DET__Definite=Def|Gender=Masc|Number=Sing|PronType=Art', 'NOUN__Gender=Masc|Number=Sing', 'ADP__AdpType=Preppron', 'NOUN__Gender=Masc|Number=Sing', 'ADP__AdpType=Preppron', 'NOUN__Gender=Masc|Number=Sing', 'PUNCT__PunctType=Peri'], ['ADP__AdpType=Prep', 'DET__Definite=Def|Gender=Masc|Number=Sing|PronType=Art', 'NOUN__Gender=Masc|Number=Sing', 'VERB__Mood=Ind|Number=Plur|Person=3|Tense=Pres|VerbForm=Fin', 'DET__Definite=Ind|Gender=Masc|Number=Sing|PronType=Art', 'NOUN__Gender=Masc|Number=Sing', 'PUNCT__PunctType=Peri'], ['SYM', 'PUNCT__PunctSide=Ini|PunctType=Qest', 'ADP__AdpType=Prep', 'PRON__PronType=Ind', 'VERB__Mood=Ind|Number=Sing|Person=3|Tense=Pres|VerbForm=Fin', 'DET__Definite=Def|Gender=Masc|Number=Sing|PronType=Art', 'NOUN__Gender=Masc|Number=Sing', 'ADP__AdpType=Preppron', 'NOUN__Gender=Masc|Number=Sing', 'PUNCT__PunctType=Peri'], ['SYM', 'PUNCT__PunctSide=Ini|PunctType=Excl', 'VERB__Mood=Sub|Number=Sing|Person=3|Tense=Pres|VerbForm=Fin', 'DET__Definite=Def|Gender=Masc|Number=Sing|PronType=Art', 'NOUN', 'NOUN__Gender=Masc|Number=Sing', 'AUX__Mood=Ind|Number=Sing|Person=3|Tense=Pres|VerbForm=Fin', 'VERB__Gender=Masc|Number=Sing|Tense=Past|VerbForm=Part', 'ADP__AdpType=Prep', 'DET__Definite=Def|Gender=Fem|Number=Sing|PronType=Art', 'NOUN__Gender=Fem|Number=Sing', 'ADP__AdpType=Preppron', 'ADJ__Number=Sing', 'NOUN__Gender=Masc|Number=Sing', 'CCONJ', 'AUX__Mood=Ind|Number=Plur|Person=1|Tense=Pres|VerbForm=Fin', 'ADP__AdpType=Prep', 'VERB__VerbForm=Inf', 'ADP__AdpType=Preppron', 'NOUN__Gender=Masc|Number=Sing', 'PUNCT__PunctType=Peri'], ['SYM', 'PRON__Case=Nom|Number=Sing|Person=1|PronType=Prs', 'VERB__Mood=Ind|Number=Sing|Person=1|Tense=Pres|VerbForm=Fin', 'ADV', 'PUNCT__PunctType=Comm', 'SCONJ', 'VERB__Mood=Sub|Number=Sing|Person=3|Tense=Pres|VerbForm=Fin', 'DET__Definite=Def|Gender=Masc|Number=Sing|PronType=Art', 'NOUN__Gender=Masc|Number=Sing', 'CCONJ', 'PRON__Case=Acc,Dat|Person=3|PrepCase=Npr|PronType=Prs|Reflex=Yes', 'VERB__Mood=Ind|Number=Plur|Person=3|Tense=Pres|VerbForm=Fin', 'ADJ__Gender=Masc|Number=Plur', 'DET__Definite=Def|Gender=Masc|Number=Sing|PronType=Art', 'NOUN__Gender=Masc|Number=Sing', 'PUNCT__PunctType=Comm', 'DET__Definite=Def|Gender=Fem|Number=Sing|PronType=Art', 'NOUN__Gender=Fem|Number=Sing', 'PUNCT__PunctType=Comm', 'DET__Definite=Def|Gender=Masc|Number=Sing|PronType=Art', 'NOUN__Gender=Masc|Number=Sing', 'CCONJ', 'DET__Definite=Def|Gender=Masc|Number=Sing|PronType=Art', 'NOUN__Gender=Masc|Number=Sing', 'ADP__AdpType=Preppron', 'NOUN__Gender=Masc|Number=Sing', 'ADP__AdpType=Preppron', 'NOUN__Gender=Masc|Number=Sing', 'PUNCT__PunctType=Peri'], ['ADP__AdpType=Prep', 'DET__Definite=Def|Gender=Masc|Number=Sing|PronType=Art', 'NOUN__Gender=Masc|Number=Sing', 'VERB__Mood=Ind|Number=Plur|Person=3|Tense=Pres|VerbForm=Fin', 'DET__Definite=Ind|Gender=Masc|Number=Sing|PronType=Art', 'NOUN__Gender=Masc|Number=Sing', 'PUNCT__PunctType=Peri'], ['SYM', 'PUNCT__PunctSide=Ini|PunctType=Qest', 'ADP__AdpType=Prep', 'PRON__PronType=Ind', 'VERB__Mood=Ind|Number=Sing|Person=3|Tense=Pres|VerbForm=Fin', 'DET__Definite=Def|Gender=Masc|Number=Sing|PronType=Art', 'NOUN__Gender=Masc|Number=Sing', 'ADP__AdpType=Preppron', 'NOUN__Gender=Masc|Number=Sing', 'PUNCT__PunctType=Peri'], ['SYM', 'PUNCT__PunctSide=Ini|PunctType=Excl', 'VERB__Mood=Sub|Number=Sing|Person=3|Tense=Pres|VerbForm=Fin', 'DET__Definite=Def|Gender=Masc|Number=Sing|PronType=Art', 'PROPN', 'NOUN__Gender=Masc|Number=Sing', 'AUX__Mood=Ind|Number=Sing|Person=3|Tense=Pres|VerbForm=Fin', 'VERB__Gender=Masc|Number=Sing|Tense=Past|VerbForm=Part', 'ADP__AdpType=Prep', 'DET__Definite=Def|Gender=Fem|Number=Sing|PronType=Art', 'NOUN__Gender=Fem|Number=Sing', 'ADP__AdpType=Preppron', 'ADJ__Number=Sing', 'NOUN__Gender=Masc|Number=Sing', 'CCONJ', 'AUX__Mood=Ind|Number=Plur|Person=1|Tense=Pres|VerbForm=Fin', 'ADP__AdpType=Prep', 'VERB__VerbForm=Inf', 'ADP__AdpType=Preppron', 'NOUN__Gender=Masc|Number=Sing', 'PUNCT__PunctType=Peri'], ['SYM', 'PRON__Case=Nom|Number=Sing|Person=1|PronType=Prs', 'VERB__Mood=Ind|Number=Sing|Person=1|Tense=Pres|VerbForm=Fin', 'ADV', 'PUNCT__PunctType=Comm', 'SCONJ', 'VERB__Mood=Sub|Number=Sing|Person=3|Tense=Pres|VerbForm=Fin', 'DET__Definite=Def|Gender=Masc|Number=Sing|PronType=Art', 'NOUN__Gender=Masc|Number=Sing', 'CCONJ', 'PRON__Case=Acc,Dat|Person=3|PrepCase=Npr|PronType=Prs|Reflex=Yes', 'VERB__Mood=Ind|Number=Plur|Person=3|Tense=Pres|VerbForm=Fin', 'ADJ__Gender=Masc|Number=Plur', 'DET__Definite=Def|Gender=Masc|Number=Sing|PronType=Art', 'NOUN__Gender=Masc|Number=Sing', 'PUNCT__PunctType=Comm', 'DET__Definite=Def|Gender=Fem|Number=Sing|PronType=Art', 'NOUN__Gender=Fem|Number=Sing', 'PUNCT__PunctType=Comm', 'DET__Definite=Def|Gender=Masc|Number=Sing|PronType=Art', 'NOUN__Gender=Masc|Number=Sing', 'PUNCT__PunctType=Comm', 'DET__Definite=Def|Gender=Masc|Number=Sing|PronType=Art', 'NOUN__Gender=Masc|Number=Sing', 'CCONJ', 'DET__Definite=Def|Gender=Masc|Number=Sing|PronType=Art', 'NOUN__Gender=Masc|Number=Sing', 'ADP__AdpType=Preppron', 'NOUN__Gender=Masc|Number=Sing', 'ADP__AdpType=Preppron', 'NOUN__Gender=Masc|Number=Sing', 'PUNCT__PunctType=Peri'], ['ADP__AdpType=Prep', 'DET__Definite=Def|Gender=Masc|Number=Sing|PronType=Art', 'NOUN__Gender=Masc|Number=Sing', 'VERB__Mood=Ind|Number=Plur|Person=3|Tense=Pres|VerbForm=Fin', 'DET__Definite=Ind|Gender=Masc|Number=Sing|PronType=Art', 'NOUN__Gender=Masc|Number=Sing', 'PUNCT__PunctType=Peri'], ['DET__Definite=Def|Gender=Masc|Number=Sing|PronType=Art', 'NOUN__Gender=Masc|Number=Sing', 'VERB__Mood=Ind|Number=Sing|Person=3|Tense=Pres|VerbForm=Fin', 'VERB__VerbForm=Inf', 'ADP__AdpType=Prep', 'PRON__Case=Acc,Nom|Gender=Masc|Number=Plur|Person=3|PronType=Prs', 'ADP__AdpType=Prep', 'VERB__VerbForm=Inf', 'ADP__AdpType=Preppron', 'NOUN__Gender=Masc|Number=Sing', 'SCONJ', 'DET__Definite=Def|Gender=Masc|Number=Sing|PronType=Art', 'NOUN__Gender=Masc|Number=Sing', 'AUX__Mood=Ind|Number=Sing|Person=3|Tense=Pres|VerbForm=Fin', 'VERB__Gender=Masc|Number=Sing|Tense=Past|VerbForm=Part', 'PUNCT__PunctType=Peri'], ['PRON__Gender=Masc|Number=Sing|PronType=Neg', 'ADP__AdpType=Prep', 'DET__Definite=Def|Gender=Masc|Number=Plur|PronType=Art', 'ADJ__Number=Plur', 'NOUN__Gender=Masc|Number=Plur', 'VERB__Mood=Ind|Number=Sing|Person=3|Tense=Pres|VerbForm=Fin', 'DET__Definite=Def|Gender=Masc|Number=Sing|PronType=Art', 'NOUN__Gender=Masc|Number=Sing', 'PUNCT__PunctType=Peri'], ['ADP__AdpType=Prep', 'DET__Gender=Masc|Number=Sing|PronType=Dem', 'NOUN__Gender=Masc|Number=Sing', 'VERB__Mood=Ind|Number=Plur|Person=3|Tense=Pres|VerbForm=Fin', 'DET__Definite=Ind|Gender=Fem|Number=Sing|PronType=Art', 'NOUN__Gender=Fem|Number=Sing', 'PUNCT__PunctType=Peri'], ['DET__Definite=Def|Gender=Fem|Number=Sing|PronType=Art', 'NOUN__Gender=Fem|Number=Sing', 'VERB__Mood=Ind|Number=Sing|Person=3|Tense=Pres|VerbForm=Fin', 'SCONJ', 'VERB__Mood=Ind|Number=Sing|Person=3|Tense=Pres|VerbForm=Fin', 'VERB_PRON__Case=Dat|Number=Plur|Person=3|PronType=Prs|VerbForm=Inf', 'DET__Definite=Def|Gender=Masc|Number=Sing|PronType=Art', 'NOUN__Gender=Masc|Number=Sing', 'ADP__AdpType=Preppron', 'NOUN__Gender=Masc|Number=Sing', 'ADP__AdpType=Preppron', 'NOUN__Gender=Masc|Number=Sing', 'PUNCT__PunctType=Peri'], ['PRON__Gender=Masc|Number=Plur|PronType=Tot', 'VERB__Mood=Ind|Number=Plur|Person=3|Tense=Pres|VerbForm=Fin', 'ADP__AdpType=Prep', 'PRON__Case=Acc,Nom|Gender=Fem|Number=Sing|Person=3|PronType=Prs', 'PUNCT__PunctType=Semi', 'CCONJ', 'PRON__Case=Acc,Nom|Gender=Fem|Number=Sing|Person=3|PronType=Prs', 'PRON__Case=Acc|Gender=Masc|Number=Plur|Person=3|PrepCase=Npr|PronType=Prs', 'VERB__Mood=Ind|Number=Sing|Person=3|Tense=Pres|VerbForm=Fin', 'ADP__AdpType=Prep', 'DET__Number=Sing|Person=3|Poss=Yes|PronType=Prs', 'NOUN__Gender=Masc|Number=Sing', 'PUNCT__PunctType=Peri'], ['ADV', 'DET__Definite=Def|Gender=Fem|Number=Sing|PronType=Art', 'NOUN__Gender=Fem|Number=Sing', 'CCONJ', 'DET__Number=Plur|Person=3|Poss=Yes|PronType=Prs', 'NOUN__Gender=Masc|Number=Plur', 'PRON__Case=Acc,Dat|Person=3|PrepCase=Npr|PronType=Prs|Reflex=Yes', 'VERB__Mood=Ind|Number=Plur|Person=3|Tense=Pres|VerbForm=Fin', 'DET__Definite=Def|Gender=Masc|Number=Sing|PronType=Art', 'ADJ__Number=Sing', 'NOUN__Gender=Masc|Number=Sing', 'CCONJ', 'DET__Definite=Def|Gender=Fem|Number=Sing|PronType=Art', 'NOUN__Gender=Fem|Number=Sing', 'CCONJ', 'DET__Definite=Def|Gender=Masc|Number=Sing|PronType=Art', 'NOUN__Gender=Masc|Number=Sing', 'CCONJ', 'DET__Definite=Def|Gender=Masc|Number=Sing|PronType=Art', 'NOUN__Gender=Masc|Number=Sing', 'CCONJ', 'DET__Definite=Def|Gender=Masc|Number=Sing|PronType=Art', 'NOUN__Gender=Masc|Number=Sing', 'CCONJ', 'DET__Definite=Def|Gender=Masc|Number=Sing|PronType=Art', 'NOUN__Gender=Masc|Number=Sing', 'PUNCT__PunctType=Peri'], ['DET__Definite=Def|Gender=Masc|Number=Plur|PronType=Art', 'NOUN__Number=Plur', 'ADV__Polarity=Neg', 'VERB__Mood=Ind|Number=Plur|Person=3|Tense=Pres|VerbForm=Fin', 'ADP__AdpType=Preppron', 'NOUN__Gender=Masc|Number=Sing', 'CCONJ', 'ADV__Polarity=Neg', 'AUX__Mood=Ind|Number=Plur|Person=3|Tense=Pres|VerbForm=Fin', 'VERB__VerbForm=Inf', 'ADP__AdpType=Preppron', 'NOUN__Gender=Masc|Number=Sing', 'SCONJ', 'DET__Definite=Def|Gender=Masc|Number=Sing|PronType=Art', 'NOUN__Gender=Masc|Number=Sing', 'AUX__Mood=Ind|Number=Sing|Person=3|Tense=Pres|VerbForm=Fin', 'VERB__Gender=Masc|Number=Sing|Tense=Past|VerbForm=Part', 'ADP__AdpType=Prep', 'DET__Definite=Def|Gender=Fem|Number=Sing|PronType=Art', 'NOUN__Gender=Fem|Number=Sing', 'ADP__AdpType=Preppron', 'ADJ__Number=Sing', 'NOUN__Gender=Masc|Number=Sing', 'PUNCT__PunctType=Peri']]\n",
      "\n",
      "\n",
      "\n",
      "[['det', 'obl', 'det', 'nsubj', 'ROOT', 'case', 'det', 'obl', 'punct'], ['det', 'nsubj', 'ROOT', 'case', 'det', 'obl', 'punct'], ['det', 'amod', 'nsubj', 'ROOT', 'mark', 'det', 'nsubj', 'aux', 'ccomp', 'case', 'obl', 'punct'], ['ROOT', 'mark', 'advcl', 'case', 'obj', 'punct'], ['case', 'det', 'obl', 'ROOT', 'det', 'nsubj', 'punct'], ['punct', 'punct', 'case', 'obl', 'ROOT', 'det', 'nsubj', 'punct'], ['punct', 'punct', 'punct', 'det', 'nsubj', 'compound', 'aux', 'ROOT', 'case', 'det', 'obl', 'cc', 'aux', 'mark', 'conj', 'case', 'obj', 'punct'], ['punct', 'nsubj', 'ROOT', 'advmod', 'punct', 'mark', 'advcl', 'det', 'obj', 'cc', 'obj', 'conj', 'advmod', 'det', 'nsubj', 'cc', 'det', 'conj', 'case', 'obl', 'case', 'nmod', 'punct'], ['case', 'det', 'obl', 'ROOT', 'det', 'nsubj', 'punct'], ['punct', 'punct', 'case', 'obl', 'ROOT', 'det', 'nsubj', 'case', 'det', 'obl', 'punct'], ['punct', 'punct', 'punct', 'det', 'nsubj', 'compound', 'aux', 'ROOT', 'case', 'det', 'obl', 'case', 'amod', 'nmod', 'cc', 'aux', 'mark', 'conj', 'case', 'obj', 'punct'], ['punct', 'nsubj', 'ROOT', 'advmod', 'punct', 'mark', 'advcl', 'det', 'obj', 'cc', 'obj', 'conj', 'advmod', 'det', 'nsubj', 'punct', 'det', 'appos', 'cc', 'det', 'conj', 'case', 'obl', 'case', 'nmod', 'punct'], ['case', 'det', 'obl', 'ROOT', 'det', 'obj', 'punct'], ['punct', 'punct', 'case', 'obl', 'ROOT', 'det', 'nsubj', 'case', 'nmod', 'punct'], ['punct', 'punct', 'punct', 'det', 'nsubj', 'compound', 'aux', 'ROOT', 'case', 'det', 'obl', 'case', 'amod', 'nmod', 'cc', 'aux', 'mark', 'conj', 'case', 'obj', 'punct'], ['punct', 'nsubj', 'ROOT', 'advmod', 'punct', 'mark', 'fixed', 'det', 'dep', 'cc', 'obj', 'advcl', 'advmod', 'det', 'nsubj', 'punct', 'det', 'appos', 'punct', 'det', 'appos', 'cc', 'det', 'conj', 'case', 'nmod', 'case', 'nmod', 'punct'], ['case', 'det', 'obl', 'ROOT', 'det', 'nsubj', 'punct'], ['punct', 'punct', 'case', 'obl', 'ROOT', 'det', 'nsubj', 'case', 'nmod', 'punct'], ['punct', 'punct', 'punct', 'det', 'nsubj', 'compound', 'aux', 'ROOT', 'case', 'det', 'obl', 'case', 'amod', 'nmod', 'cc', 'aux', 'mark', 'conj', 'case', 'obj', 'punct'], ['punct', 'nsubj', 'ROOT', 'advmod', 'punct', 'mark', 'fixed', 'det', 'obj', 'cc', 'obj', 'conj', 'advmod', 'det', 'nsubj', 'punct', 'det', 'conj', 'punct', 'det', 'appos', 'punct', 'det', 'appos', 'cc', 'det', 'conj', 'case', 'nmod', 'case', 'nmod', 'punct'], ['case', 'det', 'obl', 'ROOT', 'det', 'nsubj', 'punct'], ['det', 'nsubj', 'ROOT', 'xcomp', 'case', 'obl', 'mark', 'advcl', 'case', 'obj', 'mark', 'det', 'nsubj', 'aux', 'ccomp', 'punct'], ['nsubj', 'case', 'det', 'amod', 'nmod', 'ROOT', 'det', 'obj', 'punct'], ['case', 'det', 'obl', 'ROOT', 'det', 'nsubj', 'punct'], ['det', 'nsubj', 'ROOT', 'mark', 'ccomp', 'xcomp', 'det', 'obj', 'case', 'obj', 'case', 'nmod', 'punct'], ['nsubj', 'ROOT', 'case', 'obl', 'punct', 'cc', 'nsubj', 'obj', 'conj', 'case', 'det', 'obj', 'punct'], ['advmod', 'det', 'nsubj', 'cc', 'det', 'conj', 'obj', 'ROOT', 'det', 'amod', 'nsubj', 'cc', 'det', 'conj', 'cc', 'det', 'conj', 'cc', 'det', 'conj', 'cc', 'det', 'conj', 'cc', 'det', 'conj', 'punct'], ['det', 'nsubj', 'advmod', 'ROOT', 'case', 'obl', 'cc', 'advmod', 'aux', 'conj', 'case', 'obj', 'mark', 'det', 'nsubj', 'aux', 'ccomp', 'case', 'det', 'obl', 'case', 'amod', 'nmod', 'punct']]\n"
     ]
    }
   ],
   "source": [
    "ex = text_preprocessor(corpus[\"A1\"][4][\"content\"])\n",
    "print(ex)\n",
    "print(\"\\n\\n\")\n",
    "\n",
    "doc = nlp(ex)\n",
    "\n",
    "tokenized_ex = []\n",
    "lemmatized_ex = []\n",
    "morphologized_ex = []\n",
    "dep_parsed_ex = []\n",
    "for sent in doc.sents:\n",
    "    tokenized_sent = []\n",
    "    lemmatized_sent = []\n",
    "    morphologized_sent = []\n",
    "    dep_parsed_sent = []\n",
    "    for token in sent:\n",
    "        tokenized_sent.append(token.text)\n",
    "        lemmatized_sent.append(token.lemma_)\n",
    "        morphologized_sent.append(token.tag_)\n",
    "        dep_parsed_sent.append(token.dep_)\n",
    "    tokenized_ex.append(tokenized_sent)\n",
    "    lemmatized_ex.append(lemmatized_sent)\n",
    "    morphologized_ex.append(morphologized_sent)\n",
    "    dep_parsed_ex.append(dep_parsed_sent)\n",
    "\n",
    "print(\"\\n\\n\")\n",
    "\n",
    "print(tokenized_ex)\n",
    "print(\"\\n\\n\")\n",
    "print(lemmatized_ex)\n",
    "print(\"\\n\\n\")\n",
    "print(morphologized_ex)\n",
    "print(\"\\n\\n\")\n",
    "print(dep_parsed_ex)"
   ]
  }
 ],
 "metadata": {
  "kernelspec": {
   "display_name": "Python 3",
   "language": "python",
   "name": "python3"
  },
  "language_info": {
   "codemirror_mode": {
    "name": "ipython",
    "version": 3
   },
   "file_extension": ".py",
   "mimetype": "text/x-python",
   "name": "python",
   "nbconvert_exporter": "python",
   "pygments_lexer": "ipython3",
   "version": "3.8.3"
  }
 },
 "nbformat": 4,
 "nbformat_minor": 5
}
