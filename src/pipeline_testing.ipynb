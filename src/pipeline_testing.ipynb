{
 "cells": [
  {
   "cell_type": "markdown",
   "id": "forced-terrace",
   "metadata": {},
   "source": [
    "## Rule-based pipeline using SpaCy"
   ]
  },
  {
   "cell_type": "code",
   "execution_count": 1,
   "id": "deadly-swiss",
   "metadata": {
    "tags": []
   },
   "outputs": [],
   "source": [
    "# !python -m spacy download es_core_news_md"
   ]
  },
  {
   "cell_type": "code",
   "execution_count": 2,
   "id": "informative-native",
   "metadata": {},
   "outputs": [],
   "source": [
    "from utils import read_corpus, text_processor"
   ]
  },
  {
   "cell_type": "code",
   "execution_count": 3,
   "id": "demonstrated-scale",
   "metadata": {},
   "outputs": [],
   "source": [
    "corpus = read_corpus()"
   ]
  },
  {
   "cell_type": "code",
   "execution_count": 4,
   "id": "stunning-facility",
   "metadata": {},
   "outputs": [
    {
     "name": "stdout",
     "output_type": "stream",
     "text": [
      "A1: 94\n",
      "A2: 62\n",
      "B: 110\n",
      "B1: 42\n"
     ]
    }
   ],
   "source": [
    "for k, v in corpus.items():\n",
    "    print(f\"{k}: {len(v)}\")"
   ]
  },
  {
   "cell_type": "code",
   "execution_count": 5,
   "id": "deadly-justice",
   "metadata": {},
   "outputs": [
    {
     "name": "stdout",
     "output_type": "stream",
     "text": [
      "caPítulo —¡Eh, Lucas!, ¡mira, allí! —¿Dónde? —Allí. ¿Ves a ese chico? —¿Quién? —Aquél, el de los vaqueros y las gafas. Allá, delante del supermercado. Lucas mira con atención al chico. Después dice: —No, ese chico no es. Es demasiado alto y no tiene el pelo negro. —¡Ah! —Además, tiene que entrar o salir de esta casa de ventanas verdes —Lucas señala una portería. —El número veintitrés. —Sí, el veintitrés. Lucas y Rony están en la terraza de un bar de una placita en el barrio de La Latina de Madrid. Están bebiendo una cerveza y miran con atención a la gente que pasa. Lucas es alto, de nariz grande y ojos pequeños. Rony es bajo, un poco gordo y lleva una chaqueta vaquera azul. � placita: diminutivo de plaza, «pequeña plaza». barrio de La Latina: barrio monumental de Madrid (cerca de la Plaza del Sol) que comprende parte del Madrid antiguo. Es un barrio muy acogedor en el que se encuentran muchos bares para ir de tapas. —Voy a tomar otra cerveza —dice—. ¿Sabes, Lucas? Con este... —¡Mira, Rony! ¡Allí! —le interrumpe su compañero. Un chico de unos dieciséis años sale de la portería del número veintitrés, con un casco de moto en la mano y una mochila en la espalda. Lleva una chaqueta negra de cuero. —¡Es este! —dice Rony. —Sí, es este: pelo negro, ni alto ni bajo, unos años... —...con el pelo largo. —Y con su chaqueta negra de cuero... —... y con gafas. —Sí, es él. —¿Y qué hace ahora? —pregunta Lucas. —Va al quiosco. —No, va hacia aquella moto, el «scooter». —Sí, es verdad —reconoce Rony. —Mira, se ha parado al lado de la moto. En aquel momento el camarero se acerca a la mesa. —¿Van a tomar algo más? —pregunta. —No, nada más. ¿Cuánto es? —Lucas saca un billete de cinco euros de la cartera. Lucas y Rony se levantan y pagan. Van hasta una moto grande, de color negro, aparcada junto a un árbol. Es una Norton. Lucas se pone el casco y sube a la moto. Rony sube detrás. El chico está al otro lado de la plaza, delante de su moto. Está buscando algo en la mochila. Después cierra la mochila. Mira al otro lado de la calle, la cruza, y vuelve a entrar en la portería de la casa. —¿Y qué le pasa ahora? —pregunta Lucas impaciente. —¿Nos ha visto? —apunta Rony. —No creo —Lucas pone la moto en marcha «¡Bruummmm, bruummmm!»— Vamos detrás de aquel coche —dice. � un «scooter»: se parece a una motocicleta, pero de ruedas pequeñas y cuadro abierto; el conductor va sentado, sin tener que poner una pierna a cada lado de la moto como en una normal. La Scoopy es una marca comercial de «scooters». Norton: moto de carretera. Poco después el chico sale otra vez de la casa hablando por su teléfono móvil. —¿Laura? —dice el chico. —¡Hola, Sergio! —contesta ella al otro lado del teléfono— Es Sergio —comenta Laura a Mónica, a Martín y a Guillermo que están junto a ella. —¡Eh, Sergio! —grita la chica que está a su lado, cogiendo el teléfono. —¡Hola, Mónica! —Sergio ya ha llegado al lado de la moto. Laura vuelve a coger el móvil. —¿Qué hacéis? —le pregunta Sergio. —Estamos desayunando —responde ella. —¿Y la moto? —pregunta Martín, impaciente. —Un momento —responde Laura—. Ahora le pregunto. Sergio, Martín quiere saber qué tal la moto. —¿La Scoopy? ¡Genial! Es muy guapa. Un chico gordito y pelirrojo coge el teléfono. Es Guillermo. —Estamos en casa de Luisa, la hermana de Mónica —dice—. Hemos dormido en el tren y hemos llegado a Madrid a las ocho. Estamos desayunando. Luisa y su marido se han ido a trabajar... Cuando cuelga, Sergio sube a la moto, arranca y sale de la plaza. Las calles en el barrio de La Latina son estrechas y bonitas. Toma la primera calle a la izquierda y después sigue todo recto. La Norton de Lucas y Rony le sigue. Cuando llega a una calle ancha, Sergio gira a la izquierda y entra en la calle. En esta calle hay muchos coches. Después de hablar con Sergio, sus amigos terminan de desayunar. Están en la cocina de la casa de Luisa, la hermana de Mónica, una casa pequeña pero bonita del barrio de Arturo Soria. —Y ahora, ¿adónde vamos? —pregunta Martín. � guapa: bonita, suele ser una adjetivo que se refiere únicamente a personas. Cuando se utiliza para hablar de objetos o experiencias se trata de un uso oral, muy coloquial y frecuente entre jóvenes. —Vamos a ver el Guernica, ¿no? —contesta Mónica. —Sí ¡es verdad...! ¡el trabajo de clase! —exclama Guillermo. —Pero después vamos al Retiro, ¿vale? —Laura no quiere pensar en el instituto. Laura es una chica rubia, alta y delgada. Mónica es morena, ni alta ni baja. Le interesan muchas cosas. Le gusta leer y estudiar. —Sí. Pero tenemos que hacer el trabajo sobre «arte y guerra» —contesta Mónica—. ¿Recordáis? —Vale, de acuerdo —dice Martín. Martín tiene el pelo castaño y rizado. Es delgado pero atlético. Después se levanta y empieza a lavar los platos. —A mí me gustan los museos, son... —Mónica está un poco enfadada. —En el Retiro se puede ir en barca, ¿verdad? —interrumpe Guillermo. —Sí ¡qué divertido! —exclaman Laura y Martín al mismo tiempo. —Después de ver el Guernica vamos a ir al Retiro, ¿vale? —Sí, claro. —Es muy interesante este cuadro, ya veréis —insiste Mónica. —¿Dónde está el Guernica? —pregunta Martín. Guernica: cuadro pintado por Pablo Picasso en 1937, inspirado en el bombardeo de Guernica (un pueblo vasco que está en Vizcaya, a km de Bilbao) por la aviación alemana. Este hecho ocurre durante la Guerra Civil española (1936- 1939) que enfrenta el gobierno democrático de la República con el del general Franco, sublevado contra el poder legítimo. Los soviéticos de Stalin ayudan a la República, mientras que la Italia de Mussolini y la Alemania de Hitler ayudan a Franco. Este bombardeo tiene gran impacto internacional no solo por el sacrificio de inocentes, sino porque es la primera vez en la historia que se ataca una ciudad desde el aire. El Retiro: parque situado en la zona céntrica de Madrid. Tiene un lago con una estatua de Alfonso XII en uno de sus bordes. Cerca del estanque hay dos palacios del siglo xix: el de Velázquez y el de Cristal. —En el Centro de Arte Reina Sofía —contesta Mónica—. Además, está cerca del Retiro. —Podemos quedar con Sergio en el Retiro —propone Laura. —Bueno, ¿cómo se va al Reina Sofía? —En metro. —¿Quién tiene la guía del metro? —Yo —Martín va a buscar la guía en su mochila—. A ver... —¿Dónde estamos? —pregunta Guillermo. —Aquí —Martín señala un punto en el plano. —Y aquí está la parada del metro «Arturo Soria». —Podemos coger la línea marrón y cambiar a la línea . —¿La línea ? —Sí, la azul... —¡Ah! —...hasta Atocha. El Reina Sofía está cerca. —Vale, vamos, pues. Museo Nacional Centro de Arte Reina Sofía: museo de arte contemporáneo de Madrid que contiene el Guernica de Picasso. Estación Atocha: en Madrid hay dos grandes estaciones ferroviarias: la estación de Atocha y la de Chamartín, desde las que parten los trenes internacionales que unen la capital con París y Lisboa. También hay los servicios ferroviarios llamados de Grandes Líneas que conectan Madrid con todas las capitales españolas, además de las líneas de trenes de cercanías.\n"
     ]
    }
   ],
   "source": [
    "ex = corpus[\"A1\"][4][\"content\"]\n",
    "# print(ex)\n",
    "# print(\"\\n\\n\")\n",
    "processed_ex = text_processor(ex)\n",
    "print(processed_ex.text)\n",
    "# print(\"\\n\\n\")\n",
    "# print(processed_ex.tokens)\n",
    "# print(\"\\n\\n\")\n",
    "# print(processed_ex.lemmas)\n",
    "# print(\"\\n\\n\")\n",
    "# print(processed_ex.tags)\n",
    "# print(\"\\n\\n\")\n",
    "# print(processed_ex.parses)"
   ]
  },
  {
   "cell_type": "code",
   "execution_count": 6,
   "id": "fiscal-bridge",
   "metadata": {},
   "outputs": [],
   "source": [
    "def flatten(list_of_sents):\n",
    "    return [tok for sent in list_of_sents for tok in sent]"
   ]
  },
  {
   "cell_type": "code",
   "execution_count": 22,
   "id": "anticipated-ceramic",
   "metadata": {},
   "outputs": [],
   "source": [
    "from utils import frequency_list_50k, word_ranks, freq_lookup"
   ]
  },
  {
   "cell_type": "code",
   "execution_count": 23,
   "id": "living-attachment",
   "metadata": {},
   "outputs": [],
   "source": [
    "def set_word_ranks(text, freq_list):\n",
    "    \"\"\"\n",
    "    Given a tokenized text in the form of a list of lists of tokens, and a\n",
    "    frequency list to search through, return a list of lists of integers,\n",
    "    where the integers correspond to the ranks of the words in a frequency list.\n",
    "\n",
    "    text: (list[list[str]]) the tokenized text\n",
    "    freq_list: (list[str]) the ordered list of words to search through\n",
    "\n",
    "    return: (list[list[int]]) the ranks of each of the tokens in the text\n",
    "    \"\"\"\n",
    "    ranked_tokens = []\n",
    "    for token in set(flatten(text)):\n",
    "        ranked_tokens.append(freq_lookup(token, freq_list))\n",
    "    return ranked_tokens"
   ]
  },
  {
   "cell_type": "code",
   "execution_count": 26,
   "id": "present-terry",
   "metadata": {},
   "outputs": [
    {
     "name": "stdout",
     "output_type": "stream",
     "text": [
      "A1 - 0: 1823.22\n",
      "A1 - 1: 1591.03\n",
      "A1 - 2: 1163.57\n",
      "A1 - 3: 2468.33\n",
      "A1 - 92: 1188.82\n",
      "A2 - 4: 1822.81\n",
      "A2 - 0: 1821.08\n",
      "A2 - -1: 1067.50\n",
      "B1 - 4: 3062.71\n",
      "B1 - 40: 2840.82\n",
      "B1 - 0: 2704.01\n"
     ]
    }
   ],
   "source": [
    "temp = [\n",
    "    (\"A1\", 0),\n",
    "    (\"A1\", 1),\n",
    "    (\"A1\", 2),\n",
    "    (\"A1\", 3),\n",
    "    (\"A1\", 92),\n",
    "    (\"A2\", 4),\n",
    "    (\"A2\", 0),\n",
    "    (\"A2\", -1),\n",
    "    (\"B1\", 4),\n",
    "    (\"B1\", 40),\n",
    "    (\"B1\", 0),\n",
    "]\n",
    "freq_list = frequency_list_50k()\n",
    "for level, i in temp:\n",
    "    ex = corpus[level][i][\"content\"]\n",
    "#     print(ex)\n",
    "    p = text_processor(ex)\n",
    "#     print(p.tokens)\n",
    "    ranked_tokens = word_ranks(p.tokens, freq_list)\n",
    "#     print(ranked_tokens)\n",
    "    \n",
    "    # Compute normalized frequency sum for each text\n",
    "    flattened = flatten(ranked_tokens)\n",
    "    print(f\"{level} - {i}: {sum(flattened)/len(flattened):.2f}\")"
   ]
  }
 ],
 "metadata": {
  "kernelspec": {
   "display_name": "Python 3",
   "language": "python",
   "name": "python3"
  },
  "language_info": {
   "codemirror_mode": {
    "name": "ipython",
    "version": 3
   },
   "file_extension": ".py",
   "mimetype": "text/x-python",
   "name": "python",
   "nbconvert_exporter": "python",
   "pygments_lexer": "ipython3",
   "version": "3.8.3"
  }
 },
 "nbformat": 4,
 "nbformat_minor": 5
}
