{
 "cells": [
  {
   "cell_type": "markdown",
   "id": "cultural-tournament",
   "metadata": {},
   "source": [
    "## Spanish Dependency Parser "
   ]
  },
  {
   "cell_type": "markdown",
   "id": "bulgarian-instrument",
   "metadata": {},
   "source": [
    "Please see https://stanfordnlp.github.io/stanza/installation_usage.html#installation for installation of Stanford CoreNLP. \n",
    "\n",
    "``` \n",
    ">>> !pip install stanza\n",
    "\n",
    "```\n",
    "\n",
    "Then, do the following."
   ]
  },
  {
   "cell_type": "code",
   "execution_count": 2,
   "id": "classified-december",
   "metadata": {},
   "outputs": [
    {
     "name": "stderr",
     "output_type": "stream",
     "text": [
      "Downloading https://raw.githubusercontent.com/stanfordnlp/stanza-resources/master/resources_1.2.0.json: 128kB [00:00, 13.2MB/s]                    \n",
      "2021-06-03 21:26:51 INFO: Downloading default packages for language: es (Spanish)...\n",
      "2021-06-03 21:26:53 INFO: File exists: /Users/eun-youngchristinapark/stanza_resources/es/default.zip.\n",
      "2021-06-03 21:26:57 INFO: Finished downloading models and saved to /Users/eun-youngchristinapark/stanza_resources.\n",
      "2021-06-03 21:26:57 INFO: Loading these models for language: es (Spanish):\n",
      "=======================\n",
      "| Processor | Package |\n",
      "-----------------------\n",
      "| tokenize  | ancora  |\n",
      "| mwt       | ancora  |\n",
      "| pos       | ancora  |\n",
      "| lemma     | ancora  |\n",
      "| depparse  | ancora  |\n",
      "| ner       | conll02 |\n",
      "=======================\n",
      "\n",
      "2021-06-03 21:26:57 INFO: Use device: cpu\n",
      "2021-06-03 21:26:57 INFO: Loading: tokenize\n",
      "2021-06-03 21:26:57 INFO: Loading: mwt\n",
      "2021-06-03 21:26:57 INFO: Loading: pos\n",
      "2021-06-03 21:26:57 INFO: Loading: lemma\n",
      "2021-06-03 21:26:57 INFO: Loading: depparse\n",
      "2021-06-03 21:26:58 INFO: Loading: ner\n",
      "2021-06-03 21:26:59 INFO: Done loading processors!\n"
     ]
    }
   ],
   "source": [
    "import stanza\n",
    "\n",
    "stanza.download('es') # download Spanish model\n",
    "nlp = stanza.Pipeline('es') # initialize Spanish neural pipeline\n",
    "doc = nlp(\"Has vendido un nuevo producto que es muy popular dentro de tu escuela.\")"
   ]
  },
  {
   "cell_type": "markdown",
   "id": "french-disney",
   "metadata": {},
   "source": [
    "Next, install CoreNLP client and Spanish model."
   ]
  },
  {
   "cell_type": "code",
   "execution_count": 10,
   "id": "aware-jumping",
   "metadata": {},
   "outputs": [
    {
     "name": "stderr",
     "output_type": "stream",
     "text": [
      "2021-05-28 16:01:28 WARNING: Directory /Users/eun-youngchristinapark/Documents/stanza_corenlp already exists. Please install CoreNLP to a new directory.\n"
     ]
    }
   ],
   "source": [
    "stanza.install_corenlp(dir=\"/Users/eun-youngchristinapark/Documents/stanza_corenlp\")"
   ]
  },
  {
   "cell_type": "code",
   "execution_count": 11,
   "id": "cooperative-mentor",
   "metadata": {},
   "outputs": [
    {
     "name": "stderr",
     "output_type": "stream",
     "text": [
      "2021-05-28 16:01:31 INFO: Downloading spanish models (version 4.1.0) into directory /Users/eun-youngchristinapark/Documents/stanza_corenlp...\n",
      "Downloading http://nlp.stanford.edu/software/stanford-corenlp-4.1.0-models-spanish.jar: 100%|██████████| 275M/275M [00:48<00:00, 5.66MB/s] \n"
     ]
    }
   ],
   "source": [
    "stanza.download_corenlp_models(model='spanish', version='4.1.0', dir=\"/Users/eun-youngchristinapark/Documents/stanza_corenlp\")"
   ]
  },
  {
   "cell_type": "code",
   "execution_count": 9,
   "id": "handmade-edinburgh",
   "metadata": {},
   "outputs": [],
   "source": [
    "from stanza.server import CoreNLPClient"
   ]
  },
  {
   "cell_type": "markdown",
   "id": "corrected-investigation",
   "metadata": {},
   "source": [
    "### Spanish Dependency Parser\n",
    "\n",
    "We will start a client and take a look at the port to ensure that the client is running.\n",
    "\n",
    "We have to remember to start and stop the client; otherwise, the port will be occupied by the client and will cause a problem when we try to run the client next time. "
   ]
  },
  {
   "cell_type": "code",
   "execution_count": 19,
   "id": "elder-karen",
   "metadata": {},
   "outputs": [
    {
     "name": "stderr",
     "output_type": "stream",
     "text": [
      "2021-06-04 09:39:40 INFO: Using CoreNLP default properties for: spanish.  Make sure to have spanish models jar (available for download here: https://stanfordnlp.github.io/CoreNLP/) in CLASSPATH\n"
     ]
    }
   ],
   "source": [
    "client = CoreNLPClient(\n",
    "        properties = 'es',\n",
    "        classpath = '/Users/eun-youngchristinapark/Documents/stanza_corenlp/*',\n",
    "        annotators=['depparse'],\n",
    "        timeout=30000,\n",
    "        memory='5G')"
   ]
  },
  {
   "cell_type": "code",
   "execution_count": 22,
   "id": "funded-passport",
   "metadata": {},
   "outputs": [
    {
     "name": "stderr",
     "output_type": "stream",
     "text": [
      "2021-06-04 09:40:29 INFO: Starting server with command: java -Xmx5G -cp /Users/eun-youngchristinapark/Documents/stanza_corenlp/* edu.stanford.nlp.pipeline.StanfordCoreNLPServer -port 9000 -timeout 30000 -threads 5 -maxCharLength 100000 -quiet False -serverProperties spanish -annotators depparse -preload -outputFormat serialized\n"
     ]
    }
   ],
   "source": [
    "client.start()"
   ]
  },
  {
   "cell_type": "markdown",
   "id": "hollow-corrections",
   "metadata": {},
   "source": [
    "Now take a look at the port 9000 in a web browser. You should see something like this: \n",
    "\n",
    "![port9000](port9000.png)\n",
    "\n",
    "Now stop the client by typing ```client.stop()```\n",
    "If all this worked, we are ready to use CoreNLPClient for our analysis. \n",
    "\n",
    "Now let's take a look at the annotations."
   ]
  },
  {
   "cell_type": "code",
   "execution_count": 6,
   "id": "other-moral",
   "metadata": {},
   "outputs": [
    {
     "name": "stderr",
     "output_type": "stream",
     "text": [
      "2021-06-03 21:27:32 INFO: Using CoreNLP default properties for: spanish.  Make sure to have spanish models jar (available for download here: https://stanfordnlp.github.io/CoreNLP/) in CLASSPATH\n",
      "2021-06-03 21:27:32 INFO: Starting server with command: java -Xmx5G -cp /Users/eun-youngchristinapark/Documents/stanza_corenlp/* edu.stanford.nlp.pipeline.StanfordCoreNLPServer -port 9000 -timeout 30000 -threads 5 -maxCharLength 100000 -quiet False -serverProperties spanish -annotators depparse -preload -outputFormat serialized\n"
     ]
    }
   ],
   "source": [
    "text = 'la niña pequeña y encantadora'\n",
    "with CoreNLPClient(\n",
    "        properties = 'es',\n",
    "        classpath = '/Users/eun-youngchristinapark/Documents/stanza_corenlp/*',\n",
    "        annotators=['depparse'],\n",
    "        timeout=30000,\n",
    "        memory='5G') as client:\n",
    "    ann = client.annotate(text)"
   ]
  },
  {
   "cell_type": "markdown",
   "id": "pressing-short",
   "metadata": {},
   "source": [
    "Access the first sentence and its edges from dependency parsing. "
   ]
  },
  {
   "cell_type": "code",
   "execution_count": 7,
   "id": "adjacent-leave",
   "metadata": {},
   "outputs": [],
   "source": [
    "sentence = ann.sentence[0]"
   ]
  },
  {
   "cell_type": "code",
   "execution_count": 8,
   "id": "involved-seating",
   "metadata": {},
   "outputs": [
    {
     "data": {
      "text/plain": [
       "[source: 2\n",
       "target: 1\n",
       "dep: \"det\"\n",
       "isExtra: false\n",
       "sourceCopy: 0\n",
       "targetCopy: 0\n",
       "language: Spanish\n",
       ", source: 2\n",
       "target: 3\n",
       "dep: \"amod\"\n",
       "isExtra: false\n",
       "sourceCopy: 0\n",
       "targetCopy: 0\n",
       "language: Spanish\n",
       ", source: 3\n",
       "target: 5\n",
       "dep: \"conj\"\n",
       "isExtra: false\n",
       "sourceCopy: 0\n",
       "targetCopy: 0\n",
       "language: Spanish\n",
       ", source: 5\n",
       "target: 4\n",
       "dep: \"cc\"\n",
       "isExtra: false\n",
       "sourceCopy: 0\n",
       "targetCopy: 0\n",
       "language: Spanish\n",
       "]"
      ]
     },
     "execution_count": 8,
     "metadata": {},
     "output_type": "execute_result"
    }
   ],
   "source": [
    "sentence.basicDependencies.edge"
   ]
  }
 ],
 "metadata": {
  "kernelspec": {
   "display_name": "Python 3",
   "language": "python",
   "name": "python3"
  },
  "language_info": {
   "codemirror_mode": {
    "name": "ipython",
    "version": 3
   },
   "file_extension": ".py",
   "mimetype": "text/x-python",
   "name": "python",
   "nbconvert_exporter": "python",
   "pygments_lexer": "ipython3",
   "version": "3.8.3"
  }
 },
 "nbformat": 4,
 "nbformat_minor": 5
}
