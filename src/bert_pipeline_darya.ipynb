{
  "nbformat": 4,
  "nbformat_minor": 0,
  "metadata": {
    "colab": {
      "name": "bert_pipeline_darya.ipynb",
      "provenance": [],
      "collapsed_sections": [],
      "toc_visible": true,
      "machine_shape": "hm",
      "authorship_tag": "ABX9TyP/GavhzXtQPoiU6+LmPzCJ",
      "include_colab_link": true
    },
    "kernelspec": {
      "name": "python3",
      "display_name": "Python 3"
    },
    "language_info": {
      "name": "python"
    },
    "accelerator": "GPU",
    "widgets": {
      "application/vnd.jupyter.widget-state+json": {
        "87d8051edb9e47ccb83ba1bec7b5affa": {
          "model_module": "@jupyter-widgets/controls",
          "model_name": "HBoxModel",
          "state": {
            "_view_name": "HBoxView",
            "_dom_classes": [],
            "_model_name": "HBoxModel",
            "_view_module": "@jupyter-widgets/controls",
            "_model_module_version": "1.5.0",
            "_view_count": null,
            "_view_module_version": "1.5.0",
            "box_style": "",
            "layout": "IPY_MODEL_a66894749e31448f94905f4547817ffa",
            "_model_module": "@jupyter-widgets/controls",
            "children": [
              "IPY_MODEL_b2a7f9403193400bb0f53f2418c9974b",
              "IPY_MODEL_f3f033936ff24059bcae89af6f0a9773"
            ]
          }
        },
        "a66894749e31448f94905f4547817ffa": {
          "model_module": "@jupyter-widgets/base",
          "model_name": "LayoutModel",
          "state": {
            "_view_name": "LayoutView",
            "grid_template_rows": null,
            "right": null,
            "justify_content": null,
            "_view_module": "@jupyter-widgets/base",
            "overflow": null,
            "_model_module_version": "1.2.0",
            "_view_count": null,
            "flex_flow": null,
            "width": null,
            "min_width": null,
            "border": null,
            "align_items": null,
            "bottom": null,
            "_model_module": "@jupyter-widgets/base",
            "top": null,
            "grid_column": null,
            "overflow_y": null,
            "overflow_x": null,
            "grid_auto_flow": null,
            "grid_area": null,
            "grid_template_columns": null,
            "flex": null,
            "_model_name": "LayoutModel",
            "justify_items": null,
            "grid_row": null,
            "max_height": null,
            "align_content": null,
            "visibility": null,
            "align_self": null,
            "height": null,
            "min_height": null,
            "padding": null,
            "grid_auto_rows": null,
            "grid_gap": null,
            "max_width": null,
            "order": null,
            "_view_module_version": "1.2.0",
            "grid_template_areas": null,
            "object_position": null,
            "object_fit": null,
            "grid_auto_columns": null,
            "margin": null,
            "display": null,
            "left": null
          }
        },
        "b2a7f9403193400bb0f53f2418c9974b": {
          "model_module": "@jupyter-widgets/controls",
          "model_name": "FloatProgressModel",
          "state": {
            "_view_name": "ProgressView",
            "style": "IPY_MODEL_f1b1d5be29de47a9822809894aea6131",
            "_dom_classes": [],
            "description": "Downloading: 100%",
            "_model_name": "FloatProgressModel",
            "bar_style": "success",
            "max": 995526,
            "_view_module": "@jupyter-widgets/controls",
            "_model_module_version": "1.5.0",
            "value": 995526,
            "_view_count": null,
            "_view_module_version": "1.5.0",
            "orientation": "horizontal",
            "min": 0,
            "description_tooltip": null,
            "_model_module": "@jupyter-widgets/controls",
            "layout": "IPY_MODEL_19b9aa8d56de41a7b94711d55f0cafab"
          }
        },
        "f3f033936ff24059bcae89af6f0a9773": {
          "model_module": "@jupyter-widgets/controls",
          "model_name": "HTMLModel",
          "state": {
            "_view_name": "HTMLView",
            "style": "IPY_MODEL_54caf1f59b7e43d0a60d0a83f4c07c41",
            "_dom_classes": [],
            "description": "",
            "_model_name": "HTMLModel",
            "placeholder": "​",
            "_view_module": "@jupyter-widgets/controls",
            "_model_module_version": "1.5.0",
            "value": " 996k/996k [00:00&lt;00:00, 1.41MB/s]",
            "_view_count": null,
            "_view_module_version": "1.5.0",
            "description_tooltip": null,
            "_model_module": "@jupyter-widgets/controls",
            "layout": "IPY_MODEL_29b4c06633f44248ba4476a1566a393d"
          }
        },
        "f1b1d5be29de47a9822809894aea6131": {
          "model_module": "@jupyter-widgets/controls",
          "model_name": "ProgressStyleModel",
          "state": {
            "_view_name": "StyleView",
            "_model_name": "ProgressStyleModel",
            "description_width": "initial",
            "_view_module": "@jupyter-widgets/base",
            "_model_module_version": "1.5.0",
            "_view_count": null,
            "_view_module_version": "1.2.0",
            "bar_color": null,
            "_model_module": "@jupyter-widgets/controls"
          }
        },
        "19b9aa8d56de41a7b94711d55f0cafab": {
          "model_module": "@jupyter-widgets/base",
          "model_name": "LayoutModel",
          "state": {
            "_view_name": "LayoutView",
            "grid_template_rows": null,
            "right": null,
            "justify_content": null,
            "_view_module": "@jupyter-widgets/base",
            "overflow": null,
            "_model_module_version": "1.2.0",
            "_view_count": null,
            "flex_flow": null,
            "width": null,
            "min_width": null,
            "border": null,
            "align_items": null,
            "bottom": null,
            "_model_module": "@jupyter-widgets/base",
            "top": null,
            "grid_column": null,
            "overflow_y": null,
            "overflow_x": null,
            "grid_auto_flow": null,
            "grid_area": null,
            "grid_template_columns": null,
            "flex": null,
            "_model_name": "LayoutModel",
            "justify_items": null,
            "grid_row": null,
            "max_height": null,
            "align_content": null,
            "visibility": null,
            "align_self": null,
            "height": null,
            "min_height": null,
            "padding": null,
            "grid_auto_rows": null,
            "grid_gap": null,
            "max_width": null,
            "order": null,
            "_view_module_version": "1.2.0",
            "grid_template_areas": null,
            "object_position": null,
            "object_fit": null,
            "grid_auto_columns": null,
            "margin": null,
            "display": null,
            "left": null
          }
        },
        "54caf1f59b7e43d0a60d0a83f4c07c41": {
          "model_module": "@jupyter-widgets/controls",
          "model_name": "DescriptionStyleModel",
          "state": {
            "_view_name": "StyleView",
            "_model_name": "DescriptionStyleModel",
            "description_width": "",
            "_view_module": "@jupyter-widgets/base",
            "_model_module_version": "1.5.0",
            "_view_count": null,
            "_view_module_version": "1.2.0",
            "_model_module": "@jupyter-widgets/controls"
          }
        },
        "29b4c06633f44248ba4476a1566a393d": {
          "model_module": "@jupyter-widgets/base",
          "model_name": "LayoutModel",
          "state": {
            "_view_name": "LayoutView",
            "grid_template_rows": null,
            "right": null,
            "justify_content": null,
            "_view_module": "@jupyter-widgets/base",
            "overflow": null,
            "_model_module_version": "1.2.0",
            "_view_count": null,
            "flex_flow": null,
            "width": null,
            "min_width": null,
            "border": null,
            "align_items": null,
            "bottom": null,
            "_model_module": "@jupyter-widgets/base",
            "top": null,
            "grid_column": null,
            "overflow_y": null,
            "overflow_x": null,
            "grid_auto_flow": null,
            "grid_area": null,
            "grid_template_columns": null,
            "flex": null,
            "_model_name": "LayoutModel",
            "justify_items": null,
            "grid_row": null,
            "max_height": null,
            "align_content": null,
            "visibility": null,
            "align_self": null,
            "height": null,
            "min_height": null,
            "padding": null,
            "grid_auto_rows": null,
            "grid_gap": null,
            "max_width": null,
            "order": null,
            "_view_module_version": "1.2.0",
            "grid_template_areas": null,
            "object_position": null,
            "object_fit": null,
            "grid_auto_columns": null,
            "margin": null,
            "display": null,
            "left": null
          }
        },
        "c66a3b2984a54453abe7e564153d9fce": {
          "model_module": "@jupyter-widgets/controls",
          "model_name": "HBoxModel",
          "state": {
            "_view_name": "HBoxView",
            "_dom_classes": [],
            "_model_name": "HBoxModel",
            "_view_module": "@jupyter-widgets/controls",
            "_model_module_version": "1.5.0",
            "_view_count": null,
            "_view_module_version": "1.5.0",
            "box_style": "",
            "layout": "IPY_MODEL_24360cff19ed4c7891cc5096e174e8e6",
            "_model_module": "@jupyter-widgets/controls",
            "children": [
              "IPY_MODEL_015b773e74234a49a9c6da9fa8aea87f",
              "IPY_MODEL_12e37d1f9cb149728c5826e93c51d6b0"
            ]
          }
        },
        "24360cff19ed4c7891cc5096e174e8e6": {
          "model_module": "@jupyter-widgets/base",
          "model_name": "LayoutModel",
          "state": {
            "_view_name": "LayoutView",
            "grid_template_rows": null,
            "right": null,
            "justify_content": null,
            "_view_module": "@jupyter-widgets/base",
            "overflow": null,
            "_model_module_version": "1.2.0",
            "_view_count": null,
            "flex_flow": null,
            "width": null,
            "min_width": null,
            "border": null,
            "align_items": null,
            "bottom": null,
            "_model_module": "@jupyter-widgets/base",
            "top": null,
            "grid_column": null,
            "overflow_y": null,
            "overflow_x": null,
            "grid_auto_flow": null,
            "grid_area": null,
            "grid_template_columns": null,
            "flex": null,
            "_model_name": "LayoutModel",
            "justify_items": null,
            "grid_row": null,
            "max_height": null,
            "align_content": null,
            "visibility": null,
            "align_self": null,
            "height": null,
            "min_height": null,
            "padding": null,
            "grid_auto_rows": null,
            "grid_gap": null,
            "max_width": null,
            "order": null,
            "_view_module_version": "1.2.0",
            "grid_template_areas": null,
            "object_position": null,
            "object_fit": null,
            "grid_auto_columns": null,
            "margin": null,
            "display": null,
            "left": null
          }
        },
        "015b773e74234a49a9c6da9fa8aea87f": {
          "model_module": "@jupyter-widgets/controls",
          "model_name": "FloatProgressModel",
          "state": {
            "_view_name": "ProgressView",
            "style": "IPY_MODEL_15994a53a5fb483d9257d7b12ce78334",
            "_dom_classes": [],
            "description": "Downloading: 100%",
            "_model_name": "FloatProgressModel",
            "bar_style": "success",
            "max": 1961828,
            "_view_module": "@jupyter-widgets/controls",
            "_model_module_version": "1.5.0",
            "value": 1961828,
            "_view_count": null,
            "_view_module_version": "1.5.0",
            "orientation": "horizontal",
            "min": 0,
            "description_tooltip": null,
            "_model_module": "@jupyter-widgets/controls",
            "layout": "IPY_MODEL_7e82d7957aa2492aa2d149c574105f7e"
          }
        },
        "12e37d1f9cb149728c5826e93c51d6b0": {
          "model_module": "@jupyter-widgets/controls",
          "model_name": "HTMLModel",
          "state": {
            "_view_name": "HTMLView",
            "style": "IPY_MODEL_7ca97795773c43d59ae2c45b88c80401",
            "_dom_classes": [],
            "description": "",
            "_model_name": "HTMLModel",
            "placeholder": "​",
            "_view_module": "@jupyter-widgets/controls",
            "_model_module_version": "1.5.0",
            "value": " 1.96M/1.96M [00:00&lt;00:00, 4.74MB/s]",
            "_view_count": null,
            "_view_module_version": "1.5.0",
            "description_tooltip": null,
            "_model_module": "@jupyter-widgets/controls",
            "layout": "IPY_MODEL_e701ae66f27546e9b389cf07462eb598"
          }
        },
        "15994a53a5fb483d9257d7b12ce78334": {
          "model_module": "@jupyter-widgets/controls",
          "model_name": "ProgressStyleModel",
          "state": {
            "_view_name": "StyleView",
            "_model_name": "ProgressStyleModel",
            "description_width": "initial",
            "_view_module": "@jupyter-widgets/base",
            "_model_module_version": "1.5.0",
            "_view_count": null,
            "_view_module_version": "1.2.0",
            "bar_color": null,
            "_model_module": "@jupyter-widgets/controls"
          }
        },
        "7e82d7957aa2492aa2d149c574105f7e": {
          "model_module": "@jupyter-widgets/base",
          "model_name": "LayoutModel",
          "state": {
            "_view_name": "LayoutView",
            "grid_template_rows": null,
            "right": null,
            "justify_content": null,
            "_view_module": "@jupyter-widgets/base",
            "overflow": null,
            "_model_module_version": "1.2.0",
            "_view_count": null,
            "flex_flow": null,
            "width": null,
            "min_width": null,
            "border": null,
            "align_items": null,
            "bottom": null,
            "_model_module": "@jupyter-widgets/base",
            "top": null,
            "grid_column": null,
            "overflow_y": null,
            "overflow_x": null,
            "grid_auto_flow": null,
            "grid_area": null,
            "grid_template_columns": null,
            "flex": null,
            "_model_name": "LayoutModel",
            "justify_items": null,
            "grid_row": null,
            "max_height": null,
            "align_content": null,
            "visibility": null,
            "align_self": null,
            "height": null,
            "min_height": null,
            "padding": null,
            "grid_auto_rows": null,
            "grid_gap": null,
            "max_width": null,
            "order": null,
            "_view_module_version": "1.2.0",
            "grid_template_areas": null,
            "object_position": null,
            "object_fit": null,
            "grid_auto_columns": null,
            "margin": null,
            "display": null,
            "left": null
          }
        },
        "7ca97795773c43d59ae2c45b88c80401": {
          "model_module": "@jupyter-widgets/controls",
          "model_name": "DescriptionStyleModel",
          "state": {
            "_view_name": "StyleView",
            "_model_name": "DescriptionStyleModel",
            "description_width": "",
            "_view_module": "@jupyter-widgets/base",
            "_model_module_version": "1.5.0",
            "_view_count": null,
            "_view_module_version": "1.2.0",
            "_model_module": "@jupyter-widgets/controls"
          }
        },
        "e701ae66f27546e9b389cf07462eb598": {
          "model_module": "@jupyter-widgets/base",
          "model_name": "LayoutModel",
          "state": {
            "_view_name": "LayoutView",
            "grid_template_rows": null,
            "right": null,
            "justify_content": null,
            "_view_module": "@jupyter-widgets/base",
            "overflow": null,
            "_model_module_version": "1.2.0",
            "_view_count": null,
            "flex_flow": null,
            "width": null,
            "min_width": null,
            "border": null,
            "align_items": null,
            "bottom": null,
            "_model_module": "@jupyter-widgets/base",
            "top": null,
            "grid_column": null,
            "overflow_y": null,
            "overflow_x": null,
            "grid_auto_flow": null,
            "grid_area": null,
            "grid_template_columns": null,
            "flex": null,
            "_model_name": "LayoutModel",
            "justify_items": null,
            "grid_row": null,
            "max_height": null,
            "align_content": null,
            "visibility": null,
            "align_self": null,
            "height": null,
            "min_height": null,
            "padding": null,
            "grid_auto_rows": null,
            "grid_gap": null,
            "max_width": null,
            "order": null,
            "_view_module_version": "1.2.0",
            "grid_template_areas": null,
            "object_position": null,
            "object_fit": null,
            "grid_auto_columns": null,
            "margin": null,
            "display": null,
            "left": null
          }
        },
        "dc2c73801d55482e948e94366a841667": {
          "model_module": "@jupyter-widgets/controls",
          "model_name": "HBoxModel",
          "state": {
            "_view_name": "HBoxView",
            "_dom_classes": [],
            "_model_name": "HBoxModel",
            "_view_module": "@jupyter-widgets/controls",
            "_model_module_version": "1.5.0",
            "_view_count": null,
            "_view_module_version": "1.5.0",
            "box_style": "",
            "layout": "IPY_MODEL_c7393bcf724e456a85ac028b1744d641",
            "_model_module": "@jupyter-widgets/controls",
            "children": [
              "IPY_MODEL_bf75fd84bfe2497da1063c88c9d424e2",
              "IPY_MODEL_2bb82d44d8914f27b77008c86601e2a6"
            ]
          }
        },
        "c7393bcf724e456a85ac028b1744d641": {
          "model_module": "@jupyter-widgets/base",
          "model_name": "LayoutModel",
          "state": {
            "_view_name": "LayoutView",
            "grid_template_rows": null,
            "right": null,
            "justify_content": null,
            "_view_module": "@jupyter-widgets/base",
            "overflow": null,
            "_model_module_version": "1.2.0",
            "_view_count": null,
            "flex_flow": null,
            "width": null,
            "min_width": null,
            "border": null,
            "align_items": null,
            "bottom": null,
            "_model_module": "@jupyter-widgets/base",
            "top": null,
            "grid_column": null,
            "overflow_y": null,
            "overflow_x": null,
            "grid_auto_flow": null,
            "grid_area": null,
            "grid_template_columns": null,
            "flex": null,
            "_model_name": "LayoutModel",
            "justify_items": null,
            "grid_row": null,
            "max_height": null,
            "align_content": null,
            "visibility": null,
            "align_self": null,
            "height": null,
            "min_height": null,
            "padding": null,
            "grid_auto_rows": null,
            "grid_gap": null,
            "max_width": null,
            "order": null,
            "_view_module_version": "1.2.0",
            "grid_template_areas": null,
            "object_position": null,
            "object_fit": null,
            "grid_auto_columns": null,
            "margin": null,
            "display": null,
            "left": null
          }
        },
        "bf75fd84bfe2497da1063c88c9d424e2": {
          "model_module": "@jupyter-widgets/controls",
          "model_name": "FloatProgressModel",
          "state": {
            "_view_name": "ProgressView",
            "style": "IPY_MODEL_f6c12bfb384e4c659556fed6a2472854",
            "_dom_classes": [],
            "description": "Downloading: 100%",
            "_model_name": "FloatProgressModel",
            "bar_style": "success",
            "max": 29,
            "_view_module": "@jupyter-widgets/controls",
            "_model_module_version": "1.5.0",
            "value": 29,
            "_view_count": null,
            "_view_module_version": "1.5.0",
            "orientation": "horizontal",
            "min": 0,
            "description_tooltip": null,
            "_model_module": "@jupyter-widgets/controls",
            "layout": "IPY_MODEL_886d8454b3ed4c1e9f5fd9ab994be597"
          }
        },
        "2bb82d44d8914f27b77008c86601e2a6": {
          "model_module": "@jupyter-widgets/controls",
          "model_name": "HTMLModel",
          "state": {
            "_view_name": "HTMLView",
            "style": "IPY_MODEL_01aeb6bef01241f598dc76f58d01ebd3",
            "_dom_classes": [],
            "description": "",
            "_model_name": "HTMLModel",
            "placeholder": "​",
            "_view_module": "@jupyter-widgets/controls",
            "_model_module_version": "1.5.0",
            "value": " 29.0/29.0 [01:43&lt;00:00, 3.56s/B]",
            "_view_count": null,
            "_view_module_version": "1.5.0",
            "description_tooltip": null,
            "_model_module": "@jupyter-widgets/controls",
            "layout": "IPY_MODEL_b681beaa90f144a29fdc3b44e38c6f45"
          }
        },
        "f6c12bfb384e4c659556fed6a2472854": {
          "model_module": "@jupyter-widgets/controls",
          "model_name": "ProgressStyleModel",
          "state": {
            "_view_name": "StyleView",
            "_model_name": "ProgressStyleModel",
            "description_width": "initial",
            "_view_module": "@jupyter-widgets/base",
            "_model_module_version": "1.5.0",
            "_view_count": null,
            "_view_module_version": "1.2.0",
            "bar_color": null,
            "_model_module": "@jupyter-widgets/controls"
          }
        },
        "886d8454b3ed4c1e9f5fd9ab994be597": {
          "model_module": "@jupyter-widgets/base",
          "model_name": "LayoutModel",
          "state": {
            "_view_name": "LayoutView",
            "grid_template_rows": null,
            "right": null,
            "justify_content": null,
            "_view_module": "@jupyter-widgets/base",
            "overflow": null,
            "_model_module_version": "1.2.0",
            "_view_count": null,
            "flex_flow": null,
            "width": null,
            "min_width": null,
            "border": null,
            "align_items": null,
            "bottom": null,
            "_model_module": "@jupyter-widgets/base",
            "top": null,
            "grid_column": null,
            "overflow_y": null,
            "overflow_x": null,
            "grid_auto_flow": null,
            "grid_area": null,
            "grid_template_columns": null,
            "flex": null,
            "_model_name": "LayoutModel",
            "justify_items": null,
            "grid_row": null,
            "max_height": null,
            "align_content": null,
            "visibility": null,
            "align_self": null,
            "height": null,
            "min_height": null,
            "padding": null,
            "grid_auto_rows": null,
            "grid_gap": null,
            "max_width": null,
            "order": null,
            "_view_module_version": "1.2.0",
            "grid_template_areas": null,
            "object_position": null,
            "object_fit": null,
            "grid_auto_columns": null,
            "margin": null,
            "display": null,
            "left": null
          }
        },
        "01aeb6bef01241f598dc76f58d01ebd3": {
          "model_module": "@jupyter-widgets/controls",
          "model_name": "DescriptionStyleModel",
          "state": {
            "_view_name": "StyleView",
            "_model_name": "DescriptionStyleModel",
            "description_width": "",
            "_view_module": "@jupyter-widgets/base",
            "_model_module_version": "1.5.0",
            "_view_count": null,
            "_view_module_version": "1.2.0",
            "_model_module": "@jupyter-widgets/controls"
          }
        },
        "b681beaa90f144a29fdc3b44e38c6f45": {
          "model_module": "@jupyter-widgets/base",
          "model_name": "LayoutModel",
          "state": {
            "_view_name": "LayoutView",
            "grid_template_rows": null,
            "right": null,
            "justify_content": null,
            "_view_module": "@jupyter-widgets/base",
            "overflow": null,
            "_model_module_version": "1.2.0",
            "_view_count": null,
            "flex_flow": null,
            "width": null,
            "min_width": null,
            "border": null,
            "align_items": null,
            "bottom": null,
            "_model_module": "@jupyter-widgets/base",
            "top": null,
            "grid_column": null,
            "overflow_y": null,
            "overflow_x": null,
            "grid_auto_flow": null,
            "grid_area": null,
            "grid_template_columns": null,
            "flex": null,
            "_model_name": "LayoutModel",
            "justify_items": null,
            "grid_row": null,
            "max_height": null,
            "align_content": null,
            "visibility": null,
            "align_self": null,
            "height": null,
            "min_height": null,
            "padding": null,
            "grid_auto_rows": null,
            "grid_gap": null,
            "max_width": null,
            "order": null,
            "_view_module_version": "1.2.0",
            "grid_template_areas": null,
            "object_position": null,
            "object_fit": null,
            "grid_auto_columns": null,
            "margin": null,
            "display": null,
            "left": null
          }
        },
        "c08637ad8a3d43f4b66ee02a024739a0": {
          "model_module": "@jupyter-widgets/controls",
          "model_name": "HBoxModel",
          "state": {
            "_view_name": "HBoxView",
            "_dom_classes": [],
            "_model_name": "HBoxModel",
            "_view_module": "@jupyter-widgets/controls",
            "_model_module_version": "1.5.0",
            "_view_count": null,
            "_view_module_version": "1.5.0",
            "box_style": "",
            "layout": "IPY_MODEL_d83c12fd8d7140e5900b7352e63482cf",
            "_model_module": "@jupyter-widgets/controls",
            "children": [
              "IPY_MODEL_eda4e27b19b747a090892b108b053fa7",
              "IPY_MODEL_5691b2e189a44fb5bac461d953b7ea03"
            ]
          }
        },
        "d83c12fd8d7140e5900b7352e63482cf": {
          "model_module": "@jupyter-widgets/base",
          "model_name": "LayoutModel",
          "state": {
            "_view_name": "LayoutView",
            "grid_template_rows": null,
            "right": null,
            "justify_content": null,
            "_view_module": "@jupyter-widgets/base",
            "overflow": null,
            "_model_module_version": "1.2.0",
            "_view_count": null,
            "flex_flow": null,
            "width": null,
            "min_width": null,
            "border": null,
            "align_items": null,
            "bottom": null,
            "_model_module": "@jupyter-widgets/base",
            "top": null,
            "grid_column": null,
            "overflow_y": null,
            "overflow_x": null,
            "grid_auto_flow": null,
            "grid_area": null,
            "grid_template_columns": null,
            "flex": null,
            "_model_name": "LayoutModel",
            "justify_items": null,
            "grid_row": null,
            "max_height": null,
            "align_content": null,
            "visibility": null,
            "align_self": null,
            "height": null,
            "min_height": null,
            "padding": null,
            "grid_auto_rows": null,
            "grid_gap": null,
            "max_width": null,
            "order": null,
            "_view_module_version": "1.2.0",
            "grid_template_areas": null,
            "object_position": null,
            "object_fit": null,
            "grid_auto_columns": null,
            "margin": null,
            "display": null,
            "left": null
          }
        },
        "eda4e27b19b747a090892b108b053fa7": {
          "model_module": "@jupyter-widgets/controls",
          "model_name": "FloatProgressModel",
          "state": {
            "_view_name": "ProgressView",
            "style": "IPY_MODEL_54ece6b353ac45198bed7f3cdf591895",
            "_dom_classes": [],
            "description": "Downloading: 100%",
            "_model_name": "FloatProgressModel",
            "bar_style": "success",
            "max": 625,
            "_view_module": "@jupyter-widgets/controls",
            "_model_module_version": "1.5.0",
            "value": 625,
            "_view_count": null,
            "_view_module_version": "1.5.0",
            "orientation": "horizontal",
            "min": 0,
            "description_tooltip": null,
            "_model_module": "@jupyter-widgets/controls",
            "layout": "IPY_MODEL_5e1d99a349ae469284b866a484df4a34"
          }
        },
        "5691b2e189a44fb5bac461d953b7ea03": {
          "model_module": "@jupyter-widgets/controls",
          "model_name": "HTMLModel",
          "state": {
            "_view_name": "HTMLView",
            "style": "IPY_MODEL_bcf208fcea624eb2abb996a0f9490f09",
            "_dom_classes": [],
            "description": "",
            "_model_name": "HTMLModel",
            "placeholder": "​",
            "_view_module": "@jupyter-widgets/controls",
            "_model_module_version": "1.5.0",
            "value": " 625/625 [00:22&lt;00:00, 27.8B/s]",
            "_view_count": null,
            "_view_module_version": "1.5.0",
            "description_tooltip": null,
            "_model_module": "@jupyter-widgets/controls",
            "layout": "IPY_MODEL_ae3a4bbce2b442d8bf188cb34e753af2"
          }
        },
        "54ece6b353ac45198bed7f3cdf591895": {
          "model_module": "@jupyter-widgets/controls",
          "model_name": "ProgressStyleModel",
          "state": {
            "_view_name": "StyleView",
            "_model_name": "ProgressStyleModel",
            "description_width": "initial",
            "_view_module": "@jupyter-widgets/base",
            "_model_module_version": "1.5.0",
            "_view_count": null,
            "_view_module_version": "1.2.0",
            "bar_color": null,
            "_model_module": "@jupyter-widgets/controls"
          }
        },
        "5e1d99a349ae469284b866a484df4a34": {
          "model_module": "@jupyter-widgets/base",
          "model_name": "LayoutModel",
          "state": {
            "_view_name": "LayoutView",
            "grid_template_rows": null,
            "right": null,
            "justify_content": null,
            "_view_module": "@jupyter-widgets/base",
            "overflow": null,
            "_model_module_version": "1.2.0",
            "_view_count": null,
            "flex_flow": null,
            "width": null,
            "min_width": null,
            "border": null,
            "align_items": null,
            "bottom": null,
            "_model_module": "@jupyter-widgets/base",
            "top": null,
            "grid_column": null,
            "overflow_y": null,
            "overflow_x": null,
            "grid_auto_flow": null,
            "grid_area": null,
            "grid_template_columns": null,
            "flex": null,
            "_model_name": "LayoutModel",
            "justify_items": null,
            "grid_row": null,
            "max_height": null,
            "align_content": null,
            "visibility": null,
            "align_self": null,
            "height": null,
            "min_height": null,
            "padding": null,
            "grid_auto_rows": null,
            "grid_gap": null,
            "max_width": null,
            "order": null,
            "_view_module_version": "1.2.0",
            "grid_template_areas": null,
            "object_position": null,
            "object_fit": null,
            "grid_auto_columns": null,
            "margin": null,
            "display": null,
            "left": null
          }
        },
        "bcf208fcea624eb2abb996a0f9490f09": {
          "model_module": "@jupyter-widgets/controls",
          "model_name": "DescriptionStyleModel",
          "state": {
            "_view_name": "StyleView",
            "_model_name": "DescriptionStyleModel",
            "description_width": "",
            "_view_module": "@jupyter-widgets/base",
            "_model_module_version": "1.5.0",
            "_view_count": null,
            "_view_module_version": "1.2.0",
            "_model_module": "@jupyter-widgets/controls"
          }
        },
        "ae3a4bbce2b442d8bf188cb34e753af2": {
          "model_module": "@jupyter-widgets/base",
          "model_name": "LayoutModel",
          "state": {
            "_view_name": "LayoutView",
            "grid_template_rows": null,
            "right": null,
            "justify_content": null,
            "_view_module": "@jupyter-widgets/base",
            "overflow": null,
            "_model_module_version": "1.2.0",
            "_view_count": null,
            "flex_flow": null,
            "width": null,
            "min_width": null,
            "border": null,
            "align_items": null,
            "bottom": null,
            "_model_module": "@jupyter-widgets/base",
            "top": null,
            "grid_column": null,
            "overflow_y": null,
            "overflow_x": null,
            "grid_auto_flow": null,
            "grid_area": null,
            "grid_template_columns": null,
            "flex": null,
            "_model_name": "LayoutModel",
            "justify_items": null,
            "grid_row": null,
            "max_height": null,
            "align_content": null,
            "visibility": null,
            "align_self": null,
            "height": null,
            "min_height": null,
            "padding": null,
            "grid_auto_rows": null,
            "grid_gap": null,
            "max_width": null,
            "order": null,
            "_view_module_version": "1.2.0",
            "grid_template_areas": null,
            "object_position": null,
            "object_fit": null,
            "grid_auto_columns": null,
            "margin": null,
            "display": null,
            "left": null
          }
        },
        "bb18252ef52e4f25be9690fbf4493d8a": {
          "model_module": "@jupyter-widgets/controls",
          "model_name": "HBoxModel",
          "state": {
            "_view_name": "HBoxView",
            "_dom_classes": [],
            "_model_name": "HBoxModel",
            "_view_module": "@jupyter-widgets/controls",
            "_model_module_version": "1.5.0",
            "_view_count": null,
            "_view_module_version": "1.5.0",
            "box_style": "",
            "layout": "IPY_MODEL_45ec7fb09e094ad891206a1decc387d8",
            "_model_module": "@jupyter-widgets/controls",
            "children": [
              "IPY_MODEL_1187bfba83494bebb7aef756b7e2e649",
              "IPY_MODEL_6b9f574d30e44abca34212653a36dfbd"
            ]
          }
        },
        "45ec7fb09e094ad891206a1decc387d8": {
          "model_module": "@jupyter-widgets/base",
          "model_name": "LayoutModel",
          "state": {
            "_view_name": "LayoutView",
            "grid_template_rows": null,
            "right": null,
            "justify_content": null,
            "_view_module": "@jupyter-widgets/base",
            "overflow": null,
            "_model_module_version": "1.2.0",
            "_view_count": null,
            "flex_flow": null,
            "width": null,
            "min_width": null,
            "border": null,
            "align_items": null,
            "bottom": null,
            "_model_module": "@jupyter-widgets/base",
            "top": null,
            "grid_column": null,
            "overflow_y": null,
            "overflow_x": null,
            "grid_auto_flow": null,
            "grid_area": null,
            "grid_template_columns": null,
            "flex": null,
            "_model_name": "LayoutModel",
            "justify_items": null,
            "grid_row": null,
            "max_height": null,
            "align_content": null,
            "visibility": null,
            "align_self": null,
            "height": null,
            "min_height": null,
            "padding": null,
            "grid_auto_rows": null,
            "grid_gap": null,
            "max_width": null,
            "order": null,
            "_view_module_version": "1.2.0",
            "grid_template_areas": null,
            "object_position": null,
            "object_fit": null,
            "grid_auto_columns": null,
            "margin": null,
            "display": null,
            "left": null
          }
        },
        "1187bfba83494bebb7aef756b7e2e649": {
          "model_module": "@jupyter-widgets/controls",
          "model_name": "FloatProgressModel",
          "state": {
            "_view_name": "ProgressView",
            "style": "IPY_MODEL_ccd0de2646154a5d8f69bd29dd74c2d9",
            "_dom_classes": [],
            "description": "Downloading: 100%",
            "_model_name": "FloatProgressModel",
            "bar_style": "success",
            "max": 714314041,
            "_view_module": "@jupyter-widgets/controls",
            "_model_module_version": "1.5.0",
            "value": 714314041,
            "_view_count": null,
            "_view_module_version": "1.5.0",
            "orientation": "horizontal",
            "min": 0,
            "description_tooltip": null,
            "_model_module": "@jupyter-widgets/controls",
            "layout": "IPY_MODEL_d3673503cd3345ad903878902d115a2a"
          }
        },
        "6b9f574d30e44abca34212653a36dfbd": {
          "model_module": "@jupyter-widgets/controls",
          "model_name": "HTMLModel",
          "state": {
            "_view_name": "HTMLView",
            "style": "IPY_MODEL_abc0b2675f5746cb81e3c41e2b4bbad5",
            "_dom_classes": [],
            "description": "",
            "_model_name": "HTMLModel",
            "placeholder": "​",
            "_view_module": "@jupyter-widgets/controls",
            "_model_module_version": "1.5.0",
            "value": " 714M/714M [00:21&lt;00:00, 32.9MB/s]",
            "_view_count": null,
            "_view_module_version": "1.5.0",
            "description_tooltip": null,
            "_model_module": "@jupyter-widgets/controls",
            "layout": "IPY_MODEL_4b4555aeaa1e4e17b64b9601051b5251"
          }
        },
        "ccd0de2646154a5d8f69bd29dd74c2d9": {
          "model_module": "@jupyter-widgets/controls",
          "model_name": "ProgressStyleModel",
          "state": {
            "_view_name": "StyleView",
            "_model_name": "ProgressStyleModel",
            "description_width": "initial",
            "_view_module": "@jupyter-widgets/base",
            "_model_module_version": "1.5.0",
            "_view_count": null,
            "_view_module_version": "1.2.0",
            "bar_color": null,
            "_model_module": "@jupyter-widgets/controls"
          }
        },
        "d3673503cd3345ad903878902d115a2a": {
          "model_module": "@jupyter-widgets/base",
          "model_name": "LayoutModel",
          "state": {
            "_view_name": "LayoutView",
            "grid_template_rows": null,
            "right": null,
            "justify_content": null,
            "_view_module": "@jupyter-widgets/base",
            "overflow": null,
            "_model_module_version": "1.2.0",
            "_view_count": null,
            "flex_flow": null,
            "width": null,
            "min_width": null,
            "border": null,
            "align_items": null,
            "bottom": null,
            "_model_module": "@jupyter-widgets/base",
            "top": null,
            "grid_column": null,
            "overflow_y": null,
            "overflow_x": null,
            "grid_auto_flow": null,
            "grid_area": null,
            "grid_template_columns": null,
            "flex": null,
            "_model_name": "LayoutModel",
            "justify_items": null,
            "grid_row": null,
            "max_height": null,
            "align_content": null,
            "visibility": null,
            "align_self": null,
            "height": null,
            "min_height": null,
            "padding": null,
            "grid_auto_rows": null,
            "grid_gap": null,
            "max_width": null,
            "order": null,
            "_view_module_version": "1.2.0",
            "grid_template_areas": null,
            "object_position": null,
            "object_fit": null,
            "grid_auto_columns": null,
            "margin": null,
            "display": null,
            "left": null
          }
        },
        "abc0b2675f5746cb81e3c41e2b4bbad5": {
          "model_module": "@jupyter-widgets/controls",
          "model_name": "DescriptionStyleModel",
          "state": {
            "_view_name": "StyleView",
            "_model_name": "DescriptionStyleModel",
            "description_width": "",
            "_view_module": "@jupyter-widgets/base",
            "_model_module_version": "1.5.0",
            "_view_count": null,
            "_view_module_version": "1.2.0",
            "_model_module": "@jupyter-widgets/controls"
          }
        },
        "4b4555aeaa1e4e17b64b9601051b5251": {
          "model_module": "@jupyter-widgets/base",
          "model_name": "LayoutModel",
          "state": {
            "_view_name": "LayoutView",
            "grid_template_rows": null,
            "right": null,
            "justify_content": null,
            "_view_module": "@jupyter-widgets/base",
            "overflow": null,
            "_model_module_version": "1.2.0",
            "_view_count": null,
            "flex_flow": null,
            "width": null,
            "min_width": null,
            "border": null,
            "align_items": null,
            "bottom": null,
            "_model_module": "@jupyter-widgets/base",
            "top": null,
            "grid_column": null,
            "overflow_y": null,
            "overflow_x": null,
            "grid_auto_flow": null,
            "grid_area": null,
            "grid_template_columns": null,
            "flex": null,
            "_model_name": "LayoutModel",
            "justify_items": null,
            "grid_row": null,
            "max_height": null,
            "align_content": null,
            "visibility": null,
            "align_self": null,
            "height": null,
            "min_height": null,
            "padding": null,
            "grid_auto_rows": null,
            "grid_gap": null,
            "max_width": null,
            "order": null,
            "_view_module_version": "1.2.0",
            "grid_template_areas": null,
            "object_position": null,
            "object_fit": null,
            "grid_auto_columns": null,
            "margin": null,
            "display": null,
            "left": null
          }
        },
        "0454d7bc38fd4291bb5e1e8fdfbb22bf": {
          "model_module": "@jupyter-widgets/controls",
          "model_name": "HBoxModel",
          "state": {
            "_view_name": "HBoxView",
            "_dom_classes": [],
            "_model_name": "HBoxModel",
            "_view_module": "@jupyter-widgets/controls",
            "_model_module_version": "1.5.0",
            "_view_count": null,
            "_view_module_version": "1.5.0",
            "box_style": "",
            "layout": "IPY_MODEL_671f0d17f6744ae7853bd8eacb2b6630",
            "_model_module": "@jupyter-widgets/controls",
            "children": [
              "IPY_MODEL_6e2f0ec359b348539681dc6dd77e1c07",
              "IPY_MODEL_a580254fd18e48319c3ecec1b4a1dd85"
            ]
          }
        },
        "671f0d17f6744ae7853bd8eacb2b6630": {
          "model_module": "@jupyter-widgets/base",
          "model_name": "LayoutModel",
          "state": {
            "_view_name": "LayoutView",
            "grid_template_rows": null,
            "right": null,
            "justify_content": null,
            "_view_module": "@jupyter-widgets/base",
            "overflow": null,
            "_model_module_version": "1.2.0",
            "_view_count": null,
            "flex_flow": null,
            "width": null,
            "min_width": null,
            "border": null,
            "align_items": null,
            "bottom": null,
            "_model_module": "@jupyter-widgets/base",
            "top": null,
            "grid_column": null,
            "overflow_y": null,
            "overflow_x": null,
            "grid_auto_flow": null,
            "grid_area": null,
            "grid_template_columns": null,
            "flex": null,
            "_model_name": "LayoutModel",
            "justify_items": null,
            "grid_row": null,
            "max_height": null,
            "align_content": null,
            "visibility": null,
            "align_self": null,
            "height": null,
            "min_height": null,
            "padding": null,
            "grid_auto_rows": null,
            "grid_gap": null,
            "max_width": null,
            "order": null,
            "_view_module_version": "1.2.0",
            "grid_template_areas": null,
            "object_position": null,
            "object_fit": null,
            "grid_auto_columns": null,
            "margin": null,
            "display": null,
            "left": null
          }
        },
        "6e2f0ec359b348539681dc6dd77e1c07": {
          "model_module": "@jupyter-widgets/controls",
          "model_name": "FloatProgressModel",
          "state": {
            "_view_name": "ProgressView",
            "style": "IPY_MODEL_7fd93d41bde3430ea853e44faa2790ae",
            "_dom_classes": [],
            "description": "Downloading: 100%",
            "_model_name": "FloatProgressModel",
            "bar_style": "success",
            "max": 466,
            "_view_module": "@jupyter-widgets/controls",
            "_model_module_version": "1.5.0",
            "value": 466,
            "_view_count": null,
            "_view_module_version": "1.5.0",
            "orientation": "horizontal",
            "min": 0,
            "description_tooltip": null,
            "_model_module": "@jupyter-widgets/controls",
            "layout": "IPY_MODEL_da3dbb39f76742f28bc53b37a7e14305"
          }
        },
        "a580254fd18e48319c3ecec1b4a1dd85": {
          "model_module": "@jupyter-widgets/controls",
          "model_name": "HTMLModel",
          "state": {
            "_view_name": "HTMLView",
            "style": "IPY_MODEL_230247b6e6d44b1f9650db4a6b16e5f5",
            "_dom_classes": [],
            "description": "",
            "_model_name": "HTMLModel",
            "placeholder": "​",
            "_view_module": "@jupyter-widgets/controls",
            "_model_module_version": "1.5.0",
            "value": " 466/466 [00:17&lt;00:00, 26.5B/s]",
            "_view_count": null,
            "_view_module_version": "1.5.0",
            "description_tooltip": null,
            "_model_module": "@jupyter-widgets/controls",
            "layout": "IPY_MODEL_b571a7426bab461c9f4dd698e6f1dc07"
          }
        },
        "7fd93d41bde3430ea853e44faa2790ae": {
          "model_module": "@jupyter-widgets/controls",
          "model_name": "ProgressStyleModel",
          "state": {
            "_view_name": "StyleView",
            "_model_name": "ProgressStyleModel",
            "description_width": "initial",
            "_view_module": "@jupyter-widgets/base",
            "_model_module_version": "1.5.0",
            "_view_count": null,
            "_view_module_version": "1.2.0",
            "bar_color": null,
            "_model_module": "@jupyter-widgets/controls"
          }
        },
        "da3dbb39f76742f28bc53b37a7e14305": {
          "model_module": "@jupyter-widgets/base",
          "model_name": "LayoutModel",
          "state": {
            "_view_name": "LayoutView",
            "grid_template_rows": null,
            "right": null,
            "justify_content": null,
            "_view_module": "@jupyter-widgets/base",
            "overflow": null,
            "_model_module_version": "1.2.0",
            "_view_count": null,
            "flex_flow": null,
            "width": null,
            "min_width": null,
            "border": null,
            "align_items": null,
            "bottom": null,
            "_model_module": "@jupyter-widgets/base",
            "top": null,
            "grid_column": null,
            "overflow_y": null,
            "overflow_x": null,
            "grid_auto_flow": null,
            "grid_area": null,
            "grid_template_columns": null,
            "flex": null,
            "_model_name": "LayoutModel",
            "justify_items": null,
            "grid_row": null,
            "max_height": null,
            "align_content": null,
            "visibility": null,
            "align_self": null,
            "height": null,
            "min_height": null,
            "padding": null,
            "grid_auto_rows": null,
            "grid_gap": null,
            "max_width": null,
            "order": null,
            "_view_module_version": "1.2.0",
            "grid_template_areas": null,
            "object_position": null,
            "object_fit": null,
            "grid_auto_columns": null,
            "margin": null,
            "display": null,
            "left": null
          }
        },
        "230247b6e6d44b1f9650db4a6b16e5f5": {
          "model_module": "@jupyter-widgets/controls",
          "model_name": "DescriptionStyleModel",
          "state": {
            "_view_name": "StyleView",
            "_model_name": "DescriptionStyleModel",
            "description_width": "",
            "_view_module": "@jupyter-widgets/base",
            "_model_module_version": "1.5.0",
            "_view_count": null,
            "_view_module_version": "1.2.0",
            "_model_module": "@jupyter-widgets/controls"
          }
        },
        "b571a7426bab461c9f4dd698e6f1dc07": {
          "model_module": "@jupyter-widgets/base",
          "model_name": "LayoutModel",
          "state": {
            "_view_name": "LayoutView",
            "grid_template_rows": null,
            "right": null,
            "justify_content": null,
            "_view_module": "@jupyter-widgets/base",
            "overflow": null,
            "_model_module_version": "1.2.0",
            "_view_count": null,
            "flex_flow": null,
            "width": null,
            "min_width": null,
            "border": null,
            "align_items": null,
            "bottom": null,
            "_model_module": "@jupyter-widgets/base",
            "top": null,
            "grid_column": null,
            "overflow_y": null,
            "overflow_x": null,
            "grid_auto_flow": null,
            "grid_area": null,
            "grid_template_columns": null,
            "flex": null,
            "_model_name": "LayoutModel",
            "justify_items": null,
            "grid_row": null,
            "max_height": null,
            "align_content": null,
            "visibility": null,
            "align_self": null,
            "height": null,
            "min_height": null,
            "padding": null,
            "grid_auto_rows": null,
            "grid_gap": null,
            "max_width": null,
            "order": null,
            "_view_module_version": "1.2.0",
            "grid_template_areas": null,
            "object_position": null,
            "object_fit": null,
            "grid_auto_columns": null,
            "margin": null,
            "display": null,
            "left": null
          }
        },
        "2c69e50822eb42e2bbee935ba96e9bf3": {
          "model_module": "@jupyter-widgets/controls",
          "model_name": "HBoxModel",
          "state": {
            "_view_name": "HBoxView",
            "_dom_classes": [],
            "_model_name": "HBoxModel",
            "_view_module": "@jupyter-widgets/controls",
            "_model_module_version": "1.5.0",
            "_view_count": null,
            "_view_module_version": "1.5.0",
            "box_style": "",
            "layout": "IPY_MODEL_e7e2e67d4be6481c9c513fee62d8272a",
            "_model_module": "@jupyter-widgets/controls",
            "children": [
              "IPY_MODEL_7b4f352b44374da8bbf6d54448fb25b4",
              "IPY_MODEL_0771234cb8514bdebf0da255f4ef6bb7"
            ]
          }
        },
        "e7e2e67d4be6481c9c513fee62d8272a": {
          "model_module": "@jupyter-widgets/base",
          "model_name": "LayoutModel",
          "state": {
            "_view_name": "LayoutView",
            "grid_template_rows": null,
            "right": null,
            "justify_content": null,
            "_view_module": "@jupyter-widgets/base",
            "overflow": null,
            "_model_module_version": "1.2.0",
            "_view_count": null,
            "flex_flow": null,
            "width": null,
            "min_width": null,
            "border": null,
            "align_items": null,
            "bottom": null,
            "_model_module": "@jupyter-widgets/base",
            "top": null,
            "grid_column": null,
            "overflow_y": null,
            "overflow_x": null,
            "grid_auto_flow": null,
            "grid_area": null,
            "grid_template_columns": null,
            "flex": null,
            "_model_name": "LayoutModel",
            "justify_items": null,
            "grid_row": null,
            "max_height": null,
            "align_content": null,
            "visibility": null,
            "align_self": null,
            "height": null,
            "min_height": null,
            "padding": null,
            "grid_auto_rows": null,
            "grid_gap": null,
            "max_width": null,
            "order": null,
            "_view_module_version": "1.2.0",
            "grid_template_areas": null,
            "object_position": null,
            "object_fit": null,
            "grid_auto_columns": null,
            "margin": null,
            "display": null,
            "left": null
          }
        },
        "7b4f352b44374da8bbf6d54448fb25b4": {
          "model_module": "@jupyter-widgets/controls",
          "model_name": "FloatProgressModel",
          "state": {
            "_view_name": "ProgressView",
            "style": "IPY_MODEL_2fb7862e32a345279471fad20c1a6b29",
            "_dom_classes": [],
            "description": "Downloading: 100%",
            "_model_name": "FloatProgressModel",
            "bar_style": "success",
            "max": 541808922,
            "_view_module": "@jupyter-widgets/controls",
            "_model_module_version": "1.5.0",
            "value": 541808922,
            "_view_count": null,
            "_view_module_version": "1.5.0",
            "orientation": "horizontal",
            "min": 0,
            "description_tooltip": null,
            "_model_module": "@jupyter-widgets/controls",
            "layout": "IPY_MODEL_ea6df9ada77d4e5ab08fbe0cdc9ff676"
          }
        },
        "0771234cb8514bdebf0da255f4ef6bb7": {
          "model_module": "@jupyter-widgets/controls",
          "model_name": "HTMLModel",
          "state": {
            "_view_name": "HTMLView",
            "style": "IPY_MODEL_4909d2ddb76f4d4780227a6c154cb29e",
            "_dom_classes": [],
            "description": "",
            "_model_name": "HTMLModel",
            "placeholder": "​",
            "_view_module": "@jupyter-widgets/controls",
            "_model_module_version": "1.5.0",
            "value": " 542M/542M [00:16&lt;00:00, 32.4MB/s]",
            "_view_count": null,
            "_view_module_version": "1.5.0",
            "description_tooltip": null,
            "_model_module": "@jupyter-widgets/controls",
            "layout": "IPY_MODEL_acb61934689b4ff5acb7db1dcbac4d58"
          }
        },
        "2fb7862e32a345279471fad20c1a6b29": {
          "model_module": "@jupyter-widgets/controls",
          "model_name": "ProgressStyleModel",
          "state": {
            "_view_name": "StyleView",
            "_model_name": "ProgressStyleModel",
            "description_width": "initial",
            "_view_module": "@jupyter-widgets/base",
            "_model_module_version": "1.5.0",
            "_view_count": null,
            "_view_module_version": "1.2.0",
            "bar_color": null,
            "_model_module": "@jupyter-widgets/controls"
          }
        },
        "ea6df9ada77d4e5ab08fbe0cdc9ff676": {
          "model_module": "@jupyter-widgets/base",
          "model_name": "LayoutModel",
          "state": {
            "_view_name": "LayoutView",
            "grid_template_rows": null,
            "right": null,
            "justify_content": null,
            "_view_module": "@jupyter-widgets/base",
            "overflow": null,
            "_model_module_version": "1.2.0",
            "_view_count": null,
            "flex_flow": null,
            "width": null,
            "min_width": null,
            "border": null,
            "align_items": null,
            "bottom": null,
            "_model_module": "@jupyter-widgets/base",
            "top": null,
            "grid_column": null,
            "overflow_y": null,
            "overflow_x": null,
            "grid_auto_flow": null,
            "grid_area": null,
            "grid_template_columns": null,
            "flex": null,
            "_model_name": "LayoutModel",
            "justify_items": null,
            "grid_row": null,
            "max_height": null,
            "align_content": null,
            "visibility": null,
            "align_self": null,
            "height": null,
            "min_height": null,
            "padding": null,
            "grid_auto_rows": null,
            "grid_gap": null,
            "max_width": null,
            "order": null,
            "_view_module_version": "1.2.0",
            "grid_template_areas": null,
            "object_position": null,
            "object_fit": null,
            "grid_auto_columns": null,
            "margin": null,
            "display": null,
            "left": null
          }
        },
        "4909d2ddb76f4d4780227a6c154cb29e": {
          "model_module": "@jupyter-widgets/controls",
          "model_name": "DescriptionStyleModel",
          "state": {
            "_view_name": "StyleView",
            "_model_name": "DescriptionStyleModel",
            "description_width": "",
            "_view_module": "@jupyter-widgets/base",
            "_model_module_version": "1.5.0",
            "_view_count": null,
            "_view_module_version": "1.2.0",
            "_model_module": "@jupyter-widgets/controls"
          }
        },
        "acb61934689b4ff5acb7db1dcbac4d58": {
          "model_module": "@jupyter-widgets/base",
          "model_name": "LayoutModel",
          "state": {
            "_view_name": "LayoutView",
            "grid_template_rows": null,
            "right": null,
            "justify_content": null,
            "_view_module": "@jupyter-widgets/base",
            "overflow": null,
            "_model_module_version": "1.2.0",
            "_view_count": null,
            "flex_flow": null,
            "width": null,
            "min_width": null,
            "border": null,
            "align_items": null,
            "bottom": null,
            "_model_module": "@jupyter-widgets/base",
            "top": null,
            "grid_column": null,
            "overflow_y": null,
            "overflow_x": null,
            "grid_auto_flow": null,
            "grid_area": null,
            "grid_template_columns": null,
            "flex": null,
            "_model_name": "LayoutModel",
            "justify_items": null,
            "grid_row": null,
            "max_height": null,
            "align_content": null,
            "visibility": null,
            "align_self": null,
            "height": null,
            "min_height": null,
            "padding": null,
            "grid_auto_rows": null,
            "grid_gap": null,
            "max_width": null,
            "order": null,
            "_view_module_version": "1.2.0",
            "grid_template_areas": null,
            "object_position": null,
            "object_fit": null,
            "grid_auto_columns": null,
            "margin": null,
            "display": null,
            "left": null
          }
        }
      }
    }
  },
  "cells": [
    {
      "cell_type": "markdown",
      "metadata": {
        "id": "view-in-github",
        "colab_type": "text"
      },
      "source": [
        "<a href=\"https://colab.research.google.com/github/miataigeli/capstone_FHIS/blob/darya/bert_pipeline_darya.ipynb\" target=\"_parent\"><img src=\"https://colab.research.google.com/assets/colab-badge.svg\" alt=\"Open In Colab\"/></a>"
      ]
    },
    {
      "cell_type": "markdown",
      "metadata": {
        "id": "-xKLzIOjIkBE"
      },
      "source": [
        "## BERT"
      ]
    },
    {
      "cell_type": "markdown",
      "metadata": {
        "id": "YM1b2qIR2caa"
      },
      "source": [
        "In this notebook, we create a BERT pipeline to load the Multiligual BERT model and use it along with two linear layers to do a text classification task - to determine whether the text passed in is 'A' reading level or 'B'."
      ]
    },
    {
      "cell_type": "markdown",
      "metadata": {
        "id": "4q-um0cGSk2X"
      },
      "source": [
        "Based on tutorial here: https://www.youtube.com/watch?v=mw7ay38--ak as well as the BERT tutorial from COLX585: https://github.ubc.ca/MDS-CL-2020-21/COLX_585_trends_students/blob/master/tutorials/BPE-BERT/bert_pytorch.ipynb."
      ]
    },
    {
      "cell_type": "markdown",
      "metadata": {
        "id": "injEHSVkWE1X"
      },
      "source": [
        "#### Imports and Installations"
      ]
    },
    {
      "cell_type": "code",
      "metadata": {
        "colab": {
          "base_uri": "https://localhost:8080/"
        },
        "id": "Lj0W0YOdIPi1",
        "outputId": "586861bf-bac4-4b83-9be7-fde84086c7b1"
      },
      "source": [
        "!pip install transformers"
      ],
      "execution_count": 2,
      "outputs": [
        {
          "output_type": "stream",
          "text": [
            "Collecting transformers\n",
            "\u001b[?25l  Downloading https://files.pythonhosted.org/packages/d5/43/cfe4ee779bbd6a678ac6a97c5a5cdeb03c35f9eaebbb9720b036680f9a2d/transformers-4.6.1-py3-none-any.whl (2.2MB)\n",
            "\u001b[K     |████████████████████████████████| 2.3MB 3.2MB/s \n",
            "\u001b[?25hRequirement already satisfied: numpy>=1.17 in /usr/local/lib/python3.7/dist-packages (from transformers) (1.19.5)\n",
            "Collecting sacremoses\n",
            "\u001b[?25l  Downloading https://files.pythonhosted.org/packages/75/ee/67241dc87f266093c533a2d4d3d69438e57d7a90abb216fa076e7d475d4a/sacremoses-0.0.45-py3-none-any.whl (895kB)\n",
            "\u001b[K     |████████████████████████████████| 901kB 23.9MB/s \n",
            "\u001b[?25hRequirement already satisfied: filelock in /usr/local/lib/python3.7/dist-packages (from transformers) (3.0.12)\n",
            "Requirement already satisfied: regex!=2019.12.17 in /usr/local/lib/python3.7/dist-packages (from transformers) (2019.12.20)\n",
            "Requirement already satisfied: requests in /usr/local/lib/python3.7/dist-packages (from transformers) (2.23.0)\n",
            "Collecting tokenizers<0.11,>=0.10.1\n",
            "\u001b[?25l  Downloading https://files.pythonhosted.org/packages/d4/e2/df3543e8ffdab68f5acc73f613de9c2b155ac47f162e725dcac87c521c11/tokenizers-0.10.3-cp37-cp37m-manylinux_2_5_x86_64.manylinux1_x86_64.manylinux_2_12_x86_64.manylinux2010_x86_64.whl (3.3MB)\n",
            "\u001b[K     |████████████████████████████████| 3.3MB 29.6MB/s \n",
            "\u001b[?25hRequirement already satisfied: tqdm>=4.27 in /usr/local/lib/python3.7/dist-packages (from transformers) (4.41.1)\n",
            "Requirement already satisfied: importlib-metadata; python_version < \"3.8\" in /usr/local/lib/python3.7/dist-packages (from transformers) (4.0.1)\n",
            "Requirement already satisfied: packaging in /usr/local/lib/python3.7/dist-packages (from transformers) (20.9)\n",
            "Collecting huggingface-hub==0.0.8\n",
            "  Downloading https://files.pythonhosted.org/packages/a1/88/7b1e45720ecf59c6c6737ff332f41c955963090a18e72acbcbeac6b25e86/huggingface_hub-0.0.8-py3-none-any.whl\n",
            "Requirement already satisfied: click in /usr/local/lib/python3.7/dist-packages (from sacremoses->transformers) (7.1.2)\n",
            "Requirement already satisfied: six in /usr/local/lib/python3.7/dist-packages (from sacremoses->transformers) (1.15.0)\n",
            "Requirement already satisfied: joblib in /usr/local/lib/python3.7/dist-packages (from sacremoses->transformers) (1.0.1)\n",
            "Requirement already satisfied: chardet<4,>=3.0.2 in /usr/local/lib/python3.7/dist-packages (from requests->transformers) (3.0.4)\n",
            "Requirement already satisfied: urllib3!=1.25.0,!=1.25.1,<1.26,>=1.21.1 in /usr/local/lib/python3.7/dist-packages (from requests->transformers) (1.24.3)\n",
            "Requirement already satisfied: idna<3,>=2.5 in /usr/local/lib/python3.7/dist-packages (from requests->transformers) (2.10)\n",
            "Requirement already satisfied: certifi>=2017.4.17 in /usr/local/lib/python3.7/dist-packages (from requests->transformers) (2020.12.5)\n",
            "Requirement already satisfied: typing-extensions>=3.6.4; python_version < \"3.8\" in /usr/local/lib/python3.7/dist-packages (from importlib-metadata; python_version < \"3.8\"->transformers) (3.7.4.3)\n",
            "Requirement already satisfied: zipp>=0.5 in /usr/local/lib/python3.7/dist-packages (from importlib-metadata; python_version < \"3.8\"->transformers) (3.4.1)\n",
            "Requirement already satisfied: pyparsing>=2.0.2 in /usr/local/lib/python3.7/dist-packages (from packaging->transformers) (2.4.7)\n",
            "Installing collected packages: sacremoses, tokenizers, huggingface-hub, transformers\n",
            "Successfully installed huggingface-hub-0.0.8 sacremoses-0.0.45 tokenizers-0.10.3 transformers-4.6.1\n"
          ],
          "name": "stdout"
        }
      ]
    },
    {
      "cell_type": "code",
      "metadata": {
        "id": "ak550KxaIpl1"
      },
      "source": [
        "import numpy as np\n",
        "import pandas as pd\n",
        "import torch\n",
        "import torch.nn as nn\n",
        "from sklearn.model_selection import train_test_split\n",
        "from sklearn.metrics import classification_report\n",
        "import transformers\n",
        "from transformers import AutoModel, BertTokenizerFast, BertModel, AdamW, get_linear_schedule_with_warmup\n",
        "from keras.preprocessing.sequence import pad_sequences\n",
        "from torch.utils.data import TensorDataset, DataLoader, RandomSampler, SequentialSampler\n",
        "from tqdm import tqdm\n",
        "import math"
      ],
      "execution_count": 3,
      "outputs": []
    },
    {
      "cell_type": "code",
      "metadata": {
        "id": "IInqOgwdI5lb"
      },
      "source": [
        "#specify GPU\n",
        "device = torch.device(\"cuda\")"
      ],
      "execution_count": 4,
      "outputs": []
    },
    {
      "cell_type": "code",
      "metadata": {
        "colab": {
          "base_uri": "https://localhost:8080/"
        },
        "id": "BS80BGDmKUIS",
        "outputId": "120af0a8-7416-4208-8888-af69e60e4730"
      },
      "source": [
        "#connect to my drive\n",
        "from google.colab import drive\n",
        "drive.mount('/content/drive')"
      ],
      "execution_count": 5,
      "outputs": [
        {
          "output_type": "stream",
          "text": [
            "Mounted at /content/drive\n"
          ],
          "name": "stdout"
        }
      ]
    },
    {
      "cell_type": "markdown",
      "metadata": {
        "id": "1m7XORvdJGiw"
      },
      "source": [
        "### Load and Prepare Dataset"
      ]
    },
    {
      "cell_type": "markdown",
      "metadata": {
        "id": "UMVVAVwdncO_"
      },
      "source": [
        "We read in the corpus from JSON files created previously. For the classification, we will only need the text and its label, which are contained in the `content` and `level` columns, so those are the only ones we keep. The splits are already done, so the files we read in are `train.json`, `val.json` and `test.json`."
      ]
    },
    {
      "cell_type": "code",
      "metadata": {
        "colab": {
          "base_uri": "https://localhost:8080/"
        },
        "id": "_VnN6jmTLkdJ",
        "outputId": "c13250de-85fb-4589-9f8e-213f496eefdf"
      },
      "source": [
        "# Read in all json files into one pandas dataframe\n",
        "import os\n",
        "\n",
        "corpus_dir = \"/content/drive/MyDrive/capstone/corpus\"\n",
        "\n",
        "for filename in os.listdir(corpus_dir):\n",
        "    if filename.endswith(\"train.json\"): \n",
        "         file_path = os.path.join(corpus_dir, filename)\n",
        "         train_df = pd.read_json(file_path)\n",
        "         train_df = train_df.drop(columns=['source', 'author', 'title'])\n",
        "    elif filename.endswith(\"val.json\"):\n",
        "         file_path = os.path.join(corpus_dir, filename)\n",
        "         val_df = pd.read_json(file_path)\n",
        "         val_df = val_df.drop(columns=['source', 'author', 'title'])\n",
        "    elif filename.endswith(\"test.json\"):\n",
        "         file_path = os.path.join(corpus_dir, filename)\n",
        "         test_df = pd.read_json(file_path)\n",
        "         test_df = test_df.drop(columns=['source', 'author', 'title'])\n",
        "    else:\n",
        "        continue\n",
        "\n",
        "print(\"Train: \\n\", train_df.describe(), \"\\n\")\n",
        "print(\"Val: \\n\", val_df.describe(), \"\\n\")\n",
        "print(\"Test: \\n\", test_df.describe(), \"\\n\")"
      ],
      "execution_count": 6,
      "outputs": [
        {
          "output_type": "stream",
          "text": [
            "Train: \n",
            "        level                                            content\n",
            "count    257                                                257\n",
            "unique     3                                                257\n",
            "top        B  Llegó un tunante a la ciudad de Zaragoza, dici...\n",
            "freq     122                                                  1 \n",
            "\n",
            "Val: \n",
            "        level                                            content\n",
            "count     32                                                 32\n",
            "unique     3                                                 32\n",
            "top        B  (After many delays Mr. Frutos, a rich peasant-...\n",
            "freq      15                                                  1 \n",
            "\n",
            "Test: \n",
            "        level                                            content\n",
            "count     32                                                 32\n",
            "unique     3                                                 32\n",
            "top        B  En vacaciones, el fin de semana o después del ...\n",
            "freq      15                                                  1 \n",
            "\n"
          ],
          "name": "stdout"
        }
      ]
    },
    {
      "cell_type": "code",
      "metadata": {
        "colab": {
          "base_uri": "https://localhost:8080/"
        },
        "id": "YYx2n0zMRHcc",
        "outputId": "ae9de956-5e42-439f-cdb0-af9eb6aa66f0"
      },
      "source": [
        "# View class splits\n",
        "train_df['level'].value_counts(normalize = True)"
      ],
      "execution_count": 7,
      "outputs": [
        {
          "output_type": "execute_result",
          "data": {
            "text/plain": [
              "B     0.474708\n",
              "A1    0.330739\n",
              "A2    0.194553\n",
              "Name: level, dtype: float64"
            ]
          },
          "metadata": {
            "tags": []
          },
          "execution_count": 7
        }
      ]
    },
    {
      "cell_type": "markdown",
      "metadata": {
        "id": "o66HoaGRnnuX"
      },
      "source": [
        "As we can see, currently the text is classified into A1, A2, and B levels. Although the CERF framework includes other levels, we will only use these for now."
      ]
    },
    {
      "cell_type": "markdown",
      "metadata": {
        "id": "_vab74dGRXHR"
      },
      "source": [
        "### Split into text and level lists"
      ]
    },
    {
      "cell_type": "code",
      "metadata": {
        "id": "VEBc1K0zXx-c"
      },
      "source": [
        "# Define label to number dictionary\n",
        "lab2ind = {'A1': 0,\n",
        "           'A2': 1,\n",
        "           'B': 2\n",
        "           }"
      ],
      "execution_count": 8,
      "outputs": []
    },
    {
      "cell_type": "code",
      "metadata": {
        "id": "4sTwHvLFkqat"
      },
      "source": [
        "train_text, train_levels = list(train_df['content']), list(train_df['level'])\n",
        "val_text, val_levels = list(val_df['content']), list(val_df['level'])\n",
        "test_text, test_levels = list(test_df['content']), list(test_df['level'])"
      ],
      "execution_count": 9,
      "outputs": []
    },
    {
      "cell_type": "markdown",
      "metadata": {
        "id": "I5c0NQMV3V9p"
      },
      "source": [
        "We load the pretrained BERT model. We will test the Spanish model and the multilingual BERT model."
      ]
    },
    {
      "cell_type": "code",
      "metadata": {
        "colab": {
          "base_uri": "https://localhost:8080/",
          "height": 168,
          "referenced_widgets": [
            "87d8051edb9e47ccb83ba1bec7b5affa",
            "a66894749e31448f94905f4547817ffa",
            "b2a7f9403193400bb0f53f2418c9974b",
            "f3f033936ff24059bcae89af6f0a9773",
            "f1b1d5be29de47a9822809894aea6131",
            "19b9aa8d56de41a7b94711d55f0cafab",
            "54caf1f59b7e43d0a60d0a83f4c07c41",
            "29b4c06633f44248ba4476a1566a393d",
            "c66a3b2984a54453abe7e564153d9fce",
            "24360cff19ed4c7891cc5096e174e8e6",
            "015b773e74234a49a9c6da9fa8aea87f",
            "12e37d1f9cb149728c5826e93c51d6b0",
            "15994a53a5fb483d9257d7b12ce78334",
            "7e82d7957aa2492aa2d149c574105f7e",
            "7ca97795773c43d59ae2c45b88c80401",
            "e701ae66f27546e9b389cf07462eb598",
            "dc2c73801d55482e948e94366a841667",
            "c7393bcf724e456a85ac028b1744d641",
            "bf75fd84bfe2497da1063c88c9d424e2",
            "2bb82d44d8914f27b77008c86601e2a6",
            "f6c12bfb384e4c659556fed6a2472854",
            "886d8454b3ed4c1e9f5fd9ab994be597",
            "01aeb6bef01241f598dc76f58d01ebd3",
            "b681beaa90f144a29fdc3b44e38c6f45"
          ]
        },
        "id": "9NeauiSJ33Rm",
        "outputId": "ba6565f6-70d8-4e81-81dc-fe5779628a96"
      },
      "source": [
        "# model_path = 'dccuchile/bert-base-spanish-wwm-uncased' # Spanish model TODO: cased or uncased?\n",
        "model_path = 'bert-base-multilingual-cased' # multilingual model\n",
        "# model_path = 'distilbert-base-multilingual-cased' #lighter, faster model\n",
        "# tokenizer from pre-trained BERT model\n",
        "tokenizer = BertTokenizerFast.from_pretrained(model_path, return_tensors='pt')\n"
      ],
      "execution_count": 11,
      "outputs": [
        {
          "output_type": "display_data",
          "data": {
            "application/vnd.jupyter.widget-view+json": {
              "model_id": "87d8051edb9e47ccb83ba1bec7b5affa",
              "version_minor": 0,
              "version_major": 2
            },
            "text/plain": [
              "HBox(children=(FloatProgress(value=0.0, description='Downloading', max=995526.0, style=ProgressStyle(descripti…"
            ]
          },
          "metadata": {
            "tags": []
          }
        },
        {
          "output_type": "stream",
          "text": [
            "\n"
          ],
          "name": "stdout"
        },
        {
          "output_type": "display_data",
          "data": {
            "application/vnd.jupyter.widget-view+json": {
              "model_id": "c66a3b2984a54453abe7e564153d9fce",
              "version_minor": 0,
              "version_major": 2
            },
            "text/plain": [
              "HBox(children=(FloatProgress(value=0.0, description='Downloading', max=1961828.0, style=ProgressStyle(descript…"
            ]
          },
          "metadata": {
            "tags": []
          }
        },
        {
          "output_type": "stream",
          "text": [
            "\n"
          ],
          "name": "stdout"
        },
        {
          "output_type": "display_data",
          "data": {
            "application/vnd.jupyter.widget-view+json": {
              "model_id": "dc2c73801d55482e948e94366a841667",
              "version_minor": 0,
              "version_major": 2
            },
            "text/plain": [
              "HBox(children=(FloatProgress(value=0.0, description='Downloading', max=29.0, style=ProgressStyle(description_w…"
            ]
          },
          "metadata": {
            "tags": []
          }
        },
        {
          "output_type": "stream",
          "text": [
            "\n"
          ],
          "name": "stdout"
        }
      ]
    },
    {
      "cell_type": "code",
      "metadata": {
        "colab": {
          "base_uri": "https://localhost:8080/",
          "height": 192,
          "referenced_widgets": [
            "c08637ad8a3d43f4b66ee02a024739a0",
            "d83c12fd8d7140e5900b7352e63482cf",
            "eda4e27b19b747a090892b108b053fa7",
            "5691b2e189a44fb5bac461d953b7ea03",
            "54ece6b353ac45198bed7f3cdf591895",
            "5e1d99a349ae469284b866a484df4a34",
            "bcf208fcea624eb2abb996a0f9490f09",
            "ae3a4bbce2b442d8bf188cb34e753af2",
            "bb18252ef52e4f25be9690fbf4493d8a",
            "45ec7fb09e094ad891206a1decc387d8",
            "1187bfba83494bebb7aef756b7e2e649",
            "6b9f574d30e44abca34212653a36dfbd",
            "ccd0de2646154a5d8f69bd29dd74c2d9",
            "d3673503cd3345ad903878902d115a2a",
            "abc0b2675f5746cb81e3c41e2b4bbad5",
            "4b4555aeaa1e4e17b64b9601051b5251"
          ]
        },
        "id": "fqJ4VUD9NcKN",
        "outputId": "418419c2-7389-4527-bf37-ab22bfc27312"
      },
      "source": [
        "# Download the bert model\n",
        "bert_model = BertModel.from_pretrained(model_path, output_attentions = False).to(device)"
      ],
      "execution_count": 12,
      "outputs": [
        {
          "output_type": "display_data",
          "data": {
            "application/vnd.jupyter.widget-view+json": {
              "model_id": "c08637ad8a3d43f4b66ee02a024739a0",
              "version_minor": 0,
              "version_major": 2
            },
            "text/plain": [
              "HBox(children=(FloatProgress(value=0.0, description='Downloading', max=625.0, style=ProgressStyle(description_…"
            ]
          },
          "metadata": {
            "tags": []
          }
        },
        {
          "output_type": "stream",
          "text": [
            "\n"
          ],
          "name": "stdout"
        },
        {
          "output_type": "display_data",
          "data": {
            "application/vnd.jupyter.widget-view+json": {
              "model_id": "bb18252ef52e4f25be9690fbf4493d8a",
              "version_minor": 0,
              "version_major": 2
            },
            "text/plain": [
              "HBox(children=(FloatProgress(value=0.0, description='Downloading', max=714314041.0, style=ProgressStyle(descri…"
            ]
          },
          "metadata": {
            "tags": []
          }
        },
        {
          "output_type": "stream",
          "text": [
            "\n"
          ],
          "name": "stdout"
        },
        {
          "output_type": "stream",
          "text": [
            "Some weights of the model checkpoint at bert-base-multilingual-cased were not used when initializing BertModel: ['cls.predictions.transform.LayerNorm.bias', 'cls.seq_relationship.bias', 'cls.predictions.transform.dense.weight', 'cls.predictions.bias', 'cls.predictions.decoder.weight', 'cls.predictions.transform.dense.bias', 'cls.seq_relationship.weight', 'cls.predictions.transform.LayerNorm.weight']\n",
            "- This IS expected if you are initializing BertModel from the checkpoint of a model trained on another task or with another architecture (e.g. initializing a BertForSequenceClassification model from a BertForPreTraining model).\n",
            "- This IS NOT expected if you are initializing BertModel from the checkpoint of a model that you expect to be exactly identical (initializing a BertForSequenceClassification model from a BertForSequenceClassification model).\n"
          ],
          "name": "stderr"
        }
      ]
    },
    {
      "cell_type": "markdown",
      "metadata": {
        "id": "iL8ElIF6w0Y4"
      },
      "source": [
        "### Prepare data for classification"
      ]
    },
    {
      "cell_type": "code",
      "metadata": {
        "id": "5WLkZ3i040Ah"
      },
      "source": [
        "# We made the chunk size 256 in case we wanted to append linguistic features after the text,\n",
        "# and stay within the 512-token limit for BERT.\n",
        "# Regardless, most of the text is used for training BERT, so largely this number shouldn't matter\n",
        "CHUNK_SIZE = 256\n",
        "\n",
        "# Prepare data\n",
        "def prepare_data(texts, levels):\n",
        "  ''' Preprocesses the data for classification. Tokenizes the texts, and splits them into chunks of \n",
        "      CHUNK_SIZE tokens in order to be below the limit for BERT.\n",
        "\n",
        "      Arguments:\n",
        "      ---------------------\n",
        "      texts: texts to prepare\n",
        "      levels: the labels for the texts\n",
        "\n",
        "      Returns:\n",
        "      ---------------------\n",
        "      inputs: prepared chunked and tokenized texts\n",
        "      labels: the labels corresponding to the inputs\n",
        "    '''\n",
        "\n",
        "  # Tokenize texts\n",
        "  tokenized_texts = []\n",
        "  for text in texts:\n",
        "     tok_text = tokenizer.batch_encode_plus([text], padding=False, return_token_type_ids=False, return_tensors='pt')#, max_length=256)\n",
        "     tokenized_texts.append(tok_text)\n",
        "\n",
        "  # Convert levels to their corresponding number\n",
        "  levels = [lab2ind[i] for i in levels]\n",
        "  labels_orig = torch.tensor(levels)\n",
        "  \n",
        "  # Split texts into CHUNK_SIZE tokens per text\n",
        "  input_ids_chunks = []\n",
        "  labels_chunks = []\n",
        "  mask_chunks = []\n",
        "  i = 0\n",
        "  for tok_text, label in zip(tokenized_texts, levels):\n",
        "      input_id = list(tok_text['input_ids'][0])\n",
        "      attention_mask = list(tok_text['attention_mask'][0])\n",
        "      if len(input_id) > CHUNK_SIZE:\n",
        "          # Chop up into smaller pieces\n",
        "          # in this case, we consider all chunks of 256\n",
        "          # and discard any tokens left outside of the last 256-token chunk\n",
        "          remainder = len(input_id) % CHUNK_SIZE\n",
        "          input_id = input_id[:-remainder]\n",
        "          attention_mask = attention_mask[:-remainder]\n",
        "          num_chunks = len(input_id) / CHUNK_SIZE\n",
        "          input_id_lst = np.array_split(np.array(input_id),num_chunks)\n",
        "          mask_lst = np.array_split(np.array(attention_mask),num_chunks)\n",
        "          labels_lst = [label] * len(input_id_lst)\n",
        "          input_ids_chunks += input_id_lst\n",
        "          labels_chunks += labels_lst\n",
        "          mask_chunks += mask_lst\n",
        "      else:\n",
        "          # In this case, we consider the entire string since this is a full text,\n",
        "          # pad the remaining 256-len(tokens) chars,\n",
        "          # and make an attention mask to distinguish content from padding\n",
        "          padding = [0] * (CHUNK_SIZE-len(input_id))\n",
        "          input_ids_chunks += [np.array(input_id + padding)]\n",
        "          labels_chunks += [label]\n",
        "          attention = [1] * len(input_id)\n",
        "          mask_chunks += [attention + padding]\n",
        "  \n",
        "  # Test that all labels have length 256\n",
        "  for i, (input_id_chunk, mask_chunk) in enumerate(zip(input_ids_chunks, mask_chunks)):\n",
        "    assert len(input_id_chunk) == CHUNK_SIZE, f\"Length of text not {CHUNK_SIZE} at index {i}!\"\n",
        "    assert len(mask_chunk) == CHUNK_SIZE, f\"Length of mask not {CHUNK_SIZE} at index {i}!\"\n",
        "\n",
        "  # Convert all of our data into torch tensors, the required datatype for our model\n",
        "  inputs = torch.tensor(input_ids_chunks)\n",
        "  masks = torch.tensor(mask_chunks)\n",
        "  labels = torch.tensor(labels_chunks)\n",
        "\n",
        "  return inputs, masks, labels"
      ],
      "execution_count": 13,
      "outputs": []
    },
    {
      "cell_type": "code",
      "metadata": {
        "colab": {
          "base_uri": "https://localhost:8080/"
        },
        "id": "cESkbgF8BQKo",
        "outputId": "725d3731-0e5b-4044-aa4c-679f31a20c6f"
      },
      "source": [
        "# Training data\n",
        "train_inputs, train_masks, train_labels = prepare_data(train_text, train_levels)\n",
        "print(train_inputs.shape)\n",
        "print(train_masks.shape)\n",
        "print(train_labels.shape)"
      ],
      "execution_count": 17,
      "outputs": [
        {
          "output_type": "stream",
          "text": [
            "torch.Size([1133, 256])\n",
            "torch.Size([1133, 256])\n",
            "torch.Size([1133])\n"
          ],
          "name": "stdout"
        }
      ]
    },
    {
      "cell_type": "code",
      "metadata": {
        "colab": {
          "base_uri": "https://localhost:8080/"
        },
        "id": "OLKAj5UHE7VQ",
        "outputId": "18e0aadf-baba-4402-83ce-ff2b2187dbfb"
      },
      "source": [
        "# Validation data\n",
        "valid_inputs, valid_masks, valid_labels = prepare_data(val_text, val_levels)\n",
        "print(valid_inputs.shape)\n",
        "print(valid_masks.shape)\n",
        "print(valid_labels.shape)\n",
        "\n"
      ],
      "execution_count": 15,
      "outputs": [
        {
          "output_type": "stream",
          "text": [
            "torch.Size([129, 256])\n",
            "torch.Size([129, 256])\n",
            "torch.Size([129])\n"
          ],
          "name": "stdout"
        }
      ]
    },
    {
      "cell_type": "code",
      "metadata": {
        "colab": {
          "base_uri": "https://localhost:8080/"
        },
        "id": "WGSjlIj9FPfo",
        "outputId": "a2ec2c91-7555-43e7-d4aa-e9b244772c71"
      },
      "source": [
        "# Test data\n",
        "test_inputs, test_masks, test_labels = prepare_data(test_text, test_levels)\n",
        "print(test_inputs.shape)\n",
        "print(test_masks.shape)\n",
        "print(test_labels.shape)"
      ],
      "execution_count": 16,
      "outputs": [
        {
          "output_type": "stream",
          "text": [
            "torch.Size([139, 256])\n",
            "torch.Size([139, 256])\n",
            "torch.Size([139])\n"
          ],
          "name": "stdout"
        }
      ]
    },
    {
      "cell_type": "markdown",
      "metadata": {
        "id": "Sfkp7szIqlKr"
      },
      "source": [
        "Although we started with an 80-10-10 split between training data, validation data and test data from the JSON files we imported, the variability of the lengths of the texts in the splits changed the split slightly. Splitting the texts into 256-character chunks gave us 1401 texts in total, with 1133 of those from the training data, 129 from the validation data and 139 from the test data. It is still roughly 80-10-10, but with a little bit more test data than validation data."
      ]
    },
    {
      "cell_type": "code",
      "metadata": {
        "id": "XbHcyc0F25rz"
      },
      "source": [
        "# Create an iterator for our data\n",
        "batch_size = 3\n",
        "# We'll take training samples in random order in each epoch. \n",
        "train_data = TensorDataset(train_inputs, train_masks, train_labels)\n",
        "train_dataloader = DataLoader(train_data, \n",
        "                              sampler = RandomSampler(train_data), # Select batches randomly\n",
        "                              batch_size=batch_size)\n",
        "\n",
        "# We'll just read validation set sequentially.\n",
        "validation_data = TensorDataset(valid_inputs, valid_masks, valid_labels)\n",
        "validation_dataloader = DataLoader(validation_data, \n",
        "                                   sampler = SequentialSampler(validation_data), # Pull out batches sequentially.\n",
        "                                   batch_size=batch_size)"
      ],
      "execution_count": 18,
      "outputs": []
    },
    {
      "cell_type": "code",
      "metadata": {
        "colab": {
          "base_uri": "https://localhost:8080/"
        },
        "id": "NjmsPllYMVX3",
        "outputId": "6b0bf0ca-378d-4a4d-d2f3-382363bc4c49"
      },
      "source": [
        "# Make sure dataloaders are correct\n",
        "print(len(validation_dataloader))"
      ],
      "execution_count": 19,
      "outputs": [
        {
          "output_type": "stream",
          "text": [
            "43\n"
          ],
          "name": "stdout"
        }
      ]
    },
    {
      "cell_type": "markdown",
      "metadata": {
        "id": "8y_r0nQbZC5Y"
      },
      "source": [
        "#### BERT Class\n",
        "\n",
        "We create a BERT class so that we have a pipeline to train the model. The class is initialized with the pretrained BERT model, a hidden layer size, two linear layers and a dropout. The `forward` method generates a BERT representation of the input using the pretrained model (contained in `pooler_output`), passes the representations into the first linear layer, then to a TanH activation function and dropout function, and then to the final linear layer, and returns the output.\n",
        "\n",
        "This way, two feed-forward layers are added on top of the BERT representation in order to provide a classification. "
      ]
    },
    {
      "cell_type": "code",
      "metadata": {
        "id": "M67qPgDQZFCS"
      },
      "source": [
        "#model_path = \"dccuchile/bert-base-spanish-wwm-uncased\" # Spanish model\n",
        "model_path = 'distilbert-base-multilingual-cased'\n",
        "class Bert_cls(nn.Module):\n",
        "\n",
        "    def __init__(self, lab2ind, model_path, hidden_size):\n",
        "        ''' Initializes the class. \n",
        "\n",
        "        Arguments: label to index dictionary, path to pretrained model, hidden layer size.\n",
        "\n",
        "        Returns: None\n",
        "\n",
        "        '''\n",
        "        super(Bert_cls, self).__init__()\n",
        "        self.model_path = model_path\n",
        "        self.hidden_size = hidden_size\n",
        "        self.bert_model = BertModel.from_pretrained(model_path)\n",
        "        \n",
        "        self.label_num = len(lab2ind)\n",
        "        \n",
        "        self.dense = nn.Linear(self.hidden_size, self.hidden_size)\n",
        "        self.dropout = nn.Dropout(0.1)\n",
        "        self.fc = nn.Linear(self.hidden_size, self.label_num)\n",
        "        self.softmax = nn.LogSoftmax(dim=1)\n",
        "\n",
        "    def forward(self, input_ids, input_masks): # add input_masks if attention_masks added\n",
        "        ''' Generates a BERT representation of the input using the pretrained model, \n",
        "        passes the representations into the first linear layer, then to a TanH activation function and dropout function,\n",
        "        and then to the final linear layer, followed by a softmax function to get the final class probabilities.\n",
        "        \n",
        "        Arguments: input_ids, attention mask\n",
        "\n",
        "        Returns: outputs of neural network and attention mask.\n",
        "        '''\n",
        "        outputs = self.bert_model(input_ids, input_masks) # add input_masks if attention_masks added\n",
        "        pooler_output = outputs['pooler_output']\n",
        "        #attentions = outputs['attentions']\n",
        "        \n",
        "        x = self.dense(pooler_output)\n",
        "        x = torch.tanh(x)\n",
        "        x = self.dropout(x)\n",
        "        fc_output = self.fc(x)\n",
        "        output = self.softmax(fc_output)\n",
        "\n",
        "        return output#, attentions"
      ],
      "execution_count": 20,
      "outputs": []
    },
    {
      "cell_type": "code",
      "metadata": {
        "id": "1AQdDqRSZVw7",
        "colab": {
          "base_uri": "https://localhost:8080/",
          "height": 247,
          "referenced_widgets": [
            "0454d7bc38fd4291bb5e1e8fdfbb22bf",
            "671f0d17f6744ae7853bd8eacb2b6630",
            "6e2f0ec359b348539681dc6dd77e1c07",
            "a580254fd18e48319c3ecec1b4a1dd85",
            "7fd93d41bde3430ea853e44faa2790ae",
            "da3dbb39f76742f28bc53b37a7e14305",
            "230247b6e6d44b1f9650db4a6b16e5f5",
            "b571a7426bab461c9f4dd698e6f1dc07",
            "2c69e50822eb42e2bbee935ba96e9bf3",
            "e7e2e67d4be6481c9c513fee62d8272a",
            "7b4f352b44374da8bbf6d54448fb25b4",
            "0771234cb8514bdebf0da255f4ef6bb7",
            "2fb7862e32a345279471fad20c1a6b29",
            "ea6df9ada77d4e5ab08fbe0cdc9ff676",
            "4909d2ddb76f4d4780227a6c154cb29e",
            "acb61934689b4ff5acb7db1dcbac4d58"
          ]
        },
        "outputId": "b29ba65e-5f97-40f6-b511-c28568b3684c"
      },
      "source": [
        "# Instantiate model\n",
        "#model_path = 'distilbert-base-multilingual-cased' # Not using this one anymore\n",
        "bert_model = Bert_cls(lab2ind, model_path, 768).to(device)"
      ],
      "execution_count": 21,
      "outputs": [
        {
          "output_type": "display_data",
          "data": {
            "application/vnd.jupyter.widget-view+json": {
              "model_id": "0454d7bc38fd4291bb5e1e8fdfbb22bf",
              "version_minor": 0,
              "version_major": 2
            },
            "text/plain": [
              "HBox(children=(FloatProgress(value=0.0, description='Downloading', max=466.0, style=ProgressStyle(description_…"
            ]
          },
          "metadata": {
            "tags": []
          }
        },
        {
          "output_type": "stream",
          "text": [
            "You are using a model of type distilbert to instantiate a model of type bert. This is not supported for all configurations of models and can yield errors.\n"
          ],
          "name": "stderr"
        },
        {
          "output_type": "stream",
          "text": [
            "\n"
          ],
          "name": "stdout"
        },
        {
          "output_type": "display_data",
          "data": {
            "application/vnd.jupyter.widget-view+json": {
              "model_id": "2c69e50822eb42e2bbee935ba96e9bf3",
              "version_minor": 0,
              "version_major": 2
            },
            "text/plain": [
              "HBox(children=(FloatProgress(value=0.0, description='Downloading', max=541808922.0, style=ProgressStyle(descri…"
            ]
          },
          "metadata": {
            "tags": []
          }
        },
        {
          "output_type": "stream",
          "text": [
            "\n"
          ],
          "name": "stdout"
        },
        {
          "output_type": "stream",
          "text": [
            "Some weights of the model checkpoint at distilbert-base-multilingual-cased were not used when initializing BertModel: ['distilbert.transformer.layer.5.sa_layer_norm.bias', 'distilbert.transformer.layer.2.attention.k_lin.bias', 'distilbert.transformer.layer.5.attention.k_lin.weight', 'distilbert.transformer.layer.4.attention.out_lin.bias', 'distilbert.transformer.layer.0.attention.v_lin.weight', 'distilbert.transformer.layer.3.attention.out_lin.weight', 'distilbert.transformer.layer.5.attention.q_lin.bias', 'distilbert.transformer.layer.0.output_layer_norm.bias', 'distilbert.transformer.layer.2.attention.q_lin.weight', 'distilbert.transformer.layer.1.attention.q_lin.weight', 'distilbert.transformer.layer.0.sa_layer_norm.weight', 'distilbert.transformer.layer.0.attention.q_lin.weight', 'distilbert.transformer.layer.5.attention.out_lin.weight', 'distilbert.transformer.layer.4.ffn.lin2.bias', 'distilbert.transformer.layer.4.sa_layer_norm.weight', 'distilbert.transformer.layer.2.sa_layer_norm.weight', 'distilbert.transformer.layer.0.output_layer_norm.weight', 'distilbert.transformer.layer.0.attention.q_lin.bias', 'distilbert.transformer.layer.3.attention.v_lin.bias', 'distilbert.transformer.layer.3.attention.q_lin.weight', 'distilbert.transformer.layer.2.sa_layer_norm.bias', 'distilbert.transformer.layer.3.attention.q_lin.bias', 'distilbert.transformer.layer.4.output_layer_norm.bias', 'distilbert.transformer.layer.0.attention.out_lin.bias', 'distilbert.transformer.layer.0.attention.k_lin.bias', 'distilbert.transformer.layer.2.attention.out_lin.bias', 'distilbert.transformer.layer.0.ffn.lin1.bias', 'distilbert.transformer.layer.1.ffn.lin1.weight', 'distilbert.transformer.layer.3.ffn.lin2.weight', 'distilbert.transformer.layer.4.output_layer_norm.weight', 'distilbert.transformer.layer.1.output_layer_norm.bias', 'distilbert.transformer.layer.3.attention.v_lin.weight', 'distilbert.transformer.layer.3.output_layer_norm.bias', 'distilbert.transformer.layer.1.attention.v_lin.weight', 'distilbert.transformer.layer.2.attention.v_lin.bias', 'distilbert.transformer.layer.1.sa_layer_norm.weight', 'distilbert.transformer.layer.0.ffn.lin2.bias', 'distilbert.transformer.layer.3.attention.out_lin.bias', 'distilbert.transformer.layer.4.attention.v_lin.bias', 'distilbert.transformer.layer.2.ffn.lin1.bias', 'distilbert.embeddings.LayerNorm.weight', 'distilbert.transformer.layer.3.ffn.lin1.weight', 'distilbert.transformer.layer.2.attention.v_lin.weight', 'distilbert.transformer.layer.4.ffn.lin1.weight', 'distilbert.transformer.layer.5.output_layer_norm.weight', 'distilbert.transformer.layer.2.output_layer_norm.bias', 'distilbert.transformer.layer.2.attention.q_lin.bias', 'distilbert.transformer.layer.1.sa_layer_norm.bias', 'distilbert.transformer.layer.4.ffn.lin2.weight', 'distilbert.transformer.layer.5.ffn.lin2.bias', 'distilbert.transformer.layer.1.attention.q_lin.bias', 'distilbert.transformer.layer.1.ffn.lin2.weight', 'distilbert.embeddings.LayerNorm.bias', 'distilbert.transformer.layer.2.output_layer_norm.weight', 'vocab_projector.bias', 'distilbert.transformer.layer.3.ffn.lin2.bias', 'distilbert.transformer.layer.3.sa_layer_norm.bias', 'distilbert.transformer.layer.3.output_layer_norm.weight', 'distilbert.transformer.layer.4.ffn.lin1.bias', 'distilbert.transformer.layer.4.attention.k_lin.bias', 'distilbert.transformer.layer.2.ffn.lin2.weight', 'distilbert.transformer.layer.0.attention.out_lin.weight', 'distilbert.transformer.layer.1.attention.v_lin.bias', 'distilbert.transformer.layer.1.attention.out_lin.bias', 'distilbert.transformer.layer.4.attention.v_lin.weight', 'distilbert.transformer.layer.2.ffn.lin1.weight', 'distilbert.transformer.layer.5.ffn.lin1.weight', 'distilbert.embeddings.position_embeddings.weight', 'distilbert.transformer.layer.5.attention.v_lin.bias', 'distilbert.transformer.layer.5.ffn.lin2.weight', 'distilbert.transformer.layer.4.attention.out_lin.weight', 'distilbert.transformer.layer.2.attention.out_lin.weight', 'distilbert.transformer.layer.4.attention.q_lin.bias', 'distilbert.transformer.layer.2.ffn.lin2.bias', 'distilbert.transformer.layer.0.ffn.lin1.weight', 'distilbert.transformer.layer.5.attention.v_lin.weight', 'distilbert.transformer.layer.5.attention.q_lin.weight', 'distilbert.transformer.layer.3.ffn.lin1.bias', 'distilbert.transformer.layer.5.sa_layer_norm.weight', 'vocab_transform.bias', 'distilbert.transformer.layer.1.attention.k_lin.bias', 'distilbert.transformer.layer.5.ffn.lin1.bias', 'vocab_layer_norm.weight', 'distilbert.transformer.layer.5.output_layer_norm.bias', 'vocab_projector.weight', 'distilbert.transformer.layer.2.attention.k_lin.weight', 'distilbert.transformer.layer.0.attention.v_lin.bias', 'distilbert.transformer.layer.4.sa_layer_norm.bias', 'distilbert.transformer.layer.1.attention.out_lin.weight', 'distilbert.transformer.layer.3.sa_layer_norm.weight', 'distilbert.transformer.layer.3.attention.k_lin.bias', 'distilbert.transformer.layer.0.sa_layer_norm.bias', 'distilbert.transformer.layer.4.attention.q_lin.weight', 'distilbert.transformer.layer.4.attention.k_lin.weight', 'distilbert.transformer.layer.1.output_layer_norm.weight', 'distilbert.transformer.layer.3.attention.k_lin.weight', 'distilbert.transformer.layer.0.attention.k_lin.weight', 'vocab_transform.weight', 'distilbert.transformer.layer.1.ffn.lin2.bias', 'distilbert.transformer.layer.1.ffn.lin1.bias', 'distilbert.transformer.layer.1.attention.k_lin.weight', 'vocab_layer_norm.bias', 'distilbert.embeddings.word_embeddings.weight', 'distilbert.transformer.layer.5.attention.out_lin.bias', 'distilbert.transformer.layer.5.attention.k_lin.bias', 'distilbert.transformer.layer.0.ffn.lin2.weight']\n",
            "- This IS expected if you are initializing BertModel from the checkpoint of a model trained on another task or with another architecture (e.g. initializing a BertForSequenceClassification model from a BertForPreTraining model).\n",
            "- This IS NOT expected if you are initializing BertModel from the checkpoint of a model that you expect to be exactly identical (initializing a BertForSequenceClassification model from a BertForSequenceClassification model).\n",
            "Some weights of BertModel were not initialized from the model checkpoint at distilbert-base-multilingual-cased and are newly initialized: ['encoder.layer.7.attention.self.key.weight', 'encoder.layer.5.attention.self.key.weight', 'encoder.layer.1.attention.self.query.weight', 'encoder.layer.8.attention.self.value.weight', 'encoder.layer.9.attention.self.value.weight', 'encoder.layer.5.output.dense.weight', 'encoder.layer.10.output.LayerNorm.bias', 'encoder.layer.7.intermediate.dense.weight', 'encoder.layer.0.attention.output.dense.weight', 'pooler.dense.weight', 'encoder.layer.3.output.LayerNorm.weight', 'encoder.layer.2.intermediate.dense.bias', 'encoder.layer.1.output.dense.bias', 'encoder.layer.8.output.dense.bias', 'encoder.layer.9.attention.self.query.weight', 'encoder.layer.0.attention.self.query.bias', 'encoder.layer.3.output.dense.bias', 'encoder.layer.11.attention.output.LayerNorm.weight', 'encoder.layer.3.attention.self.query.weight', 'encoder.layer.0.attention.self.key.weight', 'encoder.layer.0.attention.self.key.bias', 'encoder.layer.5.intermediate.dense.bias', 'encoder.layer.1.output.LayerNorm.bias', 'encoder.layer.9.output.LayerNorm.bias', 'encoder.layer.3.attention.self.key.bias', 'encoder.layer.1.attention.output.dense.bias', 'encoder.layer.5.attention.output.LayerNorm.weight', 'encoder.layer.4.attention.output.dense.weight', 'encoder.layer.11.attention.output.LayerNorm.bias', 'encoder.layer.11.attention.self.query.bias', 'encoder.layer.0.attention.output.LayerNorm.weight', 'encoder.layer.9.output.dense.bias', 'encoder.layer.1.attention.self.key.bias', 'encoder.layer.8.attention.self.query.bias', 'encoder.layer.2.attention.output.LayerNorm.weight', 'encoder.layer.6.output.LayerNorm.bias', 'encoder.layer.3.attention.output.dense.weight', 'encoder.layer.6.intermediate.dense.bias', 'encoder.layer.5.attention.output.LayerNorm.bias', 'encoder.layer.2.attention.output.dense.bias', 'encoder.layer.8.attention.output.dense.weight', 'encoder.layer.8.intermediate.dense.bias', 'encoder.layer.1.attention.self.key.weight', 'encoder.layer.11.intermediate.dense.bias', 'encoder.layer.10.attention.self.query.weight', 'encoder.layer.7.attention.self.query.weight', 'encoder.layer.5.attention.self.value.bias', 'encoder.layer.10.attention.self.value.weight', 'encoder.layer.11.attention.self.key.bias', 'encoder.layer.5.output.LayerNorm.bias', 'encoder.layer.4.attention.self.key.bias', 'encoder.layer.0.attention.self.value.bias', 'encoder.layer.11.intermediate.dense.weight', 'encoder.layer.10.attention.self.query.bias', 'encoder.layer.9.intermediate.dense.weight', 'encoder.layer.1.output.LayerNorm.weight', 'encoder.layer.10.attention.output.dense.bias', 'embeddings.token_type_embeddings.weight', 'encoder.layer.3.attention.self.query.bias', 'encoder.layer.4.output.dense.weight', 'encoder.layer.6.attention.self.query.weight', 'encoder.layer.9.attention.self.key.bias', 'encoder.layer.1.intermediate.dense.weight', 'encoder.layer.6.attention.self.value.weight', 'encoder.layer.0.attention.output.LayerNorm.bias', 'encoder.layer.1.output.dense.weight', 'encoder.layer.3.attention.output.LayerNorm.weight', 'encoder.layer.4.attention.self.key.weight', 'encoder.layer.6.attention.output.LayerNorm.weight', 'encoder.layer.0.output.LayerNorm.bias', 'encoder.layer.2.attention.self.value.bias', 'encoder.layer.11.attention.self.key.weight', 'encoder.layer.4.output.LayerNorm.weight', 'encoder.layer.6.attention.self.key.bias', 'encoder.layer.6.attention.output.dense.weight', 'encoder.layer.11.attention.output.dense.weight', 'encoder.layer.9.intermediate.dense.bias', 'encoder.layer.6.attention.self.value.bias', 'encoder.layer.2.intermediate.dense.weight', 'encoder.layer.7.intermediate.dense.bias', 'encoder.layer.8.output.LayerNorm.bias', 'encoder.layer.3.attention.output.dense.bias', 'encoder.layer.7.attention.self.query.bias', 'encoder.layer.11.output.dense.weight', 'encoder.layer.1.attention.self.value.bias', 'encoder.layer.10.intermediate.dense.bias', 'encoder.layer.10.output.dense.bias', 'encoder.layer.4.intermediate.dense.bias', 'encoder.layer.11.output.dense.bias', 'encoder.layer.6.output.dense.weight', 'encoder.layer.1.attention.self.value.weight', 'encoder.layer.3.intermediate.dense.bias', 'encoder.layer.3.output.dense.weight', 'embeddings.LayerNorm.bias', 'encoder.layer.7.attention.self.key.bias', 'encoder.layer.2.attention.output.LayerNorm.bias', 'encoder.layer.6.attention.output.LayerNorm.bias', 'encoder.layer.3.intermediate.dense.weight', 'encoder.layer.11.attention.output.dense.bias', 'encoder.layer.5.output.LayerNorm.weight', 'encoder.layer.9.attention.output.LayerNorm.bias', 'encoder.layer.7.attention.self.value.weight', 'encoder.layer.2.attention.self.key.bias', 'encoder.layer.1.attention.output.dense.weight', 'encoder.layer.1.attention.output.LayerNorm.weight', 'encoder.layer.5.attention.output.dense.weight', 'encoder.layer.7.attention.self.value.bias', 'encoder.layer.2.output.LayerNorm.bias', 'encoder.layer.4.attention.output.dense.bias', 'encoder.layer.9.attention.output.dense.bias', 'encoder.layer.3.attention.self.key.weight', 'encoder.layer.10.output.LayerNorm.weight', 'encoder.layer.6.attention.self.key.weight', 'encoder.layer.5.attention.self.value.weight', 'encoder.layer.5.output.dense.bias', 'embeddings.word_embeddings.weight', 'encoder.layer.7.output.dense.weight', 'encoder.layer.9.attention.output.dense.weight', 'encoder.layer.10.attention.self.key.weight', 'encoder.layer.9.output.dense.weight', 'encoder.layer.2.attention.self.query.weight', 'encoder.layer.9.attention.self.key.weight', 'encoder.layer.5.attention.output.dense.bias', 'encoder.layer.0.attention.self.query.weight', 'encoder.layer.4.attention.self.query.bias', 'encoder.layer.8.attention.output.LayerNorm.weight', 'encoder.layer.11.output.LayerNorm.weight', 'encoder.layer.7.output.LayerNorm.weight', 'encoder.layer.10.output.dense.weight', 'encoder.layer.7.output.LayerNorm.bias', 'encoder.layer.0.output.dense.weight', 'encoder.layer.6.output.dense.bias', 'encoder.layer.2.attention.self.key.weight', 'encoder.layer.11.attention.self.query.weight', 'encoder.layer.8.attention.self.key.bias', 'encoder.layer.5.attention.self.key.bias', 'embeddings.LayerNorm.weight', 'encoder.layer.9.attention.self.value.bias', 'encoder.layer.1.attention.self.query.bias', 'encoder.layer.9.attention.self.query.bias', 'encoder.layer.7.output.dense.bias', 'encoder.layer.5.intermediate.dense.weight', 'encoder.layer.5.attention.self.query.weight', 'pooler.dense.bias', 'encoder.layer.2.attention.self.query.bias', 'encoder.layer.0.output.LayerNorm.weight', 'encoder.layer.11.attention.self.value.bias', 'encoder.layer.7.attention.output.LayerNorm.bias', 'encoder.layer.3.attention.self.value.bias', 'encoder.layer.10.attention.self.value.bias', 'encoder.layer.1.intermediate.dense.bias', 'encoder.layer.3.output.LayerNorm.bias', 'encoder.layer.3.attention.self.value.weight', 'encoder.layer.0.attention.output.dense.bias', 'encoder.layer.0.intermediate.dense.weight', 'encoder.layer.7.attention.output.dense.bias', 'encoder.layer.7.attention.output.LayerNorm.weight', 'encoder.layer.4.intermediate.dense.weight', 'encoder.layer.1.attention.output.LayerNorm.bias', 'encoder.layer.6.intermediate.dense.weight', 'encoder.layer.10.attention.output.LayerNorm.weight', 'encoder.layer.4.attention.self.query.weight', 'encoder.layer.8.attention.self.value.bias', 'encoder.layer.11.output.LayerNorm.bias', 'encoder.layer.4.attention.output.LayerNorm.bias', 'encoder.layer.6.attention.self.query.bias', 'encoder.layer.8.intermediate.dense.weight', 'encoder.layer.8.attention.self.key.weight', 'encoder.layer.6.attention.output.dense.bias', 'encoder.layer.6.output.LayerNorm.weight', 'encoder.layer.0.intermediate.dense.bias', 'encoder.layer.0.attention.self.value.weight', 'encoder.layer.2.output.LayerNorm.weight', 'encoder.layer.11.attention.self.value.weight', 'encoder.layer.4.attention.self.value.bias', 'encoder.layer.2.output.dense.weight', 'encoder.layer.9.output.LayerNorm.weight', 'embeddings.position_embeddings.weight', 'encoder.layer.8.output.dense.weight', 'encoder.layer.2.attention.self.value.weight', 'encoder.layer.4.output.LayerNorm.bias', 'encoder.layer.4.attention.output.LayerNorm.weight', 'encoder.layer.5.attention.self.query.bias', 'encoder.layer.8.attention.output.LayerNorm.bias', 'encoder.layer.2.attention.output.dense.weight', 'encoder.layer.8.attention.output.dense.bias', 'encoder.layer.0.output.dense.bias', 'encoder.layer.8.output.LayerNorm.weight', 'encoder.layer.7.attention.output.dense.weight', 'encoder.layer.4.attention.self.value.weight', 'encoder.layer.10.attention.output.dense.weight', 'encoder.layer.2.output.dense.bias', 'encoder.layer.3.attention.output.LayerNorm.bias', 'encoder.layer.4.output.dense.bias', 'encoder.layer.9.attention.output.LayerNorm.weight', 'encoder.layer.10.attention.self.key.bias', 'encoder.layer.10.attention.output.LayerNorm.bias', 'encoder.layer.10.intermediate.dense.weight', 'encoder.layer.8.attention.self.query.weight']\n",
            "You should probably TRAIN this model on a down-stream task to be able to use it for predictions and inference.\n"
          ],
          "name": "stderr"
        }
      ]
    },
    {
      "cell_type": "code",
      "metadata": {
        "colab": {
          "base_uri": "https://localhost:8080/"
        },
        "id": "RVnosKCWZi_t",
        "outputId": "7ae09995-7dfa-475b-ae91-cb76ab9ee5f8"
      },
      "source": [
        "# Count number of parameters\n",
        "def count_parameters(model):\n",
        "    return sum(p.numel() for p in model.parameters() if p.requires_grad)\n",
        "\n",
        "print(f'The model has {count_parameters(bert_model):,} trainable parameters')"
      ],
      "execution_count": 22,
      "outputs": [
        {
          "output_type": "stream",
          "text": [
            "The model has 178,446,339 trainable parameters\n"
          ],
          "name": "stdout"
        }
      ]
    },
    {
      "cell_type": "markdown",
      "metadata": {
        "id": "sf39H5euZpGc"
      },
      "source": [
        "#### Training the Model"
      ]
    },
    {
      "cell_type": "code",
      "metadata": {
        "id": "9XkeKGhcZsPM"
      },
      "source": [
        "# Parameters:\n",
        "lr = 5e-6 # 2e-5\n",
        "max_grad_norm = 1.0\n",
        "epochs = 30\n",
        "warmup_proportion = 0.1\n",
        "num_training_steps  = len(train_dataloader) * epochs\n",
        "num_warmup_steps = num_training_steps * warmup_proportion\n",
        "\n",
        "### Instantiate optimizer and scheduler\n",
        "optimizer = AdamW(bert_model.parameters(), lr=lr, correct_bias=False)\n",
        "scheduler = get_linear_schedule_with_warmup(optimizer, num_warmup_steps=num_warmup_steps, num_training_steps=num_training_steps)  # PyTorch scheduler\n",
        "\n",
        "# Use Cross-Entropy loss as our loss function\n",
        "criterion = nn.CrossEntropyLoss()"
      ],
      "execution_count": 23,
      "outputs": []
    },
    {
      "cell_type": "code",
      "metadata": {
        "id": "NOoQVKArZ0Fe"
      },
      "source": [
        "# Training the model\n",
        "def train(model, iterator, optimizer, scheduler, criterion, max_grad_norm=1.0):\n",
        "    \n",
        "    model.train()\n",
        "    epoch_loss = 0\n",
        "    \n",
        "    for i, batch in enumerate(iterator):\n",
        "        \n",
        "\n",
        "        # Add batch to GPU\n",
        "        batch = tuple(t.to(device) for t in batch)\n",
        "        # Unpack the inputs from our dataloader\n",
        "        input_ids, input_masks, labels = batch # add input_masks if attention_masks added\n",
        "\n",
        "        # outputs,_ = model(input_ids, input_mask)\n",
        "        outputs = model(input_ids, input_masks) # add input_masks if attention_masks added\n",
        "\n",
        "        loss = criterion(outputs, labels)\n",
        "        # delete used variables to free GPU memory\n",
        "        del batch, input_ids, input_masks, labels # add input_masks if attention_masks added\n",
        "        loss.backward()\n",
        "        torch.nn.utils.clip_grad_norm_(model.parameters(), max_grad_norm)  # Gradient clipping is not in AdamW anymore\n",
        "        optimizer.step()\n",
        "        scheduler.step()\n",
        "        epoch_loss += loss.cpu().item()\n",
        "        optimizer.zero_grad()\n",
        "    \n",
        "    # free GPU memory\n",
        "    if device == 'cuda':\n",
        "        torch.cuda.empty_cache()\n",
        "\n",
        "    return epoch_loss / len(iterator)"
      ],
      "execution_count": 24,
      "outputs": []
    },
    {
      "cell_type": "code",
      "metadata": {
        "id": "ifWFXwEzZ335"
      },
      "source": [
        "# Evaluate function\n",
        "def evaluate(model, iterator, criterion):\n",
        "    \n",
        "    model.eval()\n",
        "    \n",
        "    epoch_loss = 0\n",
        "    all_pred=[]\n",
        "    all_label = []\n",
        "    \n",
        "    with torch.no_grad():\n",
        "    \n",
        "        for i, batch in enumerate(iterator):\n",
        "\n",
        "            # Add batch to GPU\n",
        "            batch = tuple(t.to(device) for t in batch)\n",
        "            # Unpack the inputs from our dataloader\n",
        "            input_ids, input_masks, labels = batch # add input_masks if attention_masks added\n",
        "\n",
        "            outputs = model(input_ids, input_masks) # add input_masks if attention_masks added\n",
        "            \n",
        "            loss = criterion(outputs, labels)\n",
        "\n",
        "            # delete used variables to free GPU memory\n",
        "            del batch, input_ids, input_masks # add input_masks if attention_masks added\n",
        "            epoch_loss += loss.cpu().item()\n",
        "\n",
        "            # identify the predicted class for each example in the batch\n",
        "            probabilities, predicted = torch.max(outputs.cpu().data, 1)\n",
        "            # put all the true labels and predictions to two lists\n",
        "            all_pred.extend(predicted)\n",
        "            all_label.extend(labels.cpu())\n",
        "    \n",
        "    accuracy = accuracy_score(all_label, all_pred)\n",
        "    f1score = f1_score(all_label, all_pred, average='macro') \n",
        "    return epoch_loss / len(iterator), accuracy, f1score"
      ],
      "execution_count": 25,
      "outputs": []
    },
    {
      "cell_type": "code",
      "metadata": {
        "id": "X993LzWmaBym"
      },
      "source": [
        "# create checkpoint directory\n",
        "import os\n",
        "save_path = './drive/My Drive/Colab Notebooks/ckpt_BERT/'\n",
        "if os.path.exists(save_path) == False:\n",
        "    os.makedirs(save_path)"
      ],
      "execution_count": 26,
      "outputs": []
    },
    {
      "cell_type": "code",
      "metadata": {
        "colab": {
          "base_uri": "https://localhost:8080/"
        },
        "id": "P6RJ3UreaCWp",
        "outputId": "240dfc97-8735-4b30-daa5-cabf0bab5584"
      },
      "source": [
        "from tqdm import trange\n",
        "from sklearn.metrics import accuracy_score, f1_score, recall_score, precision_score, classification_report, confusion_matrix\n",
        "# Train the model\n",
        "loss_list = []\n",
        "acc_list = []\n",
        "\n",
        "for i in range(epochs):\n",
        "    epoch_loss = train(bert_model, train_dataloader, optimizer, scheduler, criterion)  \n",
        "    train_loss, train_acc, train_f1 = evaluate(bert_model, train_dataloader, criterion)\n",
        "    val_loss, val_acc, val_f1 = evaluate(bert_model, validation_dataloader, criterion)\n",
        "\n",
        "    # Create checkpoint at end of each epoch\n",
        "    state = {\n",
        "        'epoch': epoch,\n",
        "        'state_dict': bert_model.state_dict(),\n",
        "        'optimizer': optimizer.state_dict(),\n",
        "        'scheduler': scheduler.state_dict()\n",
        "        }\n",
        "\n",
        "    torch.save(state, \"./drive/My Drive/Colab Notebooks/ckpt_BERT/BERT_\"+str(epoch+1)+\".pt\")\n",
        "    print(f'epoch: {i}, Train Loss: {epoch_loss:.3f}, Train Acc: {train_acc:.3f}, Train f1: {train_f1:.3f}, Dev Acc: {val_acc:.3f}, Dev f1: {val_f1:.3f}')"
      ],
      "execution_count": 27,
      "outputs": [
        {
          "output_type": "stream",
          "text": [
            "epoch: 0, Train Loss: 1.044, Train Acc: 0.615, Train f1: 0.446, Dev Acc: 0.550, Dev f1: 0.374\n",
            "epoch: 1, Train Loss: 0.808, Train Acc: 0.726, Train f1: 0.540, Dev Acc: 0.752, Dev f1: 0.534\n",
            "epoch: 2, Train Loss: 0.822, Train Acc: 0.745, Train f1: 0.554, Dev Acc: 0.760, Dev f1: 0.539\n",
            "epoch: 3, Train Loss: 0.873, Train Acc: 0.752, Train f1: 0.554, Dev Acc: 0.798, Dev f1: 0.569\n",
            "epoch: 4, Train Loss: 0.755, Train Acc: 0.813, Train f1: 0.680, Dev Acc: 0.822, Dev f1: 0.650\n",
            "epoch: 5, Train Loss: 0.583, Train Acc: 0.864, Train f1: 0.809, Dev Acc: 0.868, Dev f1: 0.746\n",
            "epoch: 6, Train Loss: 0.488, Train Acc: 0.765, Train f1: 0.639, Dev Acc: 0.791, Dev f1: 0.699\n",
            "epoch: 7, Train Loss: 0.432, Train Acc: 0.778, Train f1: 0.679, Dev Acc: 0.767, Dev f1: 0.683\n",
            "epoch: 8, Train Loss: 0.440, Train Acc: 0.925, Train f1: 0.902, Dev Acc: 0.845, Dev f1: 0.707\n",
            "epoch: 9, Train Loss: 0.376, Train Acc: 0.899, Train f1: 0.867, Dev Acc: 0.837, Dev f1: 0.760\n",
            "epoch: 10, Train Loss: 0.338, Train Acc: 0.945, Train f1: 0.932, Dev Acc: 0.860, Dev f1: 0.803\n",
            "epoch: 11, Train Loss: 0.240, Train Acc: 0.960, Train f1: 0.951, Dev Acc: 0.876, Dev f1: 0.805\n",
            "epoch: 12, Train Loss: 0.313, Train Acc: 0.907, Train f1: 0.881, Dev Acc: 0.829, Dev f1: 0.709\n",
            "epoch: 13, Train Loss: 0.253, Train Acc: 0.973, Train f1: 0.966, Dev Acc: 0.884, Dev f1: 0.842\n",
            "epoch: 14, Train Loss: 0.187, Train Acc: 0.936, Train f1: 0.920, Dev Acc: 0.837, Dev f1: 0.727\n",
            "epoch: 15, Train Loss: 0.198, Train Acc: 0.974, Train f1: 0.968, Dev Acc: 0.868, Dev f1: 0.789\n",
            "epoch: 16, Train Loss: 0.142, Train Acc: 0.981, Train f1: 0.976, Dev Acc: 0.853, Dev f1: 0.754\n",
            "epoch: 17, Train Loss: 0.138, Train Acc: 0.987, Train f1: 0.984, Dev Acc: 0.891, Dev f1: 0.832\n",
            "epoch: 18, Train Loss: 0.126, Train Acc: 0.988, Train f1: 0.985, Dev Acc: 0.860, Dev f1: 0.773\n",
            "epoch: 19, Train Loss: 0.100, Train Acc: 0.989, Train f1: 0.986, Dev Acc: 0.860, Dev f1: 0.773\n",
            "epoch: 20, Train Loss: 0.107, Train Acc: 0.983, Train f1: 0.979, Dev Acc: 0.845, Dev f1: 0.706\n",
            "epoch: 21, Train Loss: 0.107, Train Acc: 0.990, Train f1: 0.988, Dev Acc: 0.860, Dev f1: 0.773\n",
            "epoch: 22, Train Loss: 0.077, Train Acc: 0.990, Train f1: 0.988, Dev Acc: 0.876, Dev f1: 0.805\n",
            "epoch: 23, Train Loss: 0.059, Train Acc: 0.994, Train f1: 0.993, Dev Acc: 0.884, Dev f1: 0.829\n",
            "epoch: 24, Train Loss: 0.061, Train Acc: 0.992, Train f1: 0.990, Dev Acc: 0.884, Dev f1: 0.829\n",
            "epoch: 25, Train Loss: 0.062, Train Acc: 0.995, Train f1: 0.994, Dev Acc: 0.876, Dev f1: 0.807\n",
            "epoch: 26, Train Loss: 0.041, Train Acc: 0.994, Train f1: 0.993, Dev Acc: 0.876, Dev f1: 0.814\n",
            "epoch: 27, Train Loss: 0.046, Train Acc: 0.994, Train f1: 0.992, Dev Acc: 0.868, Dev f1: 0.790\n",
            "epoch: 28, Train Loss: 0.055, Train Acc: 0.995, Train f1: 0.993, Dev Acc: 0.884, Dev f1: 0.823\n",
            "epoch: 29, Train Loss: 0.038, Train Acc: 0.995, Train f1: 0.993, Dev Acc: 0.884, Dev f1: 0.823\n"
          ],
          "name": "stdout"
        }
      ]
    },
    {
      "cell_type": "markdown",
      "metadata": {
        "id": "m3AvLzIoQKRQ"
      },
      "source": [
        "#### Evaluate on Test Data"
      ]
    },
    {
      "cell_type": "code",
      "metadata": {
        "colab": {
          "base_uri": "https://localhost:8080/"
        },
        "id": "HjFeOw_SOqdk",
        "outputId": "09e9420a-9f18-4a86-f1f7-84a9046adc16"
      },
      "source": [
        "# Test data\n",
        "test_inputs, test_masks, test_labels = prepare_data(test_text, test_levels)\n",
        "print(test_inputs.shape)\n",
        "print(test_masks.shape)\n",
        "print(test_labels.shape)"
      ],
      "execution_count": 28,
      "outputs": [
        {
          "output_type": "stream",
          "text": [
            "torch.Size([139, 256])\n",
            "torch.Size([139, 256])\n",
            "torch.Size([139])\n"
          ],
          "name": "stdout"
        }
      ]
    },
    {
      "cell_type": "code",
      "metadata": {
        "id": "Ggha2OemKUq6"
      },
      "source": [
        "# We'll just read test set sequentially.\n",
        "test_data = TensorDataset(test_inputs, test_masks, test_labels)\n",
        "test_dataloader = DataLoader(test_data, \n",
        "                                   sampler = SequentialSampler(test_data), # Pull out batches sequentially.\n",
        "                                   batch_size=batch_size)"
      ],
      "execution_count": 29,
      "outputs": []
    },
    {
      "cell_type": "code",
      "metadata": {
        "colab": {
          "base_uri": "https://localhost:8080/"
        },
        "id": "bDv1QtoLQP5j",
        "outputId": "6595209b-0cb4-44b3-c107-9c6da6354993"
      },
      "source": [
        "avg_epoch_loss_test, test_accuracy, test_fscore = evaluate(bert_model, test_dataloader, criterion)\n",
        "print(test_accuracy)\n",
        "print(test_fscore)"
      ],
      "execution_count": 31,
      "outputs": [
        {
          "output_type": "stream",
          "text": [
            "0.8345323741007195\n",
            "0.7773741643367164\n"
          ],
          "name": "stdout"
        }
      ]
    },
    {
      "cell_type": "markdown",
      "metadata": {
        "id": "Njly0BBgP2x6"
      },
      "source": [
        "#### Testing Model\n",
        "\n",
        "Below, I test the model with a few examples."
      ]
    },
    {
      "cell_type": "code",
      "metadata": {
        "id": "TtUSRj7sinvm"
      },
      "source": [
        "# Index to label dictionary\n",
        "ind2lab =  {0 :'A1', 1: 'A2', 2: 'B'}"
      ],
      "execution_count": 32,
      "outputs": []
    },
    {
      "cell_type": "markdown",
      "metadata": {
        "id": "Zh25-GFNx_4r"
      },
      "source": [
        "The first example I took from the corpus manually, it is annotated as A2-level."
      ]
    },
    {
      "cell_type": "code",
      "metadata": {
        "colab": {
          "base_uri": "https://localhost:8080/"
        },
        "id": "nGQ8DOfzgr7w",
        "outputId": "70900020-9b58-4dcf-fc8b-59f8f0dba59b"
      },
      "source": [
        "text = 'Un chico pelirrojo, un poco gordo, se les acerca sonriendo.\\n\\u2014Hola, M\\u00f3nica. Hola, Laura \\u2014dice.\\nEs Guillermo.\\n\\u2014Hola, Guille \\u2014contestan las chicas\\u2014. Llegas tarde.\\n\\u2014Es que me he dormido.\\n\\u2014S\\u00ed, ya lo veo.\\nGuillermo se sienta al lado de las chicas.\\n\\u2014\\u00bfC\\u00f3mo van? \\u2014pregunta.\\n\\u2014Perdemos por 3 a 1.\\n\\u2014\\u00bfDe verdad?\\n\\u2014S\\u00ed, es que...\\nUn grito interrumpe la conversaci\\u00f3n. \\u00ab\\u00a1Goool!\\u00bb.\\n\\u2014\\u00bfQui\\u00e9n ha marcado? \\u2014pregunta Laura.\\n\\u2014Nosotros.\\n\\u2014Ha marcado Ra\\u00fal, despu\\u00e9s de un pase de Sergio \\u2014explica M\\u00f3nica, contenta.\\n\\n\\ufffd\\n\\n4  f\\u00fatbol sala: modalidad del f\\u00fatbol que se juega en un recinto m\\u00e1s peque\\u00f1o, con \\ncinco jugadores por equipo.\\n\\n5  fase eliminatoria: fase de la competici\\u00f3n entre 16 equipos, anterior a los cuartos de final, entre los ocho mejores.'\n",
        "\n",
        "# Use the prepare_data function to prepare the text for classification\n",
        "inputs, masks, label = prepare_data([text], ['A1']) # we need to put the label as one of the arguments to the function\n",
        "inputs = inputs.to(device)\n",
        "masks = masks.to(device)\n",
        "outputs = bert_model(inputs, masks)\n",
        "print(outputs)"
      ],
      "execution_count": 33,
      "outputs": [
        {
          "output_type": "stream",
          "text": [
            "tensor([[-4.6848e-05, -1.0671e+01, -1.0655e+01]], device='cuda:0',\n",
            "       grad_fn=<LogSoftmaxBackward>)\n"
          ],
          "name": "stdout"
        }
      ]
    },
    {
      "cell_type": "code",
      "metadata": {
        "colab": {
          "base_uri": "https://localhost:8080/"
        },
        "id": "_C8M6VW2imWI",
        "outputId": "56ca8ae7-2dea-4da2-a0ee-00f39a59dac9"
      },
      "source": [
        "probabilities, predicted = torch.max(outputs[0].cpu().data,0)\n",
        "print(\"the prediction is: \", ind2lab[predicted.item()])"
      ],
      "execution_count": 34,
      "outputs": [
        {
          "output_type": "stream",
          "text": [
            "the prediction is:  A1\n"
          ],
          "name": "stdout"
        }
      ]
    },
    {
      "cell_type": "markdown",
      "metadata": {
        "id": "NHztNeaxyE_x"
      },
      "source": [
        "The prediction is correct! Now let's test with a random example from the Internet. This one I took from an article in El País, and it should be classified as B level (or above)."
      ]
    },
    {
      "cell_type": "code",
      "metadata": {
        "colab": {
          "base_uri": "https://localhost:8080/"
        },
        "id": "gxC3iB5_yahS",
        "outputId": "e50bda13-cc98-4080-9163-0f2df5b8b52b"
      },
      "source": [
        "text = \"Un estudio alerta de que hasta el 91% de la sabiduría tribal sobre plantas con potencial farmacológico y terapéutico desaparecerá con la muerte de sus lenguas.\"\n",
        "\n",
        "# Use the prepare_data function to prepare the text for classification\n",
        "inputs, masks, label = prepare_data([text], ['B']) # we need to put the label as one of the arguments to the function\n",
        "inputs = inputs.to(device)\n",
        "masks = masks.to(device)\n",
        "outputs = bert_model(inputs, masks)\n",
        "print(outputs)"
      ],
      "execution_count": 35,
      "outputs": [
        {
          "output_type": "stream",
          "text": [
            "tensor([[-1.0738e+01, -1.1960e+01, -2.8133e-05]], device='cuda:0',\n",
            "       grad_fn=<LogSoftmaxBackward>)\n"
          ],
          "name": "stdout"
        }
      ]
    },
    {
      "cell_type": "code",
      "metadata": {
        "colab": {
          "base_uri": "https://localhost:8080/"
        },
        "id": "rZo4kl2H0wBM",
        "outputId": "d31c3070-17da-4c42-8169-fcf1a4e9d47e"
      },
      "source": [
        "probabilities, predicted = torch.max(outputs[0].cpu().data,0)\n",
        "print(\"the prediction is: \", ind2lab[predicted.item()])"
      ],
      "execution_count": 36,
      "outputs": [
        {
          "output_type": "stream",
          "text": [
            "the prediction is:  B\n"
          ],
          "name": "stdout"
        }
      ]
    },
    {
      "cell_type": "markdown",
      "metadata": {
        "id": "5ak-OERKtkpg"
      },
      "source": [
        "### Cross-Validation and Hyperparameter Tuning"
      ]
    },
    {
      "cell_type": "markdown",
      "metadata": {
        "id": "F8LvRyqjU_7r"
      },
      "source": [
        "The code below can be used for cross-validation via GridSearch. We did not run it because it would take a really long time, and our results were already very good."
      ]
    },
    {
      "cell_type": "code",
      "metadata": {
        "id": "06SQup8Y2rVm"
      },
      "source": [
        "lr_list = [1e-6, 5e-6, 1e-5, 5e-5, 1e-4, 5e-4]\n",
        "max_grad_norms_list = [0.8, 0.9, 1.0, 1.1, 1.2]\n",
        "#num_epochs = [10, 20, 30, 40, 50]\n",
        "#chunk_sizes = #from 256 to 510"
      ],
      "execution_count": 94,
      "outputs": []
    },
    {
      "cell_type": "code",
      "metadata": {
        "id": "wwreQWEi3kko"
      },
      "source": [
        "num_epochs = 20\n",
        "def grid_search():\n",
        "\n",
        "  num_trials = len(lr_list) * len(max_grad_norms_list) # make sure that len(lr_list) and len(max_grad_norms_list) are coprime. \n",
        "  for i in range(num_trials):\n",
        "    lr_idx = i % len(lr_list)\n",
        "    norm_idx = i % len(max_grad_norms_list)\n",
        "    lr = lr_list[lr_idx]\n",
        "    max_grad_norm = max_grad_norms_list[norm_idx]\n",
        "\n",
        "    model = Bert_cls(lab2ind, model_path, 768)\n",
        "    model.to(device)\n",
        "    optimizer = AdamW(model.parameters(), lr=lr, correct_bias=False)\n",
        "    scheduler = get_linear_schedule_with_warmup(optimizer, num_warmup_steps = num_warmup_steps, num_training_steps = num_training_steps)\n",
        "    criterion = nn.CrossEntropyLoss()\n",
        "\n",
        "    print(f'\\ni: {i}, lr: {lr}, max_grad:{max_grad_norm}')\n",
        "    for i in range(epochs):\n",
        "      epoch_loss = train(bert_model, train_dataloader, optimizer, scheduler, criterion)  \n",
        "      train_loss, train_acc, train_f1 = evaluate(bert_model, train_dataloader, criterion)\n",
        "      val_loss, val_acc, val_f1 = evaluate(bert_model, validation_dataloader, criterion)\n",
        "\n",
        "      print(f'epoch: {i}, Train Loss: {epoch_loss:.3f}, Train Acc: {train_acc:.3f}, Train f1: {train_f1:.3f}, Dev Acc: {val_acc:.3f}, Dev f1: {val_f1:.3f}')\n",
        "  \n",
        "    print('\\n\\n')"
      ],
      "execution_count": 111,
      "outputs": []
    },
    {
      "cell_type": "code",
      "metadata": {
        "id": "BYeg5DQM-VP-"
      },
      "source": [
        "grid_search()"
      ],
      "execution_count": null,
      "outputs": []
    },
    {
      "cell_type": "markdown",
      "metadata": {
        "id": "npQfREUIthp3"
      },
      "source": [
        "### Visualizations"
      ]
    },
    {
      "cell_type": "markdown",
      "metadata": {
        "id": "YLgKGzqXVM1M"
      },
      "source": [
        "Some placeholder cells in case we decide to add visualizations after cross-validation."
      ]
    },
    {
      "cell_type": "code",
      "metadata": {
        "id": "NtyVUuZmtoqN"
      },
      "source": [
        "# Num epochs vs accuracy (train, validation)"
      ],
      "execution_count": null,
      "outputs": []
    },
    {
      "cell_type": "code",
      "metadata": {
        "id": "CTWeSR0Ttq02"
      },
      "source": [
        "# learning rate vs accuracy (train, validation)"
      ],
      "execution_count": null,
      "outputs": []
    },
    {
      "cell_type": "code",
      "metadata": {
        "id": "jlddq4yWuoXF"
      },
      "source": [
        "# CHUNK_SIZE vs accuracy (train, validation)"
      ],
      "execution_count": null,
      "outputs": []
    }
  ]
}