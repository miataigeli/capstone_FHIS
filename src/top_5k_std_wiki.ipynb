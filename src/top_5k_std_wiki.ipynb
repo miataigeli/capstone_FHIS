{
 "cells": [
  {
   "cell_type": "code",
   "execution_count": 28,
   "id": "alert-primary",
   "metadata": {},
   "outputs": [],
   "source": [
    "import requests\n",
    "from bs4 import BeautifulSoup\n",
    "import pandas as pd"
   ]
  },
  {
   "cell_type": "markdown",
   "id": "informational-continuity",
   "metadata": {},
   "source": [
    "##### Cleaned up (standardized) version of the 5k words list in https://en.wiktionary.org/wiki/User:Matthias_Buchmeier/Spanish_frequency_list-1-5000"
   ]
  },
  {
   "cell_type": "code",
   "execution_count": 29,
   "id": "happy-ocean",
   "metadata": {},
   "outputs": [],
   "source": [
    "urls = [\n",
    "    \"https://en.wiktionary.org/wiki/Wiktionary:Frequency_lists/Spanish1000\",\n",
    "    \"https://en.wiktionary.org/wiki/Wiktionary:Frequency_lists/Spanish1001-2000\",\n",
    "    \"https://en.wiktionary.org/wiki/Wiktionary:Frequency_lists/Spanish2001-3000\",\n",
    "    \"https://en.wiktionary.org/wiki/Wiktionary:Frequency_lists/Spanish3001-4000\",\n",
    "    \"https://en.wiktionary.org/wiki/Wiktionary:Frequency_lists/Spanish4001-5000\",\n",
    "]"
   ]
  },
  {
   "cell_type": "code",
   "execution_count": 30,
   "id": "unique-latino",
   "metadata": {},
   "outputs": [
    {
     "name": "stdout",
     "output_type": "stream",
     "text": [
      "             word occurrences             lemma\n",
      "0             que       32894               que\n",
      "1              de       32116                de\n",
      "2              no       29897                no\n",
      "3               a       22313                 a\n",
      "4              la       21127                la\n",
      "...           ...         ...               ...\n",
      "4995    excepción          12         excepción\n",
      "4996      espadas          12            espada\n",
      "4997     engañado          12  engañado engañar\n",
      "4998      débiles          12             débil\n",
      "4999  corporación          12       corporación\n",
      "\n",
      "[5000 rows x 3 columns]\n"
     ]
    }
   ],
   "source": [
    "df_list = []\n",
    "for url in urls:\n",
    "    html = requests.get(url).content\n",
    "    soup = BeautifulSoup(html, \"lxml\")\n",
    "    table = soup.find(\"tbody\")\n",
    "    for row in table.find_all(\"tr\")[1:]:\n",
    "        row = row.text.strip().split(\"\\n\")\n",
    "        df_list.append(list(filter(lambda e: e != \"\", row))[1:])\n",
    "df = pd.DataFrame(df_list, columns = [\"word\", \"occurrences\", \"lemma\"])\n",
    "print(df)"
   ]
  }
 ],
 "metadata": {
  "kernelspec": {
   "display_name": "Python 3",
   "language": "python",
   "name": "python3"
  },
  "language_info": {
   "codemirror_mode": {
    "name": "ipython",
    "version": 3
   },
   "file_extension": ".py",
   "mimetype": "text/x-python",
   "name": "python",
   "nbconvert_exporter": "python",
   "pygments_lexer": "ipython3",
   "version": "3.8.3"
  }
 },
 "nbformat": 4,
 "nbformat_minor": 5
}
