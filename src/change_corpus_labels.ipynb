{
 "cells": [
  {
   "cell_type": "markdown",
   "id": "middle-population",
   "metadata": {},
   "source": [
    "## Re-labelling some texts in the corpus\n",
    "We need to re-label the B1 and B2 texts as just B now. This notebook will automate that process."
   ]
  },
  {
   "cell_type": "code",
   "execution_count": 7,
   "id": "national-enlargement",
   "metadata": {},
   "outputs": [],
   "source": [
    "import os\n",
    "import json\n",
    "from copy import deepcopy"
   ]
  },
  {
   "cell_type": "code",
   "execution_count": 9,
   "id": "unknown-piece",
   "metadata": {},
   "outputs": [],
   "source": [
    "\"\"\"MODIFYING READ_CORPUS FROM UTILS FOR THE PURPOSE OF EDITING THE CORPUS\"\"\"\n",
    "\n",
    "def edit_corpus(path=\"../corpus/\"):\n",
    "    for file in os.listdir(path):\n",
    "        if \"json\" in file:\n",
    "            with open(os.path.join(path, file), \"r\", encoding=\"utf-8\") as f:\n",
    "                doc_list = json.load(f)\n",
    "                new_doc_list = []\n",
    "                for d in doc_list:\n",
    "                    new_d = deepcopy(d)\n",
    "                    level = d[\"level\"]\n",
    "                    if level.startswith(\"B\"):  # Repalce any B* as just B\n",
    "                        level = \"B\"\n",
    "                    new_d[\"level\"] = level\n",
    "                    new_doc_list.append(new_d)\n",
    "            with open(os.path.join(path, file), \"w\", encoding=\"utf-8\") as f:\n",
    "                json.dump(new_doc_list, f)"
   ]
  },
  {
   "cell_type": "code",
   "execution_count": 10,
   "id": "eleven-exclusive",
   "metadata": {},
   "outputs": [],
   "source": [
    "edit_corpus()"
   ]
  }
 ],
 "metadata": {
  "kernelspec": {
   "display_name": "Python 3",
   "language": "python",
   "name": "python3"
  },
  "language_info": {
   "codemirror_mode": {
    "name": "ipython",
    "version": 3
   },
   "file_extension": ".py",
   "mimetype": "text/x-python",
   "name": "python",
   "nbconvert_exporter": "python",
   "pygments_lexer": "ipython3",
   "version": "3.8.3"
  }
 },
 "nbformat": 4,
 "nbformat_minor": 5
}
