{
 "cells": [
  {
   "cell_type": "markdown",
   "id": "fewer-calculator",
   "metadata": {},
   "source": [
    "## Read all files from `../corpus/`"
   ]
  },
  {
   "cell_type": "code",
   "execution_count": 1,
   "id": "pending-studio",
   "metadata": {},
   "outputs": [],
   "source": [
    "from utils import read_corpus"
   ]
  },
  {
   "cell_type": "code",
   "execution_count": 2,
   "id": "julian-combat",
   "metadata": {},
   "outputs": [],
   "source": [
    "corpus = read_corpus()"
   ]
  },
  {
   "cell_type": "code",
   "execution_count": 3,
   "id": "vertical-print",
   "metadata": {},
   "outputs": [
    {
     "name": "stdout",
     "output_type": "stream",
     "text": [
      "dict_keys(['A1', 'A2', 'B'])\n",
      "\n",
      "Number of A1-level texts: 107\n",
      "Number of A2-level texts: 62\n",
      "Number of B-level texts: 152\n"
     ]
    }
   ],
   "source": [
    "print(corpus.keys())\n",
    "print()\n",
    "for k, v in corpus.items():\n",
    "    print(f\"Number of {k}-level texts: {len(v)}\")"
   ]
  }
 ],
 "metadata": {
  "kernelspec": {
   "display_name": "Python 3",
   "language": "python",
   "name": "python3"
  },
  "language_info": {
   "codemirror_mode": {
    "name": "ipython",
    "version": 3
   },
   "file_extension": ".py",
   "mimetype": "text/x-python",
   "name": "python",
   "nbconvert_exporter": "python",
   "pygments_lexer": "ipython3",
   "version": "3.8.3"
  }
 },
 "nbformat": 4,
 "nbformat_minor": 5
}
