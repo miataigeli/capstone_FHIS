{
 "cells": [
  {
   "cell_type": "markdown",
   "id": "referenced-source",
   "metadata": {},
   "source": [
    "## Read all files from `../corpus/`"
   ]
  },
  {
   "cell_type": "code",
   "execution_count": 11,
   "id": "secondary-corner",
   "metadata": {},
   "outputs": [],
   "source": [
    "from corpus_reader import read_corpus"
   ]
  },
  {
   "cell_type": "code",
   "execution_count": 12,
   "id": "fatal-clear",
   "metadata": {},
   "outputs": [],
   "source": [
    "corpus_path = \"../corpus/\""
   ]
  },
  {
   "cell_type": "code",
   "execution_count": 13,
   "id": "celtic-australian",
   "metadata": {},
   "outputs": [],
   "source": [
    "corpus = read_corpus(corpus_path)"
   ]
  },
  {
   "cell_type": "code",
   "execution_count": 14,
   "id": "bridal-elephant",
   "metadata": {},
   "outputs": [
    {
     "name": "stdout",
     "output_type": "stream",
     "text": [
      "dict_keys(['A1', 'A2', 'B', 'A2/B1'])\n",
      "\n",
      "Number of A1-level texts: 51\n",
      "Number of A2-level texts: 51\n",
      "Number of B-level texts: 110\n",
      "Number of A2/B1-level texts: 31\n"
     ]
    }
   ],
   "source": [
    "print(corpus.keys())\n",
    "print()\n",
    "for k, v in corpus.items():\n",
    "    print(f\"Number of {k}-level texts: {len(v)}\")"
   ]
  }
 ],
 "metadata": {
  "kernelspec": {
   "display_name": "Python 3",
   "language": "python",
   "name": "python3"
  },
  "language_info": {
   "codemirror_mode": {
    "name": "ipython",
    "version": 3
   },
   "file_extension": ".py",
   "mimetype": "text/x-python",
   "name": "python",
   "nbconvert_exporter": "python",
   "pygments_lexer": "ipython3",
   "version": "3.8.3"
  }
 },
 "nbformat": 4,
 "nbformat_minor": 5
}
