{
 "cells": [
  {
   "cell_type": "code",
   "execution_count": 1,
   "id": "earned-stamp",
   "metadata": {},
   "outputs": [],
   "source": [
    "from bs4 import BeautifulSoup, NavigableString\n",
    "from urllib.request import urlopen\n",
    "import re\n",
    "import time\n",
    "import random\n",
    "import os\n",
    "import json\n",
    "from collections import defaultdict\n",
    "from utils import read_corpus"
   ]
  },
  {
   "cell_type": "code",
   "execution_count": 2,
   "id": "pressed-mattress",
   "metadata": {},
   "outputs": [
    {
     "name": "stdout",
     "output_type": "stream",
     "text": [
      "Number of A1-level texts: 94\n",
      "Number of A2-level texts: 62\n",
      "Number of B-level texts: 152\n",
      "total number of texts: 308\n"
     ]
    }
   ],
   "source": [
    "corpus = read_corpus()\n",
    "for k, v in corpus.items():\n",
    "    print(f\"Number of {k}-level texts: {len(v)}\")\n",
    "corpus_A1 = corpus[\"A1\"]\n",
    "corpus_A2 = corpus[\"A2\"]\n",
    "corpus_B = corpus[\"B\"]\n",
    "print(f\"total number of texts: {len(corpus_A1) + len(corpus_A2) + len(corpus_B)}\")\n",
    "\n",
    "# shuffle\n",
    "random.shuffle(corpus_A1)\n",
    "random.shuffle(corpus_A2)\n",
    "random.shuffle(corpus_B)"
   ]
  },
  {
   "cell_type": "code",
   "execution_count": 3,
   "id": "gentle-triple",
   "metadata": {},
   "outputs": [
    {
     "name": "stdout",
     "output_type": "stream",
     "text": [
      "Train size for A1 level: 75\n",
      "Train size for A2 level: 50\n",
      "Train size for B level: 122\n",
      "Validation size for A1 level: 9\n",
      "Validation size for A2 level: 6\n",
      "Validation size for B level: 15\n",
      "Test size for A1 level: 9\n",
      "Test size for A2 level: 6\n",
      "Test size for B level: 15\n"
     ]
    }
   ],
   "source": [
    "A1_train_split = round(len(corpus_A1) * 0.8)\n",
    "A2_train_split = round(len(corpus_A2) * 0.8)\n",
    "B_train_split = round(len(corpus_B) * 0.8)\n",
    "A1_val_split = round(len(corpus_A1) * 0.1)\n",
    "A2_val_split = round(len(corpus_A2) * 0.1)\n",
    "B_val_split = round(len(corpus_B) * 0.1)\n",
    "\n",
    "print(f\"Train size for A1 level: {A1_train_split}\")\n",
    "print(f\"Train size for A2 level: {A2_train_split}\")\n",
    "print(f\"Train size for B level: {B_train_split}\")\n",
    "print(f\"Validation size for A1 level: {A1_val_split}\")\n",
    "print(f\"Validation size for A2 level: {A2_val_split}\")\n",
    "print(f\"Validation size for B level: {B_val_split}\")\n",
    "print(f\"Test size for A1 level: {A1_val_split}\")\n",
    "print(f\"Test size for A2 level: {A2_val_split}\")\n",
    "print(f\"Test size for B level: {B_val_split}\")"
   ]
  },
  {
   "cell_type": "code",
   "execution_count": 4,
   "id": "convenient-stevens",
   "metadata": {},
   "outputs": [
    {
     "name": "stdout",
     "output_type": "stream",
     "text": [
      "Total train size: 248\n",
      "Total validation size: 30\n",
      "Total test size: 30\n",
      "Sum of sizes: 308\n"
     ]
    }
   ],
   "source": [
    "val = corpus_A1[:A1_val_split] + corpus_A2[:A2_val_split] + corpus_B[:B_val_split]\n",
    "test = (\n",
    "    corpus_A1[A1_val_split : A1_val_split * 2]\n",
    "    + corpus_A2[A2_val_split : A2_val_split * 2]\n",
    "    + corpus_B[B_val_split : B_val_split * 2]\n",
    ")\n",
    "train = (\n",
    "    corpus_A1[A1_val_split * 2 :]\n",
    "    + corpus_A2[A2_val_split * 2 :]\n",
    "    + corpus_B[B_val_split * 2 :]\n",
    ")\n",
    "\n",
    "# shuffle\n",
    "random.shuffle(train)\n",
    "random.shuffle(val)\n",
    "random.shuffle(test)\n",
    "\n",
    "# verify\n",
    "print(f\"Total train size: {len(train)}\")\n",
    "print(f\"Total validation size: {len(val)}\")\n",
    "print(f\"Total test size: {len(test)}\")\n",
    "print(f\"Sum of sizes: {len(train) + len(val) + len(test)}\")"
   ]
  },
  {
   "cell_type": "code",
   "execution_count": 5,
   "id": "competent-gardening",
   "metadata": {},
   "outputs": [],
   "source": [
    "X_train = []\n",
    "y_train = []\n",
    "for text in train:\n",
    "    X_train.append(text[\"content\"])\n",
    "    y_train.append(text[\"level\"])\n",
    "\n",
    "X_val = []\n",
    "y_val = []\n",
    "for text in val:\n",
    "    X_val.append(text[\"content\"])\n",
    "    y_val.append(text[\"level\"])\n",
    "\n",
    "X_test = []\n",
    "y_test = []\n",
    "for text in test:\n",
    "    X_test.append(text[\"content\"])\n",
    "    y_test.append(text[\"level\"])"
   ]
  },
  {
   "cell_type": "code",
   "execution_count": 6,
   "id": "dated-peter",
   "metadata": {},
   "outputs": [],
   "source": [
    "# write to file\n",
    "with open(\"../data/train.json\", \"w\", encoding=\"utf-8\") as fout:\n",
    "    json.dump(train, fout)\n",
    "with open(\"../data/val.json\", \"w\", encoding=\"utf-8\") as fout:\n",
    "    json.dump(val, fout)\n",
    "with open(\"../data/test.json\", \"w\", encoding=\"utf-8\") as fout:\n",
    "    json.dump(test, fout)"
   ]
  },
  {
   "cell_type": "code",
   "execution_count": 7,
   "id": "missing-panama",
   "metadata": {},
   "outputs": [],
   "source": [
    "def to_file(split, filename):\n",
    "    \"\"\"\n",
    "    given a train or validation split, write to file\n",
    "\n",
    "    split: (list) list of texts or list of labels\n",
    "    filename: (str) name for the output file\n",
    "    \"\"\"\n",
    "    tofile = \"\"\n",
    "    mode = filename[0]\n",
    "    if mode == \"X\":\n",
    "        for text in split:\n",
    "            tofile += text + \"#\" * 20\n",
    "        tofile = tofile[:-20]\n",
    "\n",
    "        with open(f\"../data/{filename}.txt\", \"w\", encoding=\"utf-8\") as fout:\n",
    "            fout.write(tofile)\n",
    "\n",
    "    elif mode == \"y\":\n",
    "        for label in split:\n",
    "            tofile += label + \"\\n\"\n",
    "        tofile = tofile[:-1]\n",
    "\n",
    "        with open(f\"../data/{filename}.txt\", \"w\", encoding=\"utf-8\") as fout:\n",
    "            fout.write(tofile)"
   ]
  },
  {
   "cell_type": "code",
   "execution_count": 8,
   "id": "behavioral-campus",
   "metadata": {},
   "outputs": [],
   "source": [
    "to_file(X_train, \"X_train\")\n",
    "to_file(y_train, \"y_train\")\n",
    "to_file(X_val, \"X_val\")\n",
    "to_file(y_val, \"y_val\")\n",
    "to_file(X_test, \"X_test\")\n",
    "to_file(y_test, \"y_test\")"
   ]
  }
 ],
 "metadata": {
  "kernelspec": {
   "display_name": "Python 3",
   "language": "python",
   "name": "python3"
  },
  "language_info": {
   "codemirror_mode": {
    "name": "ipython",
    "version": 3
   },
   "file_extension": ".py",
   "mimetype": "text/x-python",
   "name": "python",
   "nbconvert_exporter": "python",
   "pygments_lexer": "ipython3",
   "version": "3.8.3"
  }
 },
 "nbformat": 4,
 "nbformat_minor": 5
}
