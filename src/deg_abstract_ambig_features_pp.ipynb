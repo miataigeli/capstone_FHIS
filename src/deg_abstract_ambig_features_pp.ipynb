{
 "cells": [
  {
   "cell_type": "code",
   "execution_count": 1,
   "id": "opponent-confidence",
   "metadata": {},
   "outputs": [
    {
     "name": "stderr",
     "output_type": "stream",
     "text": [
      "[nltk_data] Downloading package omw to /Users/eun-\n",
      "[nltk_data]     youngchristinapark/nltk_data...\n",
      "[nltk_data]   Package omw is already up-to-date!\n"
     ]
    }
   ],
   "source": [
    "#from utils import text_processor, read_corpus\n",
    "from utils import read_corpus\n",
    "from features import feature_pipeline\n",
    "from collections import defaultdict\n",
    "import os\n",
    "import altair as alt\n",
    "import nltk\n",
    "from nltk.corpus import wordnet as wn\n",
    "import numpy as np\n",
    "nltk.download('omw')\n",
    "import pandas as pd\n",
    "alt.renderers.enable('mimetype')\n",
    "from IPython.display import Image\n",
    "import plotly.io as pio\n",
    "pio.renderers.default = \"plotly_mimetype\""
   ]
  },
  {
   "cell_type": "markdown",
   "id": "environmental-wrong",
   "metadata": {},
   "source": [
    "### Set up the Spanish Wordnet"
   ]
  },
  {
   "cell_type": "code",
   "execution_count": 2,
   "id": "intermediate-density",
   "metadata": {},
   "outputs": [],
   "source": [
    "result_root = '/Users/eun-youngchristinapark/MDS-CAPSTONE/wn-mcr-transform/wordnet_spa'\n",
    "wncr = nltk.corpus.reader.wordnet.WordNetCorpusReader(result_root, None)"
   ]
  },
  {
   "cell_type": "markdown",
   "id": "mechanical-siemens",
   "metadata": {},
   "source": [
    "### Set up the Corpus"
   ]
  },
  {
   "cell_type": "code",
   "execution_count": 3,
   "id": "recreational-missouri",
   "metadata": {},
   "outputs": [],
   "source": [
    "text_dir = '/Users/eun-youngchristinapark/MDS-CAPSTONE/capstone_FHIS/corpus/'\n",
    "file_list = os.listdir(text_dir)\n",
    "corpus = read_corpus(text_dir)"
   ]
  },
  {
   "cell_type": "code",
   "execution_count": 4,
   "id": "controlled-photographer",
   "metadata": {},
   "outputs": [
    {
     "data": {
      "text/plain": [
       "'Me llamo María Pérez y tengo diecinueve años. Nací en Málaga, pero vivo en Granada. Soy estudiante de primer curso de Periodismo. De lunes a viernes me levanto a las siete y media, desayuno y camino hasta la universidad. Entro en clase a las nueve y salgo a la una. Al medio día, como en mi casa y veo la televisión. Por la tarde, estudio hasta las siete y después quedo con mis amigas. A nosotras nos gusta mucho el cine, el teatro y la música. Los viernes por la noche cenamos pizza y bailamos en la discoteca. Todos los sábados visito a mi familia en Málaga. El domingo por la tarde regreso a Granada y, si hace sol, salgo con mi perro a dar un paseo. ¡Me encantan los animales!'"
      ]
     },
     "execution_count": 4,
     "metadata": {},
     "output_type": "execute_result"
    }
   ],
   "source": [
    "corpus_item = corpus['A1'][0]\n",
    "corpus_item['content']"
   ]
  },
  {
   "cell_type": "markdown",
   "id": "urban-subdivision",
   "metadata": {},
   "source": [
    "### Degree of Abstraction (Hypernym levels)\n",
    "\n",
    "This feature is based one of the measures suggested in the paper: \"Coh-Metrix: Analysis of text on cohesion and language\". \n",
    "The authors of the paper suggest that the degree of abstraction can be measured by hypernym values in WordNet. Words having many hypernym levels tend to be more concrete, whereas those with few hupernym levels tend to be more abstract. The authors calculated mean values of hypernym are computed for the words to measure the abstractness of the text. \n",
    "\n",
    "We calculate two measures for Spanish tokens in Spanish text. One is the average degree of abstraction calculated as the average number of levels for the tokens in the text. \n",
    "The other is the min number of hypernym levels of the tokens in the text. This is determined by the most abstract word in the text. \n",
    "\n",
    "Note that abstractness of a text is inversely proportional to the degree of abstraction (number of hypernyms in the WordNet). "
   ]
  },
  {
   "cell_type": "code",
   "execution_count": 5,
   "id": "sensitive-acrobat",
   "metadata": {},
   "outputs": [],
   "source": [
    "def degree_of_abstraction(text):\n",
    "    ''' This function measures degree of abstraction of a text by measuring the distance of its nouns to the top level in the wordnet.\n",
    "    ------------------------------------------------\n",
    "    Argument: text (str)\n",
    "            \n",
    "    Returns: the average degree of abstraction (the higher, less abstract) and the min degree of abstraction in the text \n",
    "    \n",
    "    '''\n",
    "    \n",
    "    tp = feature_pipeline(text)\n",
    "    tp.get_tokens()\n",
    "    tp.get_pos_tags()\n",
    "    top_synset = wncr.synset('entidad.n.01')           # Top synset\n",
    "    sent_nouns, sent_levels = [], []\n",
    "    num_levels, num_nouns = 0.0, 0\n",
    "    \n",
    "    #for i_sent, sent in enumerate(tp.tokens):         # For each sentence        \n",
    "    #    for i_token, token in enumerate(sent):              # For each token \n",
    "    for i_token, token in enumerate(tp.tokens):\n",
    "        token_levels, num_senses = 0.0, 0                    # calculate levels for eacn sense of the token \n",
    "        tag = tp.pos_tags[i_token]\n",
    "        token = token.lower()\n",
    "        synsets = wncr.synsets(token)\n",
    "        if len(synsets) > 0 and tag == 'NOUN': \n",
    "            for synset in synsets:\n",
    "                if synset.name().split('.')[1] == 'n': # only process noun\n",
    "                    try:\n",
    "                        levels = 1/synset.path_similarity(top_synset)\n",
    "                        token_levels += levels\n",
    "                        num_senses += 1\n",
    "                    except:\n",
    "                        pass\n",
    "            if num_senses > 0:    \n",
    "                num_nouns += 1 \n",
    "                sent_nouns.append(token)\n",
    "                sent_levels.append(token_levels/num_senses)\n",
    "                num_levels += token_levels/num_senses            # average level over the senses \n",
    "                \n",
    "    \n",
    "    if num_nouns == 0:\n",
    "        return 1000                                                  # no abstraction \n",
    "    else:\n",
    "        return num_levels/ num_nouns, min(sent_levels)               # first returns the average number of levels in the text, second returns the minimum num of levels in the text  "
   ]
  },
  {
   "cell_type": "markdown",
   "id": "optimum-equity",
   "metadata": {},
   "source": [
    "### Testing\n",
    "\n",
    "#### 1. Boundary Cases\n",
    "\n",
    "These cases ensure that the implementationl handles the boundary cases. "
   ]
  },
  {
   "cell_type": "code",
   "execution_count": 6,
   "id": "experienced-strand",
   "metadata": {},
   "outputs": [],
   "source": [
    "text = ''   # empty strinbg\n",
    "assert degree_of_abstraction(text) == 1000"
   ]
  },
  {
   "cell_type": "code",
   "execution_count": 7,
   "id": "southern-rebecca",
   "metadata": {},
   "outputs": [],
   "source": [
    "text = '1.' # numerical value \n",
    "assert degree_of_abstraction(text) == 1000"
   ]
  },
  {
   "cell_type": "code",
   "execution_count": 8,
   "id": "starting-alarm",
   "metadata": {},
   "outputs": [],
   "source": [
    "text = 'Maria'  # proper noun \n",
    "assert degree_of_abstraction(text) == 1000"
   ]
  },
  {
   "cell_type": "markdown",
   "id": "random-science",
   "metadata": {},
   "source": [
    "#### 2. Brute Force vs. Implementation\n",
    "\n",
    "This section shows the details of each text. It calculates each noun in the text and shows the number of levels to the top synset and the average number of levels.\n",
    "Then, it shows the degree of abstraction calculated using brute force approach and the results of implementation.\n",
    "If they are equal, we can be assured of the correct implementation. \n",
    "\n",
    "Please note that we print out all the details to make debugging easy (in case there are bugs). Therefore, the codes in this section are not necessarily the most efficient because the purpose of this section is to make potential errors conspicuous. \n",
    "\n",
    "##### 2.1)  A very simple case"
   ]
  },
  {
   "cell_type": "code",
   "execution_count": 9,
   "id": "false-breach",
   "metadata": {},
   "outputs": [
    {
     "name": "stdout",
     "output_type": "stream",
     "text": [
      "escuela\n",
      "8.0\n",
      "6.0\n",
      "8.0\n",
      "9.0\n",
      "average: 7.75 \n",
      "\n",
      "Bruce force: 7.75\n",
      "Implementation: 7.75\n",
      "\n",
      "Bruce force: 7.75\n",
      "Implementation: 7.75\n"
     ]
    }
   ],
   "source": [
    "top_synset = wncr.synset('entidad.n.01')\n",
    "text = 'Voy a la escuela.'\n",
    "\n",
    "tp = feature_pipeline(text)\n",
    "tp.get_tokens()\n",
    "tp.get_pos_tags()\n",
    "text_nouns = []\n",
    "text_levels = []\n",
    "\n",
    "\n",
    "#for i_sent, sent in enumerate(tp.pos_tags):\n",
    "#    for i_tag, tag in enumerate(sent):\n",
    "for i_tag, tag in enumerate(tp.pos_tags):\n",
    "    if tag == 'NOUN':\n",
    "        token_level = 0\n",
    "        num_senses = 0\n",
    "        print(tp.tokens[i_tag])\n",
    "            \n",
    "        synsets = wncr.synsets(tp.tokens[i_tag])\n",
    "        for synset in synsets:\n",
    "            if synset.name().split('.')[1]=='n': # noun\n",
    "                try:\n",
    "                    token_level += 1.0/synset.path_similarity(top_synset)\n",
    "                    num_senses += 1\n",
    "                    print(1.0/synset.path_similarity(top_synset))\n",
    "                except:\n",
    "                    pass\n",
    "        if num_senses > 0:\n",
    "            text_nouns.append(tp.tokens[i_tag])\n",
    "            text_levels.append(token_level/num_senses)        \n",
    "            print(f'average: {token_level/num_senses} \\n')\n",
    "\n",
    "avg, min_level = degree_of_abstraction(text)\n",
    "print(f'Bruce force: {np.mean(text_levels)}')\n",
    "print(f'Implementation: {avg}\\n')\n",
    "\n",
    "print(f'Bruce force: {min(text_levels)}')\n",
    "print(f'Implementation: {min_level}')"
   ]
  },
  {
   "cell_type": "code",
   "execution_count": 10,
   "id": "determined-depth",
   "metadata": {},
   "outputs": [
    {
     "name": "stdout",
     "output_type": "stream",
     "text": [
      "8.0\n",
      "6.0\n",
      "8.0\n",
      "9.0\n"
     ]
    }
   ],
   "source": [
    "wncr.synsets('escuela')\n",
    "print(1/wncr.synsets('escuela')[0].path_similarity(top_synset))\n",
    "print(1/wncr.synsets('escuela')[1].path_similarity(top_synset))\n",
    "print(1/wncr.synsets('escuela')[2].path_similarity(top_synset))\n",
    "print(1/wncr.synsets('escuela')[3].path_similarity(top_synset))"
   ]
  },
  {
   "cell_type": "markdown",
   "id": "micro-characteristic",
   "metadata": {},
   "source": [
    "##### 2.2) Moderate cases"
   ]
  },
  {
   "cell_type": "code",
   "execution_count": 11,
   "id": "personal-ecology",
   "metadata": {},
   "outputs": [
    {
     "name": "stdout",
     "output_type": "stream",
     "text": [
      "Me llamo María Pérez y tengo diecinueve años. Nací en Málaga, pero vivo en Granada. Soy estudiante de primer curso de Periodismo. De lunes a viernes me levanto a las siete y media, desayuno y camino hasta la universidad. Entro en clase a las nueve y salgo a la una. Al medio día, como en mi casa y veo la televisión. Por la tarde, estudio hasta las siete y después quedo con mis amigas. A nosotras nos gusta mucho el cine, el teatro y la música. Los viernes por la noche cenamos pizza y bailamos en la discoteca. Todos los sábados visito a mi familia en Málaga. El domingo por la tarde regreso a Granada y, si hace sol, salgo con mi perro a dar un paseo. ¡Me encantan los animales! \n",
      "\n",
      "Bruce force: 7.878182749150491\n",
      "Implementation: 7.878182749150491\n",
      "\n",
      "Bruce force: 6.0\n",
      "Implementation: 6.0\n"
     ]
    }
   ],
   "source": [
    "text = corpus['A1'][0]['content']\n",
    "print(text, '\\n')\n",
    "\n",
    "tp = feature_pipeline(text)\n",
    "tp.get_tokens()\n",
    "tp.get_pos_tags()\n",
    "text_nouns = []\n",
    "text_levels = []\n",
    "\n",
    "for i_tag, tag in enumerate(tp.pos_tags):\n",
    "    if tag == 'NOUN':\n",
    "        token_level = 0\n",
    "        num_senses = 0\n",
    "        #print(tp.tokens[i_tag])\n",
    "            \n",
    "        synsets = wncr.synsets(tp.tokens[i_tag])\n",
    "        for synset in synsets:\n",
    "            if synset.name().split('.')[1]=='n': # noun\n",
    "                try:\n",
    "                    token_level += 1.0/synset.path_similarity(top_synset)\n",
    "                    num_senses += 1\n",
    "                    #print(1.0/synset.path_similarity(top_synset))\n",
    "                except:\n",
    "                    pass\n",
    "        if num_senses > 0:\n",
    "            text_nouns.append(tp.tokens[i_tag])\n",
    "            text_levels.append(token_level/num_senses)        \n",
    "            #print(f'average: {token_level/num_senses} \\n')\n",
    "\n",
    "avg, min_level = degree_of_abstraction(text)\n",
    "print(f'Bruce force: {np.mean(text_levels)}')\n",
    "print(f'Implementation: {avg}\\n')\n",
    "\n",
    "print(f'Bruce force: {min(text_levels)}')\n",
    "print(f'Implementation: {min_level}')"
   ]
  },
  {
   "cell_type": "code",
   "execution_count": 12,
   "id": "running-death",
   "metadata": {},
   "outputs": [
    {
     "name": "stdout",
     "output_type": "stream",
     "text": [
      "Capítulo I \n",
      "Que trata de la condición y ejercicio del famoso\n",
      "hi dalgo don Quijote de la Mancha  \n",
      " de cuyo nombre no \n",
      "quiero acordarme, no ha mucho tiempo que vivía un hidalgo \n",
      "de los de lanza en astillero, adarga antigua, rocín flaco y galgo \n",
      "corredor. Una olla de algo más vaca que carnero, salpicón las \n",
      "más noches, duelos y quebrantos los sábados, lentejas los \n",
      "viernes, algún palomino de añadidura los domingos, consumían \n",
      "las tres partes de su hacienda. El resto della concluían sayo \n",
      "de velarte, calzas de velludo para las fiestas, con sus pantu-\n",
      "flos de lo mesmo, y los días de entresemana se honraba consu \n",
      "vellorí de lo más fino. Tenía en su casa una ama que pasaba  \n",
      "de los cuarenta, y una sobrina que no llegaba a los veinte, y \n",
      "un mozo de campo y plaza, que así ensillaba el rocín como \n",
      "tomaba la podadera. Frisaba la edad de nuestro hidalgo con los  \n",
      "cincuenta años; era de complexión recia, seco de carnes, enjuto de \n",
      "rostro, gran madrugador y amigo de la caza. Quieren decir que tenía el \n",
      "sobrenombre \n",
      "de Quijada o \n",
      "Quesada, que en \n",
      "esto hay alguna  \n",
      "diferencia en los\n",
      "autores que deste \n",
      "caso escriben; \n",
      "aunque, por\n",
      "conjeturas vero-\n",
      "símiles, se deja \n",
      "entender que se \n",
      "lla maba Quejana. \n",
      "Pero esto importa\n",
      "poco a nuestro  \n",
      "cuento; basta \n",
      "que en la narra-\n",
      "ción dél no se \n",
      "salga un punto \n",
      "de la verdad.  Es, pues, de saber que este sobredicho hidalgo, los ratos que \n",
      "estaba ocioso, que eran los más del año, se daba a leer libros de \n",
      "caballerías, con tanta afición y gusto, que olvidó casi de todo \n",
      "punto el ejercicio de la caza y aun la administración de su       \n",
      "hacienda; y llegó a tanto su curiosidad y desatino en esto, que \n",
      "vendió muchas hanegas de tierra de sembradura para  \n",
      "comprar libros de caballerías en que leer, y así, llevó a su casa  \n",
      "todos cuantos pudo haber dellos; y de todos, ningunos le parecían \n",
      "tan bien como los que compuso el famoso Feliciano de Silva, porque \n",
      "la claridad de su prosa y aquellas entricadas razones suyas le parecían \n",
      "de perlas, y más cuando llegaba a leer aquellos requiebros y cartas \n",
      "de desafíos, donde en muchas partes hallaba escrito: La razón de la \n",
      "sinrazón que a mi razón se hace, de tal manera mi razón enflaquece, que \n",
      "con razón me quejo de la vuestra fermosura*. Y también cuando leía; \n",
      "…los altos cielos que de vuestra divinidad divinamente con las estrellas os \n",
      "fortifican y os hacen merecedora del merecimiento que merece la vuestra  \n",
      "grandeza. \n",
      " Con estas razones perdía el pobre caballero el juicio, \n",
      "y desvelábase por entenderlas y desentrañarles el sentido,  \n",
      "que no se lo sacara ni las entendiera el mesmo Aristóteles, si     \n",
      "resucitara para sólo ello. No estaba muy bien con las heridas \n",
      "que don Belianís daba y recebía, porque se imaginaba que, por  \n",
      "grandes maestros que le hubiesen curado, no dejaría de tener  \n",
      "el rostro y todo el cuerpo lleno de cicatrices y señales. Pero, \n",
      "con todo, alababa en su autor aquel acabar su libro con la   \n",
      "promesa de aquella inacabable aventura, y muchas veces le vino \n",
      "deseo de tomar la pluma y dalle fin al pie de la letra, como allí \n",
      "se promete; y sin duda alguna lo hiciera, y aun saliera con ello, \n",
      "si otros mayores y continuos pensamientos no se lo estorbaran. \n",
      "Tuvo muchas veces competencia con el cura de su lugar —que \n",
      "era hombre docto, graduado en Sigüenza—, sobre cuál había \n",
      "sido mejor caballero; Palmerín de Inglaterra o Amadís de \n",
      "Gaula; mas maese Nicolás, barbero del mesmo pueblo, decía \n",
      "que     ninguno llegaba al Caballero del Febo, y que si alguno se le  \n",
      "podía comparar, era don Galaor, hermano de Amadís de Gaula, \n",
      "porque tenía muy acomodada condición para todo; que no eracaballero melindroso, ni tan llorón como su hermano, y que en lo \n",
      "de la valentía no le iba en zaga. \n",
      " En resolución, él se enfrascó tanto en su lectura, que se \n",
      "le pasaban las noches leyendo de claro en claro, y los días de     \n",
      "turbio en turbio; y así, del poco dormir y del mucho leer, se  \n",
      "le secó el cerebro, de manera que vino a perder el juicio.      \n",
      "Llenósele la fantasía de todo aquello que leía en los libros, así de \n",
      "encantamientos como de pendencias, batallas, desafíos, heridas, \n",
      "requiebros, amores, tormentas y disparates imposibles; y \n",
      "asentósele de tal modo en la imaginación que era verdad toda \n",
      "aquella máquina de aquellas sonadas soñadas invenciones que \n",
      "leía, que para él no había otra historia más cierta en el mundo. \n",
      "Decía él que el Cid Ruy Díaz había sido muy buen caballero,   \n",
      "pero que no tenía que ver con el Caballero de la Ardiente \n",
      "Espada, que de sólo un revés había partido por medio dos  \n",
      "fieros y descomunales gigantes. Mejor estaba con Bernardo \n",
      "del Carpio, porque en Roncesvalles había muerto a Roldán, el \n",
      "encantado, valiéndose de la industria de Hércules, cuando ahogó \n",
      "a Anteo, el hijo de la Tierra, entre los brazos. Decía mucho bien \n",
      "del gigante Morgante, porque, con ser de aquella generación  \n",
      "gigantea, que todos son soberbios y descomedidos, él solo  \n",
      "era afable y bien criado. Pero, sobre todos, estaba bien con   \n",
      "Reinaldos de Montalbán, y más cuando le veía salir de su castillo \n",
      "y robar cuantos topaba, y cuando en allende robó aquel ídolo  \n",
      "de Mahoma que era todo de oro, según dice su historia. Diera él, \n",
      "por dar una mano de coces al traidor de Galalón, al ama que tenía \n",
      "y aun a su sobrina de añadidura. \n",
      " En efecto, rematado ya su juicio, vino a dar en el más       \n",
      "extraño pensamiento que jamás dio loco en el mundo; y fue \n",
      "que le pareció convenible y necesario, así para el aumento de \n",
      "su honra como para el servicio de su república, hacerse caballero \n",
      "andante, e irse por todo el mundo con sus armas y caballo \n",
      "a buscar las aventuras y a ejercitarse en todo aquello que él  \n",
      "había leído que los caballeros andantes se ejercitaban, deshaciendo todo género de agravio, y poniéndose en ocasiones y peligros \n",
      "donde, acabándolos, cobrase eterno nombre y fama Imaginábase el \n",
      "pobre ya coronado por el valor de su brazo, por lo menos, del imperio \n",
      "de Trapisonda; y así, con estos tan agradables pensamientos, llevado \n",
      "del extraño gusto que en ellos sentía, se dio priesa a poner en efeto \n",
      "lo que deseaba. \n",
      " Y lo primero que hizo fue limpiar unas armas que habían \n",
      "sido de sus bisabuelos, que, tomadas de orín y llenas de moho, \n",
      "luengos siglos había que estaban puestas y olvidadas en un \n",
      "rincón. Limpiólas y aderezólas lo mejor que pudo, pero \n",
      "vio que tenían una gran falta, y era que no tenían celada de        \n",
      "encaje, sino morrión simple (era solamente media celada);  \n",
      "mas a esto suplió su industria, porque de cartones hizo un  \n",
      "modo de media celada (una visera), que, encajada con el         \n",
      "morrión, hacían una apariencia de celada entera. Es verdad que  \n",
      "para probar si era fuerte y podía estar al riesgo de una  \n",
      "cuchillada, sacó su espada y le dio dos golpes, y con el primero  \n",
      "y en un punto deshizo lo que había hecho en una semana; y no \n",
      "dejó de parecerle mal la facilidad con que la había hecho       \n",
      "pedazos, y, por asegurarse deste peligro, la tornó a hacer de nuevo, \n",
      "poniéndole unas barras de hierro por de dentro, de tal manera \n",
      "que él quedó satisfecho de su fortaleza; y, sin querer hacer nueva \n",
      "experiencia della, la diputó y tuvo por celada finísima de encaje. \n",
      " Fue luego a ver su rocín, y, aunque tenía más cuartos que un \n",
      "real y más tachas que el caballo de Gonela, que tantum pellis et \n",
      "ossa fuit, le pareció que ni el Bucéfalo de Alejandro ni Babieca el \n",
      "del Cid con él se igualaban. Cuatro días se le pasaron en imaginar \n",
      "qué nombre le pondría; porque, según se decía él a sí mesmo, no \n",
      "era razón que caballo de caballero tan famoso, y tan bueno él por sí, \n",
      "estuviese sin nombre conocido; y ansí, procuraba acomodársele de \n",
      "manera que declarase quién había sido, antes que fuese de caballero \n",
      "andante, y lo que era  entonces; pues estaba muy puesto en razón que, \n",
      "mudando su señor estado, mudase él también el nombre, y cobrase   \n",
      "famoso y de estruendo, como convenía a la nueva orden y al nuevo \n",
      "ejercicio que ya profesaba. Y así, después de muchos nombres  \n",
      "que formó, borró y quitó, añadió, deshizo y tornó a hacer en   \n",
      "su memoria e imaginación, al fin le vino a llamar Rocinante, \n",
      "nombre, a su parecer, alto, sonoro y significativo de lo que  \n",
      "había sido cuando fue rocín, antes de lo que ahora era, que era \n",
      "antes y primero de todos los rocines del mundo. Puesto nombre, y tan a su gusto, a su caballo, quiso  \n",
      "ponérsele a sí mismo, y en este pensamiento duró otros ocho  \n",
      "días, y al cabo se vino a llamar don Quijote; de donde, como  \n",
      "queda dicho, tomaron ocasión los autores desta tan verdadera \n",
      "historia que, sin duda, se debía de llamar Quijada, y no Quesada, \n",
      "como otros quisieron decir. Pero, acordándose que el valeroso  \n",
      "Amadís no sólo se había contentado con llamarse Amadís  \n",
      "a secas, sino que añadió el nombre de su reino y patria, por \n",
      "Hepila famosa, y se llamó Amadís de Gaula, así quiso, como \n",
      "buen caballero, añadir al suyo el nombre de la suya y llamarse \n",
      "don Quijote de la Mancha, con que, a su parecer, declaraba muy al  \n",
      "vivo su linaje y patria, y la honraba con tomar el sobrenombre  \n",
      "della. \n",
      " Limpias, pues, sus armas, hecho del morrión celada, \n",
      "puesto nombre a su rocín y confirmándose a sí mismo, se dio a \n",
      "entender que no le faltaba otra cosa sino buscar una dama de quien \n",
      "enamorarse; porque el caballero andante sin amores era árbol sin \n",
      "hojas y sin fruto y cuerpo sin alma. Decíase él: \n",
      " —Si yo, por malos de mis pecados, o por mi buena suerte, \n",
      "me encuentro por ahí con algún gigante, como de ordinario les  \n",
      "acontece a los caballeros andantes, y le derribo de un encuentro, o le \n",
      "parto por mitad del cuerpo, o, finalmente, le venzo y le rindo, \n",
      "rendido.\n",
      " —Yo, señora, soy el gigante Caraculiambro, señor de la \n",
      "ínsula Malindrania, a quien venció en singular batalla el jamás  \n",
      "como se debe alabado caballero don Quijote de la Mancha, el  \n",
      "cual me mandó que me presentase ante vuestra merced, para  \n",
      "que la vuestra grandeza disponga de mí a su talante. Capítulo 2  \n",
      " ¡Oh, cómo se holgó nuestro buen caballero cuando hubo \n",
      "hecho este discurso, y más cuando halló a quien dar nombre de \n",
      "su dama! Y fue, a lo que se cree, que en un lugar cerca del suyo \n",
      "había una moza labradora de muy buen parecer, de quien él un \n",
      "tiempo anduvo enamorado, aunque, según se entiende, ella jamás \n",
      "lo supo, ni le dio cata dello. Llamábase Aldonza Lorenzo, y a \n",
      "ésta le pareció ser bien darle título de señora de sus pensamientos; \n",
      "y, buscándole nombre que no desdijese mucho del suyo, y que \n",
      "tirase y se encaminase al de princesa y gran señora, vino a lla marla \n",
      "Dulcinea del Toboso, porque era natural del Toboso; nombre, a su \n",
      "parecer, músico y peregrino y significativo, como todos los demás \n",
      "que a él y a sus cosas había puesto. \n",
      "Bruce force: 7.607084083103468\n",
      "Implementation: 7.607084083103472\n",
      "\n",
      "Bruce force: 5.0\n",
      "Implementation: 5.0\n"
     ]
    }
   ],
   "source": [
    "text = corpus['A2'][0]['content']\n",
    "print(text)\n",
    "\n",
    "tp = feature_pipeline(text)\n",
    "tp.get_tokens()\n",
    "tp.get_pos_tags()\n",
    "text_nouns = []\n",
    "text_levels = []\n",
    "\n",
    "for i_tag, tag in enumerate(tp.pos_tags):\n",
    "    if tag == 'NOUN':\n",
    "        token_level = 0\n",
    "        num_senses = 0\n",
    "        #print(tp.tokens[i_tag])\n",
    "            \n",
    "        synsets = wncr.synsets(tp.tokens[i_tag])\n",
    "        for synset in synsets:\n",
    "            if synset.name().split('.')[1]=='n': # noun\n",
    "                try:\n",
    "                    token_level += 1.0/synset.path_similarity(top_synset)\n",
    "                    num_senses += 1\n",
    "                    #print(1.0/synset.path_similarity(top_synset))\n",
    "                except:\n",
    "                    pass\n",
    "        if num_senses > 0:\n",
    "            text_nouns.append(tp.tokens[i_tag])\n",
    "            text_levels.append(token_level/num_senses)        \n",
    "            #print(f'average: {token_level/num_senses} \\n')\n",
    "\n",
    "avg, min_level = degree_of_abstraction(text)\n",
    "print(f'Bruce force: {np.mean(text_levels)}')\n",
    "print(f'Implementation: {avg}\\n')\n",
    "\n",
    "print(f'Bruce force: {min(text_levels)}')\n",
    "print(f'Implementation: {min_level}')"
   ]
  },
  {
   "cell_type": "code",
   "execution_count": 13,
   "id": "attached-afghanistan",
   "metadata": {},
   "outputs": [
    {
     "name": "stdout",
     "output_type": "stream",
     "text": [
      "Mark está de viaje de negocios en Barcelona. Hoy tuvo un día libre y salió a visitar la ciudad. Primero, caminó por La Rambla, la calle más famosa de Barcelona, llena de gente, tiendas y restaurantes. Se dirigió al Barrio Gótico, uno de los sitios más antiguos y bellos de la ciudad. En la Plaza Sant Jaume observó dos de los edificios más importantes: El Palacio de la Generalitat de Catalunya y el Ayuntamiento. Volvió a La Rambla. Mark tenía hambre y se detuvo a comer unas tapas y beber una cerveza. Continuó hasta la grande y hermosa Plaza de Catalunya. Avanzó por el Paseo de Gràcia hasta llegar a un edificios fuera de lo común Casa Batlló y luego a Casa Milà, diseños del arquitecto Antoni Gaudí. Quiso saber más sobre este famoso arquitecto y se dirigió al Park Güell, donde tomó muchas fotografías. El día se acababa pero antes de volver al hotel, Mark tomó un taxi hacia la Fuente Mágica y disfrutó de un espectáculo de agua y luces. Mark quedó sorprendido con esta gran ciudad y sintió que le faltó tiempo para conocer más lugares interesantes. Se prometió regresar para tomar unas vacaciones con su familia.\n",
      "Bruce force: 7.720528594212806\n",
      "Implementation: 7.720528594212805\n",
      "\n",
      "Bruce force: 4.0\n",
      "Implementation: 4.0\n"
     ]
    }
   ],
   "source": [
    "text = corpus['B1'][0]['content']\n",
    "print(text)\n",
    "\n",
    "tp = feature_pipeline(text)\n",
    "tp.get_tokens()\n",
    "tp.get_pos_tags()\n",
    "text_nouns = []\n",
    "text_levels = []\n",
    "\n",
    "for i_tag, tag in enumerate(tp.pos_tags):\n",
    "    if tag == 'NOUN':\n",
    "        token_level = 0\n",
    "        num_senses = 0\n",
    "        #print(tp.tokens[i_tag])\n",
    "            \n",
    "        synsets = wncr.synsets(tp.tokens[i_tag])\n",
    "        for synset in synsets:\n",
    "            if synset.name().split('.')[1]=='n': # noun\n",
    "                try:\n",
    "                    token_level += 1.0/synset.path_similarity(top_synset)\n",
    "                    num_senses += 1\n",
    "                    #print(1.0/synset.path_similarity(top_synset))\n",
    "                except:\n",
    "                    pass\n",
    "        if num_senses > 0:\n",
    "            text_nouns.append(tp.tokens[i_tag])\n",
    "            text_levels.append(token_level/num_senses)        \n",
    "            #print(f'average: {token_level/num_senses} \\n')\n",
    "\n",
    "avg, min_level = degree_of_abstraction(text)\n",
    "print(f'Bruce force: {np.mean(text_levels)}')\n",
    "print(f'Implementation: {avg}\\n')\n",
    "\n",
    "print(f'Bruce force: {min(text_levels)}')\n",
    "print(f'Implementation: {min_level}')"
   ]
  },
  {
   "cell_type": "markdown",
   "id": "covered-algorithm",
   "metadata": {},
   "source": [
    "##### Run through Corpora"
   ]
  },
  {
   "cell_type": "code",
   "execution_count": 38,
   "id": "expired-meeting",
   "metadata": {},
   "outputs": [
    {
     "name": "stdout",
     "output_type": "stream",
     "text": [
      "Error A1 27\n",
      "Error A1 81\n",
      "Error B 34\n"
     ]
    }
   ],
   "source": [
    "level_list = ['A1', 'A2', 'B', 'B1']\n",
    "level_degree_abstraction = defaultdict(list)\n",
    "for level in level_list:\n",
    "    corpus_item = corpus[level]\n",
    "    for i, text_item in enumerate(corpus_item):\n",
    "        try: \n",
    "            da_avg, da_min = degree_of_abstraction(text_item['content'])\n",
    "            level_degree_abstraction['level'].append(level)\n",
    "            level_degree_abstraction['abstraction_min'].append(da_min)    # pick out the most abstract word in each text \n",
    "            level_degree_abstraction['abstraction_avg'].append(da_avg)    # average abstractness in each text \n",
    "            \n",
    "        except:\n",
    "            print(f'Error', level, i)\n",
    "            pass"
   ]
  },
  {
   "cell_type": "code",
   "execution_count": 39,
   "id": "olive-peeing",
   "metadata": {},
   "outputs": [],
   "source": [
    "text_item = corpus['A1'][27]['content']\n",
    "da_avg, da_min = degree_of_abstraction(text_item)\n",
    "level_degree_abstraction['level'].append('A1')\n",
    "level_degree_abstraction['abstraction_min'].append(da_min)    # pick out the most abstract word in each text \n",
    "level_degree_abstraction['abstraction_avg'].append(da_avg)\n",
    "\n",
    "text_item = corpus['A1'][81]['content']\n",
    "da_avg, da_min = degree_of_abstraction(text_item)\n",
    "level_degree_abstraction['level'].append('A1')\n",
    "level_degree_abstraction['abstraction_min'].append(da_min)    # pick out the most abstract word in each text \n",
    "level_degree_abstraction['abstraction_avg'].append(da_avg)\n",
    "\n",
    "\n",
    "text_item = corpus['B'][34]['content']\n",
    "da_avg, da_min = degree_of_abstraction(text_item)\n",
    "level_degree_abstraction['level'].append('B')\n",
    "level_degree_abstraction['abstraction_min'].append(da_min)    # pick out the most abstract word in each text \n",
    "level_degree_abstraction['abstraction_avg'].append(da_avg)"
   ]
  },
  {
   "cell_type": "markdown",
   "id": "approved-montana",
   "metadata": {},
   "source": [
    "##### Show the distribution by level"
   ]
  },
  {
   "cell_type": "code",
   "execution_count": 42,
   "id": "hydraulic-rider",
   "metadata": {},
   "outputs": [
    {
     "data": {
      "application/vnd.vegalite.v4+json": {
       "$schema": "https://vega.github.io/schema/vega-lite/v4.8.1.json",
       "config": {
        "view": {
         "continuousHeight": 300,
         "continuousWidth": 400
        }
       },
       "data": {
        "name": "data-06a0e44559d4729bc9f1df453a071628"
       },
       "datasets": {
        "data-06a0e44559d4729bc9f1df453a071628": [
         {
          "abstraction_avg": 7.878182749150491,
          "abstraction_min": 6,
          "level": "A1"
         },
         {
          "abstraction_avg": 7.712613636363637,
          "abstraction_min": 5,
          "level": "A1"
         },
         {
          "abstraction_avg": 8.623626893939395,
          "abstraction_min": 5.75,
          "level": "A1"
         },
         {
          "abstraction_avg": 7.840584415584416,
          "abstraction_min": 5.75,
          "level": "A1"
         },
         {
          "abstraction_avg": 7.6208086785009845,
          "abstraction_min": 5,
          "level": "A1"
         },
         {
          "abstraction_avg": 9.716150005805185,
          "abstraction_min": 5.5,
          "level": "A1"
         },
         {
          "abstraction_avg": 7.858567821067821,
          "abstraction_min": 5,
          "level": "A1"
         },
         {
          "abstraction_avg": 9.280816849046019,
          "abstraction_min": 5,
          "level": "A1"
         },
         {
          "abstraction_avg": 8.232344187455789,
          "abstraction_min": 5,
          "level": "A1"
         },
         {
          "abstraction_avg": 7.449260042283298,
          "abstraction_min": 5,
          "level": "A1"
         },
         {
          "abstraction_avg": 7.845590038171446,
          "abstraction_min": 4,
          "level": "A1"
         },
         {
          "abstraction_avg": 7.370432586736934,
          "abstraction_min": 6,
          "level": "A1"
         },
         {
          "abstraction_avg": 7.075384615384616,
          "abstraction_min": 5,
          "level": "A1"
         },
         {
          "abstraction_avg": 7.6295813204185325,
          "abstraction_min": 5,
          "level": "A1"
         },
         {
          "abstraction_avg": 7.826977343644009,
          "abstraction_min": 6,
          "level": "A1"
         },
         {
          "abstraction_avg": 7.591079044412377,
          "abstraction_min": 5,
          "level": "A1"
         },
         {
          "abstraction_avg": 7.742750098601162,
          "abstraction_min": 5,
          "level": "A1"
         },
         {
          "abstraction_avg": 8.37469280433198,
          "abstraction_min": 5.5,
          "level": "A1"
         },
         {
          "abstraction_avg": 7.4305785123966945,
          "abstraction_min": 5,
          "level": "A1"
         },
         {
          "abstraction_avg": 7.6451741870903565,
          "abstraction_min": 5,
          "level": "A1"
         },
         {
          "abstraction_avg": 8.604939000393546,
          "abstraction_min": 5.2,
          "level": "A1"
         },
         {
          "abstraction_avg": 8.496363636363636,
          "abstraction_min": 5.5,
          "level": "A1"
         },
         {
          "abstraction_avg": 7.996111111111111,
          "abstraction_min": 5.75,
          "level": "A1"
         },
         {
          "abstraction_avg": 7.714643327686806,
          "abstraction_min": 5.7272727272727275,
          "level": "A1"
         },
         {
          "abstraction_avg": 7.764955679241394,
          "abstraction_min": 5,
          "level": "A1"
         },
         {
          "abstraction_avg": 8.280932246048522,
          "abstraction_min": 6.666666666666667,
          "level": "A1"
         },
         {
          "abstraction_avg": 7.116883116883117,
          "abstraction_min": 6.666666666666667,
          "level": "A1"
         },
         {
          "abstraction_avg": 8.153206757011104,
          "abstraction_min": 5,
          "level": "A1"
         },
         {
          "abstraction_avg": 7.973781773781773,
          "abstraction_min": 5,
          "level": "A1"
         },
         {
          "abstraction_avg": 7.64236366359008,
          "abstraction_min": 6,
          "level": "A1"
         },
         {
          "abstraction_avg": 7.441269841269841,
          "abstraction_min": 6,
          "level": "A1"
         },
         {
          "abstraction_avg": 7.375562072336266,
          "abstraction_min": 5.7272727272727275,
          "level": "A1"
         },
         {
          "abstraction_avg": 8.611458333333337,
          "abstraction_min": 6.333333333333333,
          "level": "A1"
         },
         {
          "abstraction_avg": 8.206646825396826,
          "abstraction_min": 6.944444444444445,
          "level": "A1"
         },
         {
          "abstraction_avg": 6.972500000000001,
          "abstraction_min": 6,
          "level": "A1"
         },
         {
          "abstraction_avg": 7.303819444444444,
          "abstraction_min": 4,
          "level": "A1"
         },
         {
          "abstraction_avg": 7.729864433811802,
          "abstraction_min": 5.2,
          "level": "A1"
         },
         {
          "abstraction_avg": 7.908333333333333,
          "abstraction_min": 6,
          "level": "A1"
         },
         {
          "abstraction_avg": 7.193253968253968,
          "abstraction_min": 5,
          "level": "A1"
         },
         {
          "abstraction_avg": 7.918376068376068,
          "abstraction_min": 6,
          "level": "A1"
         },
         {
          "abstraction_avg": 7.341649091649091,
          "abstraction_min": 6.166666666666667,
          "level": "A1"
         },
         {
          "abstraction_avg": 8.380952380952381,
          "abstraction_min": 6.571428571428571,
          "level": "A1"
         },
         {
          "abstraction_avg": 7.930308334422258,
          "abstraction_min": 5.7272727272727275,
          "level": "A1"
         },
         {
          "abstraction_avg": 7.978131506822783,
          "abstraction_min": 4,
          "level": "A1"
         },
         {
          "abstraction_avg": 7.46010101010101,
          "abstraction_min": 6.166666666666667,
          "level": "A1"
         },
         {
          "abstraction_avg": 6.784598734598733,
          "abstraction_min": 4,
          "level": "A1"
         },
         {
          "abstraction_avg": 7.533187645687646,
          "abstraction_min": 5.833333333333333,
          "level": "A1"
         },
         {
          "abstraction_avg": 8.066041948331108,
          "abstraction_min": 4,
          "level": "A1"
         },
         {
          "abstraction_avg": 7.791321121486413,
          "abstraction_min": 4,
          "level": "A1"
         },
         {
          "abstraction_avg": 7.664120180101192,
          "abstraction_min": 4,
          "level": "A1"
         },
         {
          "abstraction_avg": 8.00248485174956,
          "abstraction_min": 4,
          "level": "A1"
         },
         {
          "abstraction_avg": 8.353351922362927,
          "abstraction_min": 4,
          "level": "A1"
         },
         {
          "abstraction_avg": 8.866841659909575,
          "abstraction_min": 5,
          "level": "A1"
         },
         {
          "abstraction_avg": 8.188309617843295,
          "abstraction_min": 5,
          "level": "A1"
         },
         {
          "abstraction_avg": 7.4649291633454515,
          "abstraction_min": 5.2,
          "level": "A1"
         },
         {
          "abstraction_avg": 7.612064379117104,
          "abstraction_min": 4,
          "level": "A1"
         },
         {
          "abstraction_avg": 7.525586737453824,
          "abstraction_min": 5.5,
          "level": "A1"
         },
         {
          "abstraction_avg": 7.68198281879348,
          "abstraction_min": 4,
          "level": "A1"
         },
         {
          "abstraction_avg": 7.640536991744875,
          "abstraction_min": 4,
          "level": "A1"
         },
         {
          "abstraction_avg": 8.108828035535698,
          "abstraction_min": 4,
          "level": "A1"
         },
         {
          "abstraction_avg": 7.490429311671142,
          "abstraction_min": 5.2,
          "level": "A1"
         },
         {
          "abstraction_avg": 7.596494088823629,
          "abstraction_min": 5,
          "level": "A1"
         },
         {
          "abstraction_avg": 7.591782147139811,
          "abstraction_min": 4,
          "level": "A1"
         },
         {
          "abstraction_avg": 7.433406761970809,
          "abstraction_min": 4,
          "level": "A1"
         },
         {
          "abstraction_avg": 7.83037560127591,
          "abstraction_min": 5,
          "level": "A1"
         },
         {
          "abstraction_avg": 7.090121101047151,
          "abstraction_min": 4,
          "level": "A1"
         },
         {
          "abstraction_avg": 7.933734668109667,
          "abstraction_min": 5,
          "level": "A1"
         },
         {
          "abstraction_avg": 7.383567821067822,
          "abstraction_min": 5.5,
          "level": "A1"
         },
         {
          "abstraction_avg": 7.6511722595511085,
          "abstraction_min": 4,
          "level": "A1"
         },
         {
          "abstraction_avg": 7.44885377780114,
          "abstraction_min": 5,
          "level": "A1"
         },
         {
          "abstraction_avg": 7.167541396262768,
          "abstraction_min": 4,
          "level": "A1"
         },
         {
          "abstraction_avg": 7.549636803874095,
          "abstraction_min": 4,
          "level": "A1"
         },
         {
          "abstraction_avg": 7.1709100948071525,
          "abstraction_min": 4,
          "level": "A1"
         },
         {
          "abstraction_avg": 7.240787415532316,
          "abstraction_min": 4,
          "level": "A1"
         },
         {
          "abstraction_avg": 7.552220067514185,
          "abstraction_min": 5.75,
          "level": "A1"
         },
         {
          "abstraction_avg": 7.680882394441716,
          "abstraction_min": 5.75,
          "level": "A1"
         },
         {
          "abstraction_avg": 7.5328693181818185,
          "abstraction_min": 5,
          "level": "A1"
         },
         {
          "abstraction_avg": 7.307167832167833,
          "abstraction_min": 5.75,
          "level": "A1"
         },
         {
          "abstraction_avg": 7.392569915666802,
          "abstraction_min": 5.75,
          "level": "A1"
         },
         {
          "abstraction_avg": 7.662639509048347,
          "abstraction_min": 5.2,
          "level": "A1"
         },
         {
          "abstraction_avg": 7.559874131716238,
          "abstraction_min": 5.5,
          "level": "A1"
         },
         {
          "abstraction_avg": 7.572747146399841,
          "abstraction_min": 4,
          "level": "A1"
         },
         {
          "abstraction_avg": 7.661022111819716,
          "abstraction_min": 5.333333333333333,
          "level": "A1"
         },
         {
          "abstraction_avg": 7.296590566394787,
          "abstraction_min": 5,
          "level": "A1"
         },
         {
          "abstraction_avg": 7.61800683520284,
          "abstraction_min": 5,
          "level": "A1"
         },
         {
          "abstraction_avg": 7.509432422780841,
          "abstraction_min": 5.2,
          "level": "A1"
         },
         {
          "abstraction_avg": 7.556302207941778,
          "abstraction_min": 5,
          "level": "A1"
         },
         {
          "abstraction_avg": 7.4191681691304625,
          "abstraction_min": 4,
          "level": "A1"
         },
         {
          "abstraction_avg": 7.413421245421246,
          "abstraction_min": 6,
          "level": "A1"
         },
         {
          "abstraction_avg": 7.358565621370499,
          "abstraction_min": 5.857142857142857,
          "level": "A1"
         },
         {
          "abstraction_avg": 7.4112772240679226,
          "abstraction_min": 5.333333333333333,
          "level": "A1"
         },
         {
          "abstraction_avg": 7.135260770975056,
          "abstraction_min": 5.75,
          "level": "A1"
         },
         {
          "abstraction_avg": 7.607084083103472,
          "abstraction_min": 5,
          "level": "A2"
         },
         {
          "abstraction_avg": 7.819770098650155,
          "abstraction_min": 5,
          "level": "A2"
         },
         {
          "abstraction_avg": 7.6942291453012555,
          "abstraction_min": 4,
          "level": "A2"
         },
         {
          "abstraction_avg": 7.714040248446863,
          "abstraction_min": 4,
          "level": "A2"
         },
         {
          "abstraction_avg": 7.491854134654382,
          "abstraction_min": 5,
          "level": "A2"
         },
         {
          "abstraction_avg": 7.769917676214341,
          "abstraction_min": 4,
          "level": "A2"
         },
         {
          "abstraction_avg": 7.666241843100278,
          "abstraction_min": 5,
          "level": "A2"
         },
         {
          "abstraction_avg": 7.450674978616153,
          "abstraction_min": 5.5,
          "level": "A2"
         },
         {
          "abstraction_avg": 7.330317558406271,
          "abstraction_min": 4,
          "level": "A2"
         },
         {
          "abstraction_avg": 7.494791666666668,
          "abstraction_min": 5.666666666666667,
          "level": "A2"
         },
         {
          "abstraction_avg": 7.90107101232101,
          "abstraction_min": 5.2,
          "level": "A2"
         },
         {
          "abstraction_avg": 7.244949494949495,
          "abstraction_min": 4,
          "level": "A2"
         },
         {
          "abstraction_avg": 7.976333510544037,
          "abstraction_min": 5.75,
          "level": "A2"
         },
         {
          "abstraction_avg": 7.49290601871247,
          "abstraction_min": 6,
          "level": "A2"
         },
         {
          "abstraction_avg": 8.12676008202324,
          "abstraction_min": 5.75,
          "level": "A2"
         },
         {
          "abstraction_avg": 7.608880471380472,
          "abstraction_min": 6,
          "level": "A2"
         },
         {
          "abstraction_avg": 8.004375,
          "abstraction_min": 4,
          "level": "A2"
         },
         {
          "abstraction_avg": 7.220643939393938,
          "abstraction_min": 5.75,
          "level": "A2"
         },
         {
          "abstraction_avg": 7.675485999643302,
          "abstraction_min": 5,
          "level": "A2"
         },
         {
          "abstraction_avg": 7.335081749700395,
          "abstraction_min": 5,
          "level": "A2"
         },
         {
          "abstraction_avg": 7.800469826469826,
          "abstraction_min": 5.5,
          "level": "A2"
         },
         {
          "abstraction_avg": 7.926190476190476,
          "abstraction_min": 4,
          "level": "A2"
         },
         {
          "abstraction_avg": 7.852202380952382,
          "abstraction_min": 6.25,
          "level": "A2"
         },
         {
          "abstraction_avg": 7.262427154769955,
          "abstraction_min": 5.5,
          "level": "A2"
         },
         {
          "abstraction_avg": 7.753462039752363,
          "abstraction_min": 5,
          "level": "A2"
         },
         {
          "abstraction_avg": 7.811403508771931,
          "abstraction_min": 6.166666666666667,
          "level": "A2"
         },
         {
          "abstraction_avg": 7.911764705882353,
          "abstraction_min": 7,
          "level": "A2"
         },
         {
          "abstraction_avg": 7.508823529411765,
          "abstraction_min": 5,
          "level": "A2"
         },
         {
          "abstraction_avg": 7.132215007215008,
          "abstraction_min": 5,
          "level": "A2"
         },
         {
          "abstraction_avg": 6.479166666666667,
          "abstraction_min": 6,
          "level": "A2"
         },
         {
          "abstraction_avg": 6.849999999999999,
          "abstraction_min": 5.75,
          "level": "A2"
         },
         {
          "abstraction_avg": 7.166666666666666,
          "abstraction_min": 6,
          "level": "A2"
         },
         {
          "abstraction_avg": 7.520202020202021,
          "abstraction_min": 5,
          "level": "A2"
         },
         {
          "abstraction_avg": 7.699235973739284,
          "abstraction_min": 5.555555555555555,
          "level": "A2"
         },
         {
          "abstraction_avg": 7.58878787878788,
          "abstraction_min": 5.833333333333333,
          "level": "A2"
         },
         {
          "abstraction_avg": 7.733982683982683,
          "abstraction_min": 5,
          "level": "A2"
         },
         {
          "abstraction_avg": 7.664882450882454,
          "abstraction_min": 5.7272727272727275,
          "level": "A2"
         },
         {
          "abstraction_avg": 7.49688764394647,
          "abstraction_min": 5.75,
          "level": "A2"
         },
         {
          "abstraction_avg": 7.610164021164022,
          "abstraction_min": 5,
          "level": "A2"
         },
         {
          "abstraction_avg": 7.2127728901922445,
          "abstraction_min": 5,
          "level": "A2"
         },
         {
          "abstraction_avg": 7.89831405573593,
          "abstraction_min": 5.75,
          "level": "A2"
         },
         {
          "abstraction_avg": 7.405074555074555,
          "abstraction_min": 6,
          "level": "A2"
         },
         {
          "abstraction_avg": 8.085897435897435,
          "abstraction_min": 6,
          "level": "A2"
         },
         {
          "abstraction_avg": 7.50360075110075,
          "abstraction_min": 5,
          "level": "A2"
         },
         {
          "abstraction_avg": 8.523090990642011,
          "abstraction_min": 5,
          "level": "A2"
         },
         {
          "abstraction_avg": 7.783391841271039,
          "abstraction_min": 5,
          "level": "A2"
         },
         {
          "abstraction_avg": 7.212975267626431,
          "abstraction_min": 5.75,
          "level": "A2"
         },
         {
          "abstraction_avg": 7.422050264550264,
          "abstraction_min": 5.75,
          "level": "A2"
         },
         {
          "abstraction_avg": 7.36378071003071,
          "abstraction_min": 5,
          "level": "A2"
         },
         {
          "abstraction_avg": 7.86526281215146,
          "abstraction_min": 5,
          "level": "A2"
         },
         {
          "abstraction_avg": 7.509434551890461,
          "abstraction_min": 4,
          "level": "A2"
         },
         {
          "abstraction_avg": 7.910704557614669,
          "abstraction_min": 5,
          "level": "A2"
         },
         {
          "abstraction_avg": 7.559430579460698,
          "abstraction_min": 5.2,
          "level": "A2"
         },
         {
          "abstraction_avg": 7.548178505658819,
          "abstraction_min": 4,
          "level": "A2"
         },
         {
          "abstraction_avg": 7.621381962541039,
          "abstraction_min": 4,
          "level": "A2"
         },
         {
          "abstraction_avg": 7.355443760091929,
          "abstraction_min": 4,
          "level": "A2"
         },
         {
          "abstraction_avg": 7.371640725465435,
          "abstraction_min": 4,
          "level": "A2"
         },
         {
          "abstraction_avg": 7.821130952380952,
          "abstraction_min": 4,
          "level": "A2"
         },
         {
          "abstraction_avg": 7.682363697443064,
          "abstraction_min": 4,
          "level": "A2"
         },
         {
          "abstraction_avg": 7.546013584117032,
          "abstraction_min": 4,
          "level": "A2"
         },
         {
          "abstraction_avg": 7.720487614237616,
          "abstraction_min": 5,
          "level": "A2"
         },
         {
          "abstraction_avg": 7.741565701512883,
          "abstraction_min": 5,
          "level": "A2"
         },
         {
          "abstraction_avg": 7.470699520118125,
          "abstraction_min": 5.5,
          "level": "B"
         },
         {
          "abstraction_avg": 7.7916099773242635,
          "abstraction_min": 5.5,
          "level": "B"
         },
         {
          "abstraction_avg": 7.462820512820513,
          "abstraction_min": 5.5,
          "level": "B"
         },
         {
          "abstraction_avg": 7.28041906622789,
          "abstraction_min": 5.2,
          "level": "B"
         },
         {
          "abstraction_avg": 8.431481481481482,
          "abstraction_min": 6,
          "level": "B"
         },
         {
          "abstraction_avg": 8.56888888888889,
          "abstraction_min": 6,
          "level": "B"
         },
         {
          "abstraction_avg": 8.833333333333334,
          "abstraction_min": 7,
          "level": "B"
         },
         {
          "abstraction_avg": 7.344679328607901,
          "abstraction_min": 5.5,
          "level": "B"
         },
         {
          "abstraction_avg": 7.584510281385281,
          "abstraction_min": 6.7272727272727275,
          "level": "B"
         },
         {
          "abstraction_avg": 7.325877192982456,
          "abstraction_min": 6,
          "level": "B"
         },
         {
          "abstraction_avg": 7.7178571428571425,
          "abstraction_min": 6,
          "level": "B"
         },
         {
          "abstraction_avg": 7.095518207282914,
          "abstraction_min": 5.857142857142857,
          "level": "B"
         },
         {
          "abstraction_avg": 7.71159420289855,
          "abstraction_min": 5.2,
          "level": "B"
         },
         {
          "abstraction_avg": 7.622222222222223,
          "abstraction_min": 6,
          "level": "B"
         },
         {
          "abstraction_avg": 7.492328042328043,
          "abstraction_min": 6,
          "level": "B"
         },
         {
          "abstraction_avg": 7.21693722943723,
          "abstraction_min": 5.5,
          "level": "B"
         },
         {
          "abstraction_avg": 7.552831515926757,
          "abstraction_min": 4,
          "level": "B"
         },
         {
          "abstraction_avg": 8.08650563422323,
          "abstraction_min": 5,
          "level": "B"
         },
         {
          "abstraction_avg": 7.5464449388060455,
          "abstraction_min": 3,
          "level": "B"
         },
         {
          "abstraction_avg": 7.819553554336163,
          "abstraction_min": 6,
          "level": "B"
         },
         {
          "abstraction_avg": 7.641827250016906,
          "abstraction_min": 5,
          "level": "B"
         },
         {
          "abstraction_avg": 7.426770746983514,
          "abstraction_min": 5.5,
          "level": "B"
         },
         {
          "abstraction_avg": 7.858791480258869,
          "abstraction_min": 5,
          "level": "B"
         },
         {
          "abstraction_avg": 7.479636591478697,
          "abstraction_min": 5.5,
          "level": "B"
         },
         {
          "abstraction_avg": 8.049678975761994,
          "abstraction_min": 5.75,
          "level": "B"
         },
         {
          "abstraction_avg": 7.711056322594782,
          "abstraction_min": 5,
          "level": "B"
         },
         {
          "abstraction_avg": 7.706170150987224,
          "abstraction_min": 5,
          "level": "B"
         },
         {
          "abstraction_avg": 7.819206349206349,
          "abstraction_min": 4,
          "level": "B"
         },
         {
          "abstraction_avg": 8.283635676492821,
          "abstraction_min": 5,
          "level": "B"
         },
         {
          "abstraction_avg": 7.493600674135025,
          "abstraction_min": 5.75,
          "level": "B"
         },
         {
          "abstraction_avg": 7.893750000000001,
          "abstraction_min": 6,
          "level": "B"
         },
         {
          "abstraction_avg": 7.683392754111447,
          "abstraction_min": 4,
          "level": "B"
         },
         {
          "abstraction_avg": 7.7198457461378664,
          "abstraction_min": 4,
          "level": "B"
         },
         {
          "abstraction_avg": 7.506894841269841,
          "abstraction_min": 6,
          "level": "B"
         },
         {
          "abstraction_avg": 8.15259651550635,
          "abstraction_min": 6,
          "level": "B"
         },
         {
          "abstraction_avg": 7.309595959595958,
          "abstraction_min": 4.666666666666667,
          "level": "B"
         },
         {
          "abstraction_avg": 7.561809523809524,
          "abstraction_min": 6.5,
          "level": "B"
         },
         {
          "abstraction_avg": 7.675945626477542,
          "abstraction_min": 5.5,
          "level": "B"
         },
         {
          "abstraction_avg": 7.301037598764868,
          "abstraction_min": 5,
          "level": "B"
         },
         {
          "abstraction_avg": 7.42266559287836,
          "abstraction_min": 5,
          "level": "B"
         },
         {
          "abstraction_avg": 7.253055555555556,
          "abstraction_min": 3,
          "level": "B"
         },
         {
          "abstraction_avg": 7.361989271017048,
          "abstraction_min": 5.5,
          "level": "B"
         },
         {
          "abstraction_avg": 7.386666666666668,
          "abstraction_min": 6.2,
          "level": "B"
         },
         {
          "abstraction_avg": 7.177272727272728,
          "abstraction_min": 5.666666666666667,
          "level": "B"
         },
         {
          "abstraction_avg": 7.550682124701729,
          "abstraction_min": 5,
          "level": "B"
         },
         {
          "abstraction_avg": 7.6386886627018225,
          "abstraction_min": 5,
          "level": "B"
         },
         {
          "abstraction_avg": 7.213730158730158,
          "abstraction_min": 5.5,
          "level": "B"
         },
         {
          "abstraction_avg": 7.772619047619048,
          "abstraction_min": 6,
          "level": "B"
         },
         {
          "abstraction_avg": 7.574303577081355,
          "abstraction_min": 5.5,
          "level": "B"
         },
         {
          "abstraction_avg": 7.424122807017544,
          "abstraction_min": 5.5,
          "level": "B"
         },
         {
          "abstraction_avg": 7.386076202680679,
          "abstraction_min": 5,
          "level": "B"
         },
         {
          "abstraction_avg": 7.647763347763348,
          "abstraction_min": 5,
          "level": "B"
         },
         {
          "abstraction_avg": 7.110814265099979,
          "abstraction_min": 5.5,
          "level": "B"
         },
         {
          "abstraction_avg": 7.799718614718616,
          "abstraction_min": 5.6,
          "level": "B"
         },
         {
          "abstraction_avg": 7.540623003123002,
          "abstraction_min": 5.666666666666667,
          "level": "B"
         },
         {
          "abstraction_avg": 7.367302203968871,
          "abstraction_min": 4,
          "level": "B"
         },
         {
          "abstraction_avg": 7.442354338782911,
          "abstraction_min": 5.5,
          "level": "B"
         },
         {
          "abstraction_avg": 7.223886953155246,
          "abstraction_min": 6,
          "level": "B"
         },
         {
          "abstraction_avg": 7.8014581026208925,
          "abstraction_min": 5.6,
          "level": "B"
         },
         {
          "abstraction_avg": 8.352136135469468,
          "abstraction_min": 5.7272727272727275,
          "level": "B"
         },
         {
          "abstraction_avg": 7.441873726873722,
          "abstraction_min": 5,
          "level": "B"
         },
         {
          "abstraction_avg": 7.444035258559905,
          "abstraction_min": 5,
          "level": "B"
         },
         {
          "abstraction_avg": 7.3623744447273864,
          "abstraction_min": 4.666666666666667,
          "level": "B"
         },
         {
          "abstraction_avg": 7.050244200244201,
          "abstraction_min": 6,
          "level": "B"
         },
         {
          "abstraction_avg": 7.995943562610228,
          "abstraction_min": 5.5,
          "level": "B"
         },
         {
          "abstraction_avg": 7.6000114488242945,
          "abstraction_min": 5,
          "level": "B"
         },
         {
          "abstraction_avg": 7.648643868209086,
          "abstraction_min": 5.857142857142857,
          "level": "B"
         },
         {
          "abstraction_avg": 7.57923742923743,
          "abstraction_min": 5,
          "level": "B"
         },
         {
          "abstraction_avg": 7.398396526844803,
          "abstraction_min": 5.625,
          "level": "B"
         },
         {
          "abstraction_avg": 6.917943409247758,
          "abstraction_min": 5.5,
          "level": "B"
         },
         {
          "abstraction_avg": 7.405437837016785,
          "abstraction_min": 4.666666666666667,
          "level": "B"
         },
         {
          "abstraction_avg": 7.588025810667319,
          "abstraction_min": 5,
          "level": "B"
         },
         {
          "abstraction_avg": 9.080235042735042,
          "abstraction_min": 5.5,
          "level": "B"
         },
         {
          "abstraction_avg": 7.748431389399133,
          "abstraction_min": 5,
          "level": "B"
         },
         {
          "abstraction_avg": 7.5038729406498,
          "abstraction_min": 5,
          "level": "B"
         },
         {
          "abstraction_avg": 7.606428062678062,
          "abstraction_min": 5,
          "level": "B"
         },
         {
          "abstraction_avg": 7.433333333333334,
          "abstraction_min": 6,
          "level": "B"
         },
         {
          "abstraction_avg": 9.157142857142857,
          "abstraction_min": 6,
          "level": "B"
         },
         {
          "abstraction_avg": 6.8,
          "abstraction_min": 6.6,
          "level": "B"
         },
         {
          "abstraction_avg": 8.69090909090909,
          "abstraction_min": 6.5,
          "level": "B"
         },
         {
          "abstraction_avg": 7.85,
          "abstraction_min": 7,
          "level": "B"
         },
         {
          "abstraction_avg": 6.933333333333334,
          "abstraction_min": 6.2,
          "level": "B"
         },
         {
          "abstraction_avg": 8.033333333333335,
          "abstraction_min": 6,
          "level": "B"
         },
         {
          "abstraction_avg": 8.166666666666666,
          "abstraction_min": 7,
          "level": "B"
         },
         {
          "abstraction_avg": 7.537857142857144,
          "abstraction_min": 6,
          "level": "B"
         },
         {
          "abstraction_avg": 7.959061952540212,
          "abstraction_min": 6.4,
          "level": "B"
         },
         {
          "abstraction_avg": 7.771969696969697,
          "abstraction_min": 5,
          "level": "B"
         },
         {
          "abstraction_avg": 8.458333333333334,
          "abstraction_min": 7.666666666666667,
          "level": "B"
         },
         {
          "abstraction_avg": 7.720528594212805,
          "abstraction_min": 4,
          "level": "B1"
         },
         {
          "abstraction_avg": 8.307637600494742,
          "abstraction_min": 5.75,
          "level": "B1"
         },
         {
          "abstraction_avg": 7.606854256854257,
          "abstraction_min": 6.166666666666667,
          "level": "B1"
         },
         {
          "abstraction_avg": 7.777944862155389,
          "abstraction_min": 4,
          "level": "B1"
         },
         {
          "abstraction_avg": 7.303367592003956,
          "abstraction_min": 5.75,
          "level": "B1"
         },
         {
          "abstraction_avg": 7.163609307359307,
          "abstraction_min": 5,
          "level": "B1"
         },
         {
          "abstraction_avg": 7.637547348484849,
          "abstraction_min": 4,
          "level": "B1"
         },
         {
          "abstraction_avg": 7.643876262626262,
          "abstraction_min": 5.75,
          "level": "B1"
         },
         {
          "abstraction_avg": 8.1626267143709,
          "abstraction_min": 5.666666666666667,
          "level": "B1"
         },
         {
          "abstraction_avg": 7.670781893004117,
          "abstraction_min": 4,
          "level": "B1"
         },
         {
          "abstraction_avg": 7.91047619047619,
          "abstraction_min": 5.833333333333333,
          "level": "B1"
         },
         {
          "abstraction_avg": 8.547812747915792,
          "abstraction_min": 5.5,
          "level": "B1"
         },
         {
          "abstraction_avg": 7.637678185601775,
          "abstraction_min": 5,
          "level": "B1"
         },
         {
          "abstraction_avg": 7.39393824170998,
          "abstraction_min": 5,
          "level": "B1"
         },
         {
          "abstraction_avg": 7.565038830217403,
          "abstraction_min": 4,
          "level": "B1"
         },
         {
          "abstraction_avg": 7.821053195404871,
          "abstraction_min": 5,
          "level": "B1"
         },
         {
          "abstraction_avg": 7.326764618876272,
          "abstraction_min": 5,
          "level": "B1"
         },
         {
          "abstraction_avg": 7.620080528502991,
          "abstraction_min": 4,
          "level": "B1"
         },
         {
          "abstraction_avg": 7.826845314505776,
          "abstraction_min": 5,
          "level": "B1"
         },
         {
          "abstraction_avg": 7.799282784570396,
          "abstraction_min": 5.2,
          "level": "B1"
         },
         {
          "abstraction_avg": 7.800656904333372,
          "abstraction_min": 4,
          "level": "B1"
         },
         {
          "abstraction_avg": 8.032632504296036,
          "abstraction_min": 5,
          "level": "B1"
         },
         {
          "abstraction_avg": 7.480956187188678,
          "abstraction_min": 4,
          "level": "B1"
         },
         {
          "abstraction_avg": 7.702942293806966,
          "abstraction_min": 4,
          "level": "B1"
         },
         {
          "abstraction_avg": 7.726927679128382,
          "abstraction_min": 5,
          "level": "B1"
         },
         {
          "abstraction_avg": 7.480251778374275,
          "abstraction_min": 5,
          "level": "B1"
         },
         {
          "abstraction_avg": 7.732631682327333,
          "abstraction_min": 4,
          "level": "B1"
         },
         {
          "abstraction_avg": 7.751549673916293,
          "abstraction_min": 5,
          "level": "B1"
         },
         {
          "abstraction_avg": 7.803796926888802,
          "abstraction_min": 5,
          "level": "B1"
         },
         {
          "abstraction_avg": 7.8493589743589745,
          "abstraction_min": 5.75,
          "level": "B1"
         },
         {
          "abstraction_avg": 7.976515151515152,
          "abstraction_min": 5.5,
          "level": "B1"
         },
         {
          "abstraction_avg": 7.5496336996337,
          "abstraction_min": 5,
          "level": "B1"
         },
         {
          "abstraction_avg": 6.986111111111112,
          "abstraction_min": 6.166666666666667,
          "level": "B1"
         },
         {
          "abstraction_avg": 7.572222222222222,
          "abstraction_min": 6.333333333333333,
          "level": "B1"
         },
         {
          "abstraction_avg": 7.642783899602082,
          "abstraction_min": 6,
          "level": "B1"
         },
         {
          "abstraction_avg": 7.397510341510342,
          "abstraction_min": 4.666666666666667,
          "level": "B1"
         },
         {
          "abstraction_avg": 7.514619047619047,
          "abstraction_min": 6,
          "level": "B1"
         },
         {
          "abstraction_avg": 8.76846153846154,
          "abstraction_min": 6.166666666666667,
          "level": "B1"
         },
         {
          "abstraction_avg": 7.363057213057213,
          "abstraction_min": 6,
          "level": "B1"
         },
         {
          "abstraction_avg": 7.079166666666667,
          "abstraction_min": 5.666666666666667,
          "level": "B1"
         },
         {
          "abstraction_avg": 7.450382819794585,
          "abstraction_min": 5.5,
          "level": "B1"
         },
         {
          "abstraction_avg": 7.750359032501891,
          "abstraction_min": 6.166666666666667,
          "level": "B1"
         },
         {
          "abstraction_avg": 8.121575276575276,
          "abstraction_min": 6,
          "level": "A1"
         },
         {
          "abstraction_avg": 7.398465724900336,
          "abstraction_min": 5,
          "level": "A1"
         },
         {
          "abstraction_avg": 8.2,
          "abstraction_min": 6,
          "level": "B"
         }
        ]
       },
       "facet": {
        "field": "level",
        "type": "nominal"
       },
       "spec": {
        "encoding": {
         "x": {
          "bin": {
           "maxbins": 30
          },
          "field": "abstraction_min",
          "type": "quantitative"
         },
         "y": {
          "aggregate": "count",
          "type": "quantitative"
         }
        },
        "mark": "bar"
       }
      },
      "image/png": "[encoded data removed]",
      "text/plain": [
       "<VegaLite 4 object>\n",
       "\n",
       "If you see this message, it means the renderer has not been properly enabled\n",
       "for the frontend that you are using. For more information, see\n",
       "https://altair-viz.github.io/user_guide/troubleshooting.html\n"
      ]
     },
     "execution_count": 42,
     "metadata": {},
     "output_type": "execute_result"
    }
   ],
   "source": [
    "level_da_df = pd.DataFrame(level_degree_abstraction)\n",
    "alt.Chart(level_da_df).mark_bar().encode(x = alt.X('abstraction_min', bin = alt.Bin(maxbins = 30)), y = 'count()').facet('level')\n"
   ]
  },
  {
   "cell_type": "code",
   "execution_count": 43,
   "id": "nuclear-solomon",
   "metadata": {},
   "outputs": [
    {
     "data": {
      "application/vnd.vegalite.v4+json": {
       "$schema": "https://vega.github.io/schema/vega-lite/v4.8.1.json",
       "config": {
        "view": {
         "continuousHeight": 300,
         "continuousWidth": 400
        }
       },
       "data": {
        "name": "data-06a0e44559d4729bc9f1df453a071628"
       },
       "datasets": {
        "data-06a0e44559d4729bc9f1df453a071628": [
         {
          "abstraction_avg": 7.878182749150491,
          "abstraction_min": 6,
          "level": "A1"
         },
         {
          "abstraction_avg": 7.712613636363637,
          "abstraction_min": 5,
          "level": "A1"
         },
         {
          "abstraction_avg": 8.623626893939395,
          "abstraction_min": 5.75,
          "level": "A1"
         },
         {
          "abstraction_avg": 7.840584415584416,
          "abstraction_min": 5.75,
          "level": "A1"
         },
         {
          "abstraction_avg": 7.6208086785009845,
          "abstraction_min": 5,
          "level": "A1"
         },
         {
          "abstraction_avg": 9.716150005805185,
          "abstraction_min": 5.5,
          "level": "A1"
         },
         {
          "abstraction_avg": 7.858567821067821,
          "abstraction_min": 5,
          "level": "A1"
         },
         {
          "abstraction_avg": 9.280816849046019,
          "abstraction_min": 5,
          "level": "A1"
         },
         {
          "abstraction_avg": 8.232344187455789,
          "abstraction_min": 5,
          "level": "A1"
         },
         {
          "abstraction_avg": 7.449260042283298,
          "abstraction_min": 5,
          "level": "A1"
         },
         {
          "abstraction_avg": 7.845590038171446,
          "abstraction_min": 4,
          "level": "A1"
         },
         {
          "abstraction_avg": 7.370432586736934,
          "abstraction_min": 6,
          "level": "A1"
         },
         {
          "abstraction_avg": 7.075384615384616,
          "abstraction_min": 5,
          "level": "A1"
         },
         {
          "abstraction_avg": 7.6295813204185325,
          "abstraction_min": 5,
          "level": "A1"
         },
         {
          "abstraction_avg": 7.826977343644009,
          "abstraction_min": 6,
          "level": "A1"
         },
         {
          "abstraction_avg": 7.591079044412377,
          "abstraction_min": 5,
          "level": "A1"
         },
         {
          "abstraction_avg": 7.742750098601162,
          "abstraction_min": 5,
          "level": "A1"
         },
         {
          "abstraction_avg": 8.37469280433198,
          "abstraction_min": 5.5,
          "level": "A1"
         },
         {
          "abstraction_avg": 7.4305785123966945,
          "abstraction_min": 5,
          "level": "A1"
         },
         {
          "abstraction_avg": 7.6451741870903565,
          "abstraction_min": 5,
          "level": "A1"
         },
         {
          "abstraction_avg": 8.604939000393546,
          "abstraction_min": 5.2,
          "level": "A1"
         },
         {
          "abstraction_avg": 8.496363636363636,
          "abstraction_min": 5.5,
          "level": "A1"
         },
         {
          "abstraction_avg": 7.996111111111111,
          "abstraction_min": 5.75,
          "level": "A1"
         },
         {
          "abstraction_avg": 7.714643327686806,
          "abstraction_min": 5.7272727272727275,
          "level": "A1"
         },
         {
          "abstraction_avg": 7.764955679241394,
          "abstraction_min": 5,
          "level": "A1"
         },
         {
          "abstraction_avg": 8.280932246048522,
          "abstraction_min": 6.666666666666667,
          "level": "A1"
         },
         {
          "abstraction_avg": 7.116883116883117,
          "abstraction_min": 6.666666666666667,
          "level": "A1"
         },
         {
          "abstraction_avg": 8.153206757011104,
          "abstraction_min": 5,
          "level": "A1"
         },
         {
          "abstraction_avg": 7.973781773781773,
          "abstraction_min": 5,
          "level": "A1"
         },
         {
          "abstraction_avg": 7.64236366359008,
          "abstraction_min": 6,
          "level": "A1"
         },
         {
          "abstraction_avg": 7.441269841269841,
          "abstraction_min": 6,
          "level": "A1"
         },
         {
          "abstraction_avg": 7.375562072336266,
          "abstraction_min": 5.7272727272727275,
          "level": "A1"
         },
         {
          "abstraction_avg": 8.611458333333337,
          "abstraction_min": 6.333333333333333,
          "level": "A1"
         },
         {
          "abstraction_avg": 8.206646825396826,
          "abstraction_min": 6.944444444444445,
          "level": "A1"
         },
         {
          "abstraction_avg": 6.972500000000001,
          "abstraction_min": 6,
          "level": "A1"
         },
         {
          "abstraction_avg": 7.303819444444444,
          "abstraction_min": 4,
          "level": "A1"
         },
         {
          "abstraction_avg": 7.729864433811802,
          "abstraction_min": 5.2,
          "level": "A1"
         },
         {
          "abstraction_avg": 7.908333333333333,
          "abstraction_min": 6,
          "level": "A1"
         },
         {
          "abstraction_avg": 7.193253968253968,
          "abstraction_min": 5,
          "level": "A1"
         },
         {
          "abstraction_avg": 7.918376068376068,
          "abstraction_min": 6,
          "level": "A1"
         },
         {
          "abstraction_avg": 7.341649091649091,
          "abstraction_min": 6.166666666666667,
          "level": "A1"
         },
         {
          "abstraction_avg": 8.380952380952381,
          "abstraction_min": 6.571428571428571,
          "level": "A1"
         },
         {
          "abstraction_avg": 7.930308334422258,
          "abstraction_min": 5.7272727272727275,
          "level": "A1"
         },
         {
          "abstraction_avg": 7.978131506822783,
          "abstraction_min": 4,
          "level": "A1"
         },
         {
          "abstraction_avg": 7.46010101010101,
          "abstraction_min": 6.166666666666667,
          "level": "A1"
         },
         {
          "abstraction_avg": 6.784598734598733,
          "abstraction_min": 4,
          "level": "A1"
         },
         {
          "abstraction_avg": 7.533187645687646,
          "abstraction_min": 5.833333333333333,
          "level": "A1"
         },
         {
          "abstraction_avg": 8.066041948331108,
          "abstraction_min": 4,
          "level": "A1"
         },
         {
          "abstraction_avg": 7.791321121486413,
          "abstraction_min": 4,
          "level": "A1"
         },
         {
          "abstraction_avg": 7.664120180101192,
          "abstraction_min": 4,
          "level": "A1"
         },
         {
          "abstraction_avg": 8.00248485174956,
          "abstraction_min": 4,
          "level": "A1"
         },
         {
          "abstraction_avg": 8.353351922362927,
          "abstraction_min": 4,
          "level": "A1"
         },
         {
          "abstraction_avg": 8.866841659909575,
          "abstraction_min": 5,
          "level": "A1"
         },
         {
          "abstraction_avg": 8.188309617843295,
          "abstraction_min": 5,
          "level": "A1"
         },
         {
          "abstraction_avg": 7.4649291633454515,
          "abstraction_min": 5.2,
          "level": "A1"
         },
         {
          "abstraction_avg": 7.612064379117104,
          "abstraction_min": 4,
          "level": "A1"
         },
         {
          "abstraction_avg": 7.525586737453824,
          "abstraction_min": 5.5,
          "level": "A1"
         },
         {
          "abstraction_avg": 7.68198281879348,
          "abstraction_min": 4,
          "level": "A1"
         },
         {
          "abstraction_avg": 7.640536991744875,
          "abstraction_min": 4,
          "level": "A1"
         },
         {
          "abstraction_avg": 8.108828035535698,
          "abstraction_min": 4,
          "level": "A1"
         },
         {
          "abstraction_avg": 7.490429311671142,
          "abstraction_min": 5.2,
          "level": "A1"
         },
         {
          "abstraction_avg": 7.596494088823629,
          "abstraction_min": 5,
          "level": "A1"
         },
         {
          "abstraction_avg": 7.591782147139811,
          "abstraction_min": 4,
          "level": "A1"
         },
         {
          "abstraction_avg": 7.433406761970809,
          "abstraction_min": 4,
          "level": "A1"
         },
         {
          "abstraction_avg": 7.83037560127591,
          "abstraction_min": 5,
          "level": "A1"
         },
         {
          "abstraction_avg": 7.090121101047151,
          "abstraction_min": 4,
          "level": "A1"
         },
         {
          "abstraction_avg": 7.933734668109667,
          "abstraction_min": 5,
          "level": "A1"
         },
         {
          "abstraction_avg": 7.383567821067822,
          "abstraction_min": 5.5,
          "level": "A1"
         },
         {
          "abstraction_avg": 7.6511722595511085,
          "abstraction_min": 4,
          "level": "A1"
         },
         {
          "abstraction_avg": 7.44885377780114,
          "abstraction_min": 5,
          "level": "A1"
         },
         {
          "abstraction_avg": 7.167541396262768,
          "abstraction_min": 4,
          "level": "A1"
         },
         {
          "abstraction_avg": 7.549636803874095,
          "abstraction_min": 4,
          "level": "A1"
         },
         {
          "abstraction_avg": 7.1709100948071525,
          "abstraction_min": 4,
          "level": "A1"
         },
         {
          "abstraction_avg": 7.240787415532316,
          "abstraction_min": 4,
          "level": "A1"
         },
         {
          "abstraction_avg": 7.552220067514185,
          "abstraction_min": 5.75,
          "level": "A1"
         },
         {
          "abstraction_avg": 7.680882394441716,
          "abstraction_min": 5.75,
          "level": "A1"
         },
         {
          "abstraction_avg": 7.5328693181818185,
          "abstraction_min": 5,
          "level": "A1"
         },
         {
          "abstraction_avg": 7.307167832167833,
          "abstraction_min": 5.75,
          "level": "A1"
         },
         {
          "abstraction_avg": 7.392569915666802,
          "abstraction_min": 5.75,
          "level": "A1"
         },
         {
          "abstraction_avg": 7.662639509048347,
          "abstraction_min": 5.2,
          "level": "A1"
         },
         {
          "abstraction_avg": 7.559874131716238,
          "abstraction_min": 5.5,
          "level": "A1"
         },
         {
          "abstraction_avg": 7.572747146399841,
          "abstraction_min": 4,
          "level": "A1"
         },
         {
          "abstraction_avg": 7.661022111819716,
          "abstraction_min": 5.333333333333333,
          "level": "A1"
         },
         {
          "abstraction_avg": 7.296590566394787,
          "abstraction_min": 5,
          "level": "A1"
         },
         {
          "abstraction_avg": 7.61800683520284,
          "abstraction_min": 5,
          "level": "A1"
         },
         {
          "abstraction_avg": 7.509432422780841,
          "abstraction_min": 5.2,
          "level": "A1"
         },
         {
          "abstraction_avg": 7.556302207941778,
          "abstraction_min": 5,
          "level": "A1"
         },
         {
          "abstraction_avg": 7.4191681691304625,
          "abstraction_min": 4,
          "level": "A1"
         },
         {
          "abstraction_avg": 7.413421245421246,
          "abstraction_min": 6,
          "level": "A1"
         },
         {
          "abstraction_avg": 7.358565621370499,
          "abstraction_min": 5.857142857142857,
          "level": "A1"
         },
         {
          "abstraction_avg": 7.4112772240679226,
          "abstraction_min": 5.333333333333333,
          "level": "A1"
         },
         {
          "abstraction_avg": 7.135260770975056,
          "abstraction_min": 5.75,
          "level": "A1"
         },
         {
          "abstraction_avg": 7.607084083103472,
          "abstraction_min": 5,
          "level": "A2"
         },
         {
          "abstraction_avg": 7.819770098650155,
          "abstraction_min": 5,
          "level": "A2"
         },
         {
          "abstraction_avg": 7.6942291453012555,
          "abstraction_min": 4,
          "level": "A2"
         },
         {
          "abstraction_avg": 7.714040248446863,
          "abstraction_min": 4,
          "level": "A2"
         },
         {
          "abstraction_avg": 7.491854134654382,
          "abstraction_min": 5,
          "level": "A2"
         },
         {
          "abstraction_avg": 7.769917676214341,
          "abstraction_min": 4,
          "level": "A2"
         },
         {
          "abstraction_avg": 7.666241843100278,
          "abstraction_min": 5,
          "level": "A2"
         },
         {
          "abstraction_avg": 7.450674978616153,
          "abstraction_min": 5.5,
          "level": "A2"
         },
         {
          "abstraction_avg": 7.330317558406271,
          "abstraction_min": 4,
          "level": "A2"
         },
         {
          "abstraction_avg": 7.494791666666668,
          "abstraction_min": 5.666666666666667,
          "level": "A2"
         },
         {
          "abstraction_avg": 7.90107101232101,
          "abstraction_min": 5.2,
          "level": "A2"
         },
         {
          "abstraction_avg": 7.244949494949495,
          "abstraction_min": 4,
          "level": "A2"
         },
         {
          "abstraction_avg": 7.976333510544037,
          "abstraction_min": 5.75,
          "level": "A2"
         },
         {
          "abstraction_avg": 7.49290601871247,
          "abstraction_min": 6,
          "level": "A2"
         },
         {
          "abstraction_avg": 8.12676008202324,
          "abstraction_min": 5.75,
          "level": "A2"
         },
         {
          "abstraction_avg": 7.608880471380472,
          "abstraction_min": 6,
          "level": "A2"
         },
         {
          "abstraction_avg": 8.004375,
          "abstraction_min": 4,
          "level": "A2"
         },
         {
          "abstraction_avg": 7.220643939393938,
          "abstraction_min": 5.75,
          "level": "A2"
         },
         {
          "abstraction_avg": 7.675485999643302,
          "abstraction_min": 5,
          "level": "A2"
         },
         {
          "abstraction_avg": 7.335081749700395,
          "abstraction_min": 5,
          "level": "A2"
         },
         {
          "abstraction_avg": 7.800469826469826,
          "abstraction_min": 5.5,
          "level": "A2"
         },
         {
          "abstraction_avg": 7.926190476190476,
          "abstraction_min": 4,
          "level": "A2"
         },
         {
          "abstraction_avg": 7.852202380952382,
          "abstraction_min": 6.25,
          "level": "A2"
         },
         {
          "abstraction_avg": 7.262427154769955,
          "abstraction_min": 5.5,
          "level": "A2"
         },
         {
          "abstraction_avg": 7.753462039752363,
          "abstraction_min": 5,
          "level": "A2"
         },
         {
          "abstraction_avg": 7.811403508771931,
          "abstraction_min": 6.166666666666667,
          "level": "A2"
         },
         {
          "abstraction_avg": 7.911764705882353,
          "abstraction_min": 7,
          "level": "A2"
         },
         {
          "abstraction_avg": 7.508823529411765,
          "abstraction_min": 5,
          "level": "A2"
         },
         {
          "abstraction_avg": 7.132215007215008,
          "abstraction_min": 5,
          "level": "A2"
         },
         {
          "abstraction_avg": 6.479166666666667,
          "abstraction_min": 6,
          "level": "A2"
         },
         {
          "abstraction_avg": 6.849999999999999,
          "abstraction_min": 5.75,
          "level": "A2"
         },
         {
          "abstraction_avg": 7.166666666666666,
          "abstraction_min": 6,
          "level": "A2"
         },
         {
          "abstraction_avg": 7.520202020202021,
          "abstraction_min": 5,
          "level": "A2"
         },
         {
          "abstraction_avg": 7.699235973739284,
          "abstraction_min": 5.555555555555555,
          "level": "A2"
         },
         {
          "abstraction_avg": 7.58878787878788,
          "abstraction_min": 5.833333333333333,
          "level": "A2"
         },
         {
          "abstraction_avg": 7.733982683982683,
          "abstraction_min": 5,
          "level": "A2"
         },
         {
          "abstraction_avg": 7.664882450882454,
          "abstraction_min": 5.7272727272727275,
          "level": "A2"
         },
         {
          "abstraction_avg": 7.49688764394647,
          "abstraction_min": 5.75,
          "level": "A2"
         },
         {
          "abstraction_avg": 7.610164021164022,
          "abstraction_min": 5,
          "level": "A2"
         },
         {
          "abstraction_avg": 7.2127728901922445,
          "abstraction_min": 5,
          "level": "A2"
         },
         {
          "abstraction_avg": 7.89831405573593,
          "abstraction_min": 5.75,
          "level": "A2"
         },
         {
          "abstraction_avg": 7.405074555074555,
          "abstraction_min": 6,
          "level": "A2"
         },
         {
          "abstraction_avg": 8.085897435897435,
          "abstraction_min": 6,
          "level": "A2"
         },
         {
          "abstraction_avg": 7.50360075110075,
          "abstraction_min": 5,
          "level": "A2"
         },
         {
          "abstraction_avg": 8.523090990642011,
          "abstraction_min": 5,
          "level": "A2"
         },
         {
          "abstraction_avg": 7.783391841271039,
          "abstraction_min": 5,
          "level": "A2"
         },
         {
          "abstraction_avg": 7.212975267626431,
          "abstraction_min": 5.75,
          "level": "A2"
         },
         {
          "abstraction_avg": 7.422050264550264,
          "abstraction_min": 5.75,
          "level": "A2"
         },
         {
          "abstraction_avg": 7.36378071003071,
          "abstraction_min": 5,
          "level": "A2"
         },
         {
          "abstraction_avg": 7.86526281215146,
          "abstraction_min": 5,
          "level": "A2"
         },
         {
          "abstraction_avg": 7.509434551890461,
          "abstraction_min": 4,
          "level": "A2"
         },
         {
          "abstraction_avg": 7.910704557614669,
          "abstraction_min": 5,
          "level": "A2"
         },
         {
          "abstraction_avg": 7.559430579460698,
          "abstraction_min": 5.2,
          "level": "A2"
         },
         {
          "abstraction_avg": 7.548178505658819,
          "abstraction_min": 4,
          "level": "A2"
         },
         {
          "abstraction_avg": 7.621381962541039,
          "abstraction_min": 4,
          "level": "A2"
         },
         {
          "abstraction_avg": 7.355443760091929,
          "abstraction_min": 4,
          "level": "A2"
         },
         {
          "abstraction_avg": 7.371640725465435,
          "abstraction_min": 4,
          "level": "A2"
         },
         {
          "abstraction_avg": 7.821130952380952,
          "abstraction_min": 4,
          "level": "A2"
         },
         {
          "abstraction_avg": 7.682363697443064,
          "abstraction_min": 4,
          "level": "A2"
         },
         {
          "abstraction_avg": 7.546013584117032,
          "abstraction_min": 4,
          "level": "A2"
         },
         {
          "abstraction_avg": 7.720487614237616,
          "abstraction_min": 5,
          "level": "A2"
         },
         {
          "abstraction_avg": 7.741565701512883,
          "abstraction_min": 5,
          "level": "A2"
         },
         {
          "abstraction_avg": 7.470699520118125,
          "abstraction_min": 5.5,
          "level": "B"
         },
         {
          "abstraction_avg": 7.7916099773242635,
          "abstraction_min": 5.5,
          "level": "B"
         },
         {
          "abstraction_avg": 7.462820512820513,
          "abstraction_min": 5.5,
          "level": "B"
         },
         {
          "abstraction_avg": 7.28041906622789,
          "abstraction_min": 5.2,
          "level": "B"
         },
         {
          "abstraction_avg": 8.431481481481482,
          "abstraction_min": 6,
          "level": "B"
         },
         {
          "abstraction_avg": 8.56888888888889,
          "abstraction_min": 6,
          "level": "B"
         },
         {
          "abstraction_avg": 8.833333333333334,
          "abstraction_min": 7,
          "level": "B"
         },
         {
          "abstraction_avg": 7.344679328607901,
          "abstraction_min": 5.5,
          "level": "B"
         },
         {
          "abstraction_avg": 7.584510281385281,
          "abstraction_min": 6.7272727272727275,
          "level": "B"
         },
         {
          "abstraction_avg": 7.325877192982456,
          "abstraction_min": 6,
          "level": "B"
         },
         {
          "abstraction_avg": 7.7178571428571425,
          "abstraction_min": 6,
          "level": "B"
         },
         {
          "abstraction_avg": 7.095518207282914,
          "abstraction_min": 5.857142857142857,
          "level": "B"
         },
         {
          "abstraction_avg": 7.71159420289855,
          "abstraction_min": 5.2,
          "level": "B"
         },
         {
          "abstraction_avg": 7.622222222222223,
          "abstraction_min": 6,
          "level": "B"
         },
         {
          "abstraction_avg": 7.492328042328043,
          "abstraction_min": 6,
          "level": "B"
         },
         {
          "abstraction_avg": 7.21693722943723,
          "abstraction_min": 5.5,
          "level": "B"
         },
         {
          "abstraction_avg": 7.552831515926757,
          "abstraction_min": 4,
          "level": "B"
         },
         {
          "abstraction_avg": 8.08650563422323,
          "abstraction_min": 5,
          "level": "B"
         },
         {
          "abstraction_avg": 7.5464449388060455,
          "abstraction_min": 3,
          "level": "B"
         },
         {
          "abstraction_avg": 7.819553554336163,
          "abstraction_min": 6,
          "level": "B"
         },
         {
          "abstraction_avg": 7.641827250016906,
          "abstraction_min": 5,
          "level": "B"
         },
         {
          "abstraction_avg": 7.426770746983514,
          "abstraction_min": 5.5,
          "level": "B"
         },
         {
          "abstraction_avg": 7.858791480258869,
          "abstraction_min": 5,
          "level": "B"
         },
         {
          "abstraction_avg": 7.479636591478697,
          "abstraction_min": 5.5,
          "level": "B"
         },
         {
          "abstraction_avg": 8.049678975761994,
          "abstraction_min": 5.75,
          "level": "B"
         },
         {
          "abstraction_avg": 7.711056322594782,
          "abstraction_min": 5,
          "level": "B"
         },
         {
          "abstraction_avg": 7.706170150987224,
          "abstraction_min": 5,
          "level": "B"
         },
         {
          "abstraction_avg": 7.819206349206349,
          "abstraction_min": 4,
          "level": "B"
         },
         {
          "abstraction_avg": 8.283635676492821,
          "abstraction_min": 5,
          "level": "B"
         },
         {
          "abstraction_avg": 7.493600674135025,
          "abstraction_min": 5.75,
          "level": "B"
         },
         {
          "abstraction_avg": 7.893750000000001,
          "abstraction_min": 6,
          "level": "B"
         },
         {
          "abstraction_avg": 7.683392754111447,
          "abstraction_min": 4,
          "level": "B"
         },
         {
          "abstraction_avg": 7.7198457461378664,
          "abstraction_min": 4,
          "level": "B"
         },
         {
          "abstraction_avg": 7.506894841269841,
          "abstraction_min": 6,
          "level": "B"
         },
         {
          "abstraction_avg": 8.15259651550635,
          "abstraction_min": 6,
          "level": "B"
         },
         {
          "abstraction_avg": 7.309595959595958,
          "abstraction_min": 4.666666666666667,
          "level": "B"
         },
         {
          "abstraction_avg": 7.561809523809524,
          "abstraction_min": 6.5,
          "level": "B"
         },
         {
          "abstraction_avg": 7.675945626477542,
          "abstraction_min": 5.5,
          "level": "B"
         },
         {
          "abstraction_avg": 7.301037598764868,
          "abstraction_min": 5,
          "level": "B"
         },
         {
          "abstraction_avg": 7.42266559287836,
          "abstraction_min": 5,
          "level": "B"
         },
         {
          "abstraction_avg": 7.253055555555556,
          "abstraction_min": 3,
          "level": "B"
         },
         {
          "abstraction_avg": 7.361989271017048,
          "abstraction_min": 5.5,
          "level": "B"
         },
         {
          "abstraction_avg": 7.386666666666668,
          "abstraction_min": 6.2,
          "level": "B"
         },
         {
          "abstraction_avg": 7.177272727272728,
          "abstraction_min": 5.666666666666667,
          "level": "B"
         },
         {
          "abstraction_avg": 7.550682124701729,
          "abstraction_min": 5,
          "level": "B"
         },
         {
          "abstraction_avg": 7.6386886627018225,
          "abstraction_min": 5,
          "level": "B"
         },
         {
          "abstraction_avg": 7.213730158730158,
          "abstraction_min": 5.5,
          "level": "B"
         },
         {
          "abstraction_avg": 7.772619047619048,
          "abstraction_min": 6,
          "level": "B"
         },
         {
          "abstraction_avg": 7.574303577081355,
          "abstraction_min": 5.5,
          "level": "B"
         },
         {
          "abstraction_avg": 7.424122807017544,
          "abstraction_min": 5.5,
          "level": "B"
         },
         {
          "abstraction_avg": 7.386076202680679,
          "abstraction_min": 5,
          "level": "B"
         },
         {
          "abstraction_avg": 7.647763347763348,
          "abstraction_min": 5,
          "level": "B"
         },
         {
          "abstraction_avg": 7.110814265099979,
          "abstraction_min": 5.5,
          "level": "B"
         },
         {
          "abstraction_avg": 7.799718614718616,
          "abstraction_min": 5.6,
          "level": "B"
         },
         {
          "abstraction_avg": 7.540623003123002,
          "abstraction_min": 5.666666666666667,
          "level": "B"
         },
         {
          "abstraction_avg": 7.367302203968871,
          "abstraction_min": 4,
          "level": "B"
         },
         {
          "abstraction_avg": 7.442354338782911,
          "abstraction_min": 5.5,
          "level": "B"
         },
         {
          "abstraction_avg": 7.223886953155246,
          "abstraction_min": 6,
          "level": "B"
         },
         {
          "abstraction_avg": 7.8014581026208925,
          "abstraction_min": 5.6,
          "level": "B"
         },
         {
          "abstraction_avg": 8.352136135469468,
          "abstraction_min": 5.7272727272727275,
          "level": "B"
         },
         {
          "abstraction_avg": 7.441873726873722,
          "abstraction_min": 5,
          "level": "B"
         },
         {
          "abstraction_avg": 7.444035258559905,
          "abstraction_min": 5,
          "level": "B"
         },
         {
          "abstraction_avg": 7.3623744447273864,
          "abstraction_min": 4.666666666666667,
          "level": "B"
         },
         {
          "abstraction_avg": 7.050244200244201,
          "abstraction_min": 6,
          "level": "B"
         },
         {
          "abstraction_avg": 7.995943562610228,
          "abstraction_min": 5.5,
          "level": "B"
         },
         {
          "abstraction_avg": 7.6000114488242945,
          "abstraction_min": 5,
          "level": "B"
         },
         {
          "abstraction_avg": 7.648643868209086,
          "abstraction_min": 5.857142857142857,
          "level": "B"
         },
         {
          "abstraction_avg": 7.57923742923743,
          "abstraction_min": 5,
          "level": "B"
         },
         {
          "abstraction_avg": 7.398396526844803,
          "abstraction_min": 5.625,
          "level": "B"
         },
         {
          "abstraction_avg": 6.917943409247758,
          "abstraction_min": 5.5,
          "level": "B"
         },
         {
          "abstraction_avg": 7.405437837016785,
          "abstraction_min": 4.666666666666667,
          "level": "B"
         },
         {
          "abstraction_avg": 7.588025810667319,
          "abstraction_min": 5,
          "level": "B"
         },
         {
          "abstraction_avg": 9.080235042735042,
          "abstraction_min": 5.5,
          "level": "B"
         },
         {
          "abstraction_avg": 7.748431389399133,
          "abstraction_min": 5,
          "level": "B"
         },
         {
          "abstraction_avg": 7.5038729406498,
          "abstraction_min": 5,
          "level": "B"
         },
         {
          "abstraction_avg": 7.606428062678062,
          "abstraction_min": 5,
          "level": "B"
         },
         {
          "abstraction_avg": 7.433333333333334,
          "abstraction_min": 6,
          "level": "B"
         },
         {
          "abstraction_avg": 9.157142857142857,
          "abstraction_min": 6,
          "level": "B"
         },
         {
          "abstraction_avg": 6.8,
          "abstraction_min": 6.6,
          "level": "B"
         },
         {
          "abstraction_avg": 8.69090909090909,
          "abstraction_min": 6.5,
          "level": "B"
         },
         {
          "abstraction_avg": 7.85,
          "abstraction_min": 7,
          "level": "B"
         },
         {
          "abstraction_avg": 6.933333333333334,
          "abstraction_min": 6.2,
          "level": "B"
         },
         {
          "abstraction_avg": 8.033333333333335,
          "abstraction_min": 6,
          "level": "B"
         },
         {
          "abstraction_avg": 8.166666666666666,
          "abstraction_min": 7,
          "level": "B"
         },
         {
          "abstraction_avg": 7.537857142857144,
          "abstraction_min": 6,
          "level": "B"
         },
         {
          "abstraction_avg": 7.959061952540212,
          "abstraction_min": 6.4,
          "level": "B"
         },
         {
          "abstraction_avg": 7.771969696969697,
          "abstraction_min": 5,
          "level": "B"
         },
         {
          "abstraction_avg": 8.458333333333334,
          "abstraction_min": 7.666666666666667,
          "level": "B"
         },
         {
          "abstraction_avg": 7.720528594212805,
          "abstraction_min": 4,
          "level": "B1"
         },
         {
          "abstraction_avg": 8.307637600494742,
          "abstraction_min": 5.75,
          "level": "B1"
         },
         {
          "abstraction_avg": 7.606854256854257,
          "abstraction_min": 6.166666666666667,
          "level": "B1"
         },
         {
          "abstraction_avg": 7.777944862155389,
          "abstraction_min": 4,
          "level": "B1"
         },
         {
          "abstraction_avg": 7.303367592003956,
          "abstraction_min": 5.75,
          "level": "B1"
         },
         {
          "abstraction_avg": 7.163609307359307,
          "abstraction_min": 5,
          "level": "B1"
         },
         {
          "abstraction_avg": 7.637547348484849,
          "abstraction_min": 4,
          "level": "B1"
         },
         {
          "abstraction_avg": 7.643876262626262,
          "abstraction_min": 5.75,
          "level": "B1"
         },
         {
          "abstraction_avg": 8.1626267143709,
          "abstraction_min": 5.666666666666667,
          "level": "B1"
         },
         {
          "abstraction_avg": 7.670781893004117,
          "abstraction_min": 4,
          "level": "B1"
         },
         {
          "abstraction_avg": 7.91047619047619,
          "abstraction_min": 5.833333333333333,
          "level": "B1"
         },
         {
          "abstraction_avg": 8.547812747915792,
          "abstraction_min": 5.5,
          "level": "B1"
         },
         {
          "abstraction_avg": 7.637678185601775,
          "abstraction_min": 5,
          "level": "B1"
         },
         {
          "abstraction_avg": 7.39393824170998,
          "abstraction_min": 5,
          "level": "B1"
         },
         {
          "abstraction_avg": 7.565038830217403,
          "abstraction_min": 4,
          "level": "B1"
         },
         {
          "abstraction_avg": 7.821053195404871,
          "abstraction_min": 5,
          "level": "B1"
         },
         {
          "abstraction_avg": 7.326764618876272,
          "abstraction_min": 5,
          "level": "B1"
         },
         {
          "abstraction_avg": 7.620080528502991,
          "abstraction_min": 4,
          "level": "B1"
         },
         {
          "abstraction_avg": 7.826845314505776,
          "abstraction_min": 5,
          "level": "B1"
         },
         {
          "abstraction_avg": 7.799282784570396,
          "abstraction_min": 5.2,
          "level": "B1"
         },
         {
          "abstraction_avg": 7.800656904333372,
          "abstraction_min": 4,
          "level": "B1"
         },
         {
          "abstraction_avg": 8.032632504296036,
          "abstraction_min": 5,
          "level": "B1"
         },
         {
          "abstraction_avg": 7.480956187188678,
          "abstraction_min": 4,
          "level": "B1"
         },
         {
          "abstraction_avg": 7.702942293806966,
          "abstraction_min": 4,
          "level": "B1"
         },
         {
          "abstraction_avg": 7.726927679128382,
          "abstraction_min": 5,
          "level": "B1"
         },
         {
          "abstraction_avg": 7.480251778374275,
          "abstraction_min": 5,
          "level": "B1"
         },
         {
          "abstraction_avg": 7.732631682327333,
          "abstraction_min": 4,
          "level": "B1"
         },
         {
          "abstraction_avg": 7.751549673916293,
          "abstraction_min": 5,
          "level": "B1"
         },
         {
          "abstraction_avg": 7.803796926888802,
          "abstraction_min": 5,
          "level": "B1"
         },
         {
          "abstraction_avg": 7.8493589743589745,
          "abstraction_min": 5.75,
          "level": "B1"
         },
         {
          "abstraction_avg": 7.976515151515152,
          "abstraction_min": 5.5,
          "level": "B1"
         },
         {
          "abstraction_avg": 7.5496336996337,
          "abstraction_min": 5,
          "level": "B1"
         },
         {
          "abstraction_avg": 6.986111111111112,
          "abstraction_min": 6.166666666666667,
          "level": "B1"
         },
         {
          "abstraction_avg": 7.572222222222222,
          "abstraction_min": 6.333333333333333,
          "level": "B1"
         },
         {
          "abstraction_avg": 7.642783899602082,
          "abstraction_min": 6,
          "level": "B1"
         },
         {
          "abstraction_avg": 7.397510341510342,
          "abstraction_min": 4.666666666666667,
          "level": "B1"
         },
         {
          "abstraction_avg": 7.514619047619047,
          "abstraction_min": 6,
          "level": "B1"
         },
         {
          "abstraction_avg": 8.76846153846154,
          "abstraction_min": 6.166666666666667,
          "level": "B1"
         },
         {
          "abstraction_avg": 7.363057213057213,
          "abstraction_min": 6,
          "level": "B1"
         },
         {
          "abstraction_avg": 7.079166666666667,
          "abstraction_min": 5.666666666666667,
          "level": "B1"
         },
         {
          "abstraction_avg": 7.450382819794585,
          "abstraction_min": 5.5,
          "level": "B1"
         },
         {
          "abstraction_avg": 7.750359032501891,
          "abstraction_min": 6.166666666666667,
          "level": "B1"
         },
         {
          "abstraction_avg": 8.121575276575276,
          "abstraction_min": 6,
          "level": "A1"
         },
         {
          "abstraction_avg": 7.398465724900336,
          "abstraction_min": 5,
          "level": "A1"
         },
         {
          "abstraction_avg": 8.2,
          "abstraction_min": 6,
          "level": "B"
         }
        ]
       },
       "facet": {
        "field": "level",
        "type": "nominal"
       },
       "spec": {
        "encoding": {
         "x": {
          "bin": {
           "maxbins": 30
          },
          "field": "abstraction_avg",
          "type": "quantitative"
         },
         "y": {
          "aggregate": "count",
          "type": "quantitative"
         }
        },
        "mark": "bar"
       }
      },
      "image/png": "[encoded data removed]",
      "text/plain": [
       "<VegaLite 4 object>\n",
       "\n",
       "If you see this message, it means the renderer has not been properly enabled\n",
       "for the frontend that you are using. For more information, see\n",
       "https://altair-viz.github.io/user_guide/troubleshooting.html\n"
      ]
     },
     "execution_count": 43,
     "metadata": {},
     "output_type": "execute_result"
    }
   ],
   "source": [
    "alt.Chart(level_da_df).mark_bar().encode(x = alt.X('abstraction_avg', bin = alt.Bin(maxbins = 30)), y = 'count()').facet('level')"
   ]
  },
  {
   "cell_type": "markdown",
   "id": "restricted-xerox",
   "metadata": {},
   "source": [
    "## Degree of Ambiguation\n",
    "\n",
    "This feature is based one of the measures suggested in the paper: \"Coh-Metrix: Analysis of text on cohesion and language\". \n",
    "The authors of the paper suggest that the degree of ambiguation can be measured by number of senses in WordNet. Words having many senses tend to be more ambiguous. \n",
    "\n",
    "We calculate the degree of ambiguousness of a Spanish text by taking the average over the number of senses in the tokens in the text. "
   ]
  },
  {
   "cell_type": "code",
   "execution_count": 22,
   "id": "incredible-discrimination",
   "metadata": {},
   "outputs": [],
   "source": [
    "def polysemy_ambiguation(text):\n",
    "    ''' This function measures degree of ambiguation of a text by counting the number of senses of each token.\n",
    "    ------------------------------------------------\n",
    "    Argument: text (str)\n",
    "    Returns: the degree of ambiguation as mean over all tokens (the higher, more ambiguous)\n",
    "             the degree of ambiguation as mean over all content tokens \n",
    "    '''\n",
    "    \n",
    "    sent_tokens, sent_senses = [], []\n",
    "    sent_cont_tokens, sent_cont_senses = [], []\n",
    "    num_senses, num_cont_senses = 0, 0\n",
    "\n",
    "    tp = feature_pipeline(text)\n",
    "    tp.get_tokens()\n",
    "    tp.get_pos_tags()\n",
    "    #for i_sent, sent in enumerate(tp.tokens):\n",
    "    for i_token, token in enumerate(tp.tokens):\n",
    "        token = token.lower()\n",
    "        synsets = wncr.synsets(token)\n",
    "        if len(synsets) > 0 :                                                                                              # all words \n",
    "            num_senses += len(synsets) \n",
    "            sent_tokens.append(token)                # for debugging purpose \n",
    "            sent_senses.append(len(synsets))\n",
    "        if tp.pos_tags[i_token] in {\"VERB\", \"NOUN\", \"PROPN\", \"ADP\", \"ADJ\", \"ADV\"} and len(synsets) > 0:                # function workds \n",
    "            num_cont_senses  += len(synsets)\n",
    "            sent_cont_tokens.append(token)\n",
    "            sent_cont_senses.append(len(synsets))\n",
    "            \n",
    "    if sent_senses == []:\n",
    "        return 0, 0\n",
    "    \n",
    "    return np.mean(sent_senses), np.mean(sent_cont_senses)            "
   ]
  },
  {
   "cell_type": "markdown",
   "id": "urban-andrew",
   "metadata": {},
   "source": [
    "### Tests\n",
    "\n",
    "Shown below are test cases for polysemy_ambiguatoin function. Please note that these codes are written to make debugging easier and they are not written for efficiency.\n",
    "The codes print a lot of redundant information for debugging purpose. "
   ]
  },
  {
   "cell_type": "markdown",
   "id": "seven-virginia",
   "metadata": {},
   "source": [
    "#### Boundary Cases"
   ]
  },
  {
   "cell_type": "code",
   "execution_count": 23,
   "id": "perceived-eleven",
   "metadata": {},
   "outputs": [],
   "source": [
    "text = ''\n",
    "assert polysemy_ambiguation(text) == (0, 0)"
   ]
  },
  {
   "cell_type": "code",
   "execution_count": 24,
   "id": "general-parish",
   "metadata": {},
   "outputs": [],
   "source": [
    "text = '1.'\n",
    "assert polysemy_ambiguation(text) == (0, 0)"
   ]
  },
  {
   "cell_type": "markdown",
   "id": "partial-harris",
   "metadata": {},
   "source": [
    "#### Bruce force vs. Implementation (Simple Cases)"
   ]
  },
  {
   "cell_type": "code",
   "execution_count": 25,
   "id": "spiritual-consensus",
   "metadata": {},
   "outputs": [
    {
     "name": "stdout",
     "output_type": "stream",
     "text": [
      "voy VERB []\n",
      "a ADP [Synset('a.n.01')]\n",
      "la DET [Synset('la.n.01')]\n",
      "escuela NOUN [Synset('colegio.n.01'), Synset('escuela.n.02'), Synset('colegio.n.02'), Synset('colegio.n.03')]\n",
      ". PUNCT []\n",
      "voy VERB []\n",
      "a ADP [Synset('a.n.01')]\n",
      "la DET [Synset('la.n.01')]\n",
      "escuela NOUN [Synset('colegio.n.01'), Synset('escuela.n.02'), Synset('colegio.n.02'), Synset('colegio.n.03')]\n",
      "el DET []\n",
      "lunes NOUN [Synset('lunes.n.01')]\n",
      ", PUNCT []\n",
      "el DET []\n",
      "martes NOUN [Synset('martes.n.01'), Synset('marte.n.01')]\n",
      ", PUNCT []\n",
      "el DET []\n",
      "miércoles NOUN [Synset('miércoles.n.01')]\n",
      ", PUNCT []\n",
      "el DET []\n",
      "jueves NOUN [Synset('jueves.n.01')]\n",
      "y CCONJ [Synset('y.n.01')]\n",
      "el DET []\n",
      "viernes NOUN [Synset('viernes.n.01')]\n",
      ". PUNCT []\n",
      "1.5833333333333333 1.7777777777777777\n",
      "(1.5833333333333333, 1.7777777777777777)\n"
     ]
    }
   ],
   "source": [
    "text = 'Voy a la escuela. Voy a la escuela el lunes, el martes, el miércoles, el jueves y el viernes.'\n",
    "tp = feature_pipeline(text)\n",
    "tp.get_tokens()\n",
    "tp.get_pos_tags()\n",
    "num_synsets, num_tokens = 0, 0\n",
    "num_cont_synsets, num_cont_tokens = 0, 0\n",
    "\n",
    "#for i_sent, sent in enumerate(tp.tokens):\n",
    "for i_token, token in enumerate(tp.tokens):\n",
    "    token = token.lower()\n",
    "    synsets = wncr.synsets(token)\n",
    "    print(token, tp.pos_tags[i_token], synsets)\n",
    "    if len(synsets) > 0:                                                                                 # all words \n",
    "        num_synsets += len(synsets)\n",
    "        num_tokens += 1\n",
    "    if tp.pos_tags[i_token] in {\"VERB\", \"NOUN\", \"PROPN\", \"ADP\", \"ADJ\", \"ADV\"} and len(synsets) > 0:   # function words \n",
    "        num_cont_synsets += len(synsets)\n",
    "        num_cont_tokens += 1\n",
    "\n",
    "print(num_synsets/num_tokens, num_cont_synsets/num_cont_tokens)  # Make sure that these are the same as the function returns. \n",
    "print(polysemy_ambiguation(text)) "
   ]
  },
  {
   "cell_type": "code",
   "execution_count": 27,
   "id": "broadband-argument",
   "metadata": {},
   "outputs": [
    {
     "name": "stdout",
     "output_type": "stream",
     "text": [
      "Me llamo María Pérez y tengo diecinueve años. Nací en Málaga, pero vivo en Granada. Soy estudiante de primer curso de Periodismo. De lunes a viernes me levanto a las siete y media, desayuno y camino hasta la universidad. Entro en clase a las nueve y salgo a la una. Al medio día, como en mi casa y veo la televisión. Por la tarde, estudio hasta las siete y después quedo con mis amigas. A nosotras nos gusta mucho el cine, el teatro y la música. Los viernes por la noche cenamos pizza y bailamos en la discoteca. Todos los sábados visito a mi familia en Málaga. El domingo por la tarde regreso a Granada y, si hace sol, salgo con mi perro a dar un paseo. ¡Me encantan los animales!\n",
      "3.0714285714285716 3.586206896551724\n",
      "(3.0714285714285716, 3.586206896551724)\n"
     ]
    }
   ],
   "source": [
    "text = corpus['A1'][0]['content']\n",
    "print(text)\n",
    "\n",
    "tp = feature_pipeline(text)\n",
    "tp.get_tokens()\n",
    "tp.get_pos_tags()\n",
    "num_synsets, num_tokens = 0, 0\n",
    "num_cont_synsets, num_cont_tokens = 0, 0\n",
    "\n",
    "#for i_sent, sent in enumerate(tp.tokens):\n",
    "for i_token, token in enumerate(tp.tokens):\n",
    "    token = token.lower()\n",
    "    synsets = wncr.synsets(token)\n",
    "    #print(token, tp.pos_tags[i_token], synsets)\n",
    "    if len(synsets) > 0:                                                                                 # all words \n",
    "        num_synsets += len(synsets)\n",
    "        num_tokens += 1\n",
    "    if tp.pos_tags[i_token] in {\"VERB\", \"NOUN\", \"PROPN\", \"ADP\", \"ADJ\", \"ADV\"} and len(synsets) > 0:   # function words \n",
    "        num_cont_synsets += len(synsets)\n",
    "        num_cont_tokens += 1\n",
    "\n",
    "print(num_synsets/num_tokens, num_cont_synsets/num_cont_tokens)  # Make sure that these are the same as the function returns. \n",
    "print(polysemy_ambiguation(text)) "
   ]
  },
  {
   "cell_type": "markdown",
   "id": "impressive-membrane",
   "metadata": {},
   "source": [
    "#### Test on small examples"
   ]
  },
  {
   "cell_type": "code",
   "execution_count": 28,
   "id": "limited-bandwidth",
   "metadata": {},
   "outputs": [
    {
     "name": "stdout",
     "output_type": "stream",
     "text": [
      "Capítulo I \n",
      "Que trata de la condición y ejercicio del famoso\n",
      "hi dalgo don Quijote de la Mancha  \n",
      " de cuyo nombre no \n",
      "quiero acordarme, no ha mucho tiempo que vivía un hidalgo \n",
      "de los de lanza en astillero, adarga antigua, rocín flaco y galgo \n",
      "corredor. Una olla de algo más vaca que carnero, salpicón las \n",
      "más noches, duelos y quebrantos los sábados, lentejas los \n",
      "viernes, algún palomino de añadidura los domingos, consumían \n",
      "las tres partes de su hacienda. El resto della concluían sayo \n",
      "de velarte, calzas de velludo para las fiestas, con sus pantu-\n",
      "flos de lo mesmo, y los días de entresemana se honraba consu \n",
      "vellorí de lo más fino. Tenía en su casa una ama que pasaba  \n",
      "de los cuarenta, y una sobrina que no llegaba a los veinte, y \n",
      "un mozo de campo y plaza, que así ensillaba el rocín como \n",
      "tomaba la podadera. Frisaba la edad de nuestro hidalgo con los  \n",
      "cincuenta años; era de complexión recia, seco de carnes, enjuto de \n",
      "rostro, gran madrugador y amigo de la caza. Quieren decir que tenía el \n",
      "sobrenombre \n",
      "de Quijada o \n",
      "Quesada, que en \n",
      "esto hay alguna  \n",
      "diferencia en los\n",
      "autores que deste \n",
      "caso escriben; \n",
      "aunque, por\n",
      "conjeturas vero-\n",
      "símiles, se deja \n",
      "entender que se \n",
      "lla maba Quejana. \n",
      "Pero esto importa\n",
      "poco a nuestro  \n",
      "cuento; basta \n",
      "que en la narra-\n",
      "ción dél no se \n",
      "salga un punto \n",
      "de la verdad.  Es, pues, de saber que este sobredicho hidalgo, los ratos que \n",
      "estaba ocioso, que eran los más del año, se daba a leer libros de \n",
      "caballerías, con tanta afición y gusto, que olvidó casi de todo \n",
      "punto el ejercicio de la caza y aun la administración de su       \n",
      "hacienda; y llegó a tanto su curiosidad y desatino en esto, que \n",
      "vendió muchas hanegas de tierra de sembradura para  \n",
      "comprar libros de caballerías en que leer, y así, llevó a su casa  \n",
      "todos cuantos pudo haber dellos; y de todos, ningunos le parecían \n",
      "tan bien como los que compuso el famoso Feliciano de Silva, porque \n",
      "la claridad de su prosa y aquellas entricadas razones suyas le parecían \n",
      "de perlas, y más cuando llegaba a leer aquellos requiebros y cartas \n",
      "de desafíos, donde en muchas partes hallaba escrito: La razón de la \n",
      "sinrazón que a mi razón se hace, de tal manera mi razón enflaquece, que \n",
      "con razón me quejo de la vuestra fermosura*. Y también cuando leía; \n",
      "…los altos cielos que de vuestra divinidad divinamente con las estrellas os \n",
      "fortifican y os hacen merecedora del merecimiento que merece la vuestra  \n",
      "grandeza. \n",
      " Con estas razones perdía el pobre caballero el juicio, \n",
      "y desvelábase por entenderlas y desentrañarles el sentido,  \n",
      "que no se lo sacara ni las entendiera el mesmo Aristóteles, si     \n",
      "resucitara para sólo ello. No estaba muy bien con las heridas \n",
      "que don Belianís daba y recebía, porque se imaginaba que, por  \n",
      "grandes maestros que le hubiesen curado, no dejaría de tener  \n",
      "el rostro y todo el cuerpo lleno de cicatrices y señales. Pero, \n",
      "con todo, alababa en su autor aquel acabar su libro con la   \n",
      "promesa de aquella inacabable aventura, y muchas veces le vino \n",
      "deseo de tomar la pluma y dalle fin al pie de la letra, como allí \n",
      "se promete; y sin duda alguna lo hiciera, y aun saliera con ello, \n",
      "si otros mayores y continuos pensamientos no se lo estorbaran. \n",
      "Tuvo muchas veces competencia con el cura de su lugar —que \n",
      "era hombre docto, graduado en Sigüenza—, sobre cuál había \n",
      "sido mejor caballero; Palmerín de Inglaterra o Amadís de \n",
      "Gaula; mas maese Nicolás, barbero del mesmo pueblo, decía \n",
      "que     ninguno llegaba al Caballero del Febo, y que si alguno se le  \n",
      "podía comparar, era don Galaor, hermano de Amadís de Gaula, \n",
      "porque tenía muy acomodada condición para todo; que no eracaballero melindroso, ni tan llorón como su hermano, y que en lo \n",
      "de la valentía no le iba en zaga. \n",
      " En resolución, él se enfrascó tanto en su lectura, que se \n",
      "le pasaban las noches leyendo de claro en claro, y los días de     \n",
      "turbio en turbio; y así, del poco dormir y del mucho leer, se  \n",
      "le secó el cerebro, de manera que vino a perder el juicio.      \n",
      "Llenósele la fantasía de todo aquello que leía en los libros, así de \n",
      "encantamientos como de pendencias, batallas, desafíos, heridas, \n",
      "requiebros, amores, tormentas y disparates imposibles; y \n",
      "asentósele de tal modo en la imaginación que era verdad toda \n",
      "aquella máquina de aquellas sonadas soñadas invenciones que \n",
      "leía, que para él no había otra historia más cierta en el mundo. \n",
      "Decía él que el Cid Ruy Díaz había sido muy buen caballero,   \n",
      "pero que no tenía que ver con el Caballero de la Ardiente \n",
      "Espada, que de sólo un revés había partido por medio dos  \n",
      "fieros y descomunales gigantes. Mejor estaba con Bernardo \n",
      "del Carpio, porque en Roncesvalles había muerto a Roldán, el \n",
      "encantado, valiéndose de la industria de Hércules, cuando ahogó \n",
      "a Anteo, el hijo de la Tierra, entre los brazos. Decía mucho bien \n",
      "del gigante Morgante, porque, con ser de aquella generación  \n",
      "gigantea, que todos son soberbios y descomedidos, él solo  \n",
      "era afable y bien criado. Pero, sobre todos, estaba bien con   \n",
      "Reinaldos de Montalbán, y más cuando le veía salir de su castillo \n",
      "y robar cuantos topaba, y cuando en allende robó aquel ídolo  \n",
      "de Mahoma que era todo de oro, según dice su historia. Diera él, \n",
      "por dar una mano de coces al traidor de Galalón, al ama que tenía \n",
      "y aun a su sobrina de añadidura. \n",
      " En efecto, rematado ya su juicio, vino a dar en el más       \n",
      "extraño pensamiento que jamás dio loco en el mundo; y fue \n",
      "que le pareció convenible y necesario, así para el aumento de \n",
      "su honra como para el servicio de su república, hacerse caballero \n",
      "andante, e irse por todo el mundo con sus armas y caballo \n",
      "a buscar las aventuras y a ejercitarse en todo aquello que él  \n",
      "había leído que los caballeros andantes se ejercitaban, deshaciendo todo género de agravio, y poniéndose en ocasiones y peligros \n",
      "donde, acabándolos, cobrase eterno nombre y fama Imaginábase el \n",
      "pobre ya coronado por el valor de su brazo, por lo menos, del imperio \n",
      "de Trapisonda; y así, con estos tan agradables pensamientos, llevado \n",
      "del extraño gusto que en ellos sentía, se dio priesa a poner en efeto \n",
      "lo que deseaba. \n",
      " Y lo primero que hizo fue limpiar unas armas que habían \n",
      "sido de sus bisabuelos, que, tomadas de orín y llenas de moho, \n",
      "luengos siglos había que estaban puestas y olvidadas en un \n",
      "rincón. Limpiólas y aderezólas lo mejor que pudo, pero \n",
      "vio que tenían una gran falta, y era que no tenían celada de        \n",
      "encaje, sino morrión simple (era solamente media celada);  \n",
      "mas a esto suplió su industria, porque de cartones hizo un  \n",
      "modo de media celada (una visera), que, encajada con el         \n",
      "morrión, hacían una apariencia de celada entera. Es verdad que  \n",
      "para probar si era fuerte y podía estar al riesgo de una  \n",
      "cuchillada, sacó su espada y le dio dos golpes, y con el primero  \n",
      "y en un punto deshizo lo que había hecho en una semana; y no \n",
      "dejó de parecerle mal la facilidad con que la había hecho       \n",
      "pedazos, y, por asegurarse deste peligro, la tornó a hacer de nuevo, \n",
      "poniéndole unas barras de hierro por de dentro, de tal manera \n",
      "que él quedó satisfecho de su fortaleza; y, sin querer hacer nueva \n",
      "experiencia della, la diputó y tuvo por celada finísima de encaje. \n",
      " Fue luego a ver su rocín, y, aunque tenía más cuartos que un \n",
      "real y más tachas que el caballo de Gonela, que tantum pellis et \n",
      "ossa fuit, le pareció que ni el Bucéfalo de Alejandro ni Babieca el \n",
      "del Cid con él se igualaban. Cuatro días se le pasaron en imaginar \n",
      "qué nombre le pondría; porque, según se decía él a sí mesmo, no \n",
      "era razón que caballo de caballero tan famoso, y tan bueno él por sí, \n",
      "estuviese sin nombre conocido; y ansí, procuraba acomodársele de \n",
      "manera que declarase quién había sido, antes que fuese de caballero \n",
      "andante, y lo que era  entonces; pues estaba muy puesto en razón que, \n",
      "mudando su señor estado, mudase él también el nombre, y cobrase   \n",
      "famoso y de estruendo, como convenía a la nueva orden y al nuevo \n",
      "ejercicio que ya profesaba. Y así, después de muchos nombres  \n",
      "que formó, borró y quitó, añadió, deshizo y tornó a hacer en   \n",
      "su memoria e imaginación, al fin le vino a llamar Rocinante, \n",
      "nombre, a su parecer, alto, sonoro y significativo de lo que  \n",
      "había sido cuando fue rocín, antes de lo que ahora era, que era \n",
      "antes y primero de todos los rocines del mundo. Puesto nombre, y tan a su gusto, a su caballo, quiso  \n",
      "ponérsele a sí mismo, y en este pensamiento duró otros ocho  \n",
      "días, y al cabo se vino a llamar don Quijote; de donde, como  \n",
      "queda dicho, tomaron ocasión los autores desta tan verdadera \n",
      "historia que, sin duda, se debía de llamar Quijada, y no Quesada, \n",
      "como otros quisieron decir. Pero, acordándose que el valeroso  \n",
      "Amadís no sólo se había contentado con llamarse Amadís  \n",
      "a secas, sino que añadió el nombre de su reino y patria, por \n",
      "Hepila famosa, y se llamó Amadís de Gaula, así quiso, como \n",
      "buen caballero, añadir al suyo el nombre de la suya y llamarse \n",
      "don Quijote de la Mancha, con que, a su parecer, declaraba muy al  \n",
      "vivo su linaje y patria, y la honraba con tomar el sobrenombre  \n",
      "della. \n",
      " Limpias, pues, sus armas, hecho del morrión celada, \n",
      "puesto nombre a su rocín y confirmándose a sí mismo, se dio a \n",
      "entender que no le faltaba otra cosa sino buscar una dama de quien \n",
      "enamorarse; porque el caballero andante sin amores era árbol sin \n",
      "hojas y sin fruto y cuerpo sin alma. Decíase él: \n",
      " —Si yo, por malos de mis pecados, o por mi buena suerte, \n",
      "me encuentro por ahí con algún gigante, como de ordinario les  \n",
      "acontece a los caballeros andantes, y le derribo de un encuentro, o le \n",
      "parto por mitad del cuerpo, o, finalmente, le venzo y le rindo, \n",
      "rendido.\n",
      " —Yo, señora, soy el gigante Caraculiambro, señor de la \n",
      "ínsula Malindrania, a quien venció en singular batalla el jamás  \n",
      "como se debe alabado caballero don Quijote de la Mancha, el  \n",
      "cual me mandó que me presentase ante vuestra merced, para  \n",
      "que la vuestra grandeza disponga de mí a su talante. Capítulo 2  \n",
      " ¡Oh, cómo se holgó nuestro buen caballero cuando hubo \n",
      "hecho este discurso, y más cuando halló a quien dar nombre de \n",
      "su dama! Y fue, a lo que se cree, que en un lugar cerca del suyo \n",
      "había una moza labradora de muy buen parecer, de quien él un \n",
      "tiempo anduvo enamorado, aunque, según se entiende, ella jamás \n",
      "lo supo, ni le dio cata dello. Llamábase Aldonza Lorenzo, y a \n",
      "ésta le pareció ser bien darle título de señora de sus pensamientos; \n",
      "y, buscándole nombre que no desdijese mucho del suyo, y que \n",
      "tirase y se encaminase al de princesa y gran señora, vino a lla marla \n",
      "Dulcinea del Toboso, porque era natural del Toboso; nombre, a su \n",
      "parecer, músico y peregrino y significativo, como todos los demás \n",
      "que a él y a sus cosas había puesto. \n",
      "3.5323974082073435 4.125884016973126\n",
      "(3.5323974082073435, 4.125884016973126)\n"
     ]
    }
   ],
   "source": [
    "text = corpus['A2'][0]['content']\n",
    "print(text)\n",
    "\n",
    "tp = feature_pipeline(text)\n",
    "tp.get_tokens()\n",
    "tp.get_pos_tags()\n",
    "num_synsets, num_tokens = 0, 0\n",
    "num_cont_synsets, num_cont_tokens = 0, 0\n",
    "\n",
    "#for i_sent, sent in enumerate(tp.tokens):\n",
    "for i_token, token in enumerate(tp.tokens):\n",
    "    token = token.lower()\n",
    "    synsets = wncr.synsets(token)\n",
    "    #print(token, tp.pos_tags[i_token], synsets)\n",
    "    if len(synsets) > 0:                                                                                 # all words \n",
    "        num_synsets += len(synsets)\n",
    "        num_tokens += 1\n",
    "    if tp.pos_tags[i_token] in {\"VERB\", \"NOUN\", \"PROPN\", \"ADP\", \"ADJ\", \"ADV\"} and len(synsets) > 0:   # function words \n",
    "        num_cont_synsets += len(synsets)\n",
    "        num_cont_tokens += 1\n",
    "\n",
    "print(num_synsets/num_tokens, num_cont_synsets/num_cont_tokens)  # Make sure that these are the same as the function returns. \n",
    "print(polysemy_ambiguation(text)) "
   ]
  },
  {
   "cell_type": "code",
   "execution_count": 29,
   "id": "proof-equipment",
   "metadata": {},
   "outputs": [
    {
     "name": "stdout",
     "output_type": "stream",
     "text": [
      "Mark está de viaje de negocios en Barcelona. Hoy tuvo un día libre y salió a visitar la ciudad. Primero, caminó por La Rambla, la calle más famosa de Barcelona, llena de gente, tiendas y restaurantes. Se dirigió al Barrio Gótico, uno de los sitios más antiguos y bellos de la ciudad. En la Plaza Sant Jaume observó dos de los edificios más importantes: El Palacio de la Generalitat de Catalunya y el Ayuntamiento. Volvió a La Rambla. Mark tenía hambre y se detuvo a comer unas tapas y beber una cerveza. Continuó hasta la grande y hermosa Plaza de Catalunya. Avanzó por el Paseo de Gràcia hasta llegar a un edificios fuera de lo común Casa Batlló y luego a Casa Milà, diseños del arquitecto Antoni Gaudí. Quiso saber más sobre este famoso arquitecto y se dirigió al Park Güell, donde tomó muchas fotografías. El día se acababa pero antes de volver al hotel, Mark tomó un taxi hacia la Fuente Mágica y disfrutó de un espectáculo de agua y luces. Mark quedó sorprendido con esta gran ciudad y sintió que le faltó tiempo para conocer más lugares interesantes. Se prometió regresar para tomar unas vacaciones con su familia.\n",
      "3.045045045045045 3.5681818181818183\n",
      "(3.045045045045045, 3.5681818181818183)\n"
     ]
    }
   ],
   "source": [
    "text = corpus['B1'][0]['content']\n",
    "print(text)\n",
    "\n",
    "tp = feature_pipeline(text)\n",
    "tp.get_tokens()\n",
    "tp.get_pos_tags()\n",
    "num_synsets, num_tokens = 0, 0\n",
    "num_cont_synsets, num_cont_tokens = 0, 0\n",
    "\n",
    "#for i_sent, sent in enumerate(tp.tokens):\n",
    "for i_token, token in enumerate(tp.tokens):\n",
    "    token = token.lower()\n",
    "    synsets = wncr.synsets(token)\n",
    "    #print(token, tp.pos_tags[i_token], synsets)\n",
    "    if len(synsets) > 0:                                                                                 # all words \n",
    "        num_synsets += len(synsets)\n",
    "        num_tokens += 1\n",
    "    if tp.pos_tags[i_token] in {\"VERB\", \"NOUN\", \"PROPN\", \"ADP\", \"ADJ\", \"ADV\"} and len(synsets) > 0:   # function words \n",
    "        num_cont_synsets += len(synsets)\n",
    "        num_cont_tokens += 1\n",
    "\n",
    "print(num_synsets/num_tokens, num_cont_synsets/num_cont_tokens)  # Make sure that these are the same as the function returns. \n",
    "print(polysemy_ambiguation(text)) "
   ]
  },
  {
   "cell_type": "code",
   "execution_count": 30,
   "id": "intensive-punch",
   "metadata": {},
   "outputs": [
    {
     "name": "stdout",
     "output_type": "stream",
     "text": [
      " \n",
      "ABENÁMAR\n",
      "Abenámar, Abenámar,\n",
      "moro de la morería,\n",
      "el día que tú naciste\n",
      "grandes señales había!5\n",
      "Estaba la mar en calma,\n",
      "la luna estaba crecida:\n",
      "moro que en tal signo nace,\n",
      "no debe decir mentira.—\n",
      "Allí respondiera el moro,10\n",
      "bien oiréis lo que decía:\n",
      "—Yo te la diré, señor,\n",
      "aunque me cueste la vida,\n",
      "porque soy hijo de un moro\n",
      "y una cristiana cautiva;15\n",
      "siendo yo niño y muchacho\n",
      "mi madre me lo decía:\n",
      "que mentira no dijese,\n",
      "que era grande villanía:2\n",
      "por tanto pregunta, rey,\n",
      "que la verdad te diría.\n",
      "—Yo te agradezco, Abenámar\n",
      "aquesa tu cortesía.\n",
      "¿Qué castillos son aquéllos?5\n",
      "¡Altos son y relucían!\n",
      "—El Alhambra era, señor,\n",
      "y la otra la mezquita;\n",
      "los otros los Alixares,\n",
      "labrados á maravilla.10\n",
      "El moro que los labraba\n",
      "cien doblas ganaba al día,\n",
      "y el día que no los labra\n",
      "otras tantas se perdía.\n",
      "El otro es Generalife,15\n",
      "huerta que par no tenía;\n",
      "el otro Torres Bermejas,\n",
      "castillo de gran valía.—\n",
      "Allí habló el rey don Juan,\n",
      "bien oiréis lo que decía:20\n",
      "—Si tú quisieses, Granada,\n",
      "contigo me casaría;\n",
      "daréte en arras y dote\n",
      "á Córdoba y á Sevilla.\n",
      "—Casada soy, rey don Juan,25\n",
      "casada soy, que no viuda;\n",
      "el moro que á mí me tiene3\n",
      "muy grande bien me quería.\n",
      "Fonte-frida, fonte-frida,\n",
      "fonte-frida y con amor,\n",
      "do todas las avecicas\n",
      "van tomar consolación,5\n",
      "sino es la tortolica\n",
      "que está viuda y con dolor.\n",
      "Por allí fuera á pasar\n",
      "el traidor de ruiseñor:\n",
      "las palabras que le dice10\n",
      "llenas son de traición:\n",
      "—Si tú quisieses, señora,\n",
      "yo sería tu servidor.\n",
      "—Vete de ahí, enemigo,\n",
      "malo, falso, engañador,15\n",
      "que ni poso en ramo verde,\n",
      "ni en prado que tenga flor;\n",
      "que si el agua hallo clara,\n",
      "turbia la bebía yo;\n",
      "que no quiero haber marido,20\n",
      "porque hijos no haya, no:\n",
      "no quiero placer con ellos,\n",
      "ni menos consolación.\n",
      "¡Déjame, triste enemigo,\n",
      "malo, falso, mal traidor,25\n",
      "que no quiero ser tu amiga,\n",
      "ni casar contigo, no.\n",
      "\n",
      "3.6733333333333333 4.239669421487603\n",
      "(3.6733333333333333, 4.239669421487603)\n"
     ]
    }
   ],
   "source": [
    "text = corpus['B'][0]['content']\n",
    "print(text)\n",
    "\n",
    "tp = feature_pipeline(text)\n",
    "tp.get_tokens()\n",
    "tp.get_pos_tags()\n",
    "num_synsets, num_tokens = 0, 0\n",
    "num_cont_synsets, num_cont_tokens = 0, 0\n",
    "\n",
    "#for i_sent, sent in enumerate(tp.tokens):\n",
    "for i_token, token in enumerate(tp.tokens):\n",
    "    token = token.lower()\n",
    "    synsets = wncr.synsets(token)\n",
    "    #print(token, tp.pos_tags[i_token], synsets)\n",
    "    if len(synsets) > 0:                                                                                 # all words \n",
    "        num_synsets += len(synsets)\n",
    "        num_tokens += 1\n",
    "    if tp.pos_tags[i_token] in {\"VERB\", \"NOUN\", \"PROPN\", \"ADP\", \"ADJ\", \"ADV\"} and len(synsets) > 0:   # function words \n",
    "        num_cont_synsets += len(synsets)\n",
    "        num_cont_tokens += 1\n",
    "\n",
    "print(num_synsets/num_tokens, num_cont_synsets/num_cont_tokens)  # Make sure that these are the same as the function returns. \n",
    "print(polysemy_ambiguation(text)) "
   ]
  },
  {
   "cell_type": "markdown",
   "id": "quantitative-fifty",
   "metadata": {},
   "source": [
    "### Run through Corpora"
   ]
  },
  {
   "cell_type": "code",
   "execution_count": 31,
   "id": "increased-empire",
   "metadata": {},
   "outputs": [],
   "source": [
    "level_list = ['A1', 'A2', 'B', 'B1']\n",
    "level_degree_ambig = defaultdict(list)\n",
    "for level in level_list:\n",
    "    corpus_item = corpus[level]\n",
    "    for i, text_item in enumerate(corpus_item):\n",
    "        try: \n",
    "            am_avg, am_cont = polysemy_ambiguation(text_item['content'])\n",
    "            level_degree_ambig['level'].append(level)\n",
    "            level_degree_ambig['ambiguity_avg'].append(am_avg)    # pick out the most abstract word in each text \n",
    "            level_degree_ambig['ambiguity_cont'].append(am_cont)    # average abstractness in each text \n",
    "            \n",
    "        except:\n",
    "            print(f'Error', level, i)\n",
    "            pass"
   ]
  },
  {
   "cell_type": "markdown",
   "id": "governing-access",
   "metadata": {},
   "source": [
    "### Plot Distributions\n",
    "\n",
    "We plot the ambiguity distribution by text difficulty level."
   ]
  },
  {
   "cell_type": "code",
   "execution_count": 32,
   "id": "derived-accent",
   "metadata": {},
   "outputs": [
    {
     "data": {
      "application/vnd.vegalite.v4+json": {
       "$schema": "https://vega.github.io/schema/vega-lite/v4.8.1.json",
       "config": {
        "view": {
         "continuousHeight": 300,
         "continuousWidth": 400
        }
       },
       "data": {
        "name": "data-8c94a6a0ed4ce269d16eea0f4b8b5a93"
       },
       "datasets": {
        "data-8c94a6a0ed4ce269d16eea0f4b8b5a93": [
         {
          "ambiguity_avg": 3.0714285714285716,
          "ambiguity_cont": 3.586206896551724,
          "level": "A1"
         },
         {
          "ambiguity_avg": 3.2403846153846154,
          "ambiguity_cont": 3.987012987012987,
          "level": "A1"
         },
         {
          "ambiguity_avg": 3.7948717948717947,
          "ambiguity_cont": 4.467741935483871,
          "level": "A1"
         },
         {
          "ambiguity_avg": 3.1666666666666665,
          "ambiguity_cont": 3.478723404255319,
          "level": "A1"
         },
         {
          "ambiguity_avg": 4.388888888888889,
          "ambiguity_cont": 4.961038961038961,
          "level": "A1"
         },
         {
          "ambiguity_avg": 3.3451776649746194,
          "ambiguity_cont": 4.006535947712418,
          "level": "A1"
         },
         {
          "ambiguity_avg": 3.832579185520362,
          "ambiguity_cont": 4.459770114942529,
          "level": "A1"
         },
         {
          "ambiguity_avg": 3.415492957746479,
          "ambiguity_cont": 4.0186335403726705,
          "level": "A1"
         },
         {
          "ambiguity_avg": 3.0373626373626372,
          "ambiguity_cont": 3.59375,
          "level": "A1"
         },
         {
          "ambiguity_avg": 3.1512605042016806,
          "ambiguity_cont": 3.597826086956522,
          "level": "A1"
         },
         {
          "ambiguity_avg": 2.9541284403669725,
          "ambiguity_cont": 3.3295880149812733,
          "level": "A1"
         },
         {
          "ambiguity_avg": 3.0669642857142856,
          "ambiguity_cont": 3.5864197530864197,
          "level": "A1"
         },
         {
          "ambiguity_avg": 2.6029411764705883,
          "ambiguity_cont": 3.216494845360825,
          "level": "A1"
         },
         {
          "ambiguity_avg": 2.824263038548753,
          "ambiguity_cont": 3.384853168469861,
          "level": "A1"
         },
         {
          "ambiguity_avg": 3.725,
          "ambiguity_cont": 4.204545454545454,
          "level": "A1"
         },
         {
          "ambiguity_avg": 3.278969957081545,
          "ambiguity_cont": 4.083832335329341,
          "level": "A1"
         },
         {
          "ambiguity_avg": 3.046747967479675,
          "ambiguity_cont": 3.4207792207792207,
          "level": "A1"
         },
         {
          "ambiguity_avg": 3.1867816091954024,
          "ambiguity_cont": 3.63953488372093,
          "level": "A1"
         },
         {
          "ambiguity_avg": 2.8877551020408165,
          "ambiguity_cont": 3.796875,
          "level": "A1"
         },
         {
          "ambiguity_avg": 2.984198645598194,
          "ambiguity_cont": 3.3909348441926346,
          "level": "A1"
         },
         {
          "ambiguity_avg": 3.6710526315789473,
          "ambiguity_cont": 4.35,
          "level": "A1"
         },
         {
          "ambiguity_avg": 3.9375,
          "ambiguity_cont": 4.805555555555555,
          "level": "A1"
         },
         {
          "ambiguity_avg": 2.5714285714285716,
          "ambiguity_cont": 2.8048780487804876,
          "level": "A1"
         },
         {
          "ambiguity_avg": 2.76,
          "ambiguity_cont": 3.3877551020408165,
          "level": "A1"
         },
         {
          "ambiguity_avg": 4.3076923076923075,
          "ambiguity_cont": 4.868852459016393,
          "level": "A1"
         },
         {
          "ambiguity_avg": 2.3225806451612905,
          "ambiguity_cont": 2.90625,
          "level": "A1"
         },
         {
          "ambiguity_avg": 1.962962962962963,
          "ambiguity_cont": 2.3157894736842106,
          "level": "A1"
         },
         {
          "ambiguity_avg": 2.782178217821782,
          "ambiguity_cont": 3.6865671641791047,
          "level": "A1"
         },
         {
          "ambiguity_avg": 3.109090909090909,
          "ambiguity_cont": 3.9240506329113924,
          "level": "A1"
         },
         {
          "ambiguity_avg": 3.2982456140350878,
          "ambiguity_cont": 4.421052631578948,
          "level": "A1"
         },
         {
          "ambiguity_avg": 2.909090909090909,
          "ambiguity_cont": 3.515151515151515,
          "level": "A1"
         },
         {
          "ambiguity_avg": 2.9775280898876404,
          "ambiguity_cont": 3.8852459016393444,
          "level": "A1"
         },
         {
          "ambiguity_avg": 3.15609756097561,
          "ambiguity_cont": 4.092198581560283,
          "level": "A1"
         },
         {
          "ambiguity_avg": 2.1773049645390072,
          "ambiguity_cont": 2.5161290322580645,
          "level": "A1"
         },
         {
          "ambiguity_avg": 2.2783505154639174,
          "ambiguity_cont": 2.888888888888889,
          "level": "A1"
         },
         {
          "ambiguity_avg": 2.4177215189873418,
          "ambiguity_cont": 2.80327868852459,
          "level": "A1"
         },
         {
          "ambiguity_avg": 2.337078651685393,
          "ambiguity_cont": 2.757575757575758,
          "level": "A1"
         },
         {
          "ambiguity_avg": 3.86144578313253,
          "ambiguity_cont": 4.466165413533835,
          "level": "A1"
         },
         {
          "ambiguity_avg": 2.78125,
          "ambiguity_cont": 3.1363636363636362,
          "level": "A1"
         },
         {
          "ambiguity_avg": 2.4411764705882355,
          "ambiguity_cont": 2.92,
          "level": "A1"
         },
         {
          "ambiguity_avg": 2.4782608695652173,
          "ambiguity_cont": 3.392857142857143,
          "level": "A1"
         },
         {
          "ambiguity_avg": 2.8222222222222224,
          "ambiguity_cont": 3.323529411764706,
          "level": "A1"
         },
         {
          "ambiguity_avg": 1.8095238095238095,
          "ambiguity_cont": 2.32,
          "level": "A1"
         },
         {
          "ambiguity_avg": 3.6830601092896176,
          "ambiguity_cont": 5.315315315315315,
          "level": "A1"
         },
         {
          "ambiguity_avg": 2.9655172413793105,
          "ambiguity_cont": 3.6689419795221845,
          "level": "A1"
         },
         {
          "ambiguity_avg": 4.794871794871795,
          "ambiguity_cont": 5.032258064516129,
          "level": "A1"
         },
         {
          "ambiguity_avg": 2.8641975308641974,
          "ambiguity_cont": 3.7115384615384617,
          "level": "A1"
         },
         {
          "ambiguity_avg": 3.671641791044776,
          "ambiguity_cont": 4.352941176470588,
          "level": "A1"
         },
         {
          "ambiguity_avg": 3.2673716012084593,
          "ambiguity_cont": 3.863905325443787,
          "level": "A1"
         },
         {
          "ambiguity_avg": 3.3342105263157893,
          "ambiguity_cont": 3.8333333333333335,
          "level": "A1"
         },
         {
          "ambiguity_avg": 3.1709741550695827,
          "ambiguity_cont": 3.702917771883289,
          "level": "A1"
         },
         {
          "ambiguity_avg": 3.272868217054264,
          "ambiguity_cont": 3.78988326848249,
          "level": "A1"
         },
         {
          "ambiguity_avg": 3.3784860557768925,
          "ambiguity_cont": 3.95959595959596,
          "level": "A1"
         },
         {
          "ambiguity_avg": 2.8996539792387543,
          "ambiguity_cont": 3.4150943396226414,
          "level": "A1"
         },
         {
          "ambiguity_avg": 3.1964601769911503,
          "ambiguity_cont": 3.6373873873873874,
          "level": "A1"
         },
         {
          "ambiguity_avg": 3.5165016501650164,
          "ambiguity_cont": 4.252272727272727,
          "level": "A1"
         },
         {
          "ambiguity_avg": 3.409317803660566,
          "ambiguity_cont": 4.008602150537635,
          "level": "A1"
         },
         {
          "ambiguity_avg": 3.196113074204947,
          "ambiguity_cont": 3.709090909090909,
          "level": "A1"
         },
         {
          "ambiguity_avg": 3.4376731301939056,
          "ambiguity_cont": 4.055258467023173,
          "level": "A1"
         },
         {
          "ambiguity_avg": 3.436231884057971,
          "ambiguity_cont": 4.047709923664122,
          "level": "A1"
         },
         {
          "ambiguity_avg": 3.8635135135135137,
          "ambiguity_cont": 4.5508771929824565,
          "level": "A1"
         },
         {
          "ambiguity_avg": 3.383259911894273,
          "ambiguity_cont": 3.9171270718232045,
          "level": "A1"
         },
         {
          "ambiguity_avg": 3.206896551724138,
          "ambiguity_cont": 3.73972602739726,
          "level": "A1"
         },
         {
          "ambiguity_avg": 3.5459610027855155,
          "ambiguity_cont": 4.056466302367942,
          "level": "A1"
         },
         {
          "ambiguity_avg": 3.489640130861505,
          "ambiguity_cont": 3.99721059972106,
          "level": "A1"
         },
         {
          "ambiguity_avg": 3.574829931972789,
          "ambiguity_cont": 4.211920529801325,
          "level": "A1"
         },
         {
          "ambiguity_avg": 3.216,
          "ambiguity_cont": 3.71875,
          "level": "A1"
         },
         {
          "ambiguity_avg": 3.3516483516483517,
          "ambiguity_cont": 4.102941176470588,
          "level": "A1"
         },
         {
          "ambiguity_avg": 3.752032520325203,
          "ambiguity_cont": 4.346733668341709,
          "level": "A1"
         },
         {
          "ambiguity_avg": 3.0341997264021887,
          "ambiguity_cont": 3.4844290657439445,
          "level": "A1"
         },
         {
          "ambiguity_avg": 3.4877300613496933,
          "ambiguity_cont": 4.065637065637065,
          "level": "A1"
         },
         {
          "ambiguity_avg": 3.0871794871794873,
          "ambiguity_cont": 3.694915254237288,
          "level": "A1"
         },
         {
          "ambiguity_avg": 3.331081081081081,
          "ambiguity_cont": 3.9210526315789473,
          "level": "A1"
         },
         {
          "ambiguity_avg": 3.414746543778802,
          "ambiguity_cont": 3.65,
          "level": "A1"
         },
         {
          "ambiguity_avg": 3,
          "ambiguity_cont": 3.1538461538461537,
          "level": "A1"
         },
         {
          "ambiguity_avg": 3.2325581395348837,
          "ambiguity_cont": 3.4830917874396135,
          "level": "A1"
         },
         {
          "ambiguity_avg": 3.0528846153846154,
          "ambiguity_cont": 3.558282208588957,
          "level": "A1"
         },
         {
          "ambiguity_avg": 3.752212389380531,
          "ambiguity_cont": 4.369565217391305,
          "level": "A1"
         },
         {
          "ambiguity_avg": 3.3222222222222224,
          "ambiguity_cont": 3.869565217391304,
          "level": "A1"
         },
         {
          "ambiguity_avg": 3.227777777777778,
          "ambiguity_cont": 3.762962962962963,
          "level": "A1"
         },
         {
          "ambiguity_avg": 3.337278106508876,
          "ambiguity_cont": 3.7950617283950616,
          "level": "A1"
         },
         {
          "ambiguity_avg": 3.546268656716418,
          "ambiguity_cont": 4.128846153846154,
          "level": "A1"
         },
         {
          "ambiguity_avg": 3.323024054982818,
          "ambiguity_cont": 3.6723404255319148,
          "level": "A1"
         },
         {
          "ambiguity_avg": 3.135699373695198,
          "ambiguity_cont": 3.652173913043478,
          "level": "A1"
         },
         {
          "ambiguity_avg": 3.2699619771863118,
          "ambiguity_cont": 3.785185185185185,
          "level": "A1"
         },
         {
          "ambiguity_avg": 3.4280230326295587,
          "ambiguity_cont": 3.8857142857142857,
          "level": "A1"
         },
         {
          "ambiguity_avg": 3.009937888198758,
          "ambiguity_cont": 3.533333333333333,
          "level": "A1"
         },
         {
          "ambiguity_avg": 3.4283333333333332,
          "ambiguity_cont": 4.11936936936937,
          "level": "A1"
         },
         {
          "ambiguity_avg": 3.230880230880231,
          "ambiguity_cont": 3.739622641509434,
          "level": "A1"
         },
         {
          "ambiguity_avg": 3.8753894080996885,
          "ambiguity_cont": 4.37109375,
          "level": "A1"
         },
         {
          "ambiguity_avg": 3.935064935064935,
          "ambiguity_cont": 4.515625,
          "level": "A1"
         },
         {
          "ambiguity_avg": 3.8818897637795278,
          "ambiguity_cont": 4.724489795918367,
          "level": "A1"
         },
         {
          "ambiguity_avg": 3.676190476190476,
          "ambiguity_cont": 4.193181818181818,
          "level": "A1"
         },
         {
          "ambiguity_avg": 3.171875,
          "ambiguity_cont": 3.6226415094339623,
          "level": "A1"
         },
         {
          "ambiguity_avg": 3.5323974082073435,
          "ambiguity_cont": 4.125884016973126,
          "level": "A2"
         },
         {
          "ambiguity_avg": 3.1983317886932343,
          "ambiguity_cont": 3.8449131513647643,
          "level": "A2"
         },
         {
          "ambiguity_avg": 3.0336206896551725,
          "ambiguity_cont": 3.6310904872389793,
          "level": "A2"
         },
         {
          "ambiguity_avg": 3.153973509933775,
          "ambiguity_cont": 3.696045197740113,
          "level": "A2"
         },
         {
          "ambiguity_avg": 3.234126984126984,
          "ambiguity_cont": 3.784853700516351,
          "level": "A2"
         },
         {
          "ambiguity_avg": 3.184557438794727,
          "ambiguity_cont": 3.6579804560260585,
          "level": "A2"
         },
         {
          "ambiguity_avg": 3.0412371134020617,
          "ambiguity_cont": 3.609248554913295,
          "level": "A2"
         },
         {
          "ambiguity_avg": 3.8074074074074074,
          "ambiguity_cont": 4.448979591836735,
          "level": "A2"
         },
         {
          "ambiguity_avg": 3.394431554524362,
          "ambiguity_cont": 3.9451401311866428,
          "level": "A2"
         },
         {
          "ambiguity_avg": 3.3076923076923075,
          "ambiguity_cont": 3.525,
          "level": "A2"
         },
         {
          "ambiguity_avg": 4.076923076923077,
          "ambiguity_cont": 4.96,
          "level": "A2"
         },
         {
          "ambiguity_avg": 2.97196261682243,
          "ambiguity_cont": 3.6184210526315788,
          "level": "A2"
         },
         {
          "ambiguity_avg": 3.7880794701986753,
          "ambiguity_cont": 4.581196581196581,
          "level": "A2"
         },
         {
          "ambiguity_avg": 3.9135802469135803,
          "ambiguity_cont": 5.105263157894737,
          "level": "A2"
         },
         {
          "ambiguity_avg": 3.609271523178808,
          "ambiguity_cont": 4.455357142857143,
          "level": "A2"
         },
         {
          "ambiguity_avg": 3.054054054054054,
          "ambiguity_cont": 3.4918032786885247,
          "level": "A2"
         },
         {
          "ambiguity_avg": 2.1904761904761907,
          "ambiguity_cont": 2.536842105263158,
          "level": "A2"
         },
         {
          "ambiguity_avg": 5.98989898989899,
          "ambiguity_cont": 7.35064935064935,
          "level": "A2"
         },
         {
          "ambiguity_avg": 2.9326599326599325,
          "ambiguity_cont": 4.033898305084746,
          "level": "A2"
         },
         {
          "ambiguity_avg": 3.6507936507936507,
          "ambiguity_cont": 4.15483870967742,
          "level": "A2"
         },
         {
          "ambiguity_avg": 3.066326530612245,
          "ambiguity_cont": 3.66,
          "level": "A2"
         },
         {
          "ambiguity_avg": 2.671232876712329,
          "ambiguity_cont": 2.982142857142857,
          "level": "A2"
         },
         {
          "ambiguity_avg": 2.793103448275862,
          "ambiguity_cont": 3.1714285714285713,
          "level": "A2"
         },
         {
          "ambiguity_avg": 3.763157894736842,
          "ambiguity_cont": 4.87037037037037,
          "level": "A2"
         },
         {
          "ambiguity_avg": 3.5542168674698793,
          "ambiguity_cont": 4.0285714285714285,
          "level": "A2"
         },
         {
          "ambiguity_avg": 2.4918032786885247,
          "ambiguity_cont": 2.977777777777778,
          "level": "A2"
         },
         {
          "ambiguity_avg": 1.9791666666666667,
          "ambiguity_cont": 2.0930232558139537,
          "level": "A2"
         },
         {
          "ambiguity_avg": 3.3586206896551722,
          "ambiguity_cont": 3.7131147540983607,
          "level": "A2"
         },
         {
          "ambiguity_avg": 2.9863013698630136,
          "ambiguity_cont": 3.482142857142857,
          "level": "A2"
         },
         {
          "ambiguity_avg": 2.8636363636363638,
          "ambiguity_cont": 3,
          "level": "A2"
         },
         {
          "ambiguity_avg": 3.4761904761904763,
          "ambiguity_cont": 3.6140350877192984,
          "level": "A2"
         },
         {
          "ambiguity_avg": 2.3461538461538463,
          "ambiguity_cont": 2.5217391304347827,
          "level": "A2"
         },
         {
          "ambiguity_avg": 3.1097560975609757,
          "ambiguity_cont": 3.7244094488188977,
          "level": "A2"
         },
         {
          "ambiguity_avg": 3.4942263279445727,
          "ambiguity_cont": 4.114803625377643,
          "level": "A2"
         },
         {
          "ambiguity_avg": 2.8115942028985508,
          "ambiguity_cont": 3.2962962962962963,
          "level": "A2"
         },
         {
          "ambiguity_avg": 3.029304029304029,
          "ambiguity_cont": 3.626794258373206,
          "level": "A2"
         },
         {
          "ambiguity_avg": 3.417525773195876,
          "ambiguity_cont": 4.129824561403509,
          "level": "A2"
         },
         {
          "ambiguity_avg": 3.5283018867924527,
          "ambiguity_cont": 3.874015748031496,
          "level": "A2"
         },
         {
          "ambiguity_avg": 3.473684210526316,
          "ambiguity_cont": 3.857843137254902,
          "level": "A2"
         },
         {
          "ambiguity_avg": 3.6627906976744184,
          "ambiguity_cont": 4.154929577464789,
          "level": "A2"
         },
         {
          "ambiguity_avg": 2.7333333333333334,
          "ambiguity_cont": 3.206611570247934,
          "level": "A2"
         },
         {
          "ambiguity_avg": 2.8376068376068377,
          "ambiguity_cont": 3.6455696202531644,
          "level": "A2"
         },
         {
          "ambiguity_avg": 2.433333333333333,
          "ambiguity_cont": 2.8297872340425534,
          "level": "A2"
         },
         {
          "ambiguity_avg": 2.5714285714285716,
          "ambiguity_cont": 3.079136690647482,
          "level": "A2"
         },
         {
          "ambiguity_avg": 3.0278164116828927,
          "ambiguity_cont": 3.4862385321100917,
          "level": "A2"
         },
         {
          "ambiguity_avg": 3.317135549872123,
          "ambiguity_cont": 3.8896103896103895,
          "level": "A2"
         },
         {
          "ambiguity_avg": 3.427480916030534,
          "ambiguity_cont": 4.0495049504950495,
          "level": "A2"
         },
         {
          "ambiguity_avg": 2.7662337662337664,
          "ambiguity_cont": 3.2758620689655173,
          "level": "A2"
         },
         {
          "ambiguity_avg": 3.1589285714285715,
          "ambiguity_cont": 3.815347721822542,
          "level": "A2"
         },
         {
          "ambiguity_avg": 3.238853503184713,
          "ambiguity_cont": 3.6370967741935485,
          "level": "A2"
         },
         {
          "ambiguity_avg": 3.412298387096774,
          "ambiguity_cont": 3.829923273657289,
          "level": "A2"
         },
         {
          "ambiguity_avg": 2.577777777777778,
          "ambiguity_cont": 2.877450980392157,
          "level": "A2"
         },
         {
          "ambiguity_avg": 3.0706638115631693,
          "ambiguity_cont": 3.4861878453038675,
          "level": "A2"
         },
         {
          "ambiguity_avg": 3.265,
          "ambiguity_cont": 3.986206896551724,
          "level": "A2"
         },
         {
          "ambiguity_avg": 3.2274247491638794,
          "ambiguity_cont": 3.9726027397260273,
          "level": "A2"
         },
         {
          "ambiguity_avg": 3.4741035856573705,
          "ambiguity_cont": 4.103626943005182,
          "level": "A2"
         },
         {
          "ambiguity_avg": 2.9467455621301775,
          "ambiguity_cont": 3.287878787878788,
          "level": "A2"
         },
         {
          "ambiguity_avg": 2.722488038277512,
          "ambiguity_cont": 2.9823529411764707,
          "level": "A2"
         },
         {
          "ambiguity_avg": 3.5155709342560555,
          "ambiguity_cont": 4.015486725663717,
          "level": "A2"
         },
         {
          "ambiguity_avg": 3.1908212560386473,
          "ambiguity_cont": 3.696048632218845,
          "level": "A2"
         },
         {
          "ambiguity_avg": 3.3348314606741574,
          "ambiguity_cont": 3.9339080459770117,
          "level": "A2"
         },
         {
          "ambiguity_avg": 3.3923444976076556,
          "ambiguity_cont": 3.954407294832827,
          "level": "A2"
         },
         {
          "ambiguity_avg": 3.6733333333333333,
          "ambiguity_cont": 4.239669421487603,
          "level": "B"
         },
         {
          "ambiguity_avg": 3.56140350877193,
          "ambiguity_cont": 4.173913043478261,
          "level": "B"
         },
         {
          "ambiguity_avg": 3,
          "ambiguity_cont": 3.361111111111111,
          "level": "B"
         },
         {
          "ambiguity_avg": 4.506666666666667,
          "ambiguity_cont": 5.4363636363636365,
          "level": "B"
         },
         {
          "ambiguity_avg": 3,
          "ambiguity_cont": 3.526315789473684,
          "level": "B"
         },
         {
          "ambiguity_avg": 2,
          "ambiguity_cont": 2.857142857142857,
          "level": "B"
         },
         {
          "ambiguity_avg": 2.6666666666666665,
          "ambiguity_cont": 2.6666666666666665,
          "level": "B"
         },
         {
          "ambiguity_avg": 3.852216748768473,
          "ambiguity_cont": 4.515337423312883,
          "level": "B"
         },
         {
          "ambiguity_avg": 5.181818181818182,
          "ambiguity_cont": 5.923076923076923,
          "level": "B"
         },
         {
          "ambiguity_avg": 3.3846153846153846,
          "ambiguity_cont": 3.657142857142857,
          "level": "B"
         },
         {
          "ambiguity_avg": 4.125,
          "ambiguity_cont": 4.703703703703703,
          "level": "B"
         },
         {
          "ambiguity_avg": 4.216216216216216,
          "ambiguity_cont": 4.932203389830509,
          "level": "B"
         },
         {
          "ambiguity_avg": 2.652173913043478,
          "ambiguity_cont": 3.234375,
          "level": "B"
         },
         {
          "ambiguity_avg": 3.490566037735849,
          "ambiguity_cont": 3.765957446808511,
          "level": "B"
         },
         {
          "ambiguity_avg": 3.061224489795918,
          "ambiguity_cont": 3.5,
          "level": "B"
         },
         {
          "ambiguity_avg": 3.3205128205128207,
          "ambiguity_cont": 3.640625,
          "level": "B"
         },
         {
          "ambiguity_avg": 3.1494565217391304,
          "ambiguity_cont": 3.896153846153846,
          "level": "B"
         },
         {
          "ambiguity_avg": 2.993215739484396,
          "ambiguity_cont": 3.5250463821892395,
          "level": "B"
         },
         {
          "ambiguity_avg": 3.0446735395189,
          "ambiguity_cont": 3.6359447004608296,
          "level": "B"
         },
         {
          "ambiguity_avg": 2.776824034334764,
          "ambiguity_cont": 3.5827814569536423,
          "level": "B"
         },
         {
          "ambiguity_avg": 3.2312633832976445,
          "ambiguity_cont": 3.6758241758241756,
          "level": "B"
         },
         {
          "ambiguity_avg": 3.2071428571428573,
          "ambiguity_cont": 3.5925925925925926,
          "level": "B"
         },
         {
          "ambiguity_avg": 3.1927194860813706,
          "ambiguity_cont": 3.652054794520548,
          "level": "B"
         },
         {
          "ambiguity_avg": 2.58,
          "ambiguity_cont": 3,
          "level": "B"
         },
         {
          "ambiguity_avg": 3.5091463414634148,
          "ambiguity_cont": 4.0939334637964775,
          "level": "B"
         },
         {
          "ambiguity_avg": 3.1869158878504673,
          "ambiguity_cont": 3.6511627906976742,
          "level": "B"
         },
         {
          "ambiguity_avg": 3,
          "ambiguity_cont": 3.627586206896552,
          "level": "B"
         },
         {
          "ambiguity_avg": 2.9130434782608696,
          "ambiguity_cont": 3.4903846153846154,
          "level": "B"
         },
         {
          "ambiguity_avg": 2.392156862745098,
          "ambiguity_cont": 2.8214285714285716,
          "level": "B"
         },
         {
          "ambiguity_avg": 3.4923076923076923,
          "ambiguity_cont": 4.063745019920319,
          "level": "B"
         },
         {
          "ambiguity_avg": 3.9464285714285716,
          "ambiguity_cont": 5.1,
          "level": "B"
         },
         {
          "ambiguity_avg": 3.3346153846153848,
          "ambiguity_cont": 3.9880478087649402,
          "level": "B"
         },
         {
          "ambiguity_avg": 3.1214574898785425,
          "ambiguity_cont": 3.5968992248062017,
          "level": "B"
         },
         {
          "ambiguity_avg": 3.1016949152542375,
          "ambiguity_cont": 3.6666666666666665,
          "level": "B"
         },
         {
          "ambiguity_avg": 4.217391304347826,
          "ambiguity_cont": 4.523809523809524,
          "level": "B"
         },
         {
          "ambiguity_avg": 2.920245398773006,
          "ambiguity_cont": 3.7017543859649122,
          "level": "B"
         },
         {
          "ambiguity_avg": 3.4913793103448274,
          "ambiguity_cont": 3.8594594594594596,
          "level": "B"
         },
         {
          "ambiguity_avg": 2.793103448275862,
          "ambiguity_cont": 3.3488372093023258,
          "level": "B"
         },
         {
          "ambiguity_avg": 3.2564102564102564,
          "ambiguity_cont": 3.888888888888889,
          "level": "B"
         },
         {
          "ambiguity_avg": 3.605,
          "ambiguity_cont": 4.414965986394558,
          "level": "B"
         },
         {
          "ambiguity_avg": 3.7823691460055096,
          "ambiguity_cont": 4.421602787456446,
          "level": "B"
         },
         {
          "ambiguity_avg": 4.090909090909091,
          "ambiguity_cont": 4.4576271186440675,
          "level": "B"
         },
         {
          "ambiguity_avg": 3.893258426966292,
          "ambiguity_cont": 4.262773722627737,
          "level": "B"
         },
         {
          "ambiguity_avg": 5,
          "ambiguity_cont": 5.571428571428571,
          "level": "B"
         },
         {
          "ambiguity_avg": 2.4242424242424243,
          "ambiguity_cont": 3.1363636363636362,
          "level": "B"
         },
         {
          "ambiguity_avg": 3.315914489311164,
          "ambiguity_cont": 3.8958990536277605,
          "level": "B"
         },
         {
          "ambiguity_avg": 3.296969696969697,
          "ambiguity_cont": 3.89453125,
          "level": "B"
         },
         {
          "ambiguity_avg": 3.1818181818181817,
          "ambiguity_cont": 3.96875,
          "level": "B"
         },
         {
          "ambiguity_avg": 3.4615384615384617,
          "ambiguity_cont": 4.674418604651163,
          "level": "B"
         },
         {
          "ambiguity_avg": 3.5454545454545454,
          "ambiguity_cont": 4.783783783783784,
          "level": "B"
         },
         {
          "ambiguity_avg": 2.982456140350877,
          "ambiguity_cont": 3.522727272727273,
          "level": "B"
         },
         {
          "ambiguity_avg": 3.308664259927798,
          "ambiguity_cont": 3.9902200488997557,
          "level": "B"
         },
         {
          "ambiguity_avg": 2.7794117647058822,
          "ambiguity_cont": 3.6222222222222222,
          "level": "B"
         },
         {
          "ambiguity_avg": 3.1636363636363636,
          "ambiguity_cont": 3.802469135802469,
          "level": "B"
         },
         {
          "ambiguity_avg": 2.7771084337349397,
          "ambiguity_cont": 3.3846153846153846,
          "level": "B"
         },
         {
          "ambiguity_avg": 3.021390374331551,
          "ambiguity_cont": 3.3806451612903228,
          "level": "B"
         },
         {
          "ambiguity_avg": 3.2222222222222223,
          "ambiguity_cont": 3.802721088435374,
          "level": "B"
         },
         {
          "ambiguity_avg": 3.7636363636363637,
          "ambiguity_cont": 4.73109243697479,
          "level": "B"
         },
         {
          "ambiguity_avg": 3.7731958762886597,
          "ambiguity_cont": 5.046153846153846,
          "level": "B"
         },
         {
          "ambiguity_avg": 2.918032786885246,
          "ambiguity_cont": 3.223404255319149,
          "level": "B"
         },
         {
          "ambiguity_avg": 3.064935064935065,
          "ambiguity_cont": 3.3728813559322033,
          "level": "B"
         },
         {
          "ambiguity_avg": 3.2656903765690375,
          "ambiguity_cont": 3.883977900552486,
          "level": "B"
         },
         {
          "ambiguity_avg": 3.6778350515463916,
          "ambiguity_cont": 4.345637583892618,
          "level": "B"
         },
         {
          "ambiguity_avg": 3.5555555555555554,
          "ambiguity_cont": 4.166666666666667,
          "level": "B"
         },
         {
          "ambiguity_avg": 3.7169811320754715,
          "ambiguity_cont": 4.209302325581396,
          "level": "B"
         },
         {
          "ambiguity_avg": 3.877551020408163,
          "ambiguity_cont": 4.054054054054054,
          "level": "B"
         },
         {
          "ambiguity_avg": 3.4100877192982457,
          "ambiguity_cont": 4.074626865671642,
          "level": "B"
         },
         {
          "ambiguity_avg": 3.9565217391304346,
          "ambiguity_cont": 5.011904761904762,
          "level": "B"
         },
         {
          "ambiguity_avg": 4.157407407407407,
          "ambiguity_cont": 5.2125,
          "level": "B"
         },
         {
          "ambiguity_avg": 3.4355555555555557,
          "ambiguity_cont": 3.9575757575757575,
          "level": "B"
         },
         {
          "ambiguity_avg": 3.388888888888889,
          "ambiguity_cont": 4.071428571428571,
          "level": "B"
         },
         {
          "ambiguity_avg": 3.383419689119171,
          "ambiguity_cont": 4.006849315068493,
          "level": "B"
         },
         {
          "ambiguity_avg": 3.1621621621621623,
          "ambiguity_cont": 3.854014598540146,
          "level": "B"
         },
         {
          "ambiguity_avg": 2.275,
          "ambiguity_cont": 2.84,
          "level": "B"
         },
         {
          "ambiguity_avg": 2.921397379912664,
          "ambiguity_cont": 3.592814371257485,
          "level": "B"
         },
         {
          "ambiguity_avg": 3.3901639344262295,
          "ambiguity_cont": 3.903765690376569,
          "level": "B"
         },
         {
          "ambiguity_avg": 3.8979591836734695,
          "ambiguity_cont": 4.463414634146342,
          "level": "B"
         },
         {
          "ambiguity_avg": 4.428571428571429,
          "ambiguity_cont": 7,
          "level": "B"
         },
         {
          "ambiguity_avg": 4.625,
          "ambiguity_cont": 5,
          "level": "B"
         },
         {
          "ambiguity_avg": 5,
          "ambiguity_cont": 5.8,
          "level": "B"
         },
         {
          "ambiguity_avg": 4.6,
          "ambiguity_cont": 5.7368421052631575,
          "level": "B"
         },
         {
          "ambiguity_avg": 2.230769230769231,
          "ambiguity_cont": 2.875,
          "level": "B"
         },
         {
          "ambiguity_avg": 3.8,
          "ambiguity_cont": 4.5,
          "level": "B"
         },
         {
          "ambiguity_avg": 1.5714285714285714,
          "ambiguity_cont": 1.8,
          "level": "B"
         },
         {
          "ambiguity_avg": 2.375,
          "ambiguity_cont": 3.0625,
          "level": "B"
         },
         {
          "ambiguity_avg": 3,
          "ambiguity_cont": 3.372093023255814,
          "level": "B"
         },
         {
          "ambiguity_avg": 3.259259259259259,
          "ambiguity_cont": 3.9508196721311477,
          "level": "B"
         },
         {
          "ambiguity_avg": 2.3,
          "ambiguity_cont": 2.56,
          "level": "B"
         },
         {
          "ambiguity_avg": 1.8333333333333333,
          "ambiguity_cont": 2.6666666666666665,
          "level": "B"
         },
         {
          "ambiguity_avg": 3.045045045045045,
          "ambiguity_cont": 3.5681818181818183,
          "level": "B1"
         },
         {
          "ambiguity_avg": 3.3392857142857144,
          "ambiguity_cont": 3.897727272727273,
          "level": "B1"
         },
         {
          "ambiguity_avg": 2.4571428571428573,
          "ambiguity_cont": 2.9615384615384617,
          "level": "B1"
         },
         {
          "ambiguity_avg": 3.3055555555555554,
          "ambiguity_cont": 3.86046511627907,
          "level": "B1"
         },
         {
          "ambiguity_avg": 3.0982142857142856,
          "ambiguity_cont": 3.606741573033708,
          "level": "B1"
         },
         {
          "ambiguity_avg": 3.226086956521739,
          "ambiguity_cont": 3.9310344827586206,
          "level": "B1"
         },
         {
          "ambiguity_avg": 2.5517241379310347,
          "ambiguity_cont": 3.135593220338983,
          "level": "B1"
         },
         {
          "ambiguity_avg": 3.9150943396226414,
          "ambiguity_cont": 4.5813953488372094,
          "level": "B1"
         },
         {
          "ambiguity_avg": 3.633663366336634,
          "ambiguity_cont": 4.142857142857143,
          "level": "B1"
         },
         {
          "ambiguity_avg": 2.4607843137254903,
          "ambiguity_cont": 2.7948717948717947,
          "level": "B1"
         },
         {
          "ambiguity_avg": 2.34375,
          "ambiguity_cont": 2.72,
          "level": "B1"
         },
         {
          "ambiguity_avg": 3.7183308494783907,
          "ambiguity_cont": 4.488,
          "level": "B1"
         },
         {
          "ambiguity_avg": 2.941028858218319,
          "ambiguity_cont": 3.4824120603015074,
          "level": "B1"
         },
         {
          "ambiguity_avg": 3.757575757575758,
          "ambiguity_cont": 4.55902004454343,
          "level": "B1"
         },
         {
          "ambiguity_avg": 3.3466257668711656,
          "ambiguity_cont": 4.054393305439331,
          "level": "B1"
         },
         {
          "ambiguity_avg": 3.322074788902292,
          "ambiguity_cont": 3.821256038647343,
          "level": "B1"
         },
         {
          "ambiguity_avg": 3.69164265129683,
          "ambiguity_cont": 4.238970588235294,
          "level": "B1"
         },
         {
          "ambiguity_avg": 3.2006745362563236,
          "ambiguity_cont": 3.7136150234741785,
          "level": "B1"
         },
         {
          "ambiguity_avg": 3.281124497991968,
          "ambiguity_cont": 3.776595744680851,
          "level": "B1"
         },
         {
          "ambiguity_avg": 2.9153094462540716,
          "ambiguity_cont": 3.4906542056074765,
          "level": "B1"
         },
         {
          "ambiguity_avg": 3.2146050670640833,
          "ambiguity_cont": 3.735812133072407,
          "level": "B1"
         },
         {
          "ambiguity_avg": 3.135388739946381,
          "ambiguity_cont": 3.670774647887324,
          "level": "B1"
         },
         {
          "ambiguity_avg": 2.992343032159265,
          "ambiguity_cont": 3.619148936170213,
          "level": "B1"
         },
         {
          "ambiguity_avg": 3.46890286512928,
          "ambiguity_cont": 4.008007117437723,
          "level": "B1"
         },
         {
          "ambiguity_avg": 3.213507625272331,
          "ambiguity_cont": 3.7885714285714287,
          "level": "B1"
         },
         {
          "ambiguity_avg": 3.3594351732991012,
          "ambiguity_cont": 3.986111111111111,
          "level": "B1"
         },
         {
          "ambiguity_avg": 3.165434906196703,
          "ambiguity_cont": 3.7755102040816326,
          "level": "B1"
         },
         {
          "ambiguity_avg": 3.174228675136116,
          "ambiguity_cont": 3.8237259816207185,
          "level": "B1"
         },
         {
          "ambiguity_avg": 3.0245051837888783,
          "ambiguity_cont": 3.5860284605433375,
          "level": "B1"
         },
         {
          "ambiguity_avg": 2.3333333333333335,
          "ambiguity_cont": 2.5428571428571427,
          "level": "B1"
         },
         {
          "ambiguity_avg": 3.864864864864865,
          "ambiguity_cont": 4.777777777777778,
          "level": "B1"
         },
         {
          "ambiguity_avg": 3,
          "ambiguity_cont": 3.6153846153846154,
          "level": "B1"
         },
         {
          "ambiguity_avg": 3.3636363636363638,
          "ambiguity_cont": 3.8461538461538463,
          "level": "B1"
         },
         {
          "ambiguity_avg": 3,
          "ambiguity_cont": 3.5,
          "level": "B1"
         },
         {
          "ambiguity_avg": 3.8,
          "ambiguity_cont": 4.268656716417911,
          "level": "B1"
         },
         {
          "ambiguity_avg": 3.3854166666666665,
          "ambiguity_cont": 3.993150684931507,
          "level": "B1"
         },
         {
          "ambiguity_avg": 3.169491525423729,
          "ambiguity_cont": 3.717391304347826,
          "level": "B1"
         },
         {
          "ambiguity_avg": 3.5789473684210527,
          "ambiguity_cont": 3.7222222222222223,
          "level": "B1"
         },
         {
          "ambiguity_avg": 3.5476190476190474,
          "ambiguity_cont": 4.095238095238095,
          "level": "B1"
         },
         {
          "ambiguity_avg": 2.735294117647059,
          "ambiguity_cont": 3.5652173913043477,
          "level": "B1"
         },
         {
          "ambiguity_avg": 2.4615384615384617,
          "ambiguity_cont": 2.9655172413793105,
          "level": "B1"
         },
         {
          "ambiguity_avg": 3.2758620689655173,
          "ambiguity_cont": 4,
          "level": "B1"
         }
        ]
       },
       "facet": {
        "field": "level",
        "type": "nominal"
       },
       "spec": {
        "encoding": {
         "x": {
          "bin": {
           "maxbins": 30
          },
          "field": "ambiguity_avg",
          "type": "quantitative"
         },
         "y": {
          "aggregate": "count",
          "type": "quantitative"
         }
        },
        "mark": "bar"
       }
      },
      "image/png": "[encoded data removed]",
      "text/plain": [
       "<VegaLite 4 object>\n",
       "\n",
       "If you see this message, it means the renderer has not been properly enabled\n",
       "for the frontend that you are using. For more information, see\n",
       "https://altair-viz.github.io/user_guide/troubleshooting.html\n"
      ]
     },
     "execution_count": 32,
     "metadata": {},
     "output_type": "execute_result"
    }
   ],
   "source": [
    "level_amb_df = pd.DataFrame(level_degree_ambig)\n",
    "level_amb_df.head()\n",
    "alt.Chart(level_amb_df).mark_bar().encode(x = alt.X('ambiguity_avg', bin = alt.Bin(maxbins = 30)), y = 'count()').facet('level')"
   ]
  },
  {
   "cell_type": "code",
   "execution_count": 33,
   "id": "second-traveler",
   "metadata": {},
   "outputs": [
    {
     "data": {
      "application/vnd.vegalite.v4+json": {
       "$schema": "https://vega.github.io/schema/vega-lite/v4.8.1.json",
       "config": {
        "view": {
         "continuousHeight": 300,
         "continuousWidth": 400
        }
       },
       "data": {
        "name": "data-8c94a6a0ed4ce269d16eea0f4b8b5a93"
       },
       "datasets": {
        "data-8c94a6a0ed4ce269d16eea0f4b8b5a93": [
         {
          "ambiguity_avg": 3.0714285714285716,
          "ambiguity_cont": 3.586206896551724,
          "level": "A1"
         },
         {
          "ambiguity_avg": 3.2403846153846154,
          "ambiguity_cont": 3.987012987012987,
          "level": "A1"
         },
         {
          "ambiguity_avg": 3.7948717948717947,
          "ambiguity_cont": 4.467741935483871,
          "level": "A1"
         },
         {
          "ambiguity_avg": 3.1666666666666665,
          "ambiguity_cont": 3.478723404255319,
          "level": "A1"
         },
         {
          "ambiguity_avg": 4.388888888888889,
          "ambiguity_cont": 4.961038961038961,
          "level": "A1"
         },
         {
          "ambiguity_avg": 3.3451776649746194,
          "ambiguity_cont": 4.006535947712418,
          "level": "A1"
         },
         {
          "ambiguity_avg": 3.832579185520362,
          "ambiguity_cont": 4.459770114942529,
          "level": "A1"
         },
         {
          "ambiguity_avg": 3.415492957746479,
          "ambiguity_cont": 4.0186335403726705,
          "level": "A1"
         },
         {
          "ambiguity_avg": 3.0373626373626372,
          "ambiguity_cont": 3.59375,
          "level": "A1"
         },
         {
          "ambiguity_avg": 3.1512605042016806,
          "ambiguity_cont": 3.597826086956522,
          "level": "A1"
         },
         {
          "ambiguity_avg": 2.9541284403669725,
          "ambiguity_cont": 3.3295880149812733,
          "level": "A1"
         },
         {
          "ambiguity_avg": 3.0669642857142856,
          "ambiguity_cont": 3.5864197530864197,
          "level": "A1"
         },
         {
          "ambiguity_avg": 2.6029411764705883,
          "ambiguity_cont": 3.216494845360825,
          "level": "A1"
         },
         {
          "ambiguity_avg": 2.824263038548753,
          "ambiguity_cont": 3.384853168469861,
          "level": "A1"
         },
         {
          "ambiguity_avg": 3.725,
          "ambiguity_cont": 4.204545454545454,
          "level": "A1"
         },
         {
          "ambiguity_avg": 3.278969957081545,
          "ambiguity_cont": 4.083832335329341,
          "level": "A1"
         },
         {
          "ambiguity_avg": 3.046747967479675,
          "ambiguity_cont": 3.4207792207792207,
          "level": "A1"
         },
         {
          "ambiguity_avg": 3.1867816091954024,
          "ambiguity_cont": 3.63953488372093,
          "level": "A1"
         },
         {
          "ambiguity_avg": 2.8877551020408165,
          "ambiguity_cont": 3.796875,
          "level": "A1"
         },
         {
          "ambiguity_avg": 2.984198645598194,
          "ambiguity_cont": 3.3909348441926346,
          "level": "A1"
         },
         {
          "ambiguity_avg": 3.6710526315789473,
          "ambiguity_cont": 4.35,
          "level": "A1"
         },
         {
          "ambiguity_avg": 3.9375,
          "ambiguity_cont": 4.805555555555555,
          "level": "A1"
         },
         {
          "ambiguity_avg": 2.5714285714285716,
          "ambiguity_cont": 2.8048780487804876,
          "level": "A1"
         },
         {
          "ambiguity_avg": 2.76,
          "ambiguity_cont": 3.3877551020408165,
          "level": "A1"
         },
         {
          "ambiguity_avg": 4.3076923076923075,
          "ambiguity_cont": 4.868852459016393,
          "level": "A1"
         },
         {
          "ambiguity_avg": 2.3225806451612905,
          "ambiguity_cont": 2.90625,
          "level": "A1"
         },
         {
          "ambiguity_avg": 1.962962962962963,
          "ambiguity_cont": 2.3157894736842106,
          "level": "A1"
         },
         {
          "ambiguity_avg": 2.782178217821782,
          "ambiguity_cont": 3.6865671641791047,
          "level": "A1"
         },
         {
          "ambiguity_avg": 3.109090909090909,
          "ambiguity_cont": 3.9240506329113924,
          "level": "A1"
         },
         {
          "ambiguity_avg": 3.2982456140350878,
          "ambiguity_cont": 4.421052631578948,
          "level": "A1"
         },
         {
          "ambiguity_avg": 2.909090909090909,
          "ambiguity_cont": 3.515151515151515,
          "level": "A1"
         },
         {
          "ambiguity_avg": 2.9775280898876404,
          "ambiguity_cont": 3.8852459016393444,
          "level": "A1"
         },
         {
          "ambiguity_avg": 3.15609756097561,
          "ambiguity_cont": 4.092198581560283,
          "level": "A1"
         },
         {
          "ambiguity_avg": 2.1773049645390072,
          "ambiguity_cont": 2.5161290322580645,
          "level": "A1"
         },
         {
          "ambiguity_avg": 2.2783505154639174,
          "ambiguity_cont": 2.888888888888889,
          "level": "A1"
         },
         {
          "ambiguity_avg": 2.4177215189873418,
          "ambiguity_cont": 2.80327868852459,
          "level": "A1"
         },
         {
          "ambiguity_avg": 2.337078651685393,
          "ambiguity_cont": 2.757575757575758,
          "level": "A1"
         },
         {
          "ambiguity_avg": 3.86144578313253,
          "ambiguity_cont": 4.466165413533835,
          "level": "A1"
         },
         {
          "ambiguity_avg": 2.78125,
          "ambiguity_cont": 3.1363636363636362,
          "level": "A1"
         },
         {
          "ambiguity_avg": 2.4411764705882355,
          "ambiguity_cont": 2.92,
          "level": "A1"
         },
         {
          "ambiguity_avg": 2.4782608695652173,
          "ambiguity_cont": 3.392857142857143,
          "level": "A1"
         },
         {
          "ambiguity_avg": 2.8222222222222224,
          "ambiguity_cont": 3.323529411764706,
          "level": "A1"
         },
         {
          "ambiguity_avg": 1.8095238095238095,
          "ambiguity_cont": 2.32,
          "level": "A1"
         },
         {
          "ambiguity_avg": 3.6830601092896176,
          "ambiguity_cont": 5.315315315315315,
          "level": "A1"
         },
         {
          "ambiguity_avg": 2.9655172413793105,
          "ambiguity_cont": 3.6689419795221845,
          "level": "A1"
         },
         {
          "ambiguity_avg": 4.794871794871795,
          "ambiguity_cont": 5.032258064516129,
          "level": "A1"
         },
         {
          "ambiguity_avg": 2.8641975308641974,
          "ambiguity_cont": 3.7115384615384617,
          "level": "A1"
         },
         {
          "ambiguity_avg": 3.671641791044776,
          "ambiguity_cont": 4.352941176470588,
          "level": "A1"
         },
         {
          "ambiguity_avg": 3.2673716012084593,
          "ambiguity_cont": 3.863905325443787,
          "level": "A1"
         },
         {
          "ambiguity_avg": 3.3342105263157893,
          "ambiguity_cont": 3.8333333333333335,
          "level": "A1"
         },
         {
          "ambiguity_avg": 3.1709741550695827,
          "ambiguity_cont": 3.702917771883289,
          "level": "A1"
         },
         {
          "ambiguity_avg": 3.272868217054264,
          "ambiguity_cont": 3.78988326848249,
          "level": "A1"
         },
         {
          "ambiguity_avg": 3.3784860557768925,
          "ambiguity_cont": 3.95959595959596,
          "level": "A1"
         },
         {
          "ambiguity_avg": 2.8996539792387543,
          "ambiguity_cont": 3.4150943396226414,
          "level": "A1"
         },
         {
          "ambiguity_avg": 3.1964601769911503,
          "ambiguity_cont": 3.6373873873873874,
          "level": "A1"
         },
         {
          "ambiguity_avg": 3.5165016501650164,
          "ambiguity_cont": 4.252272727272727,
          "level": "A1"
         },
         {
          "ambiguity_avg": 3.409317803660566,
          "ambiguity_cont": 4.008602150537635,
          "level": "A1"
         },
         {
          "ambiguity_avg": 3.196113074204947,
          "ambiguity_cont": 3.709090909090909,
          "level": "A1"
         },
         {
          "ambiguity_avg": 3.4376731301939056,
          "ambiguity_cont": 4.055258467023173,
          "level": "A1"
         },
         {
          "ambiguity_avg": 3.436231884057971,
          "ambiguity_cont": 4.047709923664122,
          "level": "A1"
         },
         {
          "ambiguity_avg": 3.8635135135135137,
          "ambiguity_cont": 4.5508771929824565,
          "level": "A1"
         },
         {
          "ambiguity_avg": 3.383259911894273,
          "ambiguity_cont": 3.9171270718232045,
          "level": "A1"
         },
         {
          "ambiguity_avg": 3.206896551724138,
          "ambiguity_cont": 3.73972602739726,
          "level": "A1"
         },
         {
          "ambiguity_avg": 3.5459610027855155,
          "ambiguity_cont": 4.056466302367942,
          "level": "A1"
         },
         {
          "ambiguity_avg": 3.489640130861505,
          "ambiguity_cont": 3.99721059972106,
          "level": "A1"
         },
         {
          "ambiguity_avg": 3.574829931972789,
          "ambiguity_cont": 4.211920529801325,
          "level": "A1"
         },
         {
          "ambiguity_avg": 3.216,
          "ambiguity_cont": 3.71875,
          "level": "A1"
         },
         {
          "ambiguity_avg": 3.3516483516483517,
          "ambiguity_cont": 4.102941176470588,
          "level": "A1"
         },
         {
          "ambiguity_avg": 3.752032520325203,
          "ambiguity_cont": 4.346733668341709,
          "level": "A1"
         },
         {
          "ambiguity_avg": 3.0341997264021887,
          "ambiguity_cont": 3.4844290657439445,
          "level": "A1"
         },
         {
          "ambiguity_avg": 3.4877300613496933,
          "ambiguity_cont": 4.065637065637065,
          "level": "A1"
         },
         {
          "ambiguity_avg": 3.0871794871794873,
          "ambiguity_cont": 3.694915254237288,
          "level": "A1"
         },
         {
          "ambiguity_avg": 3.331081081081081,
          "ambiguity_cont": 3.9210526315789473,
          "level": "A1"
         },
         {
          "ambiguity_avg": 3.414746543778802,
          "ambiguity_cont": 3.65,
          "level": "A1"
         },
         {
          "ambiguity_avg": 3,
          "ambiguity_cont": 3.1538461538461537,
          "level": "A1"
         },
         {
          "ambiguity_avg": 3.2325581395348837,
          "ambiguity_cont": 3.4830917874396135,
          "level": "A1"
         },
         {
          "ambiguity_avg": 3.0528846153846154,
          "ambiguity_cont": 3.558282208588957,
          "level": "A1"
         },
         {
          "ambiguity_avg": 3.752212389380531,
          "ambiguity_cont": 4.369565217391305,
          "level": "A1"
         },
         {
          "ambiguity_avg": 3.3222222222222224,
          "ambiguity_cont": 3.869565217391304,
          "level": "A1"
         },
         {
          "ambiguity_avg": 3.227777777777778,
          "ambiguity_cont": 3.762962962962963,
          "level": "A1"
         },
         {
          "ambiguity_avg": 3.337278106508876,
          "ambiguity_cont": 3.7950617283950616,
          "level": "A1"
         },
         {
          "ambiguity_avg": 3.546268656716418,
          "ambiguity_cont": 4.128846153846154,
          "level": "A1"
         },
         {
          "ambiguity_avg": 3.323024054982818,
          "ambiguity_cont": 3.6723404255319148,
          "level": "A1"
         },
         {
          "ambiguity_avg": 3.135699373695198,
          "ambiguity_cont": 3.652173913043478,
          "level": "A1"
         },
         {
          "ambiguity_avg": 3.2699619771863118,
          "ambiguity_cont": 3.785185185185185,
          "level": "A1"
         },
         {
          "ambiguity_avg": 3.4280230326295587,
          "ambiguity_cont": 3.8857142857142857,
          "level": "A1"
         },
         {
          "ambiguity_avg": 3.009937888198758,
          "ambiguity_cont": 3.533333333333333,
          "level": "A1"
         },
         {
          "ambiguity_avg": 3.4283333333333332,
          "ambiguity_cont": 4.11936936936937,
          "level": "A1"
         },
         {
          "ambiguity_avg": 3.230880230880231,
          "ambiguity_cont": 3.739622641509434,
          "level": "A1"
         },
         {
          "ambiguity_avg": 3.8753894080996885,
          "ambiguity_cont": 4.37109375,
          "level": "A1"
         },
         {
          "ambiguity_avg": 3.935064935064935,
          "ambiguity_cont": 4.515625,
          "level": "A1"
         },
         {
          "ambiguity_avg": 3.8818897637795278,
          "ambiguity_cont": 4.724489795918367,
          "level": "A1"
         },
         {
          "ambiguity_avg": 3.676190476190476,
          "ambiguity_cont": 4.193181818181818,
          "level": "A1"
         },
         {
          "ambiguity_avg": 3.171875,
          "ambiguity_cont": 3.6226415094339623,
          "level": "A1"
         },
         {
          "ambiguity_avg": 3.5323974082073435,
          "ambiguity_cont": 4.125884016973126,
          "level": "A2"
         },
         {
          "ambiguity_avg": 3.1983317886932343,
          "ambiguity_cont": 3.8449131513647643,
          "level": "A2"
         },
         {
          "ambiguity_avg": 3.0336206896551725,
          "ambiguity_cont": 3.6310904872389793,
          "level": "A2"
         },
         {
          "ambiguity_avg": 3.153973509933775,
          "ambiguity_cont": 3.696045197740113,
          "level": "A2"
         },
         {
          "ambiguity_avg": 3.234126984126984,
          "ambiguity_cont": 3.784853700516351,
          "level": "A2"
         },
         {
          "ambiguity_avg": 3.184557438794727,
          "ambiguity_cont": 3.6579804560260585,
          "level": "A2"
         },
         {
          "ambiguity_avg": 3.0412371134020617,
          "ambiguity_cont": 3.609248554913295,
          "level": "A2"
         },
         {
          "ambiguity_avg": 3.8074074074074074,
          "ambiguity_cont": 4.448979591836735,
          "level": "A2"
         },
         {
          "ambiguity_avg": 3.394431554524362,
          "ambiguity_cont": 3.9451401311866428,
          "level": "A2"
         },
         {
          "ambiguity_avg": 3.3076923076923075,
          "ambiguity_cont": 3.525,
          "level": "A2"
         },
         {
          "ambiguity_avg": 4.076923076923077,
          "ambiguity_cont": 4.96,
          "level": "A2"
         },
         {
          "ambiguity_avg": 2.97196261682243,
          "ambiguity_cont": 3.6184210526315788,
          "level": "A2"
         },
         {
          "ambiguity_avg": 3.7880794701986753,
          "ambiguity_cont": 4.581196581196581,
          "level": "A2"
         },
         {
          "ambiguity_avg": 3.9135802469135803,
          "ambiguity_cont": 5.105263157894737,
          "level": "A2"
         },
         {
          "ambiguity_avg": 3.609271523178808,
          "ambiguity_cont": 4.455357142857143,
          "level": "A2"
         },
         {
          "ambiguity_avg": 3.054054054054054,
          "ambiguity_cont": 3.4918032786885247,
          "level": "A2"
         },
         {
          "ambiguity_avg": 2.1904761904761907,
          "ambiguity_cont": 2.536842105263158,
          "level": "A2"
         },
         {
          "ambiguity_avg": 5.98989898989899,
          "ambiguity_cont": 7.35064935064935,
          "level": "A2"
         },
         {
          "ambiguity_avg": 2.9326599326599325,
          "ambiguity_cont": 4.033898305084746,
          "level": "A2"
         },
         {
          "ambiguity_avg": 3.6507936507936507,
          "ambiguity_cont": 4.15483870967742,
          "level": "A2"
         },
         {
          "ambiguity_avg": 3.066326530612245,
          "ambiguity_cont": 3.66,
          "level": "A2"
         },
         {
          "ambiguity_avg": 2.671232876712329,
          "ambiguity_cont": 2.982142857142857,
          "level": "A2"
         },
         {
          "ambiguity_avg": 2.793103448275862,
          "ambiguity_cont": 3.1714285714285713,
          "level": "A2"
         },
         {
          "ambiguity_avg": 3.763157894736842,
          "ambiguity_cont": 4.87037037037037,
          "level": "A2"
         },
         {
          "ambiguity_avg": 3.5542168674698793,
          "ambiguity_cont": 4.0285714285714285,
          "level": "A2"
         },
         {
          "ambiguity_avg": 2.4918032786885247,
          "ambiguity_cont": 2.977777777777778,
          "level": "A2"
         },
         {
          "ambiguity_avg": 1.9791666666666667,
          "ambiguity_cont": 2.0930232558139537,
          "level": "A2"
         },
         {
          "ambiguity_avg": 3.3586206896551722,
          "ambiguity_cont": 3.7131147540983607,
          "level": "A2"
         },
         {
          "ambiguity_avg": 2.9863013698630136,
          "ambiguity_cont": 3.482142857142857,
          "level": "A2"
         },
         {
          "ambiguity_avg": 2.8636363636363638,
          "ambiguity_cont": 3,
          "level": "A2"
         },
         {
          "ambiguity_avg": 3.4761904761904763,
          "ambiguity_cont": 3.6140350877192984,
          "level": "A2"
         },
         {
          "ambiguity_avg": 2.3461538461538463,
          "ambiguity_cont": 2.5217391304347827,
          "level": "A2"
         },
         {
          "ambiguity_avg": 3.1097560975609757,
          "ambiguity_cont": 3.7244094488188977,
          "level": "A2"
         },
         {
          "ambiguity_avg": 3.4942263279445727,
          "ambiguity_cont": 4.114803625377643,
          "level": "A2"
         },
         {
          "ambiguity_avg": 2.8115942028985508,
          "ambiguity_cont": 3.2962962962962963,
          "level": "A2"
         },
         {
          "ambiguity_avg": 3.029304029304029,
          "ambiguity_cont": 3.626794258373206,
          "level": "A2"
         },
         {
          "ambiguity_avg": 3.417525773195876,
          "ambiguity_cont": 4.129824561403509,
          "level": "A2"
         },
         {
          "ambiguity_avg": 3.5283018867924527,
          "ambiguity_cont": 3.874015748031496,
          "level": "A2"
         },
         {
          "ambiguity_avg": 3.473684210526316,
          "ambiguity_cont": 3.857843137254902,
          "level": "A2"
         },
         {
          "ambiguity_avg": 3.6627906976744184,
          "ambiguity_cont": 4.154929577464789,
          "level": "A2"
         },
         {
          "ambiguity_avg": 2.7333333333333334,
          "ambiguity_cont": 3.206611570247934,
          "level": "A2"
         },
         {
          "ambiguity_avg": 2.8376068376068377,
          "ambiguity_cont": 3.6455696202531644,
          "level": "A2"
         },
         {
          "ambiguity_avg": 2.433333333333333,
          "ambiguity_cont": 2.8297872340425534,
          "level": "A2"
         },
         {
          "ambiguity_avg": 2.5714285714285716,
          "ambiguity_cont": 3.079136690647482,
          "level": "A2"
         },
         {
          "ambiguity_avg": 3.0278164116828927,
          "ambiguity_cont": 3.4862385321100917,
          "level": "A2"
         },
         {
          "ambiguity_avg": 3.317135549872123,
          "ambiguity_cont": 3.8896103896103895,
          "level": "A2"
         },
         {
          "ambiguity_avg": 3.427480916030534,
          "ambiguity_cont": 4.0495049504950495,
          "level": "A2"
         },
         {
          "ambiguity_avg": 2.7662337662337664,
          "ambiguity_cont": 3.2758620689655173,
          "level": "A2"
         },
         {
          "ambiguity_avg": 3.1589285714285715,
          "ambiguity_cont": 3.815347721822542,
          "level": "A2"
         },
         {
          "ambiguity_avg": 3.238853503184713,
          "ambiguity_cont": 3.6370967741935485,
          "level": "A2"
         },
         {
          "ambiguity_avg": 3.412298387096774,
          "ambiguity_cont": 3.829923273657289,
          "level": "A2"
         },
         {
          "ambiguity_avg": 2.577777777777778,
          "ambiguity_cont": 2.877450980392157,
          "level": "A2"
         },
         {
          "ambiguity_avg": 3.0706638115631693,
          "ambiguity_cont": 3.4861878453038675,
          "level": "A2"
         },
         {
          "ambiguity_avg": 3.265,
          "ambiguity_cont": 3.986206896551724,
          "level": "A2"
         },
         {
          "ambiguity_avg": 3.2274247491638794,
          "ambiguity_cont": 3.9726027397260273,
          "level": "A2"
         },
         {
          "ambiguity_avg": 3.4741035856573705,
          "ambiguity_cont": 4.103626943005182,
          "level": "A2"
         },
         {
          "ambiguity_avg": 2.9467455621301775,
          "ambiguity_cont": 3.287878787878788,
          "level": "A2"
         },
         {
          "ambiguity_avg": 2.722488038277512,
          "ambiguity_cont": 2.9823529411764707,
          "level": "A2"
         },
         {
          "ambiguity_avg": 3.5155709342560555,
          "ambiguity_cont": 4.015486725663717,
          "level": "A2"
         },
         {
          "ambiguity_avg": 3.1908212560386473,
          "ambiguity_cont": 3.696048632218845,
          "level": "A2"
         },
         {
          "ambiguity_avg": 3.3348314606741574,
          "ambiguity_cont": 3.9339080459770117,
          "level": "A2"
         },
         {
          "ambiguity_avg": 3.3923444976076556,
          "ambiguity_cont": 3.954407294832827,
          "level": "A2"
         },
         {
          "ambiguity_avg": 3.6733333333333333,
          "ambiguity_cont": 4.239669421487603,
          "level": "B"
         },
         {
          "ambiguity_avg": 3.56140350877193,
          "ambiguity_cont": 4.173913043478261,
          "level": "B"
         },
         {
          "ambiguity_avg": 3,
          "ambiguity_cont": 3.361111111111111,
          "level": "B"
         },
         {
          "ambiguity_avg": 4.506666666666667,
          "ambiguity_cont": 5.4363636363636365,
          "level": "B"
         },
         {
          "ambiguity_avg": 3,
          "ambiguity_cont": 3.526315789473684,
          "level": "B"
         },
         {
          "ambiguity_avg": 2,
          "ambiguity_cont": 2.857142857142857,
          "level": "B"
         },
         {
          "ambiguity_avg": 2.6666666666666665,
          "ambiguity_cont": 2.6666666666666665,
          "level": "B"
         },
         {
          "ambiguity_avg": 3.852216748768473,
          "ambiguity_cont": 4.515337423312883,
          "level": "B"
         },
         {
          "ambiguity_avg": 5.181818181818182,
          "ambiguity_cont": 5.923076923076923,
          "level": "B"
         },
         {
          "ambiguity_avg": 3.3846153846153846,
          "ambiguity_cont": 3.657142857142857,
          "level": "B"
         },
         {
          "ambiguity_avg": 4.125,
          "ambiguity_cont": 4.703703703703703,
          "level": "B"
         },
         {
          "ambiguity_avg": 4.216216216216216,
          "ambiguity_cont": 4.932203389830509,
          "level": "B"
         },
         {
          "ambiguity_avg": 2.652173913043478,
          "ambiguity_cont": 3.234375,
          "level": "B"
         },
         {
          "ambiguity_avg": 3.490566037735849,
          "ambiguity_cont": 3.765957446808511,
          "level": "B"
         },
         {
          "ambiguity_avg": 3.061224489795918,
          "ambiguity_cont": 3.5,
          "level": "B"
         },
         {
          "ambiguity_avg": 3.3205128205128207,
          "ambiguity_cont": 3.640625,
          "level": "B"
         },
         {
          "ambiguity_avg": 3.1494565217391304,
          "ambiguity_cont": 3.896153846153846,
          "level": "B"
         },
         {
          "ambiguity_avg": 2.993215739484396,
          "ambiguity_cont": 3.5250463821892395,
          "level": "B"
         },
         {
          "ambiguity_avg": 3.0446735395189,
          "ambiguity_cont": 3.6359447004608296,
          "level": "B"
         },
         {
          "ambiguity_avg": 2.776824034334764,
          "ambiguity_cont": 3.5827814569536423,
          "level": "B"
         },
         {
          "ambiguity_avg": 3.2312633832976445,
          "ambiguity_cont": 3.6758241758241756,
          "level": "B"
         },
         {
          "ambiguity_avg": 3.2071428571428573,
          "ambiguity_cont": 3.5925925925925926,
          "level": "B"
         },
         {
          "ambiguity_avg": 3.1927194860813706,
          "ambiguity_cont": 3.652054794520548,
          "level": "B"
         },
         {
          "ambiguity_avg": 2.58,
          "ambiguity_cont": 3,
          "level": "B"
         },
         {
          "ambiguity_avg": 3.5091463414634148,
          "ambiguity_cont": 4.0939334637964775,
          "level": "B"
         },
         {
          "ambiguity_avg": 3.1869158878504673,
          "ambiguity_cont": 3.6511627906976742,
          "level": "B"
         },
         {
          "ambiguity_avg": 3,
          "ambiguity_cont": 3.627586206896552,
          "level": "B"
         },
         {
          "ambiguity_avg": 2.9130434782608696,
          "ambiguity_cont": 3.4903846153846154,
          "level": "B"
         },
         {
          "ambiguity_avg": 2.392156862745098,
          "ambiguity_cont": 2.8214285714285716,
          "level": "B"
         },
         {
          "ambiguity_avg": 3.4923076923076923,
          "ambiguity_cont": 4.063745019920319,
          "level": "B"
         },
         {
          "ambiguity_avg": 3.9464285714285716,
          "ambiguity_cont": 5.1,
          "level": "B"
         },
         {
          "ambiguity_avg": 3.3346153846153848,
          "ambiguity_cont": 3.9880478087649402,
          "level": "B"
         },
         {
          "ambiguity_avg": 3.1214574898785425,
          "ambiguity_cont": 3.5968992248062017,
          "level": "B"
         },
         {
          "ambiguity_avg": 3.1016949152542375,
          "ambiguity_cont": 3.6666666666666665,
          "level": "B"
         },
         {
          "ambiguity_avg": 4.217391304347826,
          "ambiguity_cont": 4.523809523809524,
          "level": "B"
         },
         {
          "ambiguity_avg": 2.920245398773006,
          "ambiguity_cont": 3.7017543859649122,
          "level": "B"
         },
         {
          "ambiguity_avg": 3.4913793103448274,
          "ambiguity_cont": 3.8594594594594596,
          "level": "B"
         },
         {
          "ambiguity_avg": 2.793103448275862,
          "ambiguity_cont": 3.3488372093023258,
          "level": "B"
         },
         {
          "ambiguity_avg": 3.2564102564102564,
          "ambiguity_cont": 3.888888888888889,
          "level": "B"
         },
         {
          "ambiguity_avg": 3.605,
          "ambiguity_cont": 4.414965986394558,
          "level": "B"
         },
         {
          "ambiguity_avg": 3.7823691460055096,
          "ambiguity_cont": 4.421602787456446,
          "level": "B"
         },
         {
          "ambiguity_avg": 4.090909090909091,
          "ambiguity_cont": 4.4576271186440675,
          "level": "B"
         },
         {
          "ambiguity_avg": 3.893258426966292,
          "ambiguity_cont": 4.262773722627737,
          "level": "B"
         },
         {
          "ambiguity_avg": 5,
          "ambiguity_cont": 5.571428571428571,
          "level": "B"
         },
         {
          "ambiguity_avg": 2.4242424242424243,
          "ambiguity_cont": 3.1363636363636362,
          "level": "B"
         },
         {
          "ambiguity_avg": 3.315914489311164,
          "ambiguity_cont": 3.8958990536277605,
          "level": "B"
         },
         {
          "ambiguity_avg": 3.296969696969697,
          "ambiguity_cont": 3.89453125,
          "level": "B"
         },
         {
          "ambiguity_avg": 3.1818181818181817,
          "ambiguity_cont": 3.96875,
          "level": "B"
         },
         {
          "ambiguity_avg": 3.4615384615384617,
          "ambiguity_cont": 4.674418604651163,
          "level": "B"
         },
         {
          "ambiguity_avg": 3.5454545454545454,
          "ambiguity_cont": 4.783783783783784,
          "level": "B"
         },
         {
          "ambiguity_avg": 2.982456140350877,
          "ambiguity_cont": 3.522727272727273,
          "level": "B"
         },
         {
          "ambiguity_avg": 3.308664259927798,
          "ambiguity_cont": 3.9902200488997557,
          "level": "B"
         },
         {
          "ambiguity_avg": 2.7794117647058822,
          "ambiguity_cont": 3.6222222222222222,
          "level": "B"
         },
         {
          "ambiguity_avg": 3.1636363636363636,
          "ambiguity_cont": 3.802469135802469,
          "level": "B"
         },
         {
          "ambiguity_avg": 2.7771084337349397,
          "ambiguity_cont": 3.3846153846153846,
          "level": "B"
         },
         {
          "ambiguity_avg": 3.021390374331551,
          "ambiguity_cont": 3.3806451612903228,
          "level": "B"
         },
         {
          "ambiguity_avg": 3.2222222222222223,
          "ambiguity_cont": 3.802721088435374,
          "level": "B"
         },
         {
          "ambiguity_avg": 3.7636363636363637,
          "ambiguity_cont": 4.73109243697479,
          "level": "B"
         },
         {
          "ambiguity_avg": 3.7731958762886597,
          "ambiguity_cont": 5.046153846153846,
          "level": "B"
         },
         {
          "ambiguity_avg": 2.918032786885246,
          "ambiguity_cont": 3.223404255319149,
          "level": "B"
         },
         {
          "ambiguity_avg": 3.064935064935065,
          "ambiguity_cont": 3.3728813559322033,
          "level": "B"
         },
         {
          "ambiguity_avg": 3.2656903765690375,
          "ambiguity_cont": 3.883977900552486,
          "level": "B"
         },
         {
          "ambiguity_avg": 3.6778350515463916,
          "ambiguity_cont": 4.345637583892618,
          "level": "B"
         },
         {
          "ambiguity_avg": 3.5555555555555554,
          "ambiguity_cont": 4.166666666666667,
          "level": "B"
         },
         {
          "ambiguity_avg": 3.7169811320754715,
          "ambiguity_cont": 4.209302325581396,
          "level": "B"
         },
         {
          "ambiguity_avg": 3.877551020408163,
          "ambiguity_cont": 4.054054054054054,
          "level": "B"
         },
         {
          "ambiguity_avg": 3.4100877192982457,
          "ambiguity_cont": 4.074626865671642,
          "level": "B"
         },
         {
          "ambiguity_avg": 3.9565217391304346,
          "ambiguity_cont": 5.011904761904762,
          "level": "B"
         },
         {
          "ambiguity_avg": 4.157407407407407,
          "ambiguity_cont": 5.2125,
          "level": "B"
         },
         {
          "ambiguity_avg": 3.4355555555555557,
          "ambiguity_cont": 3.9575757575757575,
          "level": "B"
         },
         {
          "ambiguity_avg": 3.388888888888889,
          "ambiguity_cont": 4.071428571428571,
          "level": "B"
         },
         {
          "ambiguity_avg": 3.383419689119171,
          "ambiguity_cont": 4.006849315068493,
          "level": "B"
         },
         {
          "ambiguity_avg": 3.1621621621621623,
          "ambiguity_cont": 3.854014598540146,
          "level": "B"
         },
         {
          "ambiguity_avg": 2.275,
          "ambiguity_cont": 2.84,
          "level": "B"
         },
         {
          "ambiguity_avg": 2.921397379912664,
          "ambiguity_cont": 3.592814371257485,
          "level": "B"
         },
         {
          "ambiguity_avg": 3.3901639344262295,
          "ambiguity_cont": 3.903765690376569,
          "level": "B"
         },
         {
          "ambiguity_avg": 3.8979591836734695,
          "ambiguity_cont": 4.463414634146342,
          "level": "B"
         },
         {
          "ambiguity_avg": 4.428571428571429,
          "ambiguity_cont": 7,
          "level": "B"
         },
         {
          "ambiguity_avg": 4.625,
          "ambiguity_cont": 5,
          "level": "B"
         },
         {
          "ambiguity_avg": 5,
          "ambiguity_cont": 5.8,
          "level": "B"
         },
         {
          "ambiguity_avg": 4.6,
          "ambiguity_cont": 5.7368421052631575,
          "level": "B"
         },
         {
          "ambiguity_avg": 2.230769230769231,
          "ambiguity_cont": 2.875,
          "level": "B"
         },
         {
          "ambiguity_avg": 3.8,
          "ambiguity_cont": 4.5,
          "level": "B"
         },
         {
          "ambiguity_avg": 1.5714285714285714,
          "ambiguity_cont": 1.8,
          "level": "B"
         },
         {
          "ambiguity_avg": 2.375,
          "ambiguity_cont": 3.0625,
          "level": "B"
         },
         {
          "ambiguity_avg": 3,
          "ambiguity_cont": 3.372093023255814,
          "level": "B"
         },
         {
          "ambiguity_avg": 3.259259259259259,
          "ambiguity_cont": 3.9508196721311477,
          "level": "B"
         },
         {
          "ambiguity_avg": 2.3,
          "ambiguity_cont": 2.56,
          "level": "B"
         },
         {
          "ambiguity_avg": 1.8333333333333333,
          "ambiguity_cont": 2.6666666666666665,
          "level": "B"
         },
         {
          "ambiguity_avg": 3.045045045045045,
          "ambiguity_cont": 3.5681818181818183,
          "level": "B1"
         },
         {
          "ambiguity_avg": 3.3392857142857144,
          "ambiguity_cont": 3.897727272727273,
          "level": "B1"
         },
         {
          "ambiguity_avg": 2.4571428571428573,
          "ambiguity_cont": 2.9615384615384617,
          "level": "B1"
         },
         {
          "ambiguity_avg": 3.3055555555555554,
          "ambiguity_cont": 3.86046511627907,
          "level": "B1"
         },
         {
          "ambiguity_avg": 3.0982142857142856,
          "ambiguity_cont": 3.606741573033708,
          "level": "B1"
         },
         {
          "ambiguity_avg": 3.226086956521739,
          "ambiguity_cont": 3.9310344827586206,
          "level": "B1"
         },
         {
          "ambiguity_avg": 2.5517241379310347,
          "ambiguity_cont": 3.135593220338983,
          "level": "B1"
         },
         {
          "ambiguity_avg": 3.9150943396226414,
          "ambiguity_cont": 4.5813953488372094,
          "level": "B1"
         },
         {
          "ambiguity_avg": 3.633663366336634,
          "ambiguity_cont": 4.142857142857143,
          "level": "B1"
         },
         {
          "ambiguity_avg": 2.4607843137254903,
          "ambiguity_cont": 2.7948717948717947,
          "level": "B1"
         },
         {
          "ambiguity_avg": 2.34375,
          "ambiguity_cont": 2.72,
          "level": "B1"
         },
         {
          "ambiguity_avg": 3.7183308494783907,
          "ambiguity_cont": 4.488,
          "level": "B1"
         },
         {
          "ambiguity_avg": 2.941028858218319,
          "ambiguity_cont": 3.4824120603015074,
          "level": "B1"
         },
         {
          "ambiguity_avg": 3.757575757575758,
          "ambiguity_cont": 4.55902004454343,
          "level": "B1"
         },
         {
          "ambiguity_avg": 3.3466257668711656,
          "ambiguity_cont": 4.054393305439331,
          "level": "B1"
         },
         {
          "ambiguity_avg": 3.322074788902292,
          "ambiguity_cont": 3.821256038647343,
          "level": "B1"
         },
         {
          "ambiguity_avg": 3.69164265129683,
          "ambiguity_cont": 4.238970588235294,
          "level": "B1"
         },
         {
          "ambiguity_avg": 3.2006745362563236,
          "ambiguity_cont": 3.7136150234741785,
          "level": "B1"
         },
         {
          "ambiguity_avg": 3.281124497991968,
          "ambiguity_cont": 3.776595744680851,
          "level": "B1"
         },
         {
          "ambiguity_avg": 2.9153094462540716,
          "ambiguity_cont": 3.4906542056074765,
          "level": "B1"
         },
         {
          "ambiguity_avg": 3.2146050670640833,
          "ambiguity_cont": 3.735812133072407,
          "level": "B1"
         },
         {
          "ambiguity_avg": 3.135388739946381,
          "ambiguity_cont": 3.670774647887324,
          "level": "B1"
         },
         {
          "ambiguity_avg": 2.992343032159265,
          "ambiguity_cont": 3.619148936170213,
          "level": "B1"
         },
         {
          "ambiguity_avg": 3.46890286512928,
          "ambiguity_cont": 4.008007117437723,
          "level": "B1"
         },
         {
          "ambiguity_avg": 3.213507625272331,
          "ambiguity_cont": 3.7885714285714287,
          "level": "B1"
         },
         {
          "ambiguity_avg": 3.3594351732991012,
          "ambiguity_cont": 3.986111111111111,
          "level": "B1"
         },
         {
          "ambiguity_avg": 3.165434906196703,
          "ambiguity_cont": 3.7755102040816326,
          "level": "B1"
         },
         {
          "ambiguity_avg": 3.174228675136116,
          "ambiguity_cont": 3.8237259816207185,
          "level": "B1"
         },
         {
          "ambiguity_avg": 3.0245051837888783,
          "ambiguity_cont": 3.5860284605433375,
          "level": "B1"
         },
         {
          "ambiguity_avg": 2.3333333333333335,
          "ambiguity_cont": 2.5428571428571427,
          "level": "B1"
         },
         {
          "ambiguity_avg": 3.864864864864865,
          "ambiguity_cont": 4.777777777777778,
          "level": "B1"
         },
         {
          "ambiguity_avg": 3,
          "ambiguity_cont": 3.6153846153846154,
          "level": "B1"
         },
         {
          "ambiguity_avg": 3.3636363636363638,
          "ambiguity_cont": 3.8461538461538463,
          "level": "B1"
         },
         {
          "ambiguity_avg": 3,
          "ambiguity_cont": 3.5,
          "level": "B1"
         },
         {
          "ambiguity_avg": 3.8,
          "ambiguity_cont": 4.268656716417911,
          "level": "B1"
         },
         {
          "ambiguity_avg": 3.3854166666666665,
          "ambiguity_cont": 3.993150684931507,
          "level": "B1"
         },
         {
          "ambiguity_avg": 3.169491525423729,
          "ambiguity_cont": 3.717391304347826,
          "level": "B1"
         },
         {
          "ambiguity_avg": 3.5789473684210527,
          "ambiguity_cont": 3.7222222222222223,
          "level": "B1"
         },
         {
          "ambiguity_avg": 3.5476190476190474,
          "ambiguity_cont": 4.095238095238095,
          "level": "B1"
         },
         {
          "ambiguity_avg": 2.735294117647059,
          "ambiguity_cont": 3.5652173913043477,
          "level": "B1"
         },
         {
          "ambiguity_avg": 2.4615384615384617,
          "ambiguity_cont": 2.9655172413793105,
          "level": "B1"
         },
         {
          "ambiguity_avg": 3.2758620689655173,
          "ambiguity_cont": 4,
          "level": "B1"
         }
        ]
       },
       "facet": {
        "field": "level",
        "type": "nominal"
       },
       "spec": {
        "encoding": {
         "x": {
          "bin": {
           "maxbins": 30
          },
          "field": "ambiguity_cont",
          "type": "quantitative"
         },
         "y": {
          "aggregate": "count",
          "type": "quantitative"
         }
        },
        "mark": "bar"
       }
      },
      "image/png": "[encoded data removed]",
      "text/plain": [
       "<VegaLite 4 object>\n",
       "\n",
       "If you see this message, it means the renderer has not been properly enabled\n",
       "for the frontend that you are using. For more information, see\n",
       "https://altair-viz.github.io/user_guide/troubleshooting.html\n"
      ]
     },
     "execution_count": 33,
     "metadata": {},
     "output_type": "execute_result"
    }
   ],
   "source": [
    "alt.Chart(level_amb_df).mark_bar().encode(x = alt.X('ambiguity_cont', bin = alt.Bin(maxbins = 30)), y = 'count()').facet('level')"
   ]
  }
 ],
 "metadata": {
  "kernelspec": {
   "display_name": "Python 3",
   "language": "python",
   "name": "python3"
  },
  "language_info": {
   "codemirror_mode": {
    "name": "ipython",
    "version": 3
   },
   "file_extension": ".py",
   "mimetype": "text/x-python",
   "name": "python",
   "nbconvert_exporter": "python",
   "pygments_lexer": "ipython3",
   "version": "3.8.3"
  }
 },
 "nbformat": 4,
 "nbformat_minor": 5
}
