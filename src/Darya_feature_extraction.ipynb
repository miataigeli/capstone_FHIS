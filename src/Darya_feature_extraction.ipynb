{
 "cells": [
  {
   "cell_type": "markdown",
   "metadata": {
    "cell_id": "00000-ad21431e-5517-45d9-a375-51a5df298f33",
    "deepnote_cell_type": "markdown",
    "tags": []
   },
   "source": [
    "## Feature Extraction\n",
    "\n",
    "Features this notebook extracts:\n",
    "\n",
    "1. Average sentence length in words\n",
    "2. Type-Token Ratio\n",
    "3. POS tag proportion\n",
    "4. Proportion of content vs function words\n",
    "5. Length of sentence in words"
   ]
  },
  {
   "cell_type": "code",
   "execution_count": 10,
   "metadata": {
    "cell_id": "00001-ae04fa96-4634-444b-9b92-aedab507474c",
    "deepnote_cell_type": "code",
    "deepnote_to_be_reexecuted": false,
    "execution_millis": 2262,
    "execution_start": 1621521876770,
    "source_hash": "68702567",
    "tags": []
   },
   "outputs": [
    {
     "name": "stderr",
     "output_type": "stream",
     "text": [
      "[nltk_data] Downloading package punkt to /root/nltk_data...\n",
      "[nltk_data]   Unzipping tokenizers/punkt.zip.\n"
     ]
    },
    {
     "data": {
      "text/plain": [
       "True"
      ]
     },
     "execution_count": 10,
     "metadata": {},
     "output_type": "execute_result"
    }
   ],
   "source": [
    "# download punkt package for tokenization\n",
    "import nltk\n",
    "nltk.download('punkt')"
   ]
  },
  {
   "cell_type": "code",
   "execution_count": 28,
   "metadata": {
    "cell_id": "00003-6952a330-fe7f-45a7-8893-848bcd265787",
    "deepnote_cell_type": "code",
    "deepnote_to_be_reexecuted": false,
    "execution_millis": 2,
    "execution_start": 1621523539432,
    "source_hash": "7c219401",
    "tags": []
   },
   "outputs": [],
   "source": [
    "# Example text in Spanish\n",
    "text = \"\"\"Me llamo Darya y soy estudiante de la Universidad de Columbia Británica. \n",
    "        Estudio lingüística computacional y ciencia de datos que incluye el aprendizaje automático y redes neuronales.\"\"\""
   ]
  },
  {
   "cell_type": "code",
   "execution_count": 29,
   "metadata": {
    "cell_id": "00002-22d7711e-0aa3-4ff5-9526-9e06c47104f2",
    "deepnote_cell_type": "code",
    "deepnote_to_be_reexecuted": false,
    "execution_millis": 21,
    "execution_start": 1621523547969,
    "source_hash": "2cdeec03",
    "tags": []
   },
   "outputs": [
    {
     "name": "stdout",
     "output_type": "stream",
     "text": [
      "['Me llamo Darya y soy estudiante de la Universidad de Columbia Británica.', 'Estudio lingüística computacional y ciencia de datos que incluye el aprendizaje automático y redes neuronales.']\n",
      "13.5\n"
     ]
    }
   ],
   "source": [
    "# Average sentence length (in words)\n",
    "from statistics import mean\n",
    "sentence_list = nltk.tokenize.sent_tokenize(text)\n",
    "print(sentence_list)\n",
    "avg_sent_len = mean([len(sent.split(\" \")) for sent in sentence_list])\n",
    "print(avg_sent_len)"
   ]
  },
  {
   "cell_type": "code",
   "execution_count": 30,
   "metadata": {
    "cell_id": "00003-f1091ac6-9b85-4009-9128-2746dac29521",
    "deepnote_cell_type": "code",
    "deepnote_to_be_reexecuted": false,
    "execution_millis": 321,
    "execution_start": 1621523570528,
    "source_hash": "e307f84e",
    "tags": []
   },
   "outputs": [
    {
     "name": "stdout",
     "output_type": "stream",
     "text": [
      "82.75862068965517\n"
     ]
    }
   ],
   "source": [
    "# Type-token ratio\n",
    "\n",
    "# tokenize\n",
    "tokens = nltk.word_tokenize(text)\n",
    "\n",
    "# types\n",
    "types = set(tokens)\n",
    "\n",
    "# TTR\n",
    "TTR = len(types)/len(tokens) * 100\n",
    "\n",
    "print(TTR)"
   ]
  },
  {
   "cell_type": "code",
   "execution_count": 3,
   "metadata": {
    "cell_id": "00007-693d6fde-a381-4720-ae20-82bc27da9d85",
    "deepnote_cell_type": "code",
    "deepnote_to_be_reexecuted": false,
    "execution_millis": 4696,
    "execution_start": 1621521733350,
    "output_cleared": true,
    "source_hash": "a450c096",
    "tags": []
   },
   "outputs": [],
   "source": [
    "# Download latest version of spacy\n",
    "!pip install -U spacy --user"
   ]
  },
  {
   "cell_type": "code",
   "execution_count": 5,
   "metadata": {
    "cell_id": "00007-cba1a088-bb43-4614-acb4-a3f1fa09c7cf",
    "deepnote_cell_type": "code",
    "deepnote_to_be_reexecuted": false,
    "execution_millis": 7648,
    "execution_start": 1621521758504,
    "output_cleared": true,
    "source_hash": "fb6aed92",
    "tags": []
   },
   "outputs": [],
   "source": [
    "# Use es_core_news_md pipeline for POS tagging\n",
    "!python -m spacy download es_core_news_md"
   ]
  },
  {
   "cell_type": "code",
   "execution_count": 14,
   "metadata": {
    "cell_id": "00004-57391e0c-b9c3-4909-9495-3800b1ebbed0",
    "deepnote_cell_type": "code",
    "deepnote_to_be_reexecuted": false,
    "execution_millis": 943,
    "execution_start": 1621521886816,
    "source_hash": "75f11204",
    "tags": []
   },
   "outputs": [],
   "source": [
    "import spacy\n",
    "nlp = spacy.load(\"es_core_news_md\")"
   ]
  },
  {
   "cell_type": "code",
   "execution_count": 31,
   "metadata": {
    "cell_id": "00008-32b43a14-3b88-4caf-99b4-975beba04c6e",
    "deepnote_cell_type": "code",
    "deepnote_to_be_reexecuted": false,
    "execution_millis": 4,
    "execution_start": 1621523676387,
    "source_hash": "f8723cdb",
    "tags": []
   },
   "outputs": [
    {
     "name": "stdout",
     "output_type": "stream",
     "text": [
      "defaultdict(<class 'float'>, {'PRON': 0.06896551724137931, 'VERB': 0.06896551724137931, 'PROPN': 0.1724137931034483, 'CCONJ': 0.10344827586206896, 'AUX': 0.034482758620689655, 'NOUN': 0.20689655172413793, 'ADP': 0.10344827586206896, 'DET': 0.06896551724137931, 'PUNCT': 0.06896551724137931, 'SPACE': 0.034482758620689655, 'ADJ': 0.10344827586206896})\n"
     ]
    }
   ],
   "source": [
    "# POS tag proportion\n",
    "\n",
    "from collections import defaultdict\n",
    "\n",
    "doc = nlp(text)\n",
    "pos_to_count = defaultdict(int)\n",
    "\n",
    "total_len = len(tokens)\n",
    "for token in doc:\n",
    "    pos = token.pos_\n",
    "    pos_to_count[pos] += 1\n",
    "\n",
    "pos_to_prop = defaultdict(float)\n",
    "for pos, count in pos_to_count.items():\n",
    "    pos_to_prop[pos] = count/total_len\n",
    "\n",
    "print(pos_to_prop)"
   ]
  },
  {
   "cell_type": "code",
   "execution_count": 49,
   "metadata": {
    "cell_id": "00005-09549001-bed3-4db8-b9bc-db5addca9c8b",
    "deepnote_cell_type": "code",
    "deepnote_to_be_reexecuted": false,
    "execution_millis": 6,
    "execution_start": 1621528611014,
    "source_hash": "f07a92ee",
    "tags": []
   },
   "outputs": [
    {
     "name": "stdout",
     "output_type": "stream",
     "text": [
      "{'CONTENT': 0.7037037037037037, 'FUNCTION': 0.2962962962962963}\n"
     ]
    }
   ],
   "source": [
    "# Proportion of Content vs function words\n",
    "\n",
    "CONTENT_POS = {'VERB', 'NOUN', 'PROPN', 'ADP', 'ADJ', 'ADV'}\n",
    "FUNCTION_POS = {'CONJ', 'CCONJ', 'SCONJ', 'AUX', 'DET', 'PRON', 'INTJ', 'NUM', 'PART'}\n",
    "total_len = len(tokens)\n",
    "\n",
    "doc = nlp(text)\n",
    "\n",
    "cat_count = {'CONTENT': 0,\n",
    "             'FUNCTION': 0}\n",
    "\n",
    "total = 0\n",
    "for token in doc:\n",
    "    pos = token.pos_\n",
    "    if pos in CONTENT_POS:\n",
    "        cat_count['CONTENT'] += 1\n",
    "        total += 1\n",
    "    elif pos in FUNCTION_POS:\n",
    "        cat_count['FUNCTION'] += 1\n",
    "        total += 1\n",
    "    elif pos == 'SPACE':\n",
    "        pass #ignore\n",
    "    else:# punctuation, which we ignore but need to remove from total_len\n",
    "        total_len -= 1\n",
    "\n",
    "\n",
    "assert(cat_count['CONTENT'] + cat_count['FUNCTION'] == total_len)\n",
    "cat_prop = {'CONTENT': 0.0,\n",
    "            'FUNCTION': 0.0}\n",
    "for cat, count in cat_count.items():\n",
    "    cat_prop[cat] = cat_count[cat]/total_len\n",
    "\n",
    "print(cat_prop)\n",
    "\n",
    "assert(round(cat_prop['CONTENT'] + cat_prop['FUNCTION'], 2) == 1)"
   ]
  },
  {
   "cell_type": "code",
   "execution_count": 26,
   "metadata": {
    "cell_id": "00006-6f0f1baa-94b0-473c-a8a0-a51897784ddb",
    "deepnote_cell_type": "code",
    "deepnote_to_be_reexecuted": false,
    "execution_millis": 5,
    "execution_start": 1621522968689,
    "source_hash": "4fbdc8a9",
    "tags": []
   },
   "outputs": [],
   "source": [
    "# Text length\n",
    "text_len = len(tokens)\n",
    "print(text_len)"
   ]
  }
 ],
 "metadata": {
  "deepnote": {
   "is_reactive": false
  },
  "deepnote_execution_queue": [],
  "deepnote_notebook_id": "02e72569-b2ee-4ea3-9366-054ecef7f3c5",
  "kernelspec": {
   "display_name": "Python 3",
   "language": "python",
   "name": "python3"
  },
  "language_info": {
   "codemirror_mode": {
    "name": "ipython",
    "version": 3
   },
   "file_extension": ".py",
   "mimetype": "text/x-python",
   "name": "python",
   "nbconvert_exporter": "python",
   "pygments_lexer": "ipython3",
   "version": "3.8.3"
  }
 },
 "nbformat": 4,
 "nbformat_minor": 4
}
