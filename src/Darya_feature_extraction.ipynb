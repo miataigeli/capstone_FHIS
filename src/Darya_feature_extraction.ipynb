{
 "cells": [
  {
   "cell_type": "markdown",
   "source": "## Feature Extraction\n\nFeatures this notebook extracts:\n\n1. Average sentence length in words\n2. Type-Token Ratio\n3. POS tag proportion\n4. Proportion of content vs function words\n5. Length of sentence in words",
   "metadata": {
    "tags": [],
    "cell_id": "00000-ad21431e-5517-45d9-a375-51a5df298f33",
    "deepnote_cell_type": "markdown"
   }
  },
  {
   "cell_type": "code",
   "metadata": {
    "tags": [],
    "cell_id": "00001-ae04fa96-4634-444b-9b92-aedab507474c",
    "deepnote_to_be_reexecuted": false,
    "source_hash": "68702567",
    "execution_start": 1621521876770,
    "execution_millis": 2262,
    "deepnote_cell_type": "code"
   },
   "source": "# download punkt package for tokenization\nimport nltk\nnltk.download('punkt')",
   "execution_count": 10,
   "outputs": [
    {
     "name": "stderr",
     "text": "[nltk_data] Downloading package punkt to /root/nltk_data...\n[nltk_data]   Unzipping tokenizers/punkt.zip.\n",
     "output_type": "stream"
    },
    {
     "output_type": "execute_result",
     "execution_count": 10,
     "data": {
      "text/plain": "True"
     },
     "metadata": {}
    }
   ]
  },
  {
   "cell_type": "code",
   "metadata": {
    "tags": [],
    "cell_id": "00003-6952a330-fe7f-45a7-8893-848bcd265787",
    "deepnote_to_be_reexecuted": false,
    "source_hash": "7c219401",
    "execution_start": 1621523539432,
    "execution_millis": 2,
    "deepnote_cell_type": "code"
   },
   "source": "# Example text in Spanish\ntext = \"\"\"Me llamo Darya y soy estudiante de la Universidad de Columbia Británica. \n        Estudio lingüística computacional y ciencia de datos que incluye el aprendizaje automático y redes neuronales.\"\"\"",
   "execution_count": 28,
   "outputs": []
  },
  {
   "cell_type": "code",
   "metadata": {
    "tags": [],
    "cell_id": "00002-22d7711e-0aa3-4ff5-9526-9e06c47104f2",
    "deepnote_to_be_reexecuted": false,
    "source_hash": "2cdeec03",
    "execution_start": 1621523547969,
    "execution_millis": 21,
    "deepnote_cell_type": "code"
   },
   "source": "# Average sentence length (in words)\nfrom statistics import mean\nsentence_list = nltk.tokenize.sent_tokenize(text)\nprint(sentence_list)\navg_sent_len = mean([len(sent.split(\" \")) for sent in sentence_list])\nprint(avg_sent_len)",
   "execution_count": 29,
   "outputs": [
    {
     "name": "stdout",
     "text": "['Me llamo Darya y soy estudiante de la Universidad de Columbia Británica.', 'Estudio lingüística computacional y ciencia de datos que incluye el aprendizaje automático y redes neuronales.']\n13.5\n",
     "output_type": "stream"
    }
   ]
  },
  {
   "cell_type": "code",
   "metadata": {
    "tags": [],
    "cell_id": "00003-f1091ac6-9b85-4009-9128-2746dac29521",
    "deepnote_to_be_reexecuted": false,
    "source_hash": "e307f84e",
    "execution_start": 1621523570528,
    "execution_millis": 321,
    "deepnote_cell_type": "code"
   },
   "source": "# Type-token ratio\n\n# tokenize\ntokens = nltk.word_tokenize(text)\n\n# types\ntypes = nltk.Counter(tokens)\n\n# TTR\nTTR = len(types)/len(tokens) * 100\n\nprint(TTR)",
   "execution_count": 30,
   "outputs": [
    {
     "name": "stdout",
     "text": "82.75862068965517\n",
     "output_type": "stream"
    }
   ]
  },
  {
   "cell_type": "code",
   "metadata": {
    "tags": [],
    "cell_id": "00007-693d6fde-a381-4720-ae20-82bc27da9d85",
    "deepnote_to_be_reexecuted": false,
    "source_hash": "a450c096",
    "execution_start": 1621521733350,
    "execution_millis": 4696,
    "output_cleared": true,
    "deepnote_cell_type": "code"
   },
   "source": "# Download latest version of spacy\n!pip install -U spacy --user",
   "execution_count": 3,
   "outputs": []
  },
  {
   "cell_type": "code",
   "metadata": {
    "tags": [],
    "cell_id": "00007-cba1a088-bb43-4614-acb4-a3f1fa09c7cf",
    "deepnote_to_be_reexecuted": false,
    "source_hash": "fb6aed92",
    "execution_start": 1621521758504,
    "execution_millis": 7648,
    "output_cleared": true,
    "deepnote_cell_type": "code"
   },
   "source": "# Use es_core_news_md pipeline for POS tagging\n!python -m spacy download es_core_news_md",
   "execution_count": 5,
   "outputs": []
  },
  {
   "cell_type": "code",
   "metadata": {
    "tags": [],
    "cell_id": "00004-57391e0c-b9c3-4909-9495-3800b1ebbed0",
    "deepnote_to_be_reexecuted": false,
    "source_hash": "75f11204",
    "execution_start": 1621521886816,
    "execution_millis": 943,
    "deepnote_cell_type": "code"
   },
   "source": "import spacy\nnlp = spacy.load(\"es_core_news_md\")",
   "execution_count": 14,
   "outputs": []
  },
  {
   "cell_type": "code",
   "metadata": {
    "tags": [],
    "cell_id": "00008-32b43a14-3b88-4caf-99b4-975beba04c6e",
    "deepnote_to_be_reexecuted": false,
    "source_hash": "f8723cdb",
    "execution_start": 1621523676387,
    "execution_millis": 4,
    "deepnote_cell_type": "code"
   },
   "source": "# POS tag proportion\n\nfrom collections import defaultdict\n\ndoc = nlp(text)\npos_to_count = defaultdict(int)\n\ntotal_len = len(tokens)\nfor token in doc:\n    pos = token.pos_\n    pos_to_count[pos] += 1\n\npos_to_prop = defaultdict(float)\nfor pos, count in pos_to_count.items():\n    pos_to_prop[pos] = count/total_len\n\nprint(pos_to_prop)",
   "execution_count": 31,
   "outputs": [
    {
     "name": "stdout",
     "text": "defaultdict(<class 'float'>, {'PRON': 0.06896551724137931, 'VERB': 0.06896551724137931, 'PROPN': 0.1724137931034483, 'CCONJ': 0.10344827586206896, 'AUX': 0.034482758620689655, 'NOUN': 0.20689655172413793, 'ADP': 0.10344827586206896, 'DET': 0.06896551724137931, 'PUNCT': 0.06896551724137931, 'SPACE': 0.034482758620689655, 'ADJ': 0.10344827586206896})\n",
     "output_type": "stream"
    }
   ]
  },
  {
   "cell_type": "code",
   "metadata": {
    "tags": [],
    "cell_id": "00005-09549001-bed3-4db8-b9bc-db5addca9c8b",
    "deepnote_to_be_reexecuted": false,
    "source_hash": "f07a92ee",
    "execution_start": 1621528611014,
    "execution_millis": 6,
    "deepnote_cell_type": "code"
   },
   "source": "# Proportion of Content vs function words\n\nCONTENT_POS = {'VERB', 'NOUN', 'PROPN', 'ADP', 'ADJ', 'ADV'}\nFUNCTION_POS = {'CONJ', 'CCONJ', 'SCONJ', 'AUX', 'DET', 'PRON', 'INTJ', 'NUM', 'PART'}\ntotal_len = len(tokens)\n\ndoc = nlp(text)\n\ncat_count = {'CONTENT': 0,\n             'FUNCTION': 0}\n\ntotal = 0\nfor token in doc:\n    pos = token.pos_\n    if pos in CONTENT_POS:\n        cat_count['CONTENT'] += 1\n        total += 1\n    elif pos in FUNCTION_POS:\n        cat_count['FUNCTION'] += 1\n        total += 1\n    elif pos == 'SPACE':\n        pass #ignore\n    else:# punctuation, which we ignore but need to remove from total_len\n        total_len -= 1\n\n\nassert(cat_count['CONTENT'] + cat_count['FUNCTION'] == total_len)\ncat_prop = {'CONTENT': 0.0,\n            'FUNCTION': 0.0}\nfor cat, count in cat_count.items():\n    cat_prop[cat] = cat_count[cat]/total_len\n\nprint(cat_prop)\n\nassert(round(cat_prop['CONTENT'] + cat_prop['FUNCTION'], 2) == 1)",
   "execution_count": 49,
   "outputs": [
    {
     "name": "stdout",
     "text": "{'CONTENT': 0.7037037037037037, 'FUNCTION': 0.2962962962962963}\n",
     "output_type": "stream"
    }
   ]
  },
  {
   "cell_type": "code",
   "metadata": {
    "tags": [],
    "cell_id": "00006-6f0f1baa-94b0-473c-a8a0-a51897784ddb",
    "deepnote_to_be_reexecuted": false,
    "source_hash": "4fbdc8a9",
    "execution_start": 1621522968689,
    "execution_millis": 5,
    "deepnote_cell_type": "code"
   },
   "source": "# Text length\ntext_len = len(tokens)\nprint(text_len)",
   "execution_count": 26,
   "outputs": []
  },
  {
   "cell_type": "code",
   "metadata": {
    "tags": [],
    "cell_id": "00013-6036fba2-e30e-4409-ab30-5d983d7917d7",
    "deepnote_cell_type": "code"
   },
   "source": "",
   "execution_count": null,
   "outputs": []
  },
  {
   "cell_type": "markdown",
   "source": "<a style='text-decoration:none;line-height:16px;display:flex;color:#5B5B62;padding:10px;justify-content:end;' href='https://deepnote.com?utm_source=created-in-deepnote-cell&projectId=9f38c89f-98a4-43dd-918d-5272f0ab5f1d' target=\"_blank\">\n<img alt='Created in deepnote.com' style='display:inline;max-height:16px;margin:0px;margin-right:7.5px;' src='data:image/svg+xml;base64,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' > </img>\nCreated in <span style='font-weight:600;margin-left:4px;'>Deepnote</span></a>",
   "metadata": {
    "tags": [],
    "created_in_deepnote_cell": true,
    "deepnote_cell_type": "markdown"
   }
  }
 ],
 "nbformat": 4,
 "nbformat_minor": 2,
 "metadata": {
  "orig_nbformat": 2,
  "deepnote": {
   "is_reactive": false
  },
  "deepnote_notebook_id": "02e72569-b2ee-4ea3-9366-054ecef7f3c5",
  "deepnote_execution_queue": []
 }
}