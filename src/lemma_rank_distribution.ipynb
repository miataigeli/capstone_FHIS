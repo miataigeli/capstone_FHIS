{
 "cells": [
  {
   "cell_type": "markdown",
   "id": "dying-space",
   "metadata": {},
   "source": [
    "## Notebook for generating distribution of lemma ranks across levels"
   ]
  },
  {
   "cell_type": "code",
   "execution_count": 1,
   "id": "disturbed-track",
   "metadata": {},
   "outputs": [],
   "source": [
    "from collections import defaultdict\n",
    "from features import feature_pipeline\n",
    "from utils import read_corpus\n",
    "import altair as alt\n",
    "import pandas as pd\n",
    "alt.renderers.enable('mimetype')\n",
    "import plotly.io as pio\n",
    "pio.renderers.default = \"plotly_mimetype\""
   ]
  },
  {
   "cell_type": "code",
   "execution_count": 7,
   "id": "naval-ready",
   "metadata": {},
   "outputs": [],
   "source": [
    "# Read in corpus\n",
    "corpus = read_corpus()"
   ]
  },
  {
   "cell_type": "code",
   "execution_count": 3,
   "id": "controlled-motion",
   "metadata": {},
   "outputs": [],
   "source": [
    "# Set up feature pipeline\n",
    "pipe = feature_pipeline()"
   ]
  },
  {
   "cell_type": "code",
   "execution_count": 4,
   "id": "racial-sitting",
   "metadata": {},
   "outputs": [],
   "source": [
    "# Extract average lemma ranks for each text in each level\n",
    "feature_dict = defaultdict(list)\n",
    "for level, dicts in corpus.items():\n",
    "    for i, text_item in enumerate(dicts):\n",
    "        # Compute average lemma rank\n",
    "        feature_dict[\"avg_lemma_rank\"].append(pipe.avg_word_freq(text_item[\"content\"]))\n",
    "        feature_dict[\"level\"].append(level)"
   ]
  },
  {
   "cell_type": "code",
   "execution_count": 5,
   "id": "special-compact",
   "metadata": {},
   "outputs": [
    {
     "data": {
      "application/vnd.vegalite.v4+json": {
       "$schema": "https://vega.github.io/schema/vega-lite/v4.8.1.json",
       "config": {
        "view": {
         "continuousHeight": 300,
         "continuousWidth": 400
        }
       },
       "data": {
        "name": "data-e4469a1e567df130df069f2d508c9f0a"
       },
       "datasets": {
        "data-e4469a1e567df130df069f2d508c9f0a": [
         {
          "avg_lemma_rank": 653.1567164179105,
          "level": "A1"
         },
         {
          "avg_lemma_rank": 773.0077519379845,
          "level": "A1"
         },
         {
          "avg_lemma_rank": 700.0533980582525,
          "level": "A1"
         },
         {
          "avg_lemma_rank": 657.2621359223301,
          "level": "A1"
         },
         {
          "avg_lemma_rank": 502.68255884127944,
          "level": "A1"
         },
         {
          "avg_lemma_rank": 519.2113989637305,
          "level": "A1"
         },
         {
          "avg_lemma_rank": 385.876497005988,
          "level": "A1"
         },
         {
          "avg_lemma_rank": 679.4752475247525,
          "level": "A1"
         },
         {
          "avg_lemma_rank": 449.86912582112177,
          "level": "A1"
         },
         {
          "avg_lemma_rank": 529.0231292517007,
          "level": "A1"
         },
         {
          "avg_lemma_rank": 480.7815873015873,
          "level": "A1"
         },
         {
          "avg_lemma_rank": 344.2313386798273,
          "level": "A1"
         },
         {
          "avg_lemma_rank": 511.3513353115727,
          "level": "A1"
         },
         {
          "avg_lemma_rank": 396.0658271322267,
          "level": "A1"
         },
         {
          "avg_lemma_rank": 490.3170075349839,
          "level": "A1"
         },
         {
          "avg_lemma_rank": 421.39502164502164,
          "level": "A1"
         },
         {
          "avg_lemma_rank": 422.7196172248804,
          "level": "A1"
         },
         {
          "avg_lemma_rank": 445.10169491525426,
          "level": "A1"
         },
         {
          "avg_lemma_rank": 531.7246297312123,
          "level": "A1"
         },
         {
          "avg_lemma_rank": 495.60199714693294,
          "level": "A1"
         },
         {
          "avg_lemma_rank": 411.92797453243134,
          "level": "A1"
         },
         {
          "avg_lemma_rank": 394.35008766803037,
          "level": "A1"
         },
         {
          "avg_lemma_rank": 461.5725938009788,
          "level": "A1"
         },
         {
          "avg_lemma_rank": 409.9506641366224,
          "level": "A1"
         },
         {
          "avg_lemma_rank": 301.88651535380507,
          "level": "A1"
         },
         {
          "avg_lemma_rank": 372.96262886597935,
          "level": "A1"
         },
         {
          "avg_lemma_rank": 609.6867749419954,
          "level": "A1"
         },
         {
          "avg_lemma_rank": 537.2255859375,
          "level": "A1"
         },
         {
          "avg_lemma_rank": 393.45258620689657,
          "level": "A1"
         },
         {
          "avg_lemma_rank": 537.34375,
          "level": "A1"
         },
         {
          "avg_lemma_rank": 424.95973884657235,
          "level": "A1"
         },
         {
          "avg_lemma_rank": 387.71022727272725,
          "level": "A1"
         },
         {
          "avg_lemma_rank": 444.4421768707483,
          "level": "A1"
         },
         {
          "avg_lemma_rank": 615.4444444444445,
          "level": "A1"
         },
         {
          "avg_lemma_rank": 300.2752613240418,
          "level": "A1"
         },
         {
          "avg_lemma_rank": 349.62603305785126,
          "level": "A1"
         },
         {
          "avg_lemma_rank": 391.3420310296192,
          "level": "A1"
         },
         {
          "avg_lemma_rank": 522.8107658157603,
          "level": "A1"
         },
         {
          "avg_lemma_rank": 456.30299401197607,
          "level": "A1"
         },
         {
          "avg_lemma_rank": 575.6949740034662,
          "level": "A1"
         },
         {
          "avg_lemma_rank": 458.79327610872673,
          "level": "A1"
         },
         {
          "avg_lemma_rank": 416.9219948849105,
          "level": "A1"
         },
         {
          "avg_lemma_rank": 428.3483984203598,
          "level": "A1"
         },
         {
          "avg_lemma_rank": 373.5624607658506,
          "level": "A1"
         },
         {
          "avg_lemma_rank": 360.61526946107784,
          "level": "A1"
         },
         {
          "avg_lemma_rank": 518.6119402985074,
          "level": "A1"
         },
         {
          "avg_lemma_rank": 244.58432304038004,
          "level": "A1"
         },
         {
          "avg_lemma_rank": 335.292673992674,
          "level": "A1"
         },
         {
          "avg_lemma_rank": 298.279886484569,
          "level": "A1"
         },
         {
          "avg_lemma_rank": 329.6828679765598,
          "level": "A1"
         },
         {
          "avg_lemma_rank": 439.725405921681,
          "level": "A1"
         },
         {
          "avg_lemma_rank": 234.95710543549444,
          "level": "A1"
         },
         {
          "avg_lemma_rank": 220.23388252148996,
          "level": "A1"
         },
         {
          "avg_lemma_rank": 235.42862654320987,
          "level": "A1"
         },
         {
          "avg_lemma_rank": 299.94100294985253,
          "level": "A1"
         },
         {
          "avg_lemma_rank": 222.08616780045352,
          "level": "A1"
         },
         {
          "avg_lemma_rank": 267.6393156424581,
          "level": "A1"
         },
         {
          "avg_lemma_rank": 299.2824283559578,
          "level": "A1"
         },
         {
          "avg_lemma_rank": 212.39390994493036,
          "level": "A1"
         },
         {
          "avg_lemma_rank": 634.2426470588235,
          "level": "A1"
         },
         {
          "avg_lemma_rank": 527.6558044806517,
          "level": "A1"
         },
         {
          "avg_lemma_rank": 441.60409556313994,
          "level": "A1"
         },
         {
          "avg_lemma_rank": 563.6649323621228,
          "level": "A1"
         },
         {
          "avg_lemma_rank": 501.97769516728624,
          "level": "A1"
         },
         {
          "avg_lemma_rank": 561.0054054054054,
          "level": "A1"
         },
         {
          "avg_lemma_rank": 467.5014925373134,
          "level": "A1"
         },
         {
          "avg_lemma_rank": 512.0521739130435,
          "level": "A1"
         },
         {
          "avg_lemma_rank": 453.83829174664106,
          "level": "A1"
         },
         {
          "avg_lemma_rank": 615.0185185185185,
          "level": "A1"
         },
         {
          "avg_lemma_rank": 673.6703096539162,
          "level": "A1"
         },
         {
          "avg_lemma_rank": 555.7671786580437,
          "level": "A1"
         },
         {
          "avg_lemma_rank": 405.7649769585253,
          "level": "A1"
         },
         {
          "avg_lemma_rank": 294.34274193548384,
          "level": "A1"
         },
         {
          "avg_lemma_rank": 426.4714285714286,
          "level": "A1"
         },
         {
          "avg_lemma_rank": 361.2451923076923,
          "level": "A1"
         },
         {
          "avg_lemma_rank": 403.53521126760563,
          "level": "A1"
         },
         {
          "avg_lemma_rank": 211.56521739130434,
          "level": "A1"
         },
         {
          "avg_lemma_rank": 499.3641975308642,
          "level": "A1"
         },
         {
          "avg_lemma_rank": 559.3403141361257,
          "level": "A1"
         },
         {
          "avg_lemma_rank": 762.728813559322,
          "level": "A1"
         },
         {
          "avg_lemma_rank": 1006.0173913043478,
          "level": "A1"
         },
         {
          "avg_lemma_rank": 450.8023952095808,
          "level": "A1"
         },
         {
          "avg_lemma_rank": 620.4293785310734,
          "level": "A1"
         },
         {
          "avg_lemma_rank": 721.2739726027397,
          "level": "A1"
         },
         {
          "avg_lemma_rank": 523.9063545150501,
          "level": "A1"
         },
         {
          "avg_lemma_rank": 831.1973684210526,
          "level": "A1"
         },
         {
          "avg_lemma_rank": 267.27980535279806,
          "level": "A1"
         },
         {
          "avg_lemma_rank": 869.7860465116279,
          "level": "A1"
         },
         {
          "avg_lemma_rank": 666.2237762237762,
          "level": "A1"
         },
         {
          "avg_lemma_rank": 815.8047337278107,
          "level": "A1"
         },
         {
          "avg_lemma_rank": 657.8036809815951,
          "level": "A1"
         },
         {
          "avg_lemma_rank": 615.5253623188406,
          "level": "A1"
         },
         {
          "avg_lemma_rank": 795.7352941176471,
          "level": "A1"
         },
         {
          "avg_lemma_rank": 560.565,
          "level": "A1"
         },
         {
          "avg_lemma_rank": 786.2637362637363,
          "level": "A1"
         },
         {
          "avg_lemma_rank": 725.4888888888889,
          "level": "A1"
         },
         {
          "avg_lemma_rank": 487.9186046511628,
          "level": "A1"
         },
         {
          "avg_lemma_rank": 660.8342696629213,
          "level": "A1"
         },
         {
          "avg_lemma_rank": 880.2753036437247,
          "level": "A1"
         },
         {
          "avg_lemma_rank": 328.04651162790697,
          "level": "A1"
         },
         {
          "avg_lemma_rank": 732.8481012658228,
          "level": "A1"
         },
         {
          "avg_lemma_rank": 431.58895705521473,
          "level": "A1"
         },
         {
          "avg_lemma_rank": 525,
          "level": "A1"
         },
         {
          "avg_lemma_rank": 478.8066037735849,
          "level": "A1"
         },
         {
          "avg_lemma_rank": 585.5194805194806,
          "level": "A1"
         },
         {
          "avg_lemma_rank": 520.9306930693069,
          "level": "A1"
         },
         {
          "avg_lemma_rank": 569.9290322580645,
          "level": "A1"
         },
         {
          "avg_lemma_rank": 507.07849512308405,
          "level": "A2"
         },
         {
          "avg_lemma_rank": 534.3908179012345,
          "level": "A2"
         },
         {
          "avg_lemma_rank": 510.772544724352,
          "level": "A2"
         },
         {
          "avg_lemma_rank": 486.5689482470785,
          "level": "A2"
         },
         {
          "avg_lemma_rank": 458.0992835209826,
          "level": "A2"
         },
         {
          "avg_lemma_rank": 467.4107938171339,
          "level": "A2"
         },
         {
          "avg_lemma_rank": 462.59316120027916,
          "level": "A2"
         },
         {
          "avg_lemma_rank": 438.2457386363636,
          "level": "A2"
         },
         {
          "avg_lemma_rank": 571.2435385585208,
          "level": "A2"
         },
         {
          "avg_lemma_rank": 605.7793696275072,
          "level": "A2"
         },
         {
          "avg_lemma_rank": 483.42821368948245,
          "level": "A2"
         },
         {
          "avg_lemma_rank": 458.05205205205203,
          "level": "A2"
         },
         {
          "avg_lemma_rank": 439.20084566596194,
          "level": "A2"
         },
         {
          "avg_lemma_rank": 517.8625827814569,
          "level": "A2"
         },
         {
          "avg_lemma_rank": 420.4235294117647,
          "level": "A2"
         },
         {
          "avg_lemma_rank": 427.3473154362416,
          "level": "A2"
         },
         {
          "avg_lemma_rank": 422.0638836179633,
          "level": "A2"
         },
         {
          "avg_lemma_rank": 450.873046875,
          "level": "A2"
         },
         {
          "avg_lemma_rank": 400.2369991474851,
          "level": "A2"
         },
         {
          "avg_lemma_rank": 527.8907996560619,
          "level": "A2"
         },
         {
          "avg_lemma_rank": 589.97,
          "level": "A2"
         },
         {
          "avg_lemma_rank": 709.2122762148338,
          "level": "A2"
         },
         {
          "avg_lemma_rank": 901.4760563380281,
          "level": "A2"
         },
         {
          "avg_lemma_rank": 398.875,
          "level": "A2"
         },
         {
          "avg_lemma_rank": 293.3141762452107,
          "level": "A2"
         },
         {
          "avg_lemma_rank": 563.4106280193237,
          "level": "A2"
         },
         {
          "avg_lemma_rank": 416.01714285714286,
          "level": "A2"
         },
         {
          "avg_lemma_rank": 280.5433526011561,
          "level": "A2"
         },
         {
          "avg_lemma_rank": 742.953125,
          "level": "A2"
         },
         {
          "avg_lemma_rank": 764.9317406143344,
          "level": "A2"
         },
         {
          "avg_lemma_rank": 645.1530054644809,
          "level": "A2"
         },
         {
          "avg_lemma_rank": 324.0416666666667,
          "level": "A2"
         },
         {
          "avg_lemma_rank": 526.4875,
          "level": "A2"
         },
         {
          "avg_lemma_rank": 283.49411764705883,
          "level": "A2"
         },
         {
          "avg_lemma_rank": 825.6,
          "level": "A2"
         },
         {
          "avg_lemma_rank": 501.65874524714826,
          "level": "A2"
         },
         {
          "avg_lemma_rank": 396.253164556962,
          "level": "A2"
         },
         {
          "avg_lemma_rank": 947.4215885947046,
          "level": "A2"
         },
         {
          "avg_lemma_rank": 553.5643666323379,
          "level": "A2"
         },
         {
          "avg_lemma_rank": 527.5376623376624,
          "level": "A2"
         },
         {
          "avg_lemma_rank": 839.5233050847457,
          "level": "A2"
         },
         {
          "avg_lemma_rank": 561.1111111111111,
          "level": "A2"
         },
         {
          "avg_lemma_rank": 535.8157248157248,
          "level": "A2"
         },
         {
          "avg_lemma_rank": 370.62762762762765,
          "level": "A2"
         },
         {
          "avg_lemma_rank": 389.0892857142857,
          "level": "A2"
         },
         {
          "avg_lemma_rank": 991.9304347826087,
          "level": "A2"
         },
         {
          "avg_lemma_rank": 469.32334997226843,
          "level": "A2"
         },
         {
          "avg_lemma_rank": 479.804435483871,
          "level": "A2"
         },
         {
          "avg_lemma_rank": 564.0984126984127,
          "level": "A2"
         },
         {
          "avg_lemma_rank": 590.8982035928144,
          "level": "A2"
         },
         {
          "avg_lemma_rank": 481.4692370795734,
          "level": "A2"
         },
         {
          "avg_lemma_rank": 661.5873684210526,
          "level": "A2"
         },
         {
          "avg_lemma_rank": 564.5019421665947,
          "level": "A2"
         },
         {
          "avg_lemma_rank": 355.27272727272725,
          "level": "A2"
         },
         {
          "avg_lemma_rank": 550.2433628318585,
          "level": "A2"
         },
         {
          "avg_lemma_rank": 591.3537735849056,
          "level": "A2"
         },
         {
          "avg_lemma_rank": 723.3462783171522,
          "level": "A2"
         },
         {
          "avg_lemma_rank": 377.9325153374233,
          "level": "A2"
         },
         {
          "avg_lemma_rank": 719.2907801418439,
          "level": "A2"
         },
         {
          "avg_lemma_rank": 611.3836477987421,
          "level": "A2"
         },
         {
          "avg_lemma_rank": 680.9246031746031,
          "level": "A2"
         },
         {
          "avg_lemma_rank": 559.0414201183432,
          "level": "A2"
         },
         {
          "avg_lemma_rank": 369.9048106448311,
          "level": "B"
         },
         {
          "avg_lemma_rank": 501.50432,
          "level": "B"
         },
         {
          "avg_lemma_rank": 393.29958479718937,
          "level": "B"
         },
         {
          "avg_lemma_rank": 452.5853658536585,
          "level": "B"
         },
         {
          "avg_lemma_rank": 444.38270647537803,
          "level": "B"
         },
         {
          "avg_lemma_rank": 478.0759198882161,
          "level": "B"
         },
         {
          "avg_lemma_rank": 543.3425925925926,
          "level": "B"
         },
         {
          "avg_lemma_rank": 684.3226305609285,
          "level": "B"
         },
         {
          "avg_lemma_rank": 708.6766169154229,
          "level": "B"
         },
         {
          "avg_lemma_rank": 987.6386554621848,
          "level": "B"
         },
         {
          "avg_lemma_rank": 603.43760539629,
          "level": "B"
         },
         {
          "avg_lemma_rank": 631.5256702795208,
          "level": "B"
         },
         {
          "avg_lemma_rank": 613.666037735849,
          "level": "B"
         },
         {
          "avg_lemma_rank": 474.5949251551661,
          "level": "B"
         },
         {
          "avg_lemma_rank": 582.9357315200701,
          "level": "B"
         },
         {
          "avg_lemma_rank": 702.1343612334801,
          "level": "B"
         },
         {
          "avg_lemma_rank": 646.7960893854748,
          "level": "B"
         },
         {
          "avg_lemma_rank": 587.7498802108289,
          "level": "B"
         },
         {
          "avg_lemma_rank": 629.8973359324236,
          "level": "B"
         },
         {
          "avg_lemma_rank": 444.4578313253012,
          "level": "B"
         },
         {
          "avg_lemma_rank": 460.7623659633345,
          "level": "B"
         },
         {
          "avg_lemma_rank": 340.54368932038835,
          "level": "B"
         },
         {
          "avg_lemma_rank": 551.78,
          "level": "B"
         },
         {
          "avg_lemma_rank": 543.320987654321,
          "level": "B"
         },
         {
          "avg_lemma_rank": 362.0246913580247,
          "level": "B"
         },
         {
          "avg_lemma_rank": 512.0281690140845,
          "level": "B"
         },
         {
          "avg_lemma_rank": 959.8588235294118,
          "level": "B"
         },
         {
          "avg_lemma_rank": 583.2954545454545,
          "level": "B"
         },
         {
          "avg_lemma_rank": 501.18371607515655,
          "level": "B"
         },
         {
          "avg_lemma_rank": 216.075,
          "level": "B"
         },
         {
          "avg_lemma_rank": 756.0819672131148,
          "level": "B"
         },
         {
          "avg_lemma_rank": 404.78632478632477,
          "level": "B"
         },
         {
          "avg_lemma_rank": 533.5878378378378,
          "level": "B"
         },
         {
          "avg_lemma_rank": 643.7443181818181,
          "level": "B"
         },
         {
          "avg_lemma_rank": 686.4166666666666,
          "level": "B"
         },
         {
          "avg_lemma_rank": 568.1470588235294,
          "level": "B"
         },
         {
          "avg_lemma_rank": 623.8458149779735,
          "level": "B"
         },
         {
          "avg_lemma_rank": 660.1385542168674,
          "level": "B"
         },
         {
          "avg_lemma_rank": 668.6984210526316,
          "level": "B"
         },
         {
          "avg_lemma_rank": 607.0053691275168,
          "level": "B"
         },
         {
          "avg_lemma_rank": 500.2088285229202,
          "level": "B"
         },
         {
          "avg_lemma_rank": 729.0710382513661,
          "level": "B"
         },
         {
          "avg_lemma_rank": 491.6754807692308,
          "level": "B"
         },
         {
          "avg_lemma_rank": 735.7164816396242,
          "level": "B"
         },
         {
          "avg_lemma_rank": 653.1221374045801,
          "level": "B"
         },
         {
          "avg_lemma_rank": 684.4875922199866,
          "level": "B"
         },
         {
          "avg_lemma_rank": 475.57528957528956,
          "level": "B"
         },
         {
          "avg_lemma_rank": 544.4297872340426,
          "level": "B"
         },
         {
          "avg_lemma_rank": 616.6132315521628,
          "level": "B"
         },
         {
          "avg_lemma_rank": 568.4088785046729,
          "level": "B"
         },
         {
          "avg_lemma_rank": 586.0055865921788,
          "level": "B"
         },
         {
          "avg_lemma_rank": 799.552380952381,
          "level": "B"
         },
         {
          "avg_lemma_rank": 583.7652745552978,
          "level": "B"
         },
         {
          "avg_lemma_rank": 525.0943542150038,
          "level": "B"
         },
         {
          "avg_lemma_rank": 849.9370629370629,
          "level": "B"
         },
         {
          "avg_lemma_rank": 165.05797101449275,
          "level": "B"
         },
         {
          "avg_lemma_rank": 685.2526041666666,
          "level": "B"
         },
         {
          "avg_lemma_rank": 605.3206239168111,
          "level": "B"
         },
         {
          "avg_lemma_rank": 486.6034482758621,
          "level": "B"
         },
         {
          "avg_lemma_rank": 724.3817663817664,
          "level": "B"
         },
         {
          "avg_lemma_rank": 495.63318777292574,
          "level": "B"
         },
         {
          "avg_lemma_rank": 577.504854368932,
          "level": "B"
         },
         {
          "avg_lemma_rank": 438.7852760736196,
          "level": "B"
         },
         {
          "avg_lemma_rank": 431.5482546201232,
          "level": "B"
         },
         {
          "avg_lemma_rank": 209.71428571428572,
          "level": "B"
         },
         {
          "avg_lemma_rank": 744.1184210526316,
          "level": "B"
         },
         {
          "avg_lemma_rank": 660.978021978022,
          "level": "B"
         },
         {
          "avg_lemma_rank": 650.9974747474747,
          "level": "B"
         },
         {
          "avg_lemma_rank": 873.8411214953271,
          "level": "B"
         },
         {
          "avg_lemma_rank": 607.1587301587301,
          "level": "B"
         },
         {
          "avg_lemma_rank": 547.9421487603306,
          "level": "B"
         },
         {
          "avg_lemma_rank": 817.1769230769231,
          "level": "B"
         },
         {
          "avg_lemma_rank": 753.3211314475874,
          "level": "B"
         },
         {
          "avg_lemma_rank": 520.4437086092715,
          "level": "B"
         },
         {
          "avg_lemma_rank": 547.487972508591,
          "level": "B"
         },
         {
          "avg_lemma_rank": 660.1436031331592,
          "level": "B"
         },
         {
          "avg_lemma_rank": 537.0445859872611,
          "level": "B"
         },
         {
          "avg_lemma_rank": 548.7619047619048,
          "level": "B"
         },
         {
          "avg_lemma_rank": 528.1770573566084,
          "level": "B"
         },
         {
          "avg_lemma_rank": 635.8061224489796,
          "level": "B"
         },
         {
          "avg_lemma_rank": 647.6480263157895,
          "level": "B"
         },
         {
          "avg_lemma_rank": 427.3081081081081,
          "level": "B"
         },
         {
          "avg_lemma_rank": 725.0336538461538,
          "level": "B"
         },
         {
          "avg_lemma_rank": 607.8909465020577,
          "level": "B"
         },
         {
          "avg_lemma_rank": 636.9662162162163,
          "level": "B"
         },
         {
          "avg_lemma_rank": 435.6923076923077,
          "level": "B"
         },
         {
          "avg_lemma_rank": 1011.8644067796611,
          "level": "B"
         },
         {
          "avg_lemma_rank": 744.080142475512,
          "level": "B"
         },
         {
          "avg_lemma_rank": 599.9111111111112,
          "level": "B"
         },
         {
          "avg_lemma_rank": 617.1309904153354,
          "level": "B"
         },
         {
          "avg_lemma_rank": 452.86788990825687,
          "level": "B"
         },
         {
          "avg_lemma_rank": 501.93333333333334,
          "level": "B"
         },
         {
          "avg_lemma_rank": 563.6601307189543,
          "level": "B"
         },
         {
          "avg_lemma_rank": 716.2577777777777,
          "level": "B"
         },
         {
          "avg_lemma_rank": 884.8252427184466,
          "level": "B"
         },
         {
          "avg_lemma_rank": 628.1304761904762,
          "level": "B"
         },
         {
          "avg_lemma_rank": 584.3571428571429,
          "level": "B"
         },
         {
          "avg_lemma_rank": 775.5675675675676,
          "level": "B"
         },
         {
          "avg_lemma_rank": 420.47058823529414,
          "level": "B"
         },
         {
          "avg_lemma_rank": 165.52542372881356,
          "level": "B"
         },
         {
          "avg_lemma_rank": 234.375,
          "level": "B"
         },
         {
          "avg_lemma_rank": 420.95238095238096,
          "level": "B"
         },
         {
          "avg_lemma_rank": 452.56410256410254,
          "level": "B"
         },
         {
          "avg_lemma_rank": 178,
          "level": "B"
         },
         {
          "avg_lemma_rank": 529.5185185185185,
          "level": "B"
         },
         {
          "avg_lemma_rank": 564.2394366197183,
          "level": "B"
         },
         {
          "avg_lemma_rank": 497.12264150943395,
          "level": "B"
         },
         {
          "avg_lemma_rank": 959.360248447205,
          "level": "B"
         },
         {
          "avg_lemma_rank": 726.7966101694915,
          "level": "B"
         },
         {
          "avg_lemma_rank": 819.6666666666666,
          "level": "B"
         },
         {
          "avg_lemma_rank": 571.3446267866597,
          "level": "B"
         },
         {
          "avg_lemma_rank": 609.5186421814135,
          "level": "B"
         },
         {
          "avg_lemma_rank": 563.4411302982732,
          "level": "B"
         },
         {
          "avg_lemma_rank": 731.4445964432284,
          "level": "B"
         },
         {
          "avg_lemma_rank": 579.8846918489065,
          "level": "B"
         },
         {
          "avg_lemma_rank": 632.5481400437636,
          "level": "B"
         },
         {
          "avg_lemma_rank": 577.0547297297297,
          "level": "B"
         },
         {
          "avg_lemma_rank": 485.4381679389313,
          "level": "B"
         },
         {
          "avg_lemma_rank": 449.91225806451615,
          "level": "B"
         },
         {
          "avg_lemma_rank": 520.7541778975741,
          "level": "B"
         },
         {
          "avg_lemma_rank": 687.4329482672024,
          "level": "B"
         },
         {
          "avg_lemma_rank": 431.149863760218,
          "level": "B"
         },
         {
          "avg_lemma_rank": 536.0538922155689,
          "level": "B"
         },
         {
          "avg_lemma_rank": 590.5947546531303,
          "level": "B"
         },
         {
          "avg_lemma_rank": 567.6840891621829,
          "level": "B"
         },
         {
          "avg_lemma_rank": 527.0469494216376,
          "level": "B"
         },
         {
          "avg_lemma_rank": 545.7176385192354,
          "level": "B"
         },
         {
          "avg_lemma_rank": 690.1282573289902,
          "level": "B"
         },
         {
          "avg_lemma_rank": 153.50299401197606,
          "level": "B"
         },
         {
          "avg_lemma_rank": 362.801652892562,
          "level": "B"
         },
         {
          "avg_lemma_rank": 751.6373626373627,
          "level": "B"
         },
         {
          "avg_lemma_rank": 692.5108695652174,
          "level": "B"
         },
         {
          "avg_lemma_rank": 650.0645161290323,
          "level": "B"
         },
         {
          "avg_lemma_rank": 496.16748768472905,
          "level": "B"
         },
         {
          "avg_lemma_rank": 586.5286343612335,
          "level": "B"
         },
         {
          "avg_lemma_rank": 892.5071428571429,
          "level": "B"
         },
         {
          "avg_lemma_rank": 256.8181818181818,
          "level": "B"
         },
         {
          "avg_lemma_rank": 570.4310344827586,
          "level": "B"
         },
         {
          "avg_lemma_rank": 765.7702702702703,
          "level": "B"
         },
         {
          "avg_lemma_rank": 726.8928571428571,
          "level": "B"
         },
         {
          "avg_lemma_rank": 714.920245398773,
          "level": "B"
         },
         {
          "avg_lemma_rank": 593.6891891891892,
          "level": "B"
         },
         {
          "avg_lemma_rank": 490.02916666666664,
          "level": "B"
         },
         {
          "avg_lemma_rank": 735.5530303030303,
          "level": "B"
         },
         {
          "avg_lemma_rank": 455.8066037735849,
          "level": "B"
         },
         {
          "avg_lemma_rank": 400.8205128205128,
          "level": "B"
         },
         {
          "avg_lemma_rank": 611.2723404255319,
          "level": "B"
         },
         {
          "avg_lemma_rank": 842.9187817258884,
          "level": "B"
         },
         {
          "avg_lemma_rank": 713.6271929824561,
          "level": "B"
         },
         {
          "avg_lemma_rank": 785.6028037383178,
          "level": "B"
         },
         {
          "avg_lemma_rank": 485.0921658986175,
          "level": "B"
         },
         {
          "avg_lemma_rank": 680.6778523489933,
          "level": "B"
         }
        ]
       },
       "encoding": {
        "color": {
         "field": "level",
         "type": "nominal"
        },
        "x": {
         "field": "avg_lemma_rank",
         "title": "Average Lemma Rank",
         "type": "quantitative"
        },
        "y": {
         "field": "density",
         "title": "Density",
         "type": "quantitative"
        }
       },
       "mark": {
        "interpolate": "monotone",
        "opacity": 0.7,
        "type": "area"
       },
       "title": "Distribution of Average Lemma Rank by Text Level",
       "transform": [
        {
         "as": [
          "avg_lemma_rank",
          "density"
         ],
         "density": "avg_lemma_rank",
         "groupby": [
          "level"
         ]
        }
       ]
      },
      "image/png": "[encoded data removed]",
      "text/plain": [
       "<VegaLite 4 object>\n",
       "\n",
       "If you see this message, it means the renderer has not been properly enabled\n",
       "for the frontend that you are using. For more information, see\n",
       "https://altair-viz.github.io/user_guide/troubleshooting.html\n"
      ]
     },
     "execution_count": 5,
     "metadata": {},
     "output_type": "execute_result"
    }
   ],
   "source": [
    "# Convert dict to dataframe\n",
    "feature_df = pd.DataFrame(feature_dict)\n",
    "\n",
    "# Plot distribution of average lemma rank\n",
    "alt.Chart(\n",
    "    feature_df, title=\"Distribution of Average Lemma Rank by Text Level\"\n",
    ").transform_density(\n",
    "    \"avg_lemma_rank\", groupby=[\"level\"], as_=[\"avg_lemma_rank\", \"density\"]\n",
    ").mark_area(\n",
    "    interpolate=\"monotone\", opacity=0.7\n",
    ").encode(\n",
    "    x=alt.X(\"avg_lemma_rank\", title=\"Average Lemma Rank\"),\n",
    "    y=alt.Y(\"density:Q\", title=\"Density\"),\n",
    "    color=\"level\",\n",
    ")"
   ]
  }
 ],
 "metadata": {
  "kernelspec": {
   "display_name": "Python 3",
   "language": "python",
   "name": "python3"
  },
  "language_info": {
   "codemirror_mode": {
    "name": "ipython",
    "version": 3
   },
   "file_extension": ".py",
   "mimetype": "text/x-python",
   "name": "python",
   "nbconvert_exporter": "python",
   "pygments_lexer": "ipython3",
   "version": "3.8.3"
  }
 },
 "nbformat": 4,
 "nbformat_minor": 5
}
