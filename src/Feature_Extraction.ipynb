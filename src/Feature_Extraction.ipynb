{
  "nbformat": 4,
  "nbformat_minor": 0,
  "metadata": {
    "colab": {
      "name": "Feature Extraction.ipynb",
      "provenance": [],
      "collapsed_sections": [],
      "authorship_tag": "ABX9TyNhQV6V8zZAHT7WzPf19C64",
      "include_colab_link": true
    },
    "kernelspec": {
      "name": "python3",
      "display_name": "Python 3"
    },
    "language_info": {
      "name": "python"
    }
  },
  "cells": [
    {
      "cell_type": "markdown",
      "metadata": {
        "id": "view-in-github",
        "colab_type": "text"
      },
      "source": [
        "<a href=\"https://colab.research.google.com/github/miataigeli/capstone_FHIS/blob/darya/Feature_Extraction.ipynb\" target=\"_parent\"><img src=\"https://colab.research.google.com/assets/colab-badge.svg\" alt=\"Open In Colab\"/></a>"
      ]
    },
    {
      "cell_type": "markdown",
      "metadata": {
        "id": "BMsq4M9XHPAC"
      },
      "source": [
        "Feature Extraction"
      ]
    },
    {
      "cell_type": "code",
      "metadata": {
        "id": "CAbUwfIYHKYp"
      },
      "source": [
        "# Features:\n",
        "# Vocabulary lists by level (A1, A2, B1, B2, C1, C2) (C-level not really used for learners)\n",
        "# Frequency list\n",
        "# POS\n",
        "# Flesch reading ease - Christina\n",
        "# Syllabification\n",
        "# average sentence length\n",
        "# type-to-token ratio\n",
        "# POS proportions\n",
        "# Number of tokens and types\n",
        "# number of sentences in the text\n",
        "# other syntactic information"
      ],
      "execution_count": null,
      "outputs": []
    },
    {
      "cell_type": "code",
      "metadata": {
        "id": "6YNCCZ9DHQv-"
      },
      "source": [
        "# Vocab lists by level\n",
        "# Read in the vocab list\n",
        "vocab_lists = {'A1': [],\n",
        "               'A2': [],\n",
        "               'B1': [],\n",
        "               'B2': []}\n",
        "word_counts = {'A1': 0, \n",
        "               'A2': 0,\n",
        "               'B1': 0,\n",
        "               'B2': 0, \n",
        "               'OOV': 0}\n",
        "for word in text:\n",
        "  in_vocab_flag = False\n",
        "  for level in vocab_lists.keys():\n",
        "    if word in vocab_lists[level]:\n",
        "      word_counts[level] += 1\n",
        "      in_vocab_flag = True\n",
        "  if not in_vocab_flag:\n",
        "    word_counts['OOV'] += 1\n",
        "\n",
        "# Find percentage of words in text by level\n",
        "CUTOFF = 0.85\n",
        "text_len = len(text.split(\" \"))\n",
        "if word_count['A1']/text_len >= CUTOFF:\n",
        "  text_level = 'A1'\n",
        "elif word_count['A1'] + word_count['A2'] >= CUTOFF:\n",
        "  text_level = 'A2'\n",
        "elif word_count['A1'] + word_count['A2'] + word_count['B1'] >= CUTOFF:\n",
        "  text_level = 'B1'\n",
        "elif word_count['A1'] + word_count['A2'] + word_count['B1'] + word_count['B2'] >= CUTOFF:\n",
        "  text_level = 'B2'\n",
        "else:\n",
        "  text_level = 'C'"
      ],
      "execution_count": null,
      "outputs": []
    }
  ]
}