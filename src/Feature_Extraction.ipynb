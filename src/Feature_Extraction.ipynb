{
  "nbformat": 4,
  "nbformat_minor": 0,
  "metadata": {
    "colab": {
      "name": "Feature Extraction.ipynb",
      "provenance": [],
      "collapsed_sections": []
    },
    "kernelspec": {
      "name": "python3",
      "display_name": "Python 3"
    },
    "language_info": {
      "name": "python"
    }
  },
  "cells": [
    {
      "cell_type": "markdown",
      "metadata": {
        "id": "BMsq4M9XHPAC"
      },
      "source": [
        "Feature Extraction"
      ]
    },
    {
      "cell_type": "code",
      "metadata": {
        "id": "CAbUwfIYHKYp"
      },
      "source": [
        "# Features:\n",
        "# Vocabulary lists by level (A1, A2, B1, B2, C1, C2) (C-level not really used for learners)\n",
        "# Frequency list\n",
        "# POS\n",
        "# Flesch reading ease - Christina\n",
        "# Syllabification\n",
        "# average sentence length\n",
        "# type-to-token ratio\n",
        "# POS proportions\n",
        "# Number of tokens and types\n",
        "# number of sentences in the text\n",
        "# other syntactic information"
      ],
      "execution_count": null,
      "outputs": []
    },
    {
      "cell_type": "code",
      "metadata": {
        "id": "6YNCCZ9DHQv-"
      },
      "source": [
        "# Vocab lists by level\n",
        "# Read in the vocab list\n",
        "vocab_lists = {'A1': [],\n",
        "               'A2': [],\n",
        "               'B1': [],\n",
        "               'B2': []}\n",
        "word_counts = {'A1': 0, \n",
        "               'A2': 0,\n",
        "               'B1': 0,\n",
        "               'B2': 0, \n",
        "               'OOV': 0}\n",
        "for word in text:\n",
        "  in_vocab_flag = False\n",
        "  for level in vocab_lists.keys():\n",
        "    if word in vocab_lists[level]:\n",
        "      word_counts[level] += 1\n",
        "      in_vocab_flag = True\n",
        "  if not in_vocab_flag:\n",
        "    word_counts['OOV'] += 1"
      ],
      "execution_count": null,
      "outputs": []
    }
  ]
}