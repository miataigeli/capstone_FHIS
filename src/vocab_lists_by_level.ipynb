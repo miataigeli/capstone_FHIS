{
 "cells": [
  {
   "cell_type": "markdown",
   "metadata": {
    "id": "BMsq4M9XHPAC"
   },
   "source": [
    "Feature Extraction"
   ]
  },
  {
   "cell_type": "code",
   "execution_count": null,
   "metadata": {
    "id": "CAbUwfIYHKYp"
   },
   "outputs": [],
   "source": [
    "# Features:\n",
    "# Vocabulary lists by level (A1, A2, B1, B2, C1, C2) (C-level not really used for learners)\n",
    "# Frequency list\n",
    "# POS\n",
    "# Flesch reading ease - Christina\n",
    "# Syllabification\n",
    "# average sentence length\n",
    "# type-to-token ratio\n",
    "# POS proportions\n",
    "# Number of tokens and types\n",
    "# number of sentences in the text\n",
    "# other syntactic information"
   ]
  },
  {
   "cell_type": "code",
   "execution_count": null,
   "metadata": {
    "id": "6YNCCZ9DHQv-"
   },
   "outputs": [],
   "source": [
    "# Vocab lists by level\n",
    "# Read in the vocab list\n",
    "vocab_lists = {\"A1\": [], \"A2\": [], \"B1\": [], \"B2\": []}\n",
    "word_counts = {\"A1\": 0, \"A2\": 0, \"B1\": 0, \"B2\": 0, \"OOV\": 0}\n",
    "for word in text:\n",
    "    in_vocab_flag = False\n",
    "    for level in vocab_lists.keys():\n",
    "        if word in vocab_lists[level]:\n",
    "            word_counts[level] += 1\n",
    "            in_vocab_flag = True\n",
    "    if not in_vocab_flag:\n",
    "        word_counts[\"OOV\"] += 1\n",
    "\n",
    "# Find percentage of words in text by level\n",
    "CUTOFF = 0.85\n",
    "text_len = len(text.split(\" \"))\n",
    "if word_count[\"A1\"] / text_len >= CUTOFF:\n",
    "    text_level = \"A1\"\n",
    "elif word_count[\"A1\"] + word_count[\"A2\"] >= CUTOFF:\n",
    "    text_level = \"A2\"\n",
    "elif word_count[\"A1\"] + word_count[\"A2\"] + word_count[\"B1\"] >= CUTOFF:\n",
    "    text_level = \"B1\"\n",
    "elif (\n",
    "    word_count[\"A1\"] + word_count[\"A2\"] + word_count[\"B1\"] + word_count[\"B2\"] >= CUTOFF\n",
    "):\n",
    "    text_level = \"B2\"\n",
    "else:\n",
    "    text_level = \"C\""
   ]
  }
 ],
 "metadata": {
  "colab": {
   "authorship_tag": "ABX9TyNhQV6V8zZAHT7WzPf19C64",
   "collapsed_sections": [],
   "include_colab_link": true,
   "name": "Feature Extraction.ipynb",
   "provenance": []
  },
  "kernelspec": {
   "display_name": "Python 3",
   "language": "python",
   "name": "python3"
  },
  "language_info": {
   "codemirror_mode": {
    "name": "ipython",
    "version": 3
   },
   "file_extension": ".py",
   "mimetype": "text/x-python",
   "name": "python",
   "nbconvert_exporter": "python",
   "pygments_lexer": "ipython3",
   "version": "3.8.3"
  }
 },
 "nbformat": 4,
 "nbformat_minor": 4
}
