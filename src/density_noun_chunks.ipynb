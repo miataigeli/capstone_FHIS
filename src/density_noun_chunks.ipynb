{
 "cells": [
  {
   "cell_type": "code",
   "execution_count": 1,
   "id": "reduced-fruit",
   "metadata": {},
   "outputs": [],
   "source": [
    "import spacy\n",
    "import os\n",
    "import numpy as np\n",
    "import re\n",
    "import altair as alt\n",
    "\n",
    "from collections import defaultdict\n",
    "from features import feature_pipeline\n",
    "from utils_christina import read_corpus, text_processor\n",
    "\n",
    "import pandas as pd\n",
    "alt.renderers.enable('mimetype')\n",
    "from IPython.display import Image\n",
    "import plotly.io as pio\n",
    "pio.renderers.default = \"plotly_mimetype\"\n",
    "\n",
    "nlp = spacy.load('es_core_news_md')"
   ]
  },
  {
   "cell_type": "code",
   "execution_count": 2,
   "id": "lesser-british",
   "metadata": {},
   "outputs": [],
   "source": [
    "text_dir = '/Users/eun-youngchristinapark/MDS-CAPSTONE/capstone_FHIS/corpus/'\n",
    "file_list = os.listdir(text_dir)\n",
    "corpus = read_corpus(text_dir)"
   ]
  },
  {
   "cell_type": "markdown",
   "id": "noted-death",
   "metadata": {},
   "source": [
    "## Density of Noun Phrase Chunks\n",
    "\n",
    "One measure of complexity of a text is NP density, which is the mean number of modifiers per NP suggested in the paper \"Coh-Metrix: Analysis of text on cohesion and language\". For example, \"the lovely little girl\" has three modifiers and a head.\n",
    "Spacy returns the minimal noun chunks, therefore, the mean number of modifiers is calculated as mean(len($NP_i$)) - 1 where $NP_i$ indicates the $i$th noun phrase. "
   ]
  },
  {
   "cell_type": "code",
   "execution_count": 7,
   "id": "worldwide-plymouth",
   "metadata": {},
   "outputs": [],
   "source": [
    "def density_noun_chunks(text, pipeline):\n",
    "    ''' This function calculates the mean number of modifiers of noun phrases in the given text.\n",
    "    ---------------------------------------\n",
    "    Argument: text (str) - a text whose mean number of modifiers of noun phrases will be calculated.\n",
    "    returns:  len_noun_chunks (float) - mean number of modifiers of noun phrases in the text\n",
    "    '''\n",
    "    try: \n",
    "        len_noun_chunks = 0\n",
    "        pipeline.preprocess(text)\n",
    "        text = pipeline.text\n",
    "        pipeline.get_noun_chunks()\n",
    "        noun_chunks = pipeline.noun_chunks\n",
    "        if len(noun_chunks) > 0:\n",
    "            len_noun_chunks = np.mean([len(noun_chunk.strip().split()) for noun_chunk in noun_chunks]) -1\n",
    "        else:\n",
    "            len_noun_chunks = 0\n",
    "    \n",
    "        return len_noun_chunks #, noun_chunks\n",
    "    \n",
    "    except:\n",
    "        print(pipeline.text)\n",
    "        print(noun_chunks)\n",
    "        return 0"
   ]
  },
  {
   "cell_type": "markdown",
   "id": "protecting-arthur",
   "metadata": {},
   "source": [
    "## Tests\n",
    "\n",
    "We run a few tests to ensure that the density_noun_chunks return a correct value. "
   ]
  },
  {
   "cell_type": "markdown",
   "id": "finnish-overview",
   "metadata": {},
   "source": [
    "### Boundary Cases"
   ]
  },
  {
   "cell_type": "code",
   "execution_count": 8,
   "id": "conservative-associate",
   "metadata": {},
   "outputs": [],
   "source": [
    "pipeline = feature_pipeline()\n",
    "text = ''\n",
    "assert density_noun_chunks(text, pipeline) == 0"
   ]
  },
  {
   "cell_type": "code",
   "execution_count": 9,
   "id": "precise-tunisia",
   "metadata": {},
   "outputs": [],
   "source": [
    "text = '1.'\n",
    "assert density_noun_chunks(text, pipeline) == 0"
   ]
  },
  {
   "cell_type": "code",
   "execution_count": 10,
   "id": "bridal-invite",
   "metadata": {},
   "outputs": [],
   "source": [
    "text = 'Maria'\n",
    "assert density_noun_chunks(text, pipeline) == 0"
   ]
  },
  {
   "cell_type": "code",
   "execution_count": 12,
   "id": "ready-master",
   "metadata": {},
   "outputs": [],
   "source": [
    "text = 'Voy a la escuela.'\n",
    "assert density_noun_chunks(text, pipeline) == 1"
   ]
  },
  {
   "cell_type": "markdown",
   "id": "illegal-portsmouth",
   "metadata": {},
   "source": [
    "### Simple Cases: Brute force vs. Implementation"
   ]
  },
  {
   "cell_type": "code",
   "execution_count": 13,
   "id": "blind-excellence",
   "metadata": {},
   "outputs": [],
   "source": [
    "text = 'Mark está de viaje de negocios en Barcelona. Hoy tuvo un día libre y salió a visitar la ciudad.'\n",
    "\n",
    "# compare the implementation against an alternative (brute-force) method\n",
    "\n",
    "# brute-force method \n",
    "text = text.lower()\n",
    "doc = nlp(text)\n",
    "list_noun_chunks = list(doc.noun_chunks)\n",
    "noun_phrase_mod = 0\n",
    "for noun_chunk in list_noun_chunks:\n",
    "    noun_phrase_mod += len(noun_chunk.text.strip().split()) -1 \n",
    "avg_noun_phrase_mod = noun_phrase_mod / len(list_noun_chunks) \n",
    "\n",
    "assert np.isclose(avg_noun_phrase_mod, density_noun_chunks(text, pipeline), rtol=1e-05, atol=1e-08, equal_nan=False)"
   ]
  },
  {
   "cell_type": "code",
   "execution_count": 14,
   "id": "adjacent-brass",
   "metadata": {},
   "outputs": [],
   "source": [
    "text = 'Me llamo María Pérez y tengo diecinueve años. Nací en Málaga, pero vivo en Granada. Soy estudiante de primer curso de Periodismo. De lunes a viernes me levanto a las siete y media, desayuno y camino hasta la universidad. Entro en clase a las nueve y salgo a la una. Al medio día, como en mi casa y veo la televisión. Por la tarde, estudio hasta las siete y después quedo con mis amigas. A nosotras nos gusta mucho el cine, el teatro y la música. Los viernes por la noche cenamos pizza y bailamos en la discoteca. Todos los sábados visito a mi familia en Málaga. El domingo por la tarde regreso a Granada y, si hace sol, salgo con mi perro a dar un paseo. ¡Me encantan los animales!'\n",
    "\n",
    "# compare the implementation against an alternative (brute-force) method\n",
    "\n",
    "# brute-force method \n",
    "text = text.lower()\n",
    "doc = nlp(text)\n",
    "list_noun_chunks = list(doc.noun_chunks)\n",
    "noun_phrase_mod = 0\n",
    "for noun_chunk in list_noun_chunks:\n",
    "    noun_phrase_mod += len(noun_chunk.text.strip().split()) -1\n",
    "avg_noun_phrase_mod = noun_phrase_mod / len(list_noun_chunks)\n",
    "\n",
    "assert np.isclose(avg_noun_phrase_mod, density_noun_chunks(text, pipeline), rtol=1e-05, atol=1e-08, equal_nan=False)"
   ]
  },
  {
   "cell_type": "code",
   "execution_count": 15,
   "id": "aerial-citizen",
   "metadata": {},
   "outputs": [],
   "source": [
    "text = corpus['A1'][10]['content']\n",
    "text = re.sub(r\"\\b\\d{,3}\\b\", \"\", text.strip())\n",
    "text = re.sub(r\"\\r\\n\", \" \", text.strip())\n",
    "# compare the implementation against an alternative (brute-force) method\n",
    "\n",
    "# brute-force method \n",
    "text = text.lower()\n",
    "doc = nlp(text)\n",
    "list_noun_chunks = list(doc.noun_chunks)\n",
    "noun_phrase_mod = 0\n",
    "for noun_chunk in list_noun_chunks:\n",
    "    noun_phrase_mod += len(noun_chunk.text.strip().split()) -1\n",
    "avg_noun_phrase_mod = noun_phrase_mod / len(list_noun_chunks)\n",
    "\n",
    "assert np.isclose(avg_noun_phrase_mod, density_noun_chunks(text, pipeline), rtol=1e-05, atol=1e-08, equal_nan=False)"
   ]
  },
  {
   "cell_type": "code",
   "execution_count": 16,
   "id": "tropical-liberia",
   "metadata": {},
   "outputs": [],
   "source": [
    "text = corpus['A2'][10]['content']\n",
    "text = re.sub(r\"\\b\\d{,3}\\b\", \"\", text.strip())\n",
    "text = re.sub(r\"\\r\\n\", \" \", text.strip())\n",
    "# compare the implementation against an alternative (brute-force) method\n",
    "\n",
    "# brute-force method \n",
    "text = text.lower()\n",
    "doc = nlp(text)\n",
    "list_noun_chunks = list(doc.noun_chunks)\n",
    "noun_phrase_mod = 0\n",
    "for noun_chunk in list_noun_chunks:\n",
    "    noun_phrase_mod += len(noun_chunk.text.strip().split()) -1\n",
    "avg_noun_phrase_mod = noun_phrase_mod / len(list_noun_chunks)\n",
    "\n",
    "assert np.isclose(avg_noun_phrase_mod, density_noun_chunks(text, pipeline), rtol=1e-05, atol=1e-08, equal_nan=False)"
   ]
  },
  {
   "cell_type": "code",
   "execution_count": 17,
   "id": "hollow-french",
   "metadata": {},
   "outputs": [],
   "source": [
    "text = corpus['B1'][10]['content']\n",
    "text = re.sub(r\"\\b\\d{,3}\\b\", \"\", text.strip())\n",
    "text = re.sub(r\"\\r\\n\", \" \", text.strip())\n",
    "# compare the implementation against an alternative (brute-force) method\n",
    "\n",
    "# brute-force method \n",
    "text = text.lower()\n",
    "doc = nlp(text)\n",
    "list_noun_chunks = list(doc.noun_chunks)\n",
    "noun_phrase_mod = 0\n",
    "for noun_chunk in list_noun_chunks:\n",
    "    noun_phrase_mod += len(noun_chunk.text.strip().split()) -1\n",
    "avg_noun_phrase_mod = noun_phrase_mod / len(list_noun_chunks)\n",
    "\n",
    "assert np.isclose(avg_noun_phrase_mod, density_noun_chunks(text, pipeline), rtol=1e-05, atol=1e-08, equal_nan=False)"
   ]
  },
  {
   "cell_type": "markdown",
   "id": "descending-andrew",
   "metadata": {},
   "source": [
    "## Run through Corpora\n"
   ]
  },
  {
   "cell_type": "code",
   "execution_count": 18,
   "id": "sticky-guide",
   "metadata": {},
   "outputs": [],
   "source": [
    "level_list = ['A1', 'A2', 'B1', 'B2']\n",
    "level_density_noun_phrase_fp = defaultdict(list)\n",
    "for level in level_list:\n",
    "    corpus_item = corpus[level]\n",
    "    for i, text_item in enumerate(corpus_item):\n",
    "        try: \n",
    "            level_density_noun_phrase_fp['density'].append(density_noun_chunks(text_item['content'], pipeline))    # noun phrase density\n",
    "            level_density_noun_phrase_fp['level'].append(level)\n",
    "            \n",
    "        except:\n",
    "            print(f'Error', level, i)\n",
    "            pass"
   ]
  },
  {
   "cell_type": "markdown",
   "id": "moderate-toyota",
   "metadata": {},
   "source": [
    "### Plot the distribution"
   ]
  },
  {
   "cell_type": "code",
   "execution_count": 19,
   "id": "requested-nomination",
   "metadata": {},
   "outputs": [
    {
     "data": {
      "application/vnd.vegalite.v4+json": {
       "$schema": "https://vega.github.io/schema/vega-lite/v4.8.1.json",
       "config": {
        "view": {
         "continuousHeight": 300,
         "continuousWidth": 400
        }
       },
       "data": {
        "name": "data-7d64a1edff8a15b1f6e7a17f7f7742b5"
       },
       "datasets": {
        "data-7d64a1edff8a15b1f6e7a17f7f7742b5": [
         {
          "density": 0.4883720930232558,
          "level": "A1"
         },
         {
          "density": 0.532258064516129,
          "level": "A1"
         },
         {
          "density": 0.7250000000000001,
          "level": "A1"
         },
         {
          "density": 0.4067796610169492,
          "level": "A1"
         },
         {
          "density": 0.5135135135135136,
          "level": "A1"
         },
         {
          "density": 0.6283185840707965,
          "level": "A1"
         },
         {
          "density": 0.6126126126126126,
          "level": "A1"
         },
         {
          "density": 0.7202072538860103,
          "level": "A1"
         },
         {
          "density": 0.6653543307086613,
          "level": "A1"
         },
         {
          "density": 0.7903225806451613,
          "level": "A1"
         },
         {
          "density": 0.605263157894737,
          "level": "A1"
         },
         {
          "density": 0.4571428571428571,
          "level": "A1"
         },
         {
          "density": 0.5068493150684932,
          "level": "A1"
         },
         {
          "density": 0.5112781954887218,
          "level": "A1"
         },
         {
          "density": 0.6000000000000001,
          "level": "A1"
         },
         {
          "density": 0.6390977443609023,
          "level": "A1"
         },
         {
          "density": 0.5851063829787233,
          "level": "A1"
         },
         {
          "density": 0.46700507614213205,
          "level": "A1"
         },
         {
          "density": 0.56,
          "level": "A1"
         },
         {
          "density": 0.49640287769784175,
          "level": "A1"
         },
         {
          "density": 0.5681818181818181,
          "level": "A1"
         },
         {
          "density": 0.3999999999999999,
          "level": "A1"
         },
         {
          "density": 0.3999999999999999,
          "level": "A1"
         },
         {
          "density": 0.40909090909090917,
          "level": "A1"
         },
         {
          "density": 0.4782608695652173,
          "level": "A1"
         },
         {
          "density": 0.8600000000000001,
          "level": "A1"
         },
         {
          "density": 0.3125,
          "level": "A1"
         },
         {
          "density": 0.5434782608695652,
          "level": "A1"
         },
         {
          "density": 0.5769230769230769,
          "level": "A1"
         },
         {
          "density": 0.5806451612903225,
          "level": "A1"
         },
         {
          "density": 0.5,
          "level": "A1"
         },
         {
          "density": 0.8863636363636365,
          "level": "A1"
         },
         {
          "density": 0.6090225563909775,
          "level": "A1"
         },
         {
          "density": 0.5964912280701755,
          "level": "A1"
         },
         {
          "density": 0.53125,
          "level": "A1"
         },
         {
          "density": 0.45999999999999996,
          "level": "A1"
         },
         {
          "density": 0.7169811320754718,
          "level": "A1"
         },
         {
          "density": 0.7727272727272727,
          "level": "A1"
         },
         {
          "density": 0.38888888888888884,
          "level": "A1"
         },
         {
          "density": 0.54,
          "level": "A1"
         },
         {
          "density": 0.5416666666666667,
          "level": "A1"
         },
         {
          "density": 0.6538461538461537,
          "level": "A1"
         },
         {
          "density": 0.7586206896551724,
          "level": "A1"
         },
         {
          "density": 0.736842105263158,
          "level": "A1"
         },
         {
          "density": 0.519650655021834,
          "level": "A1"
         },
         {
          "density": 0.45833333333333326,
          "level": "A1"
         },
         {
          "density": 0.46153846153846145,
          "level": "A1"
         },
         {
          "density": 0.5217391304347827,
          "level": "A1"
         },
         {
          "density": 0.5104166666666667,
          "level": "A1"
         },
         {
          "density": 0.6035242290748899,
          "level": "A1"
         },
         {
          "density": 0.4433656957928802,
          "level": "A1"
         },
         {
          "density": 0.5441988950276244,
          "level": "A1"
         },
         {
          "density": 0.496842105263158,
          "level": "A1"
         },
         {
          "density": 0.5603448275862069,
          "level": "A1"
         },
         {
          "density": 0.40625,
          "level": "A1"
         },
         {
          "density": 0.39627659574468077,
          "level": "A1"
         },
         {
          "density": 0.4179104477611941,
          "level": "A1"
         },
         {
          "density": 0.37075718015665804,
          "level": "A1"
         },
         {
          "density": 0.504566210045662,
          "level": "A1"
         },
         {
          "density": 0.5048309178743962,
          "level": "A1"
         },
         {
          "density": 0.4736842105263157,
          "level": "A1"
         },
         {
          "density": 0.39411764705882346,
          "level": "A1"
         },
         {
          "density": 0.451111111111111,
          "level": "A1"
         },
         {
          "density": 0.3148936170212766,
          "level": "A1"
         },
         {
          "density": 0.4246823956442831,
          "level": "A1"
         },
         {
          "density": 0.35643564356435653,
          "level": "A1"
         },
         {
          "density": 0.42307692307692313,
          "level": "A1"
         },
         {
          "density": 0.5203252032520325,
          "level": "A1"
         },
         {
          "density": 0.4444444444444444,
          "level": "A1"
         },
         {
          "density": 0.4718446601941748,
          "level": "A1"
         },
         {
          "density": 0.4416475972540046,
          "level": "A1"
         },
         {
          "density": 0.4357976653696498,
          "level": "A1"
         },
         {
          "density": 0.39655172413793105,
          "level": "A1"
         },
         {
          "density": 0.5303030303030303,
          "level": "A1"
         },
         {
          "density": 0.37554585152838427,
          "level": "A1"
         },
         {
          "density": 0.3301435406698565,
          "level": "A1"
         },
         {
          "density": 0.3161764705882353,
          "level": "A1"
         },
         {
          "density": 0.42105263157894735,
          "level": "A1"
         },
         {
          "density": 0.23880597014925375,
          "level": "A1"
         },
         {
          "density": 0.3434343434343434,
          "level": "A1"
         },
         {
          "density": 0.4130434782608696,
          "level": "A1"
         },
         {
          "density": 0.4520833333333334,
          "level": "A1"
         },
         {
          "density": 0.3940886699507389,
          "level": "A1"
         },
         {
          "density": 0.46808510638297873,
          "level": "A1"
         },
         {
          "density": 0.39560439560439553,
          "level": "A1"
         },
         {
          "density": 0.3350253807106598,
          "level": "A1"
         },
         {
          "density": 0.4025974025974026,
          "level": "A1"
         },
         {
          "density": 0.4505494505494505,
          "level": "A1"
         },
         {
          "density": 0.32352941176470584,
          "level": "A1"
         },
         {
          "density": 0.4223300970873787,
          "level": "A1"
         },
         {
          "density": 0.696969696969697,
          "level": "A1"
         },
         {
          "density": 0.640625,
          "level": "A1"
         },
         {
          "density": 0.5396825396825398,
          "level": "A1"
         },
         {
          "density": 0.7692307692307692,
          "level": "A1"
         },
         {
          "density": 0.4543795620437956,
          "level": "A2"
         },
         {
          "density": 0.5643879173290938,
          "level": "A2"
         },
         {
          "density": 0.51698670605613,
          "level": "A2"
         },
         {
          "density": 0.47033898305084754,
          "level": "A2"
         },
         {
          "density": 0.5185185185185186,
          "level": "A2"
         },
         {
          "density": 0.5210355987055015,
          "level": "A2"
         },
         {
          "density": 0.4662921348314606,
          "level": "A2"
         },
         {
          "density": 0.4651162790697674,
          "level": "A2"
         },
         {
          "density": 0.5101427498121713,
          "level": "A2"
         },
         {
          "density": 0.5925925925925926,
          "level": "A2"
         },
         {
          "density": 0.75,
          "level": "A2"
         },
         {
          "density": 0.5,
          "level": "A2"
         },
         {
          "density": 0.5365853658536586,
          "level": "A2"
         },
         {
          "density": 0.6590909090909092,
          "level": "A2"
         },
         {
          "density": 0.7162162162162162,
          "level": "A2"
         },
         {
          "density": 0.3555555555555556,
          "level": "A2"
         },
         {
          "density": 0.4933333333333334,
          "level": "A2"
         },
         {
          "density": 0.5263157894736843,
          "level": "A2"
         },
         {
          "density": 0.401098901098901,
          "level": "A2"
         },
         {
          "density": 0.6097560975609757,
          "level": "A2"
         },
         {
          "density": 0.7407407407407407,
          "level": "A2"
         },
         {
          "density": 0.6578947368421053,
          "level": "A2"
         },
         {
          "density": 0.547945205479452,
          "level": "A2"
         },
         {
          "density": 0.3970588235294117,
          "level": "A2"
         },
         {
          "density": 0.5897435897435896,
          "level": "A2"
         },
         {
          "density": 0.6595744680851063,
          "level": "A2"
         },
         {
          "density": 0.3999999999999999,
          "level": "A2"
         },
         {
          "density": 0.5595238095238095,
          "level": "A2"
         },
         {
          "density": 0.5,
          "level": "A2"
         },
         {
          "density": 0.5555555555555556,
          "level": "A2"
         },
         {
          "density": 0.7872340425531914,
          "level": "A2"
         },
         {
          "density": 0.3999999999999999,
          "level": "A2"
         },
         {
          "density": 0.5747126436781609,
          "level": "A2"
         },
         {
          "density": 0.6176470588235294,
          "level": "A2"
         },
         {
          "density": 0.47916666666666674,
          "level": "A2"
         },
         {
          "density": 0.5136986301369864,
          "level": "A2"
         },
         {
          "density": 0.5679012345679013,
          "level": "A2"
         },
         {
          "density": 0.5913978494623655,
          "level": "A2"
         },
         {
          "density": 0.7096774193548387,
          "level": "A2"
         },
         {
          "density": 0.5757575757575757,
          "level": "A2"
         },
         {
          "density": 0.5135135135135136,
          "level": "A2"
         },
         {
          "density": 0.5340909090909092,
          "level": "A2"
         },
         {
          "density": 0.4693877551020409,
          "level": "A2"
         },
         {
          "density": 0.6470588235294117,
          "level": "A2"
         },
         {
          "density": 0.5333333333333334,
          "level": "A2"
         },
         {
          "density": 0.5,
          "level": "A2"
         },
         {
          "density": 0.547945205479452,
          "level": "A2"
         },
         {
          "density": 0.4339622641509433,
          "level": "A2"
         },
         {
          "density": 0.5441696113074206,
          "level": "A2"
         },
         {
          "density": 0.5502645502645502,
          "level": "A2"
         },
         {
          "density": 0.5371621621621621,
          "level": "A2"
         },
         {
          "density": 0.423728813559322,
          "level": "A2"
         },
         {
          "density": 0.4492753623188406,
          "level": "A2"
         },
         {
          "density": 0.5082644628099173,
          "level": "A2"
         },
         {
          "density": 0.37037037037037046,
          "level": "A2"
         },
         {
          "density": 0.42405063291139244,
          "level": "A2"
         },
         {
          "density": 0.4649122807017543,
          "level": "A2"
         },
         {
          "density": 0.4347826086956521,
          "level": "A2"
         },
         {
          "density": 0.48830409356725135,
          "level": "A2"
         },
         {
          "density": 0.5146443514644352,
          "level": "A2"
         },
         {
          "density": 0.49446494464944646,
          "level": "A2"
         },
         {
          "density": 0.43150684931506844,
          "level": "A2"
         },
         {
          "density": 0.6721311475409837,
          "level": "B1"
         },
         {
          "density": 0.4901960784313726,
          "level": "B1"
         },
         {
          "density": 0.8205128205128205,
          "level": "B1"
         },
         {
          "density": 0.7826086956521738,
          "level": "B1"
         },
         {
          "density": 0.3666666666666667,
          "level": "B1"
         },
         {
          "density": 0.4078947368421053,
          "level": "B1"
         },
         {
          "density": 0.609375,
          "level": "B1"
         },
         {
          "density": 0.5593220338983051,
          "level": "B1"
         },
         {
          "density": 0.6349206349206349,
          "level": "B1"
         },
         {
          "density": 0.5892857142857142,
          "level": "B1"
         },
         {
          "density": 0.4651162790697674,
          "level": "B1"
         },
         {
          "density": 0.5522388059701493,
          "level": "B1"
         },
         {
          "density": 0.602127659574468,
          "level": "B1"
         },
         {
          "density": 0.7113095238095237,
          "level": "B1"
         },
         {
          "density": 0.634020618556701,
          "level": "B1"
         },
         {
          "density": 0.5980769230769232,
          "level": "B1"
         },
         {
          "density": 0.38139534883720927,
          "level": "B1"
         },
         {
          "density": 0.42933333333333334,
          "level": "B1"
         },
         {
          "density": 0.4233128834355828,
          "level": "B1"
         },
         {
          "density": 0.5665024630541873,
          "level": "B1"
         },
         {
          "density": 0.4299065420560748,
          "level": "B1"
         },
         {
          "density": 0.5413223140495869,
          "level": "B1"
         },
         {
          "density": 0.4847058823529411,
          "level": "B1"
         },
         {
          "density": 0.5353159851301115,
          "level": "B1"
         },
         {
          "density": 0.5395189003436427,
          "level": "B1"
         },
         {
          "density": 0.5166666666666666,
          "level": "B1"
         },
         {
          "density": 0.5317693059628543,
          "level": "B1"
         },
         {
          "density": 0.6137724550898203,
          "level": "B1"
         },
         {
          "density": 0.5718799368088467,
          "level": "B1"
         },
         {
          "density": 0.3783783783783783,
          "level": "B1"
         },
         {
          "density": 0.375,
          "level": "B1"
         },
         {
          "density": 0.75,
          "level": "B1"
         },
         {
          "density": 0.2272727272727273,
          "level": "B1"
         },
         {
          "density": 0.6666666666666667,
          "level": "B1"
         },
         {
          "density": 0.4509803921568627,
          "level": "B1"
         },
         {
          "density": 0.5263157894736843,
          "level": "B1"
         },
         {
          "density": 0.6097560975609757,
          "level": "B1"
         },
         {
          "density": 0.5625,
          "level": "B1"
         },
         {
          "density": 0.5,
          "level": "B1"
         },
         {
          "density": 1,
          "level": "B1"
         },
         {
          "density": 0.7083333333333333,
          "level": "B1"
         },
         {
          "density": 0.6153846153846154,
          "level": "B1"
         },
         {
          "density": 0.471933471933472,
          "level": "B2"
         },
         {
          "density": 0.40049751243781095,
          "level": "B2"
         },
         {
          "density": 0.43357487922705307,
          "level": "B2"
         },
         {
          "density": 0.453125,
          "level": "B2"
         },
         {
          "density": 0.4380426203630623,
          "level": "B2"
         },
         {
          "density": 0.4779411764705883,
          "level": "B2"
         },
         {
          "density": 0.4137931034482758,
          "level": "B2"
         },
         {
          "density": 0.6402985074626866,
          "level": "B2"
         },
         {
          "density": 0.48484848484848486,
          "level": "B2"
         },
         {
          "density": 0.6785714285714286,
          "level": "B2"
         },
         {
          "density": 0.7007299270072993,
          "level": "B2"
         },
         {
          "density": 0.6491017964071857,
          "level": "B2"
         },
         {
          "density": 0.5587044534412955,
          "level": "B2"
         },
         {
          "density": 0.4363241678726484,
          "level": "B2"
         },
         {
          "density": 0.6504534212695796,
          "level": "B2"
         },
         {
          "density": 0.5932203389830508,
          "level": "B2"
         },
         {
          "density": 0.35897435897435903,
          "level": "B2"
         },
         {
          "density": 0.6652977412731007,
          "level": "B2"
         },
         {
          "density": 0.5206611570247934,
          "level": "B2"
         },
         {
          "density": 0.3913043478260869,
          "level": "B2"
         },
         {
          "density": 0.3472409152086138,
          "level": "B2"
         },
         {
          "density": 0.3457943925233644,
          "level": "B2"
         },
         {
          "density": 0.6097560975609757,
          "level": "B2"
         },
         {
          "density": 0.6499999999999999,
          "level": "B2"
         },
         {
          "density": 0.3220338983050848,
          "level": "B2"
         },
         {
          "density": 0.4477611940298507,
          "level": "B2"
         },
         {
          "density": 0.8181818181818181,
          "level": "B2"
         },
         {
          "density": 0.11111111111111116,
          "level": "B2"
         },
         {
          "density": 0.5042016806722689,
          "level": "B2"
         },
         {
          "density": 0.31034482758620685,
          "level": "B2"
         },
         {
          "density": 0.5666666666666667,
          "level": "B2"
         },
         {
          "density": 0.5333333333333334,
          "level": "B2"
         },
         {
          "density": 0.39473684210526305,
          "level": "B2"
         },
         {
          "density": 0.25531914893617014,
          "level": "B2"
         },
         {
          "density": 0.5384615384615385,
          "level": "B2"
         },
         {
          "density": 0.5,
          "level": "B2"
         },
         {
          "density": 0.46153846153846145,
          "level": "B2"
         },
         {
          "density": 0.39015151515151514,
          "level": "B2"
         },
         {
          "density": 0.46862745098039205,
          "level": "B2"
         },
         {
          "density": 0.5586854460093897,
          "level": "B2"
         },
         {
          "density": 0.44186046511627897,
          "level": "B2"
         },
         {
          "density": 0.5217391304347827,
          "level": "B2"
         },
         {
          "density": 0.32692307692307687,
          "level": "B2"
         },
         {
          "density": 0.5480769230769231,
          "level": "B2"
         },
         {
          "density": 0.4444444444444444,
          "level": "B2"
         },
         {
          "density": 0.4923857868020305,
          "level": "B2"
         },
         {
          "density": 0.4155844155844155,
          "level": "B2"
         },
         {
          "density": 0.6031746031746033,
          "level": "B2"
         },
         {
          "density": 0.5537190082644627,
          "level": "B2"
         },
         {
          "density": 0.5573770491803278,
          "level": "B2"
         },
         {
          "density": 0.5812807881773399,
          "level": "B2"
         },
         {
          "density": 0.5,
          "level": "B2"
         },
         {
          "density": 0.5272206303724929,
          "level": "B2"
         },
         {
          "density": 0.5310734463276836,
          "level": "B2"
         },
         {
          "density": 0.5853658536585367,
          "level": "B2"
         },
         {
          "density": 0.368421052631579,
          "level": "B2"
         },
         {
          "density": 0.5612244897959184,
          "level": "B2"
         },
         {
          "density": 0.609271523178808,
          "level": "B2"
         },
         {
          "density": 0.41463414634146334,
          "level": "B2"
         },
         {
          "density": 0.42708333333333326,
          "level": "B2"
         },
         {
          "density": 0.6475409836065573,
          "level": "B2"
         },
         {
          "density": 0.6771300448430493,
          "level": "B2"
         },
         {
          "density": 0.5681818181818181,
          "level": "B2"
         },
         {
          "density": 0.5,
          "level": "B2"
         },
         {
          "density": 0.5294117647058822,
          "level": "B2"
         },
         {
          "density": 1,
          "level": "B2"
         },
         {
          "density": 0.6234817813765183,
          "level": "B2"
         },
         {
          "density": 0.601010101010101,
          "level": "B2"
         },
         {
          "density": 0.7741935483870968,
          "level": "B2"
         },
         {
          "density": 0.5483870967741935,
          "level": "B2"
         },
         {
          "density": 0.6923076923076923,
          "level": "B2"
         },
         {
          "density": 0.5641025641025641,
          "level": "B2"
         },
         {
          "density": 0.5904761904761904,
          "level": "B2"
         },
         {
          "density": 0.6842105263157894,
          "level": "B2"
         },
         {
          "density": 0.6153846153846154,
          "level": "B2"
         },
         {
          "density": 0.6767676767676767,
          "level": "B2"
         },
         {
          "density": 0.771186440677966,
          "level": "B2"
         },
         {
          "density": 0.45833333333333326,
          "level": "B2"
         },
         {
          "density": 0.7448979591836735,
          "level": "B2"
         },
         {
          "density": 0.5357142857142858,
          "level": "B2"
         },
         {
          "density": 0.5194805194805194,
          "level": "B2"
         },
         {
          "density": 0.4693877551020409,
          "level": "B2"
         },
         {
          "density": 0.56,
          "level": "B2"
         },
         {
          "density": 0.569672131147541,
          "level": "B2"
         },
         {
          "density": 0.5180722891566265,
          "level": "B2"
         },
         {
          "density": 0.3999999999999999,
          "level": "B2"
         },
         {
          "density": 0.6896551724137931,
          "level": "B2"
         },
         {
          "density": 0.506578947368421,
          "level": "B2"
         },
         {
          "density": 0.6438356164383561,
          "level": "B2"
         },
         {
          "density": 0.6399999999999999,
          "level": "B2"
         },
         {
          "density": 0.6240000000000001,
          "level": "B2"
         },
         {
          "density": 0.5,
          "level": "B2"
         },
         {
          "density": 0.5344827586206897,
          "level": "B2"
         },
         {
          "density": 0.5847457627118644,
          "level": "B2"
         },
         {
          "density": 0.6333333333333333,
          "level": "B2"
         },
         {
          "density": 0.5413793103448277,
          "level": "B2"
         },
         {
          "density": 0.5103092783505154,
          "level": "B2"
         },
         {
          "density": 0.6774193548387097,
          "level": "B2"
         },
         {
          "density": 0.4285714285714286,
          "level": "B2"
         },
         {
          "density": 1,
          "level": "B2"
         },
         {
          "density": 0.2857142857142858,
          "level": "B2"
         },
         {
          "density": 0.30000000000000004,
          "level": "B2"
         },
         {
          "density": 0.33333333333333326,
          "level": "B2"
         },
         {
          "density": 0.5,
          "level": "B2"
         },
         {
          "density": 0.5,
          "level": "B2"
         },
         {
          "density": 0.4545454545454546,
          "level": "B2"
         },
         {
          "density": 0.6875,
          "level": "B2"
         },
         {
          "density": 0.4878048780487805,
          "level": "B2"
         },
         {
          "density": 0.30000000000000004,
          "level": "B2"
         },
         {
          "density": 0.25,
          "level": "B2"
         }
        ]
       },
       "facet": {
        "field": "level",
        "type": "nominal"
       },
       "spec": {
        "encoding": {
         "x": {
          "bin": {
           "maxbins": 30
          },
          "field": "density",
          "type": "quantitative"
         },
         "y": {
          "aggregate": "count",
          "type": "quantitative"
         }
        },
        "mark": "bar"
       }
      },
      "image/png": "[encoded data removed]",
      "text/plain": [
       "<VegaLite 4 object>\n",
       "\n",
       "If you see this message, it means the renderer has not been properly enabled\n",
       "for the frontend that you are using. For more information, see\n",
       "https://altair-viz.github.io/user_guide/troubleshooting.html\n"
      ]
     },
     "execution_count": 19,
     "metadata": {},
     "output_type": "execute_result"
    }
   ],
   "source": [
    "level_density_noun_fp_df = pd.DataFrame(level_density_noun_phrase_fp)\n",
    "alt.Chart(level_density_noun_fp_df).mark_bar().encode(x = alt.X('density', bin = alt.Bin(maxbins = 30)), y = 'count()').facet('level')"
   ]
  },
  {
   "cell_type": "code",
   "execution_count": null,
   "id": "impressed-mapping",
   "metadata": {},
   "outputs": [],
   "source": []
  }
 ],
 "metadata": {
  "kernelspec": {
   "display_name": "Python 3",
   "language": "python",
   "name": "python3"
  },
  "language_info": {
   "codemirror_mode": {
    "name": "ipython",
    "version": 3
   },
   "file_extension": ".py",
   "mimetype": "text/x-python",
   "name": "python",
   "nbconvert_exporter": "python",
   "pygments_lexer": "ipython3",
   "version": "3.8.3"
  }
 },
 "nbformat": 4,
 "nbformat_minor": 5
}
