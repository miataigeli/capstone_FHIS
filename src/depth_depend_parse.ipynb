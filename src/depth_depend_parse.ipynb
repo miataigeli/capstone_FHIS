{
 "cells": [
  {
   "cell_type": "code",
   "execution_count": 1,
   "id": "inner-casting",
   "metadata": {},
   "outputs": [],
   "source": [
    "import spacy\n",
    "import os\n",
    "import numpy as np\n",
    "import re\n",
    "import altair as alt\n",
    "\n",
    "from collections import defaultdict\n",
    "from features import feature_pipeline\n",
    "from utils import read_corpus\n",
    "\n",
    "import pandas as pd\n",
    "alt.renderers.enable('mimetype')\n",
    "from IPython.display import Image\n",
    "import plotly.io as pio\n",
    "pio.renderers.default = \"plotly_mimetype\"\n",
    "\n",
    "from stanza.server import CoreNLPClient\n",
    "from treelib import Node, Tree"
   ]
  },
  {
   "cell_type": "code",
   "execution_count": 2,
   "id": "final-proportion",
   "metadata": {},
   "outputs": [],
   "source": [
    "text_dir = '/Users/eun-youngchristinapark/MDS-CAPSTONE/capstone_FHIS/corpus/'\n",
    "file_list = os.listdir(text_dir)\n",
    "corpus = read_corpus(text_dir)"
   ]
  },
  {
   "cell_type": "markdown",
   "id": "incorporate-colombia",
   "metadata": {},
   "source": [
    "## Depth of Sentence \n",
    "\n",
    "This feature returns the depth of each sentence using dependency parsing. \n",
    "We build a dependency tree using CoreNLP dependency parsing and tree structure from the treelib library."
   ]
  },
  {
   "cell_type": "code",
   "execution_count": 3,
   "id": "compliant-intent",
   "metadata": {},
   "outputs": [],
   "source": [
    "def dependency_tree(sent):\n",
    "    '''This function returns the depth of sentence using dependency parsing. \n",
    "    Assumptions:\n",
    "     1. The input 'sent' is CoreNLP_pb2.Sentence data structure.\n",
    "     2. The dependency parising information in 'sent' (from CoreNLP) is correct. (hence, dependency parsing is out of scope for testing)\n",
    "     \n",
    "    Note: If sent has no edges, this function returns an empty tree. Therefore, one word sentence will return an empty tree. \n",
    "    Argument: sent (CoreNLP_pb2.Sentence) - sentence for which the dependency tree is built\n",
    "    Return:   depth of the tree\n",
    "    '''\n",
    "    \n",
    "    tree_list = [Tree()]\n",
    "    for edge in sent.basicDependencies.edge:\n",
    "        source = edge.source                                                       # source of the edge\n",
    "        target = edge.target                                                       # target of the edge\n",
    "    \n",
    "        source_tree_idx = -1\n",
    "        target_tree_idx = -1\n",
    "        for i, tree in enumerate(tree_list):                                       # find a tree which contains source and call it source_tree\n",
    "            if tree.get_node(source):                                              # find a tree which contains target and call it target_tree\n",
    "                source_tree_idx = i\n",
    "            if tree.get_node(target):\n",
    "                target_tree_idx = i\n",
    "\n",
    "        if source_tree_idx < 0 and target_tree_idx < 0:                            # if no source tree, no target tree\n",
    "            new_tree = Tree()                                                      #     then, create a new tree\n",
    "            new_tree.create_node(source, source)\n",
    "            new_tree.create_node(target, target, parent = source)\n",
    "            tree_list.append(new_tree)\n",
    "        elif target_tree_idx < 0:                                                  # if source_tree exists and no target_tree,\n",
    "            tree = tree_list[source_tree_idx]                                      #     add a target node\n",
    "            tree.create_node(target, target, parent = source)\n",
    "        elif source_tree_idx < 0:                                                  # if target_tree exists and no source_tree,\n",
    "            new_tree = Tree()                                                      #     add the source node as the root of the tree \n",
    "            new_tree.create_node(source, source)\n",
    "            sub_tree = tree_list[target_tree_idx]\n",
    "            new_tree.paste(source, sub_tree)\n",
    "            tree_list[target_tree_idx] = new_tree\n",
    "        else:                                                                      # if both source_tree and target_tree exist,\n",
    "            assert source_tree_idx != target_tree_idx                              #     connect these trees \n",
    "            source_tree = tree_list[source_tree_idx]\n",
    "            target_tree = tree_list[target_tree_idx]\n",
    "        \n",
    "            assert target_tree.root == target\n",
    "            source_tree.paste(source, target_tree)\n",
    "            tree_list[source_tree_idx] = source_tree\n",
    "            tree_list[target_tree_idx] = Tree()\n",
    "        \n",
    "    tree_depth_list = [tree.depth() for tree in tree_list]                        # get the tree depth for each tree in the list\n",
    "    \n",
    "\n",
    "    return max(tree_depth_list), tree_list[np.argmax(tree_depth_list)]            # the tree with max depth is the final tree "
   ]
  },
  {
   "cell_type": "markdown",
   "id": "threatened-montgomery",
   "metadata": {},
   "source": [
    "We can take a look at the source and target of each edge in the dependency parsing. Please note that the dependency parsing is from CoreNLP.\n",
    "We compare this information against the tree generated from dependency_tree function.\n",
    "We print out the depth of the tree and the tree itself. Note that a tree with one node has depth 0. "
   ]
  },
  {
   "cell_type": "markdown",
   "id": "constitutional-wildlife",
   "metadata": {},
   "source": [
    "## Testing\n",
    "\n",
    "We are going to test the function dependency_tree using the test functon test_dependency_tree as shown below.\n",
    "Given a text, we print out the dependency parse from CoreNLP. We also print out the tree and the depth. \n",
    "By comparing the dependency parse from CoreNLP against the displayed tree structure, we can test whether tree is constructed correctly. "
   ]
  },
  {
   "cell_type": "code",
   "execution_count": 7,
   "id": "declared-independence",
   "metadata": {},
   "outputs": [],
   "source": [
    "def test_dependency_tree(text, pipeline):\n",
    "    '''\n",
    "    This function is to test dependency_tree function.\n",
    "    Given a text, we print out the dependency parse from CoreNLP. \n",
    "    We also print out the tree and the depth. \n",
    "    By comparing the dependency parse from CoreNLP against the displayed tree structure, we can test whether tree is constructed correctly. \n",
    "    \n",
    "    Argument: text (str) - a string of text for sentences of which we build dependency parsing tree\n",
    "              pipeline (feature_pipeline) - feature pipeline class which allows preprocessing of text \n",
    "    '''\n",
    "\n",
    "    #tp = feature_pipeline(text)\n",
    "    pipeline.preprocess(text)\n",
    "    text = pipeline.text\n",
    "    with CoreNLPClient(\n",
    "        properties = 'es',\n",
    "        classpath = '/Users/eun-youngchristinapark/Documents/stanza_corenlp/*',\n",
    "        annotators=['depparse'],\n",
    "        timeout=30000,\n",
    "        memory='5G') as client:\n",
    "        spanish_ann = client.annotate(text)\n",
    "        \n",
    "    for sent in spanish_ann.sentence:\n",
    "        for edge in sent.basicDependencies.edge:\n",
    "            print(f'source: {edge.source}, target: {edge.target}')\n",
    "        depth, tree = dependency_tree(sent)\n",
    "        print(f'depth: {depth}\\n')\n",
    "        tree.show()"
   ]
  },
  {
   "cell_type": "markdown",
   "id": "biblical-familiar",
   "metadata": {},
   "source": [
    "### Boundary Cases"
   ]
  },
  {
   "cell_type": "code",
   "execution_count": 9,
   "id": "accredited-picture",
   "metadata": {},
   "outputs": [],
   "source": [
    "pipeline = feature_pipeline()"
   ]
  },
  {
   "cell_type": "code",
   "execution_count": 10,
   "id": "global-milton",
   "metadata": {},
   "outputs": [
    {
     "name": "stderr",
     "output_type": "stream",
     "text": [
      "2021-06-03 18:20:41 INFO: Using CoreNLP default properties for: spanish.  Make sure to have spanish models jar (available for download here: https://stanfordnlp.github.io/CoreNLP/) in CLASSPATH\n",
      "2021-06-03 18:20:41 INFO: Starting server with command: java -Xmx5G -cp /Users/eun-youngchristinapark/Documents/stanza_corenlp/* edu.stanford.nlp.pipeline.StanfordCoreNLPServer -port 9000 -timeout 30000 -threads 5 -maxCharLength 100000 -quiet False -serverProperties spanish -annotators depparse -preload -outputFormat serialized\n"
     ]
    }
   ],
   "source": [
    "text = ''\n",
    "assert test_dependency_tree(text, pipeline) == None"
   ]
  },
  {
   "cell_type": "code",
   "execution_count": 11,
   "id": "arctic-image",
   "metadata": {},
   "outputs": [
    {
     "name": "stderr",
     "output_type": "stream",
     "text": [
      "2021-06-03 18:20:55 INFO: Using CoreNLP default properties for: spanish.  Make sure to have spanish models jar (available for download here: https://stanfordnlp.github.io/CoreNLP/) in CLASSPATH\n",
      "2021-06-03 18:20:55 INFO: Starting server with command: java -Xmx5G -cp /Users/eun-youngchristinapark/Documents/stanza_corenlp/* edu.stanford.nlp.pipeline.StanfordCoreNLPServer -port 9000 -timeout 30000 -threads 5 -maxCharLength 100000 -quiet False -serverProperties spanish -annotators depparse -preload -outputFormat serialized\n"
     ]
    }
   ],
   "source": [
    "text = '1.'\n",
    "assert test_dependency_tree(text, pipeline) == None"
   ]
  },
  {
   "cell_type": "code",
   "execution_count": 12,
   "id": "elegant-shopping",
   "metadata": {},
   "outputs": [
    {
     "name": "stderr",
     "output_type": "stream",
     "text": [
      "2021-06-03 18:21:10 INFO: Using CoreNLP default properties for: spanish.  Make sure to have spanish models jar (available for download here: https://stanfordnlp.github.io/CoreNLP/) in CLASSPATH\n",
      "2021-06-03 18:21:10 INFO: Starting server with command: java -Xmx5G -cp /Users/eun-youngchristinapark/Documents/stanza_corenlp/* edu.stanford.nlp.pipeline.StanfordCoreNLPServer -port 9000 -timeout 30000 -threads 5 -maxCharLength 100000 -quiet False -serverProperties spanish -annotators depparse -preload -outputFormat serialized\n"
     ]
    },
    {
     "name": "stdout",
     "output_type": "stream",
     "text": [
      "depth: 0\n",
      "\n",
      "Tree is empty\n",
      "\n"
     ]
    }
   ],
   "source": [
    "text = 'Maria'\n",
    "test_dependency_tree(text, pipeline)  # expect depth = 0 and empty tree - the tree is empty because there is no edge."
   ]
  },
  {
   "cell_type": "markdown",
   "id": "anonymous-finance",
   "metadata": {},
   "source": [
    "### Testing a Small Text"
   ]
  },
  {
   "cell_type": "code",
   "execution_count": 13,
   "id": "inappropriate-ratio",
   "metadata": {},
   "outputs": [
    {
     "name": "stderr",
     "output_type": "stream",
     "text": [
      "2021-06-03 18:21:25 INFO: Using CoreNLP default properties for: spanish.  Make sure to have spanish models jar (available for download here: https://stanfordnlp.github.io/CoreNLP/) in CLASSPATH\n",
      "2021-06-03 18:21:25 INFO: Starting server with command: java -Xmx5G -cp /Users/eun-youngchristinapark/Documents/stanza_corenlp/* edu.stanford.nlp.pipeline.StanfordCoreNLPServer -port 9000 -timeout 30000 -threads 5 -maxCharLength 100000 -quiet False -serverProperties spanish -annotators depparse -preload -outputFormat serialized\n"
     ]
    },
    {
     "name": "stdout",
     "output_type": "stream",
     "text": [
      "source: 4, target: 1\n",
      "source: 4, target: 2\n",
      "source: 4, target: 3\n",
      "source: 4, target: 6\n",
      "source: 4, target: 8\n",
      "source: 4, target: 9\n",
      "source: 6, target: 5\n",
      "source: 8, target: 7\n",
      "depth: 2\n",
      "\n",
      "4\n",
      "├── 1\n",
      "├── 2\n",
      "├── 3\n",
      "├── 6\n",
      "│   └── 5\n",
      "├── 8\n",
      "│   └── 7\n",
      "└── 9\n",
      "\n",
      "source: 4, target: 3\n",
      "source: 4, target: 5\n",
      "source: 7, target: 6\n",
      "source: 7, target: 9\n",
      "source: 9, target: 8\n",
      "source: 9, target: 11\n",
      "source: 11, target: 10\n",
      "source: 2, target: 4\n",
      "source: 2, target: 7\n",
      "source: 2, target: 12\n",
      "source: 2, target: 1\n",
      "depth: 4\n",
      "\n",
      "2\n",
      "├── 1\n",
      "├── 4\n",
      "│   ├── 3\n",
      "│   └── 5\n",
      "├── 7\n",
      "│   ├── 6\n",
      "│   └── 9\n",
      "│       ├── 8\n",
      "│       └── 11\n",
      "│           └── 10\n",
      "└── 12\n",
      "\n"
     ]
    }
   ],
   "source": [
    "text = \"Mark está de viaje de negocios en Barcelona. Hoy tuvo un día libre y salió a visitar la ciudad. \"\n",
    "test_dependency_tree(text, pipeline)"
   ]
  },
  {
   "cell_type": "markdown",
   "id": "immune-feeling",
   "metadata": {},
   "source": [
    "### Testing Text with a Moderate Size"
   ]
  },
  {
   "cell_type": "code",
   "execution_count": 14,
   "id": "ruled-hebrew",
   "metadata": {},
   "outputs": [
    {
     "name": "stderr",
     "output_type": "stream",
     "text": [
      "2021-06-03 18:21:49 INFO: Using CoreNLP default properties for: spanish.  Make sure to have spanish models jar (available for download here: https://stanfordnlp.github.io/CoreNLP/) in CLASSPATH\n",
      "2021-06-03 18:21:49 INFO: Starting server with command: java -Xmx5G -cp /Users/eun-youngchristinapark/Documents/stanza_corenlp/* edu.stanford.nlp.pipeline.StanfordCoreNLPServer -port 9000 -timeout 30000 -threads 5 -maxCharLength 100000 -quiet False -serverProperties spanish -annotators depparse -preload -outputFormat serialized\n"
     ]
    },
    {
     "name": "stdout",
     "output_type": "stream",
     "text": [
      "source: 2, target: 1\n",
      "source: 2, target: 3\n",
      "source: 2, target: 5\n",
      "source: 2, target: 25\n",
      "source: 2, target: 26\n",
      "source: 5, target: 16\n",
      "source: 5, target: 4\n",
      "source: 5, target: 8\n",
      "source: 5, target: 10\n",
      "source: 8, target: 6\n",
      "source: 8, target: 7\n",
      "source: 10, target: 9\n",
      "source: 13, target: 12\n",
      "source: 15, target: 14\n",
      "source: 16, target: 18\n",
      "source: 16, target: 19\n",
      "source: 16, target: 11\n",
      "source: 16, target: 13\n",
      "source: 16, target: 15\n",
      "source: 18, target: 17\n",
      "source: 23, target: 21\n",
      "source: 23, target: 22\n",
      "source: 24, target: 23\n",
      "source: 25, target: 20\n",
      "source: 25, target: 24\n",
      "source: 27, target: 2\n",
      "source: 27, target: 30\n",
      "source: 27, target: 31\n",
      "source: 30, target: 28\n",
      "source: 30, target: 29\n",
      "depth: 5\n",
      "\n",
      "27\n",
      "├── 2\n",
      "│   ├── 1\n",
      "│   ├── 3\n",
      "│   ├── 5\n",
      "│   │   ├── 4\n",
      "│   │   ├── 8\n",
      "│   │   │   ├── 6\n",
      "│   │   │   └── 7\n",
      "│   │   ├── 10\n",
      "│   │   │   └── 9\n",
      "│   │   └── 16\n",
      "│   │       ├── 11\n",
      "│   │       ├── 13\n",
      "│   │       │   └── 12\n",
      "│   │       ├── 15\n",
      "│   │       │   └── 14\n",
      "│   │       ├── 18\n",
      "│   │       │   └── 17\n",
      "│   │       └── 19\n",
      "│   ├── 25\n",
      "│   │   ├── 20\n",
      "│   │   └── 24\n",
      "│   │       └── 23\n",
      "│   │           ├── 21\n",
      "│   │           └── 22\n",
      "│   └── 26\n",
      "├── 30\n",
      "│   ├── 28\n",
      "│   └── 29\n",
      "└── 31\n",
      "\n",
      "source: 4, target: 3\n",
      "source: 6, target: 9\n",
      "source: 6, target: 1\n",
      "source: 9, target: 7\n",
      "source: 9, target: 8\n",
      "source: 9, target: 13\n",
      "source: 13, target: 10\n",
      "source: 13, target: 11\n",
      "source: 13, target: 12\n",
      "source: 13, target: 14\n",
      "source: 13, target: 15\n",
      "source: 13, target: 16\n",
      "source: 1, target: 5\n",
      "source: 1, target: 2\n",
      "source: 2, target: 4\n",
      "depth: 4\n",
      "\n",
      "6\n",
      "├── 1\n",
      "│   ├── 2\n",
      "│   │   └── 4\n",
      "│   │       └── 3\n",
      "│   └── 5\n",
      "└── 9\n",
      "    ├── 7\n",
      "    ├── 8\n",
      "    └── 13\n",
      "        ├── 10\n",
      "        ├── 11\n",
      "        ├── 12\n",
      "        ├── 14\n",
      "        ├── 15\n",
      "        └── 16\n",
      "\n",
      "source: 7, target: 6\n",
      "source: 7, target: 5\n",
      "source: 11, target: 8\n",
      "source: 11, target: 9\n",
      "source: 11, target: 10\n",
      "source: 11, target: 12\n",
      "source: 11, target: 13\n",
      "source: 2, target: 7\n",
      "source: 2, target: 11\n",
      "source: 2, target: 1\n",
      "source: 2, target: 4\n",
      "source: 4, target: 3\n",
      "depth: 2\n",
      "\n",
      "2\n",
      "├── 1\n",
      "├── 4\n",
      "│   └── 3\n",
      "├── 7\n",
      "│   ├── 5\n",
      "│   └── 6\n",
      "└── 11\n",
      "    ├── 8\n",
      "    ├── 9\n",
      "    ├── 10\n",
      "    ├── 12\n",
      "    └── 13\n",
      "\n",
      "source: 11, target: 9\n",
      "source: 11, target: 10\n",
      "source: 11, target: 13\n",
      "source: 11, target: 8\n",
      "source: 13, target: 12\n",
      "source: 3, target: 14\n",
      "source: 3, target: 1\n",
      "source: 3, target: 2\n",
      "source: 3, target: 4\n",
      "source: 3, target: 5\n",
      "source: 5, target: 7\n",
      "source: 7, target: 11\n",
      "source: 7, target: 6\n",
      "depth: 5\n",
      "\n",
      "3\n",
      "├── 1\n",
      "├── 2\n",
      "├── 4\n",
      "├── 5\n",
      "│   └── 7\n",
      "│       ├── 6\n",
      "│       └── 11\n",
      "│           ├── 8\n",
      "│           ├── 9\n",
      "│           ├── 10\n",
      "│           └── 13\n",
      "│               └── 12\n",
      "└── 14\n",
      "\n",
      "source: 3, target: 1\n",
      "source: 3, target: 2\n",
      "source: 3, target: 4\n",
      "depth: 1\n",
      "\n",
      "3\n",
      "├── 1\n",
      "├── 2\n",
      "└── 4\n",
      "\n",
      "source: 3, target: 2\n",
      "source: 6, target: 1\n",
      "source: 6, target: 3\n",
      "source: 6, target: 4\n",
      "source: 6, target: 5\n",
      "source: 6, target: 7\n",
      "depth: 2\n",
      "\n",
      "6\n",
      "├── 1\n",
      "├── 3\n",
      "│   └── 2\n",
      "├── 4\n",
      "├── 5\n",
      "└── 7\n",
      "\n",
      "source: 3, target: 2\n",
      "source: 3, target: 5\n",
      "source: 3, target: 7\n",
      "source: 3, target: 8\n",
      "source: 3, target: 1\n",
      "source: 5, target: 4\n",
      "source: 7, target: 6\n",
      "depth: 2\n",
      "\n",
      "3\n",
      "├── 1\n",
      "├── 2\n",
      "├── 5\n",
      "│   └── 4\n",
      "├── 7\n",
      "│   └── 6\n",
      "└── 8\n",
      "\n",
      "source: 4, target: 5\n",
      "source: 4, target: 8\n",
      "source: 4, target: 1\n",
      "source: 4, target: 2\n",
      "source: 4, target: 3\n",
      "source: 8, target: 6\n",
      "source: 8, target: 7\n",
      "source: 8, target: 12\n",
      "source: 12, target: 9\n",
      "source: 12, target: 10\n",
      "source: 12, target: 11\n",
      "source: 12, target: 13\n",
      "depth: 3\n",
      "\n",
      "4\n",
      "├── 1\n",
      "├── 2\n",
      "├── 3\n",
      "├── 5\n",
      "└── 8\n",
      "    ├── 6\n",
      "    ├── 7\n",
      "    └── 12\n",
      "        ├── 9\n",
      "        ├── 10\n",
      "        ├── 11\n",
      "        └── 13\n",
      "\n",
      "source: 3, target: 1\n",
      "source: 3, target: 2\n",
      "source: 3, target: 4\n",
      "depth: 1\n",
      "\n",
      "3\n",
      "├── 1\n",
      "├── 2\n",
      "└── 4\n",
      "\n",
      "source: 1, target: 3\n",
      "source: 3, target: 2\n",
      "source: 7, target: 1\n",
      "source: 7, target: 4\n",
      "source: 7, target: 5\n",
      "source: 7, target: 6\n",
      "source: 7, target: 9\n",
      "source: 7, target: 10\n",
      "source: 9, target: 8\n",
      "depth: 3\n",
      "\n",
      "7\n",
      "├── 1\n",
      "│   └── 3\n",
      "│       └── 2\n",
      "├── 4\n",
      "├── 5\n",
      "├── 6\n",
      "├── 9\n",
      "│   └── 8\n",
      "└── 10\n",
      "\n",
      "source: 30, target: 29\n",
      "source: 32, target: 34\n",
      "source: 32, target: 24\n",
      "source: 32, target: 25\n",
      "source: 32, target: 42\n",
      "source: 32, target: 28\n",
      "source: 34, target: 33\n",
      "source: 36, target: 37\n",
      "source: 36, target: 38\n",
      "source: 40, target: 39\n",
      "source: 42, target: 47\n",
      "source: 42, target: 35\n",
      "source: 42, target: 36\n",
      "source: 42, target: 40\n",
      "source: 42, target: 41\n",
      "source: 42, target: 44\n",
      "source: 44, target: 43\n",
      "source: 47, target: 46\n",
      "source: 47, target: 45\n",
      "source: 2, target: 32\n",
      "source: 2, target: 48\n",
      "source: 2, target: 1\n",
      "source: 2, target: 4\n",
      "source: 2, target: 22\n",
      "source: 2, target: 7\n",
      "source: 4, target: 3\n",
      "source: 7, target: 5\n",
      "source: 7, target: 6\n",
      "source: 7, target: 8\n",
      "source: 8, target: 18\n",
      "source: 8, target: 11\n",
      "source: 11, target: 15\n",
      "source: 11, target: 9\n",
      "source: 11, target: 10\n",
      "source: 11, target: 12\n",
      "source: 12, target: 14\n",
      "source: 14, target: 13\n",
      "source: 18, target: 16\n",
      "source: 18, target: 17\n",
      "source: 18, target: 19\n",
      "source: 22, target: 20\n",
      "source: 22, target: 21\n",
      "source: 22, target: 23\n",
      "source: 28, target: 30\n",
      "source: 28, target: 31\n",
      "source: 28, target: 26\n",
      "source: 28, target: 27\n",
      "depth: 6\n",
      "\n",
      "2\n",
      "├── 1\n",
      "├── 4\n",
      "│   └── 3\n",
      "├── 7\n",
      "│   ├── 5\n",
      "│   ├── 6\n",
      "│   └── 8\n",
      "│       ├── 11\n",
      "│       │   ├── 9\n",
      "│       │   ├── 10\n",
      "│       │   ├── 12\n",
      "│       │   │   └── 14\n",
      "│       │   │       └── 13\n",
      "│       │   └── 15\n",
      "│       └── 18\n",
      "│           ├── 16\n",
      "│           ├── 17\n",
      "│           └── 19\n",
      "├── 22\n",
      "│   ├── 20\n",
      "│   ├── 21\n",
      "│   └── 23\n",
      "├── 32\n",
      "│   ├── 24\n",
      "│   ├── 25\n",
      "│   ├── 28\n",
      "│   │   ├── 26\n",
      "│   │   ├── 27\n",
      "│   │   ├── 30\n",
      "│   │   │   └── 29\n",
      "│   │   └── 31\n",
      "│   ├── 34\n",
      "│   │   └── 33\n",
      "│   └── 42\n",
      "│       ├── 35\n",
      "│       ├── 36\n",
      "│       │   ├── 37\n",
      "│       │   └── 38\n",
      "│       ├── 40\n",
      "│       │   └── 39\n",
      "│       ├── 41\n",
      "│       ├── 44\n",
      "│       │   └── 43\n",
      "│       └── 47\n",
      "│           ├── 45\n",
      "│           └── 46\n",
      "└── 48\n",
      "\n",
      "source: 2, target: 1\n",
      "source: 2, target: 5\n",
      "source: 2, target: 7\n",
      "source: 2, target: 9\n",
      "source: 2, target: 25\n",
      "source: 5, target: 3\n",
      "source: 5, target: 4\n",
      "source: 7, target: 6\n",
      "source: 9, target: 8\n",
      "source: 9, target: 15\n",
      "source: 13, target: 12\n",
      "source: 15, target: 17\n",
      "source: 15, target: 18\n",
      "source: 15, target: 22\n",
      "source: 15, target: 10\n",
      "source: 15, target: 11\n",
      "source: 15, target: 13\n",
      "source: 15, target: 14\n",
      "source: 15, target: 16\n",
      "source: 21, target: 20\n",
      "source: 22, target: 19\n",
      "source: 22, target: 21\n",
      "source: 22, target: 24\n",
      "source: 24, target: 23\n",
      "depth: 5\n",
      "\n",
      "2\n",
      "├── 1\n",
      "├── 5\n",
      "│   ├── 3\n",
      "│   └── 4\n",
      "├── 7\n",
      "│   └── 6\n",
      "├── 9\n",
      "│   ├── 8\n",
      "│   └── 15\n",
      "│       ├── 10\n",
      "│       ├── 11\n",
      "│       ├── 13\n",
      "│       │   └── 12\n",
      "│       ├── 14\n",
      "│       ├── 16\n",
      "│       ├── 17\n",
      "│       ├── 18\n",
      "│       └── 22\n",
      "│           ├── 19\n",
      "│           ├── 21\n",
      "│           │   └── 20\n",
      "│           └── 24\n",
      "│               └── 23\n",
      "└── 25\n",
      "\n",
      "source: 5, target: 4\n",
      "source: 5, target: 8\n",
      "source: 5, target: 15\n",
      "source: 5, target: 1\n",
      "source: 5, target: 3\n",
      "source: 8, target: 6\n",
      "source: 8, target: 7\n",
      "source: 8, target: 12\n",
      "source: 12, target: 9\n",
      "source: 12, target: 10\n",
      "source: 12, target: 11\n",
      "source: 12, target: 14\n",
      "source: 14, target: 13\n",
      "source: 3, target: 2\n",
      "depth: 4\n",
      "\n",
      "5\n",
      "├── 1\n",
      "├── 3\n",
      "│   └── 2\n",
      "├── 4\n",
      "├── 8\n",
      "│   ├── 6\n",
      "│   ├── 7\n",
      "│   └── 12\n",
      "│       ├── 9\n",
      "│       ├── 10\n",
      "│       ├── 11\n",
      "│       └── 14\n",
      "│           └── 13\n",
      "└── 15\n",
      "\n"
     ]
    }
   ],
   "source": [
    "text = corpus['A1'][20]['content']\n",
    "test_dependency_tree(text, pipeline)"
   ]
  },
  {
   "cell_type": "markdown",
   "id": "expected-indonesian",
   "metadata": {},
   "source": [
    "### Depth of Dependency Parsing as a Text Feature"
   ]
  },
  {
   "cell_type": "code",
   "execution_count": 15,
   "id": "metropolitan-logistics",
   "metadata": {},
   "outputs": [],
   "source": [
    "def depth_depparse(text, pipeline):\n",
    "    '''\n",
    "    This function is to test dependency_tree function.\n",
    "    Given a text, we print out the dependency parse from CoreNLP. \n",
    "    We also print out the tree and the depth. \n",
    "    By comparing the dependency parse from CoreNLP against the displayed tree structure, we can test whether tree is constructed correctly. \n",
    "    \n",
    "    Assumes that CoreNLPClient is already running. \n",
    "    \n",
    "    Argument: text (str) - a string of text for the sentences of which we build dependency parsing tree.\n",
    "              pipeline (feature_pipeline) - feature_pipeline class\n",
    "    Returns:  the average depth of the sentences in the text \n",
    "    '''\n",
    "\n",
    "    #tp = feature_pipeline(text)\n",
    "    pipeline.preprocess(text)\n",
    "    text = pipeline.text\n",
    "    spanish_ann = client.annotate(text)\n",
    "       \n",
    "    avg_depth = 0\n",
    "    for sent in spanish_ann.sentence:\n",
    "        depth, _ = dependency_tree(sent)\n",
    "        avg_depth += depth\n",
    "        \n",
    "    if len(spanish_ann.sentence) == 0:\n",
    "        return 0\n",
    "    else:\n",
    "        return avg_depth/len(spanish_ann.sentence)"
   ]
  },
  {
   "cell_type": "code",
   "execution_count": 16,
   "id": "breathing-sharing",
   "metadata": {},
   "outputs": [
    {
     "name": "stderr",
     "output_type": "stream",
     "text": [
      "2021-06-03 18:22:21 INFO: Using CoreNLP default properties for: spanish.  Make sure to have spanish models jar (available for download here: https://stanfordnlp.github.io/CoreNLP/) in CLASSPATH\n",
      "2021-06-03 18:22:21 INFO: Starting server with command: java -Xmx5G -cp /Users/eun-youngchristinapark/Documents/stanza_corenlp/* edu.stanford.nlp.pipeline.StanfordCoreNLPServer -port 9000 -timeout 30000 -threads 5 -maxCharLength 100000 -quiet False -serverProperties spanish -annotators depparse -preload -outputFormat serialized\n"
     ]
    }
   ],
   "source": [
    "client = CoreNLPClient(\n",
    "        properties = 'es',\n",
    "        classpath = '/Users/eun-youngchristinapark/Documents/stanza_corenlp/*',\n",
    "        annotators=['depparse'],\n",
    "        timeout=30000,\n",
    "        memory='5G')\n",
    "client.start()"
   ]
  },
  {
   "cell_type": "markdown",
   "id": "hidden-bahrain",
   "metadata": {},
   "source": [
    "### Testing"
   ]
  },
  {
   "cell_type": "code",
   "execution_count": 17,
   "id": "demanding-validity",
   "metadata": {},
   "outputs": [],
   "source": [
    "assert depth_depparse('', pipeline) == 0\n",
    "assert depth_depparse('1.', pipeline) == 0\n",
    "assert depth_depparse('Maria', pipeline) == 0\n",
    "assert depth_depparse(\"Mark está de viaje de negocios en Barcelona. Hoy tuvo un día libre y salió a visitar la ciudad. \", pipeline) == 3"
   ]
  },
  {
   "cell_type": "code",
   "execution_count": 18,
   "id": "furnished-classroom",
   "metadata": {},
   "outputs": [],
   "source": [
    "text = corpus['A1'][20]['content']\n",
    "assert depth_depparse(text, pipeline) == np.mean([5,4,2,5,1,2,2,3,1,3,6,5,4])"
   ]
  },
  {
   "cell_type": "markdown",
   "id": "linear-topic",
   "metadata": {},
   "source": [
    "### Run Through Corpora"
   ]
  },
  {
   "cell_type": "code",
   "execution_count": 19,
   "id": "limited-drama",
   "metadata": {},
   "outputs": [],
   "source": [
    "level_list = ['A1', 'A2', 'B1', 'B2']\n",
    "level_depth_depparse = defaultdict(list)\n",
    "for level in level_list:\n",
    "    corpus_item = corpus[level]\n",
    "    for i, text_item in enumerate(corpus_item):\n",
    "        try: \n",
    "            level_depth_depparse['sentence_depth'].append(depth_depparse(text_item['content'], pipeline))   # noun phrase density\n",
    "            level_depth_depparse['level'].append(level)\n",
    "            \n",
    "        except:\n",
    "            print(f'Error', level, i)\n",
    "            pass"
   ]
  },
  {
   "cell_type": "code",
   "execution_count": 20,
   "id": "defined-imperial",
   "metadata": {},
   "outputs": [],
   "source": [
    "client.stop()"
   ]
  },
  {
   "cell_type": "code",
   "execution_count": 21,
   "id": "experimental-welding",
   "metadata": {},
   "outputs": [
    {
     "data": {
      "application/vnd.vegalite.v4+json": {
       "$schema": "https://vega.github.io/schema/vega-lite/v4.8.1.json",
       "config": {
        "view": {
         "continuousHeight": 300,
         "continuousWidth": 400
        }
       },
       "data": {
        "name": "data-5bd4caeeddc63168e9963f66cb6baf0a"
       },
       "datasets": {
        "data-5bd4caeeddc63168e9963f66cb6baf0a": [
         {
          "level": "A1",
          "sentence_depth": 3.0833333333333335
         },
         {
          "level": "A1",
          "sentence_depth": 2.65
         },
         {
          "level": "A1",
          "sentence_depth": 3.7777777777777777
         },
         {
          "level": "A1",
          "sentence_depth": 4
         },
         {
          "level": "A1",
          "sentence_depth": 5.666666666666667
         },
         {
          "level": "A1",
          "sentence_depth": 2.7777777777777777
         },
         {
          "level": "A1",
          "sentence_depth": 2.685185185185185
         },
         {
          "level": "A1",
          "sentence_depth": 3.2580645161290325
         },
         {
          "level": "A1",
          "sentence_depth": 3.5454545454545454
         },
         {
          "level": "A1",
          "sentence_depth": 3
         },
         {
          "level": "A1",
          "sentence_depth": 3.7254901960784315
         },
         {
          "level": "A1",
          "sentence_depth": 2.6307692307692307
         },
         {
          "level": "A1",
          "sentence_depth": 3.772727272727273
         },
         {
          "level": "A1",
          "sentence_depth": 3.3625
         },
         {
          "level": "A1",
          "sentence_depth": 3.76
         },
         {
          "level": "A1",
          "sentence_depth": 4.72
         },
         {
          "level": "A1",
          "sentence_depth": 3.7875
         },
         {
          "level": "A1",
          "sentence_depth": 4.4523809523809526
         },
         {
          "level": "A1",
          "sentence_depth": 2.75
         },
         {
          "level": "A1",
          "sentence_depth": 2.892857142857143
         },
         {
          "level": "A1",
          "sentence_depth": 3.3076923076923075
         },
         {
          "level": "A1",
          "sentence_depth": 5.5
         },
         {
          "level": "A1",
          "sentence_depth": 2.5294117647058822
         },
         {
          "level": "A1",
          "sentence_depth": 5.375
         },
         {
          "level": "A1",
          "sentence_depth": 5.5
         },
         {
          "level": "A1",
          "sentence_depth": 2.45
         },
         {
          "level": "A1",
          "sentence_depth": 2.2666666666666666
         },
         {
          "level": "A1",
          "sentence_depth": 2.933333333333333
         },
         {
          "level": "A1",
          "sentence_depth": 3.142857142857143
         },
         {
          "level": "A1",
          "sentence_depth": 2.95
         },
         {
          "level": "A1",
          "sentence_depth": 3.3666666666666667
         },
         {
          "level": "A1",
          "sentence_depth": 2.8461538461538463
         },
         {
          "level": "A1",
          "sentence_depth": 2.769230769230769
         },
         {
          "level": "A1",
          "sentence_depth": 3.066666666666667
         },
         {
          "level": "A1",
          "sentence_depth": 3.1818181818181817
         },
         {
          "level": "A1",
          "sentence_depth": 3.4166666666666665
         },
         {
          "level": "A1",
          "sentence_depth": 2.923076923076923
         },
         {
          "level": "A1",
          "sentence_depth": 3
         },
         {
          "level": "A1",
          "sentence_depth": 2.3333333333333335
         },
         {
          "level": "A1",
          "sentence_depth": 3.2
         },
         {
          "level": "A1",
          "sentence_depth": 3
         },
         {
          "level": "A1",
          "sentence_depth": 2.875
         },
         {
          "level": "A1",
          "sentence_depth": 3
         },
         {
          "level": "A1",
          "sentence_depth": 2.4358974358974357
         },
         {
          "level": "A1",
          "sentence_depth": 4.071428571428571
         },
         {
          "level": "A1",
          "sentence_depth": 2.5454545454545454
         },
         {
          "level": "A1",
          "sentence_depth": 3.5
         },
         {
          "level": "A1",
          "sentence_depth": 3.1875
         },
         {
          "level": "A1",
          "sentence_depth": 2.745222929936306
         },
         {
          "level": "A1",
          "sentence_depth": 2.857142857142857
         },
         {
          "level": "A1",
          "sentence_depth": 2.6666666666666665
         },
         {
          "level": "A1",
          "sentence_depth": 2.789855072463768
         },
         {
          "level": "A1",
          "sentence_depth": 2.6363636363636362
         },
         {
          "level": "A1",
          "sentence_depth": 2.4802631578947367
         },
         {
          "level": "A1",
          "sentence_depth": 2.5939393939393938
         },
         {
          "level": "A1",
          "sentence_depth": 2.458100558659218
         },
         {
          "level": "A1",
          "sentence_depth": 2.3675675675675674
         },
         {
          "level": "A1",
          "sentence_depth": 2.317073170731707
         },
         {
          "level": "A1",
          "sentence_depth": 2.311627906976744
         },
         {
          "level": "A1",
          "sentence_depth": 2.3526570048309177
         },
         {
          "level": "A1",
          "sentence_depth": 2.3628691983122363
         },
         {
          "level": "A1",
          "sentence_depth": 2.2531645569620253
         },
         {
          "level": "A1",
          "sentence_depth": 3.0304878048780486
         },
         {
          "level": "A1",
          "sentence_depth": 2.392
         },
         {
          "level": "A1",
          "sentence_depth": 2.3392226148409896
         },
         {
          "level": "A1",
          "sentence_depth": 2.526315789473684
         },
         {
          "level": "A1",
          "sentence_depth": 2.923076923076923
         },
         {
          "level": "A1",
          "sentence_depth": 2.2615384615384615
         },
         {
          "level": "A1",
          "sentence_depth": 2.3707865168539324
         },
         {
          "level": "A1",
          "sentence_depth": 2.5627705627705626
         },
         {
          "level": "A1",
          "sentence_depth": 2.620320855614973
         },
         {
          "level": "A1",
          "sentence_depth": 2.5728155339805827
         },
         {
          "level": "A1",
          "sentence_depth": 2.2545454545454544
         },
         {
          "level": "A1",
          "sentence_depth": 3.5
         },
         {
          "level": "A1",
          "sentence_depth": 2.4070796460176993
         },
         {
          "level": "A1",
          "sentence_depth": 2.3679245283018866
         },
         {
          "level": "A1",
          "sentence_depth": 2.7413793103448274
         },
         {
          "level": "A1",
          "sentence_depth": 3.2413793103448274
         },
         {
          "level": "A1",
          "sentence_depth": 2.2857142857142856
         },
         {
          "level": "A1",
          "sentence_depth": 2.4339622641509435
         },
         {
          "level": "A1",
          "sentence_depth": 2.7674418604651163
         },
         {
          "level": "A1",
          "sentence_depth": 2.7049180327868854
         },
         {
          "level": "A1",
          "sentence_depth": 2.336842105263158
         },
         {
          "level": "A1",
          "sentence_depth": 2.7304347826086954
         },
         {
          "level": "A1",
          "sentence_depth": 2.78125
         },
         {
          "level": "A1",
          "sentence_depth": 2.6024844720496896
         },
         {
          "level": "A1",
          "sentence_depth": 2.471311475409836
         },
         {
          "level": "A1",
          "sentence_depth": 2.8461538461538463
         },
         {
          "level": "A1",
          "sentence_depth": 2.6161616161616164
         },
         {
          "level": "A1",
          "sentence_depth": 3
         },
         {
          "level": "A1",
          "sentence_depth": 5.5
         },
         {
          "level": "A1",
          "sentence_depth": 6.5
         },
         {
          "level": "A1",
          "sentence_depth": 7.4
         },
         {
          "level": "A1",
          "sentence_depth": 5.25
         },
         {
          "level": "A2",
          "sentence_depth": 7.914285714285715
         },
         {
          "level": "A2",
          "sentence_depth": 7.348837209302325
         },
         {
          "level": "A2",
          "sentence_depth": 6.9772727272727275
         },
         {
          "level": "A2",
          "sentence_depth": 5.961538461538462
         },
         {
          "level": "A2",
          "sentence_depth": 6.951219512195122
         },
         {
          "level": "A2",
          "sentence_depth": 5.584158415841584
         },
         {
          "level": "A2",
          "sentence_depth": 5.580645161290323
         },
         {
          "level": "A2",
          "sentence_depth": 5.208333333333333
         },
         {
          "level": "A2",
          "sentence_depth": 4.803827751196172
         },
         {
          "level": "A2",
          "sentence_depth": 4
         },
         {
          "level": "A2",
          "sentence_depth": 3.5
         },
         {
          "level": "A2",
          "sentence_depth": 3.0555555555555554
         },
         {
          "level": "A2",
          "sentence_depth": 2.923076923076923
         },
         {
          "level": "A2",
          "sentence_depth": 3.4615384615384617
         },
         {
          "level": "A2",
          "sentence_depth": 4.625
         },
         {
          "level": "A2",
          "sentence_depth": 4.285714285714286
         },
         {
          "level": "A2",
          "sentence_depth": 3.35
         },
         {
          "level": "A2",
          "sentence_depth": 4.625
         },
         {
          "level": "A2",
          "sentence_depth": 2.7222222222222223
         },
         {
          "level": "A2",
          "sentence_depth": 4.411764705882353
         },
         {
          "level": "A2",
          "sentence_depth": 3.9047619047619047
         },
         {
          "level": "A2",
          "sentence_depth": 3.6363636363636362
         },
         {
          "level": "A2",
          "sentence_depth": 2.411764705882353
         },
         {
          "level": "A2",
          "sentence_depth": 4.166666666666667
         },
         {
          "level": "A2",
          "sentence_depth": 3.4444444444444446
         },
         {
          "level": "A2",
          "sentence_depth": 3.75
         },
         {
          "level": "A2",
          "sentence_depth": 4
         },
         {
          "level": "A2",
          "sentence_depth": 4.384615384615385
         },
         {
          "level": "A2",
          "sentence_depth": 3.357142857142857
         },
         {
          "level": "A2",
          "sentence_depth": 3.75
         },
         {
          "level": "A2",
          "sentence_depth": 3.2857142857142856
         },
         {
          "level": "A2",
          "sentence_depth": 3
         },
         {
          "level": "A2",
          "sentence_depth": 4.0625
         },
         {
          "level": "A2",
          "sentence_depth": 3.9322033898305087
         },
         {
          "level": "A2",
          "sentence_depth": 2.2857142857142856
         },
         {
          "level": "A2",
          "sentence_depth": 4.125
         },
         {
          "level": "A2",
          "sentence_depth": 3.4925373134328357
         },
         {
          "level": "A2",
          "sentence_depth": 4
         },
         {
          "level": "A2",
          "sentence_depth": 4.5
         },
         {
          "level": "A2",
          "sentence_depth": 3.0714285714285716
         },
         {
          "level": "A2",
          "sentence_depth": 3.9583333333333335
         },
         {
          "level": "A2",
          "sentence_depth": 3.625
         },
         {
          "level": "A2",
          "sentence_depth": 2.4705882352941178
         },
         {
          "level": "A2",
          "sentence_depth": 4.473684210526316
         },
         {
          "level": "A2",
          "sentence_depth": 3.1496598639455784
         },
         {
          "level": "A2",
          "sentence_depth": 3.0864197530864197
         },
         {
          "level": "A2",
          "sentence_depth": 4.0625
         },
         {
          "level": "A2",
          "sentence_depth": 2.9375
         },
         {
          "level": "A2",
          "sentence_depth": 5.020833333333333
         },
         {
          "level": "A2",
          "sentence_depth": 4.716981132075472
         },
         {
          "level": "A2",
          "sentence_depth": 3.9402985074626864
         },
         {
          "level": "A2",
          "sentence_depth": 2.7611940298507465
         },
         {
          "level": "A2",
          "sentence_depth": 2.7663551401869158
         },
         {
          "level": "A2",
          "sentence_depth": 2.9213483146067416
         },
         {
          "level": "A2",
          "sentence_depth": 2.5106382978723403
         },
         {
          "level": "A2",
          "sentence_depth": 2.80327868852459
         },
         {
          "level": "A2",
          "sentence_depth": 2.5283018867924527
         },
         {
          "level": "A2",
          "sentence_depth": 2.6557377049180326
         },
         {
          "level": "A2",
          "sentence_depth": 2.787878787878788
         },
         {
          "level": "A2",
          "sentence_depth": 2.73
         },
         {
          "level": "A2",
          "sentence_depth": 2.6016949152542375
         },
         {
          "level": "A2",
          "sentence_depth": 2.9690721649484537
         },
         {
          "level": "B1",
          "sentence_depth": 4.538461538461538
         },
         {
          "level": "B1",
          "sentence_depth": 3
         },
         {
          "level": "B1",
          "sentence_depth": 4.666666666666667
         },
         {
          "level": "B1",
          "sentence_depth": 2.5
         },
         {
          "level": "B1",
          "sentence_depth": 3.533333333333333
         },
         {
          "level": "B1",
          "sentence_depth": 3.5
         },
         {
          "level": "B1",
          "sentence_depth": 4.3
         },
         {
          "level": "B1",
          "sentence_depth": 4
         },
         {
          "level": "B1",
          "sentence_depth": 4.230769230769231
         },
         {
          "level": "B1",
          "sentence_depth": 3.6923076923076925
         },
         {
          "level": "B1",
          "sentence_depth": 3.7777777777777777
         },
         {
          "level": "B1",
          "sentence_depth": 3.2844827586206895
         },
         {
          "level": "B1",
          "sentence_depth": 5.014285714285714
         },
         {
          "level": "B1",
          "sentence_depth": 6.0476190476190474
         },
         {
          "level": "B1",
          "sentence_depth": 4.92
         },
         {
          "level": "B1",
          "sentence_depth": 4.68
         },
         {
          "level": "B1",
          "sentence_depth": 4.225
         },
         {
          "level": "B1",
          "sentence_depth": 4.571428571428571
         },
         {
          "level": "B1",
          "sentence_depth": 3.676470588235294
         },
         {
          "level": "B1",
          "sentence_depth": 4.25
         },
         {
          "level": "B1",
          "sentence_depth": 3.4210526315789473
         },
         {
          "level": "B1",
          "sentence_depth": 5.147540983606557
         },
         {
          "level": "B1",
          "sentence_depth": 4.328571428571428
         },
         {
          "level": "B1",
          "sentence_depth": 4.125874125874126
         },
         {
          "level": "B1",
          "sentence_depth": 4.586956521739131
         },
         {
          "level": "B1",
          "sentence_depth": 4.837837837837838
         },
         {
          "level": "B1",
          "sentence_depth": 3.7423580786026203
         },
         {
          "level": "B1",
          "sentence_depth": 4.626865671641791
         },
         {
          "level": "B1",
          "sentence_depth": 4.666666666666667
         },
         {
          "level": "B1",
          "sentence_depth": 2.588235294117647
         },
         {
          "level": "B1",
          "sentence_depth": 4.75
         },
         {
          "level": "B1",
          "sentence_depth": 6
         },
         {
          "level": "B1",
          "sentence_depth": 4
         },
         {
          "level": "B1",
          "sentence_depth": 3
         },
         {
          "level": "B1",
          "sentence_depth": 3.25
         },
         {
          "level": "B1",
          "sentence_depth": 4.2
         },
         {
          "level": "B1",
          "sentence_depth": 5.4
         },
         {
          "level": "B1",
          "sentence_depth": 4.666666666666667
         },
         {
          "level": "B1",
          "sentence_depth": 3.6666666666666665
         },
         {
          "level": "B1",
          "sentence_depth": 4
         },
         {
          "level": "B1",
          "sentence_depth": 5.666666666666667
         },
         {
          "level": "B1",
          "sentence_depth": 5.333333333333333
         },
         {
          "level": "B2",
          "sentence_depth": 5.161764705882353
         },
         {
          "level": "B2",
          "sentence_depth": 6.711864406779661
         },
         {
          "level": "B2",
          "sentence_depth": 9.06060606060606
         },
         {
          "level": "B2",
          "sentence_depth": 3.8666666666666667
         },
         {
          "level": "B2",
          "sentence_depth": 5.202312138728324
         },
         {
          "level": "B2",
          "sentence_depth": 4.972222222222222
         },
         {
          "level": "B2",
          "sentence_depth": 9
         },
         {
          "level": "B2",
          "sentence_depth": 5.5064935064935066
         },
         {
          "level": "B2",
          "sentence_depth": 7.142857142857143
         },
         {
          "level": "B2",
          "sentence_depth": 2.5
         },
         {
          "level": "B2",
          "sentence_depth": 6.52
         },
         {
          "level": "B2",
          "sentence_depth": 5.361702127659575
         },
         {
          "level": "B2",
          "sentence_depth": 4.461538461538462
         },
         {
          "level": "B2",
          "sentence_depth": 2.3506261180679786
         },
         {
          "level": "B2",
          "sentence_depth": 5.7936507936507935
         },
         {
          "level": "B2",
          "sentence_depth": 3.727272727272727
         },
         {
          "level": "B2",
          "sentence_depth": 4
         },
         {
          "level": "B2",
          "sentence_depth": 4.191489361702128
         },
         {
          "level": "B2",
          "sentence_depth": 3.272727272727273
         },
         {
          "level": "B2",
          "sentence_depth": 6
         },
         {
          "level": "B2",
          "sentence_depth": 1.8980477223427332
         },
         {
          "level": "B2",
          "sentence_depth": 4.333333333333333
         },
         {
          "level": "B2",
          "sentence_depth": 5
         },
         {
          "level": "B2",
          "sentence_depth": 4.333333333333333
         },
         {
          "level": "B2",
          "sentence_depth": 4.222222222222222
         },
         {
          "level": "B2",
          "sentence_depth": 6.833333333333333
         },
         {
          "level": "B2",
          "sentence_depth": 5.25
         },
         {
          "level": "B2",
          "sentence_depth": 3
         },
         {
          "level": "B2",
          "sentence_depth": 5.2105263157894735
         },
         {
          "level": "B2",
          "sentence_depth": 3.8333333333333335
         },
         {
          "level": "B2",
          "sentence_depth": 5.75
         },
         {
          "level": "B2",
          "sentence_depth": 3.7142857142857144
         },
         {
          "level": "B2",
          "sentence_depth": 4
         },
         {
          "level": "B2",
          "sentence_depth": 5
         },
         {
          "level": "B2",
          "sentence_depth": 5.5
         },
         {
          "level": "B2",
          "sentence_depth": 4.75
         },
         {
          "level": "B2",
          "sentence_depth": 5.2
         },
         {
          "level": "B2",
          "sentence_depth": 5.647058823529412
         },
         {
          "level": "B2",
          "sentence_depth": 5.278688524590164
         },
         {
          "level": "B2",
          "sentence_depth": 3.8181818181818183
         },
         {
          "level": "B2",
          "sentence_depth": 4.521739130434782
         },
         {
          "level": "B2",
          "sentence_depth": 3.888888888888889
         },
         {
          "level": "B2",
          "sentence_depth": 5.7272727272727275
         },
         {
          "level": "B2",
          "sentence_depth": 3.9056603773584904
         },
         {
          "level": "B2",
          "sentence_depth": 5.666666666666667
         },
         {
          "level": "B2",
          "sentence_depth": 5.395348837209302
         },
         {
          "level": "B2",
          "sentence_depth": 7.166666666666667
         },
         {
          "level": "B2",
          "sentence_depth": 5.642857142857143
         },
         {
          "level": "B2",
          "sentence_depth": 3.260869565217391
         },
         {
          "level": "B2",
          "sentence_depth": 5.4
         },
         {
          "level": "B2",
          "sentence_depth": 4.068965517241379
         },
         {
          "level": "B2",
          "sentence_depth": 5.5
         },
         {
          "level": "B2",
          "sentence_depth": 5.076190476190476
         },
         {
          "level": "B2",
          "sentence_depth": 3.419753086419753
         },
         {
          "level": "B2",
          "sentence_depth": 5
         },
         {
          "level": "B2",
          "sentence_depth": 3.5
         },
         {
          "level": "B2",
          "sentence_depth": 4.6
         },
         {
          "level": "B2",
          "sentence_depth": 3.5172413793103448
         },
         {
          "level": "B2",
          "sentence_depth": 4
         },
         {
          "level": "B2",
          "sentence_depth": 5.375
         },
         {
          "level": "B2",
          "sentence_depth": 3.8181818181818183
         },
         {
          "level": "B2",
          "sentence_depth": 5.482758620689655
         },
         {
          "level": "B2",
          "sentence_depth": 5.8
         },
         {
          "level": "B2",
          "sentence_depth": 2.95
         },
         {
          "level": "B2",
          "sentence_depth": 9
         },
         {
          "level": "B2",
          "sentence_depth": 3.25
         },
         {
          "level": "B2",
          "sentence_depth": 3.8536585365853657
         },
         {
          "level": "B2",
          "sentence_depth": 4.388888888888889
         },
         {
          "level": "B2",
          "sentence_depth": 4.333333333333333
         },
         {
          "level": "B2",
          "sentence_depth": 4.75
         },
         {
          "level": "B2",
          "sentence_depth": 3.75
         },
         {
          "level": "B2",
          "sentence_depth": 5
         },
         {
          "level": "B2",
          "sentence_depth": 4.883720930232558
         },
         {
          "level": "B2",
          "sentence_depth": 3.25
         },
         {
          "level": "B2",
          "sentence_depth": 4.666666666666667
         },
         {
          "level": "B2",
          "sentence_depth": 4.214285714285714
         },
         {
          "level": "B2",
          "sentence_depth": 4.2631578947368425
         },
         {
          "level": "B2",
          "sentence_depth": 5.454545454545454
         },
         {
          "level": "B2",
          "sentence_depth": 3.4782608695652173
         },
         {
          "level": "B2",
          "sentence_depth": 4.666666666666667
         },
         {
          "level": "B2",
          "sentence_depth": 4.888888888888889
         },
         {
          "level": "B2",
          "sentence_depth": 3.875
         },
         {
          "level": "B2",
          "sentence_depth": 4.558139534883721
         },
         {
          "level": "B2",
          "sentence_depth": 3.836734693877551
         },
         {
          "level": "B2",
          "sentence_depth": 3.769230769230769
         },
         {
          "level": "B2",
          "sentence_depth": 5
         },
         {
          "level": "B2",
          "sentence_depth": 2.6
         },
         {
          "level": "B2",
          "sentence_depth": 4.725
         },
         {
          "level": "B2",
          "sentence_depth": 5.375
         },
         {
          "level": "B2",
          "sentence_depth": 3.466666666666667
         },
         {
          "level": "B2",
          "sentence_depth": 5.846153846153846
         },
         {
          "level": "B2",
          "sentence_depth": 4
         },
         {
          "level": "B2",
          "sentence_depth": 4.15
         },
         {
          "level": "B2",
          "sentence_depth": 3.9
         },
         {
          "level": "B2",
          "sentence_depth": 4
         },
         {
          "level": "B2",
          "sentence_depth": 5.533333333333333
         },
         {
          "level": "B2",
          "sentence_depth": 4.666666666666667
         },
         {
          "level": "B2",
          "sentence_depth": 3.8333333333333335
         },
         {
          "level": "B2",
          "sentence_depth": 5
         },
         {
          "level": "B2",
          "sentence_depth": 3.6
         },
         {
          "level": "B2",
          "sentence_depth": 6
         },
         {
          "level": "B2",
          "sentence_depth": 7
         },
         {
          "level": "B2",
          "sentence_depth": 3.5
         },
         {
          "level": "B2",
          "sentence_depth": 4
         },
         {
          "level": "B2",
          "sentence_depth": 5
         },
         {
          "level": "B2",
          "sentence_depth": 4
         },
         {
          "level": "B2",
          "sentence_depth": 4.333333333333333
         },
         {
          "level": "B2",
          "sentence_depth": 3.5833333333333335
         },
         {
          "level": "B2",
          "sentence_depth": 4
         },
         {
          "level": "B2",
          "sentence_depth": 2
         }
        ]
       },
       "facet": {
        "field": "level",
        "type": "nominal"
       },
       "spec": {
        "encoding": {
         "x": {
          "bin": {
           "maxbins": 30
          },
          "field": "sentence_depth",
          "type": "quantitative"
         },
         "y": {
          "aggregate": "count",
          "type": "quantitative"
         }
        },
        "mark": "bar"
       }
      },
      "image/png": "[encoded data removed]",
      "text/plain": [
       "<VegaLite 4 object>\n",
       "\n",
       "If you see this message, it means the renderer has not been properly enabled\n",
       "for the frontend that you are using. For more information, see\n",
       "https://altair-viz.github.io/user_guide/troubleshooting.html\n"
      ]
     },
     "execution_count": 21,
     "metadata": {},
     "output_type": "execute_result"
    }
   ],
   "source": [
    "level_depth_depparse_df = pd.DataFrame(level_depth_depparse)\n",
    "alt.Chart(level_depth_depparse_df).mark_bar().encode(x = alt.X('sentence_depth', bin = alt.Bin(maxbins = 30)), y = 'count()').facet('level')"
   ]
  },
  {
   "cell_type": "code",
   "execution_count": null,
   "id": "abroad-cooler",
   "metadata": {},
   "outputs": [],
   "source": []
  }
 ],
 "metadata": {
  "kernelspec": {
   "display_name": "Python 3",
   "language": "python",
   "name": "python3"
  },
  "language_info": {
   "codemirror_mode": {
    "name": "ipython",
    "version": 3
   },
   "file_extension": ".py",
   "mimetype": "text/x-python",
   "name": "python",
   "nbconvert_exporter": "python",
   "pygments_lexer": "ipython3",
   "version": "3.8.3"
  }
 },
 "nbformat": 4,
 "nbformat_minor": 5
}
