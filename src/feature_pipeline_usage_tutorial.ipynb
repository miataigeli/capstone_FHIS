{
 "cells": [
  {
   "cell_type": "markdown",
   "id": "senior-consequence",
   "metadata": {},
   "source": [
    "## Tutorial for the Intended Usage of the Feature Extraction Pipeline API"
   ]
  },
  {
   "cell_type": "markdown",
   "id": "likely-bargain",
   "metadata": {},
   "source": [
    "##### Please ensure that you have spaCy and the \"es_core_news_md\" pipeline installed"
   ]
  },
  {
   "cell_type": "code",
   "execution_count": 1,
   "id": "overhead-target",
   "metadata": {
    "tags": []
   },
   "outputs": [],
   "source": [
    "# !python -m spacy download es_core_news_md"
   ]
  },
  {
   "cell_type": "code",
   "execution_count": 2,
   "id": "broken-cooperation",
   "metadata": {},
   "outputs": [],
   "source": [
    "import pprint\n",
    "from utils import read_corpus\n",
    "from features import feature_pipeline\n",
    "\n",
    "# Setup pretty printer\n",
    "p = pprint.PrettyPrinter(indent=4, width=140)"
   ]
  },
  {
   "cell_type": "markdown",
   "id": "appropriate-variety",
   "metadata": {},
   "source": [
    "### Introduction\n",
    "This notebook is intended to illustrate and explain the main workflows possible when using the feature extraction pipeline API for computing statistical/numerical features from a raw text in our collected corpus of Spanish texts. This notebook should be treated as a secondary resource for understanding the API, the primary resource being the file `features.py` containing the source code.\n",
    "\n",
    "Let's begin by broadly describing the stages of the feature extraction pipeline. To calculate any statistical feature from a raw, unprocessed text, the following steps must occur in sequence:\n",
    "1. Initialize the pipeline object\n",
    "2. Pre-process (clean up) the text to remove stray whitespaces, numerals, characters, etc.\n",
    "3. Extract fundamental attributes of the text (eg., tokens, POS tags, lemmas, etc.) using spaCy\n",
    "4. Use the extracted attributes to calculate statistical features of the text (eg., total number of tokens, type-token ratio, pronoun density, etc.)\n",
    "\n",
    "It is not possible to calculate a statistical feature without first extracting the fundamental attributes necessary for calculating that feature. In other words, we cannot reach stage 4 without completing stages 1, 2 and 3. However, the API is written with some shortcuts in place, allowing us to almost never need to explicitly call the `.preprocess()` method in our code. Depending on our usage we can even sometimes skip writing the spaCy step. It is most crucial to remember that the unprocessed text must be passed as an argument at some stage within the pipeline, but it is quite flexible as to which stage that should be.\n",
    "\n",
    "Through this tutorial we will understand these shortcuts and learn how to best apply them in workflows."
   ]
  },
  {
   "cell_type": "markdown",
   "id": "international-mission",
   "metadata": {},
   "source": [
    "### Corpus Reading\n",
    "Let's begin by loading the corpus and seeing a broad view of what it looks like:"
   ]
  },
  {
   "cell_type": "code",
   "execution_count": 3,
   "id": "institutional-liability",
   "metadata": {},
   "outputs": [
    {
     "name": "stdout",
     "output_type": "stream",
     "text": [
      "A1: 94\n",
      "A2: 62\n",
      "B2: 110\n",
      "B1: 42\n"
     ]
    }
   ],
   "source": [
    "corpus = read_corpus()\n",
    "\n",
    "for k, v in corpus.items():\n",
    "    print(f\"{k}: {len(v)}\")"
   ]
  },
  {
   "cell_type": "markdown",
   "id": "criminal-maryland",
   "metadata": {},
   "source": [
    "Let's pick a text from the corpus for the purposes of this demo:"
   ]
  },
  {
   "cell_type": "code",
   "execution_count": 4,
   "id": "biological-lease",
   "metadata": {},
   "outputs": [
    {
     "name": "stdout",
     "output_type": "stream",
     "text": [
      "15. EL INVIERNO\n",
      "El invierno es la estación fría. En el invierno\n",
      "los días son muy cortos y las noches son\n",
      "muy largas. Cuando hace mucho frío el agua\n",
      "se hiela y cae nieve. En la zona tórrida no hay\n",
      "hielo ni nieve, y hace siempre calor. En las\n",
      "zonas templadas no hay hielo ni nieve sino en\n",
      "el invierno. En las zonas glaciales hay hielo y\n",
      "nieve durante todas las estaciones.\n",
      "Los muchachos están alegres cuando hiela y\n",
      "cae la nieve. Entonces patinan en los ríos y en\n",
      "los lagos helados. Hacen pelotas de nieve y se\n",
      "las arrojan unos a otros y juegan a la guerra.\n",
      "Hacen también imágenes de nieve. Cuando ha\n",
      "caído la nieve los muchachos traen sus trineos\n",
      "sobre la nieve.\n",
      "Cuando deshiela y la nieve desaparece, los\n",
      "niños están muy tristes porque no pueden\n",
      "patinar ni jugar más con pelotas de nieve.\n",
      "Pero los pobres están muy alegres, porque\n",
      "durante el invierno hace demasiado frío para\n",
      "ellos. En la primavera ellos no tienen frío.\n",
      "El invierno dura desde el veintiuno de diciembre\n",
      "hasta el veintiuno de marzo.\n",
      "\n",
      "\n"
     ]
    }
   ],
   "source": [
    "un_processed_text = corpus[\"A1\"][80][\"content\"]\n",
    "print(un_processed_text)"
   ]
  },
  {
   "cell_type": "markdown",
   "id": "sporting-break",
   "metadata": {},
   "source": [
    "We can see that this piece of text is formatted somewhat \"irregularly\". It is a poem, so it has line breaks in the middle of grammatical sentences. It also has a title at the top, which is not a necessary component of the content of the text. In order to derive syntactic attributes like POS tags and dependency parses we will need to convert this text into a more standard form that can be interpreted by spaCy."
   ]
  },
  {
   "cell_type": "markdown",
   "id": "certain-bangladesh",
   "metadata": {},
   "source": [
    "### Text Preprocessing\n",
    "Let's create a pipeline for cleaning up this text and extracting important attributes and features from it."
   ]
  },
  {
   "cell_type": "code",
   "execution_count": 5,
   "id": "recorded-protein",
   "metadata": {},
   "outputs": [
    {
     "name": "stdout",
     "output_type": "stream",
     "text": [
      "el invierno el invierno es la estación fría. en el invierno los días son muy cortos y las noches son muy largas. cuando hace mucho frío el agua se hiela y cae nieve. en la zona tórrida no hay hielo ni nieve, y hace siempre calor. en las zonas templadas no hay hielo ni nieve sino en el invierno. en las zonas glaciales hay hielo y nieve durante todas las estaciones. los muchachos están alegres cuando hiela y cae la nieve. entonces patinan en los ríos y en los lagos helados. hacen pelotas de nieve y se las arrojan unos a otros y juegan a la guerra. hacen también imágenes de nieve. cuando ha caído la nieve los muchachos traen sus trineos sobre la nieve. cuando deshiela y la nieve desaparece, los niños están muy tristes porque no pueden patinar ni jugar más con pelotas de nieve. pero los pobres están muy alegres, porque durante el invierno hace demasiado frío para ellos. en la primavera ellos no tienen frío. el invierno dura desde el veintiuno de diciembre hasta el veintiuno de marzo.\n"
     ]
    }
   ],
   "source": [
    "# This step passes the un-processed text to the pipeline and automatically cleans it up using the .preprocess() method\n",
    "pipe = feature_pipeline(un_processed_text)\n",
    "print(pipe.text)"
   ]
  },
  {
   "cell_type": "markdown",
   "id": "bulgarian-lemon",
   "metadata": {},
   "source": [
    "The text looks much more standardized now, which makes it easier for downstream functions to extract things from it in a consistent manner."
   ]
  },
  {
   "cell_type": "markdown",
   "id": "written-response",
   "metadata": {},
   "source": [
    "In the above cell we only called the pipeline object constructor but it automatically gave us a cleaned text. That is because the constructor already contains a call for the `.preprocess()` method if a text has been supplied to the object. This behaviour is functionally equivalent to the following code:"
   ]
  },
  {
   "cell_type": "code",
   "execution_count": 6,
   "id": "indoor-phrase",
   "metadata": {},
   "outputs": [
    {
     "name": "stdout",
     "output_type": "stream",
     "text": [
      "el invierno el invierno es la estación fría. en el invierno los días son muy cortos y las noches son muy largas. cuando hace mucho frío el agua se hiela y cae nieve. en la zona tórrida no hay hielo ni nieve, y hace siempre calor. en las zonas templadas no hay hielo ni nieve sino en el invierno. en las zonas glaciales hay hielo y nieve durante todas las estaciones. los muchachos están alegres cuando hiela y cae la nieve. entonces patinan en los ríos y en los lagos helados. hacen pelotas de nieve y se las arrojan unos a otros y juegan a la guerra. hacen también imágenes de nieve. cuando ha caído la nieve los muchachos traen sus trineos sobre la nieve. cuando deshiela y la nieve desaparece, los niños están muy tristes porque no pueden patinar ni jugar más con pelotas de nieve. pero los pobres están muy alegres, porque durante el invierno hace demasiado frío para ellos. en la primavera ellos no tienen frío. el invierno dura desde el veintiuno de diciembre hasta el veintiuno de marzo.\n"
     ]
    }
   ],
   "source": [
    "pipe = feature_pipeline()\n",
    "cleaned_text = pipe.preprocess(un_processed_text)\n",
    "print(cleaned_text)"
   ]
  },
  {
   "cell_type": "markdown",
   "id": "julian-final",
   "metadata": {},
   "source": [
    "\\\n",
    "As a rule of thumb, it is easiest to pass the unprocessed text to the pipeline at initialization, since the constructor has the effect of resetting all of the attributes to empty lists, giving the pipeline a blank slate for processing a new text that may come its way."
   ]
  },
  {
   "cell_type": "markdown",
   "id": "physical-trout",
   "metadata": {},
   "source": [
    "### Extracting Attributes of the Text using SpaCy\n",
    "Now that we have cleaned up the text into a standard form, spaCy will be able to derive some fundamental syntactic attributes from the text. Some attributes of the text that we might be interested in are the sentences, tokens and POS tags. We can try accessing them, but they won't be accessible at this stage since by default the pipeline constructor does not execute any of the spaCy methods."
   ]
  },
  {
   "cell_type": "code",
   "execution_count": 7,
   "id": "excellent-condition",
   "metadata": {},
   "outputs": [
    {
     "name": "stdout",
     "output_type": "stream",
     "text": [
      "[]\n",
      "[]\n",
      "[]\n"
     ]
    }
   ],
   "source": [
    "# The below calls to access class attributes will just return empty lists since those items have not been extracted yet\n",
    "print(pipe.sentences)\n",
    "print(pipe.tokens)\n",
    "print(pipe.pos_tags)"
   ]
  },
  {
   "cell_type": "markdown",
   "id": "unlimited-divorce",
   "metadata": {},
   "source": [
    "These attributes must be extracted from the text using spaCy's Spanish pipeline. It is recommended that we generate the attribute lists as and when we need them, since extracting all of the attributes for every text can be a bit slow (although the pre-processing of the text is typically the slowest step in the pipeline). We can extract some attributes as follows:"
   ]
  },
  {
   "cell_type": "code",
   "execution_count": 8,
   "id": "prescription-accounting",
   "metadata": {},
   "outputs": [
    {
     "name": "stdout",
     "output_type": "stream",
     "text": [
      "[   'el invierno el invierno es la estación fría.',\n",
      "    'en el invierno los días son muy cortos y las noches son muy largas.',\n",
      "    'cuando hace mucho frío el agua se hiela y cae nieve.',\n",
      "    'en la zona tórrida no hay hielo ni nieve, y hace siempre calor.',\n",
      "    'en las zonas templadas no hay hielo ni nieve sino en el invierno.',\n",
      "    'en las zonas glaciales hay hielo y nieve durante todas las estaciones.',\n",
      "    'los muchachos están alegres cuando hiela y cae la nieve.',\n",
      "    'entonces patinan en los ríos y en los lagos helados.',\n",
      "    'hacen pelotas de nieve y se las arrojan unos a otros y juegan a la guerra.',\n",
      "    'hacen también imágenes de nieve.',\n",
      "    'cuando ha caído la nieve los muchachos traen sus trineos sobre la nieve.',\n",
      "    'cuando deshiela y la nieve desaparece, los niños están muy tristes porque no pueden patinar ni jugar más con pelotas de nieve.',\n",
      "    'pero los pobres están muy alegres, porque durante el invierno hace demasiado frío para ellos.',\n",
      "    'en la primavera ellos no tienen frío.',\n",
      "    'el invierno dura desde el veintiuno de diciembre hasta el veintiuno de marzo.']\n",
      "\n",
      "['el', 'invierno', 'el', 'invierno', 'es', 'la', 'estación', 'fría', '.', 'en', 'el', 'invierno', 'los', 'días', 'son', 'muy', 'cortos', 'y', 'las', 'noches', 'son', 'muy', 'largas', '.', 'cuando', 'hace', 'mucho', 'frío', 'el', 'agua', 'se', 'hiela', 'y', 'cae', 'nieve', '.', 'en', 'la', 'zona', 'tórrida', 'no', 'hay', 'hielo', 'ni', 'nieve', ',', 'y', 'hace', 'siempre', 'calor', '.', 'en', 'las', 'zonas', 'templadas', 'no', 'hay', 'hielo', 'ni', 'nieve', 'sino', 'en', 'el', 'invierno', '.', 'en', 'las', 'zonas', 'glaciales', 'hay', 'hielo', 'y', 'nieve', 'durante', 'todas', 'las', 'estaciones', '.', 'los', 'muchachos', 'están', 'alegres', 'cuando', 'hiela', 'y', 'cae', 'la', 'nieve', '.', 'entonces', 'patinan', 'en', 'los', 'ríos', 'y', 'en', 'los', 'lagos', 'helados', '.', 'hacen', 'pelotas', 'de', 'nieve', 'y', 'se', 'las', 'arrojan', 'unos', 'a', 'otros', 'y', 'juegan', 'a', 'la', 'guerra', '.', 'hacen', 'también', 'imágenes', 'de', 'nieve', '.', 'cuando', 'ha', 'caído', 'la', 'nieve', 'los', 'muchachos', 'traen', 'sus', 'trineos', 'sobre', 'la', 'nieve', '.', 'cuando', 'deshiela', 'y', 'la', 'nieve', 'desaparece', ',', 'los', 'niños', 'están', 'muy', 'tristes', 'porque', 'no', 'pueden', 'patinar', 'ni', 'jugar', 'más', 'con', 'pelotas', 'de', 'nieve', '.', 'pero', 'los', 'pobres', 'están', 'muy', 'alegres', ',', 'porque', 'durante', 'el', 'invierno', 'hace', 'demasiado', 'frío', 'para', 'ellos', '.', 'en', 'la', 'primavera', 'ellos', 'no', 'tienen', 'frío', '.', 'el', 'invierno', 'dura', 'desde', 'el', 'veintiuno', 'de', 'diciembre', 'hasta', 'el', 'veintiuno', 'de', 'marzo', '.']\n"
     ]
    }
   ],
   "source": [
    "pipe.get_sentences()  # populates the pipe.sentences attribute\n",
    "pipe.get_tokens()  # populates the pipe.tokens attribute\n",
    "\n",
    "# Print out the attributes that were populated\n",
    "p.pprint(pipe.sentences)\n",
    "print()\n",
    "print(pipe.tokens)"
   ]
  },
  {
   "cell_type": "markdown",
   "id": "interesting-vermont",
   "metadata": {},
   "source": [
    "\\\n",
    "Calling the methods above will populate the respective attributes with lists, but they also return the lists as outputs. We can assign the output to a variable and access it that way as well."
   ]
  },
  {
   "cell_type": "code",
   "execution_count": 9,
   "id": "adequate-decimal",
   "metadata": {},
   "outputs": [
    {
     "name": "stdout",
     "output_type": "stream",
     "text": [
      "True\n",
      "['DET', 'NOUN', 'DET', 'NOUN', 'AUX', 'DET', 'NOUN', 'ADJ', 'PUNCT', 'ADP', 'DET', 'NOUN', 'DET', 'NOUN', 'VERB', 'ADV', 'ADJ', 'CCONJ', 'DET', 'NOUN', 'VERB', 'ADV', 'ADJ', 'PUNCT', 'SCONJ', 'AUX', 'DET', 'NOUN', 'DET', 'NOUN', 'PRON', 'VERB', 'CCONJ', 'VERB', 'NOUN', 'PUNCT', 'ADP', 'DET', 'NOUN', 'ADJ', 'ADV', 'AUX', 'NOUN', 'CCONJ', 'NOUN', 'PUNCT', 'CCONJ', 'AUX', 'ADV', 'NOUN', 'PUNCT', 'ADP', 'DET', 'NOUN', 'ADJ', 'ADV', 'AUX', 'NOUN', 'CCONJ', 'NOUN', 'CCONJ', 'ADP', 'DET', 'NOUN', 'PUNCT', 'ADP', 'DET', 'NOUN', 'ADJ', 'AUX', 'NOUN', 'CCONJ', 'NOUN', 'ADP', 'DET', 'DET', 'NOUN', 'PUNCT', 'DET', 'NOUN', 'VERB', 'ADJ', 'SCONJ', 'ADJ', 'CCONJ', 'VERB', 'DET', 'NOUN', 'PUNCT', 'ADV', 'AUX', 'ADP', 'DET', 'NOUN', 'CCONJ', 'ADP', 'DET', 'NOUN', 'ADJ', 'PUNCT', 'AUX', 'NOUN', 'ADP', 'NOUN', 'CCONJ', 'PRON', 'PRON', 'AUX', 'PRON', 'ADP', 'PRON', 'CCONJ', 'AUX', 'ADP', 'DET', 'NOUN', 'PUNCT', 'AUX', 'ADV', 'NOUN', 'ADP', 'NOUN', 'PUNCT', 'SCONJ', 'AUX', 'VERB', 'DET', 'NOUN', 'DET', 'NOUN', 'AUX', 'DET', 'NOUN', 'ADP', 'DET', 'NOUN', 'PUNCT', 'SCONJ', 'VERB', 'CCONJ', 'DET', 'NOUN', 'VERB', 'PUNCT', 'DET', 'NOUN', 'VERB', 'ADV', 'ADJ', 'SCONJ', 'ADV', 'VERB', 'VERB', 'CCONJ', 'VERB', 'ADV', 'ADP', 'NOUN', 'ADP', 'NOUN', 'PUNCT', 'CCONJ', 'DET', 'NOUN', 'VERB', 'ADV', 'ADJ', 'PUNCT', 'SCONJ', 'ADP', 'DET', 'NOUN', 'AUX', 'ADV', 'ADJ', 'ADP', 'PRON', 'PUNCT', 'ADP', 'DET', 'NOUN', 'PRON', 'ADV', 'AUX', 'NOUN', 'PUNCT', 'DET', 'NOUN', 'ADJ', 'ADP', 'DET', 'NUM', 'ADP', 'INTJ', 'ADP', 'DET', 'NUM', 'ADP', 'INTJ', 'PUNCT']\n"
     ]
    }
   ],
   "source": [
    "tags = pipe.get_pos_tags()\n",
    "print(tags == pipe.pos_tags)  # check if they are the same\n",
    "print(tags)"
   ]
  },
  {
   "cell_type": "markdown",
   "id": "sophisticated-tradition",
   "metadata": {},
   "source": [
    "Putting it all together, let's create a new pipeline object and give it the text to automatically pre-process. We can then just call a `.get_*` method to access the attribute using spaCy, completely eliminating the explicit writing of the pre-processing step."
   ]
  },
  {
   "cell_type": "code",
   "execution_count": 10,
   "id": "mexican-riding",
   "metadata": {},
   "outputs": [
    {
     "name": "stdout",
     "output_type": "stream",
     "text": [
      "['el invierno', 'el invierno', 'la estación', 'el invierno', 'los días', 'las noches', 'frío', 'el agua', 'se', 'nieve', 'la zona', 'hielo', 'nieve', 'calor', 'las zonas', 'hielo', 'nieve', 'el invierno', 'las zonas', 'hielo', 'nieve', 'las estaciones', 'los muchachos', 'la nieve', 'los ríos', 'los lagos', 'pelotas', 'nieve', 'se', 'las', 'unos', 'otros', 'la guerra', 'imágenes', 'nieve', 'la nieve', 'los muchachos', 'sus trineos', 'la nieve', 'la nieve', 'los niños', 'pelotas', 'nieve', 'los pobres', 'el invierno', 'ellos', 'la primavera', 'ellos', 'frío', 'el invierno']\n"
     ]
    }
   ],
   "source": [
    "pipe = feature_pipeline(un_processed_text)\n",
    "print(pipe.get_noun_chunks())"
   ]
  },
  {
   "cell_type": "markdown",
   "id": "detailed-ireland",
   "metadata": {},
   "source": [
    "Alternatively, we could also create a blank pipeline object and pass in the text through the `.get_*` method. This is functionally the same as the above. The only difference is that the text pre-processing will occur at the spaCy stage instead of the constructor stage."
   ]
  },
  {
   "cell_type": "code",
   "execution_count": 11,
   "id": "contrary-shelf",
   "metadata": {},
   "outputs": [
    {
     "name": "stdout",
     "output_type": "stream",
     "text": [
      "['el invierno', 'el invierno', 'la estación', 'el invierno', 'los días', 'las noches', 'frío', 'el agua', 'se', 'nieve', 'la zona', 'hielo', 'nieve', 'calor', 'las zonas', 'hielo', 'nieve', 'el invierno', 'las zonas', 'hielo', 'nieve', 'las estaciones', 'los muchachos', 'la nieve', 'los ríos', 'los lagos', 'pelotas', 'nieve', 'se', 'las', 'unos', 'otros', 'la guerra', 'imágenes', 'nieve', 'la nieve', 'los muchachos', 'sus trineos', 'la nieve', 'la nieve', 'los niños', 'pelotas', 'nieve', 'los pobres', 'el invierno', 'ellos', 'la primavera', 'ellos', 'frío', 'el invierno']\n"
     ]
    }
   ],
   "source": [
    "pipe = feature_pipeline()\n",
    "print(pipe.get_noun_chunks(un_processed_text))"
   ]
  },
  {
   "cell_type": "markdown",
   "id": "contrary-river",
   "metadata": {},
   "source": [
    "\\\n",
    "Here is a list of all of the spaCy features supported by our pipeline so far:\n",
    "* sentences: \\\n",
    "    extraction function - `pipe.get_sentences()`, \\\n",
    "    attribute - `pipe.sentences`\n",
    "* tokens: \\\n",
    "    extraction function - `pipe.get_tokens()`, \\\n",
    "    attribute - `pipe.tokens`\n",
    "* lemmas: \\\n",
    "    extraction function - `pipe.get_lemmas()`, attribute - `pipe.lemmas`\n",
    "* POS tags: \\\n",
    "    extraction function - `pipe.get_pos_tags()`, \\\n",
    "    attribute - `pipe.pos_tags`\n",
    "* morphology tags: \\\n",
    "    extraction function - `pipe.get_morphology()`, \\\n",
    "    attribute - `pipe.morphs`\n",
    "* dependency parses: \\\n",
    "    extraction function - `pipe.get_dependency_parses()`, \\\n",
    "    attribute - `pipe.parses`\n",
    "* noun phrase chunks: \\\n",
    "    extraction function - `pipe.get_noun_chunks()`, \\\n",
    "    attribute - `pipe.noun_chunks`\n",
    "\n",
    "What if we want to extract all of the spaCy features in one go, instead of calling each of the `.get_*` methods one by one? We can do that by calling the method `.full_spacy()` which will extract all of these features, OR we could initialize the pipeline object with the flag `full_spacy=True`."
   ]
  },
  {
   "cell_type": "code",
   "execution_count": 12,
   "id": "incorporate-condition",
   "metadata": {
    "tags": []
   },
   "outputs": [
    {
     "name": "stdout",
     "output_type": "stream",
     "text": [
      "el invierno el invierno es la estación fría. en el invierno los días son muy cortos y las noches son muy largas. cuando hace mucho frío el agua se hiela y cae nieve. en la zona tórrida no hay hielo ni nieve, y hace siempre calor. en las zonas templadas no hay hielo ni nieve sino en el invierno. en las zonas glaciales hay hielo y nieve durante todas las estaciones. los muchachos están alegres cuando hiela y cae la nieve. entonces patinan en los ríos y en los lagos helados. hacen pelotas de nieve y se las arrojan unos a otros y juegan a la guerra. hacen también imágenes de nieve. cuando ha caído la nieve los muchachos traen sus trineos sobre la nieve. cuando deshiela y la nieve desaparece, los niños están muy tristes porque no pueden patinar ni jugar más con pelotas de nieve. pero los pobres están muy alegres, porque durante el invierno hace demasiado frío para ellos. en la primavera ellos no tienen frío. el invierno dura desde el veintiuno de diciembre hasta el veintiuno de marzo.\n",
      "\n",
      "['det', 'nsubj', 'det', 'nsubj', 'cop', 'det', 'ROOT', 'amod', 'punct', 'case', 'det', 'obl', 'det', 'nsubj', 'cop', 'advmod', 'ROOT', 'cc', 'det', 'nsubj', 'cop', 'advmod', 'conj', 'punct', 'mark', 'advcl', 'advmod', 'obj', 'det', 'nsubj', 'obj', 'ROOT', 'cc', 'conj', 'obj', 'punct', 'case', 'det', 'obl', 'amod', 'advmod', 'ROOT', 'obj', 'cc', 'conj', 'punct', 'cc', 'conj', 'advmod', 'obj', 'punct', 'case', 'det', 'obl', 'amod', 'advmod', 'ROOT', 'obj', 'cc', 'conj', 'cc', 'case', 'det', 'conj', 'punct', 'case', 'det', 'obl', 'amod', 'ROOT', 'obj', 'cc', 'conj', 'case', 'det', 'det', 'obl', 'punct', 'det', 'nsubj', 'cop', 'ROOT', 'mark', 'obl', 'cc', 'conj', 'det', 'obj', 'punct', 'advmod', 'ROOT', 'case', 'det', 'obl', 'cc', 'case', 'det', 'conj', 'amod', 'punct', 'ROOT', 'obj', 'case', 'nmod', 'cc', 'iobj', 'obj', 'conj', 'nsubj', 'case', 'nmod', 'cc', 'conj', 'case', 'det', 'obj', 'punct', 'ROOT', 'advmod', 'obj', 'case', 'nmod', 'punct', 'mark', 'aux', 'advcl', 'det', 'nsubj', 'det', 'nsubj', 'ROOT', 'det', 'obj', 'case', 'det', 'obl', 'punct', 'mark', 'advcl', 'cc', 'det', 'nsubj', 'conj', 'punct', 'det', 'nsubj', 'cop', 'advmod', 'ROOT', 'mark', 'advmod', 'aux', 'advcl', 'cc', 'conj', 'advmod', 'case', 'obl', 'case', 'nmod', 'punct', 'advmod', 'det', 'nsubj', 'cop', 'advmod', 'ROOT', 'punct', 'mark', 'case', 'det', 'obl', 'advcl', 'advmod', 'obj', 'case', 'obl', 'punct', 'case', 'det', 'obl', 'nsubj', 'advmod', 'ROOT', 'obj', 'punct', 'det', 'ROOT', 'amod', 'case', 'det', 'nmod', 'case', 'compound', 'case', 'det', 'nmod', 'case', 'compound', 'punct']\n"
     ]
    }
   ],
   "source": [
    "pipe = feature_pipeline(un_processed_text, full_spacy=True)\n",
    "# Equivalent to:\n",
    "# pipe = feature_pipeline()\n",
    "# pipe.full_spacy(un_processed_text)  # does not return any outputs, saves directly to attributes\n",
    "\n",
    "# All of the following items will automatically be extracted as part of the spaCy pipeline:\n",
    "print(pipe.text)\n",
    "print()\n",
    "print(pipe.parses)\n",
    "\n",
    "# Commented out for brevity\n",
    "# p.pprint(pipe.sentences)\n",
    "# print(pipe.tokens)\n",
    "# print(pipe.lemmas)\n",
    "# print(pipe.pos_tags)\n",
    "# print(pipe.morphs)\n",
    "# print(pipe.noun_chunks)"
   ]
  },
  {
   "cell_type": "markdown",
   "id": "blank-click",
   "metadata": {},
   "source": [
    "### Numerical/Statistical Feature Extraction\n",
    "The most important aspect of the feature extraction pipeline is the ability to derive statistical/numerical features from the text given to it. For a comprehensive guide of all of the features that this pipeline is capable of computing please see the project report (TODO: LINK TO PROJECT REPORT). \\\n",
    "\\\n",
    "Using the pipeline that we created and the attributes that we extracted in the previous cell, here is how we can derive some features from a text using the pipeline:"
   ]
  },
  {
   "cell_type": "code",
   "execution_count": 13,
   "id": "aboriginal-reasoning",
   "metadata": {},
   "outputs": [
    {
     "name": "stdout",
     "output_type": "stream",
     "text": [
      "200\n",
      "0.06951871657754011\n",
      "90.29653846153847\n",
      "21.866666666666667\n"
     ]
    }
   ],
   "source": [
    "num_tokens = pipe.num_tokens()  # internally accesses pipe.tokens\n",
    "log_op_density = pipe.logical_operators()  # internally accesses pipe.tokens\n",
    "fh_score, syls_per_sent = pipe.fernandez_huerta_score()  # internally accesses pipe.tokens and pipe.sentences\n",
    "\n",
    "print(num_tokens)\n",
    "print(log_op_density)\n",
    "print(fh_score)\n",
    "print(syls_per_sent)"
   ]
  },
  {
   "cell_type": "markdown",
   "id": "exempt-consensus",
   "metadata": {},
   "source": [
    "It is important to note that any of the statistical feature functions can be called directly without needing to run any of the spaCy extractors first. As long as a feature pipeline object has been created, calling any of the feature functions will automatically extract the spaCy features necessary for computing the desired statistical feature. For example:"
   ]
  },
  {
   "cell_type": "code",
   "execution_count": 14,
   "id": "statutory-convenience",
   "metadata": {},
   "outputs": [
    {
     "name": "stdout",
     "output_type": "stream",
     "text": [
      "200\n",
      "0.06951871657754011\n",
      "90.29653846153847\n",
      "21.866666666666667\n"
     ]
    }
   ],
   "source": [
    "# Explicitly specifying full_spacy=False for demonstration purposes (default behaviour)\n",
    "pipe = feature_pipeline(un_processed_text, full_spacy=False)\n",
    "# The above step simply cleans up the text. No spaCy features are extracted\n",
    "\n",
    "# All of these methods try to access their required spaCy attributes, and if\n",
    "# they find that the attribute does not yet exist the necessary method will\n",
    "# be called interally to generate those attributes.\n",
    "\n",
    "num_tokens = pipe.num_tokens()  # internally accesses pipe.tokens\n",
    "log_op_density = pipe.logical_operators()  # internally accesses pipe.tokens\n",
    "fh_score, syls_per_sent = pipe.fernandez_huerta_score()  # internally accesses pipe.tokens and pipe.sentences\n",
    "\n",
    "print(num_tokens)\n",
    "print(log_op_density)\n",
    "print(fh_score)\n",
    "print(syls_per_sent)"
   ]
  },
  {
   "cell_type": "markdown",
   "id": "naked-disabled",
   "metadata": {},
   "source": [
    "Alternatively, please note that the order of where the text is provided to the pipeline may also be switched. That is, the unprocessed text does not have to be provided to the pipeline at the initialization stage; it can be provided directly to the feature function as well. The text will automatically be cleaned up and the necessary attributes will be extracted using spaCy, following which the statistic will be calculated."
   ]
  },
  {
   "cell_type": "code",
   "execution_count": 15,
   "id": "expanded-navigator",
   "metadata": {},
   "outputs": [
    {
     "name": "stdout",
     "output_type": "stream",
     "text": [
      "el invierno el invierno es la estación fría. en el invierno los días son muy cortos y las noches son muy largas. cuando hace mucho frío el agua se hiela y cae nieve. en la zona tórrida no hay hielo ni nieve, y hace siempre calor. en las zonas templadas no hay hielo ni nieve sino en el invierno. en las zonas glaciales hay hielo y nieve durante todas las estaciones. los muchachos están alegres cuando hiela y cae la nieve. entonces patinan en los ríos y en los lagos helados. hacen pelotas de nieve y se las arrojan unos a otros y juegan a la guerra. hacen también imágenes de nieve. cuando ha caído la nieve los muchachos traen sus trineos sobre la nieve. cuando deshiela y la nieve desaparece, los niños están muy tristes porque no pueden patinar ni jugar más con pelotas de nieve. pero los pobres están muy alegres, porque durante el invierno hace demasiado frío para ellos. en la primavera ellos no tienen frío. el invierno dura desde el veintiuno de diciembre hasta el veintiuno de marzo.\n",
      "\n",
      "['el', 'invierno', 'el', 'invierno', 'es', 'la', 'estación', 'fría', '.', 'en', 'el', 'invierno', 'los', 'días', 'son', 'muy', 'cortos', 'y', 'las', 'noches', 'son', 'muy', 'largas', '.', 'cuando', 'hace', 'mucho', 'frío', 'el', 'agua', 'se', 'hiela', 'y', 'cae', 'nieve', '.', 'en', 'la', 'zona', 'tórrida', 'no', 'hay', 'hielo', 'ni', 'nieve', ',', 'y', 'hace', 'siempre', 'calor', '.', 'en', 'las', 'zonas', 'templadas', 'no', 'hay', 'hielo', 'ni', 'nieve', 'sino', 'en', 'el', 'invierno', '.', 'en', 'las', 'zonas', 'glaciales', 'hay', 'hielo', 'y', 'nieve', 'durante', 'todas', 'las', 'estaciones', '.', 'los', 'muchachos', 'están', 'alegres', 'cuando', 'hiela', 'y', 'cae', 'la', 'nieve', '.', 'entonces', 'patinan', 'en', 'los', 'ríos', 'y', 'en', 'los', 'lagos', 'helados', '.', 'hacen', 'pelotas', 'de', 'nieve', 'y', 'se', 'las', 'arrojan', 'unos', 'a', 'otros', 'y', 'juegan', 'a', 'la', 'guerra', '.', 'hacen', 'también', 'imágenes', 'de', 'nieve', '.', 'cuando', 'ha', 'caído', 'la', 'nieve', 'los', 'muchachos', 'traen', 'sus', 'trineos', 'sobre', 'la', 'nieve', '.', 'cuando', 'deshiela', 'y', 'la', 'nieve', 'desaparece', ',', 'los', 'niños', 'están', 'muy', 'tristes', 'porque', 'no', 'pueden', 'patinar', 'ni', 'jugar', 'más', 'con', 'pelotas', 'de', 'nieve', '.', 'pero', 'los', 'pobres', 'están', 'muy', 'alegres', ',', 'porque', 'durante', 'el', 'invierno', 'hace', 'demasiado', 'frío', 'para', 'ellos', '.', 'en', 'la', 'primavera', 'ellos', 'no', 'tienen', 'frío', '.', 'el', 'invierno', 'dura', 'desde', 'el', 'veintiuno', 'de', 'diciembre', 'hasta', 'el', 'veintiuno', 'de', 'marzo', '.']\n",
      "\n",
      "200\n",
      "0.06951871657754011\n",
      "90.29653846153847\n",
      "21.866666666666667\n"
     ]
    }
   ],
   "source": [
    "pipe = feature_pipeline()\n",
    "\n",
    "# Saves the cleaned text to pipe.text and the extracted list of tokens to pipe.tokens\n",
    "num_tokens = pipe.num_tokens(text=un_processed_text)\n",
    "print(pipe.text)\n",
    "print()\n",
    "print(pipe.tokens)\n",
    "print()\n",
    "\n",
    "# No need to pass any arguments, it internally accesses pipe.tokens\n",
    "log_op_density = pipe.logical_operators()\n",
    "\n",
    "# No need to pass any arguments, it internally accesses pipe.tokens\n",
    "# and extracts pipe.sentences from the cleaned up pipe.text\n",
    "fh_score, syls_per_sent = pipe.fernandez_huerta_score()\n",
    "\n",
    "print(num_tokens)\n",
    "print(log_op_density)\n",
    "print(fh_score)\n",
    "print(syls_per_sent)"
   ]
  },
  {
   "cell_type": "markdown",
   "id": "hidden-international",
   "metadata": {},
   "source": [
    "Finally, let's extract all of the available statistical features in one go. Accomplishing this is as simple as creating a pipeline object and calling the `.feature_extractor()` method. We explicitly only write two lines, and the unprocessed text can be supplied to the pipeline at either line, but under the hood all 4 stages of processing the text will take place. \\\n",
    "(If the object is initialized with a text, `.feature_extractor()` does not require any arguments. Otherwise, if the object is initialized *without* a text, `.feature_extractor()` must be given a text in order to perform pre-processing and spaCy attribute extraction.)"
   ]
  },
  {
   "cell_type": "code",
   "execution_count": 16,
   "id": "special-johns",
   "metadata": {},
   "outputs": [
    {
     "name": "stdout",
     "output_type": "stream",
     "text": [
      "{   'ADJ': 0.065,\n",
      "    'ADP': 0.11,\n",
      "    'ADV': 0.065,\n",
      "    'AUX': 0.075,\n",
      "    'CCONJ': 0.07,\n",
      "    'CONJ': 0.0,\n",
      "    'CONTENT': 0.5769230769230769,\n",
      "    'DET': 0.155,\n",
      "    'EOL': 0.0,\n",
      "    'FUNCTION': 0.4230769230769231,\n",
      "    'INTJ': 0.01,\n",
      "    'NOUN': 0.215,\n",
      "    'NUM': 0.01,\n",
      "    'PART': 0.0,\n",
      "    'PRON': 0.035,\n",
      "    'PROPN': 0.0,\n",
      "    'PUNCT': 0.09,\n",
      "    'SCONJ': 0.03,\n",
      "    'SPACE': 0.0,\n",
      "    'SYM': 0.0,\n",
      "    'VERB': 0.07,\n",
      "    'X': 0.0,\n",
      "    'avg_ambiguation_all_words': 2.4411764705882355,\n",
      "    'avg_ambiguation_content_words': 2.92,\n",
      "    'avg_degree_of_abstraction': 7.193253968253968,\n",
      "    'avg_rank_of_lemmas_in_freq_list': 560.565,\n",
      "    'avg_sent_length': 13.333333333333334,\n",
      "    'fernandez_huerta_score': 90.29653846153847,\n",
      "    'logical_operator_density': 0.06951871657754011,\n",
      "    'min_degree_of_abstraction': 5.0,\n",
      "    'num_connectives': 8,\n",
      "    'pronoun_density': 0.03626943005181347,\n",
      "    'proportion_of_A_level_tokens': 0.5,\n",
      "    'proportion_of_A_level_types': 0.3617021276595745,\n",
      "    'syllables_per_sentence': 21.866666666666667,\n",
      "    'total_tokens': 200,\n",
      "    'total_tokens_w/o_stopwords': 82,\n",
      "    'type_token_ratio': 0.45}\n"
     ]
    }
   ],
   "source": [
    "pipe = feature_pipeline()\n",
    "p.pprint(pipe.feature_extractor(un_processed_text))\n",
    "\n",
    "# ALTERNATIVELY:\n",
    "# pipe = feature_pipeline(un_processed_text)\n",
    "# pipe.feature_extractor()"
   ]
  }
 ],
 "metadata": {
  "kernelspec": {
   "display_name": "Python 3",
   "language": "python",
   "name": "python3"
  },
  "language_info": {
   "codemirror_mode": {
    "name": "ipython",
    "version": 3
   },
   "file_extension": ".py",
   "mimetype": "text/x-python",
   "name": "python",
   "nbconvert_exporter": "python",
   "pygments_lexer": "ipython3",
   "version": "3.8.3"
  }
 },
 "nbformat": 4,
 "nbformat_minor": 5
}
