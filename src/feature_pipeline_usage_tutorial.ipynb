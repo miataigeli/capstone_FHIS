{
 "cells": [
  {
   "cell_type": "markdown",
   "id": "abroad-strategy",
   "metadata": {},
   "source": [
    "## Demo of Feature Extraction Pipeline and its Intended Usage"
   ]
  },
  {
   "cell_type": "markdown",
   "id": "combined-inventory",
   "metadata": {},
   "source": [
    "##### Please ensure that you have spaCy and the \"es_core_news_md\" pipeline installed"
   ]
  },
  {
   "cell_type": "code",
   "execution_count": 1,
   "id": "perfect-irish",
   "metadata": {
    "tags": []
   },
   "outputs": [],
   "source": [
    "# !python -m spacy download es_core_news_md"
   ]
  },
  {
   "cell_type": "code",
   "execution_count": 2,
   "id": "selected-agent",
   "metadata": {},
   "outputs": [],
   "source": [
    "import pprint\n",
    "from utils import read_corpus\n",
    "from features import feature_pipeline\n",
    "\n",
    "# Setup pretty printer\n",
    "p = pprint.PrettyPrinter(indent=4, width=140)"
   ]
  },
  {
   "cell_type": "markdown",
   "id": "great-profit",
   "metadata": {},
   "source": [
    "### Corpus Reading\n",
    "Let's see what the corpus looks like currently:"
   ]
  },
  {
   "cell_type": "code",
   "execution_count": 3,
   "id": "romantic-classics",
   "metadata": {},
   "outputs": [
    {
     "name": "stdout",
     "output_type": "stream",
     "text": [
      "A1: 94\n",
      "A2: 62\n",
      "B2: 110\n",
      "B1: 42\n"
     ]
    }
   ],
   "source": [
    "corpus = read_corpus()\n",
    "\n",
    "for k, v in corpus.items():\n",
    "    print(f\"{k}: {len(v)}\")"
   ]
  },
  {
   "cell_type": "markdown",
   "id": "studied-spine",
   "metadata": {},
   "source": [
    "Let's pick a text from the corpus for the purposes of this demo:"
   ]
  },
  {
   "cell_type": "code",
   "execution_count": 4,
   "id": "prostate-boxing",
   "metadata": {},
   "outputs": [
    {
     "name": "stdout",
     "output_type": "stream",
     "text": [
      "15. EL INVIERNO\n",
      "El invierno es la estación fría. En el invierno\n",
      "los días son muy cortos y las noches son\n",
      "muy largas. Cuando hace mucho frío el agua\n",
      "se hiela y cae nieve. En la zona tórrida no hay\n",
      "hielo ni nieve, y hace siempre calor. En las\n",
      "zonas templadas no hay hielo ni nieve sino en\n",
      "el invierno. En las zonas glaciales hay hielo y\n",
      "nieve durante todas las estaciones.\n",
      "Los muchachos están alegres cuando hiela y\n",
      "cae la nieve. Entonces patinan en los ríos y en\n",
      "los lagos helados. Hacen pelotas de nieve y se\n",
      "las arrojan unos a otros y juegan a la guerra.\n",
      "Hacen también imágenes de nieve. Cuando ha\n",
      "caído la nieve los muchachos traen sus trineos\n",
      "sobre la nieve.\n",
      "Cuando deshiela y la nieve desaparece, los\n",
      "niños están muy tristes porque no pueden\n",
      "patinar ni jugar más con pelotas de nieve.\n",
      "Pero los pobres están muy alegres, porque\n",
      "durante el invierno hace demasiado frío para\n",
      "ellos. En la primavera ellos no tienen frío.\n",
      "El invierno dura desde el veintiuno de diciembre\n",
      "hasta el veintiuno de marzo.\n",
      "\n",
      "\n"
     ]
    }
   ],
   "source": [
    "un_processed_text = corpus[\"A1\"][80][\"content\"]\n",
    "print(un_processed_text)"
   ]
  },
  {
   "cell_type": "markdown",
   "id": "blind-wireless",
   "metadata": {},
   "source": [
    "We can see that this piece of text is formatted somewhat \"strangely\". It is a poem, so it has line breaks in the middle of sentences. It also has a title at the top, which is not a necessary component of the content of the text."
   ]
  },
  {
   "cell_type": "markdown",
   "id": "following-evolution",
   "metadata": {},
   "source": [
    "### Text Preprocessing\n",
    "Let's create a pipeline for cleaning up this text and extracting important attributes and features from it."
   ]
  },
  {
   "cell_type": "code",
   "execution_count": 5,
   "id": "decent-theta",
   "metadata": {},
   "outputs": [
    {
     "name": "stdout",
     "output_type": "stream",
     "text": [
      "el invierno el invierno es la estación fría. en el invierno los días son muy cortos y las noches son muy largas. cuando hace mucho frío el agua se hiela y cae nieve. en la zona tórrida no hay hielo ni nieve, y hace siempre calor. en las zonas templadas no hay hielo ni nieve sino en el invierno. en las zonas glaciales hay hielo y nieve durante todas las estaciones. los muchachos están alegres cuando hiela y cae la nieve. entonces patinan en los ríos y en los lagos helados. hacen pelotas de nieve y se las arrojan unos a otros y juegan a la guerra. hacen también imágenes de nieve. cuando ha caído la nieve los muchachos traen sus trineos sobre la nieve. cuando deshiela y la nieve desaparece, los niños están muy tristes porque no pueden patinar ni jugar más con pelotas de nieve. pero los pobres están muy alegres, porque durante el invierno hace demasiado frío para ellos. en la primavera ellos no tienen frío. el invierno dura desde el veintiuno de diciembre hasta el veintiuno de marzo.\n"
     ]
    }
   ],
   "source": [
    "# This step passes the un-processed text to the pipeline and automatically cleans it up using the .preprocess() method\n",
    "pipe = feature_pipeline(un_processed_text)\n",
    "print(pipe.text)"
   ]
  },
  {
   "cell_type": "markdown",
   "id": "accomplished-lightning",
   "metadata": {},
   "source": [
    "The text looks much more standardized now, which makes it easier for downstream functions to extract things from it in a consistent manner."
   ]
  },
  {
   "cell_type": "code",
   "execution_count": 6,
   "id": "thorough-controversy",
   "metadata": {},
   "outputs": [],
   "source": [
    "# NOTE: alternatively we could achieve the above by creating a blank pipeline object\n",
    "pipe = feature_pipeline()\n",
    "# and manually call\n",
    "cleaned_text = pipe.preprocess(un_processed_text)\n",
    "# to clean up the text"
   ]
  },
  {
   "cell_type": "markdown",
   "id": "toxic-image",
   "metadata": {},
   "source": [
    "### Extracting Attributes of the Text using SpaCy\n",
    "Some attributes of the text that we might be interested in are the sentences, tokens and POS tags. We can try accessing them, but they won't be accessible at this stage."
   ]
  },
  {
   "cell_type": "code",
   "execution_count": 7,
   "id": "connected-quilt",
   "metadata": {},
   "outputs": [
    {
     "name": "stdout",
     "output_type": "stream",
     "text": [
      "[]\n",
      "[]\n",
      "[]\n"
     ]
    }
   ],
   "source": [
    "# The below calls to access class attributes will just return empty lists since those items have not been extracted yet\n",
    "print(pipe.sentences)\n",
    "print(pipe.tokens)\n",
    "print(pipe.pos_tags)"
   ]
  },
  {
   "cell_type": "markdown",
   "id": "labeled-revelation",
   "metadata": {},
   "source": [
    "These attributes must be extracted from the text using spaCy's Spanish pipeline. It is recommended that we generate the lists as and when we need them, since extracting all of them for each text can be a bit slow (although the text preprocessing is typically the slowest step in our pipeline). We can extract some attributes as follows:"
   ]
  },
  {
   "cell_type": "code",
   "execution_count": 8,
   "id": "extraordinary-dining",
   "metadata": {},
   "outputs": [
    {
     "name": "stdout",
     "output_type": "stream",
     "text": [
      "[   'el invierno el invierno es la estación fría.',\n",
      "    'en el invierno los días son muy cortos y las noches son muy largas.',\n",
      "    'cuando hace mucho frío el agua se hiela y cae nieve.',\n",
      "    'en la zona tórrida no hay hielo ni nieve, y hace siempre calor.',\n",
      "    'en las zonas templadas no hay hielo ni nieve sino en el invierno.',\n",
      "    'en las zonas glaciales hay hielo y nieve durante todas las estaciones.',\n",
      "    'los muchachos están alegres cuando hiela y cae la nieve.',\n",
      "    'entonces patinan en los ríos y en los lagos helados.',\n",
      "    'hacen pelotas de nieve y se las arrojan unos a otros y juegan a la guerra.',\n",
      "    'hacen también imágenes de nieve.',\n",
      "    'cuando ha caído la nieve los muchachos traen sus trineos sobre la nieve.',\n",
      "    'cuando deshiela y la nieve desaparece, los niños están muy tristes porque no pueden patinar ni jugar más con pelotas de nieve.',\n",
      "    'pero los pobres están muy alegres, porque durante el invierno hace demasiado frío para ellos.',\n",
      "    'en la primavera ellos no tienen frío.',\n",
      "    'el invierno dura desde el veintiuno de diciembre hasta el veintiuno de marzo.']\n",
      "\n",
      "['el', 'invierno', 'el', 'invierno', 'es', 'la', 'estación', 'fría', '.', 'en', 'el', 'invierno', 'los', 'días', 'son', 'muy', 'cortos', 'y', 'las', 'noches', 'son', 'muy', 'largas', '.', 'cuando', 'hace', 'mucho', 'frío', 'el', 'agua', 'se', 'hiela', 'y', 'cae', 'nieve', '.', 'en', 'la', 'zona', 'tórrida', 'no', 'hay', 'hielo', 'ni', 'nieve', ',', 'y', 'hace', 'siempre', 'calor', '.', 'en', 'las', 'zonas', 'templadas', 'no', 'hay', 'hielo', 'ni', 'nieve', 'sino', 'en', 'el', 'invierno', '.', 'en', 'las', 'zonas', 'glaciales', 'hay', 'hielo', 'y', 'nieve', 'durante', 'todas', 'las', 'estaciones', '.', 'los', 'muchachos', 'están', 'alegres', 'cuando', 'hiela', 'y', 'cae', 'la', 'nieve', '.', 'entonces', 'patinan', 'en', 'los', 'ríos', 'y', 'en', 'los', 'lagos', 'helados', '.', 'hacen', 'pelotas', 'de', 'nieve', 'y', 'se', 'las', 'arrojan', 'unos', 'a', 'otros', 'y', 'juegan', 'a', 'la', 'guerra', '.', 'hacen', 'también', 'imágenes', 'de', 'nieve', '.', 'cuando', 'ha', 'caído', 'la', 'nieve', 'los', 'muchachos', 'traen', 'sus', 'trineos', 'sobre', 'la', 'nieve', '.', 'cuando', 'deshiela', 'y', 'la', 'nieve', 'desaparece', ',', 'los', 'niños', 'están', 'muy', 'tristes', 'porque', 'no', 'pueden', 'patinar', 'ni', 'jugar', 'más', 'con', 'pelotas', 'de', 'nieve', '.', 'pero', 'los', 'pobres', 'están', 'muy', 'alegres', ',', 'porque', 'durante', 'el', 'invierno', 'hace', 'demasiado', 'frío', 'para', 'ellos', '.', 'en', 'la', 'primavera', 'ellos', 'no', 'tienen', 'frío', '.', 'el', 'invierno', 'dura', 'desde', 'el', 'veintiuno', 'de', 'diciembre', 'hasta', 'el', 'veintiuno', 'de', 'marzo', '.']\n"
     ]
    }
   ],
   "source": [
    "p.pprint(pipe.get_sentences())  # populates the pipe.sentences attribute\n",
    "print()\n",
    "print(pipe.get_tokens())  # populates the pipe.tokens attribute\n",
    "# etc..."
   ]
  },
  {
   "cell_type": "code",
   "execution_count": 9,
   "id": "cognitive-efficiency",
   "metadata": {},
   "outputs": [],
   "source": [
    "# These function calls also return the list object directly,\n",
    "#  so we could optionally just assign them to a variable:\n",
    "tags = pipe.get_pos_tags()\n",
    "# pipe.pos_tags will still get populated and can be accessed directly that way as well"
   ]
  },
  {
   "cell_type": "code",
   "execution_count": 10,
   "id": "separate-composite",
   "metadata": {},
   "outputs": [],
   "source": [
    "# NOTE: alternatively we could create a blank pipeline object\n",
    "pipe = feature_pipeline()\n",
    "# and manually call\n",
    "tags = pipe.get_pos_tags(un_processed_text)\n",
    "# to automatically clean up the text AS WELL AS extract the POS tags"
   ]
  },
  {
   "cell_type": "markdown",
   "id": "peripheral-output",
   "metadata": {},
   "source": [
    "\\\n",
    "Here's a list of all of the spaCy features supported by our pipeline so far:\n",
    "* sentences: \\\n",
    "    extraction function - `pipe.get_sentences()`, \\\n",
    "    attribute - `pipe.sentences`\n",
    "* tokens: \\\n",
    "    extraction function - `pipe.get_tokens()`, \\\n",
    "    attribute - `pipe.tokens`\n",
    "* lemmas: \\\n",
    "    extraction function - `pipe.get_lemmas()`, attribute - `pipe.lemmas`\n",
    "* POS tags: \\\n",
    "    extraction function - `pipe.get_pos_tags()`, \\\n",
    "    attribute - `pipe.pos_tags`\n",
    "* morphology tags: \\\n",
    "    extraction function - `pipe.get_morphology()`, \\\n",
    "    attribute - `pipe.morphs`\n",
    "* dependency parses: \\\n",
    "    extraction function - `pipe.get_dependency_parses()`, \\\n",
    "    attribute - `pipe.parses`\n",
    "* noun phrase chunks: \\\n",
    "    extraction function - `pipe.get_noun_chunks()`, \\\n",
    "    attribute - `pipe.noun_chunks`\n",
    "\n",
    "What if you want to extract all of the spaCy features in one go, instead of calling each of the `.get_*` methods one by one? You can do that by calling the method `.full_spacy()` which will extract all of these features, OR you could initialize the pipeline object with the flag `full_spacy=True`."
   ]
  },
  {
   "cell_type": "code",
   "execution_count": 11,
   "id": "innovative-uzbekistan",
   "metadata": {
    "tags": []
   },
   "outputs": [
    {
     "name": "stdout",
     "output_type": "stream",
     "text": [
      "el invierno el invierno es la estación fría. en el invierno los días son muy cortos y las noches son muy largas. cuando hace mucho frío el agua se hiela y cae nieve. en la zona tórrida no hay hielo ni nieve, y hace siempre calor. en las zonas templadas no hay hielo ni nieve sino en el invierno. en las zonas glaciales hay hielo y nieve durante todas las estaciones. los muchachos están alegres cuando hiela y cae la nieve. entonces patinan en los ríos y en los lagos helados. hacen pelotas de nieve y se las arrojan unos a otros y juegan a la guerra. hacen también imágenes de nieve. cuando ha caído la nieve los muchachos traen sus trineos sobre la nieve. cuando deshiela y la nieve desaparece, los niños están muy tristes porque no pueden patinar ni jugar más con pelotas de nieve. pero los pobres están muy alegres, porque durante el invierno hace demasiado frío para ellos. en la primavera ellos no tienen frío. el invierno dura desde el veintiuno de diciembre hasta el veintiuno de marzo.\n",
      "\n",
      "['el invierno', 'el invierno', 'la estación', 'el invierno', 'los días', 'las noches', 'frío', 'el agua', 'se', 'nieve', 'la zona', 'hielo', 'nieve', 'calor', 'las zonas', 'hielo', 'nieve', 'el invierno', 'las zonas', 'hielo', 'nieve', 'las estaciones', 'los muchachos', 'la nieve', 'los ríos', 'los lagos', 'pelotas', 'nieve', 'se', 'las', 'unos', 'otros', 'la guerra', 'imágenes', 'nieve', 'la nieve', 'los muchachos', 'sus trineos', 'la nieve', 'la nieve', 'los niños', 'pelotas', 'nieve', 'los pobres', 'el invierno', 'ellos', 'la primavera', 'ellos', 'frío', 'el invierno']\n"
     ]
    }
   ],
   "source": [
    "pipe = feature_pipeline(un_processed_text, full_spacy=True)\n",
    "# Equivalent to calling pipe.full_spacy(un_processed_text)\n",
    "\n",
    "# All of the following items will automatically be extracted as part of the spaCy pipeline:\n",
    "print(pipe.text)\n",
    "print()\n",
    "print(pipe.noun_chunks)\n",
    "\n",
    "# Commented out for brevity\n",
    "# p.pprint(pipe.sentences)\n",
    "# print(pipe.tokens)\n",
    "# print(pipe.lemmas)\n",
    "# print(pipe.pos_tags)\n",
    "# print(pipe.parses)\n",
    "# print(pipe.morphs)"
   ]
  },
  {
   "cell_type": "markdown",
   "id": "superb-poetry",
   "metadata": {},
   "source": [
    "### Numerical/Statistical Feature Extraction\n",
    "The most important aspect of the feature extraction pipeline is the ability to extract statistical/numerical features from the text given to it. For a comprehensive guide of all of the features that this pipeline is capable of extracting please see the project report (TODO: LINK TO PROJECT REPORT). \\\n",
    "\\\n",
    "Here is how we can extract some features from a text using the pipeline:"
   ]
  },
  {
   "cell_type": "code",
   "execution_count": 12,
   "id": "amateur-ratio",
   "metadata": {},
   "outputs": [
    {
     "name": "stdout",
     "output_type": "stream",
     "text": [
      "200\n",
      "0.06951871657754011\n",
      "90.29653846153847\n",
      "21.866666666666667\n"
     ]
    }
   ],
   "source": [
    "num_tokens = pipe.num_tokens()\n",
    "log_op_density = pipe.logical_operators()\n",
    "fh_score, syls_per_sent = pipe.fernandez_huerta_score()\n",
    "\n",
    "print(num_tokens)\n",
    "print(log_op_density)\n",
    "print(fh_score)\n",
    "print(syls_per_sent)"
   ]
  },
  {
   "cell_type": "markdown",
   "id": "narrative-membrane",
   "metadata": {},
   "source": [
    "Note that any of the statistical feature functions can be called directly without needing to run any of the spaCy extractors first. As long as a feature pipeline object has been created with a text associated with it, calling any of the feature functions will automatically extract the spaCy features necessary for computing the desired statistical feature. For example:"
   ]
  },
  {
   "cell_type": "code",
   "execution_count": 13,
   "id": "proud-spank",
   "metadata": {},
   "outputs": [
    {
     "name": "stdout",
     "output_type": "stream",
     "text": [
      "82\n",
      "0.5\n",
      "0.3617021276595745\n"
     ]
    }
   ],
   "source": [
    "# Explicitly specifying full_spacy=False for demonstration purposes\n",
    "pipe = feature_pipeline(un_processed_text, full_spacy=False)\n",
    "len_without_stopwords, a_level_token_prop, a_level_type_prop = pipe.a_level_vocab_features()\n",
    "\n",
    "print(len_without_stopwords)\n",
    "print(a_level_token_prop)\n",
    "print(a_level_type_prop)"
   ]
  },
  {
   "cell_type": "markdown",
   "id": "delayed-father",
   "metadata": {},
   "source": [
    "Finally, let's extract all of the available statistical features in one go. That is as simple as creating a pipeline object and calling the `.feature_extractor()` method. \\\n",
    "(NOTE: If the object is initialized with a text, `feature_extractor` does not require any arguments. Otherwise, if the object is initialized *without* a text, `feature_extractor` must be called with a text in order to perform preprocessing and spaCy attribute extraction.)"
   ]
  },
  {
   "cell_type": "code",
   "execution_count": 14,
   "id": "manual-supplement",
   "metadata": {},
   "outputs": [
    {
     "name": "stdout",
     "output_type": "stream",
     "text": [
      "{   'ADJ': 0.065,\n",
      "    'ADP': 0.11,\n",
      "    'ADV': 0.065,\n",
      "    'AUX': 0.075,\n",
      "    'CCONJ': 0.07,\n",
      "    'CONJ': 0.0,\n",
      "    'CONTENT': 0.5769230769230769,\n",
      "    'DET': 0.155,\n",
      "    'EOL': 0.0,\n",
      "    'FUNCTION': 0.4230769230769231,\n",
      "    'INTJ': 0.01,\n",
      "    'NOUN': 0.215,\n",
      "    'NUM': 0.01,\n",
      "    'PART': 0.0,\n",
      "    'PRON': 0.035,\n",
      "    'PROPN': 0.0,\n",
      "    'PUNCT': 0.09,\n",
      "    'SCONJ': 0.03,\n",
      "    'SPACE': 0.0,\n",
      "    'SYM': 0.0,\n",
      "    'VERB': 0.07,\n",
      "    'X': 0.0,\n",
      "    'avg_ambiguation_all_words': 2.4411764705882355,\n",
      "    'avg_ambiguation_content_words': 2.92,\n",
      "    'avg_degree_of_abstraction': 7.193253968253968,\n",
      "    'avg_rank_of_lemmas_in_freq_list': 560.565,\n",
      "    'avg_sent_length': 13.333333333333334,\n",
      "    'fernandez_huerta_score': 90.29653846153847,\n",
      "    'logical_operator_density': 0.06951871657754011,\n",
      "    'min_degree_of_abstraction': 5.0,\n",
      "    'num_connectives': 8,\n",
      "    'pronoun_density': 0.03626943005181347,\n",
      "    'proportion_of_A_level_tokens': 0.5,\n",
      "    'proportion_of_A_level_types': 0.3617021276595745,\n",
      "    'syllables_per_sentence': 21.866666666666667,\n",
      "    'total_tokens': 200,\n",
      "    'total_tokens_w/o_stopwords': 82,\n",
      "    'type_token_ratio': 0.45}\n"
     ]
    }
   ],
   "source": [
    "pipe = feature_pipeline()\n",
    "p.pprint(pipe.feature_extractor(un_processed_text))\n",
    "\n",
    "# ALTERNATIVELY:\n",
    "# pipe = feature_pipeline(un_processed_text)\n",
    "# pipe.feature_extractor()"
   ]
  }
 ],
 "metadata": {
  "kernelspec": {
   "display_name": "Python 3",
   "language": "python",
   "name": "python3"
  },
  "language_info": {
   "codemirror_mode": {
    "name": "ipython",
    "version": 3
   },
   "file_extension": ".py",
   "mimetype": "text/x-python",
   "name": "python",
   "nbconvert_exporter": "python",
   "pygments_lexer": "ipython3",
   "version": "3.8.3"
  }
 },
 "nbformat": 4,
 "nbformat_minor": 5
}
