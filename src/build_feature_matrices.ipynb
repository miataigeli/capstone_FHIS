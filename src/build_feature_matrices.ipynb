{
 "cells": [
  {
   "cell_type": "markdown",
   "id": "molecular-needle",
   "metadata": {},
   "source": [
    "## Build and write feature matrices"
   ]
  },
  {
   "cell_type": "code",
   "execution_count": 1,
   "id": "concrete-queens",
   "metadata": {},
   "outputs": [],
   "source": [
    "import json\n",
    "from tqdm import tqdm\n",
    "from features import feature_pipeline\n",
    "from collections import defaultdict"
   ]
  },
  {
   "cell_type": "markdown",
   "id": "ready-supervisor",
   "metadata": {},
   "source": [
    "#### Load data files"
   ]
  },
  {
   "cell_type": "code",
   "execution_count": 2,
   "id": "coral-honolulu",
   "metadata": {},
   "outputs": [],
   "source": [
    "with open(\"../data/train.json\", \"r\") as f:\n",
    "    train = json.load(f)\n",
    "with open(\"../data/val.json\", \"r\") as f:\n",
    "    val = json.load(f)\n",
    "with open(\"../data/test.json\", \"r\") as f:\n",
    "    test = json.load(f)"
   ]
  },
  {
   "cell_type": "markdown",
   "id": "hybrid-portable",
   "metadata": {},
   "source": [
    "#### Initialize pipeline object and start CoreNLP client"
   ]
  },
  {
   "cell_type": "code",
   "execution_count": 3,
   "id": "dated-possible",
   "metadata": {},
   "outputs": [
    {
     "name": "stderr",
     "output_type": "stream",
     "text": [
      "2021-06-09 10:35:14 INFO: Using CoreNLP default properties for: spanish.  Make sure to have spanish models jar (available for download here: https://stanfordnlp.github.io/CoreNLP/) in CLASSPATH\n",
      "2021-06-09 10:35:21 INFO: Starting server with command: java -Xmx5G -cp C:/Users/rsss9/stanza_corenlp/* edu.stanford.nlp.pipeline.StanfordCoreNLPServer -port 9000 -timeout 30000 -threads 5 -maxCharLength 100000 -quiet False -serverProperties spanish -annotators depparse -preload -outputFormat serialized\n"
     ]
    }
   ],
   "source": [
    "pipe = feature_pipeline(\n",
    "    dep_parse_flag=True,\n",
    "    # CHANGE THE PATHS BELOW TO WORK ON YOUR SYSTEM!!\n",
    "    dep_parse_classpath=\"C:/Users/rsss9/stanza_corenlp/*\",\n",
    "    result_root=\"../wordnet_spa\",\n",
    ")\n",
    "pipe.corenlp_client.start()"
   ]
  },
  {
   "cell_type": "markdown",
   "id": "sufficient-modification",
   "metadata": {},
   "source": [
    "#### Build Feature Matrices"
   ]
  },
  {
   "cell_type": "code",
   "execution_count": 4,
   "id": "worth-helen",
   "metadata": {},
   "outputs": [
    {
     "name": "stderr",
     "output_type": "stream",
     "text": [
      "Building Training Data: 100%|████████████████████████████████████████████| 257/257 [14:30<00:00,  3.39s/it]\n"
     ]
    }
   ],
   "source": [
    "training_data = defaultdict(list)\n",
    "for ex in tqdm(train, desc=\"Building Training Data\", dynamic_ncols=True):\n",
    "    training_data[\"preprocessed_text\"].append(pipe.preprocess(ex[\"content\"]))\n",
    "    features = pipe.feature_extractor()\n",
    "    for k, v in features.items():\n",
    "        training_data[k].append(v)\n",
    "    training_data[\"level\"].append(ex[\"level\"])"
   ]
  },
  {
   "cell_type": "code",
   "execution_count": 5,
   "id": "limiting-mobile",
   "metadata": {},
   "outputs": [
    {
     "name": "stderr",
     "output_type": "stream",
     "text": [
      "Building Validation Data: 100%|████████████████████████████████████████████| 32/32 [01:32<00:00,  2.89s/it]\n"
     ]
    }
   ],
   "source": [
    "validation_data = defaultdict(list)\n",
    "for ex in tqdm(val, desc=\"Building Validation Data\", dynamic_ncols=True):\n",
    "    validation_data[\"preprocessed_text\"].append(pipe.preprocess(ex[\"content\"]))\n",
    "    features = pipe.feature_extractor()\n",
    "    for k, v in features.items():\n",
    "        validation_data[k].append(v)\n",
    "    validation_data[\"level\"].append(ex[\"level\"])"
   ]
  },
  {
   "cell_type": "code",
   "execution_count": 6,
   "id": "reserved-floating",
   "metadata": {},
   "outputs": [
    {
     "name": "stderr",
     "output_type": "stream",
     "text": [
      "Building Testing Data: 100%|███████████████████████████████████████████████| 32/32 [01:31<00:00,  2.85s/it]\n"
     ]
    }
   ],
   "source": [
    "testing_data = defaultdict(list)\n",
    "for ex in tqdm(val, desc=\"Building Testing Data\", dynamic_ncols=True):\n",
    "    testing_data[\"preprocessed_text\"].append(pipe.preprocess(ex[\"content\"]))\n",
    "    features = pipe.feature_extractor()\n",
    "    for k, v in features.items():\n",
    "        testing_data[k].append(v)\n",
    "    testing_data[\"level\"].append(ex[\"level\"])"
   ]
  },
  {
   "cell_type": "markdown",
   "id": "relevant-curtis",
   "metadata": {},
   "source": [
    "#### Stop CoreNLP client"
   ]
  },
  {
   "cell_type": "code",
   "execution_count": 7,
   "id": "reflected-favor",
   "metadata": {},
   "outputs": [],
   "source": [
    "pipe.corenlp_client.stop()"
   ]
  },
  {
   "cell_type": "markdown",
   "id": "cordless-satisfaction",
   "metadata": {},
   "source": [
    "#### Writing Feature Matrices to File"
   ]
  },
  {
   "cell_type": "code",
   "execution_count": 8,
   "id": "earlier-visitor",
   "metadata": {},
   "outputs": [],
   "source": [
    "with open(\"../data/train_features.json\", \"w\", encoding=\"utf-8\") as fout:\n",
    "    json.dump(training_data, fout)\n",
    "with open(\"../data/val_features.json\", \"w\", encoding=\"utf-8\") as fout:\n",
    "    json.dump(validation_data, fout)\n",
    "with open(\"../data/test_features.json\", \"w\", encoding=\"utf-8\") as fout:\n",
    "    json.dump(testing_data, fout)"
   ]
  }
 ],
 "metadata": {
  "kernelspec": {
   "display_name": "Python 3",
   "language": "python",
   "name": "python3"
  },
  "language_info": {
   "codemirror_mode": {
    "name": "ipython",
    "version": 3
   },
   "file_extension": ".py",
   "mimetype": "text/x-python",
   "name": "python",
   "nbconvert_exporter": "python",
   "pygments_lexer": "ipython3",
   "version": "3.8.3"
  }
 },
 "nbformat": 4,
 "nbformat_minor": 5
}
