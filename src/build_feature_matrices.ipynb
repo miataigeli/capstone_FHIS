{
 "cells": [
  {
   "cell_type": "markdown",
   "id": "grave-ghana",
   "metadata": {},
   "source": [
    "## Build and write feature matrices"
   ]
  },
  {
   "cell_type": "code",
   "execution_count": 1,
   "id": "brown-manitoba",
   "metadata": {},
   "outputs": [],
   "source": [
    "import json\n",
    "from tqdm import tqdm\n",
    "from features import feature_pipeline\n",
    "from collections import defaultdict"
   ]
  },
  {
   "cell_type": "code",
   "execution_count": 2,
   "id": "structured-client",
   "metadata": {},
   "outputs": [],
   "source": [
    "with open(\"../data/train.json\", \"r\") as f:\n",
    "    train = json.load(f)\n",
    "with open(\"../data/val.json\", \"r\") as f:\n",
    "    val = json.load(f)"
   ]
  },
  {
   "cell_type": "code",
   "execution_count": 3,
   "id": "nonprofit-saskatchewan",
   "metadata": {},
   "outputs": [],
   "source": [
    "pipe = feature_pipeline()"
   ]
  },
  {
   "cell_type": "markdown",
   "id": "historical-tenant",
   "metadata": {},
   "source": [
    "#### Build Feature Matrices"
   ]
  },
  {
   "cell_type": "code",
   "execution_count": 4,
   "id": "quick-maker",
   "metadata": {},
   "outputs": [
    {
     "name": "stderr",
     "output_type": "stream",
     "text": [
      "Building Training Data: 100%|████████████████████████████████████████████| 277/277 [08:33<00:00,  1.86s/it]\n"
     ]
    }
   ],
   "source": [
    "training_data = defaultdict(list)\n",
    "for ex in tqdm(train, desc=\"Building Training Data\"):\n",
    "    training_data[\"preprocessed_text\"].append(pipe.preprocess(ex[\"content\"]))\n",
    "    features = pipe.feature_extractor()\n",
    "    for k, v in features.items():\n",
    "        training_data[k].append(v)\n",
    "    training_data[\"level\"].append(ex[\"level\"])"
   ]
  },
  {
   "cell_type": "code",
   "execution_count": 5,
   "id": "burning-regular",
   "metadata": {},
   "outputs": [
    {
     "name": "stderr",
     "output_type": "stream",
     "text": [
      "Building Validation Data: 100%|████████████████████████████████████████████| 31/31 [01:21<00:00,  2.63s/it]\n"
     ]
    }
   ],
   "source": [
    "validation_data = defaultdict(list)\n",
    "for ex in tqdm(val, desc=\"Building Validation Data\"):\n",
    "    validation_data[\"preprocessed_text\"].append(pipe.preprocess(ex[\"content\"]))\n",
    "    features = pipe.feature_extractor()\n",
    "    for k, v in features.items():\n",
    "        validation_data[k].append(v)\n",
    "    validation_data[\"level\"].append(ex[\"level\"])"
   ]
  },
  {
   "cell_type": "markdown",
   "id": "flush-wrong",
   "metadata": {},
   "source": [
    "#### Writing Feature Matrices to File"
   ]
  },
  {
   "cell_type": "code",
   "execution_count": 6,
   "id": "indoor-pottery",
   "metadata": {},
   "outputs": [],
   "source": [
    "with open(\"../data/train_features.json\", \"w\", encoding=\"utf-8\") as fout:\n",
    "    json.dump(training_data, fout)\n",
    "with open(\"../data/val_features.json\", \"w\", encoding=\"utf-8\") as fout:\n",
    "    json.dump(validation_data, fout)"
   ]
  }
 ],
 "metadata": {
  "kernelspec": {
   "display_name": "Python 3",
   "language": "python",
   "name": "python3"
  },
  "language_info": {
   "codemirror_mode": {
    "name": "ipython",
    "version": 3
   },
   "file_extension": ".py",
   "mimetype": "text/x-python",
   "name": "python",
   "nbconvert_exporter": "python",
   "pygments_lexer": "ipython3",
   "version": "3.8.3"
  }
 },
 "nbformat": 4,
 "nbformat_minor": 5
}
