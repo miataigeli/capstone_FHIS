{
 "cells": [
  {
   "cell_type": "markdown",
   "id": "blind-recycling",
   "metadata": {},
   "source": [
    "## Build and write feature matrices"
   ]
  },
  {
   "cell_type": "code",
   "execution_count": 1,
   "id": "prospective-conversation",
   "metadata": {},
   "outputs": [],
   "source": [
    "import json\n",
    "from tqdm import tqdm\n",
    "from features import feature_pipeline\n",
    "from collections import defaultdict"
   ]
  },
  {
   "cell_type": "code",
   "execution_count": 2,
   "id": "extra-kruger",
   "metadata": {},
   "outputs": [],
   "source": [
    "with open(\"../data/train.json\", \"r\") as f:\n",
    "    train = json.load(f)\n",
    "with open(\"../data/val.json\", \"r\") as f:\n",
    "    val = json.load(f)"
   ]
  },
  {
   "cell_type": "code",
   "execution_count": 3,
   "id": "atmospheric-brake",
   "metadata": {},
   "outputs": [],
   "source": [
    "pipe = feature_pipeline()"
   ]
  },
  {
   "cell_type": "markdown",
   "id": "failing-mission",
   "metadata": {},
   "source": [
    "#### Build Feature Matrices"
   ]
  },
  {
   "cell_type": "code",
   "execution_count": 4,
   "id": "western-tulsa",
   "metadata": {},
   "outputs": [
    {
     "name": "stderr",
     "output_type": "stream",
     "text": [
      "Building Training Data: 100%|████████████████████████████████████████████| 277/277 [07:46<00:00,  1.68s/it]\n"
     ]
    }
   ],
   "source": [
    "training_data = defaultdict(list)\n",
    "for ex in tqdm(train, desc=\"Building Training Data\"):\n",
    "    training_data[\"preprocessed_text\"].append(pipe.preprocess(ex[\"content\"]))\n",
    "    features = pipe.feature_extractor()\n",
    "    for k, v in features.items():\n",
    "        training_data[k].append(v)\n",
    "    training_data[\"level\"].append(ex[\"level\"])"
   ]
  },
  {
   "cell_type": "code",
   "execution_count": 5,
   "id": "immune-provision",
   "metadata": {},
   "outputs": [
    {
     "name": "stderr",
     "output_type": "stream",
     "text": [
      "Building Validation Data: 100%|████████████████████████████████████████████| 31/31 [01:17<00:00,  2.50s/it]\n"
     ]
    }
   ],
   "source": [
    "validation_data = defaultdict(list)\n",
    "for ex in tqdm(val, desc=\"Building Validation Data\"):\n",
    "    validation_data[\"preprocessed_text\"].append(pipe.preprocess(ex[\"content\"]))\n",
    "    features = pipe.feature_extractor()\n",
    "    for k, v in features.items():\n",
    "        validation_data[k].append(v)\n",
    "    validation_data[\"level\"].append(ex[\"level\"])"
   ]
  },
  {
   "cell_type": "markdown",
   "id": "composed-tokyo",
   "metadata": {},
   "source": [
    "#### Writing Feature Matrices to File"
   ]
  },
  {
   "cell_type": "code",
   "execution_count": 9,
   "id": "aboriginal-communications",
   "metadata": {},
   "outputs": [],
   "source": [
    "training_data\n",
    "with open(\"../data/train_features.json\", \"w\", encoding=\"utf-8\") as fout:\n",
    "    json.dump(training_data, fout)\n",
    "with open(\"../data/val_features.json\", \"w\", encoding=\"utf-8\") as fout:\n",
    "    json.dump(validation_data, fout)"
   ]
  }
 ],
 "metadata": {
  "kernelspec": {
   "display_name": "Python 3",
   "language": "python",
   "name": "python3"
  },
  "language_info": {
   "codemirror_mode": {
    "name": "ipython",
    "version": 3
   },
   "file_extension": ".py",
   "mimetype": "text/x-python",
   "name": "python",
   "nbconvert_exporter": "python",
   "pygments_lexer": "ipython3",
   "version": "3.8.3"
  }
 },
 "nbformat": 4,
 "nbformat_minor": 5
}
