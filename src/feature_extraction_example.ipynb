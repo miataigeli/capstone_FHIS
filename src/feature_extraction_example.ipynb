{
 "cells": [
  {
   "cell_type": "markdown",
   "id": "comic-commodity",
   "metadata": {},
   "source": [
    "## Pipeline for Feature Extraction"
   ]
  },
  {
   "cell_type": "code",
   "execution_count": 1,
   "id": "anonymous-stanford",
   "metadata": {
    "tags": []
   },
   "outputs": [],
   "source": [
    "# !python -m spacy download es_core_news_md"
   ]
  },
  {
   "cell_type": "code",
   "execution_count": 2,
   "id": "precious-concrete",
   "metadata": {},
   "outputs": [],
   "source": [
    "from utils import read_corpus"
   ]
  },
  {
   "cell_type": "code",
   "execution_count": 3,
   "id": "happy-bulgaria",
   "metadata": {},
   "outputs": [],
   "source": [
    "corpus = read_corpus()"
   ]
  },
  {
   "cell_type": "code",
   "execution_count": 4,
   "id": "reliable-greeting",
   "metadata": {},
   "outputs": [
    {
     "name": "stdout",
     "output_type": "stream",
     "text": [
      "A1: 94\n",
      "A2: 62\n",
      "B: 110\n",
      "B1: 42\n"
     ]
    }
   ],
   "source": [
    "for k, v in corpus.items():\n",
    "    print(f\"{k}: {len(v)}\")"
   ]
  },
  {
   "cell_type": "code",
   "execution_count": 5,
   "id": "minute-kingdom",
   "metadata": {},
   "outputs": [],
   "source": [
    "from features import feature_pipeline"
   ]
  },
  {
   "cell_type": "code",
   "execution_count": 6,
   "id": "manufactured-maintenance",
   "metadata": {},
   "outputs": [],
   "source": [
    "pipe = feature_pipeline()"
   ]
  },
  {
   "cell_type": "code",
   "execution_count": 10,
   "id": "another-explorer",
   "metadata": {},
   "outputs": [
    {
     "data": {
      "text/plain": [
       "([5158,\n",
       "  2016,\n",
       "  31.26060606060606,\n",
       "  0.3888888888888889,\n",
       "  0.19099099099099098,\n",
       "  0.2658006979449399,\n",
       "  444.38270647537803,\n",
       "  94.13339620510506,\n",
       "  48.696969696969695,\n",
       "  0.05544784800310198,\n",
       "  0.10740597130670802,\n",
       "  0.10915083365645599,\n",
       "  0.14443582784024817,\n",
       "  0.1407522295463358,\n",
       "  0.11806901899961225,\n",
       "  0.08278402481582009,\n",
       "  0.05583559519193486,\n",
       "  0.02016285381930981,\n",
       "  0.05331523846452113,\n",
       "  0.04090732842186894,\n",
       "  0.056804963164017064,\n",
       "  0.0058162078324932144,\n",
       "  0.008530438154323382,\n",
       "  0.00038774718883288094,\n",
       "  0.00019387359441644047,\n",
       "  0.5679458239277653,\n",
       "  0.4320541760722348],\n",
       " ['total_tokens',\n",
       "  'total_tokens_w/o_stopwords',\n",
       "  'avg_sent_length',\n",
       "  'proportion_of_a_level_tokens',\n",
       "  'proportion_of_a_level_types',\n",
       "  'ttr',\n",
       "  'avg_rank_of_lemmas_in_freq_list',\n",
       "  'fernandez_huerta_score',\n",
       "  'syllables_per_sentence',\n",
       "  'SCONJ',\n",
       "  'VERB',\n",
       "  'DET',\n",
       "  'NOUN',\n",
       "  'PUNCT',\n",
       "  'ADP',\n",
       "  'PRON',\n",
       "  'AUX',\n",
       "  'PROPN',\n",
       "  'CCONJ',\n",
       "  'ADJ',\n",
       "  'ADV',\n",
       "  'NUM',\n",
       "  'INTJ',\n",
       "  'SYM',\n",
       "  'PART',\n",
       "  'CONTENT',\n",
       "  'FUNCTION'])"
      ]
     },
     "execution_count": 10,
     "metadata": {},
     "output_type": "execute_result"
    }
   ],
   "source": [
    "ex = corpus[\"B\"][4][\"content\"]\n",
    "pipe.feature_extractor(ex)"
   ]
  }
 ],
 "metadata": {
  "kernelspec": {
   "display_name": "Python 3",
   "language": "python",
   "name": "python3"
  },
  "language_info": {
   "codemirror_mode": {
    "name": "ipython",
    "version": 3
   },
   "file_extension": ".py",
   "mimetype": "text/x-python",
   "name": "python",
   "nbconvert_exporter": "python",
   "pygments_lexer": "ipython3",
   "version": "3.8.3"
  }
 },
 "nbformat": 4,
 "nbformat_minor": 5
}
