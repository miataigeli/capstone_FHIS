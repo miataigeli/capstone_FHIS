{
 "cells": [
  {
   "cell_type": "markdown",
   "id": "prospective-tyler",
   "metadata": {},
   "source": [
    "## Pipeline for Feature Extraction"
   ]
  },
  {
   "cell_type": "code",
   "execution_count": 1,
   "id": "conventional-worth",
   "metadata": {
    "tags": []
   },
   "outputs": [],
   "source": [
    "# !python -m spacy download es_core_news_md"
   ]
  },
  {
   "cell_type": "code",
   "execution_count": 2,
   "id": "increasing-general",
   "metadata": {},
   "outputs": [],
   "source": [
    "from utils import read_corpus"
   ]
  },
  {
   "cell_type": "code",
   "execution_count": 3,
   "id": "fatty-japanese",
   "metadata": {},
   "outputs": [],
   "source": [
    "corpus = read_corpus()"
   ]
  },
  {
   "cell_type": "code",
   "execution_count": 4,
   "id": "happy-minority",
   "metadata": {},
   "outputs": [
    {
     "name": "stdout",
     "output_type": "stream",
     "text": [
      "A1: 94\n",
      "A2: 62\n",
      "B2: 21\n",
      "B: 89\n",
      "B1: 42\n"
     ]
    }
   ],
   "source": [
    "for k, v in corpus.items():\n",
    "    print(f\"{k}: {len(v)}\")"
   ]
  },
  {
   "cell_type": "code",
   "execution_count": 5,
   "id": "alternative-egyptian",
   "metadata": {},
   "outputs": [],
   "source": [
    "from features import feature_pipeline"
   ]
  },
  {
   "cell_type": "code",
   "execution_count": 6,
   "id": "essential-robertson",
   "metadata": {},
   "outputs": [],
   "source": [
    "pipe = feature_pipeline()"
   ]
  },
  {
   "cell_type": "code",
   "execution_count": 7,
   "id": "champion-panic",
   "metadata": {},
   "outputs": [
    {
     "data": {
      "text/plain": [
       "{'total_tokens': 213,\n",
       " 'total_tokens_w/o_stopwords': 86,\n",
       " 'avg_sent_length': 42.6,\n",
       " 'proportion_of_A_level_tokens': 0.23255813953488372,\n",
       " 'proportion_of_A_level_types': 0.24285714285714285,\n",
       " 'num_connectives': 4,\n",
       " 'logical_operator_density': 0.03398058252427184,\n",
       " 'pronoun_density': 0.054455445544554455,\n",
       " 'type_token_ratio': 0.5446009389671361,\n",
       " 'avg_rank_of_lemmas_in_freq_list': 512.0281690140845,\n",
       " 'fernandez_huerta_score': 94.3768994413408,\n",
       " 'syllables_per_sentence': 65.4,\n",
       " 'ADJ': 0.04225352112676056,\n",
       " 'ADP': 0.10328638497652583,\n",
       " 'ADV': 0.023474178403755867,\n",
       " 'AUX': 0.018779342723004695,\n",
       " 'CONJ': 0.0,\n",
       " 'CCONJ': 0.056338028169014086,\n",
       " 'DET': 0.14553990610328638,\n",
       " 'INTJ': 0.0,\n",
       " 'NOUN': 0.22065727699530516,\n",
       " 'NUM': 0.0,\n",
       " 'PART': 0.0,\n",
       " 'PRON': 0.051643192488262914,\n",
       " 'PROPN': 0.04225352112676056,\n",
       " 'PUNCT': 0.1596244131455399,\n",
       " 'SCONJ': 0.056338028169014086,\n",
       " 'SYM': 0.0,\n",
       " 'VERB': 0.07981220657276995,\n",
       " 'X': 0.0,\n",
       " 'EOL': 0.0,\n",
       " 'SPACE': 0.0,\n",
       " 'CONTENT': 0.6089385474860335,\n",
       " 'FUNCTION': 0.39106145251396646}"
      ]
     },
     "execution_count": 7,
     "metadata": {},
     "output_type": "execute_result"
    }
   ],
   "source": [
    "ex = corpus[\"B\"][4][\"content\"]\n",
    "pipe.feature_extractor(ex)"
   ]
  }
 ],
 "metadata": {
  "kernelspec": {
   "display_name": "Python 3",
   "language": "python",
   "name": "python3"
  },
  "language_info": {
   "codemirror_mode": {
    "name": "ipython",
    "version": 3
   },
   "file_extension": ".py",
   "mimetype": "text/x-python",
   "name": "python",
   "nbconvert_exporter": "python",
   "pygments_lexer": "ipython3",
   "version": "3.8.3"
  }
 },
 "nbformat": 4,
 "nbformat_minor": 5
}
