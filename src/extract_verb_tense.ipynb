{
 "cells": [
  {
   "cell_type": "code",
   "execution_count": 1,
   "id": "little-major",
   "metadata": {},
   "outputs": [],
   "source": [
    "from collections import defaultdict\n",
    "from features import feature_pipeline\n",
    "from utils import read_corpus\n",
    "import re\n",
    "import spacy\n",
    "import altair as alt\n",
    "\n",
    "import pandas as pd\n",
    "alt.renderers.enable('mimetype')\n",
    "from IPython.display import Image\n",
    "import plotly.io as pio\n",
    "pio.renderers.default = \"plotly_mimetype\""
   ]
  },
  {
   "cell_type": "markdown",
   "id": "manufactured-fraction",
   "metadata": {},
   "source": [
    "## Verb Tense Feature\n",
    "\n",
    "We generate a new feature which measures the percentage of different types of verb tenses in each text. "
   ]
  },
  {
   "cell_type": "code",
   "execution_count": 21,
   "id": "automated-imagination",
   "metadata": {},
   "outputs": [],
   "source": [
    "def verb_tense(text, pipeline):\n",
    "    '''\n",
    "    This function calculates the distribution of the verb tenses in the text.\n",
    "    There are four verb tenses: Past, Present, Future, Imp.\n",
    "    This function returns a dictionary which shows the distribution of these tenses in the text.\n",
    "    Assumption: Spacy morphology and pos tags are correct. \n",
    "    ---------------------------------------------\n",
    "    Argument: text (str) - text whose verb tenses will be analyzed.\n",
    "              pipeline (feature_pipeline) - feature pipeline class which will be used to get morphology.\n",
    "              \n",
    "    Returns: verb_tense_dist_dict - a dictionary whose keys are tenses (Past, Present, Future, Imp) and values are the percentage of the particular tense / total number of verbs \n",
    "    '''\n",
    "    \n",
    "    keys = ['Fut', 'Imp', 'Past', 'Pres']\n",
    "    regex = r'Tense=([^\\|]+)\\|'\n",
    "    morph_list = pipeline.get_morphology(text)\n",
    "    morph_verbs = [s for s in morph_list if 'Tense' in s]\n",
    "    verb_tense_dict = defaultdict(int)\n",
    "    for s in morph_verbs:\n",
    "        match = re.search(regex, s)\n",
    "        if match:\n",
    "            verb_tense_dict[match.group(1)] += 1\n",
    "            \n",
    "    verb_tense_dist_dict = {}\n",
    "    total = sum(verb_tense_dict.values())\n",
    "    for tense in verb_tense_dict.keys():\n",
    "        verb_tense_dist_dict[tense] = verb_tense_dict[tense]/ total\n",
    "    for key in keys:\n",
    "        if key not in verb_tense_dist_dict.keys():\n",
    "            verb_tense_dist_dict[key] = 0.0\n",
    "    \n",
    "    \n",
    "    return verb_tense_dist_dict"
   ]
  },
  {
   "cell_type": "markdown",
   "id": "physical-scroll",
   "metadata": {},
   "source": [
    "### Example\n",
    "\n",
    "Text: 'Mark está de viaje de negocios en Barcelona. Hoy tuvo un día libre y salió a visitar la ciudad.'\n",
    "(Mark is on a business trip in Barcelona. Today he had a day off and went out to visit the city.)\n",
    "\n",
    "We expect one present tense (Mark is on a business trip) and two past tenses (he had a day off, he went out).\n",
    "Hence, the distribution should be Present Tense: 1/3, Past tense: 2/3."
   ]
  },
  {
   "cell_type": "code",
   "execution_count": 22,
   "id": "considered-theorem",
   "metadata": {},
   "outputs": [
    {
     "data": {
      "text/plain": [
       "{'Pres': 0.3333333333333333,\n",
       " 'Past': 0.6666666666666666,\n",
       " 'Fut': 0.0,\n",
       " 'Imp': 0.0}"
      ]
     },
     "execution_count": 22,
     "metadata": {},
     "output_type": "execute_result"
    }
   ],
   "source": [
    "pipe = feature_pipeline()\n",
    "verb_tense('Mark está de viaje de negocios en Barcelona. Hoy tuvo un día libre y salió a visitar la ciudad.', pipe)"
   ]
  },
  {
   "cell_type": "markdown",
   "id": "standard-consolidation",
   "metadata": {},
   "source": [
    "### Tests\n",
    "\n",
    "### 1. Boundary Cases: no verb in the text"
   ]
  },
  {
   "cell_type": "code",
   "execution_count": 23,
   "id": "attended-break",
   "metadata": {},
   "outputs": [],
   "source": [
    "pipe = feature_pipeline()\n",
    "assert sum(verb_tense('', pipe).values()) == 0\n",
    "assert sum(verb_tense('1. ', pipe).values()) == 0\n",
    "assert sum(verb_tense('Maria', pipe).values()) == 0\n",
    "assert sum(verb_tense('Que hermosa', pipe).values()) == 0"
   ]
  },
  {
   "cell_type": "markdown",
   "id": "anticipated-imagination",
   "metadata": {},
   "source": [
    "### 2. Moderate Length Texts: Problem"
   ]
  },
  {
   "cell_type": "code",
   "execution_count": 24,
   "id": "moved-reggae",
   "metadata": {},
   "outputs": [],
   "source": [
    "text = 'Me llamo María Pérez y tengo diecinueve años. Nací en Málaga, pero vivo en Granada. Soy estudiante de primer curso de Periodismo. De lunes a viernes me levanto a las siete y media, desayuno y camino hasta la universidad. Entro en clase a las nueve y salgo a la una. Al medio día, como en mi casa y veo la televisión. Por la tarde, estudio hasta las siete y después quedo con mis amigas. A nosotras nos gusta mucho el cine, el teatro y la música. Los viernes por la noche cenamos pizza y bailamos en la discoteca. Todos los sábados visito a mi familia en Málaga. El domingo por la tarde regreso a Granada y, si hace sol, salgo con mi perro a dar un paseo. ¡Me encantan los animales!'"
   ]
  },
  {
   "cell_type": "markdown",
   "id": "outer-selling",
   "metadata": {},
   "source": [
    "**English Translation**: My name is María Pérez and I am nineteen years old. I was born in Malaga, but I live in Granada. I am a first year student of Journalism. From Monday to Friday I get up at seven thirty, have breakfast and walk to the university. I enter class at nine and I leave at one. At noon, I eat at home and watch television. In the afternoon, I study until seven and then I meet my friends. We really like cinema, theater and music. On Friday nights we have pizza for dinner and dance at the disco. Every Saturday I visit my family in Malaga. On Sunday afternoon I return to Granada and, if it's sunny, I go out with my dog for a walk. I love the animals!'\n",
    "\n",
    "**Manual Classification of Verbs**: \n",
    "\n",
    "Past: I was born, \n",
    "\n",
    "Present: My name is, I am, I live, I am, I get up, I have breakfast, I walk to , I enter class, I leave, I eat, I study, I meet, We really like, we have, we dance, I visit, I return, it's funny, I go out, I love\n",
    "\n",
    "Test expectation: \n",
    "{Past : 1/11 , Present: 10/11}"
   ]
  },
  {
   "cell_type": "code",
   "execution_count": 25,
   "id": "finished-badge",
   "metadata": {},
   "outputs": [
    {
     "data": {
      "text/plain": [
       "{'Pres': 1.0, 'Fut': 0.0, 'Imp': 0.0, 'Past': 0.0}"
      ]
     },
     "execution_count": 25,
     "metadata": {},
     "output_type": "execute_result"
    }
   ],
   "source": [
    "verb_tense(text, pipe)"
   ]
  },
  {
   "cell_type": "markdown",
   "id": "entitled-register",
   "metadata": {},
   "source": [
    "The function results do not match the expectation because Spacy fails to recognize ```Nací``` as a verb as shown below. "
   ]
  },
  {
   "cell_type": "code",
   "execution_count": 26,
   "id": "previous-clearance",
   "metadata": {},
   "outputs": [],
   "source": [
    "nlp = spacy.load('es_core_news_md')"
   ]
  },
  {
   "cell_type": "code",
   "execution_count": 27,
   "id": "arctic-memphis",
   "metadata": {},
   "outputs": [
    {
     "name": "stdout",
     "output_type": "stream",
     "text": [
      "Nací\n",
      "POS TAG: ['PROPN']\n",
      "morphology: ['PROPN'] \n",
      "\n",
      "Nací en Málaga\n",
      "['PROPN', 'ADP', 'PROPN']\n",
      "morphology: ['PROPN', 'ADP__AdpType=Prep', 'PROPN'] \n",
      "\n",
      "nací en málaga\n",
      "['PROPN', 'ADP', 'PROPN']\n",
      "morphology: ['PROPN', 'ADP__AdpType=Prep', 'PROPN'] \n",
      "\n"
     ]
    }
   ],
   "source": [
    "doc = nlp('Nací')                       # get the pos tag of 'Nací'\n",
    "print(doc.text)\n",
    "print('POS TAG:', [token.pos_ for token in doc])\n",
    "print('morphology:', [token.tag_ for token in doc], '\\n')\n",
    "doc = nlp('Nací en Málaga')\n",
    "print(doc.text)\n",
    "print([token.pos_ for token in doc])\n",
    "print('morphology:', [token.tag_ for token in doc], '\\n')\n",
    "doc = nlp('Nací en Málaga'.lower())\n",
    "print(doc.text)\n",
    "print([token.pos_ for token in doc])\n",
    "print('morphology:', [token.tag_ for token in doc], '\\n')"
   ]
  },
  {
   "cell_type": "markdown",
   "id": "utility-history",
   "metadata": {},
   "source": [
    "## Assumption: \n",
    "\n",
    "Since it is not possible to verify POS tagging and morphology of each token from Spacy, we assume that spacy returns correct tense of verbs.\n",
    "Therefore, we will measure our test results assuming that **Spacy's POS tag and tense is correct for each token** although it is not always true as demonstrated above."
   ]
  },
  {
   "cell_type": "markdown",
   "id": "pressed-metropolitan",
   "metadata": {},
   "source": [
    "### 3. Brute Force vs. Implementation"
   ]
  },
  {
   "cell_type": "code",
   "execution_count": 28,
   "id": "labeled-moderator",
   "metadata": {},
   "outputs": [],
   "source": [
    "def brute_force_verb_tense(text, pipeline):\n",
    "    '''\n",
    "    This function calculates the distribution of the verb tenses in the text using spacy. This function achieves exactly the same purpose as verb_tense function.\n",
    "    This function is written only to test verb_tense function.  \n",
    "    \n",
    "    There are four verb tenses: Past, Present, Future, Imp.\n",
    "    This function returns a dictionary which shows the distribution of these tenses in the text. \n",
    "    Assumption: Spacy post tags and morphology are correct. \n",
    "    ---------------------------------------------\n",
    "    Argument: text (str) - text whose verb tenses will be analyzed.\n",
    "              pipeline (feature_pipeline) - feature pipeline class which will be used to get morphology.\n",
    "              \n",
    "    Returns: verb_tense_dist_dict - a dictionary whose keys are tenses (Past, Present, Future, Imp) and values are the percentage of the particular tense / total number of verbs \n",
    "    '''\n",
    "    pre_text = pipeline.preprocess(text)\n",
    "    doc = nlp(pre_text)\n",
    "    spacy_morph = [token.tag_ for token in doc]\n",
    "    spacy_verb = [s for s in spacy_morph if 'Tense' in s]\n",
    "    pres_verb = [s for s in spacy_verb if 'Pres' in s]\n",
    "    past_verb = [s for s in spacy_verb if 'Past' in s]\n",
    "    future_verb = [s for s in spacy_verb if 'Fut' in s]\n",
    "    imp_verb = [s for s in spacy_verb if 'Imp' in s]\n",
    "\n",
    "    if len(spacy_verb) > 0:\n",
    "        past = len(past_verb) / len(spacy_verb)\n",
    "        pres = len(pres_verb)/len(spacy_verb)\n",
    "        future = len(future_verb) / len(spacy_verb)\n",
    "        imp = len(imp_verb) / len(spacy_verb)\n",
    "        \n",
    "    else:\n",
    "        pres, past, future, imp = 0, 0, 0, 0\n",
    "        \n",
    "    \n",
    "    return {'Fut': future, 'Imp':imp, 'Past':past, 'Pres':pres}"
   ]
  },
  {
   "cell_type": "markdown",
   "id": "unsigned-johns",
   "metadata": {},
   "source": [
    "We now compare brute_force_verb_tense (which uses spacy directly) and compare the verb_tense. "
   ]
  },
  {
   "cell_type": "code",
   "execution_count": 29,
   "id": "random-glossary",
   "metadata": {},
   "outputs": [],
   "source": [
    "tense_list = ['Fut', 'Imp', 'Past', 'Pres']\n",
    "text = 'Mark está de viaje de negocios en Barcelona. Hoy tuvo un día libre y salió a visitar la ciudad.'\n",
    "pipeline = feature_pipeline()\n",
    "spacy_dict = brute_force_verb_tense(text, pipeline)\n",
    "\n",
    "verb_tense_dict = verb_tense(text, pipeline)\n",
    "for tense in tense_list:\n",
    "    assert spacy_dict[tense] == verb_tense_dict[tense]"
   ]
  },
  {
   "cell_type": "markdown",
   "id": "hollow-island",
   "metadata": {},
   "source": [
    "Testing a few items from corpora... "
   ]
  },
  {
   "cell_type": "code",
   "execution_count": 30,
   "id": "manual-network",
   "metadata": {},
   "outputs": [],
   "source": [
    "corpus = read_corpus()"
   ]
  },
  {
   "cell_type": "code",
   "execution_count": 31,
   "id": "broken-bankruptcy",
   "metadata": {},
   "outputs": [],
   "source": [
    "text = corpus['A1'][0]['content']\n",
    "pipeline = feature_pipeline()\n",
    "spacy_dict = brute_force_verb_tense(text, pipeline)\n",
    "\n",
    "verb_tense_dict = verb_tense(text, pipeline)\n",
    "for tense in tense_list:\n",
    "    assert spacy_dict[tense] == verb_tense_dict[tense]"
   ]
  },
  {
   "cell_type": "code",
   "execution_count": 32,
   "id": "toxic-syracuse",
   "metadata": {},
   "outputs": [],
   "source": [
    "text = corpus['A2'][0]['content']\n",
    "pipeline = feature_pipeline()\n",
    "spacy_dict = brute_force_verb_tense(text, pipeline)\n",
    "\n",
    "verb_tense_dict = verb_tense(text, pipeline)\n",
    "for tense in tense_list:\n",
    "    if tense in verb_tense_dict.keys():\n",
    "        assert spacy_dict[tense] == verb_tense_dict[tense]"
   ]
  },
  {
   "cell_type": "code",
   "execution_count": 33,
   "id": "distant-belle",
   "metadata": {},
   "outputs": [],
   "source": [
    "text = corpus['B1'][0]['content']\n",
    "pipeline = feature_pipeline()\n",
    "spacy_dict = brute_force_verb_tense(text, pipeline)\n",
    "\n",
    "verb_tense_dict = verb_tense(text, pipeline)\n",
    "for tense in tense_list:\n",
    "    assert spacy_dict[tense] == verb_tense_dict[tense]"
   ]
  },
  {
   "cell_type": "code",
   "execution_count": 34,
   "id": "surprised-shock",
   "metadata": {},
   "outputs": [],
   "source": [
    "text = corpus['B2'][0]['content']\n",
    "pipeline = feature_pipeline()\n",
    "spacy_dict = brute_force_verb_tense(text, pipeline)\n",
    "\n",
    "verb_tense_dict = verb_tense(text, pipeline)\n",
    "for tense in tense_list:\n",
    "    assert spacy_dict[tense] == verb_tense_dict[tense]"
   ]
  },
  {
   "cell_type": "markdown",
   "id": "split-halifax",
   "metadata": {},
   "source": [
    "## Generate Distribution \n",
    "\n",
    "Now we generate the distribution of verb tenses from each text in the corpora."
   ]
  },
  {
   "cell_type": "code",
   "execution_count": 35,
   "id": "worthy-month",
   "metadata": {},
   "outputs": [],
   "source": [
    "level_list = ['A1', 'A2', 'B1', 'B2']\n",
    "keys = ['Fut', 'Imp', 'Past', 'Pres']\n",
    "level_verb_tense = defaultdict(list)\n",
    "pipeline = feature_pipeline()\n",
    "\n",
    "for level in level_list:\n",
    "    corpus_item = corpus[level]\n",
    "    for i, text_item in enumerate(corpus_item):\n",
    "        try: \n",
    "            verb_tense_dict = verb_tense(text_item['content'], pipeline)      # generate the distribution for each text\n",
    "            level_verb_tense['level'].append(level)        \n",
    "            for key in keys:\n",
    "                level_verb_tense[key].append(verb_tense_dict[key])        # save in the dictionary \n",
    "                \n",
    "        except:\n",
    "            print(\"Error: \", level, i)\n",
    "            pass"
   ]
  },
  {
   "cell_type": "markdown",
   "id": "straight-moscow",
   "metadata": {},
   "source": [
    "### Plots"
   ]
  },
  {
   "cell_type": "markdown",
   "id": "thrown-corps",
   "metadata": {},
   "source": [
    "### Past Tense "
   ]
  },
  {
   "cell_type": "code",
   "execution_count": 36,
   "id": "numerous-nightlife",
   "metadata": {},
   "outputs": [
    {
     "data": {
      "application/vnd.vegalite.v4+json": {
       "$schema": "https://vega.github.io/schema/vega-lite/v4.8.1.json",
       "config": {
        "view": {
         "continuousHeight": 300,
         "continuousWidth": 400
        }
       },
       "data": {
        "name": "data-a46874723513081149dddc40d2b1ff27"
       },
       "datasets": {
        "data-a46874723513081149dddc40d2b1ff27": [
         {
          "Fut": 0,
          "Imp": 0,
          "Past": 0,
          "Pres": 1,
          "level": "A1"
         },
         {
          "Fut": 0,
          "Imp": 0,
          "Past": 0,
          "Pres": 1,
          "level": "A1"
         },
         {
          "Fut": 0,
          "Imp": 0,
          "Past": 0,
          "Pres": 1,
          "level": "A1"
         },
         {
          "Fut": 0,
          "Imp": 0,
          "Past": 0,
          "Pres": 1,
          "level": "A1"
         },
         {
          "Fut": 0,
          "Imp": 0,
          "Past": 0,
          "Pres": 1,
          "level": "A1"
         },
         {
          "Fut": 0,
          "Imp": 0,
          "Past": 0.12962962962962962,
          "Pres": 0.8703703703703703,
          "level": "A1"
         },
         {
          "Fut": 0.036585365853658534,
          "Imp": 0.4268292682926829,
          "Past": 0.2682926829268293,
          "Pres": 0.2682926829268293,
          "level": "A1"
         },
         {
          "Fut": 0,
          "Imp": 0.3597122302158273,
          "Past": 0.49640287769784175,
          "Pres": 0.14388489208633093,
          "level": "A1"
         },
         {
          "Fut": 0.007462686567164179,
          "Imp": 0.23880597014925373,
          "Past": 0.7014925373134329,
          "Pres": 0.05223880597014925,
          "level": "A1"
         },
         {
          "Fut": 0.05555555555555555,
          "Imp": 0.16666666666666666,
          "Past": 0.3888888888888889,
          "Pres": 0.3888888888888889,
          "level": "A1"
         },
         {
          "Fut": 0,
          "Imp": 0.3008849557522124,
          "Past": 0.48672566371681414,
          "Pres": 0.21238938053097345,
          "level": "A1"
         },
         {
          "Fut": 0.12264150943396226,
          "Imp": 0.018867924528301886,
          "Past": 0.3490566037735849,
          "Pres": 0.5094339622641509,
          "level": "A1"
         },
         {
          "Fut": 0.03571428571428571,
          "Imp": 0.23214285714285715,
          "Past": 0.48214285714285715,
          "Pres": 0.25,
          "level": "A1"
         },
         {
          "Fut": 0.06363636363636363,
          "Imp": 0.12121212121212122,
          "Past": 0.49696969696969695,
          "Pres": 0.3181818181818182,
          "level": "A1"
         },
         {
          "Fut": 0.02,
          "Imp": 0.32,
          "Past": 0.46,
          "Pres": 0.2,
          "level": "A1"
         },
         {
          "Fut": 0.012987012987012988,
          "Imp": 0.24675324675324675,
          "Past": 0.33766233766233766,
          "Pres": 0.4025974025974026,
          "level": "A1"
         },
         {
          "Fut": 0.08888888888888889,
          "Imp": 0.21666666666666667,
          "Past": 0.46111111111111114,
          "Pres": 0.23333333333333334,
          "level": "A1"
         },
         {
          "Fut": 0.014285714285714285,
          "Imp": 0.2785714285714286,
          "Past": 0.5428571428571428,
          "Pres": 0.16428571428571428,
          "level": "A1"
         },
         {
          "Fut": 0,
          "Imp": 0.07142857142857142,
          "Past": 0.10714285714285714,
          "Pres": 0.8214285714285714,
          "level": "A1"
         },
         {
          "Fut": 0.05056179775280899,
          "Imp": 0.0898876404494382,
          "Past": 0.38764044943820225,
          "Pres": 0.47191011235955055,
          "level": "A1"
         },
         {
          "Fut": 0.04,
          "Imp": 0.24,
          "Past": 0.32,
          "Pres": 0.4,
          "level": "A1"
         },
         {
          "Fut": 0,
          "Imp": 0.11764705882352941,
          "Past": 0.23529411764705882,
          "Pres": 0.6470588235294118,
          "level": "A1"
         },
         {
          "Fut": 0.041666666666666664,
          "Imp": 0.08333333333333333,
          "Past": 0.125,
          "Pres": 0.75,
          "level": "A1"
         },
         {
          "Fut": 0,
          "Imp": 0,
          "Past": 0.14285714285714285,
          "Pres": 0.8571428571428571,
          "level": "A1"
         },
         {
          "Fut": 0.045454545454545456,
          "Imp": 0.09090909090909091,
          "Past": 0.045454545454545456,
          "Pres": 0.8181818181818182,
          "level": "A1"
         },
         {
          "Fut": 0,
          "Imp": 0,
          "Past": 0.10526315789473684,
          "Pres": 0.8947368421052632,
          "level": "A1"
         },
         {
          "Fut": 0,
          "Imp": 0,
          "Past": 0,
          "Pres": 1,
          "level": "A1"
         },
         {
          "Fut": 0.05263157894736842,
          "Imp": 0,
          "Past": 0,
          "Pres": 0.9473684210526315,
          "level": "A1"
         },
         {
          "Fut": 0,
          "Imp": 0,
          "Past": 0,
          "Pres": 1,
          "level": "A1"
         },
         {
          "Fut": 0,
          "Imp": 0,
          "Past": 0.05405405405405406,
          "Pres": 0.9459459459459459,
          "level": "A1"
         },
         {
          "Fut": 0.09090909090909091,
          "Imp": 0.030303030303030304,
          "Past": 0.21212121212121213,
          "Pres": 0.6666666666666666,
          "level": "A1"
         },
         {
          "Fut": 0,
          "Imp": 0,
          "Past": 0.11764705882352941,
          "Pres": 0.8823529411764706,
          "level": "A1"
         },
         {
          "Fut": 0,
          "Imp": 0,
          "Past": 0.02,
          "Pres": 0.98,
          "level": "A1"
         },
         {
          "Fut": 0,
          "Imp": 0,
          "Past": 0,
          "Pres": 1,
          "level": "A1"
         },
         {
          "Fut": 0,
          "Imp": 0,
          "Past": 0,
          "Pres": 1,
          "level": "A1"
         },
         {
          "Fut": 0,
          "Imp": 0,
          "Past": 0,
          "Pres": 1,
          "level": "A1"
         },
         {
          "Fut": 0,
          "Imp": 0,
          "Past": 0,
          "Pres": 1,
          "level": "A1"
         },
         {
          "Fut": 0.034482758620689655,
          "Imp": 0,
          "Past": 0,
          "Pres": 0.9655172413793104,
          "level": "A1"
         },
         {
          "Fut": 0,
          "Imp": 0,
          "Past": 0,
          "Pres": 1,
          "level": "A1"
         },
         {
          "Fut": 0,
          "Imp": 0,
          "Past": 0.037037037037037035,
          "Pres": 0.9629629629629629,
          "level": "A1"
         },
         {
          "Fut": 0,
          "Imp": 0,
          "Past": 0,
          "Pres": 1,
          "level": "A1"
         },
         {
          "Fut": 0,
          "Imp": 0,
          "Past": 0.1,
          "Pres": 0.9,
          "level": "A1"
         },
         {
          "Fut": 0,
          "Imp": 0,
          "Past": 0,
          "Pres": 1,
          "level": "A1"
         },
         {
          "Fut": 0,
          "Imp": 0,
          "Past": 0.046511627906976744,
          "Pres": 0.9534883720930233,
          "level": "A1"
         },
         {
          "Fut": 0,
          "Imp": 0,
          "Past": 0,
          "Pres": 1,
          "level": "A1"
         },
         {
          "Fut": 0.25,
          "Imp": 0,
          "Past": 0,
          "Pres": 0.75,
          "level": "A1"
         },
         {
          "Fut": 0,
          "Imp": 0,
          "Past": 0,
          "Pres": 1,
          "level": "A1"
         },
         {
          "Fut": 0.21052631578947367,
          "Imp": 0,
          "Past": 0,
          "Pres": 0.7894736842105263,
          "level": "A1"
         },
         {
          "Fut": 0,
          "Imp": 0,
          "Past": 0.040697674418604654,
          "Pres": 0.9593023255813954,
          "level": "A1"
         },
         {
          "Fut": 0,
          "Imp": 0,
          "Past": 0.010526315789473684,
          "Pres": 0.9894736842105263,
          "level": "A1"
         },
         {
          "Fut": 0.0064516129032258064,
          "Imp": 0,
          "Past": 0.04516129032258064,
          "Pres": 0.9483870967741935,
          "level": "A1"
         },
         {
          "Fut": 0,
          "Imp": 0,
          "Past": 0.024390243902439025,
          "Pres": 0.975609756097561,
          "level": "A1"
         },
         {
          "Fut": 0,
          "Imp": 0.0037313432835820895,
          "Past": 0.11940298507462686,
          "Pres": 0.8768656716417911,
          "level": "A1"
         },
         {
          "Fut": 0,
          "Imp": 0,
          "Past": 0.03205128205128205,
          "Pres": 0.967948717948718,
          "level": "A1"
         },
         {
          "Fut": 0,
          "Imp": 0,
          "Past": 0.07471264367816093,
          "Pres": 0.9252873563218391,
          "level": "A1"
         },
         {
          "Fut": 0,
          "Imp": 0,
          "Past": 0.085,
          "Pres": 0.915,
          "level": "A1"
         },
         {
          "Fut": 0,
          "Imp": 0.004739336492890996,
          "Past": 0.052132701421800945,
          "Pres": 0.943127962085308,
          "level": "A1"
         },
         {
          "Fut": 0,
          "Imp": 0,
          "Past": 0.08403361344537816,
          "Pres": 0.9159663865546218,
          "level": "A1"
         },
         {
          "Fut": 0.003861003861003861,
          "Imp": 0,
          "Past": 0.04247104247104247,
          "Pres": 0.9536679536679536,
          "level": "A1"
         },
         {
          "Fut": 0.004329004329004329,
          "Imp": 0.008658008658008658,
          "Past": 0.09956709956709957,
          "Pres": 0.8874458874458875,
          "level": "A1"
         },
         {
          "Fut": 0.0038910505836575876,
          "Imp": 0,
          "Past": 0.054474708171206226,
          "Pres": 0.9416342412451362,
          "level": "A1"
         },
         {
          "Fut": 0,
          "Imp": 0.061855670103092786,
          "Past": 0.1958762886597938,
          "Pres": 0.7422680412371134,
          "level": "A1"
         },
         {
          "Fut": 0.010362694300518135,
          "Imp": 0.015544041450777202,
          "Past": 0.03626943005181347,
          "Pres": 0.9378238341968912,
          "level": "A1"
         },
         {
          "Fut": 0.01694915254237288,
          "Imp": 0.006779661016949152,
          "Past": 0.05423728813559322,
          "Pres": 0.9220338983050848,
          "level": "A1"
         },
         {
          "Fut": 0.011299435028248588,
          "Imp": 0.005649717514124294,
          "Past": 0.07909604519774012,
          "Pres": 0.903954802259887,
          "level": "A1"
         },
         {
          "Fut": 0.023166023166023165,
          "Imp": 0.019305019305019305,
          "Past": 0.06563706563706563,
          "Pres": 0.8918918918918919,
          "level": "A1"
         },
         {
          "Fut": 0.03896103896103896,
          "Imp": 0.025974025974025976,
          "Past": 0.09090909090909091,
          "Pres": 0.8441558441558441,
          "level": "A1"
         },
         {
          "Fut": 0,
          "Imp": 0.013333333333333334,
          "Past": 0.02666666666666667,
          "Pres": 0.96,
          "level": "A1"
         },
         {
          "Fut": 0.017391304347826087,
          "Imp": 0.008695652173913044,
          "Past": 0.10434782608695652,
          "Pres": 0.8695652173913043,
          "level": "A1"
         },
         {
          "Fut": 0.01818181818181818,
          "Imp": 0.007272727272727273,
          "Past": 0.08727272727272728,
          "Pres": 0.8872727272727273,
          "level": "A1"
         },
         {
          "Fut": 0,
          "Imp": 0,
          "Past": 0.091324200913242,
          "Pres": 0.908675799086758,
          "level": "A1"
         },
         {
          "Fut": 0.014285714285714285,
          "Imp": 0,
          "Past": 0.06428571428571428,
          "Pres": 0.9214285714285714,
          "level": "A1"
         },
         {
          "Fut": 0,
          "Imp": 0.016129032258064516,
          "Past": 0.04838709677419355,
          "Pres": 0.9354838709677419,
          "level": "A1"
         },
         {
          "Fut": 0.015151515151515152,
          "Imp": 0,
          "Past": 0.15151515151515152,
          "Pres": 0.8333333333333334,
          "level": "A1"
         },
         {
          "Fut": 0.017241379310344827,
          "Imp": 0.017241379310344827,
          "Past": 0.06896551724137931,
          "Pres": 0.896551724137931,
          "level": "A1"
         },
         {
          "Fut": 0.015625,
          "Imp": 0.0078125,
          "Past": 0.1015625,
          "Pres": 0.875,
          "level": "A1"
         },
         {
          "Fut": 0,
          "Imp": 0.02564102564102564,
          "Past": 0.1794871794871795,
          "Pres": 0.7948717948717948,
          "level": "A1"
         },
         {
          "Fut": 0.024390243902439025,
          "Imp": 0,
          "Past": 0.07317073170731707,
          "Pres": 0.9024390243902439,
          "level": "A1"
         },
         {
          "Fut": 0,
          "Imp": 0,
          "Past": 0.0425531914893617,
          "Pres": 0.9574468085106383,
          "level": "A1"
         },
         {
          "Fut": 0.029411764705882353,
          "Imp": 0.014705882352941176,
          "Past": 0.1323529411764706,
          "Pres": 0.8235294117647058,
          "level": "A1"
         },
         {
          "Fut": 0,
          "Imp": 0.16591928251121077,
          "Past": 0.22869955156950672,
          "Pres": 0.6053811659192825,
          "level": "A1"
         },
         {
          "Fut": 0.00423728813559322,
          "Imp": 0.046610169491525424,
          "Past": 0.07627118644067797,
          "Pres": 0.8728813559322034,
          "level": "A1"
         },
         {
          "Fut": 0.01818181818181818,
          "Imp": 0.00909090909090909,
          "Past": 0.10909090909090909,
          "Pres": 0.8636363636363636,
          "level": "A1"
         },
         {
          "Fut": 0.007462686567164179,
          "Imp": 0,
          "Past": 0.04477611940298507,
          "Pres": 0.9477611940298507,
          "level": "A1"
         },
         {
          "Fut": 0,
          "Imp": 0.006493506493506494,
          "Past": 0.032467532467532464,
          "Pres": 0.961038961038961,
          "level": "A1"
         },
         {
          "Fut": 0,
          "Imp": 0.0319634703196347,
          "Past": 0.1187214611872146,
          "Pres": 0.8493150684931506,
          "level": "A1"
         },
         {
          "Fut": 0.006369426751592357,
          "Imp": 0.009554140127388535,
          "Past": 0.09235668789808917,
          "Pres": 0.89171974522293,
          "level": "A1"
         },
         {
          "Fut": 0,
          "Imp": 0.019138755980861243,
          "Past": 0.11483253588516747,
          "Pres": 0.8660287081339713,
          "level": "A1"
         },
         {
          "Fut": 0.013513513513513514,
          "Imp": 0.08783783783783784,
          "Past": 0.17567567567567569,
          "Pres": 0.722972972972973,
          "level": "A1"
         },
         {
          "Fut": 0,
          "Imp": 0.009900990099009901,
          "Past": 0.06930693069306931,
          "Pres": 0.9207920792079208,
          "level": "A1"
         },
         {
          "Fut": 0,
          "Imp": 0,
          "Past": 0.17647058823529413,
          "Pres": 0.8235294117647058,
          "level": "A1"
         },
         {
          "Fut": 0.041666666666666664,
          "Imp": 0,
          "Past": 0.041666666666666664,
          "Pres": 0.9166666666666666,
          "level": "A1"
         },
         {
          "Fut": 0,
          "Imp": 0,
          "Past": 0.09523809523809523,
          "Pres": 0.9047619047619048,
          "level": "A1"
         },
         {
          "Fut": 0,
          "Imp": 0,
          "Past": 0.3333333333333333,
          "Pres": 0.6666666666666666,
          "level": "A1"
         },
         {
          "Fut": 0,
          "Imp": 0.481981981981982,
          "Past": 0.33783783783783783,
          "Pres": 0.18018018018018017,
          "level": "A2"
         },
         {
          "Fut": 0.018656716417910446,
          "Imp": 0.4291044776119403,
          "Past": 0.33955223880597013,
          "Pres": 0.2126865671641791,
          "level": "A2"
         },
         {
          "Fut": 0.009966777408637873,
          "Imp": 0.49169435215946844,
          "Past": 0.34219269102990035,
          "Pres": 0.15614617940199335,
          "level": "A2"
         },
         {
          "Fut": 0.03142857142857143,
          "Imp": 0.24571428571428572,
          "Past": 0.3485714285714286,
          "Pres": 0.3742857142857143,
          "level": "A2"
         },
         {
          "Fut": 0.025210084033613446,
          "Imp": 0.33613445378151263,
          "Past": 0.35714285714285715,
          "Pres": 0.2815126050420168,
          "level": "A2"
         },
         {
          "Fut": 0.02178649237472767,
          "Imp": 0.3137254901960784,
          "Past": 0.3769063180827887,
          "Pres": 0.2875816993464052,
          "level": "A2"
         },
         {
          "Fut": 0.02922077922077922,
          "Imp": 0.11038961038961038,
          "Past": 0.2662337662337662,
          "Pres": 0.5941558441558441,
          "level": "A2"
         },
         {
          "Fut": 0.0425531914893617,
          "Imp": 0.19148936170212766,
          "Past": 0.3404255319148936,
          "Pres": 0.425531914893617,
          "level": "A2"
         },
         {
          "Fut": 0.016483516483516484,
          "Imp": 0.09340659340659341,
          "Past": 0.28296703296703296,
          "Pres": 0.6071428571428571,
          "level": "A2"
         },
         {
          "Fut": 0,
          "Imp": 0,
          "Past": 0.05555555555555555,
          "Pres": 0.9444444444444444,
          "level": "A2"
         },
         {
          "Fut": 0,
          "Imp": 0,
          "Past": 0.041666666666666664,
          "Pres": 0.9583333333333334,
          "level": "A2"
         },
         {
          "Fut": 0.15151515151515152,
          "Imp": 0.06060606060606061,
          "Past": 0.18181818181818182,
          "Pres": 0.6060606060606061,
          "level": "A2"
         },
         {
          "Fut": 0.023255813953488372,
          "Imp": 0.046511627906976744,
          "Past": 0.09302325581395349,
          "Pres": 0.8372093023255814,
          "level": "A2"
         },
         {
          "Fut": 0.047619047619047616,
          "Imp": 0.047619047619047616,
          "Past": 0.09523809523809523,
          "Pres": 0.8095238095238095,
          "level": "A2"
         },
         {
          "Fut": 0,
          "Imp": 0,
          "Past": 0.1388888888888889,
          "Pres": 0.8611111111111112,
          "level": "A2"
         },
         {
          "Fut": 0,
          "Imp": 0,
          "Past": 0.16666666666666666,
          "Pres": 0.8333333333333334,
          "level": "A2"
         },
         {
          "Fut": 0,
          "Imp": 0.03571428571428571,
          "Past": 0.14285714285714285,
          "Pres": 0.8214285714285714,
          "level": "A2"
         },
         {
          "Fut": 0,
          "Imp": 0,
          "Past": 0,
          "Pres": 1,
          "level": "A2"
         },
         {
          "Fut": 0,
          "Imp": 0,
          "Past": 0.6896551724137931,
          "Pres": 0.3103448275862069,
          "level": "A2"
         },
         {
          "Fut": 0,
          "Imp": 0.36,
          "Past": 0.46,
          "Pres": 0.18,
          "level": "A2"
         },
         {
          "Fut": 0,
          "Imp": 0,
          "Past": 0.03571428571428571,
          "Pres": 0.9642857142857143,
          "level": "A2"
         },
         {
          "Fut": 0,
          "Imp": 0.1,
          "Past": 0.6,
          "Pres": 0.3,
          "level": "A2"
         },
         {
          "Fut": 0.02631578947368421,
          "Imp": 0.23684210526315788,
          "Past": 0.5263157894736842,
          "Pres": 0.21052631578947367,
          "level": "A2"
         },
         {
          "Fut": 0.23076923076923078,
          "Imp": 0,
          "Past": 0.23076923076923078,
          "Pres": 0.5384615384615384,
          "level": "A2"
         },
         {
          "Fut": 0.034482758620689655,
          "Imp": 0.06896551724137931,
          "Past": 0.4482758620689655,
          "Pres": 0.4482758620689655,
          "level": "A2"
         },
         {
          "Fut": 0.17391304347826086,
          "Imp": 0.13043478260869565,
          "Past": 0.4782608695652174,
          "Pres": 0.21739130434782608,
          "level": "A2"
         },
         {
          "Fut": 0.16666666666666666,
          "Imp": 0.2222222222222222,
          "Past": 0.2222222222222222,
          "Pres": 0.3888888888888889,
          "level": "A2"
         },
         {
          "Fut": 0,
          "Imp": 0.10526315789473684,
          "Past": 0.5789473684210527,
          "Pres": 0.3157894736842105,
          "level": "A2"
         },
         {
          "Fut": 0.07407407407407407,
          "Imp": 0,
          "Past": 0.2222222222222222,
          "Pres": 0.7037037037037037,
          "level": "A2"
         },
         {
          "Fut": 0,
          "Imp": 0.125,
          "Past": 0.375,
          "Pres": 0.5,
          "level": "A2"
         },
         {
          "Fut": 0,
          "Imp": 0.14285714285714285,
          "Past": 0.7857142857142857,
          "Pres": 0.07142857142857142,
          "level": "A2"
         },
         {
          "Fut": 0.21428571428571427,
          "Imp": 0,
          "Past": 0.14285714285714285,
          "Pres": 0.6428571428571429,
          "level": "A2"
         },
         {
          "Fut": 0,
          "Imp": 0.038461538461538464,
          "Past": 0.038461538461538464,
          "Pres": 0.9230769230769231,
          "level": "A2"
         },
         {
          "Fut": 0.007518796992481203,
          "Imp": 0.14285714285714285,
          "Past": 0.5639097744360902,
          "Pres": 0.2857142857142857,
          "level": "A2"
         },
         {
          "Fut": 0,
          "Imp": 0,
          "Past": 0,
          "Pres": 1,
          "level": "A2"
         },
         {
          "Fut": 0,
          "Imp": 0.029411764705882353,
          "Past": 0.08823529411764706,
          "Pres": 0.8823529411764706,
          "level": "A2"
         },
         {
          "Fut": 0.07575757575757576,
          "Imp": 0.12121212121212122,
          "Past": 0.2727272727272727,
          "Pres": 0.5303030303030303,
          "level": "A2"
         },
         {
          "Fut": 0.03773584905660377,
          "Imp": 0.07547169811320754,
          "Past": 0.5660377358490566,
          "Pres": 0.32075471698113206,
          "level": "A2"
         },
         {
          "Fut": 0.03225806451612903,
          "Imp": 0.16129032258064516,
          "Past": 0.5483870967741935,
          "Pres": 0.25806451612903225,
          "level": "A2"
         },
         {
          "Fut": 0,
          "Imp": 0,
          "Past": 0,
          "Pres": 1,
          "level": "A2"
         },
         {
          "Fut": 0.14,
          "Imp": 0.06,
          "Past": 0.44,
          "Pres": 0.36,
          "level": "A2"
         },
         {
          "Fut": 0.043478260869565216,
          "Imp": 0.32608695652173914,
          "Past": 0.2826086956521739,
          "Pres": 0.34782608695652173,
          "level": "A2"
         },
         {
          "Fut": 0,
          "Imp": 0,
          "Past": 0,
          "Pres": 1,
          "level": "A2"
         },
         {
          "Fut": 0,
          "Imp": 0.034482758620689655,
          "Past": 0.3103448275862069,
          "Pres": 0.6551724137931034,
          "level": "A2"
         },
         {
          "Fut": 0.03802281368821293,
          "Imp": 0.17110266159695817,
          "Past": 0.44106463878326996,
          "Pres": 0.34980988593155893,
          "level": "A2"
         },
         {
          "Fut": 0.04838709677419355,
          "Imp": 0.28225806451612906,
          "Past": 0.33064516129032256,
          "Pres": 0.3387096774193548,
          "level": "A2"
         },
         {
          "Fut": 0.024390243902439025,
          "Imp": 0.21951219512195122,
          "Past": 0.5121951219512195,
          "Pres": 0.24390243902439024,
          "level": "A2"
         },
         {
          "Fut": 0.10526315789473684,
          "Imp": 0,
          "Past": 0,
          "Pres": 0.8947368421052632,
          "level": "A2"
         },
         {
          "Fut": 0.020689655172413793,
          "Imp": 0.42758620689655175,
          "Past": 0.3793103448275862,
          "Pres": 0.1724137931034483,
          "level": "A2"
         },
         {
          "Fut": 0,
          "Imp": 0.25,
          "Past": 0.6097560975609756,
          "Pres": 0.1402439024390244,
          "level": "A2"
         },
         {
          "Fut": 0.04081632653061224,
          "Imp": 0.30612244897959184,
          "Past": 0.3673469387755102,
          "Pres": 0.2857142857142857,
          "level": "A2"
         },
         {
          "Fut": 0.02564102564102564,
          "Imp": 0.01282051282051282,
          "Past": 0.08974358974358974,
          "Pres": 0.8717948717948718,
          "level": "A2"
         },
         {
          "Fut": 0.0078125,
          "Imp": 0,
          "Past": 0.09375,
          "Pres": 0.8984375,
          "level": "A2"
         },
         {
          "Fut": 0.009900990099009901,
          "Imp": 0.009900990099009901,
          "Past": 0.0297029702970297,
          "Pres": 0.9504950495049505,
          "level": "A2"
         },
         {
          "Fut": 0.03731343283582089,
          "Imp": 0.03731343283582089,
          "Past": 0.13432835820895522,
          "Pres": 0.7910447761194029,
          "level": "A2"
         },
         {
          "Fut": 0,
          "Imp": 0.0136986301369863,
          "Past": 0.0684931506849315,
          "Pres": 0.9178082191780822,
          "level": "A2"
         },
         {
          "Fut": 0,
          "Imp": 0.03125,
          "Past": 0.046875,
          "Pres": 0.921875,
          "level": "A2"
         },
         {
          "Fut": 0,
          "Imp": 0.013333333333333334,
          "Past": 0.04,
          "Pres": 0.9466666666666667,
          "level": "A2"
         },
         {
          "Fut": 0.046632124352331605,
          "Imp": 0.031088082901554404,
          "Past": 0.09844559585492228,
          "Pres": 0.8238341968911918,
          "level": "A2"
         },
         {
          "Fut": 0.007194244604316547,
          "Imp": 0.02877697841726619,
          "Past": 0.06474820143884892,
          "Pres": 0.8992805755395683,
          "level": "A2"
         },
         {
          "Fut": 0.013793103448275862,
          "Imp": 0.041379310344827586,
          "Past": 0.07586206896551724,
          "Pres": 0.8689655172413793,
          "level": "A2"
         },
         {
          "Fut": 0.02564102564102564,
          "Imp": 0.04487179487179487,
          "Past": 0.14102564102564102,
          "Pres": 0.7884615384615384,
          "level": "A2"
         },
         {
          "Fut": 0,
          "Imp": 0.09523809523809523,
          "Past": 0.8571428571428571,
          "Pres": 0.047619047619047616,
          "level": "B1"
         },
         {
          "Fut": 0.18518518518518517,
          "Imp": 0,
          "Past": 0,
          "Pres": 0.8148148148148148,
          "level": "B1"
         },
         {
          "Fut": 0,
          "Imp": 0,
          "Past": 0,
          "Pres": 1,
          "level": "B1"
         },
         {
          "Fut": 0.027777777777777776,
          "Imp": 0.027777777777777776,
          "Past": 0.2222222222222222,
          "Pres": 0.7222222222222222,
          "level": "B1"
         },
         {
          "Fut": 0,
          "Imp": 0,
          "Past": 0.16129032258064516,
          "Pres": 0.8387096774193549,
          "level": "B1"
         },
         {
          "Fut": 0,
          "Imp": 0.038461538461538464,
          "Past": 0,
          "Pres": 0.9615384615384616,
          "level": "B1"
         },
         {
          "Fut": 0,
          "Imp": 0,
          "Past": 0,
          "Pres": 1,
          "level": "B1"
         },
         {
          "Fut": 0,
          "Imp": 0.2608695652173913,
          "Past": 0.4782608695652174,
          "Pres": 0.2608695652173913,
          "level": "B1"
         },
         {
          "Fut": 0,
          "Imp": 0,
          "Past": 0.047619047619047616,
          "Pres": 0.9523809523809523,
          "level": "B1"
         },
         {
          "Fut": 0,
          "Imp": 0,
          "Past": 0,
          "Pres": 1,
          "level": "B1"
         },
         {
          "Fut": 0.2222222222222222,
          "Imp": 0.1111111111111111,
          "Past": 0.3333333333333333,
          "Pres": 0.3333333333333333,
          "level": "B1"
         },
         {
          "Fut": 0.03543307086614173,
          "Imp": 0.11023622047244094,
          "Past": 0.42913385826771655,
          "Pres": 0.4251968503937008,
          "level": "B1"
         },
         {
          "Fut": 0.0427807486631016,
          "Imp": 0.3689839572192513,
          "Past": 0.3689839572192513,
          "Pres": 0.2192513368983957,
          "level": "B1"
         },
         {
          "Fut": 0,
          "Imp": 0.4084507042253521,
          "Past": 0.4507042253521127,
          "Pres": 0.14084507042253522,
          "level": "B1"
         },
         {
          "Fut": 0,
          "Imp": 0.36585365853658536,
          "Past": 0.4268292682926829,
          "Pres": 0.2073170731707317,
          "level": "B1"
         },
         {
          "Fut": 0.0045871559633027525,
          "Imp": 0.3073394495412844,
          "Past": 0.46788990825688076,
          "Pres": 0.22018348623853212,
          "level": "B1"
         },
         {
          "Fut": 0,
          "Imp": 0.36363636363636365,
          "Past": 0.36363636363636365,
          "Pres": 0.2727272727272727,
          "level": "B1"
         },
         {
          "Fut": 0.011904761904761904,
          "Imp": 0.40476190476190477,
          "Past": 0.43452380952380953,
          "Pres": 0.1488095238095238,
          "level": "B1"
         },
         {
          "Fut": 0.012987012987012988,
          "Imp": 0.03896103896103896,
          "Past": 0.16883116883116883,
          "Pres": 0.7792207792207793,
          "level": "B1"
         },
         {
          "Fut": 0.011627906976744186,
          "Imp": 0.03488372093023256,
          "Past": 0.03488372093023256,
          "Pres": 0.9186046511627907,
          "level": "B1"
         },
         {
          "Fut": 0.02072538860103627,
          "Imp": 0.32642487046632124,
          "Past": 0.40932642487046633,
          "Pres": 0.24352331606217617,
          "level": "B1"
         },
         {
          "Fut": 0.0106951871657754,
          "Imp": 0.40641711229946526,
          "Past": 0.4385026737967914,
          "Pres": 0.1443850267379679,
          "level": "B1"
         },
         {
          "Fut": 0.057692307692307696,
          "Imp": 0.2548076923076923,
          "Past": 0.3269230769230769,
          "Pres": 0.3605769230769231,
          "level": "B1"
         },
         {
          "Fut": 0.010810810810810811,
          "Imp": 0.3054054054054054,
          "Past": 0.45135135135135135,
          "Pres": 0.23243243243243245,
          "level": "B1"
         },
         {
          "Fut": 0.008849557522123894,
          "Imp": 0.49557522123893805,
          "Past": 0.336283185840708,
          "Pres": 0.1592920353982301,
          "level": "B1"
         },
         {
          "Fut": 0.023575638506876228,
          "Imp": 0.3182711198428291,
          "Past": 0.40471512770137524,
          "Pres": 0.25343811394891946,
          "level": "B1"
         },
         {
          "Fut": 0.04572564612326044,
          "Imp": 0.21669980119284293,
          "Past": 0.2783300198807157,
          "Pres": 0.4592445328031809,
          "level": "B1"
         },
         {
          "Fut": 0.010025062656641603,
          "Imp": 0.3082706766917293,
          "Past": 0.23558897243107768,
          "Pres": 0.44611528822055135,
          "level": "B1"
         },
         {
          "Fut": 0.012096774193548387,
          "Imp": 0.32661290322580644,
          "Past": 0.33064516129032256,
          "Pres": 0.33064516129032256,
          "level": "B1"
         },
         {
          "Fut": 0.047619047619047616,
          "Imp": 0.09523809523809523,
          "Past": 0.047619047619047616,
          "Pres": 0.8095238095238095,
          "level": "B1"
         },
         {
          "Fut": 0,
          "Imp": 0.125,
          "Past": 0.25,
          "Pres": 0.625,
          "level": "B1"
         },
         {
          "Fut": 0,
          "Imp": 0.25,
          "Past": 0.125,
          "Pres": 0.625,
          "level": "B1"
         },
         {
          "Fut": 0,
          "Imp": 0,
          "Past": 0.09090909090909091,
          "Pres": 0.9090909090909091,
          "level": "B1"
         },
         {
          "Fut": 0,
          "Imp": 0,
          "Past": 0.3333333333333333,
          "Pres": 0.6666666666666666,
          "level": "B1"
         },
         {
          "Fut": 0.05555555555555555,
          "Imp": 0.5555555555555556,
          "Past": 0.2222222222222222,
          "Pres": 0.16666666666666666,
          "level": "B1"
         },
         {
          "Fut": 0.057692307692307696,
          "Imp": 0,
          "Past": 0.07692307692307693,
          "Pres": 0.8653846153846154,
          "level": "B1"
         },
         {
          "Fut": 0.05555555555555555,
          "Imp": 0,
          "Past": 0.05555555555555555,
          "Pres": 0.8888888888888888,
          "level": "B1"
         },
         {
          "Fut": 0,
          "Imp": 0,
          "Past": 0.2857142857142857,
          "Pres": 0.7142857142857143,
          "level": "B1"
         },
         {
          "Fut": 0,
          "Imp": 0,
          "Past": 0.07692307692307693,
          "Pres": 0.9230769230769231,
          "level": "B1"
         },
         {
          "Fut": 0,
          "Imp": 0.14285714285714285,
          "Past": 0.2857142857142857,
          "Pres": 0.5714285714285714,
          "level": "B1"
         },
         {
          "Fut": 0,
          "Imp": 0,
          "Past": 0,
          "Pres": 1,
          "level": "B1"
         },
         {
          "Fut": 0.6,
          "Imp": 0.13333333333333333,
          "Past": 0.13333333333333333,
          "Pres": 0.13333333333333333,
          "level": "B1"
         },
         {
          "Fut": 0.03018867924528302,
          "Imp": 0.33962264150943394,
          "Past": 0.44150943396226416,
          "Pres": 0.18867924528301888,
          "level": "B2"
         },
         {
          "Fut": 0.04189944134078212,
          "Imp": 0.16759776536312848,
          "Past": 0.22905027932960895,
          "Pres": 0.5614525139664804,
          "level": "B2"
         },
         {
          "Fut": 0,
          "Imp": 0.32558139534883723,
          "Past": 0.36627906976744184,
          "Pres": 0.3081395348837209,
          "level": "B2"
         },
         {
          "Fut": 0.058823529411764705,
          "Imp": 0.23529411764705882,
          "Past": 0.11764705882352941,
          "Pres": 0.5882352941176471,
          "level": "B2"
         },
         {
          "Fut": 0.01818181818181818,
          "Imp": 0.4446280991735537,
          "Past": 0.3074380165289256,
          "Pres": 0.22975206611570248,
          "level": "B2"
         },
         {
          "Fut": 0.007692307692307693,
          "Imp": 0.21153846153846154,
          "Past": 0.6653846153846154,
          "Pres": 0.11538461538461539,
          "level": "B2"
         },
         {
          "Fut": 0,
          "Imp": 0,
          "Past": 0.07692307692307693,
          "Pres": 0.9230769230769231,
          "level": "B2"
         },
         {
          "Fut": 0.013215859030837005,
          "Imp": 0.11013215859030837,
          "Past": 0.15859030837004406,
          "Pres": 0.7180616740088106,
          "level": "B2"
         },
         {
          "Fut": 0.06976744186046512,
          "Imp": 0.13953488372093023,
          "Past": 0.16279069767441862,
          "Pres": 0.627906976744186,
          "level": "B2"
         },
         {
          "Fut": 0,
          "Imp": 0,
          "Past": 0,
          "Pres": 1,
          "level": "B2"
         },
         {
          "Fut": 0.09803921568627451,
          "Imp": 0.13725490196078433,
          "Past": 0.18627450980392157,
          "Pres": 0.5784313725490197,
          "level": "B2"
         },
         {
          "Fut": 0.036036036036036036,
          "Imp": 0.32732732732732733,
          "Past": 0.3123123123123123,
          "Pres": 0.32432432432432434,
          "level": "B2"
         },
         {
          "Fut": 0.010752688172043012,
          "Imp": 0.3655913978494624,
          "Past": 0.41935483870967744,
          "Pres": 0.20430107526881722,
          "level": "B2"
         },
         {
          "Fut": 0.047619047619047616,
          "Imp": 0.0663265306122449,
          "Past": 0.21768707482993196,
          "Pres": 0.6683673469387755,
          "level": "B2"
         },
         {
          "Fut": 0.04804804804804805,
          "Imp": 0.07807807807807808,
          "Past": 0.3003003003003003,
          "Pres": 0.5735735735735735,
          "level": "B2"
         },
         {
          "Fut": 0,
          "Imp": 0.020833333333333332,
          "Past": 0.125,
          "Pres": 0.8541666666666666,
          "level": "B2"
         },
         {
          "Fut": 0.046511627906976744,
          "Imp": 0.2558139534883721,
          "Past": 0.5348837209302325,
          "Pres": 0.16279069767441862,
          "level": "B2"
         },
         {
          "Fut": 0.014705882352941176,
          "Imp": 0.04411764705882353,
          "Past": 0.19117647058823528,
          "Pres": 0.75,
          "level": "B2"
         },
         {
          "Fut": 0.028089887640449437,
          "Imp": 0.2808988764044944,
          "Past": 0.3258426966292135,
          "Pres": 0.3651685393258427,
          "level": "B2"
         },
         {
          "Fut": 0,
          "Imp": 0.07142857142857142,
          "Past": 0.5,
          "Pres": 0.42857142857142855,
          "level": "B2"
         },
         {
          "Fut": 0.05,
          "Imp": 0.07352941176470588,
          "Past": 0.1323529411764706,
          "Pres": 0.7441176470588236,
          "level": "B2"
         },
         {
          "Fut": 0.02,
          "Imp": 0.36,
          "Past": 0.06,
          "Pres": 0.56,
          "level": "B2"
         },
         {
          "Fut": 0.05555555555555555,
          "Imp": 0.16666666666666666,
          "Past": 0.16666666666666666,
          "Pres": 0.6111111111111112,
          "level": "B2"
         },
         {
          "Fut": 0,
          "Imp": 0,
          "Past": 0,
          "Pres": 1,
          "level": "B2"
         },
         {
          "Fut": 0,
          "Imp": 0.09090909090909091,
          "Past": 0.5151515151515151,
          "Pres": 0.3939393939393939,
          "level": "B2"
         },
         {
          "Fut": 0,
          "Imp": 0.3684210526315789,
          "Past": 0,
          "Pres": 0.631578947368421,
          "level": "B2"
         },
         {
          "Fut": 0,
          "Imp": 0.1111111111111111,
          "Past": 0,
          "Pres": 0.8888888888888888,
          "level": "B2"
         },
         {
          "Fut": 0,
          "Imp": 0.14285714285714285,
          "Past": 0,
          "Pres": 0.8571428571428571,
          "level": "B2"
         },
         {
          "Fut": 0,
          "Imp": 0.04,
          "Past": 0.12,
          "Pres": 0.84,
          "level": "B2"
         },
         {
          "Fut": 0,
          "Imp": 0.42857142857142855,
          "Past": 0,
          "Pres": 0.5714285714285714,
          "level": "B2"
         },
         {
          "Fut": 0,
          "Imp": 0.05555555555555555,
          "Past": 0.05555555555555555,
          "Pres": 0.8888888888888888,
          "level": "B2"
         },
         {
          "Fut": 0.2,
          "Imp": 0.2,
          "Past": 0.3,
          "Pres": 0.3,
          "level": "B2"
         },
         {
          "Fut": 0,
          "Imp": 0,
          "Past": 0.2222222222222222,
          "Pres": 0.7777777777777778,
          "level": "B2"
         },
         {
          "Fut": 0,
          "Imp": 0,
          "Past": 0,
          "Pres": 1,
          "level": "B2"
         },
         {
          "Fut": 0,
          "Imp": 0.5625,
          "Past": 0.1875,
          "Pres": 0.25,
          "level": "B2"
         },
         {
          "Fut": 0.16666666666666666,
          "Imp": 0,
          "Past": 0.75,
          "Pres": 0.08333333333333333,
          "level": "B2"
         },
         {
          "Fut": 0,
          "Imp": 0,
          "Past": 0.125,
          "Pres": 0.875,
          "level": "B2"
         },
         {
          "Fut": 0.03225806451612903,
          "Imp": 0.0967741935483871,
          "Past": 0.12903225806451613,
          "Pres": 0.7419354838709677,
          "level": "B2"
         },
         {
          "Fut": 0.005434782608695652,
          "Imp": 0.13043478260869565,
          "Past": 0.33695652173913043,
          "Pres": 0.5271739130434783,
          "level": "B2"
         },
         {
          "Fut": 0.03278688524590164,
          "Imp": 0.04918032786885246,
          "Past": 0.13114754098360656,
          "Pres": 0.7868852459016393,
          "level": "B2"
         },
         {
          "Fut": 0,
          "Imp": 0.07936507936507936,
          "Past": 0.15873015873015872,
          "Pres": 0.7619047619047619,
          "level": "B2"
         },
         {
          "Fut": 0.08139534883720931,
          "Imp": 0.13953488372093023,
          "Past": 0.27906976744186046,
          "Pres": 0.5,
          "level": "B2"
         },
         {
          "Fut": 0,
          "Imp": 0.16666666666666666,
          "Past": 0.18518518518518517,
          "Pres": 0.6481481481481481,
          "level": "B2"
         },
         {
          "Fut": 0.0425531914893617,
          "Imp": 0.02127659574468085,
          "Past": 0.23404255319148937,
          "Pres": 0.7021276595744681,
          "level": "B2"
         },
         {
          "Fut": 0,
          "Imp": 0.058823529411764705,
          "Past": 0.11764705882352941,
          "Pres": 0.8235294117647058,
          "level": "B2"
         },
         {
          "Fut": 0.017543859649122806,
          "Imp": 0.14912280701754385,
          "Past": 0.18421052631578946,
          "Pres": 0.6491228070175439,
          "level": "B2"
         },
         {
          "Fut": 0,
          "Imp": 0.03125,
          "Past": 0.3125,
          "Pres": 0.65625,
          "level": "B2"
         },
         {
          "Fut": 0.023255813953488372,
          "Imp": 0,
          "Past": 0.13953488372093023,
          "Pres": 0.8372093023255814,
          "level": "B2"
         },
         {
          "Fut": 0.08823529411764706,
          "Imp": 0.08823529411764706,
          "Past": 0.4411764705882353,
          "Pres": 0.38235294117647056,
          "level": "B2"
         },
         {
          "Fut": 0.08823529411764706,
          "Imp": 0.029411764705882353,
          "Past": 0.11764705882352941,
          "Pres": 0.7647058823529411,
          "level": "B2"
         },
         {
          "Fut": 0.036585365853658534,
          "Imp": 0.024390243902439025,
          "Past": 0.14634146341463414,
          "Pres": 0.7926829268292683,
          "level": "B2"
         },
         {
          "Fut": 0,
          "Imp": 0,
          "Past": 0,
          "Pres": 1,
          "level": "B2"
         },
         {
          "Fut": 0.01568627450980392,
          "Imp": 0.1843137254901961,
          "Past": 0.2784313725490196,
          "Pres": 0.5215686274509804,
          "level": "B2"
         },
         {
          "Fut": 0.017391304347826087,
          "Imp": 0.06086956521739131,
          "Past": 0.3739130434782609,
          "Pres": 0.5478260869565217,
          "level": "B2"
         },
         {
          "Fut": 0.05555555555555555,
          "Imp": 0,
          "Past": 0.05555555555555555,
          "Pres": 0.8888888888888888,
          "level": "B2"
         },
         {
          "Fut": 0.14285714285714285,
          "Imp": 0,
          "Past": 0.7142857142857143,
          "Pres": 0.14285714285714285,
          "level": "B2"
         },
         {
          "Fut": 0,
          "Imp": 0.17142857142857143,
          "Past": 0.4,
          "Pres": 0.42857142857142855,
          "level": "B2"
         },
         {
          "Fut": 0.05405405405405406,
          "Imp": 0.05405405405405406,
          "Past": 0.02702702702702703,
          "Pres": 0.8648648648648649,
          "level": "B2"
         },
         {
          "Fut": 0.11764705882352941,
          "Imp": 0.11764705882352941,
          "Past": 0,
          "Pres": 0.7647058823529411,
          "level": "B2"
         },
         {
          "Fut": 0.3611111111111111,
          "Imp": 0.1111111111111111,
          "Past": 0.1111111111111111,
          "Pres": 0.4166666666666667,
          "level": "B2"
         },
         {
          "Fut": 0,
          "Imp": 0.23255813953488372,
          "Past": 0.3953488372093023,
          "Pres": 0.37209302325581395,
          "level": "B2"
         },
         {
          "Fut": 0.140625,
          "Imp": 0.03125,
          "Past": 0.109375,
          "Pres": 0.71875,
          "level": "B2"
         },
         {
          "Fut": 0,
          "Imp": 0.3125,
          "Past": 0.375,
          "Pres": 0.3125,
          "level": "B2"
         },
         {
          "Fut": 0,
          "Imp": 0.09615384615384616,
          "Past": 0.11538461538461539,
          "Pres": 0.7884615384615384,
          "level": "B2"
         },
         {
          "Fut": 0,
          "Imp": 0,
          "Past": 0.8571428571428571,
          "Pres": 0.14285714285714285,
          "level": "B2"
         },
         {
          "Fut": 0,
          "Imp": 0.14285714285714285,
          "Past": 0.2857142857142857,
          "Pres": 0.5714285714285714,
          "level": "B2"
         },
         {
          "Fut": 0,
          "Imp": 0.18292682926829268,
          "Past": 0.036585365853658534,
          "Pres": 0.7804878048780488,
          "level": "B2"
         },
         {
          "Fut": 0.034482758620689655,
          "Imp": 0.034482758620689655,
          "Past": 0.22413793103448276,
          "Pres": 0.7068965517241379,
          "level": "B2"
         },
         {
          "Fut": 0,
          "Imp": 0,
          "Past": 0.2,
          "Pres": 0.8,
          "level": "B2"
         },
         {
          "Fut": 0.06666666666666667,
          "Imp": 0.06666666666666667,
          "Past": 0.06666666666666667,
          "Pres": 0.8,
          "level": "B2"
         },
         {
          "Fut": 0,
          "Imp": 0.3333333333333333,
          "Past": 0,
          "Pres": 0.6666666666666666,
          "level": "B2"
         },
         {
          "Fut": 0,
          "Imp": 0,
          "Past": 0.6363636363636364,
          "Pres": 0.36363636363636365,
          "level": "B2"
         },
         {
          "Fut": 0.03529411764705882,
          "Imp": 0.12941176470588237,
          "Past": 0.2823529411764706,
          "Pres": 0.5529411764705883,
          "level": "B2"
         },
         {
          "Fut": 0,
          "Imp": 0,
          "Past": 0.08333333333333333,
          "Pres": 0.9166666666666666,
          "level": "B2"
         },
         {
          "Fut": 0.04,
          "Imp": 0.04,
          "Past": 0.12,
          "Pres": 0.8,
          "level": "B2"
         },
         {
          "Fut": 0,
          "Imp": 0.125,
          "Past": 0.125,
          "Pres": 0.75,
          "level": "B2"
         },
         {
          "Fut": 0.058823529411764705,
          "Imp": 0.08823529411764706,
          "Past": 0.14705882352941177,
          "Pres": 0.7058823529411765,
          "level": "B2"
         },
         {
          "Fut": 0,
          "Imp": 0.38095238095238093,
          "Past": 0.25396825396825395,
          "Pres": 0.36507936507936506,
          "level": "B2"
         },
         {
          "Fut": 0,
          "Imp": 0.04878048780487805,
          "Past": 0.14634146341463414,
          "Pres": 0.8048780487804879,
          "level": "B2"
         },
         {
          "Fut": 0.1111111111111111,
          "Imp": 0,
          "Past": 0.05555555555555555,
          "Pres": 0.8333333333333334,
          "level": "B2"
         },
         {
          "Fut": 0.05,
          "Imp": 0.3,
          "Past": 0.55,
          "Pres": 0.1,
          "level": "B2"
         },
         {
          "Fut": 0.15789473684210525,
          "Imp": 0.05263157894736842,
          "Past": 0.3157894736842105,
          "Pres": 0.47368421052631576,
          "level": "B2"
         },
         {
          "Fut": 0.023255813953488372,
          "Imp": 0.3488372093023256,
          "Past": 0.27906976744186046,
          "Pres": 0.3488372093023256,
          "level": "B2"
         },
         {
          "Fut": 0.038461538461538464,
          "Imp": 0.11538461538461539,
          "Past": 0.19230769230769232,
          "Pres": 0.6538461538461539,
          "level": "B2"
         },
         {
          "Fut": 0,
          "Imp": 0.043478260869565216,
          "Past": 0.13043478260869565,
          "Pres": 0.8260869565217391,
          "level": "B2"
         },
         {
          "Fut": 0.25,
          "Imp": 0.08333333333333333,
          "Past": 0.08333333333333333,
          "Pres": 0.5833333333333334,
          "level": "B2"
         },
         {
          "Fut": 0.125,
          "Imp": 0,
          "Past": 0,
          "Pres": 0.875,
          "level": "B2"
         },
         {
          "Fut": 0.038834951456310676,
          "Imp": 0.05825242718446602,
          "Past": 0.1650485436893204,
          "Pres": 0.7378640776699029,
          "level": "B2"
         },
         {
          "Fut": 0,
          "Imp": 0.13043478260869565,
          "Past": 0.043478260869565216,
          "Pres": 0.8260869565217391,
          "level": "B2"
         },
         {
          "Fut": 0.12121212121212122,
          "Imp": 0.06060606060606061,
          "Past": 0.30303030303030304,
          "Pres": 0.5151515151515151,
          "level": "B2"
         },
         {
          "Fut": 0,
          "Imp": 0.12727272727272726,
          "Past": 0.10909090909090909,
          "Pres": 0.7636363636363637,
          "level": "B2"
         },
         {
          "Fut": 0,
          "Imp": 0,
          "Past": 0,
          "Pres": 1,
          "level": "B2"
         },
         {
          "Fut": 0.057692307692307696,
          "Imp": 0,
          "Past": 0.07692307692307693,
          "Pres": 0.8653846153846154,
          "level": "B2"
         },
         {
          "Fut": 0,
          "Imp": 0.02127659574468085,
          "Past": 0.1276595744680851,
          "Pres": 0.851063829787234,
          "level": "B2"
         },
         {
          "Fut": 0,
          "Imp": 0,
          "Past": 0.3,
          "Pres": 0.7,
          "level": "B2"
         },
         {
          "Fut": 0.07792207792207792,
          "Imp": 0.012987012987012988,
          "Past": 0.11688311688311688,
          "Pres": 0.7922077922077922,
          "level": "B2"
         },
         {
          "Fut": 0,
          "Imp": 0.05084745762711865,
          "Past": 0.0847457627118644,
          "Pres": 0.864406779661017,
          "level": "B2"
         },
         {
          "Fut": 0,
          "Imp": 0.3,
          "Past": 0.6,
          "Pres": 0.1,
          "level": "B2"
         },
         {
          "Fut": 0,
          "Imp": 0,
          "Past": 0,
          "Pres": 0,
          "level": "B2"
         },
         {
          "Fut": 0,
          "Imp": 0.6666666666666666,
          "Past": 0.3333333333333333,
          "Pres": 0,
          "level": "B2"
         },
         {
          "Fut": 0,
          "Imp": 0,
          "Past": 0.2,
          "Pres": 0.8,
          "level": "B2"
         },
         {
          "Fut": 0.75,
          "Imp": 0,
          "Past": 0.25,
          "Pres": 0,
          "level": "B2"
         },
         {
          "Fut": 0,
          "Imp": 0.25,
          "Past": 0,
          "Pres": 0.75,
          "level": "B2"
         },
         {
          "Fut": 0,
          "Imp": 0,
          "Past": 0,
          "Pres": 1,
          "level": "B2"
         },
         {
          "Fut": 0,
          "Imp": 0,
          "Past": 0.3333333333333333,
          "Pres": 0.6666666666666666,
          "level": "B2"
         },
         {
          "Fut": 0.14285714285714285,
          "Imp": 0,
          "Past": 0,
          "Pres": 0.8571428571428571,
          "level": "B2"
         },
         {
          "Fut": 0,
          "Imp": 0,
          "Past": 0.6,
          "Pres": 0.4,
          "level": "B2"
         },
         {
          "Fut": 0,
          "Imp": 0.05555555555555555,
          "Past": 0.2777777777777778,
          "Pres": 0.6666666666666666,
          "level": "B2"
         },
         {
          "Fut": 0,
          "Imp": 0,
          "Past": 0,
          "Pres": 1,
          "level": "B2"
         },
         {
          "Fut": 0,
          "Imp": 0,
          "Past": 0,
          "Pres": 1,
          "level": "B2"
         }
        ]
       },
       "facet": {
        "field": "level",
        "type": "nominal"
       },
       "spec": {
        "encoding": {
         "x": {
          "bin": {
           "maxbins": 30
          },
          "field": "Past",
          "type": "quantitative"
         },
         "y": {
          "aggregate": "count",
          "type": "quantitative"
         }
        },
        "mark": "bar"
       }
      },
      "image/png": "[encoded data removed]",
      "text/plain": [
       "<VegaLite 4 object>\n",
       "\n",
       "If you see this message, it means the renderer has not been properly enabled\n",
       "for the frontend that you are using. For more information, see\n",
       "https://altair-viz.github.io/user_guide/troubleshooting.html\n"
      ]
     },
     "execution_count": 36,
     "metadata": {},
     "output_type": "execute_result"
    }
   ],
   "source": [
    "level_verb_tense_df = pd.DataFrame(level_verb_tense)\n",
    "level_verb_tense_df.head()\n",
    "alt.Chart(level_verb_tense_df).mark_bar().encode(x = alt.X('Past', bin = alt.Bin(maxbins = 30)), y = 'count()').facet('level')"
   ]
  },
  {
   "cell_type": "markdown",
   "id": "exposed-pontiac",
   "metadata": {},
   "source": [
    "### Present Tense"
   ]
  },
  {
   "cell_type": "code",
   "execution_count": 37,
   "id": "alike-performance",
   "metadata": {},
   "outputs": [
    {
     "data": {
      "application/vnd.vegalite.v4+json": {
       "$schema": "https://vega.github.io/schema/vega-lite/v4.8.1.json",
       "config": {
        "view": {
         "continuousHeight": 300,
         "continuousWidth": 400
        }
       },
       "data": {
        "name": "data-a46874723513081149dddc40d2b1ff27"
       },
       "datasets": {
        "data-a46874723513081149dddc40d2b1ff27": [
         {
          "Fut": 0,
          "Imp": 0,
          "Past": 0,
          "Pres": 1,
          "level": "A1"
         },
         {
          "Fut": 0,
          "Imp": 0,
          "Past": 0,
          "Pres": 1,
          "level": "A1"
         },
         {
          "Fut": 0,
          "Imp": 0,
          "Past": 0,
          "Pres": 1,
          "level": "A1"
         },
         {
          "Fut": 0,
          "Imp": 0,
          "Past": 0,
          "Pres": 1,
          "level": "A1"
         },
         {
          "Fut": 0,
          "Imp": 0,
          "Past": 0,
          "Pres": 1,
          "level": "A1"
         },
         {
          "Fut": 0,
          "Imp": 0,
          "Past": 0.12962962962962962,
          "Pres": 0.8703703703703703,
          "level": "A1"
         },
         {
          "Fut": 0.036585365853658534,
          "Imp": 0.4268292682926829,
          "Past": 0.2682926829268293,
          "Pres": 0.2682926829268293,
          "level": "A1"
         },
         {
          "Fut": 0,
          "Imp": 0.3597122302158273,
          "Past": 0.49640287769784175,
          "Pres": 0.14388489208633093,
          "level": "A1"
         },
         {
          "Fut": 0.007462686567164179,
          "Imp": 0.23880597014925373,
          "Past": 0.7014925373134329,
          "Pres": 0.05223880597014925,
          "level": "A1"
         },
         {
          "Fut": 0.05555555555555555,
          "Imp": 0.16666666666666666,
          "Past": 0.3888888888888889,
          "Pres": 0.3888888888888889,
          "level": "A1"
         },
         {
          "Fut": 0,
          "Imp": 0.3008849557522124,
          "Past": 0.48672566371681414,
          "Pres": 0.21238938053097345,
          "level": "A1"
         },
         {
          "Fut": 0.12264150943396226,
          "Imp": 0.018867924528301886,
          "Past": 0.3490566037735849,
          "Pres": 0.5094339622641509,
          "level": "A1"
         },
         {
          "Fut": 0.03571428571428571,
          "Imp": 0.23214285714285715,
          "Past": 0.48214285714285715,
          "Pres": 0.25,
          "level": "A1"
         },
         {
          "Fut": 0.06363636363636363,
          "Imp": 0.12121212121212122,
          "Past": 0.49696969696969695,
          "Pres": 0.3181818181818182,
          "level": "A1"
         },
         {
          "Fut": 0.02,
          "Imp": 0.32,
          "Past": 0.46,
          "Pres": 0.2,
          "level": "A1"
         },
         {
          "Fut": 0.012987012987012988,
          "Imp": 0.24675324675324675,
          "Past": 0.33766233766233766,
          "Pres": 0.4025974025974026,
          "level": "A1"
         },
         {
          "Fut": 0.08888888888888889,
          "Imp": 0.21666666666666667,
          "Past": 0.46111111111111114,
          "Pres": 0.23333333333333334,
          "level": "A1"
         },
         {
          "Fut": 0.014285714285714285,
          "Imp": 0.2785714285714286,
          "Past": 0.5428571428571428,
          "Pres": 0.16428571428571428,
          "level": "A1"
         },
         {
          "Fut": 0,
          "Imp": 0.07142857142857142,
          "Past": 0.10714285714285714,
          "Pres": 0.8214285714285714,
          "level": "A1"
         },
         {
          "Fut": 0.05056179775280899,
          "Imp": 0.0898876404494382,
          "Past": 0.38764044943820225,
          "Pres": 0.47191011235955055,
          "level": "A1"
         },
         {
          "Fut": 0.04,
          "Imp": 0.24,
          "Past": 0.32,
          "Pres": 0.4,
          "level": "A1"
         },
         {
          "Fut": 0,
          "Imp": 0.11764705882352941,
          "Past": 0.23529411764705882,
          "Pres": 0.6470588235294118,
          "level": "A1"
         },
         {
          "Fut": 0.041666666666666664,
          "Imp": 0.08333333333333333,
          "Past": 0.125,
          "Pres": 0.75,
          "level": "A1"
         },
         {
          "Fut": 0,
          "Imp": 0,
          "Past": 0.14285714285714285,
          "Pres": 0.8571428571428571,
          "level": "A1"
         },
         {
          "Fut": 0.045454545454545456,
          "Imp": 0.09090909090909091,
          "Past": 0.045454545454545456,
          "Pres": 0.8181818181818182,
          "level": "A1"
         },
         {
          "Fut": 0,
          "Imp": 0,
          "Past": 0.10526315789473684,
          "Pres": 0.8947368421052632,
          "level": "A1"
         },
         {
          "Fut": 0,
          "Imp": 0,
          "Past": 0,
          "Pres": 1,
          "level": "A1"
         },
         {
          "Fut": 0.05263157894736842,
          "Imp": 0,
          "Past": 0,
          "Pres": 0.9473684210526315,
          "level": "A1"
         },
         {
          "Fut": 0,
          "Imp": 0,
          "Past": 0,
          "Pres": 1,
          "level": "A1"
         },
         {
          "Fut": 0,
          "Imp": 0,
          "Past": 0.05405405405405406,
          "Pres": 0.9459459459459459,
          "level": "A1"
         },
         {
          "Fut": 0.09090909090909091,
          "Imp": 0.030303030303030304,
          "Past": 0.21212121212121213,
          "Pres": 0.6666666666666666,
          "level": "A1"
         },
         {
          "Fut": 0,
          "Imp": 0,
          "Past": 0.11764705882352941,
          "Pres": 0.8823529411764706,
          "level": "A1"
         },
         {
          "Fut": 0,
          "Imp": 0,
          "Past": 0.02,
          "Pres": 0.98,
          "level": "A1"
         },
         {
          "Fut": 0,
          "Imp": 0,
          "Past": 0,
          "Pres": 1,
          "level": "A1"
         },
         {
          "Fut": 0,
          "Imp": 0,
          "Past": 0,
          "Pres": 1,
          "level": "A1"
         },
         {
          "Fut": 0,
          "Imp": 0,
          "Past": 0,
          "Pres": 1,
          "level": "A1"
         },
         {
          "Fut": 0,
          "Imp": 0,
          "Past": 0,
          "Pres": 1,
          "level": "A1"
         },
         {
          "Fut": 0.034482758620689655,
          "Imp": 0,
          "Past": 0,
          "Pres": 0.9655172413793104,
          "level": "A1"
         },
         {
          "Fut": 0,
          "Imp": 0,
          "Past": 0,
          "Pres": 1,
          "level": "A1"
         },
         {
          "Fut": 0,
          "Imp": 0,
          "Past": 0.037037037037037035,
          "Pres": 0.9629629629629629,
          "level": "A1"
         },
         {
          "Fut": 0,
          "Imp": 0,
          "Past": 0,
          "Pres": 1,
          "level": "A1"
         },
         {
          "Fut": 0,
          "Imp": 0,
          "Past": 0.1,
          "Pres": 0.9,
          "level": "A1"
         },
         {
          "Fut": 0,
          "Imp": 0,
          "Past": 0,
          "Pres": 1,
          "level": "A1"
         },
         {
          "Fut": 0,
          "Imp": 0,
          "Past": 0.046511627906976744,
          "Pres": 0.9534883720930233,
          "level": "A1"
         },
         {
          "Fut": 0,
          "Imp": 0,
          "Past": 0,
          "Pres": 1,
          "level": "A1"
         },
         {
          "Fut": 0.25,
          "Imp": 0,
          "Past": 0,
          "Pres": 0.75,
          "level": "A1"
         },
         {
          "Fut": 0,
          "Imp": 0,
          "Past": 0,
          "Pres": 1,
          "level": "A1"
         },
         {
          "Fut": 0.21052631578947367,
          "Imp": 0,
          "Past": 0,
          "Pres": 0.7894736842105263,
          "level": "A1"
         },
         {
          "Fut": 0,
          "Imp": 0,
          "Past": 0.040697674418604654,
          "Pres": 0.9593023255813954,
          "level": "A1"
         },
         {
          "Fut": 0,
          "Imp": 0,
          "Past": 0.010526315789473684,
          "Pres": 0.9894736842105263,
          "level": "A1"
         },
         {
          "Fut": 0.0064516129032258064,
          "Imp": 0,
          "Past": 0.04516129032258064,
          "Pres": 0.9483870967741935,
          "level": "A1"
         },
         {
          "Fut": 0,
          "Imp": 0,
          "Past": 0.024390243902439025,
          "Pres": 0.975609756097561,
          "level": "A1"
         },
         {
          "Fut": 0,
          "Imp": 0.0037313432835820895,
          "Past": 0.11940298507462686,
          "Pres": 0.8768656716417911,
          "level": "A1"
         },
         {
          "Fut": 0,
          "Imp": 0,
          "Past": 0.03205128205128205,
          "Pres": 0.967948717948718,
          "level": "A1"
         },
         {
          "Fut": 0,
          "Imp": 0,
          "Past": 0.07471264367816093,
          "Pres": 0.9252873563218391,
          "level": "A1"
         },
         {
          "Fut": 0,
          "Imp": 0,
          "Past": 0.085,
          "Pres": 0.915,
          "level": "A1"
         },
         {
          "Fut": 0,
          "Imp": 0.004739336492890996,
          "Past": 0.052132701421800945,
          "Pres": 0.943127962085308,
          "level": "A1"
         },
         {
          "Fut": 0,
          "Imp": 0,
          "Past": 0.08403361344537816,
          "Pres": 0.9159663865546218,
          "level": "A1"
         },
         {
          "Fut": 0.003861003861003861,
          "Imp": 0,
          "Past": 0.04247104247104247,
          "Pres": 0.9536679536679536,
          "level": "A1"
         },
         {
          "Fut": 0.004329004329004329,
          "Imp": 0.008658008658008658,
          "Past": 0.09956709956709957,
          "Pres": 0.8874458874458875,
          "level": "A1"
         },
         {
          "Fut": 0.0038910505836575876,
          "Imp": 0,
          "Past": 0.054474708171206226,
          "Pres": 0.9416342412451362,
          "level": "A1"
         },
         {
          "Fut": 0,
          "Imp": 0.061855670103092786,
          "Past": 0.1958762886597938,
          "Pres": 0.7422680412371134,
          "level": "A1"
         },
         {
          "Fut": 0.010362694300518135,
          "Imp": 0.015544041450777202,
          "Past": 0.03626943005181347,
          "Pres": 0.9378238341968912,
          "level": "A1"
         },
         {
          "Fut": 0.01694915254237288,
          "Imp": 0.006779661016949152,
          "Past": 0.05423728813559322,
          "Pres": 0.9220338983050848,
          "level": "A1"
         },
         {
          "Fut": 0.011299435028248588,
          "Imp": 0.005649717514124294,
          "Past": 0.07909604519774012,
          "Pres": 0.903954802259887,
          "level": "A1"
         },
         {
          "Fut": 0.023166023166023165,
          "Imp": 0.019305019305019305,
          "Past": 0.06563706563706563,
          "Pres": 0.8918918918918919,
          "level": "A1"
         },
         {
          "Fut": 0.03896103896103896,
          "Imp": 0.025974025974025976,
          "Past": 0.09090909090909091,
          "Pres": 0.8441558441558441,
          "level": "A1"
         },
         {
          "Fut": 0,
          "Imp": 0.013333333333333334,
          "Past": 0.02666666666666667,
          "Pres": 0.96,
          "level": "A1"
         },
         {
          "Fut": 0.017391304347826087,
          "Imp": 0.008695652173913044,
          "Past": 0.10434782608695652,
          "Pres": 0.8695652173913043,
          "level": "A1"
         },
         {
          "Fut": 0.01818181818181818,
          "Imp": 0.007272727272727273,
          "Past": 0.08727272727272728,
          "Pres": 0.8872727272727273,
          "level": "A1"
         },
         {
          "Fut": 0,
          "Imp": 0,
          "Past": 0.091324200913242,
          "Pres": 0.908675799086758,
          "level": "A1"
         },
         {
          "Fut": 0.014285714285714285,
          "Imp": 0,
          "Past": 0.06428571428571428,
          "Pres": 0.9214285714285714,
          "level": "A1"
         },
         {
          "Fut": 0,
          "Imp": 0.016129032258064516,
          "Past": 0.04838709677419355,
          "Pres": 0.9354838709677419,
          "level": "A1"
         },
         {
          "Fut": 0.015151515151515152,
          "Imp": 0,
          "Past": 0.15151515151515152,
          "Pres": 0.8333333333333334,
          "level": "A1"
         },
         {
          "Fut": 0.017241379310344827,
          "Imp": 0.017241379310344827,
          "Past": 0.06896551724137931,
          "Pres": 0.896551724137931,
          "level": "A1"
         },
         {
          "Fut": 0.015625,
          "Imp": 0.0078125,
          "Past": 0.1015625,
          "Pres": 0.875,
          "level": "A1"
         },
         {
          "Fut": 0,
          "Imp": 0.02564102564102564,
          "Past": 0.1794871794871795,
          "Pres": 0.7948717948717948,
          "level": "A1"
         },
         {
          "Fut": 0.024390243902439025,
          "Imp": 0,
          "Past": 0.07317073170731707,
          "Pres": 0.9024390243902439,
          "level": "A1"
         },
         {
          "Fut": 0,
          "Imp": 0,
          "Past": 0.0425531914893617,
          "Pres": 0.9574468085106383,
          "level": "A1"
         },
         {
          "Fut": 0.029411764705882353,
          "Imp": 0.014705882352941176,
          "Past": 0.1323529411764706,
          "Pres": 0.8235294117647058,
          "level": "A1"
         },
         {
          "Fut": 0,
          "Imp": 0.16591928251121077,
          "Past": 0.22869955156950672,
          "Pres": 0.6053811659192825,
          "level": "A1"
         },
         {
          "Fut": 0.00423728813559322,
          "Imp": 0.046610169491525424,
          "Past": 0.07627118644067797,
          "Pres": 0.8728813559322034,
          "level": "A1"
         },
         {
          "Fut": 0.01818181818181818,
          "Imp": 0.00909090909090909,
          "Past": 0.10909090909090909,
          "Pres": 0.8636363636363636,
          "level": "A1"
         },
         {
          "Fut": 0.007462686567164179,
          "Imp": 0,
          "Past": 0.04477611940298507,
          "Pres": 0.9477611940298507,
          "level": "A1"
         },
         {
          "Fut": 0,
          "Imp": 0.006493506493506494,
          "Past": 0.032467532467532464,
          "Pres": 0.961038961038961,
          "level": "A1"
         },
         {
          "Fut": 0,
          "Imp": 0.0319634703196347,
          "Past": 0.1187214611872146,
          "Pres": 0.8493150684931506,
          "level": "A1"
         },
         {
          "Fut": 0.006369426751592357,
          "Imp": 0.009554140127388535,
          "Past": 0.09235668789808917,
          "Pres": 0.89171974522293,
          "level": "A1"
         },
         {
          "Fut": 0,
          "Imp": 0.019138755980861243,
          "Past": 0.11483253588516747,
          "Pres": 0.8660287081339713,
          "level": "A1"
         },
         {
          "Fut": 0.013513513513513514,
          "Imp": 0.08783783783783784,
          "Past": 0.17567567567567569,
          "Pres": 0.722972972972973,
          "level": "A1"
         },
         {
          "Fut": 0,
          "Imp": 0.009900990099009901,
          "Past": 0.06930693069306931,
          "Pres": 0.9207920792079208,
          "level": "A1"
         },
         {
          "Fut": 0,
          "Imp": 0,
          "Past": 0.17647058823529413,
          "Pres": 0.8235294117647058,
          "level": "A1"
         },
         {
          "Fut": 0.041666666666666664,
          "Imp": 0,
          "Past": 0.041666666666666664,
          "Pres": 0.9166666666666666,
          "level": "A1"
         },
         {
          "Fut": 0,
          "Imp": 0,
          "Past": 0.09523809523809523,
          "Pres": 0.9047619047619048,
          "level": "A1"
         },
         {
          "Fut": 0,
          "Imp": 0,
          "Past": 0.3333333333333333,
          "Pres": 0.6666666666666666,
          "level": "A1"
         },
         {
          "Fut": 0,
          "Imp": 0.481981981981982,
          "Past": 0.33783783783783783,
          "Pres": 0.18018018018018017,
          "level": "A2"
         },
         {
          "Fut": 0.018656716417910446,
          "Imp": 0.4291044776119403,
          "Past": 0.33955223880597013,
          "Pres": 0.2126865671641791,
          "level": "A2"
         },
         {
          "Fut": 0.009966777408637873,
          "Imp": 0.49169435215946844,
          "Past": 0.34219269102990035,
          "Pres": 0.15614617940199335,
          "level": "A2"
         },
         {
          "Fut": 0.03142857142857143,
          "Imp": 0.24571428571428572,
          "Past": 0.3485714285714286,
          "Pres": 0.3742857142857143,
          "level": "A2"
         },
         {
          "Fut": 0.025210084033613446,
          "Imp": 0.33613445378151263,
          "Past": 0.35714285714285715,
          "Pres": 0.2815126050420168,
          "level": "A2"
         },
         {
          "Fut": 0.02178649237472767,
          "Imp": 0.3137254901960784,
          "Past": 0.3769063180827887,
          "Pres": 0.2875816993464052,
          "level": "A2"
         },
         {
          "Fut": 0.02922077922077922,
          "Imp": 0.11038961038961038,
          "Past": 0.2662337662337662,
          "Pres": 0.5941558441558441,
          "level": "A2"
         },
         {
          "Fut": 0.0425531914893617,
          "Imp": 0.19148936170212766,
          "Past": 0.3404255319148936,
          "Pres": 0.425531914893617,
          "level": "A2"
         },
         {
          "Fut": 0.016483516483516484,
          "Imp": 0.09340659340659341,
          "Past": 0.28296703296703296,
          "Pres": 0.6071428571428571,
          "level": "A2"
         },
         {
          "Fut": 0,
          "Imp": 0,
          "Past": 0.05555555555555555,
          "Pres": 0.9444444444444444,
          "level": "A2"
         },
         {
          "Fut": 0,
          "Imp": 0,
          "Past": 0.041666666666666664,
          "Pres": 0.9583333333333334,
          "level": "A2"
         },
         {
          "Fut": 0.15151515151515152,
          "Imp": 0.06060606060606061,
          "Past": 0.18181818181818182,
          "Pres": 0.6060606060606061,
          "level": "A2"
         },
         {
          "Fut": 0.023255813953488372,
          "Imp": 0.046511627906976744,
          "Past": 0.09302325581395349,
          "Pres": 0.8372093023255814,
          "level": "A2"
         },
         {
          "Fut": 0.047619047619047616,
          "Imp": 0.047619047619047616,
          "Past": 0.09523809523809523,
          "Pres": 0.8095238095238095,
          "level": "A2"
         },
         {
          "Fut": 0,
          "Imp": 0,
          "Past": 0.1388888888888889,
          "Pres": 0.8611111111111112,
          "level": "A2"
         },
         {
          "Fut": 0,
          "Imp": 0,
          "Past": 0.16666666666666666,
          "Pres": 0.8333333333333334,
          "level": "A2"
         },
         {
          "Fut": 0,
          "Imp": 0.03571428571428571,
          "Past": 0.14285714285714285,
          "Pres": 0.8214285714285714,
          "level": "A2"
         },
         {
          "Fut": 0,
          "Imp": 0,
          "Past": 0,
          "Pres": 1,
          "level": "A2"
         },
         {
          "Fut": 0,
          "Imp": 0,
          "Past": 0.6896551724137931,
          "Pres": 0.3103448275862069,
          "level": "A2"
         },
         {
          "Fut": 0,
          "Imp": 0.36,
          "Past": 0.46,
          "Pres": 0.18,
          "level": "A2"
         },
         {
          "Fut": 0,
          "Imp": 0,
          "Past": 0.03571428571428571,
          "Pres": 0.9642857142857143,
          "level": "A2"
         },
         {
          "Fut": 0,
          "Imp": 0.1,
          "Past": 0.6,
          "Pres": 0.3,
          "level": "A2"
         },
         {
          "Fut": 0.02631578947368421,
          "Imp": 0.23684210526315788,
          "Past": 0.5263157894736842,
          "Pres": 0.21052631578947367,
          "level": "A2"
         },
         {
          "Fut": 0.23076923076923078,
          "Imp": 0,
          "Past": 0.23076923076923078,
          "Pres": 0.5384615384615384,
          "level": "A2"
         },
         {
          "Fut": 0.034482758620689655,
          "Imp": 0.06896551724137931,
          "Past": 0.4482758620689655,
          "Pres": 0.4482758620689655,
          "level": "A2"
         },
         {
          "Fut": 0.17391304347826086,
          "Imp": 0.13043478260869565,
          "Past": 0.4782608695652174,
          "Pres": 0.21739130434782608,
          "level": "A2"
         },
         {
          "Fut": 0.16666666666666666,
          "Imp": 0.2222222222222222,
          "Past": 0.2222222222222222,
          "Pres": 0.3888888888888889,
          "level": "A2"
         },
         {
          "Fut": 0,
          "Imp": 0.10526315789473684,
          "Past": 0.5789473684210527,
          "Pres": 0.3157894736842105,
          "level": "A2"
         },
         {
          "Fut": 0.07407407407407407,
          "Imp": 0,
          "Past": 0.2222222222222222,
          "Pres": 0.7037037037037037,
          "level": "A2"
         },
         {
          "Fut": 0,
          "Imp": 0.125,
          "Past": 0.375,
          "Pres": 0.5,
          "level": "A2"
         },
         {
          "Fut": 0,
          "Imp": 0.14285714285714285,
          "Past": 0.7857142857142857,
          "Pres": 0.07142857142857142,
          "level": "A2"
         },
         {
          "Fut": 0.21428571428571427,
          "Imp": 0,
          "Past": 0.14285714285714285,
          "Pres": 0.6428571428571429,
          "level": "A2"
         },
         {
          "Fut": 0,
          "Imp": 0.038461538461538464,
          "Past": 0.038461538461538464,
          "Pres": 0.9230769230769231,
          "level": "A2"
         },
         {
          "Fut": 0.007518796992481203,
          "Imp": 0.14285714285714285,
          "Past": 0.5639097744360902,
          "Pres": 0.2857142857142857,
          "level": "A2"
         },
         {
          "Fut": 0,
          "Imp": 0,
          "Past": 0,
          "Pres": 1,
          "level": "A2"
         },
         {
          "Fut": 0,
          "Imp": 0.029411764705882353,
          "Past": 0.08823529411764706,
          "Pres": 0.8823529411764706,
          "level": "A2"
         },
         {
          "Fut": 0.07575757575757576,
          "Imp": 0.12121212121212122,
          "Past": 0.2727272727272727,
          "Pres": 0.5303030303030303,
          "level": "A2"
         },
         {
          "Fut": 0.03773584905660377,
          "Imp": 0.07547169811320754,
          "Past": 0.5660377358490566,
          "Pres": 0.32075471698113206,
          "level": "A2"
         },
         {
          "Fut": 0.03225806451612903,
          "Imp": 0.16129032258064516,
          "Past": 0.5483870967741935,
          "Pres": 0.25806451612903225,
          "level": "A2"
         },
         {
          "Fut": 0,
          "Imp": 0,
          "Past": 0,
          "Pres": 1,
          "level": "A2"
         },
         {
          "Fut": 0.14,
          "Imp": 0.06,
          "Past": 0.44,
          "Pres": 0.36,
          "level": "A2"
         },
         {
          "Fut": 0.043478260869565216,
          "Imp": 0.32608695652173914,
          "Past": 0.2826086956521739,
          "Pres": 0.34782608695652173,
          "level": "A2"
         },
         {
          "Fut": 0,
          "Imp": 0,
          "Past": 0,
          "Pres": 1,
          "level": "A2"
         },
         {
          "Fut": 0,
          "Imp": 0.034482758620689655,
          "Past": 0.3103448275862069,
          "Pres": 0.6551724137931034,
          "level": "A2"
         },
         {
          "Fut": 0.03802281368821293,
          "Imp": 0.17110266159695817,
          "Past": 0.44106463878326996,
          "Pres": 0.34980988593155893,
          "level": "A2"
         },
         {
          "Fut": 0.04838709677419355,
          "Imp": 0.28225806451612906,
          "Past": 0.33064516129032256,
          "Pres": 0.3387096774193548,
          "level": "A2"
         },
         {
          "Fut": 0.024390243902439025,
          "Imp": 0.21951219512195122,
          "Past": 0.5121951219512195,
          "Pres": 0.24390243902439024,
          "level": "A2"
         },
         {
          "Fut": 0.10526315789473684,
          "Imp": 0,
          "Past": 0,
          "Pres": 0.8947368421052632,
          "level": "A2"
         },
         {
          "Fut": 0.020689655172413793,
          "Imp": 0.42758620689655175,
          "Past": 0.3793103448275862,
          "Pres": 0.1724137931034483,
          "level": "A2"
         },
         {
          "Fut": 0,
          "Imp": 0.25,
          "Past": 0.6097560975609756,
          "Pres": 0.1402439024390244,
          "level": "A2"
         },
         {
          "Fut": 0.04081632653061224,
          "Imp": 0.30612244897959184,
          "Past": 0.3673469387755102,
          "Pres": 0.2857142857142857,
          "level": "A2"
         },
         {
          "Fut": 0.02564102564102564,
          "Imp": 0.01282051282051282,
          "Past": 0.08974358974358974,
          "Pres": 0.8717948717948718,
          "level": "A2"
         },
         {
          "Fut": 0.0078125,
          "Imp": 0,
          "Past": 0.09375,
          "Pres": 0.8984375,
          "level": "A2"
         },
         {
          "Fut": 0.009900990099009901,
          "Imp": 0.009900990099009901,
          "Past": 0.0297029702970297,
          "Pres": 0.9504950495049505,
          "level": "A2"
         },
         {
          "Fut": 0.03731343283582089,
          "Imp": 0.03731343283582089,
          "Past": 0.13432835820895522,
          "Pres": 0.7910447761194029,
          "level": "A2"
         },
         {
          "Fut": 0,
          "Imp": 0.0136986301369863,
          "Past": 0.0684931506849315,
          "Pres": 0.9178082191780822,
          "level": "A2"
         },
         {
          "Fut": 0,
          "Imp": 0.03125,
          "Past": 0.046875,
          "Pres": 0.921875,
          "level": "A2"
         },
         {
          "Fut": 0,
          "Imp": 0.013333333333333334,
          "Past": 0.04,
          "Pres": 0.9466666666666667,
          "level": "A2"
         },
         {
          "Fut": 0.046632124352331605,
          "Imp": 0.031088082901554404,
          "Past": 0.09844559585492228,
          "Pres": 0.8238341968911918,
          "level": "A2"
         },
         {
          "Fut": 0.007194244604316547,
          "Imp": 0.02877697841726619,
          "Past": 0.06474820143884892,
          "Pres": 0.8992805755395683,
          "level": "A2"
         },
         {
          "Fut": 0.013793103448275862,
          "Imp": 0.041379310344827586,
          "Past": 0.07586206896551724,
          "Pres": 0.8689655172413793,
          "level": "A2"
         },
         {
          "Fut": 0.02564102564102564,
          "Imp": 0.04487179487179487,
          "Past": 0.14102564102564102,
          "Pres": 0.7884615384615384,
          "level": "A2"
         },
         {
          "Fut": 0,
          "Imp": 0.09523809523809523,
          "Past": 0.8571428571428571,
          "Pres": 0.047619047619047616,
          "level": "B1"
         },
         {
          "Fut": 0.18518518518518517,
          "Imp": 0,
          "Past": 0,
          "Pres": 0.8148148148148148,
          "level": "B1"
         },
         {
          "Fut": 0,
          "Imp": 0,
          "Past": 0,
          "Pres": 1,
          "level": "B1"
         },
         {
          "Fut": 0.027777777777777776,
          "Imp": 0.027777777777777776,
          "Past": 0.2222222222222222,
          "Pres": 0.7222222222222222,
          "level": "B1"
         },
         {
          "Fut": 0,
          "Imp": 0,
          "Past": 0.16129032258064516,
          "Pres": 0.8387096774193549,
          "level": "B1"
         },
         {
          "Fut": 0,
          "Imp": 0.038461538461538464,
          "Past": 0,
          "Pres": 0.9615384615384616,
          "level": "B1"
         },
         {
          "Fut": 0,
          "Imp": 0,
          "Past": 0,
          "Pres": 1,
          "level": "B1"
         },
         {
          "Fut": 0,
          "Imp": 0.2608695652173913,
          "Past": 0.4782608695652174,
          "Pres": 0.2608695652173913,
          "level": "B1"
         },
         {
          "Fut": 0,
          "Imp": 0,
          "Past": 0.047619047619047616,
          "Pres": 0.9523809523809523,
          "level": "B1"
         },
         {
          "Fut": 0,
          "Imp": 0,
          "Past": 0,
          "Pres": 1,
          "level": "B1"
         },
         {
          "Fut": 0.2222222222222222,
          "Imp": 0.1111111111111111,
          "Past": 0.3333333333333333,
          "Pres": 0.3333333333333333,
          "level": "B1"
         },
         {
          "Fut": 0.03543307086614173,
          "Imp": 0.11023622047244094,
          "Past": 0.42913385826771655,
          "Pres": 0.4251968503937008,
          "level": "B1"
         },
         {
          "Fut": 0.0427807486631016,
          "Imp": 0.3689839572192513,
          "Past": 0.3689839572192513,
          "Pres": 0.2192513368983957,
          "level": "B1"
         },
         {
          "Fut": 0,
          "Imp": 0.4084507042253521,
          "Past": 0.4507042253521127,
          "Pres": 0.14084507042253522,
          "level": "B1"
         },
         {
          "Fut": 0,
          "Imp": 0.36585365853658536,
          "Past": 0.4268292682926829,
          "Pres": 0.2073170731707317,
          "level": "B1"
         },
         {
          "Fut": 0.0045871559633027525,
          "Imp": 0.3073394495412844,
          "Past": 0.46788990825688076,
          "Pres": 0.22018348623853212,
          "level": "B1"
         },
         {
          "Fut": 0,
          "Imp": 0.36363636363636365,
          "Past": 0.36363636363636365,
          "Pres": 0.2727272727272727,
          "level": "B1"
         },
         {
          "Fut": 0.011904761904761904,
          "Imp": 0.40476190476190477,
          "Past": 0.43452380952380953,
          "Pres": 0.1488095238095238,
          "level": "B1"
         },
         {
          "Fut": 0.012987012987012988,
          "Imp": 0.03896103896103896,
          "Past": 0.16883116883116883,
          "Pres": 0.7792207792207793,
          "level": "B1"
         },
         {
          "Fut": 0.011627906976744186,
          "Imp": 0.03488372093023256,
          "Past": 0.03488372093023256,
          "Pres": 0.9186046511627907,
          "level": "B1"
         },
         {
          "Fut": 0.02072538860103627,
          "Imp": 0.32642487046632124,
          "Past": 0.40932642487046633,
          "Pres": 0.24352331606217617,
          "level": "B1"
         },
         {
          "Fut": 0.0106951871657754,
          "Imp": 0.40641711229946526,
          "Past": 0.4385026737967914,
          "Pres": 0.1443850267379679,
          "level": "B1"
         },
         {
          "Fut": 0.057692307692307696,
          "Imp": 0.2548076923076923,
          "Past": 0.3269230769230769,
          "Pres": 0.3605769230769231,
          "level": "B1"
         },
         {
          "Fut": 0.010810810810810811,
          "Imp": 0.3054054054054054,
          "Past": 0.45135135135135135,
          "Pres": 0.23243243243243245,
          "level": "B1"
         },
         {
          "Fut": 0.008849557522123894,
          "Imp": 0.49557522123893805,
          "Past": 0.336283185840708,
          "Pres": 0.1592920353982301,
          "level": "B1"
         },
         {
          "Fut": 0.023575638506876228,
          "Imp": 0.3182711198428291,
          "Past": 0.40471512770137524,
          "Pres": 0.25343811394891946,
          "level": "B1"
         },
         {
          "Fut": 0.04572564612326044,
          "Imp": 0.21669980119284293,
          "Past": 0.2783300198807157,
          "Pres": 0.4592445328031809,
          "level": "B1"
         },
         {
          "Fut": 0.010025062656641603,
          "Imp": 0.3082706766917293,
          "Past": 0.23558897243107768,
          "Pres": 0.44611528822055135,
          "level": "B1"
         },
         {
          "Fut": 0.012096774193548387,
          "Imp": 0.32661290322580644,
          "Past": 0.33064516129032256,
          "Pres": 0.33064516129032256,
          "level": "B1"
         },
         {
          "Fut": 0.047619047619047616,
          "Imp": 0.09523809523809523,
          "Past": 0.047619047619047616,
          "Pres": 0.8095238095238095,
          "level": "B1"
         },
         {
          "Fut": 0,
          "Imp": 0.125,
          "Past": 0.25,
          "Pres": 0.625,
          "level": "B1"
         },
         {
          "Fut": 0,
          "Imp": 0.25,
          "Past": 0.125,
          "Pres": 0.625,
          "level": "B1"
         },
         {
          "Fut": 0,
          "Imp": 0,
          "Past": 0.09090909090909091,
          "Pres": 0.9090909090909091,
          "level": "B1"
         },
         {
          "Fut": 0,
          "Imp": 0,
          "Past": 0.3333333333333333,
          "Pres": 0.6666666666666666,
          "level": "B1"
         },
         {
          "Fut": 0.05555555555555555,
          "Imp": 0.5555555555555556,
          "Past": 0.2222222222222222,
          "Pres": 0.16666666666666666,
          "level": "B1"
         },
         {
          "Fut": 0.057692307692307696,
          "Imp": 0,
          "Past": 0.07692307692307693,
          "Pres": 0.8653846153846154,
          "level": "B1"
         },
         {
          "Fut": 0.05555555555555555,
          "Imp": 0,
          "Past": 0.05555555555555555,
          "Pres": 0.8888888888888888,
          "level": "B1"
         },
         {
          "Fut": 0,
          "Imp": 0,
          "Past": 0.2857142857142857,
          "Pres": 0.7142857142857143,
          "level": "B1"
         },
         {
          "Fut": 0,
          "Imp": 0,
          "Past": 0.07692307692307693,
          "Pres": 0.9230769230769231,
          "level": "B1"
         },
         {
          "Fut": 0,
          "Imp": 0.14285714285714285,
          "Past": 0.2857142857142857,
          "Pres": 0.5714285714285714,
          "level": "B1"
         },
         {
          "Fut": 0,
          "Imp": 0,
          "Past": 0,
          "Pres": 1,
          "level": "B1"
         },
         {
          "Fut": 0.6,
          "Imp": 0.13333333333333333,
          "Past": 0.13333333333333333,
          "Pres": 0.13333333333333333,
          "level": "B1"
         },
         {
          "Fut": 0.03018867924528302,
          "Imp": 0.33962264150943394,
          "Past": 0.44150943396226416,
          "Pres": 0.18867924528301888,
          "level": "B2"
         },
         {
          "Fut": 0.04189944134078212,
          "Imp": 0.16759776536312848,
          "Past": 0.22905027932960895,
          "Pres": 0.5614525139664804,
          "level": "B2"
         },
         {
          "Fut": 0,
          "Imp": 0.32558139534883723,
          "Past": 0.36627906976744184,
          "Pres": 0.3081395348837209,
          "level": "B2"
         },
         {
          "Fut": 0.058823529411764705,
          "Imp": 0.23529411764705882,
          "Past": 0.11764705882352941,
          "Pres": 0.5882352941176471,
          "level": "B2"
         },
         {
          "Fut": 0.01818181818181818,
          "Imp": 0.4446280991735537,
          "Past": 0.3074380165289256,
          "Pres": 0.22975206611570248,
          "level": "B2"
         },
         {
          "Fut": 0.007692307692307693,
          "Imp": 0.21153846153846154,
          "Past": 0.6653846153846154,
          "Pres": 0.11538461538461539,
          "level": "B2"
         },
         {
          "Fut": 0,
          "Imp": 0,
          "Past": 0.07692307692307693,
          "Pres": 0.9230769230769231,
          "level": "B2"
         },
         {
          "Fut": 0.013215859030837005,
          "Imp": 0.11013215859030837,
          "Past": 0.15859030837004406,
          "Pres": 0.7180616740088106,
          "level": "B2"
         },
         {
          "Fut": 0.06976744186046512,
          "Imp": 0.13953488372093023,
          "Past": 0.16279069767441862,
          "Pres": 0.627906976744186,
          "level": "B2"
         },
         {
          "Fut": 0,
          "Imp": 0,
          "Past": 0,
          "Pres": 1,
          "level": "B2"
         },
         {
          "Fut": 0.09803921568627451,
          "Imp": 0.13725490196078433,
          "Past": 0.18627450980392157,
          "Pres": 0.5784313725490197,
          "level": "B2"
         },
         {
          "Fut": 0.036036036036036036,
          "Imp": 0.32732732732732733,
          "Past": 0.3123123123123123,
          "Pres": 0.32432432432432434,
          "level": "B2"
         },
         {
          "Fut": 0.010752688172043012,
          "Imp": 0.3655913978494624,
          "Past": 0.41935483870967744,
          "Pres": 0.20430107526881722,
          "level": "B2"
         },
         {
          "Fut": 0.047619047619047616,
          "Imp": 0.0663265306122449,
          "Past": 0.21768707482993196,
          "Pres": 0.6683673469387755,
          "level": "B2"
         },
         {
          "Fut": 0.04804804804804805,
          "Imp": 0.07807807807807808,
          "Past": 0.3003003003003003,
          "Pres": 0.5735735735735735,
          "level": "B2"
         },
         {
          "Fut": 0,
          "Imp": 0.020833333333333332,
          "Past": 0.125,
          "Pres": 0.8541666666666666,
          "level": "B2"
         },
         {
          "Fut": 0.046511627906976744,
          "Imp": 0.2558139534883721,
          "Past": 0.5348837209302325,
          "Pres": 0.16279069767441862,
          "level": "B2"
         },
         {
          "Fut": 0.014705882352941176,
          "Imp": 0.04411764705882353,
          "Past": 0.19117647058823528,
          "Pres": 0.75,
          "level": "B2"
         },
         {
          "Fut": 0.028089887640449437,
          "Imp": 0.2808988764044944,
          "Past": 0.3258426966292135,
          "Pres": 0.3651685393258427,
          "level": "B2"
         },
         {
          "Fut": 0,
          "Imp": 0.07142857142857142,
          "Past": 0.5,
          "Pres": 0.42857142857142855,
          "level": "B2"
         },
         {
          "Fut": 0.05,
          "Imp": 0.07352941176470588,
          "Past": 0.1323529411764706,
          "Pres": 0.7441176470588236,
          "level": "B2"
         },
         {
          "Fut": 0.02,
          "Imp": 0.36,
          "Past": 0.06,
          "Pres": 0.56,
          "level": "B2"
         },
         {
          "Fut": 0.05555555555555555,
          "Imp": 0.16666666666666666,
          "Past": 0.16666666666666666,
          "Pres": 0.6111111111111112,
          "level": "B2"
         },
         {
          "Fut": 0,
          "Imp": 0,
          "Past": 0,
          "Pres": 1,
          "level": "B2"
         },
         {
          "Fut": 0,
          "Imp": 0.09090909090909091,
          "Past": 0.5151515151515151,
          "Pres": 0.3939393939393939,
          "level": "B2"
         },
         {
          "Fut": 0,
          "Imp": 0.3684210526315789,
          "Past": 0,
          "Pres": 0.631578947368421,
          "level": "B2"
         },
         {
          "Fut": 0,
          "Imp": 0.1111111111111111,
          "Past": 0,
          "Pres": 0.8888888888888888,
          "level": "B2"
         },
         {
          "Fut": 0,
          "Imp": 0.14285714285714285,
          "Past": 0,
          "Pres": 0.8571428571428571,
          "level": "B2"
         },
         {
          "Fut": 0,
          "Imp": 0.04,
          "Past": 0.12,
          "Pres": 0.84,
          "level": "B2"
         },
         {
          "Fut": 0,
          "Imp": 0.42857142857142855,
          "Past": 0,
          "Pres": 0.5714285714285714,
          "level": "B2"
         },
         {
          "Fut": 0,
          "Imp": 0.05555555555555555,
          "Past": 0.05555555555555555,
          "Pres": 0.8888888888888888,
          "level": "B2"
         },
         {
          "Fut": 0.2,
          "Imp": 0.2,
          "Past": 0.3,
          "Pres": 0.3,
          "level": "B2"
         },
         {
          "Fut": 0,
          "Imp": 0,
          "Past": 0.2222222222222222,
          "Pres": 0.7777777777777778,
          "level": "B2"
         },
         {
          "Fut": 0,
          "Imp": 0,
          "Past": 0,
          "Pres": 1,
          "level": "B2"
         },
         {
          "Fut": 0,
          "Imp": 0.5625,
          "Past": 0.1875,
          "Pres": 0.25,
          "level": "B2"
         },
         {
          "Fut": 0.16666666666666666,
          "Imp": 0,
          "Past": 0.75,
          "Pres": 0.08333333333333333,
          "level": "B2"
         },
         {
          "Fut": 0,
          "Imp": 0,
          "Past": 0.125,
          "Pres": 0.875,
          "level": "B2"
         },
         {
          "Fut": 0.03225806451612903,
          "Imp": 0.0967741935483871,
          "Past": 0.12903225806451613,
          "Pres": 0.7419354838709677,
          "level": "B2"
         },
         {
          "Fut": 0.005434782608695652,
          "Imp": 0.13043478260869565,
          "Past": 0.33695652173913043,
          "Pres": 0.5271739130434783,
          "level": "B2"
         },
         {
          "Fut": 0.03278688524590164,
          "Imp": 0.04918032786885246,
          "Past": 0.13114754098360656,
          "Pres": 0.7868852459016393,
          "level": "B2"
         },
         {
          "Fut": 0,
          "Imp": 0.07936507936507936,
          "Past": 0.15873015873015872,
          "Pres": 0.7619047619047619,
          "level": "B2"
         },
         {
          "Fut": 0.08139534883720931,
          "Imp": 0.13953488372093023,
          "Past": 0.27906976744186046,
          "Pres": 0.5,
          "level": "B2"
         },
         {
          "Fut": 0,
          "Imp": 0.16666666666666666,
          "Past": 0.18518518518518517,
          "Pres": 0.6481481481481481,
          "level": "B2"
         },
         {
          "Fut": 0.0425531914893617,
          "Imp": 0.02127659574468085,
          "Past": 0.23404255319148937,
          "Pres": 0.7021276595744681,
          "level": "B2"
         },
         {
          "Fut": 0,
          "Imp": 0.058823529411764705,
          "Past": 0.11764705882352941,
          "Pres": 0.8235294117647058,
          "level": "B2"
         },
         {
          "Fut": 0.017543859649122806,
          "Imp": 0.14912280701754385,
          "Past": 0.18421052631578946,
          "Pres": 0.6491228070175439,
          "level": "B2"
         },
         {
          "Fut": 0,
          "Imp": 0.03125,
          "Past": 0.3125,
          "Pres": 0.65625,
          "level": "B2"
         },
         {
          "Fut": 0.023255813953488372,
          "Imp": 0,
          "Past": 0.13953488372093023,
          "Pres": 0.8372093023255814,
          "level": "B2"
         },
         {
          "Fut": 0.08823529411764706,
          "Imp": 0.08823529411764706,
          "Past": 0.4411764705882353,
          "Pres": 0.38235294117647056,
          "level": "B2"
         },
         {
          "Fut": 0.08823529411764706,
          "Imp": 0.029411764705882353,
          "Past": 0.11764705882352941,
          "Pres": 0.7647058823529411,
          "level": "B2"
         },
         {
          "Fut": 0.036585365853658534,
          "Imp": 0.024390243902439025,
          "Past": 0.14634146341463414,
          "Pres": 0.7926829268292683,
          "level": "B2"
         },
         {
          "Fut": 0,
          "Imp": 0,
          "Past": 0,
          "Pres": 1,
          "level": "B2"
         },
         {
          "Fut": 0.01568627450980392,
          "Imp": 0.1843137254901961,
          "Past": 0.2784313725490196,
          "Pres": 0.5215686274509804,
          "level": "B2"
         },
         {
          "Fut": 0.017391304347826087,
          "Imp": 0.06086956521739131,
          "Past": 0.3739130434782609,
          "Pres": 0.5478260869565217,
          "level": "B2"
         },
         {
          "Fut": 0.05555555555555555,
          "Imp": 0,
          "Past": 0.05555555555555555,
          "Pres": 0.8888888888888888,
          "level": "B2"
         },
         {
          "Fut": 0.14285714285714285,
          "Imp": 0,
          "Past": 0.7142857142857143,
          "Pres": 0.14285714285714285,
          "level": "B2"
         },
         {
          "Fut": 0,
          "Imp": 0.17142857142857143,
          "Past": 0.4,
          "Pres": 0.42857142857142855,
          "level": "B2"
         },
         {
          "Fut": 0.05405405405405406,
          "Imp": 0.05405405405405406,
          "Past": 0.02702702702702703,
          "Pres": 0.8648648648648649,
          "level": "B2"
         },
         {
          "Fut": 0.11764705882352941,
          "Imp": 0.11764705882352941,
          "Past": 0,
          "Pres": 0.7647058823529411,
          "level": "B2"
         },
         {
          "Fut": 0.3611111111111111,
          "Imp": 0.1111111111111111,
          "Past": 0.1111111111111111,
          "Pres": 0.4166666666666667,
          "level": "B2"
         },
         {
          "Fut": 0,
          "Imp": 0.23255813953488372,
          "Past": 0.3953488372093023,
          "Pres": 0.37209302325581395,
          "level": "B2"
         },
         {
          "Fut": 0.140625,
          "Imp": 0.03125,
          "Past": 0.109375,
          "Pres": 0.71875,
          "level": "B2"
         },
         {
          "Fut": 0,
          "Imp": 0.3125,
          "Past": 0.375,
          "Pres": 0.3125,
          "level": "B2"
         },
         {
          "Fut": 0,
          "Imp": 0.09615384615384616,
          "Past": 0.11538461538461539,
          "Pres": 0.7884615384615384,
          "level": "B2"
         },
         {
          "Fut": 0,
          "Imp": 0,
          "Past": 0.8571428571428571,
          "Pres": 0.14285714285714285,
          "level": "B2"
         },
         {
          "Fut": 0,
          "Imp": 0.14285714285714285,
          "Past": 0.2857142857142857,
          "Pres": 0.5714285714285714,
          "level": "B2"
         },
         {
          "Fut": 0,
          "Imp": 0.18292682926829268,
          "Past": 0.036585365853658534,
          "Pres": 0.7804878048780488,
          "level": "B2"
         },
         {
          "Fut": 0.034482758620689655,
          "Imp": 0.034482758620689655,
          "Past": 0.22413793103448276,
          "Pres": 0.7068965517241379,
          "level": "B2"
         },
         {
          "Fut": 0,
          "Imp": 0,
          "Past": 0.2,
          "Pres": 0.8,
          "level": "B2"
         },
         {
          "Fut": 0.06666666666666667,
          "Imp": 0.06666666666666667,
          "Past": 0.06666666666666667,
          "Pres": 0.8,
          "level": "B2"
         },
         {
          "Fut": 0,
          "Imp": 0.3333333333333333,
          "Past": 0,
          "Pres": 0.6666666666666666,
          "level": "B2"
         },
         {
          "Fut": 0,
          "Imp": 0,
          "Past": 0.6363636363636364,
          "Pres": 0.36363636363636365,
          "level": "B2"
         },
         {
          "Fut": 0.03529411764705882,
          "Imp": 0.12941176470588237,
          "Past": 0.2823529411764706,
          "Pres": 0.5529411764705883,
          "level": "B2"
         },
         {
          "Fut": 0,
          "Imp": 0,
          "Past": 0.08333333333333333,
          "Pres": 0.9166666666666666,
          "level": "B2"
         },
         {
          "Fut": 0.04,
          "Imp": 0.04,
          "Past": 0.12,
          "Pres": 0.8,
          "level": "B2"
         },
         {
          "Fut": 0,
          "Imp": 0.125,
          "Past": 0.125,
          "Pres": 0.75,
          "level": "B2"
         },
         {
          "Fut": 0.058823529411764705,
          "Imp": 0.08823529411764706,
          "Past": 0.14705882352941177,
          "Pres": 0.7058823529411765,
          "level": "B2"
         },
         {
          "Fut": 0,
          "Imp": 0.38095238095238093,
          "Past": 0.25396825396825395,
          "Pres": 0.36507936507936506,
          "level": "B2"
         },
         {
          "Fut": 0,
          "Imp": 0.04878048780487805,
          "Past": 0.14634146341463414,
          "Pres": 0.8048780487804879,
          "level": "B2"
         },
         {
          "Fut": 0.1111111111111111,
          "Imp": 0,
          "Past": 0.05555555555555555,
          "Pres": 0.8333333333333334,
          "level": "B2"
         },
         {
          "Fut": 0.05,
          "Imp": 0.3,
          "Past": 0.55,
          "Pres": 0.1,
          "level": "B2"
         },
         {
          "Fut": 0.15789473684210525,
          "Imp": 0.05263157894736842,
          "Past": 0.3157894736842105,
          "Pres": 0.47368421052631576,
          "level": "B2"
         },
         {
          "Fut": 0.023255813953488372,
          "Imp": 0.3488372093023256,
          "Past": 0.27906976744186046,
          "Pres": 0.3488372093023256,
          "level": "B2"
         },
         {
          "Fut": 0.038461538461538464,
          "Imp": 0.11538461538461539,
          "Past": 0.19230769230769232,
          "Pres": 0.6538461538461539,
          "level": "B2"
         },
         {
          "Fut": 0,
          "Imp": 0.043478260869565216,
          "Past": 0.13043478260869565,
          "Pres": 0.8260869565217391,
          "level": "B2"
         },
         {
          "Fut": 0.25,
          "Imp": 0.08333333333333333,
          "Past": 0.08333333333333333,
          "Pres": 0.5833333333333334,
          "level": "B2"
         },
         {
          "Fut": 0.125,
          "Imp": 0,
          "Past": 0,
          "Pres": 0.875,
          "level": "B2"
         },
         {
          "Fut": 0.038834951456310676,
          "Imp": 0.05825242718446602,
          "Past": 0.1650485436893204,
          "Pres": 0.7378640776699029,
          "level": "B2"
         },
         {
          "Fut": 0,
          "Imp": 0.13043478260869565,
          "Past": 0.043478260869565216,
          "Pres": 0.8260869565217391,
          "level": "B2"
         },
         {
          "Fut": 0.12121212121212122,
          "Imp": 0.06060606060606061,
          "Past": 0.30303030303030304,
          "Pres": 0.5151515151515151,
          "level": "B2"
         },
         {
          "Fut": 0,
          "Imp": 0.12727272727272726,
          "Past": 0.10909090909090909,
          "Pres": 0.7636363636363637,
          "level": "B2"
         },
         {
          "Fut": 0,
          "Imp": 0,
          "Past": 0,
          "Pres": 1,
          "level": "B2"
         },
         {
          "Fut": 0.057692307692307696,
          "Imp": 0,
          "Past": 0.07692307692307693,
          "Pres": 0.8653846153846154,
          "level": "B2"
         },
         {
          "Fut": 0,
          "Imp": 0.02127659574468085,
          "Past": 0.1276595744680851,
          "Pres": 0.851063829787234,
          "level": "B2"
         },
         {
          "Fut": 0,
          "Imp": 0,
          "Past": 0.3,
          "Pres": 0.7,
          "level": "B2"
         },
         {
          "Fut": 0.07792207792207792,
          "Imp": 0.012987012987012988,
          "Past": 0.11688311688311688,
          "Pres": 0.7922077922077922,
          "level": "B2"
         },
         {
          "Fut": 0,
          "Imp": 0.05084745762711865,
          "Past": 0.0847457627118644,
          "Pres": 0.864406779661017,
          "level": "B2"
         },
         {
          "Fut": 0,
          "Imp": 0.3,
          "Past": 0.6,
          "Pres": 0.1,
          "level": "B2"
         },
         {
          "Fut": 0,
          "Imp": 0,
          "Past": 0,
          "Pres": 0,
          "level": "B2"
         },
         {
          "Fut": 0,
          "Imp": 0.6666666666666666,
          "Past": 0.3333333333333333,
          "Pres": 0,
          "level": "B2"
         },
         {
          "Fut": 0,
          "Imp": 0,
          "Past": 0.2,
          "Pres": 0.8,
          "level": "B2"
         },
         {
          "Fut": 0.75,
          "Imp": 0,
          "Past": 0.25,
          "Pres": 0,
          "level": "B2"
         },
         {
          "Fut": 0,
          "Imp": 0.25,
          "Past": 0,
          "Pres": 0.75,
          "level": "B2"
         },
         {
          "Fut": 0,
          "Imp": 0,
          "Past": 0,
          "Pres": 1,
          "level": "B2"
         },
         {
          "Fut": 0,
          "Imp": 0,
          "Past": 0.3333333333333333,
          "Pres": 0.6666666666666666,
          "level": "B2"
         },
         {
          "Fut": 0.14285714285714285,
          "Imp": 0,
          "Past": 0,
          "Pres": 0.8571428571428571,
          "level": "B2"
         },
         {
          "Fut": 0,
          "Imp": 0,
          "Past": 0.6,
          "Pres": 0.4,
          "level": "B2"
         },
         {
          "Fut": 0,
          "Imp": 0.05555555555555555,
          "Past": 0.2777777777777778,
          "Pres": 0.6666666666666666,
          "level": "B2"
         },
         {
          "Fut": 0,
          "Imp": 0,
          "Past": 0,
          "Pres": 1,
          "level": "B2"
         },
         {
          "Fut": 0,
          "Imp": 0,
          "Past": 0,
          "Pres": 1,
          "level": "B2"
         }
        ]
       },
       "facet": {
        "field": "level",
        "type": "nominal"
       },
       "spec": {
        "encoding": {
         "x": {
          "bin": {
           "maxbins": 30
          },
          "field": "Pres",
          "type": "quantitative"
         },
         "y": {
          "aggregate": "count",
          "type": "quantitative"
         }
        },
        "mark": "bar"
       }
      },
      "image/png": "[encoded data removed]",
      "text/plain": [
       "<VegaLite 4 object>\n",
       "\n",
       "If you see this message, it means the renderer has not been properly enabled\n",
       "for the frontend that you are using. For more information, see\n",
       "https://altair-viz.github.io/user_guide/troubleshooting.html\n"
      ]
     },
     "execution_count": 37,
     "metadata": {},
     "output_type": "execute_result"
    }
   ],
   "source": [
    "alt.Chart(level_verb_tense_df).mark_bar().encode(x = alt.X('Pres', bin = alt.Bin(maxbins = 30)), y = 'count()').facet('level')"
   ]
  },
  {
   "cell_type": "markdown",
   "id": "minimal-music",
   "metadata": {},
   "source": [
    "### Future Tense"
   ]
  },
  {
   "cell_type": "code",
   "execution_count": 38,
   "id": "promising-delight",
   "metadata": {},
   "outputs": [
    {
     "data": {
      "application/vnd.vegalite.v4+json": {
       "$schema": "https://vega.github.io/schema/vega-lite/v4.8.1.json",
       "config": {
        "view": {
         "continuousHeight": 300,
         "continuousWidth": 400
        }
       },
       "data": {
        "name": "data-a46874723513081149dddc40d2b1ff27"
       },
       "datasets": {
        "data-a46874723513081149dddc40d2b1ff27": [
         {
          "Fut": 0,
          "Imp": 0,
          "Past": 0,
          "Pres": 1,
          "level": "A1"
         },
         {
          "Fut": 0,
          "Imp": 0,
          "Past": 0,
          "Pres": 1,
          "level": "A1"
         },
         {
          "Fut": 0,
          "Imp": 0,
          "Past": 0,
          "Pres": 1,
          "level": "A1"
         },
         {
          "Fut": 0,
          "Imp": 0,
          "Past": 0,
          "Pres": 1,
          "level": "A1"
         },
         {
          "Fut": 0,
          "Imp": 0,
          "Past": 0,
          "Pres": 1,
          "level": "A1"
         },
         {
          "Fut": 0,
          "Imp": 0,
          "Past": 0.12962962962962962,
          "Pres": 0.8703703703703703,
          "level": "A1"
         },
         {
          "Fut": 0.036585365853658534,
          "Imp": 0.4268292682926829,
          "Past": 0.2682926829268293,
          "Pres": 0.2682926829268293,
          "level": "A1"
         },
         {
          "Fut": 0,
          "Imp": 0.3597122302158273,
          "Past": 0.49640287769784175,
          "Pres": 0.14388489208633093,
          "level": "A1"
         },
         {
          "Fut": 0.007462686567164179,
          "Imp": 0.23880597014925373,
          "Past": 0.7014925373134329,
          "Pres": 0.05223880597014925,
          "level": "A1"
         },
         {
          "Fut": 0.05555555555555555,
          "Imp": 0.16666666666666666,
          "Past": 0.3888888888888889,
          "Pres": 0.3888888888888889,
          "level": "A1"
         },
         {
          "Fut": 0,
          "Imp": 0.3008849557522124,
          "Past": 0.48672566371681414,
          "Pres": 0.21238938053097345,
          "level": "A1"
         },
         {
          "Fut": 0.12264150943396226,
          "Imp": 0.018867924528301886,
          "Past": 0.3490566037735849,
          "Pres": 0.5094339622641509,
          "level": "A1"
         },
         {
          "Fut": 0.03571428571428571,
          "Imp": 0.23214285714285715,
          "Past": 0.48214285714285715,
          "Pres": 0.25,
          "level": "A1"
         },
         {
          "Fut": 0.06363636363636363,
          "Imp": 0.12121212121212122,
          "Past": 0.49696969696969695,
          "Pres": 0.3181818181818182,
          "level": "A1"
         },
         {
          "Fut": 0.02,
          "Imp": 0.32,
          "Past": 0.46,
          "Pres": 0.2,
          "level": "A1"
         },
         {
          "Fut": 0.012987012987012988,
          "Imp": 0.24675324675324675,
          "Past": 0.33766233766233766,
          "Pres": 0.4025974025974026,
          "level": "A1"
         },
         {
          "Fut": 0.08888888888888889,
          "Imp": 0.21666666666666667,
          "Past": 0.46111111111111114,
          "Pres": 0.23333333333333334,
          "level": "A1"
         },
         {
          "Fut": 0.014285714285714285,
          "Imp": 0.2785714285714286,
          "Past": 0.5428571428571428,
          "Pres": 0.16428571428571428,
          "level": "A1"
         },
         {
          "Fut": 0,
          "Imp": 0.07142857142857142,
          "Past": 0.10714285714285714,
          "Pres": 0.8214285714285714,
          "level": "A1"
         },
         {
          "Fut": 0.05056179775280899,
          "Imp": 0.0898876404494382,
          "Past": 0.38764044943820225,
          "Pres": 0.47191011235955055,
          "level": "A1"
         },
         {
          "Fut": 0.04,
          "Imp": 0.24,
          "Past": 0.32,
          "Pres": 0.4,
          "level": "A1"
         },
         {
          "Fut": 0,
          "Imp": 0.11764705882352941,
          "Past": 0.23529411764705882,
          "Pres": 0.6470588235294118,
          "level": "A1"
         },
         {
          "Fut": 0.041666666666666664,
          "Imp": 0.08333333333333333,
          "Past": 0.125,
          "Pres": 0.75,
          "level": "A1"
         },
         {
          "Fut": 0,
          "Imp": 0,
          "Past": 0.14285714285714285,
          "Pres": 0.8571428571428571,
          "level": "A1"
         },
         {
          "Fut": 0.045454545454545456,
          "Imp": 0.09090909090909091,
          "Past": 0.045454545454545456,
          "Pres": 0.8181818181818182,
          "level": "A1"
         },
         {
          "Fut": 0,
          "Imp": 0,
          "Past": 0.10526315789473684,
          "Pres": 0.8947368421052632,
          "level": "A1"
         },
         {
          "Fut": 0,
          "Imp": 0,
          "Past": 0,
          "Pres": 1,
          "level": "A1"
         },
         {
          "Fut": 0.05263157894736842,
          "Imp": 0,
          "Past": 0,
          "Pres": 0.9473684210526315,
          "level": "A1"
         },
         {
          "Fut": 0,
          "Imp": 0,
          "Past": 0,
          "Pres": 1,
          "level": "A1"
         },
         {
          "Fut": 0,
          "Imp": 0,
          "Past": 0.05405405405405406,
          "Pres": 0.9459459459459459,
          "level": "A1"
         },
         {
          "Fut": 0.09090909090909091,
          "Imp": 0.030303030303030304,
          "Past": 0.21212121212121213,
          "Pres": 0.6666666666666666,
          "level": "A1"
         },
         {
          "Fut": 0,
          "Imp": 0,
          "Past": 0.11764705882352941,
          "Pres": 0.8823529411764706,
          "level": "A1"
         },
         {
          "Fut": 0,
          "Imp": 0,
          "Past": 0.02,
          "Pres": 0.98,
          "level": "A1"
         },
         {
          "Fut": 0,
          "Imp": 0,
          "Past": 0,
          "Pres": 1,
          "level": "A1"
         },
         {
          "Fut": 0,
          "Imp": 0,
          "Past": 0,
          "Pres": 1,
          "level": "A1"
         },
         {
          "Fut": 0,
          "Imp": 0,
          "Past": 0,
          "Pres": 1,
          "level": "A1"
         },
         {
          "Fut": 0,
          "Imp": 0,
          "Past": 0,
          "Pres": 1,
          "level": "A1"
         },
         {
          "Fut": 0.034482758620689655,
          "Imp": 0,
          "Past": 0,
          "Pres": 0.9655172413793104,
          "level": "A1"
         },
         {
          "Fut": 0,
          "Imp": 0,
          "Past": 0,
          "Pres": 1,
          "level": "A1"
         },
         {
          "Fut": 0,
          "Imp": 0,
          "Past": 0.037037037037037035,
          "Pres": 0.9629629629629629,
          "level": "A1"
         },
         {
          "Fut": 0,
          "Imp": 0,
          "Past": 0,
          "Pres": 1,
          "level": "A1"
         },
         {
          "Fut": 0,
          "Imp": 0,
          "Past": 0.1,
          "Pres": 0.9,
          "level": "A1"
         },
         {
          "Fut": 0,
          "Imp": 0,
          "Past": 0,
          "Pres": 1,
          "level": "A1"
         },
         {
          "Fut": 0,
          "Imp": 0,
          "Past": 0.046511627906976744,
          "Pres": 0.9534883720930233,
          "level": "A1"
         },
         {
          "Fut": 0,
          "Imp": 0,
          "Past": 0,
          "Pres": 1,
          "level": "A1"
         },
         {
          "Fut": 0.25,
          "Imp": 0,
          "Past": 0,
          "Pres": 0.75,
          "level": "A1"
         },
         {
          "Fut": 0,
          "Imp": 0,
          "Past": 0,
          "Pres": 1,
          "level": "A1"
         },
         {
          "Fut": 0.21052631578947367,
          "Imp": 0,
          "Past": 0,
          "Pres": 0.7894736842105263,
          "level": "A1"
         },
         {
          "Fut": 0,
          "Imp": 0,
          "Past": 0.040697674418604654,
          "Pres": 0.9593023255813954,
          "level": "A1"
         },
         {
          "Fut": 0,
          "Imp": 0,
          "Past": 0.010526315789473684,
          "Pres": 0.9894736842105263,
          "level": "A1"
         },
         {
          "Fut": 0.0064516129032258064,
          "Imp": 0,
          "Past": 0.04516129032258064,
          "Pres": 0.9483870967741935,
          "level": "A1"
         },
         {
          "Fut": 0,
          "Imp": 0,
          "Past": 0.024390243902439025,
          "Pres": 0.975609756097561,
          "level": "A1"
         },
         {
          "Fut": 0,
          "Imp": 0.0037313432835820895,
          "Past": 0.11940298507462686,
          "Pres": 0.8768656716417911,
          "level": "A1"
         },
         {
          "Fut": 0,
          "Imp": 0,
          "Past": 0.03205128205128205,
          "Pres": 0.967948717948718,
          "level": "A1"
         },
         {
          "Fut": 0,
          "Imp": 0,
          "Past": 0.07471264367816093,
          "Pres": 0.9252873563218391,
          "level": "A1"
         },
         {
          "Fut": 0,
          "Imp": 0,
          "Past": 0.085,
          "Pres": 0.915,
          "level": "A1"
         },
         {
          "Fut": 0,
          "Imp": 0.004739336492890996,
          "Past": 0.052132701421800945,
          "Pres": 0.943127962085308,
          "level": "A1"
         },
         {
          "Fut": 0,
          "Imp": 0,
          "Past": 0.08403361344537816,
          "Pres": 0.9159663865546218,
          "level": "A1"
         },
         {
          "Fut": 0.003861003861003861,
          "Imp": 0,
          "Past": 0.04247104247104247,
          "Pres": 0.9536679536679536,
          "level": "A1"
         },
         {
          "Fut": 0.004329004329004329,
          "Imp": 0.008658008658008658,
          "Past": 0.09956709956709957,
          "Pres": 0.8874458874458875,
          "level": "A1"
         },
         {
          "Fut": 0.0038910505836575876,
          "Imp": 0,
          "Past": 0.054474708171206226,
          "Pres": 0.9416342412451362,
          "level": "A1"
         },
         {
          "Fut": 0,
          "Imp": 0.061855670103092786,
          "Past": 0.1958762886597938,
          "Pres": 0.7422680412371134,
          "level": "A1"
         },
         {
          "Fut": 0.010362694300518135,
          "Imp": 0.015544041450777202,
          "Past": 0.03626943005181347,
          "Pres": 0.9378238341968912,
          "level": "A1"
         },
         {
          "Fut": 0.01694915254237288,
          "Imp": 0.006779661016949152,
          "Past": 0.05423728813559322,
          "Pres": 0.9220338983050848,
          "level": "A1"
         },
         {
          "Fut": 0.011299435028248588,
          "Imp": 0.005649717514124294,
          "Past": 0.07909604519774012,
          "Pres": 0.903954802259887,
          "level": "A1"
         },
         {
          "Fut": 0.023166023166023165,
          "Imp": 0.019305019305019305,
          "Past": 0.06563706563706563,
          "Pres": 0.8918918918918919,
          "level": "A1"
         },
         {
          "Fut": 0.03896103896103896,
          "Imp": 0.025974025974025976,
          "Past": 0.09090909090909091,
          "Pres": 0.8441558441558441,
          "level": "A1"
         },
         {
          "Fut": 0,
          "Imp": 0.013333333333333334,
          "Past": 0.02666666666666667,
          "Pres": 0.96,
          "level": "A1"
         },
         {
          "Fut": 0.017391304347826087,
          "Imp": 0.008695652173913044,
          "Past": 0.10434782608695652,
          "Pres": 0.8695652173913043,
          "level": "A1"
         },
         {
          "Fut": 0.01818181818181818,
          "Imp": 0.007272727272727273,
          "Past": 0.08727272727272728,
          "Pres": 0.8872727272727273,
          "level": "A1"
         },
         {
          "Fut": 0,
          "Imp": 0,
          "Past": 0.091324200913242,
          "Pres": 0.908675799086758,
          "level": "A1"
         },
         {
          "Fut": 0.014285714285714285,
          "Imp": 0,
          "Past": 0.06428571428571428,
          "Pres": 0.9214285714285714,
          "level": "A1"
         },
         {
          "Fut": 0,
          "Imp": 0.016129032258064516,
          "Past": 0.04838709677419355,
          "Pres": 0.9354838709677419,
          "level": "A1"
         },
         {
          "Fut": 0.015151515151515152,
          "Imp": 0,
          "Past": 0.15151515151515152,
          "Pres": 0.8333333333333334,
          "level": "A1"
         },
         {
          "Fut": 0.017241379310344827,
          "Imp": 0.017241379310344827,
          "Past": 0.06896551724137931,
          "Pres": 0.896551724137931,
          "level": "A1"
         },
         {
          "Fut": 0.015625,
          "Imp": 0.0078125,
          "Past": 0.1015625,
          "Pres": 0.875,
          "level": "A1"
         },
         {
          "Fut": 0,
          "Imp": 0.02564102564102564,
          "Past": 0.1794871794871795,
          "Pres": 0.7948717948717948,
          "level": "A1"
         },
         {
          "Fut": 0.024390243902439025,
          "Imp": 0,
          "Past": 0.07317073170731707,
          "Pres": 0.9024390243902439,
          "level": "A1"
         },
         {
          "Fut": 0,
          "Imp": 0,
          "Past": 0.0425531914893617,
          "Pres": 0.9574468085106383,
          "level": "A1"
         },
         {
          "Fut": 0.029411764705882353,
          "Imp": 0.014705882352941176,
          "Past": 0.1323529411764706,
          "Pres": 0.8235294117647058,
          "level": "A1"
         },
         {
          "Fut": 0,
          "Imp": 0.16591928251121077,
          "Past": 0.22869955156950672,
          "Pres": 0.6053811659192825,
          "level": "A1"
         },
         {
          "Fut": 0.00423728813559322,
          "Imp": 0.046610169491525424,
          "Past": 0.07627118644067797,
          "Pres": 0.8728813559322034,
          "level": "A1"
         },
         {
          "Fut": 0.01818181818181818,
          "Imp": 0.00909090909090909,
          "Past": 0.10909090909090909,
          "Pres": 0.8636363636363636,
          "level": "A1"
         },
         {
          "Fut": 0.007462686567164179,
          "Imp": 0,
          "Past": 0.04477611940298507,
          "Pres": 0.9477611940298507,
          "level": "A1"
         },
         {
          "Fut": 0,
          "Imp": 0.006493506493506494,
          "Past": 0.032467532467532464,
          "Pres": 0.961038961038961,
          "level": "A1"
         },
         {
          "Fut": 0,
          "Imp": 0.0319634703196347,
          "Past": 0.1187214611872146,
          "Pres": 0.8493150684931506,
          "level": "A1"
         },
         {
          "Fut": 0.006369426751592357,
          "Imp": 0.009554140127388535,
          "Past": 0.09235668789808917,
          "Pres": 0.89171974522293,
          "level": "A1"
         },
         {
          "Fut": 0,
          "Imp": 0.019138755980861243,
          "Past": 0.11483253588516747,
          "Pres": 0.8660287081339713,
          "level": "A1"
         },
         {
          "Fut": 0.013513513513513514,
          "Imp": 0.08783783783783784,
          "Past": 0.17567567567567569,
          "Pres": 0.722972972972973,
          "level": "A1"
         },
         {
          "Fut": 0,
          "Imp": 0.009900990099009901,
          "Past": 0.06930693069306931,
          "Pres": 0.9207920792079208,
          "level": "A1"
         },
         {
          "Fut": 0,
          "Imp": 0,
          "Past": 0.17647058823529413,
          "Pres": 0.8235294117647058,
          "level": "A1"
         },
         {
          "Fut": 0.041666666666666664,
          "Imp": 0,
          "Past": 0.041666666666666664,
          "Pres": 0.9166666666666666,
          "level": "A1"
         },
         {
          "Fut": 0,
          "Imp": 0,
          "Past": 0.09523809523809523,
          "Pres": 0.9047619047619048,
          "level": "A1"
         },
         {
          "Fut": 0,
          "Imp": 0,
          "Past": 0.3333333333333333,
          "Pres": 0.6666666666666666,
          "level": "A1"
         },
         {
          "Fut": 0,
          "Imp": 0.481981981981982,
          "Past": 0.33783783783783783,
          "Pres": 0.18018018018018017,
          "level": "A2"
         },
         {
          "Fut": 0.018656716417910446,
          "Imp": 0.4291044776119403,
          "Past": 0.33955223880597013,
          "Pres": 0.2126865671641791,
          "level": "A2"
         },
         {
          "Fut": 0.009966777408637873,
          "Imp": 0.49169435215946844,
          "Past": 0.34219269102990035,
          "Pres": 0.15614617940199335,
          "level": "A2"
         },
         {
          "Fut": 0.03142857142857143,
          "Imp": 0.24571428571428572,
          "Past": 0.3485714285714286,
          "Pres": 0.3742857142857143,
          "level": "A2"
         },
         {
          "Fut": 0.025210084033613446,
          "Imp": 0.33613445378151263,
          "Past": 0.35714285714285715,
          "Pres": 0.2815126050420168,
          "level": "A2"
         },
         {
          "Fut": 0.02178649237472767,
          "Imp": 0.3137254901960784,
          "Past": 0.3769063180827887,
          "Pres": 0.2875816993464052,
          "level": "A2"
         },
         {
          "Fut": 0.02922077922077922,
          "Imp": 0.11038961038961038,
          "Past": 0.2662337662337662,
          "Pres": 0.5941558441558441,
          "level": "A2"
         },
         {
          "Fut": 0.0425531914893617,
          "Imp": 0.19148936170212766,
          "Past": 0.3404255319148936,
          "Pres": 0.425531914893617,
          "level": "A2"
         },
         {
          "Fut": 0.016483516483516484,
          "Imp": 0.09340659340659341,
          "Past": 0.28296703296703296,
          "Pres": 0.6071428571428571,
          "level": "A2"
         },
         {
          "Fut": 0,
          "Imp": 0,
          "Past": 0.05555555555555555,
          "Pres": 0.9444444444444444,
          "level": "A2"
         },
         {
          "Fut": 0,
          "Imp": 0,
          "Past": 0.041666666666666664,
          "Pres": 0.9583333333333334,
          "level": "A2"
         },
         {
          "Fut": 0.15151515151515152,
          "Imp": 0.06060606060606061,
          "Past": 0.18181818181818182,
          "Pres": 0.6060606060606061,
          "level": "A2"
         },
         {
          "Fut": 0.023255813953488372,
          "Imp": 0.046511627906976744,
          "Past": 0.09302325581395349,
          "Pres": 0.8372093023255814,
          "level": "A2"
         },
         {
          "Fut": 0.047619047619047616,
          "Imp": 0.047619047619047616,
          "Past": 0.09523809523809523,
          "Pres": 0.8095238095238095,
          "level": "A2"
         },
         {
          "Fut": 0,
          "Imp": 0,
          "Past": 0.1388888888888889,
          "Pres": 0.8611111111111112,
          "level": "A2"
         },
         {
          "Fut": 0,
          "Imp": 0,
          "Past": 0.16666666666666666,
          "Pres": 0.8333333333333334,
          "level": "A2"
         },
         {
          "Fut": 0,
          "Imp": 0.03571428571428571,
          "Past": 0.14285714285714285,
          "Pres": 0.8214285714285714,
          "level": "A2"
         },
         {
          "Fut": 0,
          "Imp": 0,
          "Past": 0,
          "Pres": 1,
          "level": "A2"
         },
         {
          "Fut": 0,
          "Imp": 0,
          "Past": 0.6896551724137931,
          "Pres": 0.3103448275862069,
          "level": "A2"
         },
         {
          "Fut": 0,
          "Imp": 0.36,
          "Past": 0.46,
          "Pres": 0.18,
          "level": "A2"
         },
         {
          "Fut": 0,
          "Imp": 0,
          "Past": 0.03571428571428571,
          "Pres": 0.9642857142857143,
          "level": "A2"
         },
         {
          "Fut": 0,
          "Imp": 0.1,
          "Past": 0.6,
          "Pres": 0.3,
          "level": "A2"
         },
         {
          "Fut": 0.02631578947368421,
          "Imp": 0.23684210526315788,
          "Past": 0.5263157894736842,
          "Pres": 0.21052631578947367,
          "level": "A2"
         },
         {
          "Fut": 0.23076923076923078,
          "Imp": 0,
          "Past": 0.23076923076923078,
          "Pres": 0.5384615384615384,
          "level": "A2"
         },
         {
          "Fut": 0.034482758620689655,
          "Imp": 0.06896551724137931,
          "Past": 0.4482758620689655,
          "Pres": 0.4482758620689655,
          "level": "A2"
         },
         {
          "Fut": 0.17391304347826086,
          "Imp": 0.13043478260869565,
          "Past": 0.4782608695652174,
          "Pres": 0.21739130434782608,
          "level": "A2"
         },
         {
          "Fut": 0.16666666666666666,
          "Imp": 0.2222222222222222,
          "Past": 0.2222222222222222,
          "Pres": 0.3888888888888889,
          "level": "A2"
         },
         {
          "Fut": 0,
          "Imp": 0.10526315789473684,
          "Past": 0.5789473684210527,
          "Pres": 0.3157894736842105,
          "level": "A2"
         },
         {
          "Fut": 0.07407407407407407,
          "Imp": 0,
          "Past": 0.2222222222222222,
          "Pres": 0.7037037037037037,
          "level": "A2"
         },
         {
          "Fut": 0,
          "Imp": 0.125,
          "Past": 0.375,
          "Pres": 0.5,
          "level": "A2"
         },
         {
          "Fut": 0,
          "Imp": 0.14285714285714285,
          "Past": 0.7857142857142857,
          "Pres": 0.07142857142857142,
          "level": "A2"
         },
         {
          "Fut": 0.21428571428571427,
          "Imp": 0,
          "Past": 0.14285714285714285,
          "Pres": 0.6428571428571429,
          "level": "A2"
         },
         {
          "Fut": 0,
          "Imp": 0.038461538461538464,
          "Past": 0.038461538461538464,
          "Pres": 0.9230769230769231,
          "level": "A2"
         },
         {
          "Fut": 0.007518796992481203,
          "Imp": 0.14285714285714285,
          "Past": 0.5639097744360902,
          "Pres": 0.2857142857142857,
          "level": "A2"
         },
         {
          "Fut": 0,
          "Imp": 0,
          "Past": 0,
          "Pres": 1,
          "level": "A2"
         },
         {
          "Fut": 0,
          "Imp": 0.029411764705882353,
          "Past": 0.08823529411764706,
          "Pres": 0.8823529411764706,
          "level": "A2"
         },
         {
          "Fut": 0.07575757575757576,
          "Imp": 0.12121212121212122,
          "Past": 0.2727272727272727,
          "Pres": 0.5303030303030303,
          "level": "A2"
         },
         {
          "Fut": 0.03773584905660377,
          "Imp": 0.07547169811320754,
          "Past": 0.5660377358490566,
          "Pres": 0.32075471698113206,
          "level": "A2"
         },
         {
          "Fut": 0.03225806451612903,
          "Imp": 0.16129032258064516,
          "Past": 0.5483870967741935,
          "Pres": 0.25806451612903225,
          "level": "A2"
         },
         {
          "Fut": 0,
          "Imp": 0,
          "Past": 0,
          "Pres": 1,
          "level": "A2"
         },
         {
          "Fut": 0.14,
          "Imp": 0.06,
          "Past": 0.44,
          "Pres": 0.36,
          "level": "A2"
         },
         {
          "Fut": 0.043478260869565216,
          "Imp": 0.32608695652173914,
          "Past": 0.2826086956521739,
          "Pres": 0.34782608695652173,
          "level": "A2"
         },
         {
          "Fut": 0,
          "Imp": 0,
          "Past": 0,
          "Pres": 1,
          "level": "A2"
         },
         {
          "Fut": 0,
          "Imp": 0.034482758620689655,
          "Past": 0.3103448275862069,
          "Pres": 0.6551724137931034,
          "level": "A2"
         },
         {
          "Fut": 0.03802281368821293,
          "Imp": 0.17110266159695817,
          "Past": 0.44106463878326996,
          "Pres": 0.34980988593155893,
          "level": "A2"
         },
         {
          "Fut": 0.04838709677419355,
          "Imp": 0.28225806451612906,
          "Past": 0.33064516129032256,
          "Pres": 0.3387096774193548,
          "level": "A2"
         },
         {
          "Fut": 0.024390243902439025,
          "Imp": 0.21951219512195122,
          "Past": 0.5121951219512195,
          "Pres": 0.24390243902439024,
          "level": "A2"
         },
         {
          "Fut": 0.10526315789473684,
          "Imp": 0,
          "Past": 0,
          "Pres": 0.8947368421052632,
          "level": "A2"
         },
         {
          "Fut": 0.020689655172413793,
          "Imp": 0.42758620689655175,
          "Past": 0.3793103448275862,
          "Pres": 0.1724137931034483,
          "level": "A2"
         },
         {
          "Fut": 0,
          "Imp": 0.25,
          "Past": 0.6097560975609756,
          "Pres": 0.1402439024390244,
          "level": "A2"
         },
         {
          "Fut": 0.04081632653061224,
          "Imp": 0.30612244897959184,
          "Past": 0.3673469387755102,
          "Pres": 0.2857142857142857,
          "level": "A2"
         },
         {
          "Fut": 0.02564102564102564,
          "Imp": 0.01282051282051282,
          "Past": 0.08974358974358974,
          "Pres": 0.8717948717948718,
          "level": "A2"
         },
         {
          "Fut": 0.0078125,
          "Imp": 0,
          "Past": 0.09375,
          "Pres": 0.8984375,
          "level": "A2"
         },
         {
          "Fut": 0.009900990099009901,
          "Imp": 0.009900990099009901,
          "Past": 0.0297029702970297,
          "Pres": 0.9504950495049505,
          "level": "A2"
         },
         {
          "Fut": 0.03731343283582089,
          "Imp": 0.03731343283582089,
          "Past": 0.13432835820895522,
          "Pres": 0.7910447761194029,
          "level": "A2"
         },
         {
          "Fut": 0,
          "Imp": 0.0136986301369863,
          "Past": 0.0684931506849315,
          "Pres": 0.9178082191780822,
          "level": "A2"
         },
         {
          "Fut": 0,
          "Imp": 0.03125,
          "Past": 0.046875,
          "Pres": 0.921875,
          "level": "A2"
         },
         {
          "Fut": 0,
          "Imp": 0.013333333333333334,
          "Past": 0.04,
          "Pres": 0.9466666666666667,
          "level": "A2"
         },
         {
          "Fut": 0.046632124352331605,
          "Imp": 0.031088082901554404,
          "Past": 0.09844559585492228,
          "Pres": 0.8238341968911918,
          "level": "A2"
         },
         {
          "Fut": 0.007194244604316547,
          "Imp": 0.02877697841726619,
          "Past": 0.06474820143884892,
          "Pres": 0.8992805755395683,
          "level": "A2"
         },
         {
          "Fut": 0.013793103448275862,
          "Imp": 0.041379310344827586,
          "Past": 0.07586206896551724,
          "Pres": 0.8689655172413793,
          "level": "A2"
         },
         {
          "Fut": 0.02564102564102564,
          "Imp": 0.04487179487179487,
          "Past": 0.14102564102564102,
          "Pres": 0.7884615384615384,
          "level": "A2"
         },
         {
          "Fut": 0,
          "Imp": 0.09523809523809523,
          "Past": 0.8571428571428571,
          "Pres": 0.047619047619047616,
          "level": "B1"
         },
         {
          "Fut": 0.18518518518518517,
          "Imp": 0,
          "Past": 0,
          "Pres": 0.8148148148148148,
          "level": "B1"
         },
         {
          "Fut": 0,
          "Imp": 0,
          "Past": 0,
          "Pres": 1,
          "level": "B1"
         },
         {
          "Fut": 0.027777777777777776,
          "Imp": 0.027777777777777776,
          "Past": 0.2222222222222222,
          "Pres": 0.7222222222222222,
          "level": "B1"
         },
         {
          "Fut": 0,
          "Imp": 0,
          "Past": 0.16129032258064516,
          "Pres": 0.8387096774193549,
          "level": "B1"
         },
         {
          "Fut": 0,
          "Imp": 0.038461538461538464,
          "Past": 0,
          "Pres": 0.9615384615384616,
          "level": "B1"
         },
         {
          "Fut": 0,
          "Imp": 0,
          "Past": 0,
          "Pres": 1,
          "level": "B1"
         },
         {
          "Fut": 0,
          "Imp": 0.2608695652173913,
          "Past": 0.4782608695652174,
          "Pres": 0.2608695652173913,
          "level": "B1"
         },
         {
          "Fut": 0,
          "Imp": 0,
          "Past": 0.047619047619047616,
          "Pres": 0.9523809523809523,
          "level": "B1"
         },
         {
          "Fut": 0,
          "Imp": 0,
          "Past": 0,
          "Pres": 1,
          "level": "B1"
         },
         {
          "Fut": 0.2222222222222222,
          "Imp": 0.1111111111111111,
          "Past": 0.3333333333333333,
          "Pres": 0.3333333333333333,
          "level": "B1"
         },
         {
          "Fut": 0.03543307086614173,
          "Imp": 0.11023622047244094,
          "Past": 0.42913385826771655,
          "Pres": 0.4251968503937008,
          "level": "B1"
         },
         {
          "Fut": 0.0427807486631016,
          "Imp": 0.3689839572192513,
          "Past": 0.3689839572192513,
          "Pres": 0.2192513368983957,
          "level": "B1"
         },
         {
          "Fut": 0,
          "Imp": 0.4084507042253521,
          "Past": 0.4507042253521127,
          "Pres": 0.14084507042253522,
          "level": "B1"
         },
         {
          "Fut": 0,
          "Imp": 0.36585365853658536,
          "Past": 0.4268292682926829,
          "Pres": 0.2073170731707317,
          "level": "B1"
         },
         {
          "Fut": 0.0045871559633027525,
          "Imp": 0.3073394495412844,
          "Past": 0.46788990825688076,
          "Pres": 0.22018348623853212,
          "level": "B1"
         },
         {
          "Fut": 0,
          "Imp": 0.36363636363636365,
          "Past": 0.36363636363636365,
          "Pres": 0.2727272727272727,
          "level": "B1"
         },
         {
          "Fut": 0.011904761904761904,
          "Imp": 0.40476190476190477,
          "Past": 0.43452380952380953,
          "Pres": 0.1488095238095238,
          "level": "B1"
         },
         {
          "Fut": 0.012987012987012988,
          "Imp": 0.03896103896103896,
          "Past": 0.16883116883116883,
          "Pres": 0.7792207792207793,
          "level": "B1"
         },
         {
          "Fut": 0.011627906976744186,
          "Imp": 0.03488372093023256,
          "Past": 0.03488372093023256,
          "Pres": 0.9186046511627907,
          "level": "B1"
         },
         {
          "Fut": 0.02072538860103627,
          "Imp": 0.32642487046632124,
          "Past": 0.40932642487046633,
          "Pres": 0.24352331606217617,
          "level": "B1"
         },
         {
          "Fut": 0.0106951871657754,
          "Imp": 0.40641711229946526,
          "Past": 0.4385026737967914,
          "Pres": 0.1443850267379679,
          "level": "B1"
         },
         {
          "Fut": 0.057692307692307696,
          "Imp": 0.2548076923076923,
          "Past": 0.3269230769230769,
          "Pres": 0.3605769230769231,
          "level": "B1"
         },
         {
          "Fut": 0.010810810810810811,
          "Imp": 0.3054054054054054,
          "Past": 0.45135135135135135,
          "Pres": 0.23243243243243245,
          "level": "B1"
         },
         {
          "Fut": 0.008849557522123894,
          "Imp": 0.49557522123893805,
          "Past": 0.336283185840708,
          "Pres": 0.1592920353982301,
          "level": "B1"
         },
         {
          "Fut": 0.023575638506876228,
          "Imp": 0.3182711198428291,
          "Past": 0.40471512770137524,
          "Pres": 0.25343811394891946,
          "level": "B1"
         },
         {
          "Fut": 0.04572564612326044,
          "Imp": 0.21669980119284293,
          "Past": 0.2783300198807157,
          "Pres": 0.4592445328031809,
          "level": "B1"
         },
         {
          "Fut": 0.010025062656641603,
          "Imp": 0.3082706766917293,
          "Past": 0.23558897243107768,
          "Pres": 0.44611528822055135,
          "level": "B1"
         },
         {
          "Fut": 0.012096774193548387,
          "Imp": 0.32661290322580644,
          "Past": 0.33064516129032256,
          "Pres": 0.33064516129032256,
          "level": "B1"
         },
         {
          "Fut": 0.047619047619047616,
          "Imp": 0.09523809523809523,
          "Past": 0.047619047619047616,
          "Pres": 0.8095238095238095,
          "level": "B1"
         },
         {
          "Fut": 0,
          "Imp": 0.125,
          "Past": 0.25,
          "Pres": 0.625,
          "level": "B1"
         },
         {
          "Fut": 0,
          "Imp": 0.25,
          "Past": 0.125,
          "Pres": 0.625,
          "level": "B1"
         },
         {
          "Fut": 0,
          "Imp": 0,
          "Past": 0.09090909090909091,
          "Pres": 0.9090909090909091,
          "level": "B1"
         },
         {
          "Fut": 0,
          "Imp": 0,
          "Past": 0.3333333333333333,
          "Pres": 0.6666666666666666,
          "level": "B1"
         },
         {
          "Fut": 0.05555555555555555,
          "Imp": 0.5555555555555556,
          "Past": 0.2222222222222222,
          "Pres": 0.16666666666666666,
          "level": "B1"
         },
         {
          "Fut": 0.057692307692307696,
          "Imp": 0,
          "Past": 0.07692307692307693,
          "Pres": 0.8653846153846154,
          "level": "B1"
         },
         {
          "Fut": 0.05555555555555555,
          "Imp": 0,
          "Past": 0.05555555555555555,
          "Pres": 0.8888888888888888,
          "level": "B1"
         },
         {
          "Fut": 0,
          "Imp": 0,
          "Past": 0.2857142857142857,
          "Pres": 0.7142857142857143,
          "level": "B1"
         },
         {
          "Fut": 0,
          "Imp": 0,
          "Past": 0.07692307692307693,
          "Pres": 0.9230769230769231,
          "level": "B1"
         },
         {
          "Fut": 0,
          "Imp": 0.14285714285714285,
          "Past": 0.2857142857142857,
          "Pres": 0.5714285714285714,
          "level": "B1"
         },
         {
          "Fut": 0,
          "Imp": 0,
          "Past": 0,
          "Pres": 1,
          "level": "B1"
         },
         {
          "Fut": 0.6,
          "Imp": 0.13333333333333333,
          "Past": 0.13333333333333333,
          "Pres": 0.13333333333333333,
          "level": "B1"
         },
         {
          "Fut": 0.03018867924528302,
          "Imp": 0.33962264150943394,
          "Past": 0.44150943396226416,
          "Pres": 0.18867924528301888,
          "level": "B2"
         },
         {
          "Fut": 0.04189944134078212,
          "Imp": 0.16759776536312848,
          "Past": 0.22905027932960895,
          "Pres": 0.5614525139664804,
          "level": "B2"
         },
         {
          "Fut": 0,
          "Imp": 0.32558139534883723,
          "Past": 0.36627906976744184,
          "Pres": 0.3081395348837209,
          "level": "B2"
         },
         {
          "Fut": 0.058823529411764705,
          "Imp": 0.23529411764705882,
          "Past": 0.11764705882352941,
          "Pres": 0.5882352941176471,
          "level": "B2"
         },
         {
          "Fut": 0.01818181818181818,
          "Imp": 0.4446280991735537,
          "Past": 0.3074380165289256,
          "Pres": 0.22975206611570248,
          "level": "B2"
         },
         {
          "Fut": 0.007692307692307693,
          "Imp": 0.21153846153846154,
          "Past": 0.6653846153846154,
          "Pres": 0.11538461538461539,
          "level": "B2"
         },
         {
          "Fut": 0,
          "Imp": 0,
          "Past": 0.07692307692307693,
          "Pres": 0.9230769230769231,
          "level": "B2"
         },
         {
          "Fut": 0.013215859030837005,
          "Imp": 0.11013215859030837,
          "Past": 0.15859030837004406,
          "Pres": 0.7180616740088106,
          "level": "B2"
         },
         {
          "Fut": 0.06976744186046512,
          "Imp": 0.13953488372093023,
          "Past": 0.16279069767441862,
          "Pres": 0.627906976744186,
          "level": "B2"
         },
         {
          "Fut": 0,
          "Imp": 0,
          "Past": 0,
          "Pres": 1,
          "level": "B2"
         },
         {
          "Fut": 0.09803921568627451,
          "Imp": 0.13725490196078433,
          "Past": 0.18627450980392157,
          "Pres": 0.5784313725490197,
          "level": "B2"
         },
         {
          "Fut": 0.036036036036036036,
          "Imp": 0.32732732732732733,
          "Past": 0.3123123123123123,
          "Pres": 0.32432432432432434,
          "level": "B2"
         },
         {
          "Fut": 0.010752688172043012,
          "Imp": 0.3655913978494624,
          "Past": 0.41935483870967744,
          "Pres": 0.20430107526881722,
          "level": "B2"
         },
         {
          "Fut": 0.047619047619047616,
          "Imp": 0.0663265306122449,
          "Past": 0.21768707482993196,
          "Pres": 0.6683673469387755,
          "level": "B2"
         },
         {
          "Fut": 0.04804804804804805,
          "Imp": 0.07807807807807808,
          "Past": 0.3003003003003003,
          "Pres": 0.5735735735735735,
          "level": "B2"
         },
         {
          "Fut": 0,
          "Imp": 0.020833333333333332,
          "Past": 0.125,
          "Pres": 0.8541666666666666,
          "level": "B2"
         },
         {
          "Fut": 0.046511627906976744,
          "Imp": 0.2558139534883721,
          "Past": 0.5348837209302325,
          "Pres": 0.16279069767441862,
          "level": "B2"
         },
         {
          "Fut": 0.014705882352941176,
          "Imp": 0.04411764705882353,
          "Past": 0.19117647058823528,
          "Pres": 0.75,
          "level": "B2"
         },
         {
          "Fut": 0.028089887640449437,
          "Imp": 0.2808988764044944,
          "Past": 0.3258426966292135,
          "Pres": 0.3651685393258427,
          "level": "B2"
         },
         {
          "Fut": 0,
          "Imp": 0.07142857142857142,
          "Past": 0.5,
          "Pres": 0.42857142857142855,
          "level": "B2"
         },
         {
          "Fut": 0.05,
          "Imp": 0.07352941176470588,
          "Past": 0.1323529411764706,
          "Pres": 0.7441176470588236,
          "level": "B2"
         },
         {
          "Fut": 0.02,
          "Imp": 0.36,
          "Past": 0.06,
          "Pres": 0.56,
          "level": "B2"
         },
         {
          "Fut": 0.05555555555555555,
          "Imp": 0.16666666666666666,
          "Past": 0.16666666666666666,
          "Pres": 0.6111111111111112,
          "level": "B2"
         },
         {
          "Fut": 0,
          "Imp": 0,
          "Past": 0,
          "Pres": 1,
          "level": "B2"
         },
         {
          "Fut": 0,
          "Imp": 0.09090909090909091,
          "Past": 0.5151515151515151,
          "Pres": 0.3939393939393939,
          "level": "B2"
         },
         {
          "Fut": 0,
          "Imp": 0.3684210526315789,
          "Past": 0,
          "Pres": 0.631578947368421,
          "level": "B2"
         },
         {
          "Fut": 0,
          "Imp": 0.1111111111111111,
          "Past": 0,
          "Pres": 0.8888888888888888,
          "level": "B2"
         },
         {
          "Fut": 0,
          "Imp": 0.14285714285714285,
          "Past": 0,
          "Pres": 0.8571428571428571,
          "level": "B2"
         },
         {
          "Fut": 0,
          "Imp": 0.04,
          "Past": 0.12,
          "Pres": 0.84,
          "level": "B2"
         },
         {
          "Fut": 0,
          "Imp": 0.42857142857142855,
          "Past": 0,
          "Pres": 0.5714285714285714,
          "level": "B2"
         },
         {
          "Fut": 0,
          "Imp": 0.05555555555555555,
          "Past": 0.05555555555555555,
          "Pres": 0.8888888888888888,
          "level": "B2"
         },
         {
          "Fut": 0.2,
          "Imp": 0.2,
          "Past": 0.3,
          "Pres": 0.3,
          "level": "B2"
         },
         {
          "Fut": 0,
          "Imp": 0,
          "Past": 0.2222222222222222,
          "Pres": 0.7777777777777778,
          "level": "B2"
         },
         {
          "Fut": 0,
          "Imp": 0,
          "Past": 0,
          "Pres": 1,
          "level": "B2"
         },
         {
          "Fut": 0,
          "Imp": 0.5625,
          "Past": 0.1875,
          "Pres": 0.25,
          "level": "B2"
         },
         {
          "Fut": 0.16666666666666666,
          "Imp": 0,
          "Past": 0.75,
          "Pres": 0.08333333333333333,
          "level": "B2"
         },
         {
          "Fut": 0,
          "Imp": 0,
          "Past": 0.125,
          "Pres": 0.875,
          "level": "B2"
         },
         {
          "Fut": 0.03225806451612903,
          "Imp": 0.0967741935483871,
          "Past": 0.12903225806451613,
          "Pres": 0.7419354838709677,
          "level": "B2"
         },
         {
          "Fut": 0.005434782608695652,
          "Imp": 0.13043478260869565,
          "Past": 0.33695652173913043,
          "Pres": 0.5271739130434783,
          "level": "B2"
         },
         {
          "Fut": 0.03278688524590164,
          "Imp": 0.04918032786885246,
          "Past": 0.13114754098360656,
          "Pres": 0.7868852459016393,
          "level": "B2"
         },
         {
          "Fut": 0,
          "Imp": 0.07936507936507936,
          "Past": 0.15873015873015872,
          "Pres": 0.7619047619047619,
          "level": "B2"
         },
         {
          "Fut": 0.08139534883720931,
          "Imp": 0.13953488372093023,
          "Past": 0.27906976744186046,
          "Pres": 0.5,
          "level": "B2"
         },
         {
          "Fut": 0,
          "Imp": 0.16666666666666666,
          "Past": 0.18518518518518517,
          "Pres": 0.6481481481481481,
          "level": "B2"
         },
         {
          "Fut": 0.0425531914893617,
          "Imp": 0.02127659574468085,
          "Past": 0.23404255319148937,
          "Pres": 0.7021276595744681,
          "level": "B2"
         },
         {
          "Fut": 0,
          "Imp": 0.058823529411764705,
          "Past": 0.11764705882352941,
          "Pres": 0.8235294117647058,
          "level": "B2"
         },
         {
          "Fut": 0.017543859649122806,
          "Imp": 0.14912280701754385,
          "Past": 0.18421052631578946,
          "Pres": 0.6491228070175439,
          "level": "B2"
         },
         {
          "Fut": 0,
          "Imp": 0.03125,
          "Past": 0.3125,
          "Pres": 0.65625,
          "level": "B2"
         },
         {
          "Fut": 0.023255813953488372,
          "Imp": 0,
          "Past": 0.13953488372093023,
          "Pres": 0.8372093023255814,
          "level": "B2"
         },
         {
          "Fut": 0.08823529411764706,
          "Imp": 0.08823529411764706,
          "Past": 0.4411764705882353,
          "Pres": 0.38235294117647056,
          "level": "B2"
         },
         {
          "Fut": 0.08823529411764706,
          "Imp": 0.029411764705882353,
          "Past": 0.11764705882352941,
          "Pres": 0.7647058823529411,
          "level": "B2"
         },
         {
          "Fut": 0.036585365853658534,
          "Imp": 0.024390243902439025,
          "Past": 0.14634146341463414,
          "Pres": 0.7926829268292683,
          "level": "B2"
         },
         {
          "Fut": 0,
          "Imp": 0,
          "Past": 0,
          "Pres": 1,
          "level": "B2"
         },
         {
          "Fut": 0.01568627450980392,
          "Imp": 0.1843137254901961,
          "Past": 0.2784313725490196,
          "Pres": 0.5215686274509804,
          "level": "B2"
         },
         {
          "Fut": 0.017391304347826087,
          "Imp": 0.06086956521739131,
          "Past": 0.3739130434782609,
          "Pres": 0.5478260869565217,
          "level": "B2"
         },
         {
          "Fut": 0.05555555555555555,
          "Imp": 0,
          "Past": 0.05555555555555555,
          "Pres": 0.8888888888888888,
          "level": "B2"
         },
         {
          "Fut": 0.14285714285714285,
          "Imp": 0,
          "Past": 0.7142857142857143,
          "Pres": 0.14285714285714285,
          "level": "B2"
         },
         {
          "Fut": 0,
          "Imp": 0.17142857142857143,
          "Past": 0.4,
          "Pres": 0.42857142857142855,
          "level": "B2"
         },
         {
          "Fut": 0.05405405405405406,
          "Imp": 0.05405405405405406,
          "Past": 0.02702702702702703,
          "Pres": 0.8648648648648649,
          "level": "B2"
         },
         {
          "Fut": 0.11764705882352941,
          "Imp": 0.11764705882352941,
          "Past": 0,
          "Pres": 0.7647058823529411,
          "level": "B2"
         },
         {
          "Fut": 0.3611111111111111,
          "Imp": 0.1111111111111111,
          "Past": 0.1111111111111111,
          "Pres": 0.4166666666666667,
          "level": "B2"
         },
         {
          "Fut": 0,
          "Imp": 0.23255813953488372,
          "Past": 0.3953488372093023,
          "Pres": 0.37209302325581395,
          "level": "B2"
         },
         {
          "Fut": 0.140625,
          "Imp": 0.03125,
          "Past": 0.109375,
          "Pres": 0.71875,
          "level": "B2"
         },
         {
          "Fut": 0,
          "Imp": 0.3125,
          "Past": 0.375,
          "Pres": 0.3125,
          "level": "B2"
         },
         {
          "Fut": 0,
          "Imp": 0.09615384615384616,
          "Past": 0.11538461538461539,
          "Pres": 0.7884615384615384,
          "level": "B2"
         },
         {
          "Fut": 0,
          "Imp": 0,
          "Past": 0.8571428571428571,
          "Pres": 0.14285714285714285,
          "level": "B2"
         },
         {
          "Fut": 0,
          "Imp": 0.14285714285714285,
          "Past": 0.2857142857142857,
          "Pres": 0.5714285714285714,
          "level": "B2"
         },
         {
          "Fut": 0,
          "Imp": 0.18292682926829268,
          "Past": 0.036585365853658534,
          "Pres": 0.7804878048780488,
          "level": "B2"
         },
         {
          "Fut": 0.034482758620689655,
          "Imp": 0.034482758620689655,
          "Past": 0.22413793103448276,
          "Pres": 0.7068965517241379,
          "level": "B2"
         },
         {
          "Fut": 0,
          "Imp": 0,
          "Past": 0.2,
          "Pres": 0.8,
          "level": "B2"
         },
         {
          "Fut": 0.06666666666666667,
          "Imp": 0.06666666666666667,
          "Past": 0.06666666666666667,
          "Pres": 0.8,
          "level": "B2"
         },
         {
          "Fut": 0,
          "Imp": 0.3333333333333333,
          "Past": 0,
          "Pres": 0.6666666666666666,
          "level": "B2"
         },
         {
          "Fut": 0,
          "Imp": 0,
          "Past": 0.6363636363636364,
          "Pres": 0.36363636363636365,
          "level": "B2"
         },
         {
          "Fut": 0.03529411764705882,
          "Imp": 0.12941176470588237,
          "Past": 0.2823529411764706,
          "Pres": 0.5529411764705883,
          "level": "B2"
         },
         {
          "Fut": 0,
          "Imp": 0,
          "Past": 0.08333333333333333,
          "Pres": 0.9166666666666666,
          "level": "B2"
         },
         {
          "Fut": 0.04,
          "Imp": 0.04,
          "Past": 0.12,
          "Pres": 0.8,
          "level": "B2"
         },
         {
          "Fut": 0,
          "Imp": 0.125,
          "Past": 0.125,
          "Pres": 0.75,
          "level": "B2"
         },
         {
          "Fut": 0.058823529411764705,
          "Imp": 0.08823529411764706,
          "Past": 0.14705882352941177,
          "Pres": 0.7058823529411765,
          "level": "B2"
         },
         {
          "Fut": 0,
          "Imp": 0.38095238095238093,
          "Past": 0.25396825396825395,
          "Pres": 0.36507936507936506,
          "level": "B2"
         },
         {
          "Fut": 0,
          "Imp": 0.04878048780487805,
          "Past": 0.14634146341463414,
          "Pres": 0.8048780487804879,
          "level": "B2"
         },
         {
          "Fut": 0.1111111111111111,
          "Imp": 0,
          "Past": 0.05555555555555555,
          "Pres": 0.8333333333333334,
          "level": "B2"
         },
         {
          "Fut": 0.05,
          "Imp": 0.3,
          "Past": 0.55,
          "Pres": 0.1,
          "level": "B2"
         },
         {
          "Fut": 0.15789473684210525,
          "Imp": 0.05263157894736842,
          "Past": 0.3157894736842105,
          "Pres": 0.47368421052631576,
          "level": "B2"
         },
         {
          "Fut": 0.023255813953488372,
          "Imp": 0.3488372093023256,
          "Past": 0.27906976744186046,
          "Pres": 0.3488372093023256,
          "level": "B2"
         },
         {
          "Fut": 0.038461538461538464,
          "Imp": 0.11538461538461539,
          "Past": 0.19230769230769232,
          "Pres": 0.6538461538461539,
          "level": "B2"
         },
         {
          "Fut": 0,
          "Imp": 0.043478260869565216,
          "Past": 0.13043478260869565,
          "Pres": 0.8260869565217391,
          "level": "B2"
         },
         {
          "Fut": 0.25,
          "Imp": 0.08333333333333333,
          "Past": 0.08333333333333333,
          "Pres": 0.5833333333333334,
          "level": "B2"
         },
         {
          "Fut": 0.125,
          "Imp": 0,
          "Past": 0,
          "Pres": 0.875,
          "level": "B2"
         },
         {
          "Fut": 0.038834951456310676,
          "Imp": 0.05825242718446602,
          "Past": 0.1650485436893204,
          "Pres": 0.7378640776699029,
          "level": "B2"
         },
         {
          "Fut": 0,
          "Imp": 0.13043478260869565,
          "Past": 0.043478260869565216,
          "Pres": 0.8260869565217391,
          "level": "B2"
         },
         {
          "Fut": 0.12121212121212122,
          "Imp": 0.06060606060606061,
          "Past": 0.30303030303030304,
          "Pres": 0.5151515151515151,
          "level": "B2"
         },
         {
          "Fut": 0,
          "Imp": 0.12727272727272726,
          "Past": 0.10909090909090909,
          "Pres": 0.7636363636363637,
          "level": "B2"
         },
         {
          "Fut": 0,
          "Imp": 0,
          "Past": 0,
          "Pres": 1,
          "level": "B2"
         },
         {
          "Fut": 0.057692307692307696,
          "Imp": 0,
          "Past": 0.07692307692307693,
          "Pres": 0.8653846153846154,
          "level": "B2"
         },
         {
          "Fut": 0,
          "Imp": 0.02127659574468085,
          "Past": 0.1276595744680851,
          "Pres": 0.851063829787234,
          "level": "B2"
         },
         {
          "Fut": 0,
          "Imp": 0,
          "Past": 0.3,
          "Pres": 0.7,
          "level": "B2"
         },
         {
          "Fut": 0.07792207792207792,
          "Imp": 0.012987012987012988,
          "Past": 0.11688311688311688,
          "Pres": 0.7922077922077922,
          "level": "B2"
         },
         {
          "Fut": 0,
          "Imp": 0.05084745762711865,
          "Past": 0.0847457627118644,
          "Pres": 0.864406779661017,
          "level": "B2"
         },
         {
          "Fut": 0,
          "Imp": 0.3,
          "Past": 0.6,
          "Pres": 0.1,
          "level": "B2"
         },
         {
          "Fut": 0,
          "Imp": 0,
          "Past": 0,
          "Pres": 0,
          "level": "B2"
         },
         {
          "Fut": 0,
          "Imp": 0.6666666666666666,
          "Past": 0.3333333333333333,
          "Pres": 0,
          "level": "B2"
         },
         {
          "Fut": 0,
          "Imp": 0,
          "Past": 0.2,
          "Pres": 0.8,
          "level": "B2"
         },
         {
          "Fut": 0.75,
          "Imp": 0,
          "Past": 0.25,
          "Pres": 0,
          "level": "B2"
         },
         {
          "Fut": 0,
          "Imp": 0.25,
          "Past": 0,
          "Pres": 0.75,
          "level": "B2"
         },
         {
          "Fut": 0,
          "Imp": 0,
          "Past": 0,
          "Pres": 1,
          "level": "B2"
         },
         {
          "Fut": 0,
          "Imp": 0,
          "Past": 0.3333333333333333,
          "Pres": 0.6666666666666666,
          "level": "B2"
         },
         {
          "Fut": 0.14285714285714285,
          "Imp": 0,
          "Past": 0,
          "Pres": 0.8571428571428571,
          "level": "B2"
         },
         {
          "Fut": 0,
          "Imp": 0,
          "Past": 0.6,
          "Pres": 0.4,
          "level": "B2"
         },
         {
          "Fut": 0,
          "Imp": 0.05555555555555555,
          "Past": 0.2777777777777778,
          "Pres": 0.6666666666666666,
          "level": "B2"
         },
         {
          "Fut": 0,
          "Imp": 0,
          "Past": 0,
          "Pres": 1,
          "level": "B2"
         },
         {
          "Fut": 0,
          "Imp": 0,
          "Past": 0,
          "Pres": 1,
          "level": "B2"
         }
        ]
       },
       "facet": {
        "field": "level",
        "type": "nominal"
       },
       "spec": {
        "encoding": {
         "x": {
          "bin": {
           "maxbins": 30
          },
          "field": "Fut",
          "type": "quantitative"
         },
         "y": {
          "aggregate": "count",
          "type": "quantitative"
         }
        },
        "mark": "bar"
       }
      },
      "image/png": "[encoded data removed]",
      "text/plain": [
       "<VegaLite 4 object>\n",
       "\n",
       "If you see this message, it means the renderer has not been properly enabled\n",
       "for the frontend that you are using. For more information, see\n",
       "https://altair-viz.github.io/user_guide/troubleshooting.html\n"
      ]
     },
     "execution_count": 38,
     "metadata": {},
     "output_type": "execute_result"
    }
   ],
   "source": [
    "alt.Chart(level_verb_tense_df).mark_bar().encode(x = alt.X('Fut', bin = alt.Bin(maxbins = 30)), y = 'count()').facet('level')"
   ]
  },
  {
   "cell_type": "markdown",
   "id": "abandoned-conservative",
   "metadata": {},
   "source": [
    "### Imp Tense"
   ]
  },
  {
   "cell_type": "code",
   "execution_count": 39,
   "id": "persistent-helicopter",
   "metadata": {},
   "outputs": [
    {
     "data": {
      "application/vnd.vegalite.v4+json": {
       "$schema": "https://vega.github.io/schema/vega-lite/v4.8.1.json",
       "config": {
        "view": {
         "continuousHeight": 300,
         "continuousWidth": 400
        }
       },
       "data": {
        "name": "data-a46874723513081149dddc40d2b1ff27"
       },
       "datasets": {
        "data-a46874723513081149dddc40d2b1ff27": [
         {
          "Fut": 0,
          "Imp": 0,
          "Past": 0,
          "Pres": 1,
          "level": "A1"
         },
         {
          "Fut": 0,
          "Imp": 0,
          "Past": 0,
          "Pres": 1,
          "level": "A1"
         },
         {
          "Fut": 0,
          "Imp": 0,
          "Past": 0,
          "Pres": 1,
          "level": "A1"
         },
         {
          "Fut": 0,
          "Imp": 0,
          "Past": 0,
          "Pres": 1,
          "level": "A1"
         },
         {
          "Fut": 0,
          "Imp": 0,
          "Past": 0,
          "Pres": 1,
          "level": "A1"
         },
         {
          "Fut": 0,
          "Imp": 0,
          "Past": 0.12962962962962962,
          "Pres": 0.8703703703703703,
          "level": "A1"
         },
         {
          "Fut": 0.036585365853658534,
          "Imp": 0.4268292682926829,
          "Past": 0.2682926829268293,
          "Pres": 0.2682926829268293,
          "level": "A1"
         },
         {
          "Fut": 0,
          "Imp": 0.3597122302158273,
          "Past": 0.49640287769784175,
          "Pres": 0.14388489208633093,
          "level": "A1"
         },
         {
          "Fut": 0.007462686567164179,
          "Imp": 0.23880597014925373,
          "Past": 0.7014925373134329,
          "Pres": 0.05223880597014925,
          "level": "A1"
         },
         {
          "Fut": 0.05555555555555555,
          "Imp": 0.16666666666666666,
          "Past": 0.3888888888888889,
          "Pres": 0.3888888888888889,
          "level": "A1"
         },
         {
          "Fut": 0,
          "Imp": 0.3008849557522124,
          "Past": 0.48672566371681414,
          "Pres": 0.21238938053097345,
          "level": "A1"
         },
         {
          "Fut": 0.12264150943396226,
          "Imp": 0.018867924528301886,
          "Past": 0.3490566037735849,
          "Pres": 0.5094339622641509,
          "level": "A1"
         },
         {
          "Fut": 0.03571428571428571,
          "Imp": 0.23214285714285715,
          "Past": 0.48214285714285715,
          "Pres": 0.25,
          "level": "A1"
         },
         {
          "Fut": 0.06363636363636363,
          "Imp": 0.12121212121212122,
          "Past": 0.49696969696969695,
          "Pres": 0.3181818181818182,
          "level": "A1"
         },
         {
          "Fut": 0.02,
          "Imp": 0.32,
          "Past": 0.46,
          "Pres": 0.2,
          "level": "A1"
         },
         {
          "Fut": 0.012987012987012988,
          "Imp": 0.24675324675324675,
          "Past": 0.33766233766233766,
          "Pres": 0.4025974025974026,
          "level": "A1"
         },
         {
          "Fut": 0.08888888888888889,
          "Imp": 0.21666666666666667,
          "Past": 0.46111111111111114,
          "Pres": 0.23333333333333334,
          "level": "A1"
         },
         {
          "Fut": 0.014285714285714285,
          "Imp": 0.2785714285714286,
          "Past": 0.5428571428571428,
          "Pres": 0.16428571428571428,
          "level": "A1"
         },
         {
          "Fut": 0,
          "Imp": 0.07142857142857142,
          "Past": 0.10714285714285714,
          "Pres": 0.8214285714285714,
          "level": "A1"
         },
         {
          "Fut": 0.05056179775280899,
          "Imp": 0.0898876404494382,
          "Past": 0.38764044943820225,
          "Pres": 0.47191011235955055,
          "level": "A1"
         },
         {
          "Fut": 0.04,
          "Imp": 0.24,
          "Past": 0.32,
          "Pres": 0.4,
          "level": "A1"
         },
         {
          "Fut": 0,
          "Imp": 0.11764705882352941,
          "Past": 0.23529411764705882,
          "Pres": 0.6470588235294118,
          "level": "A1"
         },
         {
          "Fut": 0.041666666666666664,
          "Imp": 0.08333333333333333,
          "Past": 0.125,
          "Pres": 0.75,
          "level": "A1"
         },
         {
          "Fut": 0,
          "Imp": 0,
          "Past": 0.14285714285714285,
          "Pres": 0.8571428571428571,
          "level": "A1"
         },
         {
          "Fut": 0.045454545454545456,
          "Imp": 0.09090909090909091,
          "Past": 0.045454545454545456,
          "Pres": 0.8181818181818182,
          "level": "A1"
         },
         {
          "Fut": 0,
          "Imp": 0,
          "Past": 0.10526315789473684,
          "Pres": 0.8947368421052632,
          "level": "A1"
         },
         {
          "Fut": 0,
          "Imp": 0,
          "Past": 0,
          "Pres": 1,
          "level": "A1"
         },
         {
          "Fut": 0.05263157894736842,
          "Imp": 0,
          "Past": 0,
          "Pres": 0.9473684210526315,
          "level": "A1"
         },
         {
          "Fut": 0,
          "Imp": 0,
          "Past": 0,
          "Pres": 1,
          "level": "A1"
         },
         {
          "Fut": 0,
          "Imp": 0,
          "Past": 0.05405405405405406,
          "Pres": 0.9459459459459459,
          "level": "A1"
         },
         {
          "Fut": 0.09090909090909091,
          "Imp": 0.030303030303030304,
          "Past": 0.21212121212121213,
          "Pres": 0.6666666666666666,
          "level": "A1"
         },
         {
          "Fut": 0,
          "Imp": 0,
          "Past": 0.11764705882352941,
          "Pres": 0.8823529411764706,
          "level": "A1"
         },
         {
          "Fut": 0,
          "Imp": 0,
          "Past": 0.02,
          "Pres": 0.98,
          "level": "A1"
         },
         {
          "Fut": 0,
          "Imp": 0,
          "Past": 0,
          "Pres": 1,
          "level": "A1"
         },
         {
          "Fut": 0,
          "Imp": 0,
          "Past": 0,
          "Pres": 1,
          "level": "A1"
         },
         {
          "Fut": 0,
          "Imp": 0,
          "Past": 0,
          "Pres": 1,
          "level": "A1"
         },
         {
          "Fut": 0,
          "Imp": 0,
          "Past": 0,
          "Pres": 1,
          "level": "A1"
         },
         {
          "Fut": 0.034482758620689655,
          "Imp": 0,
          "Past": 0,
          "Pres": 0.9655172413793104,
          "level": "A1"
         },
         {
          "Fut": 0,
          "Imp": 0,
          "Past": 0,
          "Pres": 1,
          "level": "A1"
         },
         {
          "Fut": 0,
          "Imp": 0,
          "Past": 0.037037037037037035,
          "Pres": 0.9629629629629629,
          "level": "A1"
         },
         {
          "Fut": 0,
          "Imp": 0,
          "Past": 0,
          "Pres": 1,
          "level": "A1"
         },
         {
          "Fut": 0,
          "Imp": 0,
          "Past": 0.1,
          "Pres": 0.9,
          "level": "A1"
         },
         {
          "Fut": 0,
          "Imp": 0,
          "Past": 0,
          "Pres": 1,
          "level": "A1"
         },
         {
          "Fut": 0,
          "Imp": 0,
          "Past": 0.046511627906976744,
          "Pres": 0.9534883720930233,
          "level": "A1"
         },
         {
          "Fut": 0,
          "Imp": 0,
          "Past": 0,
          "Pres": 1,
          "level": "A1"
         },
         {
          "Fut": 0.25,
          "Imp": 0,
          "Past": 0,
          "Pres": 0.75,
          "level": "A1"
         },
         {
          "Fut": 0,
          "Imp": 0,
          "Past": 0,
          "Pres": 1,
          "level": "A1"
         },
         {
          "Fut": 0.21052631578947367,
          "Imp": 0,
          "Past": 0,
          "Pres": 0.7894736842105263,
          "level": "A1"
         },
         {
          "Fut": 0,
          "Imp": 0,
          "Past": 0.040697674418604654,
          "Pres": 0.9593023255813954,
          "level": "A1"
         },
         {
          "Fut": 0,
          "Imp": 0,
          "Past": 0.010526315789473684,
          "Pres": 0.9894736842105263,
          "level": "A1"
         },
         {
          "Fut": 0.0064516129032258064,
          "Imp": 0,
          "Past": 0.04516129032258064,
          "Pres": 0.9483870967741935,
          "level": "A1"
         },
         {
          "Fut": 0,
          "Imp": 0,
          "Past": 0.024390243902439025,
          "Pres": 0.975609756097561,
          "level": "A1"
         },
         {
          "Fut": 0,
          "Imp": 0.0037313432835820895,
          "Past": 0.11940298507462686,
          "Pres": 0.8768656716417911,
          "level": "A1"
         },
         {
          "Fut": 0,
          "Imp": 0,
          "Past": 0.03205128205128205,
          "Pres": 0.967948717948718,
          "level": "A1"
         },
         {
          "Fut": 0,
          "Imp": 0,
          "Past": 0.07471264367816093,
          "Pres": 0.9252873563218391,
          "level": "A1"
         },
         {
          "Fut": 0,
          "Imp": 0,
          "Past": 0.085,
          "Pres": 0.915,
          "level": "A1"
         },
         {
          "Fut": 0,
          "Imp": 0.004739336492890996,
          "Past": 0.052132701421800945,
          "Pres": 0.943127962085308,
          "level": "A1"
         },
         {
          "Fut": 0,
          "Imp": 0,
          "Past": 0.08403361344537816,
          "Pres": 0.9159663865546218,
          "level": "A1"
         },
         {
          "Fut": 0.003861003861003861,
          "Imp": 0,
          "Past": 0.04247104247104247,
          "Pres": 0.9536679536679536,
          "level": "A1"
         },
         {
          "Fut": 0.004329004329004329,
          "Imp": 0.008658008658008658,
          "Past": 0.09956709956709957,
          "Pres": 0.8874458874458875,
          "level": "A1"
         },
         {
          "Fut": 0.0038910505836575876,
          "Imp": 0,
          "Past": 0.054474708171206226,
          "Pres": 0.9416342412451362,
          "level": "A1"
         },
         {
          "Fut": 0,
          "Imp": 0.061855670103092786,
          "Past": 0.1958762886597938,
          "Pres": 0.7422680412371134,
          "level": "A1"
         },
         {
          "Fut": 0.010362694300518135,
          "Imp": 0.015544041450777202,
          "Past": 0.03626943005181347,
          "Pres": 0.9378238341968912,
          "level": "A1"
         },
         {
          "Fut": 0.01694915254237288,
          "Imp": 0.006779661016949152,
          "Past": 0.05423728813559322,
          "Pres": 0.9220338983050848,
          "level": "A1"
         },
         {
          "Fut": 0.011299435028248588,
          "Imp": 0.005649717514124294,
          "Past": 0.07909604519774012,
          "Pres": 0.903954802259887,
          "level": "A1"
         },
         {
          "Fut": 0.023166023166023165,
          "Imp": 0.019305019305019305,
          "Past": 0.06563706563706563,
          "Pres": 0.8918918918918919,
          "level": "A1"
         },
         {
          "Fut": 0.03896103896103896,
          "Imp": 0.025974025974025976,
          "Past": 0.09090909090909091,
          "Pres": 0.8441558441558441,
          "level": "A1"
         },
         {
          "Fut": 0,
          "Imp": 0.013333333333333334,
          "Past": 0.02666666666666667,
          "Pres": 0.96,
          "level": "A1"
         },
         {
          "Fut": 0.017391304347826087,
          "Imp": 0.008695652173913044,
          "Past": 0.10434782608695652,
          "Pres": 0.8695652173913043,
          "level": "A1"
         },
         {
          "Fut": 0.01818181818181818,
          "Imp": 0.007272727272727273,
          "Past": 0.08727272727272728,
          "Pres": 0.8872727272727273,
          "level": "A1"
         },
         {
          "Fut": 0,
          "Imp": 0,
          "Past": 0.091324200913242,
          "Pres": 0.908675799086758,
          "level": "A1"
         },
         {
          "Fut": 0.014285714285714285,
          "Imp": 0,
          "Past": 0.06428571428571428,
          "Pres": 0.9214285714285714,
          "level": "A1"
         },
         {
          "Fut": 0,
          "Imp": 0.016129032258064516,
          "Past": 0.04838709677419355,
          "Pres": 0.9354838709677419,
          "level": "A1"
         },
         {
          "Fut": 0.015151515151515152,
          "Imp": 0,
          "Past": 0.15151515151515152,
          "Pres": 0.8333333333333334,
          "level": "A1"
         },
         {
          "Fut": 0.017241379310344827,
          "Imp": 0.017241379310344827,
          "Past": 0.06896551724137931,
          "Pres": 0.896551724137931,
          "level": "A1"
         },
         {
          "Fut": 0.015625,
          "Imp": 0.0078125,
          "Past": 0.1015625,
          "Pres": 0.875,
          "level": "A1"
         },
         {
          "Fut": 0,
          "Imp": 0.02564102564102564,
          "Past": 0.1794871794871795,
          "Pres": 0.7948717948717948,
          "level": "A1"
         },
         {
          "Fut": 0.024390243902439025,
          "Imp": 0,
          "Past": 0.07317073170731707,
          "Pres": 0.9024390243902439,
          "level": "A1"
         },
         {
          "Fut": 0,
          "Imp": 0,
          "Past": 0.0425531914893617,
          "Pres": 0.9574468085106383,
          "level": "A1"
         },
         {
          "Fut": 0.029411764705882353,
          "Imp": 0.014705882352941176,
          "Past": 0.1323529411764706,
          "Pres": 0.8235294117647058,
          "level": "A1"
         },
         {
          "Fut": 0,
          "Imp": 0.16591928251121077,
          "Past": 0.22869955156950672,
          "Pres": 0.6053811659192825,
          "level": "A1"
         },
         {
          "Fut": 0.00423728813559322,
          "Imp": 0.046610169491525424,
          "Past": 0.07627118644067797,
          "Pres": 0.8728813559322034,
          "level": "A1"
         },
         {
          "Fut": 0.01818181818181818,
          "Imp": 0.00909090909090909,
          "Past": 0.10909090909090909,
          "Pres": 0.8636363636363636,
          "level": "A1"
         },
         {
          "Fut": 0.007462686567164179,
          "Imp": 0,
          "Past": 0.04477611940298507,
          "Pres": 0.9477611940298507,
          "level": "A1"
         },
         {
          "Fut": 0,
          "Imp": 0.006493506493506494,
          "Past": 0.032467532467532464,
          "Pres": 0.961038961038961,
          "level": "A1"
         },
         {
          "Fut": 0,
          "Imp": 0.0319634703196347,
          "Past": 0.1187214611872146,
          "Pres": 0.8493150684931506,
          "level": "A1"
         },
         {
          "Fut": 0.006369426751592357,
          "Imp": 0.009554140127388535,
          "Past": 0.09235668789808917,
          "Pres": 0.89171974522293,
          "level": "A1"
         },
         {
          "Fut": 0,
          "Imp": 0.019138755980861243,
          "Past": 0.11483253588516747,
          "Pres": 0.8660287081339713,
          "level": "A1"
         },
         {
          "Fut": 0.013513513513513514,
          "Imp": 0.08783783783783784,
          "Past": 0.17567567567567569,
          "Pres": 0.722972972972973,
          "level": "A1"
         },
         {
          "Fut": 0,
          "Imp": 0.009900990099009901,
          "Past": 0.06930693069306931,
          "Pres": 0.9207920792079208,
          "level": "A1"
         },
         {
          "Fut": 0,
          "Imp": 0,
          "Past": 0.17647058823529413,
          "Pres": 0.8235294117647058,
          "level": "A1"
         },
         {
          "Fut": 0.041666666666666664,
          "Imp": 0,
          "Past": 0.041666666666666664,
          "Pres": 0.9166666666666666,
          "level": "A1"
         },
         {
          "Fut": 0,
          "Imp": 0,
          "Past": 0.09523809523809523,
          "Pres": 0.9047619047619048,
          "level": "A1"
         },
         {
          "Fut": 0,
          "Imp": 0,
          "Past": 0.3333333333333333,
          "Pres": 0.6666666666666666,
          "level": "A1"
         },
         {
          "Fut": 0,
          "Imp": 0.481981981981982,
          "Past": 0.33783783783783783,
          "Pres": 0.18018018018018017,
          "level": "A2"
         },
         {
          "Fut": 0.018656716417910446,
          "Imp": 0.4291044776119403,
          "Past": 0.33955223880597013,
          "Pres": 0.2126865671641791,
          "level": "A2"
         },
         {
          "Fut": 0.009966777408637873,
          "Imp": 0.49169435215946844,
          "Past": 0.34219269102990035,
          "Pres": 0.15614617940199335,
          "level": "A2"
         },
         {
          "Fut": 0.03142857142857143,
          "Imp": 0.24571428571428572,
          "Past": 0.3485714285714286,
          "Pres": 0.3742857142857143,
          "level": "A2"
         },
         {
          "Fut": 0.025210084033613446,
          "Imp": 0.33613445378151263,
          "Past": 0.35714285714285715,
          "Pres": 0.2815126050420168,
          "level": "A2"
         },
         {
          "Fut": 0.02178649237472767,
          "Imp": 0.3137254901960784,
          "Past": 0.3769063180827887,
          "Pres": 0.2875816993464052,
          "level": "A2"
         },
         {
          "Fut": 0.02922077922077922,
          "Imp": 0.11038961038961038,
          "Past": 0.2662337662337662,
          "Pres": 0.5941558441558441,
          "level": "A2"
         },
         {
          "Fut": 0.0425531914893617,
          "Imp": 0.19148936170212766,
          "Past": 0.3404255319148936,
          "Pres": 0.425531914893617,
          "level": "A2"
         },
         {
          "Fut": 0.016483516483516484,
          "Imp": 0.09340659340659341,
          "Past": 0.28296703296703296,
          "Pres": 0.6071428571428571,
          "level": "A2"
         },
         {
          "Fut": 0,
          "Imp": 0,
          "Past": 0.05555555555555555,
          "Pres": 0.9444444444444444,
          "level": "A2"
         },
         {
          "Fut": 0,
          "Imp": 0,
          "Past": 0.041666666666666664,
          "Pres": 0.9583333333333334,
          "level": "A2"
         },
         {
          "Fut": 0.15151515151515152,
          "Imp": 0.06060606060606061,
          "Past": 0.18181818181818182,
          "Pres": 0.6060606060606061,
          "level": "A2"
         },
         {
          "Fut": 0.023255813953488372,
          "Imp": 0.046511627906976744,
          "Past": 0.09302325581395349,
          "Pres": 0.8372093023255814,
          "level": "A2"
         },
         {
          "Fut": 0.047619047619047616,
          "Imp": 0.047619047619047616,
          "Past": 0.09523809523809523,
          "Pres": 0.8095238095238095,
          "level": "A2"
         },
         {
          "Fut": 0,
          "Imp": 0,
          "Past": 0.1388888888888889,
          "Pres": 0.8611111111111112,
          "level": "A2"
         },
         {
          "Fut": 0,
          "Imp": 0,
          "Past": 0.16666666666666666,
          "Pres": 0.8333333333333334,
          "level": "A2"
         },
         {
          "Fut": 0,
          "Imp": 0.03571428571428571,
          "Past": 0.14285714285714285,
          "Pres": 0.8214285714285714,
          "level": "A2"
         },
         {
          "Fut": 0,
          "Imp": 0,
          "Past": 0,
          "Pres": 1,
          "level": "A2"
         },
         {
          "Fut": 0,
          "Imp": 0,
          "Past": 0.6896551724137931,
          "Pres": 0.3103448275862069,
          "level": "A2"
         },
         {
          "Fut": 0,
          "Imp": 0.36,
          "Past": 0.46,
          "Pres": 0.18,
          "level": "A2"
         },
         {
          "Fut": 0,
          "Imp": 0,
          "Past": 0.03571428571428571,
          "Pres": 0.9642857142857143,
          "level": "A2"
         },
         {
          "Fut": 0,
          "Imp": 0.1,
          "Past": 0.6,
          "Pres": 0.3,
          "level": "A2"
         },
         {
          "Fut": 0.02631578947368421,
          "Imp": 0.23684210526315788,
          "Past": 0.5263157894736842,
          "Pres": 0.21052631578947367,
          "level": "A2"
         },
         {
          "Fut": 0.23076923076923078,
          "Imp": 0,
          "Past": 0.23076923076923078,
          "Pres": 0.5384615384615384,
          "level": "A2"
         },
         {
          "Fut": 0.034482758620689655,
          "Imp": 0.06896551724137931,
          "Past": 0.4482758620689655,
          "Pres": 0.4482758620689655,
          "level": "A2"
         },
         {
          "Fut": 0.17391304347826086,
          "Imp": 0.13043478260869565,
          "Past": 0.4782608695652174,
          "Pres": 0.21739130434782608,
          "level": "A2"
         },
         {
          "Fut": 0.16666666666666666,
          "Imp": 0.2222222222222222,
          "Past": 0.2222222222222222,
          "Pres": 0.3888888888888889,
          "level": "A2"
         },
         {
          "Fut": 0,
          "Imp": 0.10526315789473684,
          "Past": 0.5789473684210527,
          "Pres": 0.3157894736842105,
          "level": "A2"
         },
         {
          "Fut": 0.07407407407407407,
          "Imp": 0,
          "Past": 0.2222222222222222,
          "Pres": 0.7037037037037037,
          "level": "A2"
         },
         {
          "Fut": 0,
          "Imp": 0.125,
          "Past": 0.375,
          "Pres": 0.5,
          "level": "A2"
         },
         {
          "Fut": 0,
          "Imp": 0.14285714285714285,
          "Past": 0.7857142857142857,
          "Pres": 0.07142857142857142,
          "level": "A2"
         },
         {
          "Fut": 0.21428571428571427,
          "Imp": 0,
          "Past": 0.14285714285714285,
          "Pres": 0.6428571428571429,
          "level": "A2"
         },
         {
          "Fut": 0,
          "Imp": 0.038461538461538464,
          "Past": 0.038461538461538464,
          "Pres": 0.9230769230769231,
          "level": "A2"
         },
         {
          "Fut": 0.007518796992481203,
          "Imp": 0.14285714285714285,
          "Past": 0.5639097744360902,
          "Pres": 0.2857142857142857,
          "level": "A2"
         },
         {
          "Fut": 0,
          "Imp": 0,
          "Past": 0,
          "Pres": 1,
          "level": "A2"
         },
         {
          "Fut": 0,
          "Imp": 0.029411764705882353,
          "Past": 0.08823529411764706,
          "Pres": 0.8823529411764706,
          "level": "A2"
         },
         {
          "Fut": 0.07575757575757576,
          "Imp": 0.12121212121212122,
          "Past": 0.2727272727272727,
          "Pres": 0.5303030303030303,
          "level": "A2"
         },
         {
          "Fut": 0.03773584905660377,
          "Imp": 0.07547169811320754,
          "Past": 0.5660377358490566,
          "Pres": 0.32075471698113206,
          "level": "A2"
         },
         {
          "Fut": 0.03225806451612903,
          "Imp": 0.16129032258064516,
          "Past": 0.5483870967741935,
          "Pres": 0.25806451612903225,
          "level": "A2"
         },
         {
          "Fut": 0,
          "Imp": 0,
          "Past": 0,
          "Pres": 1,
          "level": "A2"
         },
         {
          "Fut": 0.14,
          "Imp": 0.06,
          "Past": 0.44,
          "Pres": 0.36,
          "level": "A2"
         },
         {
          "Fut": 0.043478260869565216,
          "Imp": 0.32608695652173914,
          "Past": 0.2826086956521739,
          "Pres": 0.34782608695652173,
          "level": "A2"
         },
         {
          "Fut": 0,
          "Imp": 0,
          "Past": 0,
          "Pres": 1,
          "level": "A2"
         },
         {
          "Fut": 0,
          "Imp": 0.034482758620689655,
          "Past": 0.3103448275862069,
          "Pres": 0.6551724137931034,
          "level": "A2"
         },
         {
          "Fut": 0.03802281368821293,
          "Imp": 0.17110266159695817,
          "Past": 0.44106463878326996,
          "Pres": 0.34980988593155893,
          "level": "A2"
         },
         {
          "Fut": 0.04838709677419355,
          "Imp": 0.28225806451612906,
          "Past": 0.33064516129032256,
          "Pres": 0.3387096774193548,
          "level": "A2"
         },
         {
          "Fut": 0.024390243902439025,
          "Imp": 0.21951219512195122,
          "Past": 0.5121951219512195,
          "Pres": 0.24390243902439024,
          "level": "A2"
         },
         {
          "Fut": 0.10526315789473684,
          "Imp": 0,
          "Past": 0,
          "Pres": 0.8947368421052632,
          "level": "A2"
         },
         {
          "Fut": 0.020689655172413793,
          "Imp": 0.42758620689655175,
          "Past": 0.3793103448275862,
          "Pres": 0.1724137931034483,
          "level": "A2"
         },
         {
          "Fut": 0,
          "Imp": 0.25,
          "Past": 0.6097560975609756,
          "Pres": 0.1402439024390244,
          "level": "A2"
         },
         {
          "Fut": 0.04081632653061224,
          "Imp": 0.30612244897959184,
          "Past": 0.3673469387755102,
          "Pres": 0.2857142857142857,
          "level": "A2"
         },
         {
          "Fut": 0.02564102564102564,
          "Imp": 0.01282051282051282,
          "Past": 0.08974358974358974,
          "Pres": 0.8717948717948718,
          "level": "A2"
         },
         {
          "Fut": 0.0078125,
          "Imp": 0,
          "Past": 0.09375,
          "Pres": 0.8984375,
          "level": "A2"
         },
         {
          "Fut": 0.009900990099009901,
          "Imp": 0.009900990099009901,
          "Past": 0.0297029702970297,
          "Pres": 0.9504950495049505,
          "level": "A2"
         },
         {
          "Fut": 0.03731343283582089,
          "Imp": 0.03731343283582089,
          "Past": 0.13432835820895522,
          "Pres": 0.7910447761194029,
          "level": "A2"
         },
         {
          "Fut": 0,
          "Imp": 0.0136986301369863,
          "Past": 0.0684931506849315,
          "Pres": 0.9178082191780822,
          "level": "A2"
         },
         {
          "Fut": 0,
          "Imp": 0.03125,
          "Past": 0.046875,
          "Pres": 0.921875,
          "level": "A2"
         },
         {
          "Fut": 0,
          "Imp": 0.013333333333333334,
          "Past": 0.04,
          "Pres": 0.9466666666666667,
          "level": "A2"
         },
         {
          "Fut": 0.046632124352331605,
          "Imp": 0.031088082901554404,
          "Past": 0.09844559585492228,
          "Pres": 0.8238341968911918,
          "level": "A2"
         },
         {
          "Fut": 0.007194244604316547,
          "Imp": 0.02877697841726619,
          "Past": 0.06474820143884892,
          "Pres": 0.8992805755395683,
          "level": "A2"
         },
         {
          "Fut": 0.013793103448275862,
          "Imp": 0.041379310344827586,
          "Past": 0.07586206896551724,
          "Pres": 0.8689655172413793,
          "level": "A2"
         },
         {
          "Fut": 0.02564102564102564,
          "Imp": 0.04487179487179487,
          "Past": 0.14102564102564102,
          "Pres": 0.7884615384615384,
          "level": "A2"
         },
         {
          "Fut": 0,
          "Imp": 0.09523809523809523,
          "Past": 0.8571428571428571,
          "Pres": 0.047619047619047616,
          "level": "B1"
         },
         {
          "Fut": 0.18518518518518517,
          "Imp": 0,
          "Past": 0,
          "Pres": 0.8148148148148148,
          "level": "B1"
         },
         {
          "Fut": 0,
          "Imp": 0,
          "Past": 0,
          "Pres": 1,
          "level": "B1"
         },
         {
          "Fut": 0.027777777777777776,
          "Imp": 0.027777777777777776,
          "Past": 0.2222222222222222,
          "Pres": 0.7222222222222222,
          "level": "B1"
         },
         {
          "Fut": 0,
          "Imp": 0,
          "Past": 0.16129032258064516,
          "Pres": 0.8387096774193549,
          "level": "B1"
         },
         {
          "Fut": 0,
          "Imp": 0.038461538461538464,
          "Past": 0,
          "Pres": 0.9615384615384616,
          "level": "B1"
         },
         {
          "Fut": 0,
          "Imp": 0,
          "Past": 0,
          "Pres": 1,
          "level": "B1"
         },
         {
          "Fut": 0,
          "Imp": 0.2608695652173913,
          "Past": 0.4782608695652174,
          "Pres": 0.2608695652173913,
          "level": "B1"
         },
         {
          "Fut": 0,
          "Imp": 0,
          "Past": 0.047619047619047616,
          "Pres": 0.9523809523809523,
          "level": "B1"
         },
         {
          "Fut": 0,
          "Imp": 0,
          "Past": 0,
          "Pres": 1,
          "level": "B1"
         },
         {
          "Fut": 0.2222222222222222,
          "Imp": 0.1111111111111111,
          "Past": 0.3333333333333333,
          "Pres": 0.3333333333333333,
          "level": "B1"
         },
         {
          "Fut": 0.03543307086614173,
          "Imp": 0.11023622047244094,
          "Past": 0.42913385826771655,
          "Pres": 0.4251968503937008,
          "level": "B1"
         },
         {
          "Fut": 0.0427807486631016,
          "Imp": 0.3689839572192513,
          "Past": 0.3689839572192513,
          "Pres": 0.2192513368983957,
          "level": "B1"
         },
         {
          "Fut": 0,
          "Imp": 0.4084507042253521,
          "Past": 0.4507042253521127,
          "Pres": 0.14084507042253522,
          "level": "B1"
         },
         {
          "Fut": 0,
          "Imp": 0.36585365853658536,
          "Past": 0.4268292682926829,
          "Pres": 0.2073170731707317,
          "level": "B1"
         },
         {
          "Fut": 0.0045871559633027525,
          "Imp": 0.3073394495412844,
          "Past": 0.46788990825688076,
          "Pres": 0.22018348623853212,
          "level": "B1"
         },
         {
          "Fut": 0,
          "Imp": 0.36363636363636365,
          "Past": 0.36363636363636365,
          "Pres": 0.2727272727272727,
          "level": "B1"
         },
         {
          "Fut": 0.011904761904761904,
          "Imp": 0.40476190476190477,
          "Past": 0.43452380952380953,
          "Pres": 0.1488095238095238,
          "level": "B1"
         },
         {
          "Fut": 0.012987012987012988,
          "Imp": 0.03896103896103896,
          "Past": 0.16883116883116883,
          "Pres": 0.7792207792207793,
          "level": "B1"
         },
         {
          "Fut": 0.011627906976744186,
          "Imp": 0.03488372093023256,
          "Past": 0.03488372093023256,
          "Pres": 0.9186046511627907,
          "level": "B1"
         },
         {
          "Fut": 0.02072538860103627,
          "Imp": 0.32642487046632124,
          "Past": 0.40932642487046633,
          "Pres": 0.24352331606217617,
          "level": "B1"
         },
         {
          "Fut": 0.0106951871657754,
          "Imp": 0.40641711229946526,
          "Past": 0.4385026737967914,
          "Pres": 0.1443850267379679,
          "level": "B1"
         },
         {
          "Fut": 0.057692307692307696,
          "Imp": 0.2548076923076923,
          "Past": 0.3269230769230769,
          "Pres": 0.3605769230769231,
          "level": "B1"
         },
         {
          "Fut": 0.010810810810810811,
          "Imp": 0.3054054054054054,
          "Past": 0.45135135135135135,
          "Pres": 0.23243243243243245,
          "level": "B1"
         },
         {
          "Fut": 0.008849557522123894,
          "Imp": 0.49557522123893805,
          "Past": 0.336283185840708,
          "Pres": 0.1592920353982301,
          "level": "B1"
         },
         {
          "Fut": 0.023575638506876228,
          "Imp": 0.3182711198428291,
          "Past": 0.40471512770137524,
          "Pres": 0.25343811394891946,
          "level": "B1"
         },
         {
          "Fut": 0.04572564612326044,
          "Imp": 0.21669980119284293,
          "Past": 0.2783300198807157,
          "Pres": 0.4592445328031809,
          "level": "B1"
         },
         {
          "Fut": 0.010025062656641603,
          "Imp": 0.3082706766917293,
          "Past": 0.23558897243107768,
          "Pres": 0.44611528822055135,
          "level": "B1"
         },
         {
          "Fut": 0.012096774193548387,
          "Imp": 0.32661290322580644,
          "Past": 0.33064516129032256,
          "Pres": 0.33064516129032256,
          "level": "B1"
         },
         {
          "Fut": 0.047619047619047616,
          "Imp": 0.09523809523809523,
          "Past": 0.047619047619047616,
          "Pres": 0.8095238095238095,
          "level": "B1"
         },
         {
          "Fut": 0,
          "Imp": 0.125,
          "Past": 0.25,
          "Pres": 0.625,
          "level": "B1"
         },
         {
          "Fut": 0,
          "Imp": 0.25,
          "Past": 0.125,
          "Pres": 0.625,
          "level": "B1"
         },
         {
          "Fut": 0,
          "Imp": 0,
          "Past": 0.09090909090909091,
          "Pres": 0.9090909090909091,
          "level": "B1"
         },
         {
          "Fut": 0,
          "Imp": 0,
          "Past": 0.3333333333333333,
          "Pres": 0.6666666666666666,
          "level": "B1"
         },
         {
          "Fut": 0.05555555555555555,
          "Imp": 0.5555555555555556,
          "Past": 0.2222222222222222,
          "Pres": 0.16666666666666666,
          "level": "B1"
         },
         {
          "Fut": 0.057692307692307696,
          "Imp": 0,
          "Past": 0.07692307692307693,
          "Pres": 0.8653846153846154,
          "level": "B1"
         },
         {
          "Fut": 0.05555555555555555,
          "Imp": 0,
          "Past": 0.05555555555555555,
          "Pres": 0.8888888888888888,
          "level": "B1"
         },
         {
          "Fut": 0,
          "Imp": 0,
          "Past": 0.2857142857142857,
          "Pres": 0.7142857142857143,
          "level": "B1"
         },
         {
          "Fut": 0,
          "Imp": 0,
          "Past": 0.07692307692307693,
          "Pres": 0.9230769230769231,
          "level": "B1"
         },
         {
          "Fut": 0,
          "Imp": 0.14285714285714285,
          "Past": 0.2857142857142857,
          "Pres": 0.5714285714285714,
          "level": "B1"
         },
         {
          "Fut": 0,
          "Imp": 0,
          "Past": 0,
          "Pres": 1,
          "level": "B1"
         },
         {
          "Fut": 0.6,
          "Imp": 0.13333333333333333,
          "Past": 0.13333333333333333,
          "Pres": 0.13333333333333333,
          "level": "B1"
         },
         {
          "Fut": 0.03018867924528302,
          "Imp": 0.33962264150943394,
          "Past": 0.44150943396226416,
          "Pres": 0.18867924528301888,
          "level": "B2"
         },
         {
          "Fut": 0.04189944134078212,
          "Imp": 0.16759776536312848,
          "Past": 0.22905027932960895,
          "Pres": 0.5614525139664804,
          "level": "B2"
         },
         {
          "Fut": 0,
          "Imp": 0.32558139534883723,
          "Past": 0.36627906976744184,
          "Pres": 0.3081395348837209,
          "level": "B2"
         },
         {
          "Fut": 0.058823529411764705,
          "Imp": 0.23529411764705882,
          "Past": 0.11764705882352941,
          "Pres": 0.5882352941176471,
          "level": "B2"
         },
         {
          "Fut": 0.01818181818181818,
          "Imp": 0.4446280991735537,
          "Past": 0.3074380165289256,
          "Pres": 0.22975206611570248,
          "level": "B2"
         },
         {
          "Fut": 0.007692307692307693,
          "Imp": 0.21153846153846154,
          "Past": 0.6653846153846154,
          "Pres": 0.11538461538461539,
          "level": "B2"
         },
         {
          "Fut": 0,
          "Imp": 0,
          "Past": 0.07692307692307693,
          "Pres": 0.9230769230769231,
          "level": "B2"
         },
         {
          "Fut": 0.013215859030837005,
          "Imp": 0.11013215859030837,
          "Past": 0.15859030837004406,
          "Pres": 0.7180616740088106,
          "level": "B2"
         },
         {
          "Fut": 0.06976744186046512,
          "Imp": 0.13953488372093023,
          "Past": 0.16279069767441862,
          "Pres": 0.627906976744186,
          "level": "B2"
         },
         {
          "Fut": 0,
          "Imp": 0,
          "Past": 0,
          "Pres": 1,
          "level": "B2"
         },
         {
          "Fut": 0.09803921568627451,
          "Imp": 0.13725490196078433,
          "Past": 0.18627450980392157,
          "Pres": 0.5784313725490197,
          "level": "B2"
         },
         {
          "Fut": 0.036036036036036036,
          "Imp": 0.32732732732732733,
          "Past": 0.3123123123123123,
          "Pres": 0.32432432432432434,
          "level": "B2"
         },
         {
          "Fut": 0.010752688172043012,
          "Imp": 0.3655913978494624,
          "Past": 0.41935483870967744,
          "Pres": 0.20430107526881722,
          "level": "B2"
         },
         {
          "Fut": 0.047619047619047616,
          "Imp": 0.0663265306122449,
          "Past": 0.21768707482993196,
          "Pres": 0.6683673469387755,
          "level": "B2"
         },
         {
          "Fut": 0.04804804804804805,
          "Imp": 0.07807807807807808,
          "Past": 0.3003003003003003,
          "Pres": 0.5735735735735735,
          "level": "B2"
         },
         {
          "Fut": 0,
          "Imp": 0.020833333333333332,
          "Past": 0.125,
          "Pres": 0.8541666666666666,
          "level": "B2"
         },
         {
          "Fut": 0.046511627906976744,
          "Imp": 0.2558139534883721,
          "Past": 0.5348837209302325,
          "Pres": 0.16279069767441862,
          "level": "B2"
         },
         {
          "Fut": 0.014705882352941176,
          "Imp": 0.04411764705882353,
          "Past": 0.19117647058823528,
          "Pres": 0.75,
          "level": "B2"
         },
         {
          "Fut": 0.028089887640449437,
          "Imp": 0.2808988764044944,
          "Past": 0.3258426966292135,
          "Pres": 0.3651685393258427,
          "level": "B2"
         },
         {
          "Fut": 0,
          "Imp": 0.07142857142857142,
          "Past": 0.5,
          "Pres": 0.42857142857142855,
          "level": "B2"
         },
         {
          "Fut": 0.05,
          "Imp": 0.07352941176470588,
          "Past": 0.1323529411764706,
          "Pres": 0.7441176470588236,
          "level": "B2"
         },
         {
          "Fut": 0.02,
          "Imp": 0.36,
          "Past": 0.06,
          "Pres": 0.56,
          "level": "B2"
         },
         {
          "Fut": 0.05555555555555555,
          "Imp": 0.16666666666666666,
          "Past": 0.16666666666666666,
          "Pres": 0.6111111111111112,
          "level": "B2"
         },
         {
          "Fut": 0,
          "Imp": 0,
          "Past": 0,
          "Pres": 1,
          "level": "B2"
         },
         {
          "Fut": 0,
          "Imp": 0.09090909090909091,
          "Past": 0.5151515151515151,
          "Pres": 0.3939393939393939,
          "level": "B2"
         },
         {
          "Fut": 0,
          "Imp": 0.3684210526315789,
          "Past": 0,
          "Pres": 0.631578947368421,
          "level": "B2"
         },
         {
          "Fut": 0,
          "Imp": 0.1111111111111111,
          "Past": 0,
          "Pres": 0.8888888888888888,
          "level": "B2"
         },
         {
          "Fut": 0,
          "Imp": 0.14285714285714285,
          "Past": 0,
          "Pres": 0.8571428571428571,
          "level": "B2"
         },
         {
          "Fut": 0,
          "Imp": 0.04,
          "Past": 0.12,
          "Pres": 0.84,
          "level": "B2"
         },
         {
          "Fut": 0,
          "Imp": 0.42857142857142855,
          "Past": 0,
          "Pres": 0.5714285714285714,
          "level": "B2"
         },
         {
          "Fut": 0,
          "Imp": 0.05555555555555555,
          "Past": 0.05555555555555555,
          "Pres": 0.8888888888888888,
          "level": "B2"
         },
         {
          "Fut": 0.2,
          "Imp": 0.2,
          "Past": 0.3,
          "Pres": 0.3,
          "level": "B2"
         },
         {
          "Fut": 0,
          "Imp": 0,
          "Past": 0.2222222222222222,
          "Pres": 0.7777777777777778,
          "level": "B2"
         },
         {
          "Fut": 0,
          "Imp": 0,
          "Past": 0,
          "Pres": 1,
          "level": "B2"
         },
         {
          "Fut": 0,
          "Imp": 0.5625,
          "Past": 0.1875,
          "Pres": 0.25,
          "level": "B2"
         },
         {
          "Fut": 0.16666666666666666,
          "Imp": 0,
          "Past": 0.75,
          "Pres": 0.08333333333333333,
          "level": "B2"
         },
         {
          "Fut": 0,
          "Imp": 0,
          "Past": 0.125,
          "Pres": 0.875,
          "level": "B2"
         },
         {
          "Fut": 0.03225806451612903,
          "Imp": 0.0967741935483871,
          "Past": 0.12903225806451613,
          "Pres": 0.7419354838709677,
          "level": "B2"
         },
         {
          "Fut": 0.005434782608695652,
          "Imp": 0.13043478260869565,
          "Past": 0.33695652173913043,
          "Pres": 0.5271739130434783,
          "level": "B2"
         },
         {
          "Fut": 0.03278688524590164,
          "Imp": 0.04918032786885246,
          "Past": 0.13114754098360656,
          "Pres": 0.7868852459016393,
          "level": "B2"
         },
         {
          "Fut": 0,
          "Imp": 0.07936507936507936,
          "Past": 0.15873015873015872,
          "Pres": 0.7619047619047619,
          "level": "B2"
         },
         {
          "Fut": 0.08139534883720931,
          "Imp": 0.13953488372093023,
          "Past": 0.27906976744186046,
          "Pres": 0.5,
          "level": "B2"
         },
         {
          "Fut": 0,
          "Imp": 0.16666666666666666,
          "Past": 0.18518518518518517,
          "Pres": 0.6481481481481481,
          "level": "B2"
         },
         {
          "Fut": 0.0425531914893617,
          "Imp": 0.02127659574468085,
          "Past": 0.23404255319148937,
          "Pres": 0.7021276595744681,
          "level": "B2"
         },
         {
          "Fut": 0,
          "Imp": 0.058823529411764705,
          "Past": 0.11764705882352941,
          "Pres": 0.8235294117647058,
          "level": "B2"
         },
         {
          "Fut": 0.017543859649122806,
          "Imp": 0.14912280701754385,
          "Past": 0.18421052631578946,
          "Pres": 0.6491228070175439,
          "level": "B2"
         },
         {
          "Fut": 0,
          "Imp": 0.03125,
          "Past": 0.3125,
          "Pres": 0.65625,
          "level": "B2"
         },
         {
          "Fut": 0.023255813953488372,
          "Imp": 0,
          "Past": 0.13953488372093023,
          "Pres": 0.8372093023255814,
          "level": "B2"
         },
         {
          "Fut": 0.08823529411764706,
          "Imp": 0.08823529411764706,
          "Past": 0.4411764705882353,
          "Pres": 0.38235294117647056,
          "level": "B2"
         },
         {
          "Fut": 0.08823529411764706,
          "Imp": 0.029411764705882353,
          "Past": 0.11764705882352941,
          "Pres": 0.7647058823529411,
          "level": "B2"
         },
         {
          "Fut": 0.036585365853658534,
          "Imp": 0.024390243902439025,
          "Past": 0.14634146341463414,
          "Pres": 0.7926829268292683,
          "level": "B2"
         },
         {
          "Fut": 0,
          "Imp": 0,
          "Past": 0,
          "Pres": 1,
          "level": "B2"
         },
         {
          "Fut": 0.01568627450980392,
          "Imp": 0.1843137254901961,
          "Past": 0.2784313725490196,
          "Pres": 0.5215686274509804,
          "level": "B2"
         },
         {
          "Fut": 0.017391304347826087,
          "Imp": 0.06086956521739131,
          "Past": 0.3739130434782609,
          "Pres": 0.5478260869565217,
          "level": "B2"
         },
         {
          "Fut": 0.05555555555555555,
          "Imp": 0,
          "Past": 0.05555555555555555,
          "Pres": 0.8888888888888888,
          "level": "B2"
         },
         {
          "Fut": 0.14285714285714285,
          "Imp": 0,
          "Past": 0.7142857142857143,
          "Pres": 0.14285714285714285,
          "level": "B2"
         },
         {
          "Fut": 0,
          "Imp": 0.17142857142857143,
          "Past": 0.4,
          "Pres": 0.42857142857142855,
          "level": "B2"
         },
         {
          "Fut": 0.05405405405405406,
          "Imp": 0.05405405405405406,
          "Past": 0.02702702702702703,
          "Pres": 0.8648648648648649,
          "level": "B2"
         },
         {
          "Fut": 0.11764705882352941,
          "Imp": 0.11764705882352941,
          "Past": 0,
          "Pres": 0.7647058823529411,
          "level": "B2"
         },
         {
          "Fut": 0.3611111111111111,
          "Imp": 0.1111111111111111,
          "Past": 0.1111111111111111,
          "Pres": 0.4166666666666667,
          "level": "B2"
         },
         {
          "Fut": 0,
          "Imp": 0.23255813953488372,
          "Past": 0.3953488372093023,
          "Pres": 0.37209302325581395,
          "level": "B2"
         },
         {
          "Fut": 0.140625,
          "Imp": 0.03125,
          "Past": 0.109375,
          "Pres": 0.71875,
          "level": "B2"
         },
         {
          "Fut": 0,
          "Imp": 0.3125,
          "Past": 0.375,
          "Pres": 0.3125,
          "level": "B2"
         },
         {
          "Fut": 0,
          "Imp": 0.09615384615384616,
          "Past": 0.11538461538461539,
          "Pres": 0.7884615384615384,
          "level": "B2"
         },
         {
          "Fut": 0,
          "Imp": 0,
          "Past": 0.8571428571428571,
          "Pres": 0.14285714285714285,
          "level": "B2"
         },
         {
          "Fut": 0,
          "Imp": 0.14285714285714285,
          "Past": 0.2857142857142857,
          "Pres": 0.5714285714285714,
          "level": "B2"
         },
         {
          "Fut": 0,
          "Imp": 0.18292682926829268,
          "Past": 0.036585365853658534,
          "Pres": 0.7804878048780488,
          "level": "B2"
         },
         {
          "Fut": 0.034482758620689655,
          "Imp": 0.034482758620689655,
          "Past": 0.22413793103448276,
          "Pres": 0.7068965517241379,
          "level": "B2"
         },
         {
          "Fut": 0,
          "Imp": 0,
          "Past": 0.2,
          "Pres": 0.8,
          "level": "B2"
         },
         {
          "Fut": 0.06666666666666667,
          "Imp": 0.06666666666666667,
          "Past": 0.06666666666666667,
          "Pres": 0.8,
          "level": "B2"
         },
         {
          "Fut": 0,
          "Imp": 0.3333333333333333,
          "Past": 0,
          "Pres": 0.6666666666666666,
          "level": "B2"
         },
         {
          "Fut": 0,
          "Imp": 0,
          "Past": 0.6363636363636364,
          "Pres": 0.36363636363636365,
          "level": "B2"
         },
         {
          "Fut": 0.03529411764705882,
          "Imp": 0.12941176470588237,
          "Past": 0.2823529411764706,
          "Pres": 0.5529411764705883,
          "level": "B2"
         },
         {
          "Fut": 0,
          "Imp": 0,
          "Past": 0.08333333333333333,
          "Pres": 0.9166666666666666,
          "level": "B2"
         },
         {
          "Fut": 0.04,
          "Imp": 0.04,
          "Past": 0.12,
          "Pres": 0.8,
          "level": "B2"
         },
         {
          "Fut": 0,
          "Imp": 0.125,
          "Past": 0.125,
          "Pres": 0.75,
          "level": "B2"
         },
         {
          "Fut": 0.058823529411764705,
          "Imp": 0.08823529411764706,
          "Past": 0.14705882352941177,
          "Pres": 0.7058823529411765,
          "level": "B2"
         },
         {
          "Fut": 0,
          "Imp": 0.38095238095238093,
          "Past": 0.25396825396825395,
          "Pres": 0.36507936507936506,
          "level": "B2"
         },
         {
          "Fut": 0,
          "Imp": 0.04878048780487805,
          "Past": 0.14634146341463414,
          "Pres": 0.8048780487804879,
          "level": "B2"
         },
         {
          "Fut": 0.1111111111111111,
          "Imp": 0,
          "Past": 0.05555555555555555,
          "Pres": 0.8333333333333334,
          "level": "B2"
         },
         {
          "Fut": 0.05,
          "Imp": 0.3,
          "Past": 0.55,
          "Pres": 0.1,
          "level": "B2"
         },
         {
          "Fut": 0.15789473684210525,
          "Imp": 0.05263157894736842,
          "Past": 0.3157894736842105,
          "Pres": 0.47368421052631576,
          "level": "B2"
         },
         {
          "Fut": 0.023255813953488372,
          "Imp": 0.3488372093023256,
          "Past": 0.27906976744186046,
          "Pres": 0.3488372093023256,
          "level": "B2"
         },
         {
          "Fut": 0.038461538461538464,
          "Imp": 0.11538461538461539,
          "Past": 0.19230769230769232,
          "Pres": 0.6538461538461539,
          "level": "B2"
         },
         {
          "Fut": 0,
          "Imp": 0.043478260869565216,
          "Past": 0.13043478260869565,
          "Pres": 0.8260869565217391,
          "level": "B2"
         },
         {
          "Fut": 0.25,
          "Imp": 0.08333333333333333,
          "Past": 0.08333333333333333,
          "Pres": 0.5833333333333334,
          "level": "B2"
         },
         {
          "Fut": 0.125,
          "Imp": 0,
          "Past": 0,
          "Pres": 0.875,
          "level": "B2"
         },
         {
          "Fut": 0.038834951456310676,
          "Imp": 0.05825242718446602,
          "Past": 0.1650485436893204,
          "Pres": 0.7378640776699029,
          "level": "B2"
         },
         {
          "Fut": 0,
          "Imp": 0.13043478260869565,
          "Past": 0.043478260869565216,
          "Pres": 0.8260869565217391,
          "level": "B2"
         },
         {
          "Fut": 0.12121212121212122,
          "Imp": 0.06060606060606061,
          "Past": 0.30303030303030304,
          "Pres": 0.5151515151515151,
          "level": "B2"
         },
         {
          "Fut": 0,
          "Imp": 0.12727272727272726,
          "Past": 0.10909090909090909,
          "Pres": 0.7636363636363637,
          "level": "B2"
         },
         {
          "Fut": 0,
          "Imp": 0,
          "Past": 0,
          "Pres": 1,
          "level": "B2"
         },
         {
          "Fut": 0.057692307692307696,
          "Imp": 0,
          "Past": 0.07692307692307693,
          "Pres": 0.8653846153846154,
          "level": "B2"
         },
         {
          "Fut": 0,
          "Imp": 0.02127659574468085,
          "Past": 0.1276595744680851,
          "Pres": 0.851063829787234,
          "level": "B2"
         },
         {
          "Fut": 0,
          "Imp": 0,
          "Past": 0.3,
          "Pres": 0.7,
          "level": "B2"
         },
         {
          "Fut": 0.07792207792207792,
          "Imp": 0.012987012987012988,
          "Past": 0.11688311688311688,
          "Pres": 0.7922077922077922,
          "level": "B2"
         },
         {
          "Fut": 0,
          "Imp": 0.05084745762711865,
          "Past": 0.0847457627118644,
          "Pres": 0.864406779661017,
          "level": "B2"
         },
         {
          "Fut": 0,
          "Imp": 0.3,
          "Past": 0.6,
          "Pres": 0.1,
          "level": "B2"
         },
         {
          "Fut": 0,
          "Imp": 0,
          "Past": 0,
          "Pres": 0,
          "level": "B2"
         },
         {
          "Fut": 0,
          "Imp": 0.6666666666666666,
          "Past": 0.3333333333333333,
          "Pres": 0,
          "level": "B2"
         },
         {
          "Fut": 0,
          "Imp": 0,
          "Past": 0.2,
          "Pres": 0.8,
          "level": "B2"
         },
         {
          "Fut": 0.75,
          "Imp": 0,
          "Past": 0.25,
          "Pres": 0,
          "level": "B2"
         },
         {
          "Fut": 0,
          "Imp": 0.25,
          "Past": 0,
          "Pres": 0.75,
          "level": "B2"
         },
         {
          "Fut": 0,
          "Imp": 0,
          "Past": 0,
          "Pres": 1,
          "level": "B2"
         },
         {
          "Fut": 0,
          "Imp": 0,
          "Past": 0.3333333333333333,
          "Pres": 0.6666666666666666,
          "level": "B2"
         },
         {
          "Fut": 0.14285714285714285,
          "Imp": 0,
          "Past": 0,
          "Pres": 0.8571428571428571,
          "level": "B2"
         },
         {
          "Fut": 0,
          "Imp": 0,
          "Past": 0.6,
          "Pres": 0.4,
          "level": "B2"
         },
         {
          "Fut": 0,
          "Imp": 0.05555555555555555,
          "Past": 0.2777777777777778,
          "Pres": 0.6666666666666666,
          "level": "B2"
         },
         {
          "Fut": 0,
          "Imp": 0,
          "Past": 0,
          "Pres": 1,
          "level": "B2"
         },
         {
          "Fut": 0,
          "Imp": 0,
          "Past": 0,
          "Pres": 1,
          "level": "B2"
         }
        ]
       },
       "facet": {
        "field": "level",
        "type": "nominal"
       },
       "spec": {
        "encoding": {
         "x": {
          "bin": {
           "maxbins": 30
          },
          "field": "Imp",
          "type": "quantitative"
         },
         "y": {
          "aggregate": "count",
          "type": "quantitative"
         }
        },
        "mark": "bar"
       }
      },
      "image/png": "[encoded data removed]",
      "text/plain": [
       "<VegaLite 4 object>\n",
       "\n",
       "If you see this message, it means the renderer has not been properly enabled\n",
       "for the frontend that you are using. For more information, see\n",
       "https://altair-viz.github.io/user_guide/troubleshooting.html\n"
      ]
     },
     "execution_count": 39,
     "metadata": {},
     "output_type": "execute_result"
    }
   ],
   "source": [
    "alt.Chart(level_verb_tense_df).mark_bar().encode(x = alt.X('Imp', bin = alt.Bin(maxbins = 30)), y = 'count()').facet('level')"
   ]
  },
  {
   "cell_type": "markdown",
   "id": "measured-conference",
   "metadata": {},
   "source": [
    "The codes below are used for debugging. Please ignore them. "
   ]
  },
  {
   "cell_type": "code",
   "execution_count": 40,
   "id": "historic-british",
   "metadata": {},
   "outputs": [
    {
     "name": "stdout",
     "output_type": "stream",
     "text": [
      "{'Pres': 1.0, 'Fut': 0.0, 'Imp': 0.0, 'Past': 0.0}\n",
      "{'Pres': 1.0, 'Fut': 0.0, 'Imp': 0.0, 'Past': 0.0}\n",
      "{'Pres': 1.0, 'Fut': 0.0, 'Imp': 0.0, 'Past': 0.0}\n",
      "{'Pres': 1.0, 'Fut': 0.0, 'Imp': 0.0, 'Past': 0.0}\n",
      "{'Pres': 1.0, 'Fut': 0.0, 'Imp': 0.0, 'Past': 0.0}\n",
      "{'Pres': 0.8703703703703703, 'Past': 0.12962962962962962, 'Fut': 0.0, 'Imp': 0.0}\n",
      "{'Imp': 0.4268292682926829, 'Pres': 0.2682926829268293, 'Past': 0.2682926829268293, 'Fut': 0.036585365853658534}\n",
      "{'Imp': 0.3597122302158273, 'Past': 0.49640287769784175, 'Pres': 0.14388489208633093, 'Fut': 0.0}\n",
      "{'Imp': 0.23880597014925373, 'Past': 0.7014925373134329, 'Pres': 0.05223880597014925, 'Fut': 0.007462686567164179}\n",
      "{'Imp': 0.16666666666666666, 'Past': 0.3888888888888889, 'Pres': 0.3888888888888889, 'Fut': 0.05555555555555555}\n"
     ]
    }
   ],
   "source": [
    "keys = ['Fut', 'Imp', 'Past', 'Pres']\n",
    "level_verb_tense = defaultdict(list)\n",
    "corpus_item = corpus['A1']\n",
    "i = 0\n",
    "while i < 10:\n",
    "#for i, text_item in enumerate(corpus_item):\n",
    "    text_item = corpus_item[i]['content']\n",
    "    verb_tense_dict = verb_tense(text_item, pipeline)\n",
    "    print(verb_tense_dict)\n",
    "    level_verb_tense['level'].append(level)\n",
    "    for key in keys: \n",
    "        if key in verb_tense_dict.keys():\n",
    "            level_verb_tense[key].append(verb_tense_dict[key])\n",
    "        else:\n",
    "            level_verb_tense[key].append(0)\n",
    "    i += 1"
   ]
  },
  {
   "cell_type": "code",
   "execution_count": null,
   "id": "precise-isaac",
   "metadata": {},
   "outputs": [],
   "source": []
  }
 ],
 "metadata": {
  "kernelspec": {
   "display_name": "Python 3",
   "language": "python",
   "name": "python3"
  },
  "language_info": {
   "codemirror_mode": {
    "name": "ipython",
    "version": 3
   },
   "file_extension": ".py",
   "mimetype": "text/x-python",
   "name": "python",
   "nbconvert_exporter": "python",
   "pygments_lexer": "ipython3",
   "version": "3.8.3"
  }
 },
 "nbformat": 4,
 "nbformat_minor": 5
}
