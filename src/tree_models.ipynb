{
 "cells": [
  {
   "cell_type": "markdown",
   "id": "ranging-season",
   "metadata": {},
   "source": [
    "## Tree Models"
   ]
  },
  {
   "cell_type": "code",
   "execution_count": 1,
   "id": "numeric-taylor",
   "metadata": {},
   "outputs": [],
   "source": [
    "import json\n",
    "from tqdm import tqdm\n",
    "import pandas as pd\n",
    "from sklearn.tree import DecisionTreeClassifier\n",
    "from sklearn.metrics import accuracy_score\n",
    "from features import feature_pipeline"
   ]
  },
  {
   "cell_type": "code",
   "execution_count": 2,
   "id": "greatest-harbor",
   "metadata": {},
   "outputs": [],
   "source": [
    "import graphviz\n",
    "import re\n",
    "from sklearn.tree import export_graphviz\n",
    "\n",
    "# From DSCI 571 Lab 1 Solutions\n",
    "def display_tree(feature_names, tree, save=False, save_name=\"tree\"):\n",
    "    \"\"\" For binary classification only \"\"\"\n",
    "    dot = export_graphviz(\n",
    "        tree,\n",
    "        out_file=None,\n",
    "        feature_names=feature_names,\n",
    "        class_names=tree.classes_.astype(str),\n",
    "        impurity=False,\n",
    "    )\n",
    "    # adapted from https://stackoverflow.com/questions/44821349/python-graphviz-remove-legend-on-nodes-of-decisiontreeclassifier\n",
    "    dot = re.sub(\"(\\\\\\\\nsamples = [0-9]+)(\\\\\\\\nvalue = \\[[0-9]+, [0-9]+\\])\", \"\", dot)\n",
    "    dot = re.sub(\"(samples = [0-9]+)(\\\\\\\\nvalue = \\[[0-9]+, [0-9]+\\])\\\\\\\\n\", \"\", dot)\n",
    "    if save:\n",
    "        graph = graphviz.Source(dot)\n",
    "        graph.render(save_name)\n",
    "    return graphviz.Source(dot)"
   ]
  },
  {
   "cell_type": "markdown",
   "id": "incredible-kidney",
   "metadata": {},
   "source": [
    "#### Data Loading"
   ]
  },
  {
   "cell_type": "code",
   "execution_count": 3,
   "id": "alleged-needle",
   "metadata": {},
   "outputs": [],
   "source": [
    "with open(\"../data/train_features.json\", \"r\", encoding=\"utf-8\") as f:\n",
    "    train = pd.DataFrame(json.load(f))\n",
    "with open(\"../data/val_features.json\", \"r\", encoding=\"utf-8\") as f:\n",
    "    val = pd.DataFrame(json.load(f))"
   ]
  },
  {
   "cell_type": "code",
   "execution_count": 4,
   "id": "established-alexander",
   "metadata": {},
   "outputs": [],
   "source": [
    "X_train = train.iloc[:, 1:-1]\n",
    "y_train = train[\"level\"].tolist()\n",
    "X_val = val.iloc[:, 1:-1]\n",
    "y_val = val[\"level\"].tolist()"
   ]
  },
  {
   "cell_type": "code",
   "execution_count": 5,
   "id": "thermal-survivor",
   "metadata": {},
   "outputs": [
    {
     "name": "stdout",
     "output_type": "stream",
     "text": [
      "All features:\n",
      "['total_tokens', 'total_tokens_w/o_stopwords', 'avg_sent_length', 'proportion_of_A_level_tokens', 'proportion_of_A_level_types', 'num_connectives', 'logical_operator_density', 'pronoun_density', 'type_token_ratio', 'avg_rank_of_lemmas_in_freq_list', 'fernandez_huerta_score', 'syllables_per_sentence', 'ADJ', 'ADP', 'ADV', 'AUX', 'CONJ', 'CCONJ', 'DET', 'INTJ', 'NOUN', 'NUM', 'PART', 'PRON', 'PROPN', 'PUNCT', 'SCONJ', 'SYM', 'VERB', 'X', 'EOL', 'SPACE', 'CONTENT', 'FUNCTION']\n",
      "\n",
      "Number of features: 34\n"
     ]
    }
   ],
   "source": [
    "print(\n",
    "    f\"All features:\\n{list(X_train.columns)}\\n\\nNumber of features: {len(X_train.columns)}\"\n",
    ")"
   ]
  },
  {
   "cell_type": "code",
   "execution_count": 6,
   "id": "respective-description",
   "metadata": {},
   "outputs": [
    {
     "name": "stdout",
     "output_type": "stream",
     "text": [
      "     total_tokens  total_tokens_w/o_stopwords  avg_sent_length  \\\n",
      "0             293                         124        22.538462   \n",
      "1            1803                         694        11.967105   \n",
      "2             299                         132         7.475000   \n",
      "3            2153                         869        61.514286   \n",
      "4            1621                         654         9.210227   \n",
      "..            ...                         ...              ...   \n",
      "272            76                          34        25.333333   \n",
      "273           196                          83        28.000000   \n",
      "274           203                          86        25.375000   \n",
      "275           401                         193        21.105263   \n",
      "276           358                         160        27.538462   \n",
      "\n",
      "     proportion_of_A_level_tokens  proportion_of_A_level_types  \\\n",
      "0                        0.346774                     0.239130   \n",
      "1                        0.358790                     0.250000   \n",
      "2                        0.484848                     0.465909   \n",
      "3                        0.336018                     0.178637   \n",
      "4                        0.477064                     0.430556   \n",
      "..                            ...                          ...   \n",
      "272                      0.176471                     0.125000   \n",
      "273                      0.313253                     0.242424   \n",
      "274                      0.406977                     0.303030   \n",
      "275                      0.295337                     0.231250   \n",
      "276                      0.343750                     0.215385   \n",
      "\n",
      "     num_connectives  logical_operator_density  pronoun_density  \\\n",
      "0                  5                  0.013841         0.028070   \n",
      "1                 25                  0.044007         0.070665   \n",
      "2                  8                  0.031034         0.038194   \n",
      "3                 17                  0.064261         0.070612   \n",
      "4                 16                  0.047158         0.043786   \n",
      "..               ...                       ...              ...   \n",
      "272                1                  0.027027         0.041096   \n",
      "273                6                  0.059459         0.065217   \n",
      "274                3                  0.030457         0.046392   \n",
      "275                5                  0.046997         0.028205   \n",
      "276                7                  0.043732         0.068657   \n",
      "\n",
      "     type_token_ratio  avg_rank_of_lemmas_in_freq_list  ...     PROPN  \\\n",
      "0            0.474403                       764.931741  ...  0.047782   \n",
      "1            0.313367                       469.323350  ...  0.016084   \n",
      "2            0.454849                       523.906355  ...  0.063545   \n",
      "3            0.340455                       507.078495  ...  0.038086   \n",
      "4            0.268970                       344.231339  ...  0.067242   \n",
      "..                ...                              ...  ...       ...   \n",
      "272          0.710526                       744.118421  ...  0.013158   \n",
      "273          0.566327                       635.806122  ...  0.005102   \n",
      "274          0.512315                       496.167488  ...  0.019704   \n",
      "275          0.551122                       528.177057  ...  0.019950   \n",
      "276          0.522346                       646.796089  ...  0.002793   \n",
      "\n",
      "        PUNCT     SCONJ       SYM      VERB    X  EOL     SPACE   CONTENT  \\\n",
      "0    0.112628  0.006826  0.000000  0.054608  0.0  0.0  0.000000  0.688462   \n",
      "1    0.169163  0.042152  0.001109  0.144759  0.0  0.0  0.000000  0.600936   \n",
      "2    0.210702  0.010033  0.000000  0.120401  0.0  0.0  0.000000  0.673729   \n",
      "3    0.130051  0.061774  0.000000  0.092429  0.0  0.0  0.000000  0.604378   \n",
      "4    0.252930  0.016039  0.003701  0.107341  0.0  0.0  0.000000  0.650622   \n",
      "..        ...       ...       ...       ...  ...  ...       ...       ...   \n",
      "272  0.144737  0.013158  0.000000  0.065789  0.0  0.0  0.013158  0.625000   \n",
      "273  0.153061  0.030612  0.000000  0.091837  0.0  0.0  0.005102  0.606061   \n",
      "274  0.206897  0.034483  0.000000  0.059113  0.0  0.0  0.000000  0.627329   \n",
      "275  0.164589  0.022444  0.000000  0.109726  0.0  0.0  0.004988  0.654655   \n",
      "276  0.181564  0.019553  0.002793  0.114525  0.0  0.0  0.000000  0.681507   \n",
      "\n",
      "     FUNCTION  \n",
      "0    0.311538  \n",
      "1    0.399064  \n",
      "2    0.326271  \n",
      "3    0.395622  \n",
      "4    0.349378  \n",
      "..        ...  \n",
      "272  0.375000  \n",
      "273  0.393939  \n",
      "274  0.372671  \n",
      "275  0.345345  \n",
      "276  0.318493  \n",
      "\n",
      "[277 rows x 34 columns]\n"
     ]
    }
   ],
   "source": [
    "print(X_train)"
   ]
  },
  {
   "cell_type": "markdown",
   "id": "roman-double",
   "metadata": {},
   "source": [
    "#### Determine the appropriate depth for the decision tree classifier"
   ]
  },
  {
   "cell_type": "code",
   "execution_count": 7,
   "id": "assisted-credit",
   "metadata": {},
   "outputs": [],
   "source": [
    "depths = range(1, 25)\n",
    "\n",
    "train_accuracies = []\n",
    "val_accuracies = []\n",
    "\n",
    "for depth in depths:\n",
    "    predictions = []\n",
    "    tree = DecisionTreeClassifier(random_state=123, max_depth=depth)\n",
    "    tree.fit(X_train, y_train)\n",
    "    train_accuracies.append(tree.score(X_train, y_train))\n",
    "    predicted_y_val = tree.predict(X_val, y_val)\n",
    "    val_accuracies.append(accuracy_score(y_val, predicted_y_val))"
   ]
  },
  {
   "cell_type": "code",
   "execution_count": 8,
   "id": "democratic-identifier",
   "metadata": {},
   "outputs": [
    {
     "data": {
      "image/png": "[encoded data removed]",
      "text/plain": [
       "<Figure size 432x288 with 1 Axes>"
      ]
     },
     "metadata": {
      "needs_background": "light"
     },
     "output_type": "display_data"
    }
   ],
   "source": [
    "import matplotlib.pyplot as plt\n",
    "\n",
    "plt.plot(depths, train_accuracies, \"r\")\n",
    "plt.plot(depths, val_accuracies, \"b\")\n",
    "plt.title(\"Determining the Appropriate Depth for Decision Tree Classifier\")\n",
    "plt.xlabel(\"Depth\")\n",
    "plt.ylabel(\"Accuracy\")\n",
    "plt.legend([\"Training Accuracy\", \"Validation Accuracy\"])\n",
    "plt.show()"
   ]
  },
  {
   "cell_type": "code",
   "execution_count": 19,
   "id": "applicable-summary",
   "metadata": {},
   "outputs": [
    {
     "name": "stdout",
     "output_type": "stream",
     "text": [
      "Training decision tree classifier with max depth of 3 ...\n",
      "\n",
      "Training accuracy 0.610\n"
     ]
    }
   ],
   "source": [
    "depth = 3\n",
    "print(f\"Training decision tree classifier with max depth of {depth} ...\\n\")\n",
    "tree = DecisionTreeClassifier(random_state=16, max_depth=depth)\n",
    "tree.fit(X_train, y_train)\n",
    "print(\"Training accuracy %0.3f\" % (tree.score(X_train, y_train)))"
   ]
  },
  {
   "cell_type": "code",
   "execution_count": 20,
   "id": "electronic-joyce",
   "metadata": {},
   "outputs": [
    {
     "name": "stdout",
     "output_type": "stream",
     "text": [
      "Validation accuracy 0.677\n"
     ]
    }
   ],
   "source": [
    "predicted_y_val = tree.predict(X_val, y_val)\n",
    "print(\"Validation accuracy %0.3f\" % (accuracy_score(y_val, predicted_y_val)))"
   ]
  },
  {
   "cell_type": "code",
   "execution_count": 21,
   "id": "received-supervisor",
   "metadata": {},
   "outputs": [
    {
     "data": {
      "image/svg+xml": [
       "<?xml version=\"1.0\" encoding=\"UTF-8\" standalone=\"no\"?>\r\n",
       "<!DOCTYPE svg PUBLIC \"-//W3C//DTD SVG 1.1//EN\"\r\n",
       " \"http://www.w3.org/Graphics/SVG/1.1/DTD/svg11.dtd\">\r\n",
       "<!-- Generated by graphviz version 2.46.0 (20210118.1747)\r\n",
       " -->\r\n",
       "<!-- Title: Tree Pages: 1 -->\r\n",
       "<svg width=\"1278pt\" height=\"373pt\"\r\n",
       " viewBox=\"0.00 0.00 1278.00 373.00\" xmlns=\"http://www.w3.org/2000/svg\" xmlns:xlink=\"http://www.w3.org/1999/xlink\">\r\n",
       "<g id=\"graph0\" class=\"graph\" transform=\"scale(1 1) rotate(0) translate(4 369)\">\r\n",
       "<title>Tree</title>\r\n",
       "<polygon fill=\"white\" stroke=\"transparent\" points=\"-4,4 -4,-369 1274,-369 1274,4 -4,4\"/>\r\n",
       "<!-- 0 -->\r\n",
       "<g id=\"node1\" class=\"node\">\r\n",
       "<title>0</title>\r\n",
       "<polygon fill=\"none\" stroke=\"black\" points=\"676,-365 508,-365 508,-297 676,-297 676,-365\"/>\r\n",
       "<text text-anchor=\"middle\" x=\"592\" y=\"-349.8\" font-family=\"Times New Roman,serif\" font-size=\"14.00\">avg_sent_length &lt;= 14.619</text>\r\n",
       "<text text-anchor=\"middle\" x=\"592\" y=\"-334.8\" font-family=\"Times New Roman,serif\" font-size=\"14.00\">samples = 277</text>\r\n",
       "<text text-anchor=\"middle\" x=\"592\" y=\"-319.8\" font-family=\"Times New Roman,serif\" font-size=\"14.00\">value = [82, 58, 80, 38, 19]</text>\r\n",
       "<text text-anchor=\"middle\" x=\"592\" y=\"-304.8\" font-family=\"Times New Roman,serif\" font-size=\"14.00\">class = A1</text>\r\n",
       "</g>\r\n",
       "<!-- 1 -->\r\n",
       "<g id=\"node2\" class=\"node\">\r\n",
       "<title>1</title>\r\n",
       "<polygon fill=\"none\" stroke=\"black\" points=\"525,-261 359,-261 359,-193 525,-193 525,-261\"/>\r\n",
       "<text text-anchor=\"middle\" x=\"442\" y=\"-245.8\" font-family=\"Times New Roman,serif\" font-size=\"14.00\">type_token_ratio &lt;= 0.462</text>\r\n",
       "<text text-anchor=\"middle\" x=\"442\" y=\"-230.8\" font-family=\"Times New Roman,serif\" font-size=\"14.00\">samples = 107</text>\r\n",
       "<text text-anchor=\"middle\" x=\"442\" y=\"-215.8\" font-family=\"Times New Roman,serif\" font-size=\"14.00\">value = [67, 33, 4, 2, 1]</text>\r\n",
       "<text text-anchor=\"middle\" x=\"442\" y=\"-200.8\" font-family=\"Times New Roman,serif\" font-size=\"14.00\">class = A1</text>\r\n",
       "</g>\r\n",
       "<!-- 0&#45;&gt;1 -->\r\n",
       "<g id=\"edge1\" class=\"edge\">\r\n",
       "<title>0&#45;&gt;1</title>\r\n",
       "<path fill=\"none\" stroke=\"black\" d=\"M543.3,-296.88C529.21,-287.3 513.71,-276.76 499.15,-266.86\"/>\r\n",
       "<polygon fill=\"black\" stroke=\"black\" points=\"500.95,-263.85 490.71,-261.12 497.01,-269.64 500.95,-263.85\"/>\r\n",
       "<text text-anchor=\"middle\" x=\"495.39\" y=\"-281.98\" font-family=\"Times New Roman,serif\" font-size=\"14.00\">True</text>\r\n",
       "</g>\r\n",
       "<!-- 8 -->\r\n",
       "<g id=\"node9\" class=\"node\">\r\n",
       "<title>8</title>\r\n",
       "<polygon fill=\"none\" stroke=\"black\" points=\"898.5,-261 653.5,-261 653.5,-193 898.5,-193 898.5,-261\"/>\r\n",
       "<text text-anchor=\"middle\" x=\"776\" y=\"-245.8\" font-family=\"Times New Roman,serif\" font-size=\"14.00\">proportion_of_A_level_tokens &lt;= 0.279</text>\r\n",
       "<text text-anchor=\"middle\" x=\"776\" y=\"-230.8\" font-family=\"Times New Roman,serif\" font-size=\"14.00\">samples = 170</text>\r\n",
       "<text text-anchor=\"middle\" x=\"776\" y=\"-215.8\" font-family=\"Times New Roman,serif\" font-size=\"14.00\">value = [15, 25, 76, 36, 18]</text>\r\n",
       "<text text-anchor=\"middle\" x=\"776\" y=\"-200.8\" font-family=\"Times New Roman,serif\" font-size=\"14.00\">class = B</text>\r\n",
       "</g>\r\n",
       "<!-- 0&#45;&gt;8 -->\r\n",
       "<g id=\"edge8\" class=\"edge\">\r\n",
       "<title>0&#45;&gt;8</title>\r\n",
       "<path fill=\"none\" stroke=\"black\" d=\"M651.74,-296.88C669.5,-287.04 689.11,-276.17 707.39,-266.03\"/>\r\n",
       "<polygon fill=\"black\" stroke=\"black\" points=\"709.2,-269.03 716.25,-261.12 705.8,-262.91 709.2,-269.03\"/>\r\n",
       "<text text-anchor=\"middle\" x=\"709.36\" y=\"-281.46\" font-family=\"Times New Roman,serif\" font-size=\"14.00\">False</text>\r\n",
       "</g>\r\n",
       "<!-- 2 -->\r\n",
       "<g id=\"node3\" class=\"node\">\r\n",
       "<title>2</title>\r\n",
       "<polygon fill=\"none\" stroke=\"black\" points=\"312.5,-157 151.5,-157 151.5,-89 312.5,-89 312.5,-157\"/>\r\n",
       "<text text-anchor=\"middle\" x=\"232\" y=\"-141.8\" font-family=\"Times New Roman,serif\" font-size=\"14.00\">avg_sent_length &lt;= 9.734</text>\r\n",
       "<text text-anchor=\"middle\" x=\"232\" y=\"-126.8\" font-family=\"Times New Roman,serif\" font-size=\"14.00\">samples = 74</text>\r\n",
       "<text text-anchor=\"middle\" x=\"232\" y=\"-111.8\" font-family=\"Times New Roman,serif\" font-size=\"14.00\">value = [56, 16, 1, 0, 1]</text>\r\n",
       "<text text-anchor=\"middle\" x=\"232\" y=\"-96.8\" font-family=\"Times New Roman,serif\" font-size=\"14.00\">class = A1</text>\r\n",
       "</g>\r\n",
       "<!-- 1&#45;&gt;2 -->\r\n",
       "<g id=\"edge2\" class=\"edge\">\r\n",
       "<title>1&#45;&gt;2</title>\r\n",
       "<path fill=\"none\" stroke=\"black\" d=\"M373.82,-192.88C353.27,-182.9 330.56,-171.87 309.45,-161.62\"/>\r\n",
       "<polygon fill=\"black\" stroke=\"black\" points=\"310.72,-158.35 300.2,-157.12 307.66,-164.64 310.72,-158.35\"/>\r\n",
       "</g>\r\n",
       "<!-- 5 -->\r\n",
       "<g id=\"node6\" class=\"node\">\r\n",
       "<title>5</title>\r\n",
       "<polygon fill=\"none\" stroke=\"black\" points=\"515.5,-157 368.5,-157 368.5,-89 515.5,-89 515.5,-157\"/>\r\n",
       "<text text-anchor=\"middle\" x=\"442\" y=\"-141.8\" font-family=\"Times New Roman,serif\" font-size=\"14.00\">SCONJ &lt;= 0.012</text>\r\n",
       "<text text-anchor=\"middle\" x=\"442\" y=\"-126.8\" font-family=\"Times New Roman,serif\" font-size=\"14.00\">samples = 33</text>\r\n",
       "<text text-anchor=\"middle\" x=\"442\" y=\"-111.8\" font-family=\"Times New Roman,serif\" font-size=\"14.00\">value = [11, 17, 3, 2, 0]</text>\r\n",
       "<text text-anchor=\"middle\" x=\"442\" y=\"-96.8\" font-family=\"Times New Roman,serif\" font-size=\"14.00\">class = A2</text>\r\n",
       "</g>\r\n",
       "<!-- 1&#45;&gt;5 -->\r\n",
       "<g id=\"edge5\" class=\"edge\">\r\n",
       "<title>1&#45;&gt;5</title>\r\n",
       "<path fill=\"none\" stroke=\"black\" d=\"M442,-192.88C442,-184.78 442,-175.98 442,-167.47\"/>\r\n",
       "<polygon fill=\"black\" stroke=\"black\" points=\"445.5,-167.3 442,-157.3 438.5,-167.3 445.5,-167.3\"/>\r\n",
       "</g>\r\n",
       "<!-- 3 -->\r\n",
       "<g id=\"node4\" class=\"node\">\r\n",
       "<title>3</title>\r\n",
       "<polygon fill=\"none\" stroke=\"black\" points=\"140,-53 0,-53 0,0 140,0 140,-53\"/>\r\n",
       "<text text-anchor=\"middle\" x=\"70\" y=\"-37.8\" font-family=\"Times New Roman,serif\" font-size=\"14.00\">samples = 27</text>\r\n",
       "<text text-anchor=\"middle\" x=\"70\" y=\"-22.8\" font-family=\"Times New Roman,serif\" font-size=\"14.00\">value = [27, 0, 0, 0, 0]</text>\r\n",
       "<text text-anchor=\"middle\" x=\"70\" y=\"-7.8\" font-family=\"Times New Roman,serif\" font-size=\"14.00\">class = A1</text>\r\n",
       "</g>\r\n",
       "<!-- 2&#45;&gt;3 -->\r\n",
       "<g id=\"edge3\" class=\"edge\">\r\n",
       "<title>2&#45;&gt;3</title>\r\n",
       "<path fill=\"none\" stroke=\"black\" d=\"M175.34,-88.95C158.17,-78.93 139.39,-67.98 122.5,-58.13\"/>\r\n",
       "<polygon fill=\"black\" stroke=\"black\" points=\"124.26,-55.1 113.86,-53.09 120.74,-61.15 124.26,-55.1\"/>\r\n",
       "</g>\r\n",
       "<!-- 4 -->\r\n",
       "<g id=\"node5\" class=\"node\">\r\n",
       "<title>4</title>\r\n",
       "<polygon fill=\"none\" stroke=\"black\" points=\"305.5,-53 158.5,-53 158.5,0 305.5,0 305.5,-53\"/>\r\n",
       "<text text-anchor=\"middle\" x=\"232\" y=\"-37.8\" font-family=\"Times New Roman,serif\" font-size=\"14.00\">samples = 47</text>\r\n",
       "<text text-anchor=\"middle\" x=\"232\" y=\"-22.8\" font-family=\"Times New Roman,serif\" font-size=\"14.00\">value = [29, 16, 1, 0, 1]</text>\r\n",
       "<text text-anchor=\"middle\" x=\"232\" y=\"-7.8\" font-family=\"Times New Roman,serif\" font-size=\"14.00\">class = A1</text>\r\n",
       "</g>\r\n",
       "<!-- 2&#45;&gt;4 -->\r\n",
       "<g id=\"edge4\" class=\"edge\">\r\n",
       "<title>2&#45;&gt;4</title>\r\n",
       "<path fill=\"none\" stroke=\"black\" d=\"M232,-88.95C232,-80.72 232,-71.85 232,-63.48\"/>\r\n",
       "<polygon fill=\"black\" stroke=\"black\" points=\"235.5,-63.24 232,-53.24 228.5,-63.24 235.5,-63.24\"/>\r\n",
       "</g>\r\n",
       "<!-- 6 -->\r\n",
       "<g id=\"node7\" class=\"node\">\r\n",
       "<title>6</title>\r\n",
       "<polygon fill=\"none\" stroke=\"black\" points=\"458,-53 324,-53 324,0 458,0 458,-53\"/>\r\n",
       "<text text-anchor=\"middle\" x=\"391\" y=\"-37.8\" font-family=\"Times New Roman,serif\" font-size=\"14.00\">samples = 6</text>\r\n",
       "<text text-anchor=\"middle\" x=\"391\" y=\"-22.8\" font-family=\"Times New Roman,serif\" font-size=\"14.00\">value = [5, 1, 0, 0, 0]</text>\r\n",
       "<text text-anchor=\"middle\" x=\"391\" y=\"-7.8\" font-family=\"Times New Roman,serif\" font-size=\"14.00\">class = A1</text>\r\n",
       "</g>\r\n",
       "<!-- 5&#45;&gt;6 -->\r\n",
       "<g id=\"edge6\" class=\"edge\">\r\n",
       "<title>5&#45;&gt;6</title>\r\n",
       "<path fill=\"none\" stroke=\"black\" d=\"M424.16,-88.95C419.47,-80.26 414.4,-70.86 409.67,-62.09\"/>\r\n",
       "<polygon fill=\"black\" stroke=\"black\" points=\"412.72,-60.37 404.89,-53.24 406.56,-63.7 412.72,-60.37\"/>\r\n",
       "</g>\r\n",
       "<!-- 7 -->\r\n",
       "<g id=\"node8\" class=\"node\">\r\n",
       "<title>7</title>\r\n",
       "<polygon fill=\"none\" stroke=\"black\" points=\"616,-53 476,-53 476,0 616,0 616,-53\"/>\r\n",
       "<text text-anchor=\"middle\" x=\"546\" y=\"-37.8\" font-family=\"Times New Roman,serif\" font-size=\"14.00\">samples = 27</text>\r\n",
       "<text text-anchor=\"middle\" x=\"546\" y=\"-22.8\" font-family=\"Times New Roman,serif\" font-size=\"14.00\">value = [6, 16, 3, 2, 0]</text>\r\n",
       "<text text-anchor=\"middle\" x=\"546\" y=\"-7.8\" font-family=\"Times New Roman,serif\" font-size=\"14.00\">class = A2</text>\r\n",
       "</g>\r\n",
       "<!-- 5&#45;&gt;7 -->\r\n",
       "<g id=\"edge7\" class=\"edge\">\r\n",
       "<title>5&#45;&gt;7</title>\r\n",
       "<path fill=\"none\" stroke=\"black\" d=\"M478.37,-88.95C488.64,-79.62 499.81,-69.47 510.05,-60.16\"/>\r\n",
       "<polygon fill=\"black\" stroke=\"black\" points=\"512.63,-62.55 517.68,-53.24 507.92,-57.37 512.63,-62.55\"/>\r\n",
       "</g>\r\n",
       "<!-- 9 -->\r\n",
       "<g id=\"node10\" class=\"node\">\r\n",
       "<title>9</title>\r\n",
       "<polygon fill=\"none\" stroke=\"black\" points=\"846,-157 706,-157 706,-89 846,-89 846,-157\"/>\r\n",
       "<text text-anchor=\"middle\" x=\"776\" y=\"-141.8\" font-family=\"Times New Roman,serif\" font-size=\"14.00\">SPACE &lt;= 0.02</text>\r\n",
       "<text text-anchor=\"middle\" x=\"776\" y=\"-126.8\" font-family=\"Times New Roman,serif\" font-size=\"14.00\">samples = 59</text>\r\n",
       "<text text-anchor=\"middle\" x=\"776\" y=\"-111.8\" font-family=\"Times New Roman,serif\" font-size=\"14.00\">value = [1, 1, 48, 8, 1]</text>\r\n",
       "<text text-anchor=\"middle\" x=\"776\" y=\"-96.8\" font-family=\"Times New Roman,serif\" font-size=\"14.00\">class = B</text>\r\n",
       "</g>\r\n",
       "<!-- 8&#45;&gt;9 -->\r\n",
       "<g id=\"edge9\" class=\"edge\">\r\n",
       "<title>8&#45;&gt;9</title>\r\n",
       "<path fill=\"none\" stroke=\"black\" d=\"M776,-192.88C776,-184.78 776,-175.98 776,-167.47\"/>\r\n",
       "<polygon fill=\"black\" stroke=\"black\" points=\"779.5,-167.3 776,-157.3 772.5,-167.3 779.5,-167.3\"/>\r\n",
       "</g>\r\n",
       "<!-- 12 -->\r\n",
       "<g id=\"node13\" class=\"node\">\r\n",
       "<title>12</title>\r\n",
       "<polygon fill=\"none\" stroke=\"black\" points=\"1104.5,-157 937.5,-157 937.5,-89 1104.5,-89 1104.5,-157\"/>\r\n",
       "<text text-anchor=\"middle\" x=\"1021\" y=\"-141.8\" font-family=\"Times New Roman,serif\" font-size=\"14.00\">num_connectives &lt;= 6.5</text>\r\n",
       "<text text-anchor=\"middle\" x=\"1021\" y=\"-126.8\" font-family=\"Times New Roman,serif\" font-size=\"14.00\">samples = 111</text>\r\n",
       "<text text-anchor=\"middle\" x=\"1021\" y=\"-111.8\" font-family=\"Times New Roman,serif\" font-size=\"14.00\">value = [14, 24, 28, 28, 17]</text>\r\n",
       "<text text-anchor=\"middle\" x=\"1021\" y=\"-96.8\" font-family=\"Times New Roman,serif\" font-size=\"14.00\">class = B</text>\r\n",
       "</g>\r\n",
       "<!-- 8&#45;&gt;12 -->\r\n",
       "<g id=\"edge12\" class=\"edge\">\r\n",
       "<title>8&#45;&gt;12</title>\r\n",
       "<path fill=\"none\" stroke=\"black\" d=\"M855.54,-192.88C879.95,-182.72 906.96,-171.48 931.96,-161.07\"/>\r\n",
       "<polygon fill=\"black\" stroke=\"black\" points=\"933.55,-164.2 941.44,-157.12 930.86,-157.74 933.55,-164.2\"/>\r\n",
       "</g>\r\n",
       "<!-- 10 -->\r\n",
       "<g id=\"node11\" class=\"node\">\r\n",
       "<title>10</title>\r\n",
       "<polygon fill=\"none\" stroke=\"black\" points=\"774,-53 634,-53 634,0 774,0 774,-53\"/>\r\n",
       "<text text-anchor=\"middle\" x=\"704\" y=\"-37.8\" font-family=\"Times New Roman,serif\" font-size=\"14.00\">samples = 56</text>\r\n",
       "<text text-anchor=\"middle\" x=\"704\" y=\"-22.8\" font-family=\"Times New Roman,serif\" font-size=\"14.00\">value = [1, 1, 48, 6, 0]</text>\r\n",
       "<text text-anchor=\"middle\" x=\"704\" y=\"-7.8\" font-family=\"Times New Roman,serif\" font-size=\"14.00\">class = B</text>\r\n",
       "</g>\r\n",
       "<!-- 9&#45;&gt;10 -->\r\n",
       "<g id=\"edge10\" class=\"edge\">\r\n",
       "<title>9&#45;&gt;10</title>\r\n",
       "<path fill=\"none\" stroke=\"black\" d=\"M750.82,-88.95C743.99,-79.98 736.58,-70.27 729.72,-61.26\"/>\r\n",
       "<polygon fill=\"black\" stroke=\"black\" points=\"732.45,-59.07 723.61,-53.24 726.89,-63.31 732.45,-59.07\"/>\r\n",
       "</g>\r\n",
       "<!-- 11 -->\r\n",
       "<g id=\"node12\" class=\"node\">\r\n",
       "<title>11</title>\r\n",
       "<polygon fill=\"none\" stroke=\"black\" points=\"926,-53 792,-53 792,0 926,0 926,-53\"/>\r\n",
       "<text text-anchor=\"middle\" x=\"859\" y=\"-37.8\" font-family=\"Times New Roman,serif\" font-size=\"14.00\">samples = 3</text>\r\n",
       "<text text-anchor=\"middle\" x=\"859\" y=\"-22.8\" font-family=\"Times New Roman,serif\" font-size=\"14.00\">value = [0, 0, 0, 2, 1]</text>\r\n",
       "<text text-anchor=\"middle\" x=\"859\" y=\"-7.8\" font-family=\"Times New Roman,serif\" font-size=\"14.00\">class = B1</text>\r\n",
       "</g>\r\n",
       "<!-- 9&#45;&gt;11 -->\r\n",
       "<g id=\"edge11\" class=\"edge\">\r\n",
       "<title>9&#45;&gt;11</title>\r\n",
       "<path fill=\"none\" stroke=\"black\" d=\"M805.03,-88.95C812.98,-79.89 821.61,-70.07 829.59,-60.99\"/>\r\n",
       "<polygon fill=\"black\" stroke=\"black\" points=\"832.43,-63.06 836.4,-53.24 827.17,-58.44 832.43,-63.06\"/>\r\n",
       "</g>\r\n",
       "<!-- 13 -->\r\n",
       "<g id=\"node14\" class=\"node\">\r\n",
       "<title>13</title>\r\n",
       "<polygon fill=\"none\" stroke=\"black\" points=\"1098,-53 944,-53 944,0 1098,0 1098,-53\"/>\r\n",
       "<text text-anchor=\"middle\" x=\"1021\" y=\"-37.8\" font-family=\"Times New Roman,serif\" font-size=\"14.00\">samples = 59</text>\r\n",
       "<text text-anchor=\"middle\" x=\"1021\" y=\"-22.8\" font-family=\"Times New Roman,serif\" font-size=\"14.00\">value = [12, 6, 24, 12, 5]</text>\r\n",
       "<text text-anchor=\"middle\" x=\"1021\" y=\"-7.8\" font-family=\"Times New Roman,serif\" font-size=\"14.00\">class = B</text>\r\n",
       "</g>\r\n",
       "<!-- 12&#45;&gt;13 -->\r\n",
       "<g id=\"edge13\" class=\"edge\">\r\n",
       "<title>12&#45;&gt;13</title>\r\n",
       "<path fill=\"none\" stroke=\"black\" d=\"M1021,-88.95C1021,-80.72 1021,-71.85 1021,-63.48\"/>\r\n",
       "<polygon fill=\"black\" stroke=\"black\" points=\"1024.5,-63.24 1021,-53.24 1017.5,-63.24 1024.5,-63.24\"/>\r\n",
       "</g>\r\n",
       "<!-- 14 -->\r\n",
       "<g id=\"node15\" class=\"node\">\r\n",
       "<title>14</title>\r\n",
       "<polygon fill=\"none\" stroke=\"black\" points=\"1270,-53 1116,-53 1116,0 1270,0 1270,-53\"/>\r\n",
       "<text text-anchor=\"middle\" x=\"1193\" y=\"-37.8\" font-family=\"Times New Roman,serif\" font-size=\"14.00\">samples = 52</text>\r\n",
       "<text text-anchor=\"middle\" x=\"1193\" y=\"-22.8\" font-family=\"Times New Roman,serif\" font-size=\"14.00\">value = [2, 18, 4, 16, 12]</text>\r\n",
       "<text text-anchor=\"middle\" x=\"1193\" y=\"-7.8\" font-family=\"Times New Roman,serif\" font-size=\"14.00\">class = A2</text>\r\n",
       "</g>\r\n",
       "<!-- 12&#45;&gt;14 -->\r\n",
       "<g id=\"edge14\" class=\"edge\">\r\n",
       "<title>12&#45;&gt;14</title>\r\n",
       "<path fill=\"none\" stroke=\"black\" d=\"M1081.16,-88.95C1099.39,-78.93 1119.33,-67.98 1137.26,-58.13\"/>\r\n",
       "<polygon fill=\"black\" stroke=\"black\" points=\"1139.35,-60.97 1146.43,-53.09 1135.98,-54.83 1139.35,-60.97\"/>\r\n",
       "</g>\r\n",
       "</g>\r\n",
       "</svg>\r\n"
      ],
      "text/plain": [
       "<graphviz.files.Source at 0x1a6f231c5b0>"
      ]
     },
     "execution_count": 21,
     "metadata": {},
     "output_type": "execute_result"
    }
   ],
   "source": [
    "display_tree(X_train.columns, tree, save=True)"
   ]
  },
  {
   "cell_type": "markdown",
   "id": "accessory-moscow",
   "metadata": {},
   "source": [
    "#### Let's try some more advanced tree models too"
   ]
  },
  {
   "cell_type": "code",
   "execution_count": 22,
   "id": "embedded-dispatch",
   "metadata": {},
   "outputs": [],
   "source": [
    "from catboost import CatBoostClassifier\n",
    "from lightgbm.sklearn import LGBMClassifier\n",
    "from sklearn.ensemble import RandomForestClassifier\n",
    "from xgboost import XGBClassifier"
   ]
  },
  {
   "cell_type": "code",
   "execution_count": 23,
   "id": "welsh-quebec",
   "metadata": {},
   "outputs": [
    {
     "name": "stdout",
     "output_type": "stream",
     "text": [
      "random forest\n",
      "Training accuracy 1.000\n",
      "Validation accuracy 0.774\n",
      "\n",
      "[18:53:14] WARNING: C:/Users/Administrator/workspace/xgboost-win64_release_1.4.0/src/learner.cc:1095: Starting in XGBoost 1.3.0, the default evaluation metric used with the objective 'multi:softprob' was changed from 'merror' to 'mlogloss'. Explicitly set eval_metric if you'd like to restore the old behavior.\n"
     ]
    },
    {
     "name": "stderr",
     "output_type": "stream",
     "text": [
      "C:\\Users\\rsss9\\miniconda3\\lib\\site-packages\\xgboost\\sklearn.py:1146: UserWarning: The use of label encoder in XGBClassifier is deprecated and will be removed in a future release. To remove this warning, do the following: 1) Pass option use_label_encoder=False when constructing XGBClassifier object; and 2) Encode your labels (y) as integers starting with 0, i.e. 0, 1, 2, ..., [num_class - 1].\n",
      "  warnings.warn(label_encoder_deprecation_msg, UserWarning)\n"
     ]
    },
    {
     "name": "stdout",
     "output_type": "stream",
     "text": [
      "XGBoost\n",
      "Training accuracy 1.000\n",
      "Validation accuracy 0.742\n",
      "\n",
      "LightGBM\n",
      "Training accuracy 1.000\n",
      "Validation accuracy 0.677\n",
      "\n",
      "CatBoost\n",
      "Training accuracy 1.000\n",
      "Validation accuracy 0.742\n",
      "\n"
     ]
    }
   ],
   "source": [
    "classifiers = {\n",
    "    \"random forest\": RandomForestClassifier(random_state=123),\n",
    "    \"XGBoost\": XGBClassifier(random_state=123),\n",
    "    \"LightGBM\": LGBMClassifier(random_state=123),\n",
    "    \"CatBoost\": CatBoostClassifier(verbose=0, random_state=123),\n",
    "}\n",
    "\n",
    "for (name, model) in classifiers.items():\n",
    "    model.fit(X_train, y_train)\n",
    "    print(name)\n",
    "    print(\"Training accuracy %0.3f\" % (model.score(X_train, y_train)))\n",
    "    predicted_y_val = model.predict(X_val)\n",
    "    print(\"Validation accuracy %0.3f\" % (accuracy_score(y_val, predicted_y_val)))\n",
    "    print()"
   ]
  }
 ],
 "metadata": {
  "kernelspec": {
   "display_name": "Python 3",
   "language": "python",
   "name": "python3"
  },
  "language_info": {
   "codemirror_mode": {
    "name": "ipython",
    "version": 3
   },
   "file_extension": ".py",
   "mimetype": "text/x-python",
   "name": "python",
   "nbconvert_exporter": "python",
   "pygments_lexer": "ipython3",
   "version": "3.8.3"
  }
 },
 "nbformat": 4,
 "nbformat_minor": 5
}
