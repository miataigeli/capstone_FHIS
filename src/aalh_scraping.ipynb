{
 "cells": [
  {
   "cell_type": "code",
   "execution_count": 1,
   "id": "47d15a14",
   "metadata": {},
   "outputs": [],
   "source": [
    "from bs4 import BeautifulSoup, NavigableString\n",
    "from urllib.request import urlopen\n",
    "import re\n",
    "import time\n",
    "import json"
   ]
  },
  {
   "cell_type": "code",
   "execution_count": 2,
   "id": "1645a477",
   "metadata": {},
   "outputs": [],
   "source": [
    "soup_url = 'https://press.rebus.community/aalh/'"
   ]
  },
  {
   "cell_type": "code",
   "execution_count": 3,
   "id": "6bf8b958",
   "metadata": {},
   "outputs": [],
   "source": [
    "def get_text_links(soup):\n",
    "    '''\n",
    "    get a list of urls that lead to the texts\n",
    "    \n",
    "    soup: (BeautifulSoup) an html parsed bs object\n",
    "    \n",
    "    return: (list) a list of urls\n",
    "    '''\n",
    "    tag_list = soup.findAll(\"li\", {\"id\" : re.compile(r'toc-chapter-.*')})\n",
    "    url_list = []\n",
    "    is_text = False\n",
    "    for tag in tag_list:\n",
    "        if tag.find('a').contents[0] == 'Introducción':\n",
    "            is_text = True\n",
    "            continue\n",
    "        elif is_text == True:\n",
    "            url_list.append(tag.find('a').attrs['href'])\n",
    "            is_text = False\n",
    "            \n",
    "    return url_list"
   ]
  },
  {
   "cell_type": "code",
   "execution_count": 4,
   "id": "8e650c57",
   "metadata": {},
   "outputs": [
    {
     "name": "stdout",
     "output_type": "stream",
     "text": [
      "['https://press.rebus.community/aalh/chapter/lo-que-sucedio-a-un-mancebo-el-dia-que-se-caso/', 'https://press.rebus.community/aalh/chapter/carta-a-luis-de-santangel/', 'https://press.rebus.community/aalh/chapter/tercera-carta-relacion-de-hernan-cortes-al-emperador/', 'https://press.rebus.community/aalh/chapter/romance-del-enamorado-y-la-muerte/', 'https://press.rebus.community/aalh/chapter/la-vida-de-lazarillo-de-tormes-y-de-sus-fortunas-y-adversidades/', 'https://press.rebus.community/aalh/chapter/historia-de-la-monja-alferez/', 'https://press.rebus.community/aalh/chapter/a-su-retrato/', 'https://press.rebus.community/aalh/chapter/viaje-a-la-habana-carta-1/', 'https://press.rebus.community/aalh/chapter/la-flor-de-la-cana/', 'https://press.rebus.community/aalh/chapter/al-partir/', 'https://press.rebus.community/aalh/chapter/emancipacion-moral-de-la-mujer/', 'https://press.rebus.community/aalh/chapter/la-rosa-de-pasion/', 'https://press.rebus.community/aalh/chapter/las-medias-rojas/', 'https://press.rebus.community/aalh/chapter/we-are-working-on-this-one/', 'https://press.rebus.community/aalh/chapter/las-obreras-del-pensamiento-en-la-america-del-sur/', 'https://press.rebus.community/aalh/chapter/a-roosevelt/', 'https://press.rebus.community/aalh/chapter/el-obstaculo/', 'https://press.rebus.community/aalh/chapter/el-hijo/', 'https://press.rebus.community/aalh/chapter/historia-de-la-senorita-grano-de-polvo-bailarina-del-sol/', 'https://press.rebus.community/aalh/chapter/peso-ancestral/', 'https://press.rebus.community/aalh/chapter/la-isla-desierta/']\n"
     ]
    }
   ],
   "source": [
    "soup = BeautifulSoup(urlopen(soup_url), 'html.parser')\n",
    "url_list = get_text_links(soup)\n",
    "\n",
    "print(url_list)"
   ]
  },
  {
   "cell_type": "code",
   "execution_count": 5,
   "id": "ef94926f",
   "metadata": {},
   "outputs": [],
   "source": [
    "def get_text(url):\n",
    "    '''\n",
    "    get a dictionary of the content and metadata of a text scraped from the url given\n",
    "    \n",
    "    url: (str) an url lead to a text\n",
    "    \n",
    "    return: (dict) a dictionary with 3 keys: 'author', 'title', and 'content'\n",
    "    '''\n",
    "    soup = BeautifulSoup(urlopen(url), 'html.parser')\n",
    "    text_dict = {}\n",
    "    \n",
    "    text_dict['source'] = url\n",
    "    text_dict['level'] = 'B'\n",
    "    text_dict['title'] = soup.find('h1', {'class':'entry-title'}).contents[0].strip()\n",
    "    for child in soup.find('h2').contents:\n",
    "        if isinstance(child, NavigableString):\n",
    "            text_dict['author'] = child.strip()\n",
    "            break\n",
    "    \n",
    "    content_section = soup.find('section', {'data-type':'chapter'}).findAll('p')\n",
    "    content = ''\n",
    "    for tag in content_section:\n",
    "        paragraph = []\n",
    "        for child in tag.contents:\n",
    "            if isinstance(child, NavigableString):\n",
    "                paragraph.append(child)\n",
    "        content += ''.join(paragraph) + '\\n\\n'\n",
    "    \n",
    "    text_dict['content'] = content.split('Preguntas de discusión')[0].strip()\n",
    "    return text_dict"
   ]
  },
  {
   "cell_type": "code",
   "execution_count": 6,
   "id": "99295caf",
   "metadata": {},
   "outputs": [],
   "source": [
    "aalh_corpus = []\n",
    "for url in url_list:\n",
    "    aalh_corpus.append(get_text(url))\n",
    "    time.sleep(1)"
   ]
  },
  {
   "cell_type": "code",
   "execution_count": 7,
   "id": "221dac29",
   "metadata": {
    "scrolled": true
   },
   "outputs": [
    {
     "data": {
      "text/plain": [
       "{'source': 'https://press.rebus.community/aalh/chapter/lo-que-sucedio-a-un-mancebo-el-dia-que-se-caso/',\n",
       " 'level': 'B',\n",
       " 'title': 'Lo que sucedió a un mancebo el día que se casó',\n",
       " 'author': 'Don Juan Manuel',\n",
       " 'content': 'Un día hablaba el Conde Lucanor con Patronio, su consejero, y le decía:\\n\\n—Patronio, un pariente mío me ha dicho que lo quieren casar con una mujer muy rica, y aunque es más honrada que él, el casamiento sería muy bueno para él si no fuera por un embargo que ahí hay, y el embargo es éste: \\xa0Me dijo que le dijeron otros que aquella mujer era la más fuerte y la más brava cosa del mundo, y ahora ruego a vos que me aconsejéis si le mande que case con aquella mujer—pues sabe de cual manera es—, o si le mande que lo no haga.\\n\\n—Señor conde Lucanor —dijo Patronio— si él fuera tal como fue un hijo de un hombre bueno que era moro, aconsejadle que case con ella; más si no fuere tal, no se lo aconseja. Y el conde le rogó que le dijera cómo era aquello.\\n\\nPatronio le dijo que en una villa vivía un moro honrado que vivía con un hijo, el mejor mancebo que en el mundo podría ser, pero no era tan rico que pudiese cumplir varios proyectos que quería hacer. \\xa0Por eso el moro estaba muy preocupado, porque tenía la voluntad y no tenía el poder.\\n\\nEn aquella misma villa vivió otro moro mucho más honrado y más rico que el padre del mancebo, que sólo tenía una hija, y era de carácter muy distinto al de aquel mancebo, que cuanto en él había de buenas maneras, tanto lo tenía aquella hija del hombre bueno de malas, por lo cual ningún hombre en el mundo querría casarse con aquel diablo.\\n\\nAquel mancebo tan bueno fue un día a su padre y le dijo que bien sabía él que no era tan rico que pudiese darle con que él pudiese vivir a su honra, y que pues le convenía o pasar miseria y pobreza o irse de aquella tierra. Por lo tanto, le preguntaba si a él le parecía que era más inteligente buscar algún casamiento con el que pudiese mantenerse y pasar la vida. El padre le dijo que le placería mucho poder hallarle un matrimonio ventajoso.\\n\\nLe dijo el hijo a su padre que, si él quería, podía arreglar que aquel hombre bueno, que tenía aquella hija tan mala, se la diese por esposa. Y cuando el padre oyó esto fue muy maravillado y le dijo que cómo podía pensar en tal cosa, que no había hombre que la conociese que, por pobre que fuera, quisiera casarse con ella. El hijo le dijo que hiciese el favor de concertar aquel matrimonio. Tanto le insistió que, aunque al padre le pareció algo muy extraño, le dijo que lo haría.\\n\\nMarchó luego a casa de aquel buen hombre, del que era muy amigo, y le contó todo lo que había pasado con su hijo, que se atrevía a casarse con su hija, que le gustaba, y que se la diera en matrimonio. Cuando el buen hombre oyó hablar así a su amigo, le contestó:\\n\\n—Por Dios, amigo, si yo autorizara esa boda sería vuestro peor amigo, pues tratándose de vuestro hijo, que es muy bueno, yo pensaría que le hacía grave daño al consentir su perjuicio o su muerte, porque estoy seguro de que, si se casa con mi hija, morirá, o su vida con ella será peor que la misma muerte. Mas no penséis que os digo esto por no aceptar vuestra petición, pues, si la queréis como esposa de vuestro hijo, a mí mucho me contentará entregarla a él o a cualquiera que se la lleve de esta casa.\\n\\nSu amigo le respondió que le agradecería mucho su advertencia, pero, como su hijo insistía en casarse con ella, le volvía a pedir su consentimiento.\\n\\nEl casamiento fue hecho, llevaron a la novia a casa de su marido y, como eran moros, siguiendo sus costumbres les prepararon la cena, les pusieron la mesa y los dejaron solos hasta la mañana siguiente. Pero los padres y las madres y parientes del novio y de la novia estaban con mucho miedo, pues pensaban que al día siguiente encontrarían al joven muerto o muy mal herido.\\n\\nAl quedarse los novios solos en su casa, se sentaron a la mesa y, antes de que ella pudiese decir nada, miró el novio a una y otra parte de la mesa y, al ver un perro, le dijo ya bastante airado:\\n\\n—¡Perro, danos agua para las manos!\\n\\nEl perro no lo hizo. El mancebo comenzó a enfadarse y le dijo más bravamente que les trajese agua para las manos. Pero el perro no lo hizo. Viendo que el perro no lo hacía, el joven se levantó muy enfadado de la mesa y agarró la espada y fue directo hacia el perro. Y cuando el perro lo vio venir hacia sí, comenzó a huir, y él en pos del perro, saltando ambos por la ropa y por la mesa, y por el fuego, y tanto anduvo en pos de él hasta alcanzarlo. Lo sujetó y le cortó la cabeza, las patas y las manos, haciéndolo pedazos y ensangrentando toda la casa, la ropa y la mesa.\\n\\nDespués, muy enojado y ensangrentado, volvió a sentarse a la mesa y miró en derredor. Vio un gato, al que mandó que trajese agua para las manos; y porque el gato no lo hacía, le gritó:\\n\\n—¡Cómo, falso traidor! ¿No viste lo que hice con el perro por no obedecerme? Yo prometo que, si un punto más disputas conmigo, que tendrás el mismo destino que el perro.\\n\\nEl gato no lo hizo y así se levantó el mancebo, lo cogió por las patas y lo estrelló contra la pared, haciendo de él más de cien pedazos y demostrando con él mayor ensañamiento que con el perro.\\n\\nAsí, enfadado y colérico, volvió a la mesa y miró a todas partes. La mujer, al verlo hacer todo esto, pensó que se había vuelto loco y no decía nada.\\n\\nDespués de mirar por todas partes, vio a su caballo, que estaba en la casa y, aunque era el único que tenía, le dijo muy bravamente que les trajese agua para las manos; pero el caballo no le hizo. Al ver que no lo hacía, le dijo:\\n\\n—¡Cómo, don caballo! Solamente porque no hay otro caballo, ¿por eso os dejaré si no hacéis lo que yo os mande?…tan mala muerte os daré como a los otros, y no hay cosa viva en el mundo que no haga lo que yo mande, que eso mismo no le haré.\\n\\nEl caballo estuvo quieto. Cuando el mancebo vio que el caballo no le obedecía, se acercó a él, le cortó la cabeza con mucha rabia y luego lo hizo pedazos.\\n\\nCuando la mujer vio que mataba al caballo, aunque no tenía otro, y que decía que haría lo mismo con quien no le obedeciese, pensó que no se trataba de una broma y le entró tantísimo miedo que no sabía si estaba viva o muerta.\\n\\nÉl, así—bravo, furioso y ensangrentado—, volvió a la mesa, jurando que, si mil caballos, hombres o mujeres hubiera en su casa que no le hicieran caso, los mataría a todos. Se sentó y miró a un lado y a otro, con la espada llena de sangre en el regazo; cuando hubo mirado muy bien, al no ver a ningún ser vivo sino a su mujer, volvió la mirada hacia ella muy bravamente y le dijo con muchísima furia, mostrándole la espada en su mano:\\n\\n—Levantados y dadme agua para las manos.\\n\\nLa mujer, que no esperaba otra cosa sino que la despedazara toda, se levantó muy apriesa y le dio el agua para las manos. Él le dijo:\\n\\n—¡Ah! ¡Cuánto agradezco a Dios porque habéis hecho lo que os mandé! Porque de otra guisa, habría hecho con vos lo mismo que con ellos.\\n\\nDespués le mandó que le sirviese la comida y ella lo hizo, y con tal son se lo decía que ella ya pensaba que su cabeza era ida por el polvo. Y así pasó el hecho entre ellos aquella noche.\\n\\nAsí ocurrió entre los dos aquella noche, y nunca hablaba ella sino que se limitaba a obedecer a su marido. Cuando ya habían dormido un rato, le dijo él:\\n\\n—Con tanta ira como tuve esta noche, no puedo dormir bien. Procurad que mañana no me despierte nadie y preparadme un buen desayuno.\\n\\nCuando aún era muy temprano, los padres, madres y parientes se acercaron a la puerta y, como no se oía a nadie, pensaron que el novio estaba muerto o herido. Y vieron entre las puertas a la novia y no al novio, y \\xa0su temor se hizo muy grande.\\n\\nElla, al verlos junto a la puerta, se les acercó muy despacio y, con gran miedo, comenzó a decirles:\\n\\n—¡Ingratos! ¡Qué hacéis! ¿Qué hacéis ahí? ¿Cómo os atrevéis a llegar a esta puerta? ¿No os da miedo hablar? ¡Callaos, si no, todos moriremos, vosotros y yo!\\n\\nAl oírla decir esto, fueron muy maravillados. Cuando supieron lo ocurrido entre ellos aquella noche, sintieron gran estima por el mancebo porque sabía imponer su autoridad y hacerse él con el gobierno de su casa. Desde aquel día en adelante, fue su mujer muy obediente y llevaron muy buena vida.\\n\\nPasados unos días, quiso su suegro hacer lo mismo que su yerno, y por aquella manera mató un gallo. Su mujer le dijo:\\n\\n—A la fe, don Fulano, tarde vos acordáis que ya bien nos conocemos.\\n\\nY concluyó Patronio:\\n\\n—Vos, señor conde, si vuestro pariente quiere casarse con esa mujer y tiene el carácter de aquel mancebo, aconsejadle que lo haga, pues sabrá mandar en su casa; pero si no es así y no puede hacer todo lo necesario, debe dejar pasar esa oportunidad. También os aconsejo a vos que, cuando habéis de tratar con los demás hombres, les deis a entender desde el principio cómo han de portarse con vos.\\n\\nEl conde vio que éste era un buen consejo, obró según él y le fue muy bien.\\n\\nComo don Juan comprobó que el cuento era bueno, lo mandó escribir en este libro e hizo estos versos que dicen así:'}"
      ]
     },
     "execution_count": 7,
     "metadata": {},
     "output_type": "execute_result"
    }
   ],
   "source": [
    "aalh_corpus[0]"
   ]
  },
  {
   "cell_type": "code",
   "execution_count": 8,
   "id": "4ef6999a",
   "metadata": {},
   "outputs": [
    {
     "data": {
      "text/plain": [
       "21"
      ]
     },
     "execution_count": 8,
     "metadata": {},
     "output_type": "execute_result"
    }
   ],
   "source": [
    "len(aalh_corpus)"
   ]
  },
  {
   "cell_type": "code",
   "execution_count": 9,
   "id": "ca98bafb",
   "metadata": {},
   "outputs": [
    {
     "name": "stdout",
     "output_type": "stream",
     "text": [
      "num of tokens (approx.) 34383\n",
      "num of types (approx.) 10617\n"
     ]
    }
   ],
   "source": [
    "all_text = ''\n",
    "for text in aalh_corpus:\n",
    "    all_text += text['content'] + ' '\n",
    "all_toks = all_text.split(' ')\n",
    "print('num of tokens (approx.)',len(all_toks))\n",
    "print('num of types (approx.)',len(set(all_toks)))"
   ]
  },
  {
   "cell_type": "code",
   "execution_count": 13,
   "id": "4773784d",
   "metadata": {},
   "outputs": [],
   "source": [
    "# write to file\n",
    "with open('/Users/miali/mds/capstone/capstone_FHIS/corpus/aalh.json', 'w') as fout:\n",
    "    json.dump(aalh_corpus , fout)"
   ]
  },
  {
   "cell_type": "code",
   "execution_count": null,
   "id": "8a6521e3",
   "metadata": {},
   "outputs": [],
   "source": []
  }
 ],
 "metadata": {
  "kernelspec": {
   "display_name": "nlp",
   "language": "python",
   "name": "nlp"
  },
  "language_info": {
   "codemirror_mode": {
    "name": "ipython",
    "version": 3
   },
   "file_extension": ".py",
   "mimetype": "text/x-python",
   "name": "python",
   "nbconvert_exporter": "python",
   "pygments_lexer": "ipython3",
   "version": "3.9.2"
  }
 },
 "nbformat": 4,
 "nbformat_minor": 5
}
