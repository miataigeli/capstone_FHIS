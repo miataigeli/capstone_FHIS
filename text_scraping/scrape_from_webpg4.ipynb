{
 "cells": [
  {
   "cell_type": "code",
   "execution_count": 1,
   "id": "illegal-mississippi",
   "metadata": {},
   "outputs": [],
   "source": [
    "#!pip install langid\n",
    "from bs4 import BeautifulSoup\n",
    "from urllib.request import urlopen\n",
    "import langid"
   ]
  },
  {
   "cell_type": "code",
   "execution_count": 2,
   "id": "parental-shakespeare",
   "metadata": {},
   "outputs": [],
   "source": [
    "###################################### Spanish Poems ###################################\n",
    "#### stories stored as string in str_poem_list \n",
    "\n",
    "\n",
    "wb_address = 'https://www.gutenberg.org/files/16059/16059-h/16059-h.htm'\n",
    "f = urlopen(wb_address)\n",
    "html_soup = BeautifulSoup(f, 'lxml')\n",
    "story_list = []\n",
    "i = 0\n",
    "for node in html_soup.find_all('div'):\n",
    "    if node['class'] == ['poem']:\n",
    "        i+= 1\n",
    "        if langid.classify(node.get_text())[0] == 'es':\n",
    "            story_list.append(node.get_text())\n",
    "            \n",
    "str_poem_list = []\n",
    "for i in range(67, len(story_list)):\n",
    "    str_poem_list.append(story_list[i])"
   ]
  },
  {
   "cell_type": "code",
   "execution_count": 3,
   "id": "continental-procurement",
   "metadata": {},
   "outputs": [
    {
     "data": {
      "text/plain": [
       "89"
      ]
     },
     "execution_count": 3,
     "metadata": {},
     "output_type": "execute_result"
    }
   ],
   "source": [
    "len(str_poem_list)"
   ]
  },
  {
   "cell_type": "code",
   "execution_count": 5,
   "id": "parallel-insulation",
   "metadata": {},
   "outputs": [
    {
     "name": "stdout",
     "output_type": "stream",
     "text": [
      " \n",
      "ABENÁMAR\n",
      "Abenámar, Abenámar,\n",
      "moro de la morería,\n",
      "el día que tú naciste\n",
      "grandes señales había!5\n",
      "Estaba la mar en calma,\n",
      "la luna estaba crecida:\n",
      "moro que en tal signo nace,\n",
      "no debe decir mentira.—\n",
      "Allí respondiera el moro,10\n",
      "bien oiréis lo que decía:\n",
      "—Yo te la diré, señor,\n",
      "aunque me cueste la vida,\n",
      "porque soy hijo de un moro\n",
      "y una cristiana cautiva;15\n",
      "siendo yo niño y muchacho\n",
      "mi madre me lo decía:\n",
      "que mentira no dijese,\n",
      "que era grande villanía:2\n",
      "por tanto pregunta, rey,\n",
      "que la verdad te diría.\n",
      "—Yo te agradezco, Abenámar\n",
      "aquesa tu cortesía.\n",
      "¿Qué castillos son aquéllos?5\n",
      "¡Altos son y relucían!\n",
      "—El Alhambra era, señor,\n",
      "y la otra la mezquita;\n",
      "los otros los Alixares,\n",
      "labrados á maravilla.10\n",
      "El moro que los labraba\n",
      "cien doblas ganaba al día,\n",
      "y el día que no los labra\n",
      "otras tantas se perdía.\n",
      "El otro es Generalife,15\n",
      "huerta que par no tenía;\n",
      "el otro Torres Bermejas,\n",
      "castillo de gran valía.—\n",
      "Allí habló el rey don Juan,\n",
      "bien oiréis lo que decía:20\n",
      "—Si tú quisieses, Granada,\n",
      "contigo me casaría;\n",
      "daréte en arras y dote\n",
      "á Córdoba y á Sevilla.\n",
      "—Casada soy, rey don Juan,25\n",
      "casada soy, que no viuda;\n",
      "el moro que á mí me tiene3\n",
      "muy grande bien me quería.\n",
      "Fonte-frida, fonte-frida,\n",
      "fonte-frida y con amor,\n",
      "do todas las avecicas\n",
      "van tomar consolación,5\n",
      "sino es la tortolica\n",
      "que está viuda y con dolor.\n",
      "Por allí fuera á pasar\n",
      "el traidor de ruiseñor:\n",
      "las palabras que le dice10\n",
      "llenas son de traición:\n",
      "—Si tú quisieses, señora,\n",
      "yo sería tu servidor.\n",
      "—Vete de ahí, enemigo,\n",
      "malo, falso, engañador,15\n",
      "que ni poso en ramo verde,\n",
      "ni en prado que tenga flor;\n",
      "que si el agua hallo clara,\n",
      "turbia la bebía yo;\n",
      "que no quiero haber marido,20\n",
      "porque hijos no haya, no:\n",
      "no quiero placer con ellos,\n",
      "ni menos consolación.\n",
      "¡Déjame, triste enemigo,\n",
      "malo, falso, mal traidor,25\n",
      "que no quiero ser tu amiga,\n",
      "ni casar contigo, no.\n",
      "\n"
     ]
    }
   ],
   "source": [
    "print(str_poem_list[0])"
   ]
  }
 ],
 "metadata": {
  "kernelspec": {
   "display_name": "Python 3",
   "language": "python",
   "name": "python3"
  },
  "language_info": {
   "codemirror_mode": {
    "name": "ipython",
    "version": 3
   },
   "file_extension": ".py",
   "mimetype": "text/x-python",
   "name": "python",
   "nbconvert_exporter": "python",
   "pygments_lexer": "ipython3",
   "version": "3.8.3"
  }
 },
 "nbformat": 4,
 "nbformat_minor": 5
}
