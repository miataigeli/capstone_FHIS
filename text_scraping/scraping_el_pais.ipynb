{
 "cells": [
  {
   "cell_type": "code",
   "execution_count": 1,
   "id": "preceding-semiconductor",
   "metadata": {},
   "outputs": [],
   "source": [
    "from bs4 import BeautifulSoup\n",
    "from urllib.request import urlopen\n",
    "import time\n",
    "from collections import defaultdict\n",
    "from datetime import date\n",
    "import json"
   ]
  },
  {
   "cell_type": "markdown",
   "id": "international-murder",
   "metadata": {},
   "source": [
    "## Scraping Spanish Newspaper: El Pais\n",
    "\n",
    "This piece of code scrapes newspaper articles from El Pais (Spanish newspaper).\n",
    "It scrapes the newspaper articles and stores into a list.\n",
    "Then, this list is saved in a json file. "
   ]
  },
  {
   "cell_type": "code",
   "execution_count": 2,
   "id": "revolutionary-project",
   "metadata": {},
   "outputs": [],
   "source": [
    "url = 'https://elpais.com/america/'\n",
    "f = urlopen(url)\n",
    "html_elpais = BeautifulSoup(f, 'lxml')\n",
    "f.close()"
   ]
  },
  {
   "cell_type": "code",
   "execution_count": 3,
   "id": "victorian-heading",
   "metadata": {},
   "outputs": [],
   "source": [
    "def scraping_el_pais(url, max_num_articles = 1000):\n",
    "    '''\n",
    "    This function scrapes the Spanish newspaper El Pais and returns a dictionary which contains information about the scraped articles. \n",
    "    ----------------------------------------------------\n",
    "    Arguments: url (str) - url of the newspaper\n",
    "               max_num_articles - maximum number of articles to scrape. set to 1000 by default.\n",
    "    Returns:   el_pais_articles (list) - contains dictionaries of articles: each article has a title, a source, genre, content and readability level. \n",
    "    '''\n",
    "    \n",
    "    f = urlopen(url)\n",
    "    html_elpais = BeautifulSoup(f, 'lxml')\n",
    "    count = 0\n",
    "    el_pais_articles = []\n",
    "    \n",
    "    for node in html_elpais.find_all('a'):\n",
    "        if node.attrs['href'].startswith('/') and node.attrs['href'].endswith('.html'):\n",
    "            address = node.attrs['href'].split('/')\n",
    "            genre = address[1]\n",
    "            child_url = 'https://elpais.com' + node.attrs['href']\n",
    "            f_child = urlopen(child_url)\n",
    "            html_child = BeautifulSoup(f_child, 'lxml')\n",
    "            try:\n",
    "                for node_in_child in html_child.find_all(\"script\"):\n",
    "                    if 'type' in node_in_child.attrs and node_in_child.attrs['type'] == 'application/ld+json':\n",
    "                        for script_ in node_in_child.contents:\n",
    "                            jsonStr = script_.strip()\n",
    "                            jsonList = json.loads(jsonStr) #list\n",
    "                            if type(jsonList) == list:\n",
    "                                article_dict = {}\n",
    "                                for dict_item in jsonList:\n",
    "                                    if 'articleBody' in dict_item.keys():\n",
    "                                        article_dict['title']= address[-1].split('.html')\n",
    "                                        article_dict['source']= url\n",
    "                                        article_dict['genre']= 'news-article-' + genre\n",
    "                                        article_dict['content']=dict_item['articleBody']\n",
    "                                        article_dict['level']='B2'\n",
    "                                        el_pais_articles.append(article_dict)\n",
    "                                        count += 1\n",
    "                                        \n",
    "                            elif type(jsonList) == dict and 'articleBody' in jsonList.keys():\n",
    "                                article_dict = {}\n",
    "                                article_dict['title']=address[-1].split('.html')[0]\n",
    "                                article_dict['source']=url\n",
    "                                article_dict['genre']='news-article-' + genre\n",
    "                                article_dict['content']=jsonList['articleBody']\n",
    "                                article_dict['level']='B2'\n",
    "                                el_pais_articles.append(article_dict)\n",
    "                                count +=1\n",
    "            except:\n",
    "                pass\n",
    "            f_child.close()\n",
    "            #break\n",
    "            if count % 100 == 0 and count > 0:\n",
    "                print(f'scraped {count} articles')\n",
    "            if count % 1000 == 0 and count > 0:\n",
    "                time.sleep(1)\n",
    "            if count == max_num_articles:\n",
    "                break\n",
    "    f.close()\n",
    "    return el_pais_articles"
   ]
  },
  {
   "cell_type": "code",
   "execution_count": 4,
   "id": "technological-distribution",
   "metadata": {},
   "outputs": [],
   "source": [
    "el_pais_articles = scraping_el_pais(url)"
   ]
  },
  {
   "cell_type": "code",
   "execution_count": 5,
   "id": "german-defeat",
   "metadata": {},
   "outputs": [],
   "source": [
    "today = date.today()\n",
    "today_str = today.strftime(\"%b-%d-%Y\")"
   ]
  },
  {
   "cell_type": "markdown",
   "id": "naval-interest",
   "metadata": {},
   "source": [
    "## Store the data in el_pais.json file for the articles"
   ]
  },
  {
   "cell_type": "code",
   "execution_count": 6,
   "id": "prepared-bargain",
   "metadata": {},
   "outputs": [],
   "source": [
    "filename = '../corpus/newspapers/el_pais-'+today_str+'.json'\n",
    "with open(filename, 'w', encoding = 'utf-8') as outfile:\n",
    "        json.dump(el_pais_articles, outfile)"
   ]
  },
  {
   "cell_type": "markdown",
   "id": "united-merit",
   "metadata": {},
   "source": [
    "## Read the el_pais.json file "
   ]
  },
  {
   "cell_type": "code",
   "execution_count": 34,
   "id": "trained-earthquake",
   "metadata": {},
   "outputs": [],
   "source": [
    "with open(filename, encoding = 'utf-8') as json_file:\n",
    "    data = json.load(json_file)"
   ]
  },
  {
   "cell_type": "code",
   "execution_count": 35,
   "id": "hazardous-verification",
   "metadata": {},
   "outputs": [
    {
     "name": "stdout",
     "output_type": "stream",
     "text": [
      "dict_keys(['title', 'source', 'genre', 'content', 'level'])\n",
      "6197\n"
     ]
    }
   ],
   "source": [
    "print(data[0].keys())\n",
    "print(len(data[0]['content']))"
   ]
  },
  {
   "cell_type": "code",
   "execution_count": 37,
   "id": "analyzed-slovenia",
   "metadata": {},
   "outputs": [
    {
     "name": "stdout",
     "output_type": "stream",
     "text": [
      "title: la-encuesta-a-pie-de-urna-confirma-la-tendencia-al-alza-de-fujimori-en-las-elecciones-de-peru\n",
      "\n",
      "source: https://elpais.com/america/\n",
      "\n",
      "genre: news-article-internacional\n",
      "\n",
      "content: Las elecciones de Perú no tendrán un ganador claro hasta el último minuto. La igualdad es máxima. La victoria se fraguará voto a voto. Con más del 90% del voto escrutado, Keiko Fujimori mantiene un 50,1% de los apoyos frente al 49,9% para Pedro Castillo, dos décimas de una distancia que se acorta conforme avanza el conteo. El organismo electoral había advertido, con el 40% de las papeletas escrutadas, de que “el voto rural y el voto de selva” es el último en reflejarse en los resultados. Esos son feudos favorables al maestro de escuela. En el resultado tampoco está reflejado aún el voto exterior, que acumula un enorme retraso, con apenas el 11% del conteo. Casi 750.000 peruanos estuvieron habilitados para votar desde el exterior, un voto que, por ahora, favorece a la líder conservadora. Con los dos aspirantes a la presidencia rozando el empate y poco más de 40.000 papeletas de distancia, cualquier voto es determinante. Los dos sondeos que se dieron a conocer este domingo, después del cierre de urnas, ya lo anunciaban y arrojaban un empate técnico. La candidata conservadora Keiko Fujimori logró una ligera ventaja en una encuesta a pie de urna (50,3% frente al 49,7%), mientras que el izquierdista Pedro Castillo se impuso por muy poco en el conteo rápido (50,2% frente el 48,8%) publicado horas después. Fujimori recibió los resultados de los sondeos en Lima, en la capital, en la ciudad. Pedro Castillo en Tacabamba, en la sierra, en el mundo rural. Dos sitios distintos desde donde observar el país. Eso se ha notado en los resultados de las regiones, según los sondeos. En los lugares donde ha ganado uno u otro lo ha hecho con holgura. En algún caso rozando el 90% de los votos. El primer sondeo que daba esa pequeña diferencia a favor de la candidata de derechas tiene un margen de error del 3%, y estaba elaborado con entrevistas a 30.000 electores. En el segundo, el conteo rápido, su margen de error es menor, del 1%, porque se hace con planillas de mesas elegidas que sean representativas. Aunque los márgenes son muy estrechos y el conteo oficial podría alargarse durante días, en uno y otro lugar celebraron con euforia cuando las encuestas les dieron vencedores por apenas unas décimas. Los Fujimori se abrazaron al conocer la encuesta a pie de urna. “Recibimos con alegría los resultados, pero al ver el margen, es fundamental mantener la prudencia. Y eso lo digo para todos los peruanos”, dijo la candidata. Y entonces utilizó el mismo tono de concordia de las últimas semanas, con el que ha atraído a un buen número de antifujimoristas: “Acá lo que se tiene que buscar es la unidad de todos los peruanos. Desde ya invoco a la prudencia, a la calma, a la paz. A los que votaron y no votaron por nosotros”. Ese primer flash inquietó a Castillo, que hizo pública una carta dirigida a la autoridad electoral en la que exigía una revisión de todas las actas. De lado y lado se estuvo insinuando a lo largo de la jornada que podría haber un pucherazo. “Convoco al pueblo peruano de todos los rincones del país a asistir en paz a las calles para estar vigilantes en la defensa de la democracia. #ADefenderElVoto”, escribió el maestro en un tuit. Ese primer sondeo, aunque sugería un empate técnico, había dejado fríos a sus seguidores. El segundo los llenó de alegría. En la plaza de Tacabamba, desde donde siguió la jornada el candidato, la gente comenzó a gritar “¡sí se puede!”. En Lima, los seguidores de ambos aspirantes tomaron las calles. Se encontraron en la plaza Bolognesi, un lugar cercano a los locales de los dos partidos, y se produjeron pequeños incidentes. La policía trató de evitar los enfrentamientos y los invitó a irse a casa, cerca de la medianoche. No se respetó el toque de queda, que estaba previsto para las once de la noche. La campaña ha dividido el país en dos corrientes. La tensión ha sido máxima. Castillo, ganador de la primera vuelta (con 2,7 millones de votos, el 19%), lideró durante los primeros 15 días los sondeos, pero Fujimori remontó en el último tramo. Se suele decir que en Perú nunca gana el favorito. La hija de Alberto Fujimori (1,9 millones de votos en la primera ronda, el 13%), el autócrata que gobernó el país entre 1992 y 2000, ha estado hiperpresente desde que lograra pasar a segunda vuelta. A cualquier hora que se encendiera el televisor aparecía en pantalla vestida con la camiseta de la selección peruana, su uniforme de campaña. Paneles por todo el país lanzaron mensajes a su favor de forma indirecta (aunque muy obvia) para burlar la ley electoral. Su principal arma ha sido alentar el miedo a una posible llegada de Castillo, que representa, para ella y la clase dirigente peruana que la ha apoyado sin matices, una aventura hacia el comunismo y el estatismo económico. Fujimori, de 46 años, puede ser presidenta en el momento que menos capital político atesora. Sus últimos cinco años de obstrucción en el Congreso maltrataron su imagen. La acusación de un fiscal contra ella por lavado de dinero en el caso Odebrecht tampoco ayuda. Sin embargo, la oposición de una buena parte de la nación a lo que representa Castillo la ha aupado en las encuestas. Antifujimoristas históricos como el escritor Mario Vargas Llosa la han apoyado. El perfil de Castillo, un sindicalista de izquierda radical, ha sido mucho más bajo que el de su oponente, en parte por decisión propia. El profesor, de 51 años, apenas ha ofrecido entrevistas. En los mítines se ha quejado de que no se estaba respetando la neutralidad que se le presupone a algunos sectores de la sociedad. Su mayor esfuerzo en el tramo final lo ha gastado en tratar de alejarse de Vladimir Cerrón, el presidente de partido Perú Libre, al que está adscrito, más como invitado que como militante real. Cerrón es un izquierdista dogmático y cercano a Cuba y Venezuela. En el último debate insistió en que respetará la propiedad privada y la economía de mercado, pese a lo que diga su adversaria. Castillo ha tratado de atraer a última hora a un votante más centrado y urbanita, que podía tener la tentación de votar a Fujimori como mal menor. Suscríbase aquí a la newsletter de EL PAÍS América y reciba todas las claves informativas de la actualidad de la región.\n",
      "\n",
      "level: B2\n"
     ]
    }
   ],
   "source": [
    "print(f'title: {data[0][\"title\"]}\\n')\n",
    "print(f'source: {data[0][\"source\"]}\\n')\n",
    "print(f'genre: {data[0][\"genre\"]}\\n')\n",
    "print(f'content: {data[0][\"content\"]}\\n')\n",
    "print(f'level: {data[0][\"level\"]}')"
   ]
  },
  {
   "cell_type": "code",
   "execution_count": 160,
   "id": "painted-white",
   "metadata": {},
   "outputs": [
    {
     "name": "stdout",
     "output_type": "stream",
     "text": [
      "['', 'mexico', 'elecciones-mexicanas', '2021-06-04', 'la-ley-del-plomo-tine-de-sangre-las-urnas-de-mexico.html']\n",
      "A sus rivales les habían pintado bigote, perilla y algunos cuernos. A él, un lazo negro y un mensaje: descanse en paz. Una frase que en otro país, en plena campaña electoral, puede resultar una broma macabra, pero en México estos días significa una sentencia de muerte real. Tres semanas después de que intentaran asesinarlo a balazos, el candidato del PRI a la alcaldía de Morelia (Michoacán), Guillermo Valencia, se mueve con un chaleco antibalas, en una camioneta blindada y rodeado por cuatro hombres armados hasta los dientes. Cuando en la calle un vecino se acerca a saludarlo bruscamente, siente que se le sube el estómago a la garganta, sus músculos se contraen y él solo puede sonreír. La ley del plomo se ha impuesto en una contienda electoral en la que las reglas democráticas más básicas han saltado por los aires. El proceso electoral se ha convertido en el más violento de la historia reciente del país. Han sido asesinados desde septiembre al menos 35 candidatos —según las últimas cifras de la consultora Etellekt, registradas hasta el 30 de mayo—, en su mayoría a puestos municipales, y se han contabilizado más de 782 agresiones, incluidas amenazas de muerte, además de las que por razones obvias no se han denunciado y permanecen en la sombra. México se asoma a unas elecciones el próximo domingo en las que al menos una decena de aspirantes se ha retirado de la contienda por amenazas contra su vida o la de sus familiares; por motivos más horribles, como el asesinato o secuestro; porque han baleado su casa, sus coches o sus puestos de campaña, o bien, como en el caso de una excandidata, porque han arrojado a su esposo descuartizado en una cuneta. Ante este panorama, el presidente Andrés Manuel López Obrador insistía esta semana en que el país “está en paz” y hay elementos suficientes para “garantizar la gobernabilidad”. La imagen de rincones del país en crisis de violencia en vísperas de los comicios más grandes de su historia —en los que se eligen hasta 2.000 cargos locales, se renueva la Cámara de Diputados federal y se eligen 15 gobernadores— es para el Gobierno poco más que una exageración mediática. Y eso pese a que, por su parte, algunos órganos electorales estatales hayan anunciado que al menos en 40 municipios es posible que los vecinos no puedan ni siquiera votar porque no existen condiciones de seguridad suficientes como para instalar una casilla. Tal es el caso de Aguililla (Michoacán), epicentro de la guerra de cárteles desde hace meses. Desde el momento en que un candidato a alcalde de su ciudad tiene que hacer campaña con un chaleco antibalas para evitar un segundo ataque a balazos —y no es el único en el país— las garantías democráticas se desvanecen. Guillermo Valencia, Memo, como le gusta que lo llamen, se enfrentó desde el pasado 8 de mayo al macabro dilema de seguir arriesgando su vida en una democracia que gotea. —Ahora que lo intentaron y no me mataron, ¿voy a darles el gusto de retirarme? Eran alrededor de las nueve de la noche cuando un coche con tres sicarios interceptó la camioneta de Memo Valencia. Un plan de última hora lo libró de una muerte casi segura. Había quedado con un amigo en su casa para ver una pelea de boxeo y antes de que sus agresores se dieran cuenta, se había cambiado de vehículo. La camioneta con su cara y su nombre seguía derecho por una de las principales avenidas de la capital de Michoacán. A bordo iban uno de sus escoltas —como activista amenazado, contaba desde hace años con seguridad federal— y dos compañeras de su equipo de campaña. Un coche les cerró el paso y dos hombres se bajaron del vehículo y comenzaron a disparar, otro les seguía desde dentro. La camioneta quedó como un colador: agujereada por 31 impactos. Una asistente y el escolta resultaron heridos en la pierna. Ninguno de ellos ha querido continuar. Este miércoles, Valencia repite el recorrido de la noche del atentado y observa el cartel con la amenaza de muerte en la explanada de una colonia popular de Morelia, el lugar donde llevó a cabo el último evento electoral de ese día. Mientras se percata de la lona con su rostro y el lazo negro, un grupo de cuatro escoltas y un chófer rodean al candidato, pistola a la cintura y dos fusiles de asalto preparados en la camioneta. “Es muy difícil hacer campaña así. Lo lógico cuando intentan matarte es esconderte, pero yo tengo que salir a la calle, hablar con la gente, caminar. Cualquiera se puede acercar con una pistola y dispararme. Es el riesgo”, cuenta desde el salón de su casa. A un lado, sus dos hijas de dos y seis años saludan tímidas. Su esposa lo observa resignada: “No paro de llorar. Pero lo respeto mucho y lo apoyo”. Un amigo le ha prestado un coche blindado en el que recorre sus últimas horas de campaña, detrás va el convoy de hombres armados que sortea el tráfico y maneja dispuesto a despejar cualquier vehículo sospechoso. Valencia habla desde el asiento trasero del coche y mientras lo hace no pierde de vista una ventanilla y la otra, esperando el momento en el que suceda lo que cree que lleva escrito en la frente: “Soy consciente de que huelo a pólvora”, apunta, golpeando duro contra su pecho protegido con una capa de kevlar. “¿Viste el vídeo de la de Moroleón? Quizá uno como estos la hubiera librado”, advierte Valencia. Unas horas antes, se había hecho público el vídeo en el que Alma Barragán, candidata de Movimiento Ciudadano a la alcaldía de ese municipio de Guanajuato (a 60 kilómetros de Morelia), fue acribillada a balazos mientras hablaba en un mitin rodeada de decenas de personas. En las imágenes se escuchan las detonaciones y cómo un tiro le impacta directamente en el tórax. También, esa misma semana, el candidato del Partido Verde a la alcaldía de Uruapan (Michoacán) había sido secuestrado. Y esa tarde del miércoles, las noticias abrían con el secuestro de la aspirante a la presidencia municipal de Cutzamala de Pinzón (en Guerrero), Marilú Martínez, y de toda su familia, que aparecieron unas horas después con vida. Las alarmas de que estas iban a ser las elecciones más violentas se dispararon con el homicidio del candidato de Movimiento Ciudadano a la presidencia municipal de Cajeme (Sonora), Abel Murrieta, el 13 de mayo. Murrieta era el abogado de la familia LeBarón, que en noviembre de 2019 fue objeto de un brutal atentado en el que perdieron la vida nueve de sus miembros, mujeres y niños que viajaban en furgonetas por Chihuahua. Su muerte, en uno de los Estados clave en estas elecciones —donde compite a gobernador el exsecretario de Seguridad de López Obrador, Alfonso Durazo— desató la indignación y visibilizó decenas de crímenes más contra candidatos en zonas marginales. Suena el teléfono: “Lo sentimos, el número que intenta contactar cuenta con el servicio de restricción de llamadas entrantes”. Érika Cortés, del Partido del Trabajo, era candidata al municipio veracruzano de Cuichapa hasta que en un vídeo en sus redes sociales anunció que se retiraba. Las amenazas de muerte contra ella y su familia la obligaron a renunciar y estos días se encuentra alejada de los focos, esperando a que termine el infierno que comenzó el día en que se presentó a alcaldía de su pueblo. “Ni siquiera nosotros podemos hablar con ella”, cuenta un compañero de partido del Estado. A unos 50 kilómetros de ahí, una funcionaria del órgano electoral de Veracruz, en el pueblo más pobre del Estado, Mixtla de Altamirano, anunciaba que no había suficiente convocatoria para que se llevara a cabo el debate esperado para presidente municipal. Francisca Morales (del PRI) se había retirado hacía una semana y media de la contienda. A su marido (exalcalde del municipio) lo secuestraron, asesinaron y arrojaron su cadáver descuartizado a una cuneta. Veracruz ha sido el Estado que más ataques a candidatos ha sufrido en este proceso electoral: de las 782 agresiones, 117 se dieron en esta región. Y uno de los representantes estatales del PRI explicaba por teléfono a este diario que solo en ese día, el martes, habían detenido ilegalmente a uno de sus compañeros, habían desalojado violentamente una manifestación y acababan de acribillar a balazos a un exmiembro del PRI, que en esta ocasión contendía por el PAN por la alcaldía de Yanga, Gerson Morales. Valencia señala el punto exacto en el que la camioneta con los rótulos de su campaña se detuvo y cambió de vehículo. “Si me hubiera ido a mi casa esa noche...”, no termina la frase. Si hubiera regresado directamente con su familia y no hubiera ido a ver una pelea de boxeo — “que ni me encanta el boxeo, era por ver a mi amigo”— lo habrían matado. Los hombres que disparaban a bocajarro contra el vehículo se acercaron a las ventanillas delanteras. “En el vídeo se observa cómo uno de ellos se adelanta con un arma corta hacia el vidrio. Si la ráfaga no me había dado, iba a rematarme”. Su compañera herida abrió la puerta y gritó que el candidato no estaba ahí. Y mientras el escolta trataba de enfrentar solo los balazos, los sicarios comprendieron que habían errado el tiro. Y huyeron. El rosario de muertes y ataques armados se ha intensificado conforme se acerca el día de los comicios. Sin poder hacer todavía un diagnóstico de si el responsable ha sido el crimen organizado o criminales políticos de cuello blanco, desde hace al menos un mes no ha habido una semana en la que no se contabilizaran nuevas víctimas. “El país está en paz”, insistía este jueves López Obrador. Pero los periódicos de sucesos siguen reservando espacios en blanco antes del cierre. A tres días de la jornada electoral, cabe la pregunta de si el país asiste realmente libre y con plenas garantías para elegir a sus representantes. Si ante la violencia extrema en algunos municipios hay un espacio digno para la democracia. Suscríbase aquí a la newsletter de EL PAÍS México y reciba todas las claves informativas de la actualidad de este país \n",
      "\n"
     ]
    }
   ],
   "source": [
    "#print(html_elpais.prettify())\n",
    "################ This piece of code is for debugging purpose only - please ignore. \n",
    "\n",
    "for node in html_elpais.find_all(\"a\"):\n",
    "    if node.attrs['href'].startswith('/') and node.attrs['href'].endswith('.html'):\n",
    "        address = node.attrs['href'].split('/')\n",
    "        print(address)\n",
    "        child_url = 'https://elpais.com' + node.attrs['href']\n",
    "        f_child = urlopen(child_url)\n",
    "        html_child = BeautifulSoup(f_child, 'lxml')\n",
    "        for node_in_child in html_child.find_all(\"script\"):\n",
    "            if 'type' in node_in_child.attrs and node_in_child.attrs['type'] == 'application/ld+json':\n",
    "                for script_ in node_in_child.contents:\n",
    "                    jsonStr = script_.strip()\n",
    "                    jsonList = json.loads(jsonStr) #list\n",
    "                    if type(jsonList) == list:\n",
    "                        for dict_item in jsonList:\n",
    "                            if 'articleBody' in dict_item.keys():\n",
    "                                print(dict_item['articleBody'], '\\n')\n",
    "                    elif type(jsonList) == dict and 'articleBody' in jsonList.keys():\n",
    "                        print(jsonList['articleBody'], '\\n')\n",
    "        f_child.close()\n",
    "        break"
   ]
  },
  {
   "cell_type": "code",
   "execution_count": null,
   "id": "passive-bryan",
   "metadata": {},
   "outputs": [],
   "source": []
  }
 ],
 "metadata": {
  "kernelspec": {
   "display_name": "Python 3",
   "language": "python",
   "name": "python3"
  },
  "language_info": {
   "codemirror_mode": {
    "name": "ipython",
    "version": 3
   },
   "file_extension": ".py",
   "mimetype": "text/x-python",
   "name": "python",
   "nbconvert_exporter": "python",
   "pygments_lexer": "ipython3",
   "version": "3.8.3"
  }
 },
 "nbformat": 4,
 "nbformat_minor": 5
}
