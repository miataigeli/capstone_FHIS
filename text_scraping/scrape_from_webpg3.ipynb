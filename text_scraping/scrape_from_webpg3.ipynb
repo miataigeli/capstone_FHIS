{
 "cells": [
  {
   "cell_type": "code",
   "execution_count": 1,
   "id": "exterior-philadelphia",
   "metadata": {},
   "outputs": [],
   "source": [
    "from bs4 import BeautifulSoup\n",
    "from urllib.request import urlopen"
   ]
  },
  {
   "cell_type": "code",
   "execution_count": 2,
   "id": "theoretical-excerpt",
   "metadata": {},
   "outputs": [],
   "source": [
    "###################################### A2/B1-level texts ###################################\n",
    "#### stories stored as string in str_story_list (Mostly A2 and B1)\n",
    "####\n",
    "\n",
    "wb_address = 'https://www.gutenberg.org/files/36805/36805-h/36805-h.htm'\n",
    "f = urlopen(wb_address)\n",
    "html_soup = BeautifulSoup(f, 'lxml')\n",
    "story_list = []\n",
    "node = html_soup.find('h3')\n",
    "next_node = node\n",
    "while next_node != None:\n",
    "    next_node = None\n",
    "    story = u\"\"\n",
    "    for tag in node.next_siblings:\n",
    "        if tag.name == 'h3':\n",
    "            story_list.append(story)\n",
    "            node = tag\n",
    "            next_node = tag\n",
    "            break\n",
    "        else:\n",
    "            story += str(tag)"
   ]
  },
  {
   "cell_type": "code",
   "execution_count": 3,
   "id": "stuffed-elephant",
   "metadata": {},
   "outputs": [],
   "source": [
    "str_story_list = []\n",
    "for i in range(3,35):  # exclude 0, 1, 2, and 21\n",
    "    if i != 21:\n",
    "        story_soup = BeautifulSoup(story_list[i], 'lxml')\n",
    "        str_story = story_soup.get_text()\n",
    "        str_story_list.append(str_story)"
   ]
  },
  {
   "cell_type": "code",
   "execution_count": 4,
   "id": "japanese-elements",
   "metadata": {},
   "outputs": [
    {
     "data": {
      "text/plain": [
       "31"
      ]
     },
     "execution_count": 4,
     "metadata": {},
     "output_type": "execute_result"
    }
   ],
   "source": [
    "len(str_story_list) # 31"
   ]
  },
  {
   "cell_type": "code",
   "execution_count": 5,
   "id": "liberal-atlanta",
   "metadata": {},
   "outputs": [
    {
     "name": "stdout",
     "output_type": "stream",
     "text": [
      "\n",
      "\n",
      "VOLVERÁN las obscuras golondrinas\n",
      "En tu balcón sus nidos á colgar,\n",
      "Y, otra vez, con el ala á sus cristales\n",
      "Jugando llamarán;\n",
      "\n",
      "Pero aquéllas que el vuelo refrenaban\n",
      "Tu hermosura y mi dicha á contemplar,\n",
      "Aquéllas que aprendieron nuestros nombres...\n",
      "Ésas... ¡no volverán!\n",
      "\n",
      "Volverán las tupidas madreselvas\n",
      "De tu jardín las tapias á escalar,\n",
      "Y otra vez á la tarde, aun más hermosas,\n",
      "Sus flores se abrirán;\n",
      "\n",
      "Pero aquéllas, cuajadas de rocío,\n",
      "Cuyas gotas mirábamos temblar\n",
      "Y caer, como lágrimas del día...\n",
      "Ésas... ¡no volverán!\n",
      "\n",
      "Volverán del amor en tus oídos\n",
      "Las palabras ardientes á sonar;\n",
      "Tu corazón de su profundo sueño\n",
      "Tal vez despertará;\n",
      "\n",
      "Pero mudo y absorto y de rodillas,\n",
      "Como se adora á Dios ante su altar,\n",
      "Como yo te he querido... desengáñate,\n",
      "¡Así no te querrán!\n",
      "\n",
      "\n",
      "\n",
      "\n",
      "\n"
     ]
    }
   ],
   "source": [
    "print(str_story_list[30])"
   ]
  }
 ],
 "metadata": {
  "kernelspec": {
   "display_name": "Python 3",
   "language": "python",
   "name": "python3"
  },
  "language_info": {
   "codemirror_mode": {
    "name": "ipython",
    "version": 3
   },
   "file_extension": ".py",
   "mimetype": "text/x-python",
   "name": "python",
   "nbconvert_exporter": "python",
   "pygments_lexer": "ipython3",
   "version": "3.8.3"
  }
 },
 "nbformat": 4,
 "nbformat_minor": 5
}
