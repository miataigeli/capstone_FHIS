{
 "cells": [
  {
   "cell_type": "code",
   "execution_count": 1,
   "id": "interim-mechanism",
   "metadata": {},
   "outputs": [],
   "source": [
    "from bs4 import BeautifulSoup\n",
    "from urllib.request import urlopen"
   ]
  },
  {
   "cell_type": "code",
   "execution_count": 2,
   "id": "southeast-crawford",
   "metadata": {},
   "outputs": [],
   "source": [
    "###################################### A1-level texts ###################################\n",
    "#### stories stored in str_story_list as string\n",
    "\n",
    "\n",
    "wb_address = 'https://www.gutenberg.org/files/22065/22065-h/22065-h.htm#EL_CUENTO_DEL_POLLO'\n",
    "f = urlopen(wb_address)\n",
    "html_soup = BeautifulSoup(f, 'lxml')\n",
    "for node in html_soup.find_all('h2'):\n",
    "    if 'class' in node.attrs.keys() and node['class'] == ['e']:\n",
    "        first_node = node\n",
    "        break\n",
    "\n",
    "story_list = []\n",
    "next_node = first_node\n",
    "while next_node != None:  \n",
    "    story = u\"\"\n",
    "    next_node = None\n",
    "    #print(first_node.get_text())\n",
    "    for tag in first_node.next_siblings:\n",
    "        #print(str(tag))\n",
    "        if tag.name == 'h2' and 'class' in tag.attrs.keys() and tag['class'] == ['e']:\n",
    "            story_list.append(story)\n",
    "            first_node = tag\n",
    "            next_node = tag\n",
    "            #print(tag.get_text())\n",
    "            break\n",
    "        else:\n",
    "            story += str(tag)\n",
    "\n",
    "next_node = first_node\n",
    "while next_node != None:\n",
    "    story = u\"\"\n",
    "    try:\n",
    "        story += first_node.get_text()\n",
    "    except:\n",
    "        story += str(first_node)\n",
    "    next_node = None\n",
    "    for tag in first_node.next_siblings:\n",
    "        #print(str(tag))\n",
    "        if tag.name == 'p' and 'class' in tag.attrs.keys() and tag['class'] == ['f']:\n",
    "            story_list.append(story)\n",
    "            first_node = tag\n",
    "            next_node = tag\n",
    "            story += str(tag)\n",
    "            #print(tag.get_text())\n",
    "            break\n",
    "        else:\n",
    "            story += str(tag)\n",
    "\n",
    "str_story_list = []\n",
    "for i in range(len(story_list)):\n",
    "    story_soup = BeautifulSoup(story_list[i], 'lxml')\n",
    "    str_story = story_soup.get_text()\n",
    "    str_story_list.append(str_story)"
   ]
  },
  {
   "cell_type": "code",
   "execution_count": 4,
   "id": "forty-honolulu",
   "metadata": {},
   "outputs": [
    {
     "data": {
      "text/plain": [
       "42"
      ]
     },
     "execution_count": 4,
     "metadata": {},
     "output_type": "execute_result"
    }
   ],
   "source": [
    "len(str_story_list)"
   ]
  },
  {
   "cell_type": "code",
   "execution_count": 7,
   "id": "acute-powder",
   "metadata": {},
   "outputs": [
    {
     "name": "stdout",
     "output_type": "stream",
     "text": [
      "—¿Ha leído Vd. Romeo y Julieta?\n",
      "—Romeo, hace mucho tiempo; pero no he leído Julieta.\n",
      "\n"
     ]
    }
   ],
   "source": [
    "print(str_story_list[15])"
   ]
  }
 ],
 "metadata": {
  "kernelspec": {
   "display_name": "Python 3",
   "language": "python",
   "name": "python3"
  },
  "language_info": {
   "codemirror_mode": {
    "name": "ipython",
    "version": 3
   },
   "file_extension": ".py",
   "mimetype": "text/x-python",
   "name": "python",
   "nbconvert_exporter": "python",
   "pygments_lexer": "ipython3",
   "version": "3.8.3"
  }
 },
 "nbformat": 4,
 "nbformat_minor": 5
}
