{
 "cells": [
  {
   "cell_type": "code",
   "execution_count": 11,
   "id": "buried-setup",
   "metadata": {},
   "outputs": [],
   "source": [
    "import os\n",
    "import re\n",
    "from tika import parser"
   ]
  },
  {
   "cell_type": "code",
   "execution_count": 12,
   "id": "accurate-sandwich",
   "metadata": {},
   "outputs": [],
   "source": [
    "pdf_dir = '/Users/eun-youngchristinapark/Documents/UBC-CAPSTONE/pdf_scraping/'\n",
    "donquijote = 'Recorridos_Don-Quijote-Student-text-2017.pdf'\n",
    "file_name = pdf_dir + donquijote"
   ]
  },
  {
   "cell_type": "code",
   "execution_count": 13,
   "id": "vital-boston",
   "metadata": {},
   "outputs": [],
   "source": [
    "raw = parser.from_file(file_name)\n",
    "raw_list = raw['content'].strip().split('\\n\\nRecorridos 3—Siglo XVI     Cervantes ')  ## contains pages of the book\n",
    "text_list = []\n",
    "regex = r'[0-9]+\\. '\n",
    "regex2 = r'[0-9]+\\-'\n",
    "regex3 = r'Capítulo [0-9]+  \\n\\n'\n",
    "regex4 = r'[0-9]+\\.'\n",
    "regex5 = r'\\n+\\s+[0-9]+\\s+\\n+'\n",
    "for i in range(11,84):\n",
    "    if 'BANCO DE PALABRAS ÚTILES' not in raw_list[i]:  # skip End-of-Chapter Questions \n",
    "        if re.search(regex3, raw_list[i]) == None:\n",
    "            begin_index = raw_list[i].find('\\n\\n')\n",
    "            end_index = raw_list[i][:raw_list[i].find('=')+1].rfind('\\n\\n')\n",
    "            end_index_prev = 0 \n",
    "            if raw_list[i][begin_index:begin_index+30].startswith('\\n\\n¿COMPRENDISTE LO QUE LEÍSTE?'):  # we have to skip this section\n",
    "                for match in re.finditer(regex4, raw_list[i]):\n",
    "                    begin_index = match.span()[0]\n",
    "                begin_index = raw_list[i].find('\\n\\n', begin_index + 1)\n",
    "                end_index = raw_list[i][begin_index+1:raw_list[i].find('=')+1].rfind('\\n\\n') + begin_index+1\n",
    "            elif begin_index == end_index:                                                 # the page starts with vocabulary list: we have to skip this section\n",
    "                while end_index != -1:\n",
    "                    end_index_prev += end_index + 1\n",
    "                    end_index = raw_list[i][end_index_prev+1:].find('=')\n",
    "                begin_index = raw_list[i].find('\\n\\n', end_index_prev + 1)\n",
    "                end_index = 1\n",
    "                search_begin_index = begin_index \n",
    "                while end_index > 0:\n",
    "                    regex_match = re.search(regex5, raw_list[i][search_begin_index + 1:])\n",
    "                    if regex_match:\n",
    "                        end_index = regex_match.span()[0]\n",
    "                        search_begin_index += end_index \n",
    "                    else:\n",
    "                        end_index = -1 \n",
    "                end_index = search_begin_index\n",
    "        else:\n",
    "            begin_index = re.search(regex3, raw_list[i]).span()[0]\n",
    "            end_index = raw_list[i][begin_index+1:raw_list[i].find('=')+1].rfind('\\n\\n') + begin_index+1\n",
    "        \n",
    "        ts = raw_list[i][begin_index:end_index]   # main text \n",
    "        ts_list = ts.split('\\n')\n",
    "        ts_list_filtered = []\n",
    "        qu_list = [0] * len(ts_list)\n",
    "        for idx, sent in enumerate(ts_list):\n",
    "            qu_list[idx] = 0\n",
    "            if sent.strip().startswith('¿'):     # remove textbook questions\n",
    "                qu_list[idx] = 1\n",
    "            if re.match(regex, sent.strip()):    # remove textbook questions\n",
    "                qu_list[idx] = 1\n",
    "            if re.match(regex2, sent.strip()):   # remove textbook questions\n",
    "                qu_list[idx] = 1\n",
    "            if sent.strip() == '':               # remove empty strings \n",
    "                qu_list[idx] = 2\n",
    "            if idx> 0 and qu_list[idx-1] == 1 and not(ts_list[idx-1].endswith('.')) and not(ts_list[idx-1].endswith('?')):\n",
    "                qu_list[idx] = 3\n",
    "            if sent.strip().startswith('\"'):\n",
    "                qu_list[idx] = 4\n",
    "            if idx > 0 and qu_list[idx-1] >= 4 and not(sent.strip().endswith('\"')):\n",
    "                qu_list[idx] = 5\n",
    "            if idx > 0 and qu_list[idx-1] >= 4 and sent.strip().endswith('\"'):\n",
    "                qu_list[idx] = 6\n",
    "        \n",
    "            if qu_list[idx] == 0:\n",
    "                ts_list_filtered.append(sent)\n",
    "        ts_filtered = '\\n'.join(ts_list_filtered)\n",
    "        text_list.append(ts_filtered)"
   ]
  },
  {
   "cell_type": "code",
   "execution_count": 15,
   "id": "military-velvet",
   "metadata": {},
   "outputs": [
    {
     "data": {
      "text/plain": [
       "'\\n\\ncaballero melindroso, ni tan llorón como su hermano, y que en lo \\nde la valentía no le iba en zaga. \\n \\n En resolución, él se enfrascó tanto en su lectura, que se \\nle pasaban las noches leyendo de claro en claro, y los días de     \\nturbio en turbio; y así, del poco dormir y del mucho leer, se  \\nle secó el cerebro, de manera que vino a perder el juicio.      \\nLlenósele la fantasía de todo aquello que leía en los libros, así de \\nencantamientos como de pendencias, batallas, desafíos, heridas, \\nrequiebros, amores, tormentas y disparates imposibles; y \\nasentósele de tal modo en la imaginación que era verdad toda \\naquella máquina de aquellas sonadas soñadas invenciones que \\nleía, que para él no había otra historia más cierta en el mundo. \\nDecía él que el Cid Ruy Díaz había sido muy buen caballero,   \\npero que no tenía que ver con el Caballero de la Ardiente \\nEspada, que de sólo un revés había partido por medio dos  \\nfieros y descomunales gigantes. Mejor estaba con Bernardo \\ndel Carpio, porque en Roncesvalles había muerto a Roldán, el \\nencantado, valiéndose de la industria de Hércules, cuando ahogó \\na Anteo, el hijo de la Tierra, entre los brazos. Decía mucho bien \\ndel gigante Morgante, porque, con ser de aquella generación  \\ngigantea, que todos son soberbios y descomedidos, él solo  \\nera afable y bien criado. Pero, sobre todos, estaba bien con   \\nReinaldos de Montalbán, y más cuando le veía salir de su castillo \\ny robar cuantos topaba, y cuando en allende robó aquel ídolo  \\nde Mahoma que era todo de oro, según dice su historia. Diera él, \\npor dar una mano de coces al traidor de Galalón, al ama que tenía \\ny aun a su sobrina de añadidura. \\n\\n ¿COMPRENDISTE LO QUE LEÍSTE?    \\n1-B \\n\\n En efecto, rematado ya su juicio, vino a dar en el más       \\nextraño pensamiento que jamás dio loco en el mundo; y fue \\nque le pareció convenible y necesario, así para el aumento de \\nsu honra como para el servicio de su república, hacerse caballero \\nandante, e irse por todo el mundo con sus armas y caballo \\na buscar las aventuras y a ejercitarse en todo aquello que él  \\nhabía leído que los caballeros andantes se ejercitaban, deshaciendo \\n\\n 5.  ¿Con quiénes discute el hidalgo las obras \\nque leía? \\n\\n6.  Nombra tres resultados de sus actividades \\ndiarias y nocturnales. '"
      ]
     },
     "execution_count": 15,
     "metadata": {},
     "output_type": "execute_result"
    }
   ],
   "source": [
    "i = 13\n",
    "\n",
    "if 'BANCO DE PALABRAS ÚTILES' not in raw_list[i]:  # skip End-of-Chapter Questions \n",
    "    if re.search(regex3, raw_list[i]) == None:\n",
    "        begin_index = raw_list[i].find('\\n\\n')\n",
    "        end_index = raw_list[i][:raw_list[i].find('=')+1].rfind('\\n\\n')\n",
    "        end_index_prev = 0 \n",
    "        if raw_list[i][begin_index:begin_index+30].startswith('\\n\\n¿COMPRENDISTE LO QUE LEÍSTE?'):  # we have to skip this section\n",
    "            for match in re.finditer(regex4, raw_list[i]):\n",
    "                begin_index = match.span()[0]\n",
    "            begin_index = raw_list[i].find('\\n\\n', begin_index + 1)\n",
    "            end_index = raw_list[i][begin_index+1:raw_list[i].find('=')+1].rfind('\\n\\n') + begin_index+1\n",
    "        elif begin_index == end_index:                                                 # the page starts with vocabulary list: we have to skip this section\n",
    "            while end_index != -1:\n",
    "                end_index_prev += end_index + 1\n",
    "                end_index = raw_list[i][end_index_prev+1:].find('=')\n",
    "            begin_index = raw_list[i].find('\\n\\n', end_index_prev + 1)\n",
    "            end_index = 1\n",
    "            search_begin_index = begin_index \n",
    "            while end_index > 0:\n",
    "                regex_match = re.search(regex5, raw_list[i][search_begin_index + 1:])\n",
    "                if regex_match:\n",
    "                    end_index = regex_match.span()[0]\n",
    "                    search_begin_index += end_index \n",
    "                else:\n",
    "                    end_index = -1 \n",
    "            end_index = search_begin_index\n",
    "    else:\n",
    "        begin_index = re.search(regex3, raw_list[i]).span()[0]\n",
    "        end_index = raw_list[i][begin_index+1:raw_list[i].find('=')+1].rfind('\\n\\n') + begin_index+1\n",
    "    \n",
    "raw_list[i][begin_index:end_index]"
   ]
  },
  {
   "cell_type": "code",
   "execution_count": 19,
   "id": "spanish-religious",
   "metadata": {},
   "outputs": [
    {
     "name": "stdout",
     "output_type": "stream",
     "text": [
      "caballero melindroso, ni tan llorón como su hermano, y que en lo \n",
      "de la valentía no le iba en zaga. \n",
      " En resolución, él se enfrascó tanto en su lectura, que se \n",
      "le pasaban las noches leyendo de claro en claro, y los días de     \n",
      "turbio en turbio; y así, del poco dormir y del mucho leer, se  \n",
      "le secó el cerebro, de manera que vino a perder el juicio.      \n",
      "Llenósele la fantasía de todo aquello que leía en los libros, así de \n",
      "encantamientos como de pendencias, batallas, desafíos, heridas, \n",
      "requiebros, amores, tormentas y disparates imposibles; y \n",
      "asentósele de tal modo en la imaginación que era verdad toda \n",
      "aquella máquina de aquellas sonadas soñadas invenciones que \n",
      "leía, que para él no había otra historia más cierta en el mundo. \n",
      "Decía él que el Cid Ruy Díaz había sido muy buen caballero,   \n",
      "pero que no tenía que ver con el Caballero de la Ardiente \n",
      "Espada, que de sólo un revés había partido por medio dos  \n",
      "fieros y descomunales gigantes. Mejor estaba con Bernardo \n",
      "del Carpio, porque en Roncesvalles había muerto a Roldán, el \n",
      "encantado, valiéndose de la industria de Hércules, cuando ahogó \n",
      "a Anteo, el hijo de la Tierra, entre los brazos. Decía mucho bien \n",
      "del gigante Morgante, porque, con ser de aquella generación  \n",
      "gigantea, que todos son soberbios y descomedidos, él solo  \n",
      "era afable y bien criado. Pero, sobre todos, estaba bien con   \n",
      "Reinaldos de Montalbán, y más cuando le veía salir de su castillo \n",
      "y robar cuantos topaba, y cuando en allende robó aquel ídolo  \n",
      "de Mahoma que era todo de oro, según dice su historia. Diera él, \n",
      "por dar una mano de coces al traidor de Galalón, al ama que tenía \n",
      "y aun a su sobrina de añadidura. \n",
      " En efecto, rematado ya su juicio, vino a dar en el más       \n",
      "extraño pensamiento que jamás dio loco en el mundo; y fue \n",
      "que le pareció convenible y necesario, así para el aumento de \n",
      "su honra como para el servicio de su república, hacerse caballero \n",
      "andante, e irse por todo el mundo con sus armas y caballo \n",
      "a buscar las aventuras y a ejercitarse en todo aquello que él  \n",
      "había leído que los caballeros andantes se ejercitaban, deshaciendo \n"
     ]
    }
   ],
   "source": [
    "ts = raw_list[i][begin_index:end_index] \n",
    "ts_list = ts.split('\\n')\n",
    "ts_list_filtered = []\n",
    "qu_list = [0] * len(ts_list)\n",
    "for idx, sent in enumerate(ts_list):\n",
    "    qu_list[idx] = 0\n",
    "    if sent.strip().startswith('¿'):     # remove textbook questions\n",
    "        qu_list[idx] = 1\n",
    "    if re.match(regex, sent.strip()):    # remove textbook questions\n",
    "        qu_list[idx] = 1\n",
    "    if re.match(regex2, sent.strip()):   # remove textbook questions\n",
    "        qu_list[idx] = 1\n",
    "    if sent.strip() == '':               # remove empty strings \n",
    "        qu_list[idx] = 2\n",
    "    if idx> 0 and qu_list[idx-1] == 1 and not(ts_list[idx-1].endswith('.')) and not(ts_list[idx-1].endswith('?')):\n",
    "        qu_list[idx] = 3\n",
    "    if sent.strip().startswith('\"'):\n",
    "        qu_list[idx] = 4\n",
    "    if idx > 0 and qu_list[idx-1] >= 4 and not(sent.strip().endswith('\"')):\n",
    "        qu_list[idx] = 5\n",
    "    if idx > 0 and qu_list[idx-1] >= 4 and sent.strip().endswith('\"'):\n",
    "        qu_list[idx] = 6\n",
    "        \n",
    "    if qu_list[idx] == 0:\n",
    "        ts_list_filtered.append(sent)\n",
    "ts_filtered = '\\n'.join(ts_list_filtered)\n",
    "print(ts_filtered)"
   ]
  },
  {
   "cell_type": "code",
   "execution_count": 6,
   "id": "nonprofit-composition",
   "metadata": {},
   "outputs": [],
   "source": [
    "i = 13\n",
    "if 'BANCO DE PALABRAS ÚTILES' not in raw_list[i]:  # skip End-of-Chapter Questions \n",
    "    if re.search(regex3, raw_list[i]) == None:\n",
    "        begin_index = raw_list[i].find('\\n\\n')\n",
    "        end_index = raw_list[i][:raw_list[i].find('=')+1].rfind('\\n\\n')\n",
    "        end_index_prev = 0 \n",
    "        if raw_list[i][begin_index:begin_index+30].startswith('\\n\\n¿COMPRENDISTE LO QUE LEÍSTE?'):  # we have to skip this section\n",
    "            for match in re.finditer(regex4, raw_list[i]):\n",
    "                begin_index = match.span()[0]\n",
    "            begin_index = raw_list[i].find('\\n\\n', begin_index + 1)\n",
    "            end_index = raw_list[i][begin_index+1:raw_list[i].find('=')+1].rfind('\\n\\n') + begin_index+1\n",
    "        elif begin_index == end_index:                                                 # the page starts with vocabulary list: we have to skip this section\n",
    "            while end_index != -1:\n",
    "                end_index_prev += end_index + 1\n",
    "                end_index = raw_list[i][end_index_prev+1:].find('=')\n",
    "            begin_index = raw_list[i].find('\\n\\n', end_index_prev + 1)\n",
    "            end_index = 1\n",
    "            search_begin_index = begin_index \n",
    "            while end_index > 0:\n",
    "                regex_match = re.search(regex5, raw_list[i][search_begin_index + 1:])\n",
    "                if regex_match:\n",
    "                    end_index = regex_match.span()[0]\n",
    "                    search_begin_index += end_index \n",
    "                else:\n",
    "                    end_index = -1 \n",
    "            end_index = search_begin_index\n",
    "    else:\n",
    "        begin_index = re.search(regex3, raw_list[i]).span()[0]\n",
    "        end_index = raw_list[i][begin_index+1:raw_list[i].find('=')+1].rfind('\\n\\n') + begin_index+1     "
   ]
  },
  {
   "cell_type": "code",
   "execution_count": 9,
   "id": "solid-shift",
   "metadata": {},
   "outputs": [
    {
     "data": {
      "text/plain": [
       "3343"
      ]
     },
     "execution_count": 9,
     "metadata": {},
     "output_type": "execute_result"
    }
   ],
   "source": [
    "len(raw_list[13])"
   ]
  },
  {
   "cell_type": "code",
   "execution_count": 15,
   "id": "abroad-concord",
   "metadata": {},
   "outputs": [
    {
     "data": {
      "text/plain": [
       "'\\n\\ncaballero melindroso, ni tan llorón como su hermano, y que en lo \\nde la valentía no le iba en zaga. \\n \\n En resolución, él se enfrascó tanto en su lectura, que se \\nle pasaban las noches leyendo de claro en claro, y los días de     \\nturbio en turbio; y así, del poco dormir y del mucho leer, se  \\nle secó el cerebro, de manera que vino a perder el juicio.      \\nLlenósele la fantasía de todo aquello que leía en los libros, así de \\nencantamientos como de pendencias, batallas, desafíos, heridas, \\nrequiebros, amores, tormentas y disparates imposibles; y \\nasentósele de tal modo en la imaginación que era verdad toda \\naquella máquina de aquellas sonadas soñadas invenciones que \\nleía, que para él no había otra historia más cierta en el mundo. \\nDecía él que el Cid Ruy Díaz había sido muy buen caballero,   \\npero que no tenía que ver con el Caballero de la Ardiente \\nEspada, que de sólo un revés había partido por medio dos  \\nfieros y descomunales gigantes. Mejor estaba con Bernardo \\ndel Carpio, porque en Roncesvalles había muerto a Roldán, el \\nencantado, valiéndose de la industria de Hércules, cuando ahogó \\na Anteo, el hijo de la Tierra, entre los brazos. Decía mucho bien \\ndel gigante Morgante, porque, con ser de aquella generación  \\ngigantea, que todos son soberbios y descomedidos, él solo  \\nera afable y bien criado. Pero, sobre todos, estaba bien con   \\nReinaldos de Montalbán, y más cuando le veía salir de su castillo \\ny robar cuantos topaba, y cuando en allende robó aquel ídolo  \\nde Mahoma que era todo de oro, según dice su historia. Diera él, \\npor dar una mano de coces al traidor de Galalón, al ama que tenía \\ny aun a su sobrina de añadidura. \\n\\n ¿COMPRENDISTE LO QUE LEÍSTE?    \\n1-B \\n\\n En efecto, rematado ya su juicio, vino a dar en el más       \\nextraño pensamiento que jamás dio loco en el mundo; y fue \\nque le pareció convenible y necesario, así para el aumento de \\nsu honra como para el servicio de su república, hacerse caballero \\nandante, e irse por todo el mundo con sus armas y caballo \\na buscar las aventuras y a ejercitarse en todo aquello que él  \\nhabía leído que los caballeros andantes se ejercitaban, deshaciendo \\n\\n 5.  ¿Con quiénes discute el hidalgo las obras \\nque leía? \\n\\n6.  Nombra tres resultados de sus actividades \\ndiarias y nocturnales. '"
      ]
     },
     "execution_count": 15,
     "metadata": {},
     "output_type": "execute_result"
    }
   ],
   "source": [
    "raw_list[13][begin_index:end_index]"
   ]
  },
  {
   "cell_type": "code",
   "execution_count": 325,
   "id": "forward-future",
   "metadata": {},
   "outputs": [],
   "source": [
    "i = 29\n",
    "ts = raw_list[i][begin_index:end_index]   # main text \n",
    "ts_list = ts.split('\\n')\n",
    "ts_list_filtered = []\n",
    "qu_list = [0] * len(ts_list)\n",
    "for idx, sent in enumerate(ts_list):\n",
    "    qu_list[idx] = 0\n",
    "    if sent.strip() == '' and idx > 0:                                                                        # remove empty strings \n",
    "        qu_list[idx] = qu_list[idx-1]\n",
    "    elif sent.strip().startswith('¿') or re.match(regex, sent.strip()) or re.match(regex2, sent.strip()):     # textbook questions or comments\n",
    "        if sent.strip().endswith('.') or sent.strip().endswith('?'):\n",
    "            qu_list[idx] = 1                                                                                  # question started and ended\n",
    "        else:\n",
    "            qu_list[idx] = 2                                                                                  # question started (not ended)\n",
    "    elif idx > 0 and (qu_list[idx-1] == 2 or qu_list[idx-1] == 3):\n",
    "        if sent.strip().endswith('.') or sent.strip().endswith('?'):\n",
    "            qu_list[idx] = 4                                                                                  # question ended\n",
    "        else:\n",
    "            qu_list[idx] = 3                                                                                  # question continues \n",
    "    \n",
    "    elif sent.strip().startswith('“'):\n",
    "        if sent.strip().endswith('”'):\n",
    "            qu_list[idx] = 5                                                                                  # quotation started and ended\n",
    "        else:\n",
    "            qu_list[idx] = 6                                                                                  # quotation started (not ended)\n",
    "    elif idx > 0 and qu_list[idx-1] == 6 and not(sent.strip().endswith('”')):\n",
    "        qu_list[idx] = 7                                                                                      # quotatoin continues\n",
    "    elif idx > 0 and (qu_list[idx-1] == 6 or qu_list[idx-1] == 7) and sent.strip().endswith('”'):\n",
    "        qu_list[idx] = 8                                                                                      # quotation ended \n",
    "    if idx > 0 and qu_list[idx-1] == 8:\n",
    "        qu_list[idx] = 9\n",
    "        \n",
    "    if qu_list[idx] == 0:\n",
    "        ts_list_filtered.append(sent)\n",
    "    ts_filtered = '\\n'.join(ts_list_filtered)\n",
    "    text_list.append(ts_filtered)"
   ]
  },
  {
   "cell_type": "code",
   "execution_count": 327,
   "id": "upset-quebec",
   "metadata": {},
   "outputs": [
    {
     "name": "stdout",
     "output_type": "stream",
     "text": [
      "\n",
      "\n",
      "don Quijote palabra y sin pedir favor a nadie, soltó otra vez la \n",
      "adarga y alzó otra vez la lanza y, sin hacerla pedazos, hizo más de \n",
      "tres la cabeza del segundo arriero, porque se la abrió por cuatro. \n",
      "Al ruido acudió toda la gente de la venta, y entre ellos el ventero. \n",
      "Viendo esto don Quijote, embrazó su adarga y, puesta mano a su \n",
      "espada, dijo: \n",
      " \n",
      " —¡Oh señora de la fermosura, esfuerzo y vigor del debilitado \n",
      "corazón mío! Ahora es tiempo que vuelvas los ojos de tu grandeza \n",
      "a este tu cautivo caballero, que tamaña aventura está atendiendo. \n",
      "\n",
      "  \n",
      "\n",
      " \n",
      "\n",
      " \n",
      "\n",
      "MONEDAS DEL REINO DE NAVARRA \n",
      "\n",
      " Cervantes compara los cuartos de un real a \n",
      "la apariencia del rocín de Alonso \n",
      "Quijano. \n",
      "\n"
     ]
    }
   ],
   "source": [
    "print(ts_filtered)"
   ]
  },
  {
   "cell_type": "code",
   "execution_count": 323,
   "id": "auburn-brush",
   "metadata": {},
   "outputs": [
    {
     "data": {
      "text/plain": [
       "3"
      ]
     },
     "execution_count": 323,
     "metadata": {},
     "output_type": "execute_result"
    }
   ],
   "source": [
    "sent = ts_list[25]\n",
    "idx = 25\n",
    "if idx> 0 and qu_list[idx-1] == 1 and not(ts_list[idx-1].endswith('.')) and not(ts_list[idx-1].endswith('?')):\n",
    "    qu_list[idx] = 3\n",
    "qu_list[24]"
   ]
  },
  {
   "cell_type": "code",
   "execution_count": 321,
   "id": "universal-rebel",
   "metadata": {},
   "outputs": [
    {
     "name": "stdout",
     "output_type": "stream",
     "text": [
      "0 \n",
      "1 \n",
      "2 don Quijote palabra y sin pedir favor a nadie, soltó otra vez la \n",
      "3 adarga y alzó otra vez la lanza y, sin hacerla pedazos, hizo más de \n",
      "4 tres la cabeza del segundo arriero, porque se la abrió por cuatro. \n",
      "5 Al ruido acudió toda la gente de la venta, y entre ellos el ventero. \n",
      "6 Viendo esto don Quijote, embrazó su adarga y, puesta mano a su \n",
      "7 espada, dijo: \n",
      "8  \n",
      "9  —¡Oh señora de la fermosura, esfuerzo y vigor del debilitado \n",
      "10 corazón mío! Ahora es tiempo que vuelvas los ojos de tu grandeza \n",
      "11 a este tu cautivo caballero, que tamaña aventura está atendiendo. \n",
      "12 \n",
      "13   \n",
      "14 \n",
      "15  \n",
      "16 \n",
      "17  \n",
      "18 \n",
      "19 ¿COMPRENDISTE LO QUE LEÍSTE? 3-A \n",
      "20 29. Describe cómo don Quijote le pide al ventero que lo arme caballero. \n",
      "21 30. Explica cómo reacciona el ventero a su petición. \n",
      "22 31. ¿Dónde quiere velar las armas don Quijote? ¿Por qué?\n",
      "23 32. Cita dónde Cervantes nos indica que el ventero le sigue el humor (o la corriente) a don  \n",
      "24 \n",
      "25 Quijote y explica. \n",
      "26 \n",
      "27 “…asió de su lanza y con gentil continente se comenzó a \n",
      "28 pasear delante de la pila…”      \n",
      "29                                               Don Quijote, Capítulo III \n",
      "30 \n",
      "31  \n",
      "32 \n",
      "33 MONEDAS DEL REINO DE NAVARRA \n",
      "34 \n",
      "35  Cervantes compara los cuartos de un real a \n",
      "36 la apariencia del rocín de Alonso \n",
      "37 Quijano. \n",
      "38 \n",
      "39 33. Según el ventero ¿por qué no\n",
      "40 hay capilla en ese castillo? \n",
      "41 \n",
      "42 34. Antes de que el caballero se\n",
      "43 vaya, ¿qué le pide el ventero\n",
      "44 a don Quijote? \n",
      "45 \n",
      "46 35. Explica la razón por qué don       \n",
      "47 Quijote viaja sin dinero. \n",
      "48 \n",
      "49 36. Haz una lista de los consejos que  \n",
      "50  el ventero le da a don Quijote. \n",
      "51 37. Describe dónde y cómo vela\n",
      "52 \n",
      "53 don Quijote las armas y el\n",
      "54 conflicto que resulta.  \n"
     ]
    }
   ],
   "source": [
    "for i, sent in enumerate(ts_list):\n",
    "    print(i, sent)"
   ]
  },
  {
   "cell_type": "code",
   "execution_count": 318,
   "id": "speaking-worthy",
   "metadata": {},
   "outputs": [
    {
     "name": "stdout",
     "output_type": "stream",
     "text": [
      "\n",
      "\n",
      "don Quijote palabra y sin pedir favor a nadie, soltó otra vez la \n",
      "adarga y alzó otra vez la lanza y, sin hacerla pedazos, hizo más de \n",
      "tres la cabeza del segundo arriero, porque se la abrió por cuatro. \n",
      "Al ruido acudió toda la gente de la venta, y entre ellos el ventero. \n",
      "Viendo esto don Quijote, embrazó su adarga y, puesta mano a su \n",
      "espada, dijo: \n",
      " \n",
      " —¡Oh señora de la fermosura, esfuerzo y vigor del debilitado \n",
      "corazón mío! Ahora es tiempo que vuelvas los ojos de tu grandeza \n",
      "a este tu cautivo caballero, que tamaña aventura está atendiendo. \n",
      "\n",
      "  \n",
      "\n",
      " \n",
      "\n",
      " \n",
      "\n",
      "Quijote y explica. \n",
      "\n"
     ]
    }
   ],
   "source": [
    "print(ts_filtered)"
   ]
  },
  {
   "cell_type": "code",
   "execution_count": 305,
   "id": "extensive-scott",
   "metadata": {},
   "outputs": [
    {
     "name": "stdout",
     "output_type": "stream",
     "text": [
      "0 \n",
      "1 \n",
      "2 don Quijote palabra y sin pedir favor a nadie, soltó otra vez la \n",
      "3 adarga y alzó otra vez la lanza y, sin hacerla pedazos, hizo más de \n",
      "4 tres la cabeza del segundo arriero, porque se la abrió por cuatro. \n",
      "5 Al ruido acudió toda la gente de la venta, y entre ellos el ventero. \n",
      "6 Viendo esto don Quijote, embrazó su adarga y, puesta mano a su \n",
      "7 espada, dijo: \n",
      "8  \n",
      "9  —¡Oh señora de la fermosura, esfuerzo y vigor del debilitado \n",
      "10 corazón mío! Ahora es tiempo que vuelvas los ojos de tu grandeza \n",
      "11 a este tu cautivo caballero, que tamaña aventura está atendiendo. \n",
      "12 \n",
      "13   \n",
      "14 \n",
      "15  \n",
      "16 \n",
      "17  \n",
      "18 \n",
      "19 ¿COMPRENDISTE LO QUE LEÍSTE? 3-A \n",
      "20 29. Describe cómo don Quijote le pide al ventero que lo arme caballero. \n",
      "21 30. Explica cómo reacciona el ventero a su petición. \n",
      "22 31. ¿Dónde quiere velar las armas don Quijote? ¿Por qué?\n",
      "23 32. Cita dónde Cervantes nos indica que el ventero le sigue el humor (o la corriente) a don  \n",
      "24 \n",
      "25 Quijote y explica. \n",
      "26 \n",
      "27 “…asió de su lanza y con gentil continente se comenzó a \n",
      "28 pasear delante de la pila…”      \n",
      "29                                               Don Quijote, Capítulo III \n",
      "30 \n",
      "31  \n",
      "32 \n",
      "33 MONEDAS DEL REINO DE NAVARRA \n",
      "34 \n",
      "35  Cervantes compara los cuartos de un real a \n",
      "36 la apariencia del rocín de Alonso \n",
      "37 Quijano. \n",
      "38 \n",
      "39 33. Según el ventero ¿por qué no\n",
      "40 hay capilla en ese castillo? \n",
      "41 \n",
      "42 34. Antes de que el caballero se\n",
      "43 vaya, ¿qué le pide el ventero\n",
      "44 a don Quijote? \n",
      "45 \n",
      "46 35. Explica la razón por qué don       \n",
      "47 Quijote viaja sin dinero. \n",
      "48 \n",
      "49 36. Haz una lista de los consejos que  \n",
      "50  el ventero le da a don Quijote. \n",
      "51 37. Describe dónde y cómo vela\n",
      "52 \n",
      "53 don Quijote las armas y el\n",
      "54 conflicto que resulta.  \n"
     ]
    }
   ],
   "source": [
    "for i, sent in enumerate(ts_list):\n",
    "    print(i, sent)"
   ]
  },
  {
   "cell_type": "code",
   "execution_count": 7,
   "id": "federal-manual",
   "metadata": {},
   "outputs": [],
   "source": [
    "i = 13\n",
    "regex4 = r'[0-9]+\\.'\n",
    "regex5 = r'\\n+\\s+[0-9]+\\s+\\n+'\n",
    "if 'BANCO DE PALABRAS ÚTILES' not in raw_list[i]:  # skip End-of-Chapter Questions \n",
    "        if re.search(regex3, raw_list[i]) == None:\n",
    "            begin_index = raw_list[i].find('\\n\\n')\n",
    "            end_index = raw_list[i][:raw_list[i].find('=')+1].rfind('\\n\\n')\n",
    "            end_index_prev = 0\n",
    "            if raw_list[i][begin_index:begin_index+30].startswith('\\n\\n¿COMPRENDISTE LO QUE LEÍSTE?'):  # we have to skip this section\n",
    "                for match in re.finditer(regex4, raw_list[i]):\n",
    "                    begin_index = match.span()[0]\n",
    "                begin_index = raw_list[i].find('\\n\\n', begin_index + 1)\n",
    "            elif begin_index == end_index : # starts with vocabulary list \n",
    "                while end_index != -1:\n",
    "                    end_index_prev += end_index + 1\n",
    "                    end_index = raw_list[i][end_index_prev+1:].find('=') \n",
    "                    #print(f'end_index:{ end_index}, end_index_prev: {end_index_prev}')\n",
    "                begin_index = raw_list[i].find('\\n\\n', end_index_prev + 1)\n",
    "                end_index = 1\n",
    "                search_begin_index = begin_index \n",
    "                while end_index > 0:\n",
    "                    regex_match = re.search(regex5, raw_list[i][search_begin_index + 1:])\n",
    "                    if regex_match:\n",
    "                        end_index = regex_match.span()[0]\n",
    "                        search_begin_index += end_index \n",
    "                    else:\n",
    "                        end_index = -1        \n",
    "        else:\n",
    "            begin_index = re.search(regex3, raw_list[i]).span()[0]"
   ]
  },
  {
   "cell_type": "code",
   "execution_count": 8,
   "id": "typical-medline",
   "metadata": {},
   "outputs": [
    {
     "data": {
      "text/plain": [
       "'\\n\\ncaballero melindroso, ni tan llorón como su hermano, y que en lo \\nde la valentía no le iba en zaga. \\n \\n En resolución, él se enfrascó tanto en su lectura, que se \\nle pasaban las noches leyendo de claro en claro, y los días de     \\nturbio en turbio; y así, del poco dormir y del mucho leer, se  \\nle secó el cerebro, de manera que vino a perder el juicio.      \\nLlenósele la fantasía de todo aquello que leía en los libros, así de \\nencantamientos como de pendencias, batallas, desafíos, heridas, \\nrequiebros, amores, tormentas y disparates imposibles; y \\nasentósele de tal modo en la imaginación que era verdad toda \\naquella máquina de aquellas sonadas soñadas invenciones que \\nleía, que para él no había otra historia más cierta en el mundo. \\nDecía él que el Cid Ruy Díaz había sido muy buen caballero,   \\npero que no tenía que ver con el Caballero de la Ardiente \\nEspada, que de sólo un revés había partido por medio dos  \\nfieros y descomunales gigantes. Mejor estaba con Bernardo \\ndel Carpio, porque en Roncesvalles había muerto a Roldán, el \\nencantado, valiéndose de la industria de Hércules, cuando ahogó \\na Anteo, el hijo de la Tierra, entre los brazos. Decía mucho bien \\ndel gigante Morgante, porque, con ser de aquella generación  \\ngigantea, que todos son soberbios y descomedidos, él solo  \\nera afable y bien criado. Pero, sobre todos, estaba bien con   \\nReinaldos de Montalbán, y más cuando le veía salir de su castillo \\ny robar cuantos topaba, y cuando en allende robó aquel ídolo  \\nde Mahoma que era todo de oro, según dice su historia. Diera él, \\npor dar una mano de coces al traidor de Galalón, al ama que tenía \\ny aun a su sobrina de añadidura. \\n\\n ¿COMPRENDISTE LO QUE LEÍSTE?    \\n1-B \\n\\n En efecto, rematado ya su juicio, vino a dar en el más       \\nextraño pensamiento que jamás dio loco en el mundo; y fue \\nque le pareció convenible y necesario, así para el aumento de \\nsu honra como para el servicio de su república, hacerse caballero \\nandante, e irse por todo el mundo con sus armas y caballo \\na buscar las aventuras y a ejercitarse en todo aquello que él  \\nhabía leído que los caballeros andantes se ejercitaban, deshaciendo \\n\\n 5.  ¿Con quiénes discute el hidalgo las obras \\nque leía? \\n\\n6.  Nombra tres resultados de sus actividades \\ndiarias y nocturnales. '"
      ]
     },
     "execution_count": 8,
     "metadata": {},
     "output_type": "execute_result"
    }
   ],
   "source": [
    "raw_list[13][begin_index:end_index]"
   ]
  },
  {
   "cell_type": "code",
   "execution_count": 292,
   "id": "incredible-indication",
   "metadata": {},
   "outputs": [
    {
     "name": "stdout",
     "output_type": "stream",
     "text": [
      "1\n"
     ]
    }
   ],
   "source": [
    "i = 14\n",
    "index = 0\n",
    "find_count = 0\n",
    "find_index = 0\n",
    "search_index = 0\n",
    "while find_index >= 0:\n",
    "    find_index = raw_list[i].find('Capítulo', search_index + 1)\n",
    "    search_index += find_index\n",
    "    if find_index > 0:\n",
    "        find_count += 1\n",
    "    #print(find_index)\n",
    "    #print(search_index)\n",
    "print(find_count)"
   ]
  },
  {
   "cell_type": "code",
   "execution_count": 297,
   "id": "divided-brunei",
   "metadata": {},
   "outputs": [
    {
     "data": {
      "text/plain": [
       "-1"
      ]
     },
     "execution_count": 297,
     "metadata": {},
     "output_type": "execute_result"
    }
   ],
   "source": [
    "raw_list[29].find('Capítulo', search_index + 1)"
   ]
  },
  {
   "cell_type": "code",
   "execution_count": 298,
   "id": "organizational-superior",
   "metadata": {},
   "outputs": [
    {
     "data": {
      "text/plain": [
       "'26   \\n\\ndon Quijote palabra y sin pedir favor a nadie, soltó otra vez la \\nadarga y alzó otra vez la lanza y, sin hacerla pedazos, hizo más de \\ntres la cabeza del segundo arriero, porque se la abrió por cuatro. \\nAl ruido acudió toda la gente de la venta, y entre ellos el ventero. \\nViendo esto don Quijote, embrazó su adarga y, puesta mano a su \\nespada, dijo: \\n \\n —¡Oh señora de la fermosura, esfuerzo y vigor del debilitado \\ncorazón mío! Ahora es tiempo que vuelvas los ojos de tu grandeza \\na este tu cautivo caballero, que tamaña aventura está atendiendo. \\n\\n  \\n\\n \\n\\n \\n\\n¿COMPRENDISTE LO QUE LEÍSTE? 3-A \\n29. Describe cómo don Quijote le pide al ventero que lo arme caballero. \\n30. Explica cómo reacciona el ventero a su petición. \\n31. ¿Dónde quiere velar las armas don Quijote? ¿Por qué?\\n32. Cita dónde Cervantes nos indica que el ventero le sigue el humor (o la corriente) a don  \\n\\nQuijote y explica. \\n\\n“…asió de su lanza y con gentil continente se comenzó a \\npasear delante de la pila…”      \\n                                              Don Quijote, Capítulo III \\n\\n \\n\\nMONEDAS DEL REINO DE NAVARRA \\n\\n Cervantes compara los cuartos de un real a \\nla apariencia del rocín de Alonso \\nQuijano. \\n\\n33. Según el ventero ¿por qué no\\nhay capilla en ese castillo? \\n\\n34. Antes de que el caballero se\\nvaya, ¿qué le pide el ventero\\na don Quijote? \\n\\n35. Explica la razón por qué don       \\nQuijote viaja sin dinero. \\n\\n36. Haz una lista de los consejos que  \\n el ventero le da a don Quijote. \\n37. Describe dónde y cómo vela\\n\\ndon Quijote las armas y el\\nconflicto que resulta.  \\n\\ncautivo=enamorado  \\ntamaña=tan grande\\n\\n\\n\\n CC BY  Arnold/Potter 2017 '"
      ]
     },
     "execution_count": 298,
     "metadata": {},
     "output_type": "execute_result"
    }
   ],
   "source": [
    "raw_list[29]"
   ]
  },
  {
   "cell_type": "code",
   "execution_count": 299,
   "id": "realistic-register",
   "metadata": {},
   "outputs": [
    {
     "name": "stdout",
     "output_type": "stream",
     "text": [
      "don Quijote palabra y sin pedir favor a nadie, soltó otra vez la \n",
      "adarga y alzó otra vez la lanza y, sin hacerla pedazos, hizo más de \n",
      "tres la cabeza del segundo arriero, porque se la abrió por cuatro. \n",
      "Al ruido acudió toda la gente de la venta, y entre ellos el ventero. \n",
      "Viendo esto don Quijote, embrazó su adarga y, puesta mano a su \n",
      "espada, dijo: \n",
      " —¡Oh señora de la fermosura, esfuerzo y vigor del debilitado \n",
      "corazón mío! Ahora es tiempo que vuelvas los ojos de tu grandeza \n",
      "a este tu cautivo caballero, que tamaña aventura está atendiendo. \n",
      "Quijote y explica. \n",
      "“…asió de su lanza y con gentil continente se comenzó a \n",
      "pasear delante de la pila…”      \n",
      "                                              Don Quijote, Capítulo III \n",
      "MONEDAS DEL REINO DE NAVARRA \n",
      " Cervantes compara los cuartos de un real a \n",
      "la apariencia del rocín de Alonso \n",
      "Quijano. \n",
      "a don Quijote? \n",
      "don Quijote las armas y el\n",
      "conflicto que resulta.  \n"
     ]
    }
   ],
   "source": [
    "print(text_list[16])"
   ]
  },
  {
   "cell_type": "code",
   "execution_count": 139,
   "id": "substantial-contractor",
   "metadata": {},
   "outputs": [
    {
     "data": {
      "text/plain": [
       "'25   \\n\\ncorral=sitio para guardar animales \\npila=pieza de piedra donde se pone agua  \\nasió=agarró  \\ncontinente=compostura \\n\\narmazón=de armar \\n\\nsosegado ademán=gesto tranquilo\\narrimado=juntado a \\n\\nAntojósele=Tuvo ganas de \\nrecua=grupo de animales de carga \\nrespecto a sus padrinos \\n\\n \\n\\nse ciñó=se ajustó  \\n \\nse curó=se preocupó \\n \\ncorreas=cinturones  \\ntrecho=lejos  \\n \\n \\nAcorredme=Ayúdame  \\navasallado=sumiso  \\ndesfallezca=falle  \\ntrance=combate  \\namparo=protección  \\n \\nmaltrecho=herido  \\nmaestro=médico \\n \\n \\naturdido=confundido \\n \\ndesembarazar=quitar obstáculos\\n\\n Prometióle don Quijote de hacer lo que se le aconsejaba \\ncon toda puntualidad; y así, se dio luego orden como velase las \\narmas en un corral grande que a un lado de la venta estaba; y, \\nrecogiéndolas don Quijote todas, las puso sobre una pila que \\njunto a un pozo estaba y, embrazando su adarga, asió de su lanza \\ny con gentil continente se comenzó a pasear delante de la pila; y \\ncuando comenzó el paseo comenzaba a cerrar la noche. \\n \\n Contó el ventero a todos cuantos estaban en la venta la locura \\nde su huésped, la vela de las armas y la armazón de caballería \\nque esperaba. Admiráronse de tan estraño género de locura y \\nfuéronselo a mirar desde lejos, y vieron que, con sosegado ademán, \\nunas veces se paseaba; otras, arrimado a su lanza, ponía los ojos \\nen las armas, sin quitarlos por un buen espacio dellas. Acabó de \\ncerrar la noche, pero con tanta claridad de la luna, que podía \\ncompetir con el que se la prestaba, de manera que cuanto el novel \\ncaballero hacía era bien visto de todos. Antojósele en esto a uno \\nde los arrieros que estaban en la venta ir a dar agua a su recua, y \\nfue menester quitar las armas de don Quijote, que estaban sobre la \\npila; el cual, viéndole llegar, en voz alta le dijo: \\n \\n —¡Oh tú, quienquiera que seas, atrevido caballero, que llegas a \\ntocar las armas del más valeroso andante que jamás se ciñó espada!, \\nmira lo que haces y no las toques, si no quieres dejar la vida en \\npago de tu atrevimiento. No se curó el arriero destas razones (y \\nfuera mejor que se curara, porque fuera curarse en salud); antes, \\ntrabando de las correas, las arrojó gran trecho de sí. Lo cual visto \\npor don Quijote, alzó los ojos al cielo y, puesto el pensamiento —a \\nlo que pareció— en su señora Dulcinea, dijo: \\n \\n —Acorredme, señora mía, en esta primera afrenta que a este \\nvuestro avasallado pecho se le ofrece; no me desfallezca en este \\nprimero trance vuestro favor y amparo. \\n \\n Y, diciendo estas y otras semejantes razones, soltando la  \\nadarga, alzó la lanza a dos manos y dio con ella tan gran golpe \\nal arriero en la cabeza, que le derribó en el suelo, tan maltrecho \\nque, si segundara con otro, no tuviera necesidad de maestro \\nque le curara. Hecho esto, recogió sus armas y tornó a pasearse \\ncon el mismo reposo que primero. Desde allí a poco, sin saberse \\nlo que había pasado (porque aún estaba aturdido el arriero), \\nllegó otro con la mesma intención de dar agua a sus mulos; y, \\nllegando a quitar las armas para desembarazar la pila, sin hablar\\n\\n \\n \\n\\n \\n\\n   \\n\\n \\n\\n \\n\\n \\n\\n \\n\\n \\n\\n 90 \\n\\n \\n\\n \\n\\n  \\n\\n \\n\\n \\n\\n \\n\\n \\n\\n \\n\\n \\n\\n100 \\n\\n \\n\\n \\n\\n \\n\\n \\n\\n \\n\\n \\n\\n \\n\\n \\n\\n \\n\\n \\n\\n \\n\\n110 \\n\\n \\n\\n \\n\\n \\n\\n \\n\\n \\n\\n120\\n\\n\\n\\n CC BY  Arnold/Potter 2017 '"
      ]
     },
     "execution_count": 139,
     "metadata": {},
     "output_type": "execute_result"
    }
   ],
   "source": [
    "raw_list[28]"
   ]
  },
  {
   "cell_type": "code",
   "execution_count": 6,
   "id": "fantastic-polyester",
   "metadata": {},
   "outputs": [
    {
     "name": "stdout",
     "output_type": "stream",
     "text": [
      "caballero melindroso, ni tan llorón como su hermano, y que en lo \n",
      "de la valentía no le iba en zaga. \n",
      " En resolución, él se enfrascó tanto en su lectura, que se \n",
      "le pasaban las noches leyendo de claro en claro, y los días de     \n",
      "turbio en turbio; y así, del poco dormir y del mucho leer, se  \n",
      "le secó el cerebro, de manera que vino a perder el juicio.      \n",
      "Llenósele la fantasía de todo aquello que leía en los libros, así de \n",
      "encantamientos como de pendencias, batallas, desafíos, heridas, \n",
      "requiebros, amores, tormentas y disparates imposibles; y \n",
      "asentósele de tal modo en la imaginación que era verdad toda \n",
      "aquella máquina de aquellas sonadas soñadas invenciones que \n",
      "leía, que para él no había otra historia más cierta en el mundo. \n",
      "Decía él que el Cid Ruy Díaz había sido muy buen caballero,   \n",
      "pero que no tenía que ver con el Caballero de la Ardiente \n",
      "Espada, que de sólo un revés había partido por medio dos  \n",
      "fieros y descomunales gigantes. Mejor estaba con Bernardo \n",
      "del Carpio, porque en Roncesvalles había muerto a Roldán, el \n",
      "encantado, valiéndose de la industria de Hércules, cuando ahogó \n",
      "a Anteo, el hijo de la Tierra, entre los brazos. Decía mucho bien \n",
      "del gigante Morgante, porque, con ser de aquella generación  \n",
      "gigantea, que todos son soberbios y descomedidos, él solo  \n",
      "era afable y bien criado. Pero, sobre todos, estaba bien con   \n",
      "Reinaldos de Montalbán, y más cuando le veía salir de su castillo \n",
      "y robar cuantos topaba, y cuando en allende robó aquel ídolo  \n",
      "de Mahoma que era todo de oro, según dice su historia. Diera él, \n",
      "por dar una mano de coces al traidor de Galalón, al ama que tenía \n",
      "y aun a su sobrina de añadidura. \n",
      " En efecto, rematado ya su juicio, vino a dar en el más       \n",
      "extraño pensamiento que jamás dio loco en el mundo; y fue \n",
      "que le pareció convenible y necesario, así para el aumento de \n",
      "su honra como para el servicio de su república, hacerse caballero \n",
      "andante, e irse por todo el mundo con sus armas y caballo \n",
      "a buscar las aventuras y a ejercitarse en todo aquello que él  \n",
      "había leído que los caballeros andantes se ejercitaban, deshaciendo \n"
     ]
    }
   ],
   "source": [
    "i = 2 # 15 for page 25 \n",
    "print(text_list[i])"
   ]
  },
  {
   "cell_type": "code",
   "execution_count": 195,
   "id": "durable-intent",
   "metadata": {},
   "outputs": [
    {
     "name": "stdout",
     "output_type": "stream",
     "text": [
      "8 le da? \n",
      "11 compuesta celada, embrazó su adarga, tomó su lanza y, por la puerta falsa de un \n",
      "12 corral, salió al campo con grandísimo contento…”  \n",
      "17 hecho este discurso, y más cuando halló a quien dar nombre de \n",
      "18 su dama! Y fue, a lo que se cree, que en un lugar cerca del suyo \n",
      "19 había una moza labradora de muy buen parecer, de quien él un \n",
      "20 tiempo anduvo enamorado, aunque, según se entiende, ella jamás \n",
      "21 lo supo, ni le dio cata dello. Llamábase Aldonza Lorenzo, y a \n",
      "22 ésta le pareció ser bien darle título de señora de sus pensamientos; \n",
      "23 y, buscándole nombre que no desdijese mucho del suyo, y que \n",
      "24 tirase y se encaminase al de princesa y gran señora, vino a lla marla \n",
      "25 Dulcinea del Toboso, porque era natural del Toboso; nombre, a su \n",
      "26 parecer, músico y peregrino y significativo, como todos los demás \n",
      "27 que a él y a sus cosas había puesto. \n"
     ]
    }
   ],
   "source": [
    "i = 16\n",
    "begin_index = raw_list[i].find('\\n\\n')\n",
    "end_index = raw_list[i][:raw_list[i].find('=')+1].rfind('\\n\\n')\n",
    "ts = raw_list[i][begin_index:end_index]\n",
    "ts_list = ts.split('\\n')\n",
    "ts_list_filtered = []\n",
    "qu_list = [0] * len(ts_list)\n",
    "for idx, sent in enumerate(ts_list):\n",
    "    qu_list[idx] = 0\n",
    "    if sent.strip().startswith('¿'):\n",
    "        qu_list[idx] = 1\n",
    "    if re.match(regex, sent.strip()):\n",
    "        qu_list[idx] = 1\n",
    "    if re.match(regex2, sent.strip()):\n",
    "        qu_list[idx] = 1\n",
    "    if sent.strip() == '':\n",
    "        qu_list[idx] = 1\n",
    "    if idx> 0 and qu_list[idx-1] == 1 and not(ts_list[idx-1].endswith('.')) and not(ts_list[idx-1].endswith('?')):\n",
    "        qu_list[idx] = 2\n",
    "        \n",
    "    if qu_list[idx] == 0:\n",
    "        print(idx, sent)\n",
    "        ts_list_filtered.append(sent)"
   ]
  },
  {
   "cell_type": "code",
   "execution_count": null,
   "id": "adequate-control",
   "metadata": {},
   "outputs": [],
   "source": []
  },
  {
   "cell_type": "code",
   "execution_count": 193,
   "id": "cubic-orientation",
   "metadata": {},
   "outputs": [
    {
     "data": {
      "text/plain": [
       "['',\n",
       " '',\n",
       " '¿COMPRENDISTE LO QUE LEÍSTE? 1-D ',\n",
       " '12. ¿Cuánto tiempo dura en ponerse un nombre adecuado para su nuevo oficio? ¿Quién le ',\n",
       " '',\n",
       " 'inspira al hidalgo a llamarse don Quijote de la Mancha?  ',\n",
       " '13. Describe a la señora de sus pensamientos. ¿Cómo justifica el hidalgo el nombre que ',\n",
       " '',\n",
       " 'le da? ',\n",
       " '',\n",
       " '“…se armó de todas sus armas, subió sobre Rocinante, puesta su mal ',\n",
       " 'compuesta celada, embrazó su adarga, tomó su lanza y, por la puerta falsa de un ',\n",
       " 'corral, salió al campo con grandísimo contento…”  ',\n",
       " '',\n",
       " '          Don Quijote, El Ingenioso hidalgo don Quijote de la Mancha, Capítulo 2  ',\n",
       " '',\n",
       " ' ¡Oh, cómo se holgó nuestro buen caballero cuando hubo ',\n",
       " 'hecho este discurso, y más cuando halló a quien dar nombre de ',\n",
       " 'su dama! Y fue, a lo que se cree, que en un lugar cerca del suyo ',\n",
       " 'había una moza labradora de muy buen parecer, de quien él un ',\n",
       " 'tiempo anduvo enamorado, aunque, según se entiende, ella jamás ',\n",
       " 'lo supo, ni le dio cata dello. Llamábase Aldonza Lorenzo, y a ',\n",
       " 'ésta le pareció ser bien darle título de señora de sus pensamientos; ',\n",
       " 'y, buscándole nombre que no desdijese mucho del suyo, y que ',\n",
       " 'tirase y se encaminase al de princesa y gran señora, vino a lla marla ',\n",
       " 'Dulcinea del Toboso, porque era natural del Toboso; nombre, a su ',\n",
       " 'parecer, músico y peregrino y significativo, como todos los demás ',\n",
       " 'que a él y a sus cosas había puesto. ',\n",
       " ' ']"
      ]
     },
     "execution_count": 193,
     "metadata": {},
     "output_type": "execute_result"
    }
   ],
   "source": [
    "ts_list"
   ]
  },
  {
   "cell_type": "code",
   "execution_count": 179,
   "id": "changed-little",
   "metadata": {},
   "outputs": [
    {
     "data": {
      "text/plain": [
       "['',\n",
       " '',\n",
       " '',\n",
       " 'deseaba.',\n",
       " ' Puesto nombre, y tan a su gusto, a su caballo, quiso  ',\n",
       " 'ponérsele a sí mismo, y en este pensamiento duró otros ocho  ',\n",
       " 'días, y al cabo se vino a llamar don Quijote; de donde, como  ',\n",
       " 'queda dicho, tomaron ocasión los autores desta tan verdadera ',\n",
       " 'historia que, sin duda, se debía de llamar Quijada, y no Quesada, ',\n",
       " 'como otros quisieron decir. Pero, acordándose que el valeroso  ',\n",
       " 'Amadís no sólo se había contentado con llamarse Amadís  ',\n",
       " 'a secas, sino que añadió el nombre de su reino y patria, por ',\n",
       " 'Hepila famosa, y se llamó Amadís de Gaula, así quiso, como ',\n",
       " 'buen caballero, añadir al suyo el nombre de la suya y llamarse ',\n",
       " 'don Quijote de la Mancha, con que, a su parecer, declaraba muy al  ',\n",
       " 'vivo su linaje y patria, y la honraba con tomar el sobrenombre  ',\n",
       " 'della. ',\n",
       " '                  ',\n",
       " ' Limpias, pues, sus armas, hecho del morrión celada, ',\n",
       " 'puesto nombre a su rocín y confirmándose a sí mismo, se dio a ',\n",
       " 'entender que no le faltaba otra cosa sino buscar una dama de quien ',\n",
       " 'enamorarse; porque el caballero andante sin amores era árbol sin ',\n",
       " 'hojas y sin fruto y cuerpo sin alma. Decíase él: ',\n",
       " ' ',\n",
       " ' —Si yo, por malos de mis pecados, o por mi buena suerte, ',\n",
       " 'me encuentro por ahí con algún gigante, como de ordinario les  ',\n",
       " 'acontece a los caballeros andantes, y le derribo de un encuentro, o le ',\n",
       " 'parto por mitad del cuerpo, o, finalmente, le venzo y le rindo, ',\n",
       " 'rendido.',\n",
       " ' ',\n",
       " ' —Yo, señora, soy el gigante Caraculiambro, señor de la ',\n",
       " 'ínsula Malindrania, a quien venció en singular batalla el jamás  ',\n",
       " 'como se debe alabado caballero don Quijote de la Mancha, el  ',\n",
       " 'cual me mandó que me presentase ante vuestra merced, para  ',\n",
       " 'que la vuestra grandeza disponga de mí a su talante. ']"
      ]
     },
     "execution_count": 179,
     "metadata": {},
     "output_type": "execute_result"
    }
   ],
   "source": [
    "ts_list_filtered"
   ]
  },
  {
   "cell_type": "code",
   "execution_count": 174,
   "id": "physical-carroll",
   "metadata": {},
   "outputs": [
    {
     "data": {
      "text/plain": [
       "[0,\n",
       " 0,\n",
       " 1,\n",
       " 2,\n",
       " 0,\n",
       " 0,\n",
       " 1,\n",
       " 2,\n",
       " 1,\n",
       " 2,\n",
       " 1,\n",
       " 2,\n",
       " 0,\n",
       " 0,\n",
       " 0,\n",
       " 0,\n",
       " 0,\n",
       " 0,\n",
       " 0,\n",
       " 0,\n",
       " 0,\n",
       " 0,\n",
       " 0,\n",
       " 0,\n",
       " 0,\n",
       " 0,\n",
       " 0,\n",
       " 0,\n",
       " 0,\n",
       " 0,\n",
       " 0,\n",
       " 0,\n",
       " 0,\n",
       " 0,\n",
       " 0,\n",
       " 0,\n",
       " 1,\n",
       " 2,\n",
       " 0,\n",
       " 0,\n",
       " 0,\n",
       " 0,\n",
       " 0,\n",
       " 0,\n",
       " 0]"
      ]
     },
     "execution_count": 174,
     "metadata": {},
     "output_type": "execute_result"
    }
   ],
   "source": [
    "qu_list"
   ]
  },
  {
   "cell_type": "code",
   "execution_count": 148,
   "id": "addressed-affiliation",
   "metadata": {},
   "outputs": [
    {
     "data": {
      "text/plain": [
       "47"
      ]
     },
     "execution_count": 148,
     "metadata": {},
     "output_type": "execute_result"
    }
   ],
   "source": [
    "begin_index = raw_list[13].find('\\n\\n')\n",
    "end_index = raw_list[13][:raw_list[13].find('=')+1].rfind('\\n\\n')\n",
    "ts = raw_list[13][begin_index:end_index]\n",
    "ts_list = ts.split('\\n')\n",
    "len(ts_list)"
   ]
  },
  {
   "cell_type": "code",
   "execution_count": 149,
   "id": "spectacular-firmware",
   "metadata": {},
   "outputs": [
    {
     "data": {
      "text/plain": [
       "['',\n",
       " '',\n",
       " 'caballero melindroso, ni tan llorón como su hermano, y que en lo ',\n",
       " 'de la valentía no le iba en zaga. ',\n",
       " ' ',\n",
       " ' En resolución, él se enfrascó tanto en su lectura, que se ',\n",
       " 'le pasaban las noches leyendo de claro en claro, y los días de     ',\n",
       " 'turbio en turbio; y así, del poco dormir y del mucho leer, se  ',\n",
       " 'le secó el cerebro, de manera que vino a perder el juicio.      ',\n",
       " 'Llenósele la fantasía de todo aquello que leía en los libros, así de ',\n",
       " 'encantamientos como de pendencias, batallas, desafíos, heridas, ',\n",
       " 'requiebros, amores, tormentas y disparates imposibles; y ',\n",
       " 'asentósele de tal modo en la imaginación que era verdad toda ',\n",
       " 'aquella máquina de aquellas sonadas soñadas invenciones que ',\n",
       " 'leía, que para él no había otra historia más cierta en el mundo. ',\n",
       " 'Decía él que el Cid Ruy Díaz había sido muy buen caballero,   ',\n",
       " 'pero que no tenía que ver con el Caballero de la Ardiente ',\n",
       " 'Espada, que de sólo un revés había partido por medio dos  ',\n",
       " 'fieros y descomunales gigantes. Mejor estaba con Bernardo ',\n",
       " 'del Carpio, porque en Roncesvalles había muerto a Roldán, el ',\n",
       " 'encantado, valiéndose de la industria de Hércules, cuando ahogó ',\n",
       " 'a Anteo, el hijo de la Tierra, entre los brazos. Decía mucho bien ',\n",
       " 'del gigante Morgante, porque, con ser de aquella generación  ',\n",
       " 'gigantea, que todos son soberbios y descomedidos, él solo  ',\n",
       " 'era afable y bien criado. Pero, sobre todos, estaba bien con   ',\n",
       " 'Reinaldos de Montalbán, y más cuando le veía salir de su castillo ',\n",
       " 'y robar cuantos topaba, y cuando en allende robó aquel ídolo  ',\n",
       " 'de Mahoma que era todo de oro, según dice su historia. Diera él, ',\n",
       " 'por dar una mano de coces al traidor de Galalón, al ama que tenía ',\n",
       " 'y aun a su sobrina de añadidura. ',\n",
       " '',\n",
       " ' ¿COMPRENDISTE LO QUE LEÍSTE?    ',\n",
       " '1-B ',\n",
       " '',\n",
       " ' En efecto, rematado ya su juicio, vino a dar en el más       ',\n",
       " 'extraño pensamiento que jamás dio loco en el mundo; y fue ',\n",
       " 'que le pareció convenible y necesario, así para el aumento de ',\n",
       " 'su honra como para el servicio de su república, hacerse caballero ',\n",
       " 'andante, e irse por todo el mundo con sus armas y caballo ',\n",
       " 'a buscar las aventuras y a ejercitarse en todo aquello que él  ',\n",
       " 'había leído que los caballeros andantes se ejercitaban, deshaciendo ',\n",
       " '',\n",
       " ' 5.  ¿Con quiénes discute el hidalgo las obras ',\n",
       " 'que leía? ',\n",
       " '',\n",
       " '6.  Nombra tres resultados de sus actividades ',\n",
       " 'diarias y nocturnales. ']"
      ]
     },
     "execution_count": 149,
     "metadata": {},
     "output_type": "execute_result"
    }
   ],
   "source": [
    "ts_list"
   ]
  },
  {
   "cell_type": "code",
   "execution_count": 131,
   "id": "generic-computer",
   "metadata": {},
   "outputs": [
    {
     "data": {
      "text/plain": [
       "True"
      ]
     },
     "execution_count": 131,
     "metadata": {},
     "output_type": "execute_result"
    }
   ],
   "source": [
    "ts_list[31].strip().startswith('¿')"
   ]
  },
  {
   "cell_type": "code",
   "execution_count": 134,
   "id": "steady-drama",
   "metadata": {},
   "outputs": [
    {
     "data": {
      "text/plain": [
       "<re.Match object; span=(0, 3), match='5. '>"
      ]
     },
     "execution_count": 134,
     "metadata": {},
     "output_type": "execute_result"
    }
   ],
   "source": [
    "regex = r'[0-9]+\\. '\n",
    "re.match(regex, ts_list[42].strip())"
   ]
  },
  {
   "cell_type": "code",
   "execution_count": 132,
   "id": "weighted-brick",
   "metadata": {},
   "outputs": [
    {
     "data": {
      "text/plain": [
       "'5.  ¿Con quiénes discute el hidalgo las obras'"
      ]
     },
     "execution_count": 132,
     "metadata": {},
     "output_type": "execute_result"
    }
   ],
   "source": [
    "ts_list[42].strip()"
   ]
  },
  {
   "cell_type": "code",
   "execution_count": 68,
   "id": "suitable-staff",
   "metadata": {},
   "outputs": [
    {
     "data": {
      "text/plain": [
       "1450"
      ]
     },
     "execution_count": 68,
     "metadata": {},
     "output_type": "execute_result"
    }
   ],
   "source": [
    "raw_list[11][:raw_list[11].find('=')+1].rfind('\\n\\n')"
   ]
  },
  {
   "cell_type": "code",
   "execution_count": 69,
   "id": "surgical-state",
   "metadata": {},
   "outputs": [
    {
     "data": {
      "text/plain": [
       "'8   \\n\\nCapítulo I \\nQue trata de la condición y ejercicio del famoso\\nhi dalgo don Quijote de la Mancha  \\n                                                                   \\n\\n                                                           \\n de cuyo nombre no \\nquiero acordarme, no ha mucho tiempo que vivía un hidalgo \\nde los de lanza en astillero, adarga antigua, rocín flaco y galgo \\ncorredor. Una olla de algo más vaca que carnero, salpicón las \\nmás noches, duelos y quebrantos los sábados, lentejas los \\nviernes, algún palomino de añadidura los domingos, consumían \\nlas tres partes de su hacienda. El resto della concluían sayo \\nde velarte, calzas de velludo para las fiestas, con sus pantu-\\nflos de lo mesmo, y los días de entresemana se honraba consu \\nvellorí de lo más fino. Tenía en su casa una ama que pasaba  \\nde los cuarenta, y una sobrina que no llegaba a los veinte, y \\nun mozo de campo y plaza, que así ensillaba el rocín como \\ntomaba la podadera. Frisaba la edad de nuestro hidalgo con los  \\ncincuenta años; era de complexión recia, seco de carnes, enjuto de \\nrostro, gran madrugador y amigo de la caza. Quieren decir que tenía el \\nsobrenombre \\nde Quijada o \\nQuesada, que en \\nesto hay alguna  \\ndiferencia en los\\nautores que deste \\ncaso escriben; \\naunque, por\\nconjeturas vero-\\nsímiles, se deja \\nentender que se \\nlla maba Quejana. \\nPero esto importa\\npoco a nuestro  \\ncuento; basta \\nque en la narra-\\nción dél no se \\nsalga un punto \\nde la verdad. '"
      ]
     },
     "execution_count": 69,
     "metadata": {},
     "output_type": "execute_result"
    }
   ],
   "source": [
    "raw_list[11][:1450]"
   ]
  },
  {
   "cell_type": "code",
   "execution_count": null,
   "id": "controlled-worthy",
   "metadata": {},
   "outputs": [],
   "source": []
  }
 ],
 "metadata": {
  "kernelspec": {
   "display_name": "Python 3",
   "language": "python",
   "name": "python3"
  },
  "language_info": {
   "codemirror_mode": {
    "name": "ipython",
    "version": 3
   },
   "file_extension": ".py",
   "mimetype": "text/x-python",
   "name": "python",
   "nbconvert_exporter": "python",
   "pygments_lexer": "ipython3",
   "version": "3.8.3"
  }
 },
 "nbformat": 4,
 "nbformat_minor": 5
}
