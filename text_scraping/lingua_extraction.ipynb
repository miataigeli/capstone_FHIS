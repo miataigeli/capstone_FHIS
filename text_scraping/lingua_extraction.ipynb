{
 "cells": [
  {
   "cell_type": "code",
   "execution_count": 1,
   "id": "norman-weather",
   "metadata": {
    "tags": []
   },
   "outputs": [],
   "source": [
    "# !pip install tika"
   ]
  },
  {
   "cell_type": "code",
   "execution_count": 2,
   "id": "mexican-invitation",
   "metadata": {},
   "outputs": [],
   "source": [
    "import os\n",
    "from tika import parser\n",
    "import re"
   ]
  },
  {
   "cell_type": "code",
   "execution_count": 3,
   "id": "excess-franchise",
   "metadata": {},
   "outputs": [],
   "source": [
    "pdf_dir = \"../lingua_pdfs/\"\n",
    "wb_address = \"https://lingua.com/spanish/reading/#exercises\""
   ]
  },
  {
   "cell_type": "code",
   "execution_count": 4,
   "id": "fifteen-delivery",
   "metadata": {},
   "outputs": [
    {
     "data": {
      "text/plain": [
       "['espanol-texto-abuelo.pdf',\n",
       " 'espanol-texto-barcelona.pdf',\n",
       " 'espanol-texto-casa.pdf',\n",
       " 'espanol-texto-comparaciones.pdf',\n",
       " 'espanol-texto-dia-de-la-hispanidad.pdf',\n",
       " 'espanol-texto-dia.pdf',\n",
       " 'espanol-texto-el-tiempo.pdf',\n",
       " 'espanol-texto-escuela.pdf',\n",
       " 'espanol-texto-familia-pequena.pdf',\n",
       " 'espanol-texto-familia.pdf',\n",
       " 'espanol-texto-hotel.pdf',\n",
       " 'espanol-texto-mejor-amigo.pdf',\n",
       " 'espanol-texto-mi-habitacion.pdf',\n",
       " 'espanol-texto-miembros-de-la-familia.pdf',\n",
       " 'espanol-texto-navidad.pdf',\n",
       " 'espanol-texto-nueva-casa.pdf',\n",
       " 'espanol-texto-parque.pdf',\n",
       " 'espanol-texto-pasatiempos.pdf',\n",
       " 'espanol-texto-perro.pdf',\n",
       " 'espanol-texto-pueblo.pdf',\n",
       " 'espanol-texto-sevilla.pdf',\n",
       " 'espanol-texto-tiempo-libre.pdf',\n",
       " 'espanol-texto-tienda-de-ropa.pdf',\n",
       " 'espanol-texto-topicos-falsos.pdf',\n",
       " 'espanol-texto-viaje-a-roma.pdf']"
      ]
     },
     "execution_count": 4,
     "metadata": {},
     "output_type": "execute_result"
    }
   ],
   "source": [
    "pdf_files = [filename for filename in os.listdir(pdf_dir) if \".pdf\" in filename]\n",
    "pdf_files"
   ]
  },
  {
   "cell_type": "code",
   "execution_count": 5,
   "id": "designed-evanescence",
   "metadata": {},
   "outputs": [],
   "source": [
    "def extract_text(dir_name):\n",
    "    \"\"\"\n",
    "    This function extracts the content of pdf files.\n",
    "    ------------------------------------------\n",
    "    Argument: dir_name: (str) name of the directory which contains the pdf files\n",
    "    returns texts: (list) list of strings where each string is the content of the pdf file.\n",
    "    \"\"\"\n",
    "    texts = []\n",
    "    titles = []\n",
    "    levels = []\n",
    "    pdf_files = [filename for filename in os.listdir(dir_name) if \".pdf\" in filename]\n",
    "    regex = re.compile(r\"\\((.*)\\)\")\n",
    "    for file in pdf_files:\n",
    "        file_name = os.path.join(dir_name, file)\n",
    "        raw = parser.from_file(file_name)\n",
    "        text_content = raw[\"content\"].strip()\n",
    "        text_list = text_content.split(\"\\n\")\n",
    "        text_list = list(filter(lambda e: e != \"\", text_list))\n",
    "        ts = \"\"\n",
    "        for text_string in text_list[2:]:\n",
    "            if \"¿Has entendido\" in text_string:\n",
    "                break\n",
    "            else:\n",
    "                ts += \" \" + text_string\n",
    "\n",
    "        texts.append(ts.strip())\n",
    "        titles.append(text_list[1][:-4].strip())\n",
    "        level = regex.search(raw[\"metadata\"][\"title\"]).group(1)\n",
    "        levels.append(level)\n",
    "    return texts, titles, levels"
   ]
  },
  {
   "cell_type": "code",
   "execution_count": 6,
   "id": "bound-highway",
   "metadata": {},
   "outputs": [
    {
     "name": "stdout",
     "output_type": "stream",
     "text": [
      "1 A2 Mi abuelo Tomás\n",
      "Mi abuelo Tomás tiene ochenta años y vive con nosotros. Tiene buena salud, aunque a veces dice que le duele una pierna, pero camina ágilmente cuando le llaman sus amigos para jugar a las cartas después de comer. Todos los domingos me lleva a ver el futbol y después me compra un helado. En vacaciones siempre viene con nosotros y le gusta mucho ir a la playa, a veces discute con mi padre cuando quiere ir a la montaña. Al final siempre se sale con la suya y mi padre acaba cediendo. Para compensarle siempre nos invita el primer día de vacaciones en un buen restaurante. Quiero mucho a mi abuelo. \n",
      "\n",
      "2 B1 Barcelona\n",
      "Mark está de viaje de negocios en Barcelona. Hoy tuvo un día libre y salió a visitar la ciudad. Primero, caminó por La Rambla, la calle más famosa de Barcelona, llena de gente, tiendas y restaurantes. Se dirigió al Barrio Gótico, uno de los sitios más antiguos y bellos de la ciudad. En la Plaza Sant Jaume observó dos de los edificios más importantes: El Palacio de la Generalitat de Catalunya y el Ayuntamiento. Volvió a La Rambla. Mark tenía hambre y se detuvo a comer unas tapas y beber una cerveza. Continuó hasta la grande y hermosa Plaza de Catalunya. Avanzó por el Paseo de Gràcia hasta llegar a un edificios fuera de lo común Casa Batlló y luego a Casa Milà, diseños del arquitecto Antoni Gaudí. Quiso saber más sobre este famoso arquitecto y se dirigió al Park Güell, donde tomó muchas fotografías. El día se acababa pero antes de volver al hotel, Mark tomó un taxi hacia la Fuente Mágica y disfrutó de un espectáculo de agua y luces. Mark quedó sorprendido con esta gran ciudad y sintió que le faltó tiempo para conocer más lugares interesantes. Se prometió regresar para tomar unas vacaciones con su familia. \n",
      "\n",
      "3 A2 Mi casa\n",
      "Vivo en una casa pequeña pero moderna en el centro de la ciudad. Mi casa tiene dos habitaciones, un baño, una sala de estar, una cocina y una pequeña terraza. Por las tardes, el sol calienta la casa durante horas, así que no suele hacer frío. Mi parte favorita de la casa es la terraza. Allí puedo disfrutar de las vistas de la ciudad y leer en completo silencio. El baño es pequeño e incómodo, pero voy a reformarlo. Cuando vienen mis amigos, nos sentamos todos a charlar en la sala de estar. Hace cuatro años que vivo en esta casa. El edificio es moderno y de construcción reciente. Me gusta mucho el exterior, ya que tiene unos colores muy atractivos y buen aspecto. Desde que llegué a esta casa, vivo solo. El tamaño es perfecto para una persona, pero podría alquilar la segunda habitación a un amigo. No obstante, me gusta vivir solo. Estoy contento en esta casa, y no pienso irme por ahora. Tengo el espacio necesario para mí, y la cocina está muy bien equipada. Me gusta cocinar todo tipo de platos, y comer en la sala de estar mientras veo la tele. \n",
      "\n",
      "4 B1 Comparaciones\n",
      "No sé qué ropa ponerme. Ahora hace calor, pero después hará más frío. ¿Qué me pongo? ¿Pantalón corto o pantalón largo? Creo que la mejor opción es el largo porque estaré fuera todo el día. Hoy me voy a comprar un vehículo, pero no sé cuál elegir. Me gustan tanto los coches como las motos. Sin embargo, las motos son más económicas que los coches, aunque menos seguras. No sé qué hacer. Quiero un vehículo confortable y bonito, ¡el más bonito de todos! Después iré a un cursillo de pintura. Conoceré las obras de muchos pintores antiguos y las de otros más modernos. También practicaré tanto pintura al óleo como acuarela. Por la tarde volveré a casa cansado, pero más feliz que por la mañana. Además, en casa tengo dos animales de compañía muy simpáticos, aunque poco tranquilos. Tengo un perro muy grande y un pájaro de color verde. El pájaro es mucho más pequeño que el perro. Los dos son muy inteligentes y juegan muchísimo entre ellos. Todavía son jóvenes, aunque el perro es dos años más viejo que el pájaro. Me encanta ver la televisión con ellos para saber qué cosas pasan en el mundo. Nos sentamos todos en el sofá y somos muy felices. \n",
      "\n",
      "5 B1 El día de la Hispanidad\n",
      "El 12 de octubre es el día de la Hispanidad que celebra el descubrimiento de América en 1492. Este día coincide con la fiesta de la Virgen María del Pilar, que es el patrona de España. Actualmente, la Hispanidad se celebra dentro y fuera de España, aunque es una de las fiestas que más polémica generan. En muchos países de Latinoamérica el descubrimiento de América se asocia al comienzo de la colonización española y a la destrucción de las culturas locales nativas. Por este motivo, en América del Sur la fiesta se percibe como una reivindicación. En España la Hispanidad se festeja con un desfile militar y una recepción, encabezada por los Reyes, para el cuerpo diplomático en el Palacio Real. \n",
      "\n",
      "6 A1 Mi día\n",
      "Me llamo María Pérez y tengo diecinueve años. Nací en Málaga, pero vivo en Granada. Soy estudiante de primer curso de Periodismo. De lunes a viernes me levanto a las siete y media, desayuno y camino hasta la universidad. Entro en clase a las nueve y salgo a la una. Al medio día, como en mi casa y veo la televisión. Por la tarde, estudio hasta las siete y después quedo con mis amigas. A nosotras nos gusta mucho el cine, el teatro y la música. Los viernes por la noche cenamos pizza y bailamos en la discoteca. Todos los sábados visito a mi familia en Málaga. El domingo por la tarde regreso a Granada y, si hace sol, salgo con mi perro a dar un paseo. ¡Me encantan los animales! \n",
      "\n",
      "7 A2 El tiempo\n",
      "Hoy hace mucho frío. Es invierno y todas las calles están cubiertas de nieve. Dentro de poco vendrá la primavera y con ella el sol y el tiempo cálido. La semana pasada estuvo de lluvia y tormenta. Incluso un rayo cayó encima de la campana de la catedral, pero no ocurrió nada. Los truenos siempre me han dado miedo y mucho respeto. Pero tenemos suerte... pues la previsión del tiempo para mañana es muy buena. Dicen que hoy habrá heladas y por la tarde granizo, pero mañana el día será soleado. A ver si tengo suerte y veo algún arcoíris. Tengo amigos que ahora mismo están en Brasil. Allí el tiempo es muy diferente. La atmósfera está más caliente porque están en verano. Aunque dicen que ayer hizo mucho viento. Sin embargo, aquí todo está cubierto de nubes, ¡incluso ayer la niebla cubría las casas! No se veía nada. También tenemos que tener cuidado con el hielo, se resbala fácilmente en él. A poca gente le gusta la lluvia, ¡pero es muy necesaria para vivir! Pero pronto vendrá el sol y cesará el mal tiempo. \n",
      "\n"
     ]
    }
   ],
   "source": [
    "texts, titles, levels = extract_text(pdf_dir)\n",
    "for i, ts in enumerate(texts):\n",
    "    print(f\"{i+1} {levels[i]} {titles[i]}\\n{ts} \\n\")\n",
    "    if i == 6:\n",
    "        break"
   ]
  },
  {
   "cell_type": "code",
   "execution_count": 7,
   "id": "fifteen-vermont",
   "metadata": {},
   "outputs": [],
   "source": [
    "# Creating a json file\n",
    "\n",
    "import json\n",
    "\n",
    "SOURCE = wb_address\n",
    "AUTHOR = \"\"\n",
    "dict_list = []\n",
    "\n",
    "for i in range(len(texts)):\n",
    "    story_data = {}\n",
    "    story_data[\"source\"] = SOURCE\n",
    "    story_data[\"author\"] = AUTHOR\n",
    "    story_data[\"title\"] = titles[i]\n",
    "    story_data[\"level\"] = levels[i]\n",
    "    story_data[\"content\"] = texts[i]\n",
    "    dict_list.append(story_data)\n",
    "\n",
    "with open(\"../corpus/lingua.json\", \"w\", encoding=\"utf-8\") as outfile:\n",
    "    json.dump(dict_list, outfile)"
   ]
  },
  {
   "cell_type": "code",
   "execution_count": 8,
   "id": "stuck-collaboration",
   "metadata": {},
   "outputs": [
    {
     "name": "stdout",
     "output_type": "stream",
     "text": [
      "<class 'list'>\n",
      "25\n",
      "<class 'dict'>\n",
      "{'source': 'https://lingua.com/spanish/reading/#exercises', 'author': '', 'title': 'Mi abuelo Tomás', 'level': 'A2', 'content': 'Mi abuelo Tomás tiene ochenta años y vive con nosotros. Tiene buena salud, aunque a veces dice que le duele una pierna, pero camina ágilmente cuando le llaman sus amigos para jugar a las cartas después de comer. Todos los domingos me lleva a ver el futbol y después me compra un helado. En vacaciones siempre viene con nosotros y le gusta mucho ir a la playa, a veces discute con mi padre cuando quiere ir a la montaña. Al final siempre se sale con la suya y mi padre acaba cediendo. Para compensarle siempre nos invita el primer día de vacaciones en un buen restaurante. Quiero mucho a mi abuelo.'} \n",
      "\n",
      "Mi abuelo Tomás tiene ochenta años y vive con nosotros. Tiene buena salud, aunque a veces dice que le duele una pierna, pero camina ágilmente cuando le llaman sus amigos para jugar a las cartas después de comer. Todos los domingos me lleva a ver el futbol y después me compra un helado. En vacaciones siempre viene con nosotros y le gusta mucho ir a la playa, a veces discute con mi padre cuando quiere ir a la montaña. Al final siempre se sale con la suya y mi padre acaba cediendo. Para compensarle siempre nos invita el primer día de vacaciones en un buen restaurante. Quiero mucho a mi abuelo.\n"
     ]
    }
   ],
   "source": [
    "# Ensure that we can read the data file\n",
    "\n",
    "with open(\"../corpus/lingua.json\", \"r\", encoding=\"utf-8\") as json_file:\n",
    "    data = json.load(json_file)\n",
    "\n",
    "print(type(data))\n",
    "print(len(data))\n",
    "print(type(data[0]))\n",
    "print(data[0], \"\\n\")\n",
    "print(data[0][\"content\"])"
   ]
  },
  {
   "cell_type": "code",
   "execution_count": 9,
   "id": "blond-integer",
   "metadata": {},
   "outputs": [
    {
     "name": "stdout",
     "output_type": "stream",
     "text": [
      "A2\n",
      "Mi abuelo Tomás\n",
      "Mi abuelo Tomás tiene ochenta años y vive con nosotros. Tiene buena salud, aunque a veces dice que le duele una pierna, pero camina ágilmente cuando le llaman sus amigos para jugar a las cartas después de comer. Todos los domingos me lleva a ver el futbol y después me compra un helado. En vacaciones siempre viene con nosotros y le gusta mucho ir a la playa, a veces discute con mi padre cuando quiere ir a la montaña. Al final siempre se sale con la suya y mi padre acaba cediendo. Para compensarle siempre nos invita el primer día de vacaciones en un buen restaurante. Quiero mucho a mi abuelo.\n",
      "\n",
      "B1\n",
      "Barcelona\n",
      "Mark está de viaje de negocios en Barcelona. Hoy tuvo un día libre y salió a visitar la ciudad. Primero, caminó por La Rambla, la calle más famosa de Barcelona, llena de gente, tiendas y restaurantes. Se dirigió al Barrio Gótico, uno de los sitios más antiguos y bellos de la ciudad. En la Plaza Sant Jaume observó dos de los edificios más importantes: El Palacio de la Generalitat de Catalunya y el Ayuntamiento. Volvió a La Rambla. Mark tenía hambre y se detuvo a comer unas tapas y beber una cerveza. Continuó hasta la grande y hermosa Plaza de Catalunya. Avanzó por el Paseo de Gràcia hasta llegar a un edificios fuera de lo común Casa Batlló y luego a Casa Milà, diseños del arquitecto Antoni Gaudí. Quiso saber más sobre este famoso arquitecto y se dirigió al Park Güell, donde tomó muchas fotografías. El día se acababa pero antes de volver al hotel, Mark tomó un taxi hacia la Fuente Mágica y disfrutó de un espectáculo de agua y luces. Mark quedó sorprendido con esta gran ciudad y sintió que le faltó tiempo para conocer más lugares interesantes. Se prometió regresar para tomar unas vacaciones con su familia.\n",
      "\n",
      "A2\n",
      "Mi casa\n",
      "Vivo en una casa pequeña pero moderna en el centro de la ciudad. Mi casa tiene dos habitaciones, un baño, una sala de estar, una cocina y una pequeña terraza. Por las tardes, el sol calienta la casa durante horas, así que no suele hacer frío. Mi parte favorita de la casa es la terraza. Allí puedo disfrutar de las vistas de la ciudad y leer en completo silencio. El baño es pequeño e incómodo, pero voy a reformarlo. Cuando vienen mis amigos, nos sentamos todos a charlar en la sala de estar. Hace cuatro años que vivo en esta casa. El edificio es moderno y de construcción reciente. Me gusta mucho el exterior, ya que tiene unos colores muy atractivos y buen aspecto. Desde que llegué a esta casa, vivo solo. El tamaño es perfecto para una persona, pero podría alquilar la segunda habitación a un amigo. No obstante, me gusta vivir solo. Estoy contento en esta casa, y no pienso irme por ahora. Tengo el espacio necesario para mí, y la cocina está muy bien equipada. Me gusta cocinar todo tipo de platos, y comer en la sala de estar mientras veo la tele.\n",
      "\n",
      "B1\n",
      "Comparaciones\n",
      "No sé qué ropa ponerme. Ahora hace calor, pero después hará más frío. ¿Qué me pongo? ¿Pantalón corto o pantalón largo? Creo que la mejor opción es el largo porque estaré fuera todo el día. Hoy me voy a comprar un vehículo, pero no sé cuál elegir. Me gustan tanto los coches como las motos. Sin embargo, las motos son más económicas que los coches, aunque menos seguras. No sé qué hacer. Quiero un vehículo confortable y bonito, ¡el más bonito de todos! Después iré a un cursillo de pintura. Conoceré las obras de muchos pintores antiguos y las de otros más modernos. También practicaré tanto pintura al óleo como acuarela. Por la tarde volveré a casa cansado, pero más feliz que por la mañana. Además, en casa tengo dos animales de compañía muy simpáticos, aunque poco tranquilos. Tengo un perro muy grande y un pájaro de color verde. El pájaro es mucho más pequeño que el perro. Los dos son muy inteligentes y juegan muchísimo entre ellos. Todavía son jóvenes, aunque el perro es dos años más viejo que el pájaro. Me encanta ver la televisión con ellos para saber qué cosas pasan en el mundo. Nos sentamos todos en el sofá y somos muy felices.\n",
      "\n",
      "B1\n",
      "El día de la Hispanidad\n",
      "El 12 de octubre es el día de la Hispanidad que celebra el descubrimiento de América en 1492. Este día coincide con la fiesta de la Virgen María del Pilar, que es el patrona de España. Actualmente, la Hispanidad se celebra dentro y fuera de España, aunque es una de las fiestas que más polémica generan. En muchos países de Latinoamérica el descubrimiento de América se asocia al comienzo de la colonización española y a la destrucción de las culturas locales nativas. Por este motivo, en América del Sur la fiesta se percibe como una reivindicación. En España la Hispanidad se festeja con un desfile militar y una recepción, encabezada por los Reyes, para el cuerpo diplomático en el Palacio Real.\n",
      "\n",
      "A1\n",
      "Mi día\n",
      "Me llamo María Pérez y tengo diecinueve años. Nací en Málaga, pero vivo en Granada. Soy estudiante de primer curso de Periodismo. De lunes a viernes me levanto a las siete y media, desayuno y camino hasta la universidad. Entro en clase a las nueve y salgo a la una. Al medio día, como en mi casa y veo la televisión. Por la tarde, estudio hasta las siete y después quedo con mis amigas. A nosotras nos gusta mucho el cine, el teatro y la música. Los viernes por la noche cenamos pizza y bailamos en la discoteca. Todos los sábados visito a mi familia en Málaga. El domingo por la tarde regreso a Granada y, si hace sol, salgo con mi perro a dar un paseo. ¡Me encantan los animales!\n",
      "\n",
      "A2\n",
      "El tiempo\n",
      "Hoy hace mucho frío. Es invierno y todas las calles están cubiertas de nieve. Dentro de poco vendrá la primavera y con ella el sol y el tiempo cálido. La semana pasada estuvo de lluvia y tormenta. Incluso un rayo cayó encima de la campana de la catedral, pero no ocurrió nada. Los truenos siempre me han dado miedo y mucho respeto. Pero tenemos suerte... pues la previsión del tiempo para mañana es muy buena. Dicen que hoy habrá heladas y por la tarde granizo, pero mañana el día será soleado. A ver si tengo suerte y veo algún arcoíris. Tengo amigos que ahora mismo están en Brasil. Allí el tiempo es muy diferente. La atmósfera está más caliente porque están en verano. Aunque dicen que ayer hizo mucho viento. Sin embargo, aquí todo está cubierto de nubes, ¡incluso ayer la niebla cubría las casas! No se veía nada. También tenemos que tener cuidado con el hielo, se resbala fácilmente en él. A poca gente le gusta la lluvia, ¡pero es muy necesaria para vivir! Pero pronto vendrá el sol y cesará el mal tiempo.\n",
      "\n"
     ]
    }
   ],
   "source": [
    "for i in range(7):\n",
    "    print(f\"{data[i]['level']}\\n{data[i]['title']}\\n{data[i]['content']}\\n\")"
   ]
  }
 ],
 "metadata": {
  "kernelspec": {
   "display_name": "Python 3",
   "language": "python",
   "name": "python3"
  },
  "language_info": {
   "codemirror_mode": {
    "name": "ipython",
    "version": 3
   },
   "file_extension": ".py",
   "mimetype": "text/x-python",
   "name": "python",
   "nbconvert_exporter": "python",
   "pygments_lexer": "ipython3",
   "version": "3.8.3"
  }
 },
 "nbformat": 4,
 "nbformat_minor": 5
}
