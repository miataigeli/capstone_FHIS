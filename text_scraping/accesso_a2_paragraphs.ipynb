{
 "cells": [
  {
   "cell_type": "code",
   "execution_count": 13,
   "id": "chinese-unemployment",
   "metadata": {},
   "outputs": [],
   "source": [
    "## texts from https://espanolabierto.org/acceso/\n",
    "## https://docs.google.com/document/d/1PyJmfoHwYzB_RVJ8wPtsTS0_tc_P6HliH3ItCxt2FiM/edit\n",
    "\n",
    "ch1 = 'Has vendido un nuevo producto que es muy popular dentro de tu escuela. Ahora quieres expandir tu negocio dentro de tu comunidad enfocándote en la venta a un público adulto. Para poder lograr este objetivo decides hacer una investigación por internet sobre cómo poder llegar a este público. En tu investigación encuentras información sobre las diferencias generacionales que existen y cómo afectan la mercadotecnia. Para comprobar que lo que has encontrado es cierto, decides preguntar a diferentes miembros de tu comunidad acerca de su opinión sobre el tema y de cuáles son sus preferencias con respecto a la compra de productos. Al final de tu trabajo, decides crear un corte publicitario donde promocionas tu producto, tomando en cuenta lo que aprendiste sobre las diferencias generacionales.'"
   ]
  },
  {
   "cell_type": "code",
   "execution_count": 14,
   "id": "distinct-tribe",
   "metadata": {},
   "outputs": [],
   "source": [
    "ch2 = 'En la escuela siempre escuchas lo mismo de los consejeros y los maestros, “Si quieren tener éxito, tienen que ir a la universidad.”  Ahora que eres más grande, has visto que la mayoría de los trabajos disponibles en tu comunidad, por ejemplo trabajar en un restaurante, en una fábrica o en una tienda, no pagan tan bien.  Ya sabes que ir a un community college o una universidad será la mejor opción para tener un futuro estable y ganar más dinero para apoyar a tu familia. Un día, expresaste tu deseo de estudiar más allá de la preparatoria y tus padres creen que es buena idea, no obstante, no te pueden apoyar con ayuda financiera.  La manera de pagar los estudios, la tienes que encontrar tú.  Por eso, haces investigación por internet y encuentras un folleto y un video para estudiantes tejanos con información de cómo adquirir ayuda financiera para asistir a la universidad.   La información que se presenta en el folleto y el video la comentas con un compañero, expresando tus preferencias sobre la ayuda financiera y le aconsejas sobre cómo puede pagar sus estudios.  Después de conversar, sabiendo que hay muchos estudiantes en su escuela que se enfrentan con la misma situación, deciden crear un video especial para inspirarlos y conectarlos con la información que necesitan para empezar la búsqueda de ayuda financiera para asistir a una community college o una universidad.'"
   ]
  },
  {
   "cell_type": "code",
   "execution_count": 15,
   "id": "eight-buffalo",
   "metadata": {},
   "outputs": [],
   "source": [
    "ch3 = 'Durante este año escolar has notado que muchos de tus compañeros han estado buscando información sobre posibles carreras en las que podrían tener éxito en su vida.  Esta situación te lleva a pensar qué es lo que tú quisieras hacer en tu futuro y empiezas a buscar información de carreras por internet. Encuentras un par de sitios con información sobre las carreras que se encuentran en demanda en los Estados Unidos así como datos sobre los salarios que estas carreras ofrecen en el mundo actual.  Después de aprender esta nueva información, le escribes un correo electrónico a tu consejero de la escuela para decirle cuál es la carrera que te interesa y le preguntas cómo puedes prepararte para esa carrera.  Compartes esta información con tu amigo en la cafetería y le preguntas en cuál carrera o profesión está él/ella interesado/a.  Después de compartir tu información con tu consejero, él piensa que sería una genial idea si más estudiantes comparten información sobre las carreras en las que ellos están interesados, compartiendo estos datos en la página web de la escuela, así como en el boletín de los consejeros para los padres de familia. '"
   ]
  },
  {
   "cell_type": "code",
   "execution_count": 16,
   "id": "equivalent-dairy",
   "metadata": {},
   "outputs": [],
   "source": [
    "ch4 = 'Durante un debate en la escuela sobre política, notaste que no mucho se ha dicho desde la perspectiva hispana a nivel estatal. Al conocer este hecho, has decidido averiguar más sobre la situación política de los hispanos en el estado de Texas. En tu investigación, has encontrado un artículo y un video que tratan de la participación electoral de la comunidad hispana en el estado. Decides compartir la información con tus amigos de la escuela e intercambiar ideas para poder crear una campaña de concientización en la comunidad para aumentar el voto latino en el estado. '"
   ]
  },
  {
   "cell_type": "code",
   "execution_count": 17,
   "id": "protected-nepal",
   "metadata": {},
   "outputs": [
    {
     "name": "stdout",
     "output_type": "stream",
     "text": [
      "Has vendido un nuevo producto que es muy popular dentro de tu escuela. Ahora quieres expandir tu negocio dentro de tu comunidad enfocándote en la venta a un público adulto. Para poder lograr este objetivo decides hacer una investigación por internet sobre cómo poder llegar a este público. En tu investigación encuentras información sobre las diferencias generacionales que existen y cómo afectan la mercadotecnia. Para comprobar que lo que has encontrado es cierto, decides preguntar a diferentes miembros de tu comunidad acerca de su opinión sobre el tema y de cuáles son sus preferencias con respecto a la compra de productos. Al final de tu trabajo, decides crear un corte publicitario donde promocionas tu producto, tomando en cuenta lo que aprendiste sobre las diferencias generacionales.\n",
      "\n",
      "\n",
      "En la escuela siempre escuchas lo mismo de los consejeros y los maestros, “Si quieren tener éxito, tienen que ir a la universidad.”  Ahora que eres más grande, has visto que la mayoría de los trabajos disponibles en tu comunidad, por ejemplo trabajar en un restaurante, en una fábrica o en una tienda, no pagan tan bien.  Ya sabes que ir a un community college o una universidad será la mejor opción para tener un futuro estable y ganar más dinero para apoyar a tu familia. Un día, expresaste tu deseo de estudiar más allá de la preparatoria y tus padres creen que es buena idea, no obstante, no te pueden apoyar con ayuda financiera.  La manera de pagar los estudios, la tienes que encontrar tú.  Por eso, haces investigación por internet y encuentras un folleto y un video para estudiantes tejanos con información de cómo adquirir ayuda financiera para asistir a la universidad.   La información que se presenta en el folleto y el video la comentas con un compañero, expresando tus preferencias sobre la ayuda financiera y le aconsejas sobre cómo puede pagar sus estudios.  Después de conversar, sabiendo que hay muchos estudiantes en su escuela que se enfrentan con la misma situación, deciden crear un video especial para inspirarlos y conectarlos con la información que necesitan para empezar la búsqueda de ayuda financiera para asistir a una community college o una universidad.\n",
      "\n",
      "\n",
      "Durante este año escolar has notado que muchos de tus compañeros han estado buscando información sobre posibles carreras en las que podrían tener éxito en su vida.  Esta situación te lleva a pensar qué es lo que tú quisieras hacer en tu futuro y empiezas a buscar información de carreras por internet. Encuentras un par de sitios con información sobre las carreras que se encuentran en demanda en los Estados Unidos así como datos sobre los salarios que estas carreras ofrecen en el mundo actual.  Después de aprender esta nueva información, le escribes un correo electrónico a tu consejero de la escuela para decirle cuál es la carrera que te interesa y le preguntas cómo puedes prepararte para esa carrera.  Compartes esta información con tu amigo en la cafetería y le preguntas en cuál carrera o profesión está él/ella interesado/a.  Después de compartir tu información con tu consejero, él piensa que sería una genial idea si más estudiantes comparten información sobre las carreras en las que ellos están interesados, compartiendo estos datos en la página web de la escuela, así como en el boletín de los consejeros para los padres de familia. \n",
      "\n",
      "\n",
      "Durante un debate en la escuela sobre política, notaste que no mucho se ha dicho desde la perspectiva hispana a nivel estatal. Al conocer este hecho, has decidido averiguar más sobre la situación política de los hispanos en el estado de Texas. En tu investigación, has encontrado un artículo y un video que tratan de la participación electoral de la comunidad hispana en el estado. Decides compartir la información con tus amigos de la escuela e intercambiar ideas para poder crear una campaña de concientización en la comunidad para aumentar el voto latino en el estado. \n"
     ]
    }
   ],
   "source": [
    "print(ch1)\n",
    "print('\\n')\n",
    "print(ch2)\n",
    "print('\\n')\n",
    "print(ch3)\n",
    "print('\\n')\n",
    "print(ch4)"
   ]
  }
 ],
 "metadata": {
  "kernelspec": {
   "display_name": "Python 3",
   "language": "python",
   "name": "python3"
  },
  "language_info": {
   "codemirror_mode": {
    "name": "ipython",
    "version": 3
   },
   "file_extension": ".py",
   "mimetype": "text/x-python",
   "name": "python",
   "nbconvert_exporter": "python",
   "pygments_lexer": "ipython3",
   "version": "3.8.3"
  }
 },
 "nbformat": 4,
 "nbformat_minor": 5
}
