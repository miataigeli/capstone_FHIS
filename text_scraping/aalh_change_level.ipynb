{
 "cells": [
  {
   "cell_type": "code",
   "execution_count": 7,
   "id": "aa9ac518",
   "metadata": {},
   "outputs": [],
   "source": [
    "import os\n",
    "import json"
   ]
  },
  {
   "cell_type": "code",
   "execution_count": 8,
   "id": "a6d9c360",
   "metadata": {},
   "outputs": [],
   "source": [
    "# read train and val data\n",
    "with open(os.path.abspath('../data/train.json'), 'r') as f:\n",
    "    train = json.load(f)\n",
    "with open(os.path.abspath('../data/val.json'), 'r') as f:\n",
    "    val = json.load(f)"
   ]
  },
  {
   "cell_type": "code",
   "execution_count": 9,
   "id": "b06908d7",
   "metadata": {},
   "outputs": [],
   "source": [
    "for text in train:\n",
    "    if 'aalh' in text['source']:\n",
    "        text['level'] = 'B2'\n",
    "for text in val:\n",
    "    if 'aalh' in text['source']:\n",
    "        text['level'] = 'B2'"
   ]
  },
  {
   "cell_type": "code",
   "execution_count": 11,
   "id": "d64fce38",
   "metadata": {},
   "outputs": [],
   "source": [
    "# write to file\n",
    "with open('../data/train.json', 'w', encoding='utf-8') as fout:\n",
    "    json.dump(train, fout)\n",
    "with open('../data/val.json', 'w', encoding='utf-8') as fout:\n",
    "    json.dump(val, fout)"
   ]
  },
  {
   "cell_type": "code",
   "execution_count": 12,
   "id": "89b9eb98",
   "metadata": {},
   "outputs": [],
   "source": [
    "# read from corpus\n",
    "with open(os.path.abspath('../corpus/aalh.json'), 'r') as f:\n",
    "    aalh = json.load(f)\n",
    "\n",
    "for text in aalh:\n",
    "    text['level'] = 'B2'\n",
    "\n",
    "with open('../corpus/aalh.json', 'w', encoding='utf-8') as fout:\n",
    "    json.dump(aalh, fout)"
   ]
  },
  {
   "cell_type": "code",
   "execution_count": null,
   "id": "cb58be3f",
   "metadata": {},
   "outputs": [],
   "source": []
  }
 ],
 "metadata": {
  "kernelspec": {
   "display_name": "nlp",
   "language": "python",
   "name": "nlp"
  },
  "language_info": {
   "codemirror_mode": {
    "name": "ipython",
    "version": 3
   },
   "file_extension": ".py",
   "mimetype": "text/x-python",
   "name": "python",
   "nbconvert_exporter": "python",
   "pygments_lexer": "ipython3",
   "version": "3.9.2"
  }
 },
 "nbformat": 4,
 "nbformat_minor": 5
}
